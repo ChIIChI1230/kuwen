{
 "cells": [
  {
   "cell_type": "code",
   "execution_count": 1,
   "metadata": {},
   "outputs": [],
   "source": [
    "DEEPSEEK_API_KEY = 'sk-006151880202441eb4718f3f712fd48a'"
   ]
  },
  {
   "cell_type": "markdown",
   "metadata": {},
   "source": [
    "# 1. 处理训练数据\n",
    "## 1.1 数据读取"
   ]
  },
  {
   "cell_type": "code",
   "execution_count": 2,
   "metadata": {},
   "outputs": [],
   "source": [
    "# 读取参考数据集\n",
    "import json,time\n",
    "from functools import reduce\n",
    "novel_data = []\n",
    "with open('./参考数据集.json', 'r',encoding='utf-8') as file:\n",
    "    for line in file:\n",
    "        novel_data.append(json.loads(line))"
   ]
  },
  {
   "cell_type": "code",
   "execution_count": 3,
   "metadata": {},
   "outputs": [
    {
     "name": "stdout",
     "output_type": "stream",
     "text": [
      "《三国演义》的字数为： 593514 字\n",
      "《水浒传》的字数为： 838774 字\n",
      "《儒林外史》的字数为： 327064 字\n",
      "《呼啸山庄》的字数为： 215931 字\n",
      "《百年孤独》的字数为： 246912 字\n",
      "《西游记》的字数为： 714847 字\n",
      "《红与黑》的字数为： 361019 字\n",
      "《战争与和平》的字数为： 1056718 字\n",
      "《聊斋志异》的字数为： 384606 字\n",
      "《醒世恒言》的字数为： 328581 字\n",
      "《傲慢与偏见》的字数为： 218614 字\n",
      "《红楼梦》的字数为： 789372 字\n",
      "《隋唐演义》的字数为： 636063 字\n",
      "《封神演义》的字数为： 588226 字\n",
      "《拍案惊奇》的字数为： 238248 字\n",
      "《尤利西斯》的字数为： 363155 字\n",
      "《福尔摩斯探案集》的字数为： 363914 字\n"
     ]
    }
   ],
   "source": [
    "# 查看数据集中所有小说的名字和字数\n",
    "for i in novel_data:\n",
    "    print(f\"《{i['name']}》的字数为： {len(i['text'])} 字\")\n",
    "    "
   ]
  },
  {
   "cell_type": "markdown",
   "metadata": {},
   "source": [
    "## 1.2 数据分块"
   ]
  },
  {
   "cell_type": "code",
   "execution_count": 4,
   "metadata": {},
   "outputs": [
    {
     "name": "stdout",
     "output_type": "stream",
     "text": [
      "Looking in indexes: https://pypi.tuna.tsinghua.edu.cn/simple\n",
      "Collecting jieba\n",
      "  Downloading https://pypi.tuna.tsinghua.edu.cn/packages/c6/cb/18eeb235f833b726522d7ebed54f2278ce28ba9438e3135ab0278d9792a2/jieba-0.42.1.tar.gz (19.2 MB)\n",
      "     ---------------------------------------- 0.0/19.2 MB ? eta -:--:--\n",
      "     --------------------------------------- 0.0/19.2 MB 667.8 kB/s eta 0:00:29\n",
      "     ---------------------------------------- 0.1/19.2 MB 1.1 MB/s eta 0:00:18\n",
      "     ---------------------------------------- 0.2/19.2 MB 1.5 MB/s eta 0:00:13\n",
      "      --------------------------------------- 0.3/19.2 MB 1.4 MB/s eta 0:00:14\n",
      "      --------------------------------------- 0.3/19.2 MB 1.5 MB/s eta 0:00:13\n",
      "      --------------------------------------- 0.5/19.2 MB 1.7 MB/s eta 0:00:12\n",
      "     - -------------------------------------- 0.5/19.2 MB 1.8 MB/s eta 0:00:11\n",
      "     - -------------------------------------- 0.6/19.2 MB 1.6 MB/s eta 0:00:12\n",
      "     - -------------------------------------- 0.7/19.2 MB 1.7 MB/s eta 0:00:11\n",
      "     - -------------------------------------- 0.8/19.2 MB 1.8 MB/s eta 0:00:11\n",
      "     - -------------------------------------- 0.9/19.2 MB 1.8 MB/s eta 0:00:11\n",
      "     -- ------------------------------------- 1.1/19.2 MB 1.9 MB/s eta 0:00:10\n",
      "     -- ------------------------------------- 1.2/19.2 MB 2.1 MB/s eta 0:00:09\n",
      "     -- ------------------------------------- 1.3/19.2 MB 2.0 MB/s eta 0:00:09\n",
      "     -- ------------------------------------- 1.4/19.2 MB 2.0 MB/s eta 0:00:09\n",
      "     --- ------------------------------------ 1.5/19.2 MB 2.1 MB/s eta 0:00:09\n",
      "     --- ------------------------------------ 1.6/19.2 MB 2.0 MB/s eta 0:00:09\n",
      "     --- ------------------------------------ 1.7/19.2 MB 2.0 MB/s eta 0:00:09\n",
      "     --- ------------------------------------ 1.8/19.2 MB 2.0 MB/s eta 0:00:09\n",
      "     ---- ----------------------------------- 1.9/19.2 MB 2.0 MB/s eta 0:00:09\n",
      "     ---- ----------------------------------- 2.0/19.2 MB 2.1 MB/s eta 0:00:09\n",
      "     ---- ----------------------------------- 2.2/19.2 MB 2.1 MB/s eta 0:00:09\n",
      "     ---- ----------------------------------- 2.2/19.2 MB 2.1 MB/s eta 0:00:09\n",
      "     ---- ----------------------------------- 2.3/19.2 MB 2.1 MB/s eta 0:00:09\n",
      "     ---- ----------------------------------- 2.4/19.2 MB 2.1 MB/s eta 0:00:09\n",
      "     ----- ---------------------------------- 2.4/19.2 MB 2.0 MB/s eta 0:00:09\n",
      "     ----- ---------------------------------- 2.5/19.2 MB 2.0 MB/s eta 0:00:09\n",
      "     ----- ---------------------------------- 2.6/19.2 MB 2.0 MB/s eta 0:00:09\n",
      "     ----- ---------------------------------- 2.7/19.2 MB 2.0 MB/s eta 0:00:09\n",
      "     ----- ---------------------------------- 2.8/19.2 MB 2.0 MB/s eta 0:00:09\n",
      "     ------ --------------------------------- 2.9/19.2 MB 2.0 MB/s eta 0:00:09\n",
      "     ------ --------------------------------- 3.0/19.2 MB 2.0 MB/s eta 0:00:08\n",
      "     ------ --------------------------------- 3.1/19.2 MB 2.0 MB/s eta 0:00:08\n",
      "     ------ --------------------------------- 3.3/19.2 MB 2.1 MB/s eta 0:00:08\n",
      "     ------ --------------------------------- 3.3/19.2 MB 2.1 MB/s eta 0:00:08\n",
      "     ------- -------------------------------- 3.5/19.2 MB 2.1 MB/s eta 0:00:08\n",
      "     ------- -------------------------------- 3.6/19.2 MB 2.1 MB/s eta 0:00:08\n",
      "     ------- -------------------------------- 3.7/19.2 MB 2.1 MB/s eta 0:00:08\n",
      "     ------- -------------------------------- 3.8/19.2 MB 2.1 MB/s eta 0:00:08\n",
      "     -------- ------------------------------- 3.9/19.2 MB 2.1 MB/s eta 0:00:08\n",
      "     -------- ------------------------------- 4.1/19.2 MB 2.2 MB/s eta 0:00:08\n",
      "     -------- ------------------------------- 4.1/19.2 MB 2.1 MB/s eta 0:00:08\n",
      "     -------- ------------------------------- 4.2/19.2 MB 2.1 MB/s eta 0:00:08\n",
      "     -------- ------------------------------- 4.3/19.2 MB 2.1 MB/s eta 0:00:08\n",
      "     --------- ------------------------------ 4.4/19.2 MB 2.1 MB/s eta 0:00:08\n",
      "     --------- ------------------------------ 4.5/19.2 MB 2.1 MB/s eta 0:00:08\n",
      "     --------- ------------------------------ 4.5/19.2 MB 2.1 MB/s eta 0:00:08\n",
      "     --------- ------------------------------ 4.7/19.2 MB 2.1 MB/s eta 0:00:07\n",
      "     ---------- ----------------------------- 4.8/19.2 MB 2.1 MB/s eta 0:00:07\n",
      "     ---------- ----------------------------- 5.0/19.2 MB 2.2 MB/s eta 0:00:07\n",
      "     ---------- ----------------------------- 5.1/19.2 MB 2.2 MB/s eta 0:00:07\n",
      "     ---------- ----------------------------- 5.2/19.2 MB 2.2 MB/s eta 0:00:07\n",
      "     ---------- ----------------------------- 5.3/19.2 MB 2.2 MB/s eta 0:00:07\n",
      "     ----------- ---------------------------- 5.4/19.2 MB 2.1 MB/s eta 0:00:07\n",
      "     ----------- ---------------------------- 5.5/19.2 MB 2.1 MB/s eta 0:00:07\n",
      "     ----------- ---------------------------- 5.6/19.2 MB 2.1 MB/s eta 0:00:07\n",
      "     ----------- ---------------------------- 5.7/19.2 MB 2.2 MB/s eta 0:00:07\n",
      "     ------------ --------------------------- 5.8/19.2 MB 2.2 MB/s eta 0:00:07\n",
      "     ------------ --------------------------- 6.0/19.2 MB 2.2 MB/s eta 0:00:07\n",
      "     ------------ --------------------------- 6.1/19.2 MB 2.2 MB/s eta 0:00:06\n",
      "     ------------- -------------------------- 6.3/19.2 MB 2.2 MB/s eta 0:00:06\n",
      "     ------------- -------------------------- 6.3/19.2 MB 2.2 MB/s eta 0:00:06\n",
      "     ------------- -------------------------- 6.5/19.2 MB 2.2 MB/s eta 0:00:06\n",
      "     ------------- -------------------------- 6.6/19.2 MB 2.2 MB/s eta 0:00:06\n",
      "     ------------- -------------------------- 6.6/19.2 MB 2.2 MB/s eta 0:00:06\n",
      "     -------------- ------------------------- 6.8/19.2 MB 2.2 MB/s eta 0:00:06\n",
      "     -------------- ------------------------- 6.9/19.2 MB 2.2 MB/s eta 0:00:06\n",
      "     -------------- ------------------------- 7.0/19.2 MB 2.2 MB/s eta 0:00:06\n",
      "     -------------- ------------------------- 7.1/19.2 MB 2.2 MB/s eta 0:00:06\n",
      "     --------------- ------------------------ 7.3/19.2 MB 2.2 MB/s eta 0:00:06\n",
      "     --------------- ------------------------ 7.4/19.2 MB 2.2 MB/s eta 0:00:06\n",
      "     --------------- ------------------------ 7.5/19.2 MB 2.3 MB/s eta 0:00:06\n",
      "     --------------- ------------------------ 7.6/19.2 MB 2.3 MB/s eta 0:00:06\n",
      "     ---------------- ----------------------- 7.8/19.2 MB 2.3 MB/s eta 0:00:06\n",
      "     ---------------- ----------------------- 7.9/19.2 MB 2.3 MB/s eta 0:00:06\n",
      "     ---------------- ----------------------- 8.0/19.2 MB 2.3 MB/s eta 0:00:05\n",
      "     ---------------- ----------------------- 8.1/19.2 MB 2.3 MB/s eta 0:00:05\n",
      "     ----------------- ---------------------- 8.2/19.2 MB 2.3 MB/s eta 0:00:05\n",
      "     ----------------- ---------------------- 8.3/19.2 MB 2.3 MB/s eta 0:00:05\n",
      "     ----------------- ---------------------- 8.4/19.2 MB 2.3 MB/s eta 0:00:05\n",
      "     ----------------- ---------------------- 8.5/19.2 MB 2.3 MB/s eta 0:00:05\n",
      "     ----------------- ---------------------- 8.6/19.2 MB 2.3 MB/s eta 0:00:05\n",
      "     ------------------ --------------------- 8.8/19.2 MB 2.3 MB/s eta 0:00:05\n",
      "     ------------------ --------------------- 8.9/19.2 MB 2.3 MB/s eta 0:00:05\n",
      "     ------------------ --------------------- 9.0/19.2 MB 2.3 MB/s eta 0:00:05\n",
      "     ------------------ --------------------- 9.1/19.2 MB 2.3 MB/s eta 0:00:05\n",
      "     ------------------- -------------------- 9.2/19.2 MB 2.3 MB/s eta 0:00:05\n",
      "     ------------------- -------------------- 9.3/19.2 MB 2.3 MB/s eta 0:00:05\n",
      "     ------------------- -------------------- 9.5/19.2 MB 2.3 MB/s eta 0:00:05\n",
      "     ------------------- -------------------- 9.6/19.2 MB 2.3 MB/s eta 0:00:05\n",
      "     -------------------- ------------------- 9.7/19.2 MB 2.3 MB/s eta 0:00:05\n",
      "     -------------------- ------------------- 9.8/19.2 MB 2.3 MB/s eta 0:00:05\n",
      "     -------------------- ------------------- 10.0/19.2 MB 2.3 MB/s eta 0:00:04\n",
      "     --------------------- ------------------ 10.1/19.2 MB 2.3 MB/s eta 0:00:04\n",
      "     --------------------- ------------------ 10.3/19.2 MB 2.3 MB/s eta 0:00:04\n",
      "     --------------------- ------------------ 10.3/19.2 MB 2.3 MB/s eta 0:00:04\n",
      "     --------------------- ------------------ 10.4/19.2 MB 2.3 MB/s eta 0:00:04\n",
      "     --------------------- ------------------ 10.5/19.2 MB 2.3 MB/s eta 0:00:04\n",
      "     ---------------------- ----------------- 10.6/19.2 MB 2.4 MB/s eta 0:00:04\n",
      "     ---------------------- ----------------- 10.7/19.2 MB 2.4 MB/s eta 0:00:04\n",
      "     ---------------------- ----------------- 10.8/19.2 MB 2.4 MB/s eta 0:00:04\n",
      "     ---------------------- ----------------- 10.9/19.2 MB 2.4 MB/s eta 0:00:04\n",
      "     ---------------------- ----------------- 11.0/19.2 MB 2.4 MB/s eta 0:00:04\n",
      "     ----------------------- ---------------- 11.1/19.2 MB 2.4 MB/s eta 0:00:04\n",
      "     ----------------------- ---------------- 11.3/19.2 MB 2.4 MB/s eta 0:00:04\n",
      "     ----------------------- ---------------- 11.3/19.2 MB 2.3 MB/s eta 0:00:04\n",
      "     ----------------------- ---------------- 11.4/19.2 MB 2.3 MB/s eta 0:00:04\n",
      "     ----------------------- ---------------- 11.5/19.2 MB 2.3 MB/s eta 0:00:04\n",
      "     ------------------------ --------------- 11.6/19.2 MB 2.3 MB/s eta 0:00:04\n",
      "     ------------------------ --------------- 11.6/19.2 MB 2.3 MB/s eta 0:00:04\n",
      "     ------------------------ --------------- 11.8/19.2 MB 2.3 MB/s eta 0:00:04\n",
      "     ------------------------ --------------- 11.9/19.2 MB 2.3 MB/s eta 0:00:04\n",
      "     ------------------------- -------------- 12.1/19.2 MB 2.4 MB/s eta 0:00:04\n",
      "     ------------------------- -------------- 12.2/19.2 MB 2.4 MB/s eta 0:00:03\n",
      "     ------------------------- -------------- 12.3/19.2 MB 2.3 MB/s eta 0:00:03\n",
      "     ------------------------- -------------- 12.4/19.2 MB 2.4 MB/s eta 0:00:03\n",
      "     -------------------------- ------------- 12.5/19.2 MB 2.4 MB/s eta 0:00:03\n",
      "     -------------------------- ------------- 12.6/19.2 MB 2.4 MB/s eta 0:00:03\n",
      "     -------------------------- ------------- 12.7/19.2 MB 2.4 MB/s eta 0:00:03\n",
      "     -------------------------- ------------- 12.8/19.2 MB 2.4 MB/s eta 0:00:03\n",
      "     -------------------------- ------------- 12.9/19.2 MB 2.4 MB/s eta 0:00:03\n",
      "     --------------------------- ------------ 13.0/19.2 MB 2.4 MB/s eta 0:00:03\n",
      "     --------------------------- ------------ 13.1/19.2 MB 2.4 MB/s eta 0:00:03\n",
      "     --------------------------- ------------ 13.3/19.2 MB 2.4 MB/s eta 0:00:03\n",
      "     --------------------------- ------------ 13.3/19.2 MB 2.4 MB/s eta 0:00:03\n",
      "     --------------------------- ------------ 13.4/19.2 MB 2.4 MB/s eta 0:00:03\n",
      "     ---------------------------- ----------- 13.5/19.2 MB 2.4 MB/s eta 0:00:03\n",
      "     ---------------------------- ----------- 13.6/19.2 MB 2.4 MB/s eta 0:00:03\n",
      "     ---------------------------- ----------- 13.8/19.2 MB 2.4 MB/s eta 0:00:03\n",
      "     ---------------------------- ----------- 13.8/19.2 MB 2.4 MB/s eta 0:00:03\n",
      "     ---------------------------- ----------- 13.9/19.2 MB 2.4 MB/s eta 0:00:03\n",
      "     ----------------------------- ---------- 14.0/19.2 MB 2.4 MB/s eta 0:00:03\n",
      "     ----------------------------- ---------- 14.1/19.2 MB 2.3 MB/s eta 0:00:03\n",
      "     ----------------------------- ---------- 14.2/19.2 MB 2.3 MB/s eta 0:00:03\n",
      "     ----------------------------- ---------- 14.3/19.2 MB 2.4 MB/s eta 0:00:03\n",
      "     ------------------------------ --------- 14.5/19.2 MB 2.4 MB/s eta 0:00:02\n",
      "     ------------------------------ --------- 14.5/19.2 MB 2.4 MB/s eta 0:00:02\n",
      "     ------------------------------ --------- 14.7/19.2 MB 2.4 MB/s eta 0:00:02\n",
      "     ------------------------------ --------- 14.7/19.2 MB 2.4 MB/s eta 0:00:02\n",
      "     ------------------------------ --------- 14.8/19.2 MB 2.4 MB/s eta 0:00:02\n",
      "     ------------------------------- -------- 15.0/19.2 MB 2.4 MB/s eta 0:00:02\n",
      "     ------------------------------- -------- 15.1/19.2 MB 2.4 MB/s eta 0:00:02\n",
      "     ------------------------------- -------- 15.2/19.2 MB 2.4 MB/s eta 0:00:02\n",
      "     ------------------------------- -------- 15.3/19.2 MB 2.4 MB/s eta 0:00:02\n",
      "     -------------------------------- ------- 15.5/19.2 MB 2.4 MB/s eta 0:00:02\n",
      "     -------------------------------- ------- 15.6/19.2 MB 2.4 MB/s eta 0:00:02\n",
      "     -------------------------------- ------- 15.7/19.2 MB 2.4 MB/s eta 0:00:02\n",
      "     -------------------------------- ------- 15.8/19.2 MB 2.4 MB/s eta 0:00:02\n",
      "     --------------------------------- ------ 15.9/19.2 MB 2.4 MB/s eta 0:00:02\n",
      "     --------------------------------- ------ 16.0/19.2 MB 2.4 MB/s eta 0:00:02\n",
      "     --------------------------------- ------ 16.1/19.2 MB 2.4 MB/s eta 0:00:02\n",
      "     --------------------------------- ------ 16.2/19.2 MB 2.4 MB/s eta 0:00:02\n",
      "     ---------------------------------- ----- 16.4/19.2 MB 2.4 MB/s eta 0:00:02\n",
      "     ---------------------------------- ----- 16.4/19.2 MB 2.4 MB/s eta 0:00:02\n",
      "     ---------------------------------- ----- 16.5/19.2 MB 2.3 MB/s eta 0:00:02\n",
      "     ---------------------------------- ----- 16.6/19.2 MB 2.4 MB/s eta 0:00:02\n",
      "     ---------------------------------- ----- 16.7/19.2 MB 2.3 MB/s eta 0:00:02\n",
      "     ---------------------------------- ----- 16.7/19.2 MB 2.3 MB/s eta 0:00:02\n",
      "     ----------------------------------- ---- 16.9/19.2 MB 2.4 MB/s eta 0:00:01\n",
      "     ----------------------------------- ---- 17.0/19.2 MB 2.4 MB/s eta 0:00:01\n",
      "     ----------------------------------- ---- 17.2/19.2 MB 2.4 MB/s eta 0:00:01\n",
      "     ------------------------------------ --- 17.3/19.2 MB 2.4 MB/s eta 0:00:01\n",
      "     ------------------------------------ --- 17.5/19.2 MB 2.4 MB/s eta 0:00:01\n",
      "     ------------------------------------ --- 17.6/19.2 MB 2.4 MB/s eta 0:00:01\n",
      "     ------------------------------------ --- 17.7/19.2 MB 2.4 MB/s eta 0:00:01\n",
      "     ------------------------------------- -- 17.8/19.2 MB 2.4 MB/s eta 0:00:01\n",
      "     ------------------------------------- -- 18.0/19.2 MB 2.4 MB/s eta 0:00:01\n",
      "     ------------------------------------- -- 18.1/19.2 MB 2.3 MB/s eta 0:00:01\n",
      "     ------------------------------------- -- 18.2/19.2 MB 2.4 MB/s eta 0:00:01\n",
      "     -------------------------------------- - 18.4/19.2 MB 2.4 MB/s eta 0:00:01\n",
      "     -------------------------------------- - 18.4/19.2 MB 2.4 MB/s eta 0:00:01\n",
      "     -------------------------------------- - 18.5/19.2 MB 2.4 MB/s eta 0:00:01\n",
      "     -------------------------------------- - 18.7/19.2 MB 2.4 MB/s eta 0:00:01\n",
      "     -------------------------------------- - 18.7/19.2 MB 2.4 MB/s eta 0:00:01\n",
      "     ---------------------------------------  18.8/19.2 MB 2.4 MB/s eta 0:00:01\n",
      "     ---------------------------------------  18.9/19.2 MB 2.3 MB/s eta 0:00:01\n",
      "     ---------------------------------------  19.0/19.2 MB 2.3 MB/s eta 0:00:01\n",
      "     ---------------------------------------  19.1/19.2 MB 2.3 MB/s eta 0:00:01\n",
      "     ---------------------------------------  19.2/19.2 MB 2.4 MB/s eta 0:00:01\n",
      "     ---------------------------------------  19.2/19.2 MB 2.4 MB/s eta 0:00:01\n",
      "     ---------------------------------------  19.2/19.2 MB 2.4 MB/s eta 0:00:01\n",
      "     ---------------------------------------- 19.2/19.2 MB 2.3 MB/s eta 0:00:00\n",
      "  Preparing metadata (setup.py): started\n",
      "  Preparing metadata (setup.py): finished with status 'done'\n",
      "Requirement already satisfied: loguru in c:\\users\\administrator\\anaconda3\\envs\\langchain\\lib\\site-packages (0.7.2)\n",
      "Requirement already satisfied: openai in c:\\users\\administrator\\anaconda3\\envs\\langchain\\lib\\site-packages (1.12.0)\n",
      "Requirement already satisfied: colorama>=0.3.4 in c:\\users\\administrator\\anaconda3\\envs\\langchain\\lib\\site-packages (from loguru) (0.4.6)\n",
      "Requirement already satisfied: win32-setctime>=1.0.0 in c:\\users\\administrator\\anaconda3\\envs\\langchain\\lib\\site-packages (from loguru) (1.1.0)\n",
      "Requirement already satisfied: anyio<5,>=3.5.0 in c:\\users\\administrator\\anaconda3\\envs\\langchain\\lib\\site-packages (from openai) (4.3.0)\n",
      "Requirement already satisfied: distro<2,>=1.7.0 in c:\\users\\administrator\\anaconda3\\envs\\langchain\\lib\\site-packages (from openai) (1.9.0)\n",
      "Requirement already satisfied: httpx<1,>=0.23.0 in c:\\users\\administrator\\anaconda3\\envs\\langchain\\lib\\site-packages (from openai) (0.27.0)\n",
      "Requirement already satisfied: pydantic<3,>=1.9.0 in c:\\users\\administrator\\anaconda3\\envs\\langchain\\lib\\site-packages (from openai) (2.6.3)\n",
      "Requirement already satisfied: sniffio in c:\\users\\administrator\\anaconda3\\envs\\langchain\\lib\\site-packages (from openai) (1.3.1)\n",
      "Requirement already satisfied: tqdm>4 in c:\\users\\administrator\\anaconda3\\envs\\langchain\\lib\\site-packages (from openai) (4.66.2)\n",
      "Requirement already satisfied: typing-extensions<5,>=4.7 in c:\\users\\administrator\\anaconda3\\envs\\langchain\\lib\\site-packages (from openai) (4.9.0)\n",
      "Requirement already satisfied: idna>=2.8 in c:\\users\\administrator\\anaconda3\\envs\\langchain\\lib\\site-packages (from anyio<5,>=3.5.0->openai) (3.6)\n",
      "Requirement already satisfied: exceptiongroup>=1.0.2 in c:\\users\\administrator\\anaconda3\\envs\\langchain\\lib\\site-packages (from anyio<5,>=3.5.0->openai) (1.2.0)\n",
      "Requirement already satisfied: certifi in c:\\users\\administrator\\anaconda3\\envs\\langchain\\lib\\site-packages (from httpx<1,>=0.23.0->openai) (2024.2.2)\n",
      "Requirement already satisfied: httpcore==1.* in c:\\users\\administrator\\anaconda3\\envs\\langchain\\lib\\site-packages (from httpx<1,>=0.23.0->openai) (1.0.4)\n",
      "Requirement already satisfied: h11<0.15,>=0.13 in c:\\users\\administrator\\anaconda3\\envs\\langchain\\lib\\site-packages (from httpcore==1.*->httpx<1,>=0.23.0->openai) (0.14.0)\n",
      "Requirement already satisfied: annotated-types>=0.4.0 in c:\\users\\administrator\\anaconda3\\envs\\langchain\\lib\\site-packages (from pydantic<3,>=1.9.0->openai) (0.6.0)\n",
      "Requirement already satisfied: pydantic-core==2.16.3 in c:\\users\\administrator\\anaconda3\\envs\\langchain\\lib\\site-packages (from pydantic<3,>=1.9.0->openai) (2.16.3)\n",
      "Building wheels for collected packages: jieba\n",
      "  Building wheel for jieba (setup.py): started\n",
      "  Building wheel for jieba (setup.py): finished with status 'done'\n",
      "  Created wheel for jieba: filename=jieba-0.42.1-py3-none-any.whl size=19314474 sha256=07b4716069b21360c1a71a43754e11b0b42bc2e582f20e1d92a6ddebf5e43432\n",
      "  Stored in directory: c:\\users\\administrator\\appdata\\local\\pip\\cache\\wheels\\b2\\9b\\80\\7537177f75993c29af08e0d00c753724c7f06c646352be50a3\n",
      "Successfully built jieba\n",
      "Installing collected packages: jieba\n",
      "Successfully installed jieba-0.42.1\n"
     ]
    }
   ],
   "source": [
    "# 安装必要的库\n",
    "!pip install jieba loguru openai -i https://pypi.tuna.tsinghua.edu.cn/simple"
   ]
  },
  {
   "cell_type": "markdown",
   "metadata": {},
   "source": [
    "## 1.3 大模型构建数据集"
   ]
  },
  {
   "cell_type": "code",
   "execution_count": 10,
   "metadata": {},
   "outputs": [],
   "source": [
    "import json\n",
    "from tqdm import tqdm\n",
    "import time\n",
    "import os\n",
    "from openai import OpenAI"
   ]
  },
  {
   "cell_type": "code",
   "execution_count": 11,
   "metadata": {},
   "outputs": [],
   "source": [
    "# 使用deepseek-chat api给段落打标签的接口\n",
    "def get_response(text):\n",
    "    client = OpenAI(\n",
    "        api_key=DEEPSEEK_API_KEY,  # 如果您没有配置环境变量，请在此处用您的API Key进行替换\n",
    "        base_url=\"https://api.deepseek.com\",  # 填写DashScope SDK的base_url\n",
    "    )\n",
    "    completion = client.chat.completions.create(\n",
    "        model=\"deepseek-chat\",\n",
    "        messages=[\n",
    "            {\n",
    "                'role': 'system', \n",
    "                'content': '总结user提交的内容。用一句不超过50字的话总结这段小说的情节。仅回答总结，不需要添加其他内容。'\n",
    "            },\n",
    "            {\n",
    "                'role': 'user', \n",
    "                'content': text\n",
    "            }\n",
    "        ])\n",
    "    \n",
    "    return completion.choices[0].message.content"
   ]
  },
  {
   "cell_type": "code",
   "execution_count": 12,
   "metadata": {},
   "outputs": [],
   "source": [
    "# 设置容错机制，可最多重试 5 次，如果失败记录错误日志\n",
    "def get_summary_with_retry(text):\n",
    "    max_retries = 5\n",
    "    retry_delay = 60  # in seconds\n",
    "    attempts = 0\n",
    "    while attempts < max_retries:\n",
    "        try:\n",
    "            return get_response(text)\n",
    "        except Exception as e:\n",
    "            attempts += 1\n",
    "            if attempts < max_retries:\n",
    "                logger.warning(f\"Attempt {attempts} failed for text: {text}. Retrying in {retry_delay} seconds...\")\n",
    "                time.sleep(retry_delay)\n",
    "            else:\n",
    "                logger.error(f\"All {max_retries} attempts failed for text: {text}. Error: {e}\")\n",
    "                raise"
   ]
  },
  {
   "cell_type": "code",
   "execution_count": 13,
   "metadata": {},
   "outputs": [],
   "source": [
    "# 创建文件夹\n",
    "os.makedirs('data', exist_ok=True)\n",
    "os.makedirs('output', exist_ok=True)\n",
    "os.makedirs('dataset', exist_ok=True)"
   ]
  },
  {
   "cell_type": "code",
   "execution_count": 14,
   "metadata": {},
   "outputs": [],
   "source": [
    "# 批量给指定的小说打标签的接口函数\n",
    "def build_dataset(novel,texts):\n",
    "    instruction_prompt = \"你是一个熟读各类小说的专家，请你根据要求写一段800字左右的小说。\"\n",
    "    dataset = []\n",
    "    dataset_error = []\n",
    "    for text in tqdm(texts, desc=f\"Processing {novel}\", total=len(texts)):\n",
    "        try:\n",
    "            summary = get_summary_with_retry(text)\n",
    "            print(summary)\n",
    "            dataset.append({\n",
    "                \"instruction\": instruction_prompt,\n",
    "                \"input\": summary,\n",
    "                \"output\": text\n",
    "            })\n",
    "        except Exception as e:\n",
    "            dataset_error.append(text)\n",
    "            logger.error(f\"Failed to process text: {text}. Error: {e}\")\n",
    "    \n",
    "    with open(f\"./data/{novel}.json\", \"w\") as f:\n",
    "        f.write(json.dumps(dataset, ensure_ascii=False, indent=4))\n",
    "\n",
    "    with open(f\"./data/{novel}_error.txt\", \"w\") as f:\n",
    "        f.write(json.dumps(dataset_error, ensure_ascii=False, indent=4))\n",
    "    return dataset"
   ]
  },
  {
   "cell_type": "code",
   "execution_count": 22,
   "metadata": {},
   "outputs": [
    {
     "name": "stdout",
     "output_type": "stream",
     "text": [
      "593514\n",
      "758\n"
     ]
    },
    {
     "name": "stderr",
     "output_type": "stream",
     "text": [
      "Processing 三国演义:   0%|          | 1/758 [00:04<51:31,  4.08s/it]"
     ]
    },
    {
     "name": "stdout",
     "output_type": "stream",
     "text": [
      "小说讲述了汉朝末年，由于桓、灵二帝的昏庸和宦官专权，导致天下大乱，最终分裂为三国。张角得《太平要术》后，试图救世，但因宦官干政和天灾频发，天下更加混乱。\n"
     ]
    },
    {
     "name": "stderr",
     "output_type": "stream",
     "text": [
      "Processing 三国演义:   0%|          | 2/758 [00:08<55:11,  4.38s/it]"
     ]
    },
    {
     "name": "stdout",
     "output_type": "stream",
     "text": [
      "张角学习道术，自称“太平道人”，利用符水治病吸引信徒，建立势力，发动起义自称“天公将军”，引发大规模叛乱。朝廷紧急调兵镇压，同时幽州太守刘焉招募义兵应敌。涿县英雄刘备因此被引出，准备参与抗击叛军。\n"
     ]
    },
    {
     "name": "stderr",
     "output_type": "stream",
     "text": [
      "Processing 三国演义:   0%|          | 3/758 [00:11<47:01,  3.74s/it]"
     ]
    },
    {
     "name": "stdout",
     "output_type": "stream",
     "text": [
      "刘备、关羽、张飞在涿郡相遇，三人志同道合，决定结为兄弟，共同起兵抗击黄巾贼，誓言同心协力，救国救民。\n"
     ]
    },
    {
     "name": "stderr",
     "output_type": "stream",
     "text": [
      "Processing 三国演义:   1%|          | 4/758 [00:15<48:42,  3.88s/it]"
     ]
    },
    {
     "name": "stdout",
     "output_type": "stream",
     "text": [
      "刘备、关羽、张飞在庄上遇到两位大商张世平和苏双，得到资助后打造武器并组建乡勇。后刘备等人在大兴山下击败黄巾贼将程远志，随后又前往青州救援，通过分兵伏击战术成功击溃黄巾贼。\n"
     ]
    },
    {
     "name": "stderr",
     "output_type": "stream",
     "text": [
      "Processing 三国演义:   1%|          | 5/758 [00:19<47:42,  3.80s/it]"
     ]
    },
    {
     "name": "stdout",
     "output_type": "stream",
     "text": [
      "刘备助龚景解青州之围后，前往广宗助师卢植对抗张角，后转战颍川，与皇甫嵩、朱俊合作火攻张梁、张宝，曹操首次登场，拦阻败逃的贼军。\n"
     ]
    },
    {
     "name": "stderr",
     "output_type": "stream",
     "text": [
      "Processing 三国演义:   1%|          | 6/758 [00:22<44:02,  3.51s/it]"
     ]
    },
    {
     "name": "stdout",
     "output_type": "stream",
     "text": [
      "曹操因勇猛执法而声名鹊起，后参与黄巾之战立功；刘备、关羽、张飞助战，但因董卓无礼，张飞欲杀董卓。\n"
     ]
    },
    {
     "name": "stderr",
     "output_type": "stream",
     "text": [
      "Processing 三国演义:   1%|          | 7/758 [00:26<47:35,  3.80s/it]"
     ]
    },
    {
     "name": "stdout",
     "output_type": "stream",
     "text": [
      "董卓因骄傲怠慢刘备，张飞欲杀之，后三人投奔朱俊，共同对抗张宝。张宝使用妖法，朱俊用秽物破解，最终张宝败逃，被刘备射伤。朱俊围攻阳城，同时得知皇甫嵩已大胜并取代董卓。\n"
     ]
    },
    {
     "name": "stderr",
     "output_type": "stream",
     "text": [
      "Processing 三国演义:   1%|          | 8/758 [00:33<57:54,  4.63s/it]"
     ]
    },
    {
     "name": "stdout",
     "output_type": "stream",
     "text": [
      "皇甫嵩被封为车骑将军，领冀州牧，表奏卢植复原官，曹操除济南相。朱俊攻打阳城，贼将严政杀张宝投降。黄巾余党赵弘等聚众作乱，朱俊奉命讨伐，围攻宛城，采用玄德策略，撤东南军攻西北，韩忠弃城逃走被射死。赵弘复夺宛城，孙坚率军到来，准备攻打。\n"
     ]
    },
    {
     "name": "stderr",
     "output_type": "stream",
     "text": [
      "Processing 三国演义:   1%|          | 9/758 [00:36<53:26,  4.28s/it]"
     ]
    },
    {
     "name": "stdout",
     "output_type": "stream",
     "text": [
      "许昌造反称帝，孙坚招募勇士破之，后参与黄巾之战，立功后被封官。刘备等待封赏未果，张钧建议重赏有功者，刘备最终被任命为县尉。\n"
     ]
    },
    {
     "name": "stderr",
     "output_type": "stream",
     "text": [
      "Processing 三国演义:   1%|▏         | 10/758 [00:39<49:36,  3.98s/it]"
     ]
    },
    {
     "name": "stdout",
     "output_type": "stream",
     "text": [
      "督邮诬陷刘备，张飞怒打督邮，刘备弃官，三人投奔代州刘恢。朝廷腐败，十常侍掌权，导致民怨沸腾，各地叛乱频发。\n"
     ]
    },
    {
     "name": "stderr",
     "output_type": "stream",
     "text": [
      "Processing 三国演义:   1%|▏         | 11/758 [00:44<52:07,  4.19s/it]"
     ]
    },
    {
     "name": "stdout",
     "output_type": "stream",
     "text": [
      "刘陶指责十常侍卖官害民导致国家危机，被皇帝误解并下令处死，陈耽力谏未果，两人均被杀。同时，刘备在征战中立功，得到提拔。灵帝病重，召何进商议后事，揭示了宫廷内部的权力斗争。\n"
     ]
    },
    {
     "name": "stderr",
     "output_type": "stream",
     "text": [
      "Processing 三国演义:   2%|▏         | 12/758 [00:50<59:15,  4.77s/it]"
     ]
    },
    {
     "name": "stdout",
     "output_type": "stream",
     "text": [
      "董太后欲立皇子协为太子，中常侍蹇硕建议先杀何进以防后患。何进得知后，计划诛杀宦官，但曹操提醒其风险。皇帝驾崩后，蹇硕与宦官密谋立协为帝，但何进与袁绍等人迅速行动，立太子辩为帝，并诛杀蹇硕。何太后介入，阻止何进进一步诛杀宦官。\n"
     ]
    },
    {
     "name": "stderr",
     "output_type": "stream",
     "text": [
      "Processing 三国演义:   2%|▏         | 13/758 [00:54<55:35,  4.48s/it]"
     ]
    },
    {
     "name": "stdout",
     "output_type": "stream",
     "text": [
      "董太后掌握大权，何太后试图劝其退位，未果后何进采取行动，将董太后迁出宫并暗杀，同时何进计划诛杀宦官，但遭到何后的反对。\n"
     ]
    },
    {
     "name": "stderr",
     "output_type": "stream",
     "text": [
      "Processing 三国演义:   2%|▏         | 14/758 [00:59<56:05,  4.52s/it]"
     ]
    },
    {
     "name": "stdout",
     "output_type": "stream",
     "text": [
      "何进犹豫不决，袁绍建议召集四方英雄进京诛杀宦官，陈琳反对，认为应迅速行动而非召集外兵。曹操提出只需除掉元凶，不必召外兵，何进不听。董卓接到诏书后，带兵进京，意图除掉宦官张让。\n"
     ]
    },
    {
     "name": "stderr",
     "output_type": "stream",
     "text": [
      "Processing 三国演义:   2%|▏         | 15/758 [01:02<51:48,  4.18s/it]"
     ]
    },
    {
     "name": "stdout",
     "output_type": "stream",
     "text": [
      "何进不听劝阻，执意召董卓进京，导致朝廷动荡。张让等宦官为自保，设伏杀害何进，引发袁绍、曹操等反宦官势力的大规模报复行动。\n"
     ]
    },
    {
     "name": "stderr",
     "output_type": "stream",
     "text": [
      "Processing 三国演义:   2%|▏         | 16/758 [01:08<59:02,  4.77s/it]"
     ]
    },
    {
     "name": "stdout",
     "output_type": "stream",
     "text": [
      "张让、段珪等劫持太后、太子和陈留王逃走，卢植救出太后，吴匡杀何苗，曹操救火并追击张让。张让、段珪带少帝和陈留王逃至北邙山，张让投河自尽，少帝和陈留王被崔毅救下。闵贡杀段珪并寻至崔毅庄，与少帝重逢。\n"
     ]
    },
    {
     "name": "stderr",
     "output_type": "stream",
     "text": [
      "Processing 三国演义:   2%|▏         | 17/758 [01:11<52:20,  4.24s/it]"
     ]
    },
    {
     "name": "stdout",
     "output_type": "stream",
     "text": [
      "皇帝被迫离开都城，途中遭遇董卓，董卓表现出对权力的野心，最终在温明园中提出废帝立陈留王的计划。\n"
     ]
    },
    {
     "name": "stderr",
     "output_type": "stream",
     "text": [
      "Processing 三国演义:   2%|▏         | 18/758 [01:16<54:17,  4.40s/it]"
     ]
    },
    {
     "name": "stdout",
     "output_type": "stream",
     "text": [
      "荆州刺史丁原反对董卓废立天子的提议，董卓欲杀丁原，被李儒劝阻。卢植批评董卓无权废立，董卓怒欲杀卢植，被蔡邕、彭伯劝阻。丁原与义子吕布挑战董卓，董卓败退，计划通过李肃说服吕布投降。\n"
     ]
    },
    {
     "name": "stderr",
     "output_type": "stream",
     "text": [
      "Processing 三国演义:   3%|▎         | 19/758 [01:19<48:19,  3.92s/it]"
     ]
    },
    {
     "name": "stdout",
     "output_type": "stream",
     "text": [
      "李儒建议董卓用赤兔马和金银珠宝收买吕布，吕布被李肃带来的礼物所吸引，最终决定背叛丁原投靠董卓。\n"
     ]
    },
    {
     "name": "stderr",
     "output_type": "stream",
     "text": [
      "Processing 三国演义:   3%|▎         | 20/758 [01:23<48:04,  3.91s/it]"
     ]
    },
    {
     "name": "stdout",
     "output_type": "stream",
     "text": [
      "吕布杀丁原后归降董卓，被封为义父，董卓因此威势大增。后董卓欲废帝，袁绍反对，两人对峙，袁绍逃离。董卓考虑袁绍势力，未追杀，继续推行废立计划。\n"
     ]
    },
    {
     "name": "stderr",
     "output_type": "stream",
     "text": [
      "Processing 三国演义:   3%|▎         | 21/758 [01:26<44:37,  3.63s/it]"
     ]
    },
    {
     "name": "stdout",
     "output_type": "stream",
     "text": [
      "董卓废少帝，立陈留王为帝，自封相国，威福莫比，同时囚禁少帝与太后，蔡邕因威胁而应征为官。\n"
     ]
    },
    {
     "name": "stderr",
     "output_type": "stream",
     "text": [
      "Processing 三国演义:   3%|▎         | 22/758 [01:30<47:22,  3.86s/it]"
     ]
    },
    {
     "name": "stdout",
     "output_type": "stream",
     "text": [
      "董卓命令李儒弑帝，帝与后、妃被逼饮鸩酒，唐妃代饮被绞死，少帝被灌鸩酒而亡。董卓残暴，伍孚试图刺杀未果被处死。袁绍得知董卓弄权，派人送密信给王允。\n"
     ]
    },
    {
     "name": "stderr",
     "output_type": "stream",
     "text": [
      "Processing 三国演义:   3%|▎         | 23/758 [01:33<44:47,  3.66s/it]"
     ]
    },
    {
     "name": "stdout",
     "output_type": "stream",
     "text": [
      "小说讲述了王允设宴讨论如何除掉董卓，曹操自荐刺杀董卓，但行动时被董卓发现，曹操机智地献上宝刀，成功逃脱。\n"
     ]
    },
    {
     "name": "stderr",
     "output_type": "stream",
     "text": [
      "Processing 三国演义:   3%|▎         | 24/758 [01:36<40:38,  3.32s/it]"
     ]
    },
    {
     "name": "stdout",
     "output_type": "stream",
     "text": [
      "曹操试图刺杀董卓未遂，假装献刀后逃走，被县令陈宫识破但最终被其释放并一同逃亡。\n"
     ]
    },
    {
     "name": "stderr",
     "output_type": "stream",
     "text": [
      "Processing 三国演义:   3%|▎         | 25/758 [01:39<39:54,  3.27s/it]"
     ]
    },
    {
     "name": "stdout",
     "output_type": "stream",
     "text": [
      "曹操与陈宫逃至吕伯奢家，误以为吕家欲害他们而杀害吕家八口，后发现误会，曹操又杀吕伯奢，陈宫对曹操失望，最终选择离开。\n"
     ]
    },
    {
     "name": "stderr",
     "output_type": "stream",
     "text": [
      "Processing 三国演义:   3%|▎         | 26/758 [01:42<40:39,  3.33s/it]"
     ]
    },
    {
     "name": "stdout",
     "output_type": "stream",
     "text": [
      "曹操因陈宫疑其不仁而离去，遂至陈留招募义兵，得卫弘资助，竖起“忠义”旗，招募众多义士，并发檄文号召天下诸侯共讨董卓。\n"
     ]
    },
    {
     "name": "stderr",
     "output_type": "stream",
     "text": [
      "Processing 三国演义:   4%|▎         | 27/758 [01:46<42:52,  3.52s/it]"
     ]
    },
    {
     "name": "stdout",
     "output_type": "stream",
     "text": [
      "各路诸侯率领军队前往洛阳讨伐董卓，公孙瓒途中遇到刘备，邀请其一同讨贼。众诸侯会师后，推举袁绍为盟主，共同宣誓讨伐董卓，维护汉室。\n"
     ]
    },
    {
     "name": "stderr",
     "output_type": "stream",
     "text": [
      "Processing 三国演义:   4%|▎         | 28/758 [01:51<45:12,  3.72s/it]"
     ]
    },
    {
     "name": "stdout",
     "output_type": "stream",
     "text": [
      "袁绍被推为盟主，命令袁术督粮，孙坚为先锋攻打汜水关，华雄斩鲍忠报捷，孙坚率四将挑战，程普杀胡轸，孙坚军逼近关前。\n"
     ]
    },
    {
     "name": "stderr",
     "output_type": "stream",
     "text": [
      "Processing 三国演义:   4%|▍         | 29/758 [01:53<41:42,  3.43s/it]"
     ]
    },
    {
     "name": "stdout",
     "output_type": "stream",
     "text": [
      "孙坚因缺粮被华雄夜袭，祖茂牺牲，孙坚逃脱；袁绍召集诸侯商议对策，刘备被介绍并受邀入座。\n"
     ]
    },
    {
     "name": "stderr",
     "output_type": "stream",
     "text": [
      "Processing 三国演义:   4%|▍         | 30/758 [01:56<40:26,  3.33s/it]"
     ]
    },
    {
     "name": "stdout",
     "output_type": "stream",
     "text": [
      "华雄挑战，俞涉、潘凤相继被斩，关羽请战并迅速斩杀华雄，曹操大喜，但袁术不满，曹操暗中抚慰刘备、关羽、张飞。\n"
     ]
    },
    {
     "name": "stderr",
     "output_type": "stream",
     "text": [
      "Processing 三国演义:   4%|▍         | 31/758 [02:01<44:35,  3.68s/it]"
     ]
    },
    {
     "name": "stdout",
     "output_type": "stream",
     "text": [
      "董卓因华雄被杀，担心袁绍内外合谋，决定先除袁隗，后分兵二十万守虎牢关。袁绍得知后，派八路诸侯迎战，但吕布英勇，连败数将，诸侯军退三十里下寨，商议对策。\n"
     ]
    },
    {
     "name": "stderr",
     "output_type": "stream",
     "text": [
      "Processing 三国演义:   4%|▍         | 32/758 [02:05<46:37,  3.85s/it]"
     ]
    },
    {
     "name": "stdout",
     "output_type": "stream",
     "text": [
      "曹操提议联合十八路诸侯擒拿吕布，以削弱董卓势力。吕布挑战时，公孙瓒败退，张飞、关羽、刘备三人合力战吕布，但未能取胜。最终，吕布撤退，三兄弟追赶至虎牢关，张飞提议直接捉拿董卓。\n"
     ]
    },
    {
     "name": "stderr",
     "output_type": "stream",
     "text": [
      "Processing 三国演义:   4%|▍         | 33/758 [02:09<45:31,  3.77s/it]"
     ]
    },
    {
     "name": "stdout",
     "output_type": "stream",
     "text": [
      "张飞攻关未果，八路诸侯祝贺刘备、关羽、张飞，孙坚责问袁术不发粮草，董卓派李傕欲与孙坚结亲遭拒，董卓决定迁都长安。\n"
     ]
    },
    {
     "name": "stderr",
     "output_type": "stream",
     "text": [
      "Processing 三国演义:   4%|▍         | 34/758 [02:12<42:30,  3.52s/it]"
     ]
    },
    {
     "name": "stdout",
     "output_type": "stream",
     "text": [
      "董卓决定迁都长安，罢免反对者并杀害富户，驱赶百姓前往长安，途中残酷对待百姓，焚烧洛阳，劫掠皇陵，最终离开洛阳前往长安。\n"
     ]
    },
    {
     "name": "stderr",
     "output_type": "stream",
     "text": [
      "Processing 三国演义:   5%|▍         | 35/758 [02:15<42:17,  3.51s/it]"
     ]
    },
    {
     "name": "stdout",
     "output_type": "stream",
     "text": [
      "曹操追击董卓至荥阳，遭遇吕布和李傕、郭汜的伏击，大败后被徐荣追击，幸得曹洪救出，最终与残兵会合返回河内。\n"
     ]
    },
    {
     "name": "stderr",
     "output_type": "stream",
     "text": [
      "Processing 三国演义:   5%|▍         | 36/758 [02:19<44:22,  3.69s/it]"
     ]
    },
    {
     "name": "stdout",
     "output_type": "stream",
     "text": [
      "孙坚在太庙祭祀后，夜观星象感叹国乱民困，发现井中玉玺，得知其为传国之宝，决定带回江东。消息泄露，袁绍得知后要求孙坚交出玉玺，孙坚否认拥有玉玺。\n"
     ]
    },
    {
     "name": "stderr",
     "output_type": "stream",
     "text": [
      "Processing 三国演义:   5%|▍         | 37/758 [02:23<45:15,  3.77s/it]"
     ]
    },
    {
     "name": "stdout",
     "output_type": "stream",
     "text": [
      "孙坚发誓若私藏宝物则不得善终，袁绍怀疑并引发冲突，孙坚离开洛阳，袁绍派人拦截孙坚。曹操战败后对诸侯失望，自投扬州。刘表接到袁绍信，派兵拦截孙坚。\n"
     ]
    },
    {
     "name": "stderr",
     "output_type": "stream",
     "text": [
      "Processing 三国演义:   5%|▌         | 38/758 [02:26<43:26,  3.62s/it]"
     ]
    },
    {
     "name": "stdout",
     "output_type": "stream",
     "text": [
      "孙坚因传国玺与刘表结怨，被围困后得救回江东；袁绍谋取冀州，通过公孙瓒施压，最终夺取冀州并削弱韩馥权力。\n"
     ]
    },
    {
     "name": "stderr",
     "output_type": "stream",
     "text": [
      "Processing 三国演义:   5%|▌         | 39/758 [02:30<42:59,  3.59s/it]"
     ]
    },
    {
     "name": "stdout",
     "output_type": "stream",
     "text": [
      "馥投奔张邈，公孙瓒因弟被袁绍设计杀害而攻冀州，双方战于磐河，文丑击败瓒，后赵云出现救瓒，瓒与赵云结盟。\n"
     ]
    },
    {
     "name": "stderr",
     "output_type": "stream",
     "text": [
      "Processing 三国演义:   5%|▌         | 40/758 [02:34<46:10,  3.86s/it]"
     ]
    },
    {
     "name": "stdout",
     "output_type": "stream",
     "text": [
      "袁绍派遣颜良、文丑和曲义分别指挥军队对抗公孙瓒，公孙瓒初战不利，但赵云英勇斩杀曲义，逆转战局。袁绍轻敌被赵云冲阵，后刘备、关羽、张飞加入战斗，助公孙瓒击退袁绍。\n"
     ]
    },
    {
     "name": "stderr",
     "output_type": "stream",
     "text": [
      "Processing 三国演义:   5%|▌         | 41/758 [02:39<48:13,  4.04s/it]"
     ]
    },
    {
     "name": "stdout",
     "output_type": "stream",
     "text": [
      "刘备与赵云相见后深感敬爱，不忍分别；袁绍与公孙瓒战事僵持，董卓派人调解成功；袁术因不满袁绍和刘表，密谋孙坚攻打刘表；孙坚准备报复刘表，其家族成员众多，临行前其弟劝阻。\n"
     ]
    },
    {
     "name": "stderr",
     "output_type": "stream",
     "text": [
      "Processing 三国演义:   6%|▌         | 42/758 [02:43<48:20,  4.05s/it]"
     ]
    },
    {
     "name": "stdout",
     "output_type": "stream",
     "text": [
      "孙坚与长子孙策攻打樊城，黄祖设伏失败后逃至邓城，孙坚追击并在战斗中击败黄祖，随后围攻襄阳，但因中军帅字旗竿被风吹折，韩当认为不吉，建议撤军。\n"
     ]
    },
    {
     "name": "stderr",
     "output_type": "stream",
     "text": [
      "Processing 三国演义:   6%|▌         | 43/758 [02:48<53:01,  4.45s/it]"
     ]
    },
    {
     "name": "stdout",
     "output_type": "stream",
     "text": [
      "孙坚不听韩当劝阻，急攻襄阳，蒯良建议刘表求援袁绍，并派吕公设伏岘山。孙坚追击吕公时中伏身亡，刘表军趁机反击，黄盖生擒黄祖。后通过桓阶与刘表讲和，以黄祖换回孙坚尸首，双方罢兵。\n"
     ]
    },
    {
     "name": "stderr",
     "output_type": "stream",
     "text": [
      "Processing 三国演义:   6%|▌         | 44/758 [02:52<48:57,  4.11s/it]"
     ]
    },
    {
     "name": "stdout",
     "output_type": "stream",
     "text": [
      "桓阶求和被蒯良反对，但最终以孙坚尸体换回黄祖，孙策安葬父亲后招贤纳士，董卓得知孙坚死讯后更加骄横。\n"
     ]
    },
    {
     "name": "stderr",
     "output_type": "stream",
     "text": [
      "Processing 三国演义:   6%|▌         | 45/758 [02:55<45:47,  3.85s/it]"
     ]
    },
    {
     "name": "stdout",
     "output_type": "stream",
     "text": [
      "王允利用貂蝉的美色，设计连环计，先许嫁吕布，后献给董卓，以离间二人关系，最终促使吕布杀死董卓，重振汉室。\n"
     ]
    },
    {
     "name": "stderr",
     "output_type": "stream",
     "text": [
      "Processing 三国演义:   6%|▌         | 46/758 [03:00<49:20,  4.16s/it]"
     ]
    },
    {
     "name": "stdout",
     "output_type": "stream",
     "text": [
      "王允利用貂蝉的美色引诱吕布，承诺将貂蝉赠予吕布为妾，以此拉拢吕布。随后，王允又设宴款待董卓，同样利用貂蝉的舞蹈来讨好董卓，暗示董卓天命所归，试图通过貂蝉来操控两位权臣。\n"
     ]
    },
    {
     "name": "stderr",
     "output_type": "stream",
     "text": [
      "Processing 三国演义:   6%|▌         | 47/758 [03:03<44:17,  3.74s/it]"
     ]
    },
    {
     "name": "stdout",
     "output_type": "stream",
     "text": [
      "貂蝉被王允献给董卓，吕布误会王允背叛，后得知是董卓所为，吕布愤怒并暗中窥探貂蝉。\n"
     ]
    },
    {
     "name": "stderr",
     "output_type": "stream",
     "text": [
      "Processing 三国演义:   6%|▋         | 48/758 [03:06<42:50,  3.62s/it]"
     ]
    },
    {
     "name": "stdout",
     "output_type": "stream",
     "text": [
      "吕布对貂蝉一见钟情，董卓因貂蝉而疏于政务，吕布与貂蝉私会于凤仪亭，貂蝉表达了对吕布的爱慕并请求救助，吕布承诺设法相救。\n"
     ]
    },
    {
     "name": "stderr",
     "output_type": "stream",
     "text": [
      "Processing 三国演义:   6%|▋         | 49/758 [03:09<42:00,  3.56s/it]"
     ]
    },
    {
     "name": "stdout",
     "output_type": "stream",
     "text": [
      "吕布与貂蝉在凤仪亭私会，被董卓发现并追赶，李儒劝董卓以貂蝉赐吕布以收其心，但貂蝉宁死不愿。\n"
     ]
    },
    {
     "name": "stderr",
     "output_type": "stream",
     "text": [
      "Processing 三国演义:   7%|▋         | 50/758 [03:14<47:01,  3.99s/it]"
     ]
    },
    {
     "name": "stdout",
     "output_type": "stream",
     "text": [
      "董卓与貂蝉在凤仪亭相会，貂蝉指责李儒设计陷害，董卓决定带貂蝉回郿坞。李儒建议将貂蝉送给吕布，但董卓拒绝。董卓带貂蝉离开，吕布在远处观望，感到痛恨。王允发现吕布的痛苦，两人密谋对付董卓。\n"
     ]
    },
    {
     "name": "stderr",
     "output_type": "stream",
     "text": [
      "Processing 三国演义:   7%|▋         | 51/758 [03:18<44:21,  3.76s/it]"
     ]
    },
    {
     "name": "stdout",
     "output_type": "stream",
     "text": [
      "吕布决定杀董卓，王允策划让李肃传诏诱董卓入朝，设伏兵诛之，以扶汉室。\n"
     ]
    },
    {
     "name": "stderr",
     "output_type": "stream",
     "text": [
      "Processing 三国演义:   7%|▋         | 52/758 [03:21<42:25,  3.61s/it]"
     ]
    },
    {
     "name": "stdout",
     "output_type": "stream",
     "text": [
      "董卓计划篡位，其母担忧不吉，卓不信，途中车马故障，仍自信将成大事。入朝时被王允等伏击，吕布杀卓，宣告讨贼成功。\n"
     ]
    },
    {
     "name": "stderr",
     "output_type": "stream",
     "text": [
      "Processing 三国演义:   7%|▋         | 53/758 [03:23<38:55,  3.31s/it]"
     ]
    },
    {
     "name": "stdout",
     "output_type": "stream",
     "text": [
      "吕布擒杀李儒，抄家董卓，蔡邕因哭董卓被王允下狱缢死，引发士大夫哀悼。\n"
     ]
    },
    {
     "name": "stderr",
     "output_type": "stream",
     "text": [
      "Processing 三国演义:   7%|▋         | 54/758 [03:26<37:16,  3.18s/it]"
     ]
    },
    {
     "name": "stdout",
     "output_type": "stream",
     "text": [
      "董卓死后，李傕、郭汜等求赦被拒，遂聚众十余万攻长安，吕布虽勇但被李傕等用计击败。\n"
     ]
    },
    {
     "name": "stderr",
     "output_type": "stream",
     "text": [
      "Processing 三国演义:   7%|▋         | 55/758 [03:29<35:29,  3.03s/it]"
     ]
    },
    {
     "name": "stdout",
     "output_type": "stream",
     "text": [
      "吕布在战场上遭遇李傕、郭汜的连续攻击，长安被围，王允拒绝逃离并最终被杀，吕布逃往袁术处。\n"
     ]
    },
    {
     "name": "stderr",
     "output_type": "stream",
     "text": [
      "Processing 三国演义:   7%|▋         | 56/758 [03:33<37:38,  3.22s/it]"
     ]
    },
    {
     "name": "stdout",
     "output_type": "stream",
     "text": [
      "王允设计除掉董卓，但随后被李傕、郭汜杀害，二人企图弑帝，后被张济、樊稠劝阻，改为控制朝廷，残虐百姓，最终马腾、韩遂率军讨伐。\n"
     ]
    },
    {
     "name": "stderr",
     "output_type": "stream",
     "text": [
      "Processing 三国演义:   8%|▊         | 57/758 [03:37<40:37,  3.48s/it]"
     ]
    },
    {
     "name": "stdout",
     "output_type": "stream",
     "text": [
      "贾诩建议坚守拒敌，李蒙、王方不听，挑战马腾、韩遂，被马超击败并生擒。李傕、郭汜坚守不出，西凉军粮尽撤退，马腾、韩遂败退，马超力战退敌。\n"
     ]
    },
    {
     "name": "stderr",
     "output_type": "stream",
     "text": [
      "Processing 三国演义:   8%|▊         | 58/758 [03:41<43:28,  3.73s/it]"
     ]
    },
    {
     "name": "stdout",
     "output_type": "stream",
     "text": [
      "樊稠因同乡情谊放走韩遂，被李傕设宴诱杀；曹操受命讨伐黄巾贼，大获成功，威名日重；曹操在兖州招贤纳士，荀彧、荀攸叔侄投奔曹操。\n"
     ]
    },
    {
     "name": "stderr",
     "output_type": "stream",
     "text": [
      "Processing 三国演义:   8%|▊         | 59/758 [03:45<42:47,  3.67s/it]"
     ]
    },
    {
     "name": "stdout",
     "output_type": "stream",
     "text": [
      "曹操招募程昱、郭嘉、刘晔等谋士及于禁、典韦等武将，壮大势力，后派应劭接父曹嵩，途经徐州受陶谦款待。\n"
     ]
    },
    {
     "name": "stderr",
     "output_type": "stream",
     "text": [
      "Processing 三国演义:   8%|▊         | 60/758 [03:49<44:07,  3.79s/it]"
     ]
    },
    {
     "name": "stdout",
     "output_type": "stream",
     "text": [
      "曹嵩一家在华、费间遭遇大雨，投宿古寺，被曾是黄巾余党的张闿及其手下杀害，全家被屠，财物被夺。曹操得知后，誓言报仇，起兵攻打徐州，欲屠城雪恨。\n"
     ]
    },
    {
     "name": "stderr",
     "output_type": "stream",
     "text": [
      "Processing 三国演义:   8%|▊         | 61/758 [03:53<44:42,  3.85s/it]"
     ]
    },
    {
     "name": "stdout",
     "output_type": "stream",
     "text": [
      "陶谦因曹操报复而忧心徐州百姓，曹豹愿助战，两军对阵时突起狂风，各自收兵。陶谦欲自缚求和，糜竺献计求援孔融和田楷，以退曹操之兵。\n"
     ]
    },
    {
     "name": "stderr",
     "output_type": "stream",
     "text": [
      "Processing 三国演义:   8%|▊         | 62/758 [03:56<41:39,  3.59s/it]"
     ]
    },
    {
     "name": "stdout",
     "output_type": "stream",
     "text": [
      "孔融，孔子后代，聪明且好客，任北海太守时，面对曹操的威胁和黄巾贼的围攻，得到太史慈的帮助，成功解围。\n"
     ]
    },
    {
     "name": "stderr",
     "output_type": "stream",
     "text": [
      "Processing 三国演义:   8%|▊         | 63/758 [03:59<39:40,  3.43s/it]"
     ]
    },
    {
     "name": "stdout",
     "output_type": "stream",
     "text": [
      "孔融因被围困，太史慈受母命前来救援，后太史慈向刘玄德求救，玄德率兵解围，最终孔融设宴庆贺。\n"
     ]
    },
    {
     "name": "stderr",
     "output_type": "stream",
     "text": [
      "Processing 三国演义:   8%|▊         | 64/758 [04:02<39:08,  3.38s/it]"
     ]
    },
    {
     "name": "stdout",
     "output_type": "stream",
     "text": [
      "孔融请求刘备援助徐州抵抗曹操，刘备同意并从公孙瓒处借兵前往。到达后，刘备与张飞率军攻击曹营，成功击退于禁，直抵徐州城下。\n"
     ]
    },
    {
     "name": "stderr",
     "output_type": "stream",
     "text": [
      "Processing 三国演义:   9%|▊         | 65/758 [04:05<38:02,  3.29s/it]"
     ]
    },
    {
     "name": "stdout",
     "output_type": "stream",
     "text": [
      "刘备率军至徐州，陶谦欲让徐州于刘备，刘备拒绝。曹操收到刘备劝和书信，愤怒欲攻城，但吕布袭破兖州，迫使曹操撤军。\n"
     ]
    },
    {
     "name": "stderr",
     "output_type": "stream",
     "text": [
      "Processing 三国演义:   9%|▊         | 66/758 [04:08<37:04,  3.21s/it]"
     ]
    },
    {
     "name": "stdout",
     "output_type": "stream",
     "text": [
      "宫劝邈联合吕布攻占空虚的兖州，成功后曹操撤军回防，同时陶谦欲让徐州给刘备，但刘备坚拒，最终暂驻小沛。\n"
     ]
    },
    {
     "name": "stderr",
     "output_type": "stream",
     "text": [
      "Processing 三国演义:   9%|▉         | 67/758 [04:13<43:17,  3.76s/it]"
     ]
    },
    {
     "name": "stdout",
     "output_type": "stream",
     "text": [
      "曹操回军后，得知吕布势力强大并占领了兖州和濮阳，曹操决定安营扎寨后再议对策。吕布计划亲自率兵对抗曹操，而陈宫建议在泰山险路设伏，但吕布未采纳。曹操随后进军濮阳，与吕布军队在濮阳附近交战，吕布军大胜，曹操军败退。\n"
     ]
    },
    {
     "name": "stderr",
     "output_type": "stream",
     "text": [
      "Processing 三国演义:   9%|▉         | 68/758 [04:16<41:27,  3.60s/it]"
     ]
    },
    {
     "name": "stdout",
     "output_type": "stream",
     "text": [
      "曹操趁夜偷袭吕布西寨，虽一度夺寨成功，但遭吕布反攻，最终在典韦的英勇救援下脱险，后得夏侯惇援军相助，安全回寨。\n"
     ]
    },
    {
     "name": "stderr",
     "output_type": "stream",
     "text": [
      "Processing 三国演义:   9%|▉         | 69/758 [04:19<39:01,  3.40s/it]"
     ]
    },
    {
     "name": "stdout",
     "output_type": "stream",
     "text": [
      "吕布与陈宫设计诱曹操入濮阳城，城中设伏，曹操中计入城后遭遇伏击，典韦奋力救出曹操。\n"
     ]
    },
    {
     "name": "stderr",
     "output_type": "stream",
     "text": [
      "Processing 三国演义:   9%|▉         | 70/758 [04:24<42:38,  3.72s/it]"
     ]
    },
    {
     "name": "stdout",
     "output_type": "stream",
     "text": [
      "典韦入城寻曹操未果，曹操在城中遭遇吕布，巧妙脱身，后典韦与夏侯渊救出曹操。曹操设伏兵于马陵山，诈死诱吕布，吕布中计大败。因蝗灾，曹操与吕布暂时罢兵。陶谦病重，商议徐州未来。\n"
     ]
    },
    {
     "name": "stderr",
     "output_type": "stream",
     "text": [
      "Processing 三国演义:   9%|▉         | 71/758 [04:27<40:19,  3.52s/it]"
     ]
    },
    {
     "name": "stdout",
     "output_type": "stream",
     "text": [
      "陶谦因病重，请求刘备接管徐州，刘备起初推辞，后在民众和部下的劝说下，同意暂时管理徐州。曹操得知后，计划攻打徐州以报仇。\n"
     ]
    },
    {
     "name": "stderr",
     "output_type": "stream",
     "text": [
      "Processing 三国演义:   9%|▉         | 72/758 [04:31<42:10,  3.69s/it]"
     ]
    },
    {
     "name": "stdout",
     "output_type": "stream",
     "text": [
      "曹操率军击败黄巾余党何仪、黄劭，夺取其粮草和财物，何仪逃至葛陂被一壮士俘获，典韦与壮士交战不分胜负，曹操设计使壮士落入陷坑被擒。\n"
     ]
    },
    {
     "name": "stderr",
     "output_type": "stream",
     "text": [
      "Processing 三国演义:  10%|▉         | 73/758 [04:33<37:16,  3.26s/it]"
     ]
    },
    {
     "name": "stdout",
     "output_type": "stream",
     "text": [
      "曹操解救并招降许褚，随后攻占兖州、濮阳，最终在定陶追击吕布。\n"
     ]
    },
    {
     "name": "stderr",
     "output_type": "stream",
     "text": [
      "Processing 三国演义:  10%|▉         | 74/758 [04:37<38:31,  3.38s/it]"
     ]
    },
    {
     "name": "stdout",
     "output_type": "stream",
     "text": [
      "曹操在定陶利用计谋引诱吕布进攻，设伏兵于堤中，成功击败吕布，迫使其逃离定陶。吕布后欲再战曹操，但陈宫建议先寻安身之地，吕布考虑投靠袁绍或刘备。\n"
     ]
    },
    {
     "name": "stderr",
     "output_type": "stream",
     "text": [
      "Processing 三国演义:  10%|▉         | 75/758 [04:41<40:40,  3.57s/it]"
     ]
    },
    {
     "name": "stdout",
     "output_type": "stream",
     "text": [
      "吕布因曹操侵犯徐州而投靠刘备，刘备接纳并让出徐州牧位，但张飞不满吕布，导致吕布最终离开投奔小沛。同时，曹操被封为建德将军费亭侯，朝廷中李傕和郭汜横行无忌。\n"
     ]
    },
    {
     "name": "stderr",
     "output_type": "stream",
     "text": [
      "Processing 三国演义:  10%|█         | 76/758 [04:45<42:59,  3.78s/it]"
     ]
    },
    {
     "name": "stdout",
     "output_type": "stream",
     "text": [
      "献帝受李傕和郭汜欺凌，杨彪献计利用郭汜之妻的嫉妒心实施反间计，导致两人相互猜疑并最终自相残杀，长安城因此陷入混乱，天子和皇后被劫持。\n"
     ]
    },
    {
     "name": "stderr",
     "output_type": "stream",
     "text": [
      "Processing 三国演义:  10%|█         | 77/758 [04:49<42:51,  3.78s/it]"
     ]
    },
    {
     "name": "stdout",
     "output_type": "stream",
     "text": [
      "小说描述了李傕和郭汜之间的权力斗争，李傕将皇帝和皇后囚禁并断绝饮食，郭汜试图救驾但失败，两人在杨彪的调解下暂时停战，但随后继续争斗，导致大量死亡。\n"
     ]
    },
    {
     "name": "stderr",
     "output_type": "stream",
     "text": [
      "Processing 三国演义:  10%|█         | 78/758 [04:56<54:33,  4.81s/it]"
     ]
    },
    {
     "name": "stdout",
     "output_type": "stream",
     "text": [
      "皇帝向贾诩求助，希望得到保护。李傕威胁皇帝，声称郭汜欲劫持皇帝，而自己则保护皇帝。皇甫郦试图调解李傕和郭汜的矛盾，但李傕拒绝和解并威胁要杀皇甫郦。最终，皇甫郦通过激将法和秘密行动，成功削弱了李傕的军心，并建议皇帝用重赏来安抚李傕。\n"
     ]
    },
    {
     "name": "stderr",
     "output_type": "stream",
     "text": [
      "Processing 三国演义:  10%|█         | 79/758 [05:01<53:34,  4.73s/it]"
     ]
    },
    {
     "name": "stdout",
     "output_type": "stream",
     "text": [
      "皇帝封傕为大司马，傕重赏女巫不赏军将，引发杨奉不满，计划反叛但失败，李傕军势渐衰。张济来调和，皇帝得以东行，途中遭遇郭汜阻拦，杨奉及时出现保护皇帝，击败郭汜将领。\n"
     ]
    },
    {
     "name": "stderr",
     "output_type": "stream",
     "text": [
      "Processing 三国演义:  11%|█         | 80/758 [05:06<54:05,  4.79s/it]"
     ]
    },
    {
     "name": "stdout",
     "output_type": "stream",
     "text": [
      "杨奉、徐晃击败郭汜，保护天子至华阴。郭汜再次进攻，被董承、徐晃击退。郭汜与李傕合谋追击天子至弘农，杨奉、董承召集韩暹、李乐、胡才救援，但最终大败，被迫保驾北逃。\n"
     ]
    },
    {
     "name": "stderr",
     "output_type": "stream",
     "text": [
      "Processing 三国演义:  11%|█         | 81/758 [05:10<51:38,  4.58s/it]"
     ]
    },
    {
     "name": "stdout",
     "output_type": "stream",
     "text": [
      "李乐等保护天子逃离追兵，途中艰难渡河，后至安邑县茅屋暂居。韩融说服傕、汜释放百官，董承、杨奉计划回洛阳，李乐反对并暗中联合李傕、郭汜企图劫驾。\n"
     ]
    },
    {
     "name": "stderr",
     "output_type": "stream",
     "text": [
      "Processing 三国演义:  11%|█         | 82/758 [05:13<49:01,  4.35s/it]"
     ]
    },
    {
     "name": "stdout",
     "output_type": "stream",
     "text": [
      "董承、杨奉、韩暹保护汉献帝逃离，李乐假冒李傕、郭汜追赶，被徐晃击败，献帝最终到达洛阳，但宫室荒废，生活困苦，曹操被召来辅佐王室。\n"
     ]
    },
    {
     "name": "stderr",
     "output_type": "stream",
     "text": [
      "Processing 三国演义:  11%|█         | 83/758 [05:19<53:52,  4.79s/it]"
     ]
    },
    {
     "name": "stdout",
     "output_type": "stream",
     "text": [
      "皇帝面临李傕、郭汜的威胁，决定前往山东避难，途中得知曹操已率军前来救援。曹操的军队击败李傕、郭汜，皇帝安全返回洛阳，曹操被封为司隶校尉。李傕、郭汜商议速战，但贾诩建议投降，最终贾诩逃离，李傕的侄子被曹操的将领许褚斩杀。\n"
     ]
    },
    {
     "name": "stderr",
     "output_type": "stream",
     "text": [
      "Processing 三国演义:  11%|█         | 84/758 [05:22<48:34,  4.32s/it]"
     ]
    },
    {
     "name": "stdout",
     "output_type": "stream",
     "text": [
      "曹操在洛阳城外大败贼兵，亲自领兵追杀，降者众多。后曹操与董昭商议，决定移驾至许都，以稳定朝廷局势。\n"
     ]
    },
    {
     "name": "stderr",
     "output_type": "stream",
     "text": [
      "Processing 三国演义:  11%|█         | 85/758 [05:27<49:34,  4.42s/it]"
     ]
    },
    {
     "name": "stdout",
     "output_type": "stream",
     "text": [
      "曹操与谋士密议迁都至许都，因天文预兆和五行相生理论，认为许都是兴盛之地。在迁都途中，遭遇杨奉、韩暹阻拦，曹操通过满宠成功说服徐晃投降，最终继续迁都计划。\n"
     ]
    },
    {
     "name": "stderr",
     "output_type": "stream",
     "text": [
      "Processing 三国演义:  11%|█▏        | 86/758 [05:32<51:31,  4.60s/it]"
     ]
    },
    {
     "name": "stdout",
     "output_type": "stream",
     "text": [
      "徐晃在满宠的劝说下决定投靠曹操，拒绝了杀害旧主杨奉和韩暹的提议，最终带领部下夜投曹操。曹操在战斗中击败杨奉和韩暹，随后在许都建立政权，封赏功臣，并讨论如何对付刘备和吕布。\n"
     ]
    },
    {
     "name": "stderr",
     "output_type": "stream",
     "text": [
      "Processing 三国演义:  11%|█▏        | 87/758 [05:36<48:46,  4.36s/it]"
     ]
    },
    {
     "name": "stdout",
     "output_type": "stream",
     "text": [
      "曹操利用封赏刘备的机会，暗中挑拨刘备与吕布的关系，试图让两人互相残杀，但刘备识破计谋，未杀吕布。曹操随后又设计让刘备与袁术相争，进一步削弱双方力量。\n"
     ]
    },
    {
     "name": "stderr",
     "output_type": "stream",
     "text": [
      "Processing 三国演义:  12%|█▏        | 88/758 [05:40<49:13,  4.41s/it]"
     ]
    },
    {
     "name": "stdout",
     "output_type": "stream",
     "text": [
      "刘备奉诏讨伐不臣，与袁术军战于盱眙，关羽与纪灵大战三十回合不分胜负，后斩杀纪灵副将荀正，纪灵败退。张飞在徐州守城，设宴请官，要求众人今日尽醉，明日戒酒助守城。\n"
     ]
    },
    {
     "name": "stderr",
     "output_type": "stream",
     "text": [
      "Processing 三国演义:  12%|█▏        | 89/758 [05:45<47:50,  4.29s/it]"
     ]
    },
    {
     "name": "stdout",
     "output_type": "stream",
     "text": [
      "张飞在宴会上强迫曹豹饮酒，曹豹拒绝后被张飞鞭打。曹豹向吕布求援，吕布趁张飞醉酒时攻占徐州。张飞酒醒后与吕布交战，不敌后逃往淮南，途中杀死追赶的曹豹。\n"
     ]
    },
    {
     "name": "stderr",
     "output_type": "stream",
     "text": [
      "Processing 三国演义:  12%|█▏        | 90/758 [05:50<51:14,  4.60s/it]"
     ]
    },
    {
     "name": "stdout",
     "output_type": "stream",
     "text": [
      "吕布夜袭徐州，张飞失守，玄德家眷被俘。吕布与袁术勾结，欲夹攻刘备，后因陈宫建议，吕布请刘备回屯小沛。刘备东取广陵失败后，接受吕布邀请返回徐州，家眷被安全送还。\n"
     ]
    },
    {
     "name": "stderr",
     "output_type": "stream",
     "text": [
      "Processing 三国演义:  12%|█▏        | 91/758 [05:55<53:55,  4.85s/it]"
     ]
    },
    {
     "name": "stdout",
     "output_type": "stream",
     "text": [
      "刘备因张飞在徐州恃酒杀人，吕布来守城，刘备让城谢吕布后屯兵小沛。同时，孙策在袁术麾下立功，因袁术待他傲慢，孙策欲借兵图大业，提出以传国玉玺为质。\n"
     ]
    },
    {
     "name": "stderr",
     "output_type": "stream",
     "text": [
      "Processing 三国演义:  12%|█▏        | 92/758 [06:01<55:47,  5.03s/it]"
     ]
    },
    {
     "name": "stdout",
     "output_type": "stream",
     "text": [
      "孙策以玉玺为质向袁术借兵，得兵三千、马五百，被封为折冲校尉、殄寇将军，起兵攻刘繇。途中遇周瑜，得其助力，并聘得张昭、张纮。刘繇部将张英守牛渚，孙策军中有人放火，趁乱击败张英。\n"
     ]
    },
    {
     "name": "stderr",
     "output_type": "stream",
     "text": [
      "Processing 三国演义:  12%|█▏        | 93/758 [06:04<51:25,  4.64s/it]"
     ]
    },
    {
     "name": "stdout",
     "output_type": "stream",
     "text": [
      "孙策收编蒋钦、周泰及其部众，进兵神亭，与刘繇对峙。孙策夜梦光武，冒险上岭祭拜，太史慈趁机挑战，两人激战五十回合未分胜负。\n"
     ]
    },
    {
     "name": "stderr",
     "output_type": "stream",
     "text": [
      "Processing 三国演义:  12%|█▏        | 94/758 [06:10<56:03,  5.07s/it]"
     ]
    },
    {
     "name": "stdout",
     "output_type": "stream",
     "text": [
      "孙策与太史慈在神亭岭下激烈交战，两人互相夺取对方武器，后因刘繇军和周瑜军介入而各自收兵。次日，双方在阵前展示对方物品以示威，太史慈欲与孙策决战，但因周瑜袭取曲阿，刘繇军撤退，孙策趁夜劫营大败刘繇军，太史慈逃往泾县。\n"
     ]
    },
    {
     "name": "stderr",
     "output_type": "stream",
     "text": [
      "Processing 三国演义:  13%|█▎        | 95/758 [06:16<57:15,  5.18s/it]"
     ]
    },
    {
     "name": "stdout",
     "output_type": "stream",
     "text": [
      "孙策得到陈武辅助，攻打薛札并取得胜利，后亲自率军对抗刘繇和笮融，成功击败并俘虏敌将。孙策因勇猛被称为“小霸王”。随后，孙策攻打秣陵，虽中箭但成功诱敌出城并取得胜利。最后，孙策与周瑜设计活捉太史慈，结束战斗。\n"
     ]
    },
    {
     "name": "stderr",
     "output_type": "stream",
     "text": [
      "Processing 三国演义:  13%|█▎        | 96/758 [06:21<55:50,  5.06s/it]"
     ]
    },
    {
     "name": "stdout",
     "output_type": "stream",
     "text": [
      "孙策善待并成功招降太史慈，太史慈随后带兵归降，孙策因此声威大振，民心归附。孙策攻打吴郡时，严白虎抵抗，但最终被孙策围困，太史慈在战斗中展示高超箭术，射中敌将左手，赢得众人喝彩。\n"
     ]
    },
    {
     "name": "stderr",
     "output_type": "stream",
     "text": [
      "Processing 三国演义:  13%|█▎        | 97/758 [06:24<50:09,  4.55s/it]"
     ]
    },
    {
     "name": "stdout",
     "output_type": "stream",
     "text": [
      "孙策击败严白虎，占领江东数州，白虎逃至会稽，孙策追击并与王朗交战，最终王朗坚守不出，孙策计划攻占查渎以断其粮道。\n"
     ]
    },
    {
     "name": "stderr",
     "output_type": "stream",
     "text": [
      "Processing 三国演义:  13%|█▎        | 98/758 [06:28<46:39,  4.24s/it]"
     ]
    },
    {
     "name": "stdout",
     "output_type": "stream",
     "text": [
      "孙策用疑兵之计迷惑王朗，设伏击败追兵，成功夺取城池；同时，孙权在宣城遭遇山贼，周泰英勇救主，后得神医华佗救治。\n"
     ]
    },
    {
     "name": "stderr",
     "output_type": "stream",
     "text": [
      "Processing 三国演义:  13%|█▎        | 99/758 [06:32<48:27,  4.41s/it]"
     ]
    },
    {
     "name": "stdout",
     "output_type": "stream",
     "text": [
      "孙策因华佗医治而康复，平定江南后向袁术索取玉玺未果，袁术与杨大将商议对策，决定先攻刘备后图孙策，杨大将献计通过贿赂吕布使其不助刘备，袁术派兵攻打小沛，刘备求救于吕布，吕布决定救援刘备。\n"
     ]
    },
    {
     "name": "stderr",
     "output_type": "stream",
     "text": [
      "Processing 三国演义:  13%|█▎        | 100/758 [06:35<43:56,  4.01s/it]"
     ]
    },
    {
     "name": "stdout",
     "output_type": "stream",
     "text": [
      "吕布邀请刘备和纪灵会面，试图调解双方的冲突，提出如果自己能射中一百五十步外的戟小枝，双方就罢兵，否则各自回营厮杀。\n"
     ]
    },
    {
     "name": "stderr",
     "output_type": "stream",
     "text": [
      "Processing 三国演义:  13%|█▎        | 101/758 [06:38<40:26,  3.69s/it]"
     ]
    },
    {
     "name": "stdout",
     "output_type": "stream",
     "text": [
      "吕布在宴会上一箭射中画戟小枝，成功调解刘备与纪灵的冲突，后袁术派人求亲于吕布，意图通过联姻削弱刘备。\n"
     ]
    },
    {
     "name": "stderr",
     "output_type": "stream",
     "text": [
      "Processing 三国演义:  13%|█▎        | 102/758 [06:43<43:27,  3.97s/it]"
     ]
    },
    {
     "name": "stdout",
     "output_type": "stream",
     "text": [
      "袁术派韩胤送聘礼给吕布，欲联姻以图刘备。陈宫建议吕布立即送女成婚以防变故，吕布同意。陈珪识破计谋，警告吕布此举将危及刘备和小沛。\n"
     ]
    },
    {
     "name": "stderr",
     "output_type": "stream",
     "text": [
      "Processing 三国演义:  14%|█▎        | 103/758 [06:48<46:51,  4.29s/it]"
     ]
    },
    {
     "name": "stdout",
     "output_type": "stream",
     "text": [
      "吕布因张飞夺马而大怒，率军攻打小沛，与张飞激战未分胜负。刘备恐有失，提议归还马匹以求和，但吕布在陈宫建议下继续攻城。最终，刘备决定投奔曹操，趁夜突围成功，吕布未追击，返回徐州。\n"
     ]
    },
    {
     "name": "stderr",
     "output_type": "stream",
     "text": [
      "Processing 三国演义:  14%|█▎        | 104/758 [06:54<51:10,  4.69s/it]"
     ]
    },
    {
     "name": "stdout",
     "output_type": "stream",
     "text": [
      "刘备因被吕布追逼，投奔曹操，曹操以兄弟相待并助其对抗吕布。荀彧建议杀刘备以防后患，但郭嘉反对，认为应保持信义以招揽人才。曹操最终决定支持刘备，并派兵粮助其攻打吕布。同时，曹操面临张济侄张绣的威胁，决定亲自出兵讨伐，并成功劝降张绣。\n"
     ]
    },
    {
     "name": "stderr",
     "output_type": "stream",
     "text": [
      "Processing 三国演义:  14%|█▍        | 105/758 [06:58<50:05,  4.60s/it]"
     ]
    },
    {
     "name": "stdout",
     "output_type": "stream",
     "text": [
      "曹操因醉欲寻妓女，得知张济之妻邹氏美貌，遂纳为妾并带至军中。张绣得知后怒而密谋反叛，设计盗取典韦武器并夜袭曹操营寨，曹操险遭不测。\n"
     ]
    },
    {
     "name": "stderr",
     "output_type": "stream",
     "text": [
      "Processing 三国演义:  14%|█▍        | 106/758 [07:01<45:32,  4.19s/it]"
     ]
    },
    {
     "name": "stdout",
     "output_type": "stream",
     "text": [
      "典韦在战斗中英勇抵抗，最终战死，曹操因此得以逃脱。曹操后来整顿军队，赞赏于禁的英勇，并亲自祭奠典韦，随后下令班师。\n"
     ]
    },
    {
     "name": "stderr",
     "output_type": "stream",
     "text": [
      "Processing 三国演义:  14%|█▍        | 107/758 [07:06<46:48,  4.31s/it]"
     ]
    },
    {
     "name": "stdout",
     "output_type": "stream",
     "text": [
      "王则携诏封吕布为平东将军，吕布杀袁术使者并囚韩胤，遣陈登谢恩并求徐州牧。曹操斩韩胤，陈登密谋对付吕布。吕布怒陈登未为其求徐州牧，后得知曹操视其为鹰，袁术军攻徐州，局势紧张。\n"
     ]
    },
    {
     "name": "stderr",
     "output_type": "stream",
     "text": [
      "Processing 三国演义:  14%|█▍        | 108/758 [07:10<46:22,  4.28s/it]"
     ]
    },
    {
     "name": "stdout",
     "output_type": "stream",
     "text": [
      "袁术自立为帝，派遣七路大军攻打徐州，吕布与谋士陈宫、陈珪父子商议对策，陈登提出联合韩暹、杨奉及刘备内外夹击袁术的计策，并亲自前往联络。\n"
     ]
    },
    {
     "name": "stderr",
     "output_type": "stream",
     "text": [
      "Processing 三国演义:  14%|█▍        | 109/758 [07:14<44:31,  4.12s/it]"
     ]
    },
    {
     "name": "stdout",
     "output_type": "stream",
     "text": [
      "吕布利用韩暹和杨奉的反戈，成功击败张勋和袁术，随后邀请关羽、韩暹和杨奉至徐州庆祝，并任命韩暹和杨奉为地方牧，以巩固自己在山东的势力。\n"
     ]
    },
    {
     "name": "stderr",
     "output_type": "stream",
     "text": [
      "Processing 三国演义:  15%|█▍        | 110/758 [07:17<40:21,  3.74s/it]"
     ]
    },
    {
     "name": "stdout",
     "output_type": "stream",
     "text": [
      "陈登父子商议不助吕布，孙策拒绝助袁术并与其绝交，曹操联合孙策、刘备、吕布攻打袁术，袁术大败。\n"
     ]
    },
    {
     "name": "stderr",
     "output_type": "stream",
     "text": [
      "Processing 三国演义:  15%|█▍        | 111/758 [07:23<47:30,  4.41s/it]"
     ]
    },
    {
     "name": "stdout",
     "output_type": "stream",
     "text": [
      "杨大将建议袁术留军坚守寿春，待曹军粮尽自退，袁术采纳并留四将守城，其余撤退。曹操军粮不足，采用小斛分粮，引起士兵不满，曹操为平息众怒斩杀王垕。后曹操亲自督战，攻破寿春，生擒并处决四将，考虑进兵渡淮，但因荒旱粮艰，决定暂回许都。\n"
     ]
    },
    {
     "name": "stderr",
     "output_type": "stream",
     "text": [
      "Processing 三国演义:  15%|█▍        | 112/758 [07:28<49:02,  4.55s/it]"
     ]
    },
    {
     "name": "stdout",
     "output_type": "stream",
     "text": [
      "曹操命令孙策跨江布阵迷惑刘表，自己班师回朝，同时安排刘备屯兵小沛与吕布结盟，随后曹操回许都处理李傕、郭汜的处决，并准备征讨张绣，途中严格军纪保护麦田，曹操因马践麦田而自罚割发代首，以示军令严明。\n"
     ]
    },
    {
     "name": "stderr",
     "output_type": "stream",
     "text": [
      "Processing 三国演义:  15%|█▍        | 113/758 [07:30<42:30,  3.95s/it]"
     ]
    },
    {
     "name": "stdout",
     "output_type": "stream",
     "text": [
      "张绣与曹操对战，贾诩识破曹操计谋，设伏兵于东南角，曹操中计大败，损失惨重。\n"
     ]
    },
    {
     "name": "stderr",
     "output_type": "stream",
     "text": [
      "Processing 三国演义:  15%|█▌        | 114/758 [07:34<40:39,  3.79s/it]"
     ]
    },
    {
     "name": "stdout",
     "output_type": "stream",
     "text": [
      "曹操在襄城缅怀典韦后，智破刘表、张绣联军于安众，后因袁绍威胁撤军，张绣追击失败，贾诩建议再追却大获全胜。\n"
     ]
    },
    {
     "name": "stderr",
     "output_type": "stream",
     "text": [
      "Processing 三国演义:  15%|█▌        | 115/758 [07:39<46:19,  4.32s/it]"
     ]
    },
    {
     "name": "stdout",
     "output_type": "stream",
     "text": [
      "曹操在行军中得知后军被张绣追击，急忙回救，幸得李通率军阻击，曹操封李通为建功侯。曹操回许都后，表奏孙策有功，封为讨逆将军，并派遣使者至江东。曹操与荀彧、郭嘉讨论战略，郭嘉提出曹操有十胜而袁绍有十败，曹操对此表示认同。\n"
     ]
    },
    {
     "name": "stderr",
     "output_type": "stream",
     "text": [
      "Processing 三国演义:  15%|█▌        | 116/758 [07:45<51:54,  4.85s/it]"
     ]
    },
    {
     "name": "stdout",
     "output_type": "stream",
     "text": [
      "曹操计划趁袁绍北征公孙瓒之机，先攻吕布，再图袁绍，荀彧建议先与刘备联络。同时，吕布在徐州被陈珪父子谄媚，陈宫警告吕布防备，但未被采纳。陈宫截获刘备回信给曹操，吕布得知后大怒，决定先发制人，分兵三路攻打刘备和曹操。刘备紧急求援曹操，派简雍前往许都。\n"
     ]
    },
    {
     "name": "stderr",
     "output_type": "stream",
     "text": [
      "Processing 三国演义:  15%|█▌        | 117/758 [07:50<53:04,  4.97s/it]"
     ]
    },
    {
     "name": "stdout",
     "output_type": "stream",
     "text": [
      "刘备与兄弟守城，面对高顺和张辽的攻击，选择坚守不出。曹操得知刘备与吕布的矛盾，决定趁机攻打吕布。夏侯惇与高顺交战，被曹性射中左眼，夏侯惇吃下自己的眼珠后杀死曹性，但最终曹军败退。\n"
     ]
    },
    {
     "name": "stderr",
     "output_type": "stream",
     "text": [
      "Processing 三国演义:  16%|█▌        | 118/758 [07:54<49:25,  4.63s/it]"
     ]
    },
    {
     "name": "stdout",
     "output_type": "stream",
     "text": [
      "夏侯渊救护其兄，高顺击败玄德后，吕布分兵攻打玄德、关羽、张飞三寨，玄德败逃，弃妻小逃难，途中得猎户刘安杀妻供食，后投曹操图后计。\n"
     ]
    },
    {
     "name": "stderr",
     "output_type": "stream",
     "text": [
      "Processing 三国演义:  16%|█▌        | 119/758 [08:00<51:46,  4.86s/it]"
     ]
    },
    {
     "name": "stdout",
     "output_type": "stream",
     "text": [
      "刘备与曹操会面，诉说失城、散弟、陷妻之苦，曹操赐金予刘安。曹操军至济北，得知夏侯惇受伤，决定亲征吕布。途中遭遇泰山寇拦截，许褚力战获胜。吕布计划救援小沛，陈登设计让吕布转移钱粮至下邳，并暗中与曹操联络，导致吕布军败。\n"
     ]
    },
    {
     "name": "stderr",
     "output_type": "stream",
     "text": [
      "Processing 三国演义:  16%|█▌        | 120/758 [08:03<45:10,  4.25s/it]"
     ]
    },
    {
     "name": "stdout",
     "output_type": "stream",
     "text": [
      "吕布被陈宫误导，夜袭曹军反遭伏击，逃至徐州城下被拒，转投小沛又被曹军占领，最终败走下邳。\n"
     ]
    },
    {
     "name": "stderr",
     "output_type": "stream",
     "text": [
      "Processing 三国演义:  16%|█▌        | 121/758 [08:07<45:42,  4.31s/it]"
     ]
    },
    {
     "name": "stdout",
     "output_type": "stream",
     "text": [
      "曹操命刘备守淮南，自攻下邳，吕布坚守不出，陈宫建议吕布出城夹击曹操，吕布犹豫不决，最终决定坚守城池，陈宫再提议断曹操粮道，吕布再次犹豫，家中严氏和貂蝉的劝阻使吕布难以决断。\n"
     ]
    },
    {
     "name": "stderr",
     "output_type": "stream",
     "text": [
      "Processing 三国演义:  16%|█▌        | 122/758 [08:11<43:30,  4.10s/it]"
     ]
    },
    {
     "name": "stdout",
     "output_type": "stream",
     "text": [
      "吕布因曹操军粮诈计而犹豫不出，谋士建议求援袁术，吕布派使者前往，但使者在归途中被张飞擒获，曹操因此加强军令，吕布得知袁术要求先送女再发兵。\n"
     ]
    },
    {
     "name": "stderr",
     "output_type": "stream",
     "text": [
      "Processing 三国演义:  16%|█▌        | 123/758 [08:13<39:21,  3.72s/it]"
     ]
    },
    {
     "name": "stdout",
     "output_type": "stream",
     "text": [
      "吕布计划亲自护送女儿突围，但被刘备军拦截未能成功，曹操决定决水淹下邳城，吕布因酒色伤身决定戒酒。\n"
     ]
    },
    {
     "name": "stderr",
     "output_type": "stream",
     "text": [
      "Processing 三国演义:  16%|█▋        | 124/758 [08:16<35:35,  3.37s/it]"
     ]
    },
    {
     "name": "stdout",
     "output_type": "stream",
     "text": [
      "侯成因酿酒被吕布责罚，与宋宪、魏续合谋擒吕布献曹操，最终成功并导致吕布被擒。\n"
     ]
    },
    {
     "name": "stderr",
     "output_type": "stream",
     "text": [
      "Processing 三国演义:  16%|█▋        | 125/758 [08:19<33:51,  3.21s/it]"
     ]
    },
    {
     "name": "stdout",
     "output_type": "stream",
     "text": [
      "吕布被曹操俘虏，请求松绑未果，与陈宫、高顺等人被处死，吕布在临死前指责刘备不守信义。\n"
     ]
    },
    {
     "name": "stderr",
     "output_type": "stream",
     "text": [
      "Processing 三国演义:  17%|█▋        | 126/758 [08:24<41:12,  3.91s/it]"
     ]
    },
    {
     "name": "stdout",
     "output_type": "stream",
     "text": [
      "曹操欲杀张辽，刘备和关羽求情，曹操最终释放并重用张辽，随后张辽招降臧霸等人，曹操封赏众将，带吕布家人回许都，途中百姓请求刘备留任，曹操拒绝并任命车胄暂管徐州，回许都后，曹操表奏刘备军功，刘备被引见皇帝，皇帝查验刘备宗谱，确认其为汉室宗亲。\n"
     ]
    },
    {
     "name": "stderr",
     "output_type": "stream",
     "text": [
      "Processing 三国演义:  17%|█▋        | 127/758 [08:27<36:26,  3.47s/it]"
     ]
    },
    {
     "name": "stdout",
     "output_type": "stream",
     "text": [
      "刘备被天子认作皇叔，拜为左将军，曹操担心其影响，同时处理内部反对者，计划通过田猎观察形势。\n"
     ]
    },
    {
     "name": "stderr",
     "output_type": "stream",
     "text": [
      "Processing 三国演义:  17%|█▋        | 128/758 [08:31<37:57,  3.61s/it]"
     ]
    },
    {
     "name": "stdout",
     "output_type": "stream",
     "text": [
      "曹操在许田围猎时，用天子的弓箭射中鹿，众臣误以为是天子所射，高呼万岁，曹操却挡在天子前接受欢呼，关羽欲杀曹操，刘备阻止，后献帝与伏皇后密谋通过董承对抗曹操。\n"
     ]
    },
    {
     "name": "stderr",
     "output_type": "stream",
     "text": [
      "Processing 三国演义:  17%|█▋        | 129/758 [08:34<35:35,  3.39s/it]"
     ]
    },
    {
     "name": "stdout",
     "output_type": "stream",
     "text": [
      "皇帝秘密制作血诏，藏于玉带中赐予董承，暗示其承担重任，后曹操发现董承携带玉带，心生疑虑，但未深究。\n"
     ]
    },
    {
     "name": "stderr",
     "output_type": "stream",
     "text": [
      "Processing 三国演义:  17%|█▋        | 130/758 [08:37<34:31,  3.30s/it]"
     ]
    },
    {
     "name": "stdout",
     "output_type": "stream",
     "text": [
      "董承收到天子密诏，命其纠合忠义之士，消灭曹操。董承与王子服等密谋，计划共同诛杀曹操，以复安社稷。\n"
     ]
    },
    {
     "name": "stderr",
     "output_type": "stream",
     "text": [
      "Processing 三国演义:  17%|█▋        | 131/758 [08:40<33:13,  3.18s/it]"
     ]
    },
    {
     "name": "stdout",
     "output_type": "stream",
     "text": [
      "王子服、种辑、吴子兰和马腾密谋杀曹操，董承出示诏书，众人誓言合作，马腾提议联合刘氏宗族以增强力量。\n"
     ]
    },
    {
     "name": "stderr",
     "output_type": "stream",
     "text": [
      "Processing 三国演义:  17%|█▋        | 132/758 [08:43<32:31,  3.12s/it]"
     ]
    },
    {
     "name": "stdout",
     "output_type": "stream",
     "text": [
      "马腾提议寻求刘备帮助对抗曹操，董承夜访刘备并展示衣带诏，刘备同意加入反曹联盟，之后刘备采取韬晦之计以防曹操谋害。\n"
     ]
    },
    {
     "name": "stderr",
     "output_type": "stream",
     "text": [
      "Processing 三国演义:  18%|█▊        | 133/758 [08:46<32:17,  3.10s/it]"
     ]
    },
    {
     "name": "stdout",
     "output_type": "stream",
     "text": [
      "曹操邀请刘备至小亭共赏梅酒，谈论天下英雄，曹操贬低袁术、袁绍、刘表、孙策，显示其雄心与对英雄的定义。\n"
     ]
    },
    {
     "name": "stderr",
     "output_type": "stream",
     "text": [
      "Processing 三国演义:  18%|█▊        | 134/758 [08:49<32:33,  3.13s/it]"
     ]
    },
    {
     "name": "stdout",
     "output_type": "stream",
     "text": [
      "曹操与刘备讨论天下英雄，曹操认为只有他和刘备配得上此称号，刘备因此惊慌失措，后巧妙借雷声掩饰自己的失态。\n"
     ]
    },
    {
     "name": "stderr",
     "output_type": "stream",
     "text": [
      "Processing 三国演义:  18%|█▊        | 135/758 [08:54<38:31,  3.71s/it]"
     ]
    },
    {
     "name": "stdout",
     "output_type": "stream",
     "text": [
      "公孙瓒被袁绍围困，求救无果后自尽，全家被焚。袁绍声势大振，其弟袁术欲投靠袁绍，刘备趁机请求出兵截击袁术，曹操同意并派兵支援。刘备急行军，曹操后悔派刘备出征，派兵追回未果。\n"
     ]
    },
    {
     "name": "stderr",
     "output_type": "stream",
     "text": [
      "Processing 三国演义:  18%|█▊        | 136/758 [08:57<36:41,  3.54s/it]"
     ]
    },
    {
     "name": "stdout",
     "output_type": "stream",
     "text": [
      "玄德拒绝曹操召回，许褚回报后曹操犹豫未决，玄德在徐州击败袁术，袁术因奢侈和内乱势力衰败，最终饿死。\n"
     ]
    },
    {
     "name": "stderr",
     "output_type": "stream",
     "text": [
      "Processing 三国演义:  18%|█▊        | 137/758 [09:04<47:57,  4.63s/it]"
     ]
    },
    {
     "name": "stdout",
     "output_type": "stream",
     "text": [
      "袁术因骄奢过度而亡，其侄袁胤携家眷及玉玺被徐璆杀害，徐璆将玉玺献给曹操。刘备得知袁术死讯后，上表朝廷并留下军马守徐州。曹操得知刘备留下军马后大怒，欲斩朱灵、路昭，但被荀彧劝阻。荀彧建议曹操通过车胄暗杀刘备，但计划被陈登泄露给刘备。关羽设计假扮曹军诱杀车胄，成功后刘备担心曹操的报复。\n"
     ]
    },
    {
     "name": "stderr",
     "output_type": "stream",
     "text": [
      "Processing 三国演义:  18%|█▊        | 138/758 [09:08<44:54,  4.35s/it]"
     ]
    },
    {
     "name": "stdout",
     "output_type": "stream",
     "text": [
      "刘备因张飞误杀曹操心腹车胄全家而担忧，陈登建议刘备求助于与袁绍关系密切的郑玄，郑玄同意写信给袁绍，袁绍因此考虑出兵帮助刘备对抗曹操。\n"
     ]
    },
    {
     "name": "stderr",
     "output_type": "stream",
     "text": [
      "Processing 三国演义:  18%|█▊        | 139/758 [09:11<42:07,  4.08s/it]"
     ]
    },
    {
     "name": "stdout",
     "output_type": "stream",
     "text": [
      "曹操法令严明，士卒精练，谋士们就是否起兵助刘备攻曹操展开争论，最终袁绍决定起兵三十万，并令陈琳草拟檄文声讨曹操。\n"
     ]
    },
    {
     "name": "stderr",
     "output_type": "stream",
     "text": [
      "Processing 三国演义:  18%|█▊        | 140/758 [09:18<48:34,  4.72s/it]"
     ]
    },
    {
     "name": "stdout",
     "output_type": "stream",
     "text": [
      "曹操在东夏招募英雄，与幕府合作，后因策略失误多次失败，幕府再次支援并任命他为兖州刺史。曹操随后滥用权力，残害贤良，包括杀害九江太守边让及其家人，引起民众愤怒。曹操还专断朝政，无视法律，迫害异议者，甚至挖掘梁孝王墓，行为残暴。幕府虽试图修复关系，但曹操野心勃勃，意图削弱汉室，成为独裁者。\n"
     ]
    },
    {
     "name": "stderr",
     "output_type": "stream",
     "text": [
      "Processing 三国演义:  19%|█▊        | 141/758 [09:20<42:06,  4.09s/it]"
     ]
    },
    {
     "name": "stdout",
     "output_type": "stream",
     "text": [
      "袁绍发布檄文，号召四方兵马共同对抗曹操，曹操读后惊出一身冷汗，病情好转，随即召集谋士商议对策。\n"
     ]
    },
    {
     "name": "stderr",
     "output_type": "stream",
     "text": [
      "Processing 三国演义:  19%|█▊        | 142/758 [09:25<43:25,  4.23s/it]"
     ]
    },
    {
     "name": "stdout",
     "output_type": "stream",
     "text": [
      "荀彧与孔融讨论袁绍的实力，荀彧认为袁绍内部不和，不足为惧。曹操派刘岱和王忠攻打刘备，同时自己率大军对抗袁绍。两军对峙，袁绍内部矛盾导致不思进取，曹操则调整部署，准备攻打刘备。\n"
     ]
    },
    {
     "name": "stderr",
     "output_type": "stream",
     "text": [
      "Processing 三国演义:  19%|█▉        | 143/758 [09:27<38:43,  3.78s/it]"
     ]
    },
    {
     "name": "stdout",
     "output_type": "stream",
     "text": [
      "刘备派关羽探查曹操军情，关羽生擒王忠得知曹操不在军中，张飞计划劫寨以擒刘岱。\n"
     ]
    },
    {
     "name": "stderr",
     "output_type": "stream",
     "text": [
      "Processing 三国演义:  19%|█▉        | 144/758 [09:30<36:18,  3.55s/it]"
     ]
    },
    {
     "name": "stdout",
     "output_type": "stream",
     "text": [
      "张飞用计夜袭刘岱营寨，生擒刘岱后释放，但随后又拦截并威胁刘岱、王忠，玄德则安排防御曹操的策略。\n"
     ]
    },
    {
     "name": "stderr",
     "output_type": "stream",
     "text": [
      "Processing 三国演义:  19%|█▉        | 145/758 [09:35<40:28,  3.96s/it]"
     ]
    },
    {
     "name": "stdout",
     "output_type": "stream",
     "text": [
      "孙干、简雍、糜竺、糜芳守徐州，玄德与张飞屯小沛。曹操欲斩刘岱、王忠，孔融谏止，建议先招安张绣、刘表。张绣在贾诩的建议下投降曹操，曹操封赏二人，并命张绣招安刘表。\n"
     ]
    },
    {
     "name": "stderr",
     "output_type": "stream",
     "text": [
      "Processing 三国演义:  19%|█▉        | 146/758 [09:39<38:26,  3.77s/it]"
     ]
    },
    {
     "name": "stdout",
     "output_type": "stream",
     "text": [
      "某人向皇帝推荐祢衡，称其才智超群，应召入朝。皇帝看表后，命曹操召见祢衡，但曹操对祢衡的态度冷淡。\n"
     ]
    },
    {
     "name": "stderr",
     "output_type": "stream",
     "text": [
      "Processing 三国演义:  19%|█▉        | 147/758 [09:42<36:41,  3.60s/it]"
     ]
    },
    {
     "name": "stdout",
     "output_type": "stream",
     "text": [
      "祢衡嘲讽曹操及其部下无能，被任命为鼓吏以羞辱，后在宴会上裸体击鼓抗议，最终被派往荆州劝降刘表。\n"
     ]
    },
    {
     "name": "stderr",
     "output_type": "stream",
     "text": [
      "Processing 三国演义:  20%|█▉        | 148/758 [09:46<37:26,  3.68s/it]"
     ]
    },
    {
     "name": "stdout",
     "output_type": "stream",
     "text": [
      "祢衡在荆州讥讽刘表，被派往见黄祖，最终被黄祖斩杀。刘表拒绝袁绍使者，考虑归附曹操，韩嵩被派往许都观察形势，后被曹操任命为官。\n"
     ]
    },
    {
     "name": "stderr",
     "output_type": "stream",
     "text": [
      "Processing 三国演义:  20%|█▉        | 149/758 [09:51<41:03,  4.05s/it]"
     ]
    },
    {
     "name": "stdout",
     "output_type": "stream",
     "text": [
      "祢衡因言辞得罪黄祖被杀，曹操得知后欲兴兵问罪，但被荀彧劝阻，建议先平定袁绍和刘备。同时，董承与王子服等密谋反曹，吉平虽为医者，亦参与其中，誓言助董承。\n"
     ]
    },
    {
     "name": "stderr",
     "output_type": "stream",
     "text": [
      "Processing 三国演义:  20%|█▉        | 150/758 [09:55<41:53,  4.13s/it]"
     ]
    },
    {
     "name": "stdout",
     "output_type": "stream",
     "text": [
      "吉平计划用毒药暗杀曹操，但曹操识破并拷问吉平，吉平坚称自主要杀曹操，最终被严刑拷打。\n"
     ]
    },
    {
     "name": "stderr",
     "output_type": "stream",
     "text": [
      "Processing 三国演义:  20%|█▉        | 151/758 [09:59<41:47,  4.13s/it]"
     ]
    },
    {
     "name": "stdout",
     "output_type": "stream",
     "text": [
      "曹操怀疑吉平与董承等人密谋反叛，设宴审问吉平，吉平受刑不屈，曹操又审问王子服等四人，未果后监禁四人，次日探病董承，以吉平之事质问董承，董承否认。\n"
     ]
    },
    {
     "name": "stderr",
     "output_type": "stream",
     "text": [
      "Processing 三国演义:  20%|██        | 152/758 [10:05<46:54,  4.65s/it]"
     ]
    },
    {
     "name": "stdout",
     "output_type": "stream",
     "text": [
      "小说讲述了曹操审问吉平，吉平誓言杀贼，被曹操截去九指并割舌，最终撞阶自尽。曹操随后审问董承，搜出衣带诏并处死董承全家及同谋者，共七百余人。曹操还欲废献帝，但被程昱劝阻，最终只处决了董承等人。曹操还带剑入宫，欲杀董贵妃。\n"
     ]
    },
    {
     "name": "stderr",
     "output_type": "stream",
     "text": [
      "Processing 三国演义:  20%|██        | 153/758 [10:09<45:04,  4.47s/it]"
     ]
    },
    {
     "name": "stdout",
     "output_type": "stream",
     "text": [
      "曹操因怀疑董承谋反，怒气冲冲入宫质问皇帝，并处死怀孕的董妃。随后，曹操计划除掉马腾和刘备，决定东征刘备，分兵五路攻打徐州。刘备得知后，派孙干向袁绍求救。\n"
     ]
    },
    {
     "name": "stderr",
     "output_type": "stream",
     "text": [
      "Processing 三国演义:  20%|██        | 154/758 [10:12<41:16,  4.10s/it]"
     ]
    },
    {
     "name": "stdout",
     "output_type": "stream",
     "text": [
      "袁绍因幼子病重拒绝出兵攻曹操，田丰痛惜失去良机。孙干回报刘备，张飞建议劫曹操营寨，曹操预知并设伏，张飞中计。\n"
     ]
    },
    {
     "name": "stderr",
     "output_type": "stream",
     "text": [
      "Processing 三国演义:  20%|██        | 155/758 [10:15<37:04,  3.69s/it]"
     ]
    },
    {
     "name": "stdout",
     "output_type": "stream",
     "text": [
      "张飞在曹操八路军马围攻下突围，刘备劫寨失败后投奔袁绍，曹操攻占小沛并计划攻打下邳。\n"
     ]
    },
    {
     "name": "stderr",
     "output_type": "stream",
     "text": [
      "Processing 三国演义:  21%|██        | 156/758 [10:18<35:14,  3.51s/it]"
     ]
    },
    {
     "name": "stdout",
     "output_type": "stream",
     "text": [
      "程昱设计诱使关公出城，设伏兵截断其归路，关公被困土山，张辽上山劝降，告知曹操善待刘备家眷，关公心生动摇。\n"
     ]
    },
    {
     "name": "stderr",
     "output_type": "stream",
     "text": [
      "Processing 三国演义:  21%|██        | 157/758 [10:22<34:53,  3.48s/it]"
     ]
    },
    {
     "name": "stdout",
     "output_type": "stream",
     "text": [
      "关羽在绝境中被张辽劝降，提出三个条件：只降汉帝不降曹操、保护刘备家眷、一旦得知刘备下落即刻离去。曹操接受条件后，关羽暂降并等待机会寻找刘备。\n"
     ]
    },
    {
     "name": "stderr",
     "output_type": "stream",
     "text": [
      "Processing 三国演义:  21%|██        | 158/758 [10:24<32:54,  3.29s/it]"
     ]
    },
    {
     "name": "stdout",
     "output_type": "stream",
     "text": [
      "曹操退军三十里，关羽入城保护二嫂，与曹操约定三事，曹操应允并厚待关羽，关羽坚守义气，保护二嫂，曹操敬服。\n"
     ]
    },
    {
     "name": "stderr",
     "output_type": "stream",
     "text": [
      "Processing 三国演义:  21%|██        | 159/758 [10:28<32:19,  3.24s/it]"
     ]
    },
    {
     "name": "stdout",
     "output_type": "stream",
     "text": [
      "关公在曹操处，虽受新袍仍罩旧袍以示不忘刘备，曹操赠马后关公因马能日行千里而喜，曹操因此不悦。\n"
     ]
    },
    {
     "name": "stderr",
     "output_type": "stream",
     "text": [
      "Processing 三国演义:  21%|██        | 160/758 [10:31<32:26,  3.26s/it]"
     ]
    },
    {
     "name": "stdout",
     "output_type": "stream",
     "text": [
      "关羽虽受曹操厚待，但心系刘备，誓死不降曹，决心立功后离去；刘备在袁绍处忧虑，袁绍决定兴兵攻曹操，田丰因谏被囚。\n"
     ]
    },
    {
     "name": "stderr",
     "output_type": "stream",
     "text": [
      "Processing 三国演义:  21%|██        | 161/758 [10:35<35:36,  3.58s/it]"
     ]
    },
    {
     "name": "stdout",
     "output_type": "stream",
     "text": [
      "曹操率军十五万迎战颜良，颜良连斩宋宪、魏续二将，徐晃战败，曹操忧闷。程昱推荐关羽对抗颜良，曹操担心关羽立功后离去，程昱分析利害后曹操请关羽出战。关羽自信满满，准备迎战颜良。\n"
     ]
    },
    {
     "name": "stderr",
     "output_type": "stream",
     "text": [
      "Processing 三国演义:  21%|██▏       | 162/758 [10:38<33:54,  3.41s/it]"
     ]
    },
    {
     "name": "stdout",
     "output_type": "stream",
     "text": [
      "关羽单骑斩杀颜良，袁绍误以为刘备通谋，欲斩之，后因刘备辩解而免，袁绍决定派文丑与刘备追击曹操。\n"
     ]
    },
    {
     "name": "stderr",
     "output_type": "stream",
     "text": [
      "Processing 三国演义:  22%|██▏       | 163/758 [10:41<32:50,  3.31s/it]"
     ]
    },
    {
     "name": "stdout",
     "output_type": "stream",
     "text": [
      "曹操军与袁绍军交战，文丑率军先行，曹操巧妙布局，以粮草诱敌，最终关羽斩杀文丑，曹操军大胜，夺回粮草马匹。\n"
     ]
    },
    {
     "name": "stderr",
     "output_type": "stream",
     "text": [
      "Processing 三国演义:  22%|██▏       | 164/758 [10:46<36:02,  3.64s/it]"
     ]
    },
    {
     "name": "stdout",
     "output_type": "stream",
     "text": [
      "关羽在曹操军中斩杀文丑，刘备得知后欲相见却被曹兵阻隔。袁绍因误信刘备指使关羽杀文丑而欲斩刘备，后被刘备说服。刘备提议派人联系关羽，袁绍同意。曹操庆祝关羽功绩，关羽请求再次出征，曹操同意。\n"
     ]
    },
    {
     "name": "stderr",
     "output_type": "stream",
     "text": [
      "Processing 三国演义:  22%|██▏       | 165/758 [10:50<36:36,  3.70s/it]"
     ]
    },
    {
     "name": "stdout",
     "output_type": "stream",
     "text": [
      "关公在曹操处得知刘备在袁绍处，决定前往相会，但担心之前斩杀袁绍二将影响计划。孙干提供情报，关公佯装败退，成功前往袁绍处寻找刘备。\n"
     ]
    },
    {
     "name": "stderr",
     "output_type": "stream",
     "text": [
      "Processing 三国演义:  22%|██▏       | 166/758 [10:54<38:22,  3.89s/it]"
     ]
    },
    {
     "name": "stdout",
     "output_type": "stream",
     "text": [
      "关公接到刘备的书信，决定辞别曹操去寻找刘备，但曹操故意回避不见，关公决定留下所有赏赐，坚决离开。\n"
     ]
    },
    {
     "name": "stderr",
     "output_type": "stream",
     "text": [
      "Processing 三国演义:  22%|██▏       | 167/758 [10:57<37:06,  3.77s/it]"
     ]
    },
    {
     "name": "stdout",
     "output_type": "stream",
     "text": [
      "关公决定离开曹操，写信辞别，封存金银，悬挂印章，护送二夫人及随从北行，曹操虽惊但赞其忠义，不许追击，反命张辽送行赠礼。\n"
     ]
    },
    {
     "name": "stderr",
     "output_type": "stream",
     "text": [
      "Processing 三国演义:  22%|██▏       | 168/758 [11:00<34:05,  3.47s/it]"
     ]
    },
    {
     "name": "stdout",
     "output_type": "stream",
     "text": [
      "张辽奉曹操之命追上关羽，曹操亲自前来送行并赠黄金和锦袍，关羽拒绝黄金但接受锦袍，随后继续北上寻找车仗。\n"
     ]
    },
    {
     "name": "stderr",
     "output_type": "stream",
     "text": [
      "Processing 三国演义:  22%|██▏       | 169/758 [11:04<35:13,  3.59s/it]"
     ]
    },
    {
     "name": "stdout",
     "output_type": "stream",
     "text": [
      "廖化因世乱聚众劫掠，误劫刘备夫人，后杀杜远救出夫人，并拒绝关公的感谢和金帛，自行离去。关公护送二夫人继续前行，途中得到胡华的帮助，并承诺传递书信。\n"
     ]
    },
    {
     "name": "stderr",
     "output_type": "stream",
     "text": [
      "Processing 三国演义:  22%|██▏       | 170/758 [11:08<35:12,  3.59s/it]"
     ]
    },
    {
     "name": "stdout",
     "output_type": "stream",
     "text": [
      "关公在过关时因无文凭与守关将孔秀发生冲突，杀孔秀后继续前行，在洛阳关又与韩福交战，斩杀韩福后受伤，连夜赶往汜水关。\n"
     ]
    },
    {
     "name": "stderr",
     "output_type": "stream",
     "text": [
      "Processing 三国演义:  23%|██▎       | 171/758 [11:11<33:45,  3.45s/it]"
     ]
    },
    {
     "name": "stdout",
     "output_type": "stream",
     "text": [
      "卞喜设伏欲害关公，普净示警助其识破阴谋，关公斩卞喜后继续前行，荥阳太守王植计划暗害关公。\n"
     ]
    },
    {
     "name": "stderr",
     "output_type": "stream",
     "text": [
      "Processing 三国演义:  23%|██▎       | 172/758 [11:14<34:39,  3.55s/it]"
     ]
    },
    {
     "name": "stdout",
     "output_type": "stream",
     "text": [
      "关公在寻兄途中，被王植安排在馆驿休息，王植密谋夜半放火烧死关公，胡班得知后告知关公，关公及时逃出并斩杀王植，继续前往寻找刘备。\n"
     ]
    },
    {
     "name": "stderr",
     "output_type": "stream",
     "text": [
      "Processing 三国演义:  23%|██▎       | 173/758 [11:17<32:58,  3.38s/it]"
     ]
    },
    {
     "name": "stdout",
     "output_type": "stream",
     "text": [
      "关公欲渡黄河寻兄，遭秦琪阻拦，斩秦琪后渡河，历经五关斩六将，后得知刘备已往汝南，遂前往相会。\n"
     ]
    },
    {
     "name": "stderr",
     "output_type": "stream",
     "text": [
      "Processing 三国演义:  23%|██▎       | 174/758 [11:21<33:34,  3.45s/it]"
     ]
    },
    {
     "name": "stdout",
     "output_type": "stream",
     "text": [
      "关公与孙干保护二夫人前往汝南，途中被夏侯惇追赶并试图交战，但因曹操的使者多次传达命令要求放行，最终夏侯惇被迫退兵，关公继续前行寻找刘备。\n"
     ]
    },
    {
     "name": "stderr",
     "output_type": "stream",
     "text": [
      "Processing 三国演义:  23%|██▎       | 175/758 [11:25<34:54,  3.59s/it]"
     ]
    },
    {
     "name": "stdout",
     "output_type": "stream",
     "text": [
      "关公与孙干在郭常庄上借宿，郭常之子试图盗取赤兔马被抓，关公宽恕后，次日郭常之子再次逃离，关公继续护送车仗前行，途中遭遇黄巾军和郭常之子的袭击。\n"
     ]
    },
    {
     "name": "stderr",
     "output_type": "stream",
     "text": [
      "Processing 三国演义:  23%|██▎       | 176/758 [11:29<35:24,  3.65s/it]"
     ]
    },
    {
     "name": "stdout",
     "output_type": "stream",
     "text": [
      "关公途中遭遇黄巾军裴元绍欲夺赤兔马，裴元绍不识关公，关公展示长髯后裴元绍投降。后周仓率众来投，关公因二夫人不同意而未收留，让他们回山等待。\n"
     ]
    },
    {
     "name": "stderr",
     "output_type": "stream",
     "text": [
      "Processing 三国演义:  23%|██▎       | 177/758 [11:32<33:13,  3.43s/it]"
     ]
    },
    {
     "name": "stdout",
     "output_type": "stream",
     "text": [
      "周仓投降关公，关公寻找失散的兄弟张飞，在古城相遇，但张飞误会关公背叛，后经解释误会解除。\n"
     ]
    },
    {
     "name": "stderr",
     "output_type": "stream",
     "text": [
      "Processing 三国演义:  23%|██▎       | 178/758 [11:35<32:17,  3.34s/it]"
     ]
    },
    {
     "name": "stdout",
     "output_type": "stream",
     "text": [
      "张飞误会关羽投降曹操，关羽斩杀蔡阳以证明清白，后糜竺、糜芳证实关羽忠诚，张飞释怀，计划与关羽一同前往汝南见刘备。\n"
     ]
    },
    {
     "name": "stderr",
     "output_type": "stream",
     "text": [
      "Processing 三国演义:  24%|██▎       | 179/758 [11:40<37:27,  3.88s/it]"
     ]
    },
    {
     "name": "stdout",
     "output_type": "stream",
     "text": [
      "关公与孙干前往汝南探听刘备消息，得知刘备已往河北袁绍处。关公决定再次前往河北寻找刘备，并命周仓招兵。孙干先入河北与刘备商议，关公则在庄院暂歇。刘备与孙干、简雍商议脱身之计，计划以联合刘表攻曹操为由离开袁绍。\n"
     ]
    },
    {
     "name": "stderr",
     "output_type": "stream",
     "text": [
      "Processing 三国演义:  24%|██▎       | 180/758 [11:44<38:00,  3.95s/it]"
     ]
    },
    {
     "name": "stdout",
     "output_type": "stream",
     "text": [
      "刘备劝袁绍不要杀关羽，袁绍同意并派人召关羽，刘备与简雍一同前往荆州，途中收关平为义子，后在卧牛山遇到受伤的周仓，得知赵云在此，玄德与关羽前往相见。\n"
     ]
    },
    {
     "name": "stderr",
     "output_type": "stream",
     "text": [
      "Processing 三国演义:  24%|██▍       | 181/758 [11:50<42:22,  4.41s/it]"
     ]
    },
    {
     "name": "stdout",
     "output_type": "stream",
     "text": [
      "赵云因公孙瓒不听劝告而兵败，后欲投刘备，但因刘备四处流离而未能相见。偶遇刘备后，赵云决定追随，一同前往古城与张飞等重聚。袁绍因刘备不归而怒，计划联合孙策对抗曹操。孙策在江东势力强大，曹操感叹难以与之争锋。\n"
     ]
    },
    {
     "name": "stderr",
     "output_type": "stream",
     "text": [
      "Processing 三国演义:  24%|██▍       | 182/758 [11:53<40:34,  4.23s/it]"
     ]
    },
    {
     "name": "stdout",
     "output_type": "stream",
     "text": [
      "孙策因许贡暗通曹操而被激怒，斩杀许贡并遭遇其家客刺杀，身受重伤。后因性急不听医嘱，闻郭嘉轻视之言大怒，不顾伤势欲出兵攻许昌。\n"
     ]
    },
    {
     "name": "stderr",
     "output_type": "stream",
     "text": [
      "Processing 三国演义:  24%|██▍       | 183/758 [11:57<38:42,  4.04s/it]"
     ]
    },
    {
     "name": "stdout",
     "output_type": "stream",
     "text": [
      "孙策因怒欲斩道士于吉，虽遭张昭及母亲劝阻，仍坚持将其囚禁，引发众官求情，孙策不从，坚持己见。\n"
     ]
    },
    {
     "name": "stderr",
     "output_type": "stream",
     "text": [
      "Processing 三国演义:  24%|██▍       | 184/758 [12:00<37:09,  3.88s/it]"
     ]
    },
    {
     "name": "stdout",
     "output_type": "stream",
     "text": [
      "孙策欲杀于吉，吕范建议于吉祈雨赎罪。于吉成功祈得大雨，但孙策仍不信，最终斩杀于吉。于吉死后尸首消失，孙策见其鬼魂，心生恐惧。\n"
     ]
    },
    {
     "name": "stderr",
     "output_type": "stream",
     "text": [
      "Processing 三国演义:  24%|██▍       | 185/758 [12:03<34:05,  3.57s/it]"
     ]
    },
    {
     "name": "stdout",
     "output_type": "stream",
     "text": [
      "孙策因杀于吉而不断遭遇其鬼魂的干扰，导致精神崩溃，最终在嘱咐弟弟孙权继承江东大业后，因金疮复发而亡。\n"
     ]
    },
    {
     "name": "stderr",
     "output_type": "stream",
     "text": [
      "Processing 三国演义:  25%|██▍       | 186/758 [12:07<33:45,  3.54s/it]"
     ]
    },
    {
     "name": "stdout",
     "output_type": "stream",
     "text": [
      "孙策临终将印绶传给弟弟孙权，并嘱咐内事问张昭，外事问周瑜，后孙权继位，周瑜回吴辅佐，推荐鲁肃为辅。\n"
     ]
    },
    {
     "name": "stderr",
     "output_type": "stream",
     "text": [
      "Processing 三国演义:  25%|██▍       | 187/758 [12:12<39:14,  4.12s/it]"
     ]
    },
    {
     "name": "stdout",
     "output_type": "stream",
     "text": [
      "鲁肃因周瑜推荐，被孙权聘为谋士，建议孙权鼎足江东以观天下之衅，并得到孙权的重用和赏赐。同时，鲁肃推荐诸葛瑾给孙权，孙权也予以重用。曹操欲伐江南，但被张纮劝阻，反而封孙权为将军，孙权因此威震江东，深得民心。\n"
     ]
    },
    {
     "name": "stderr",
     "output_type": "stream",
     "text": [
      "Processing 三国演义:  25%|██▍       | 188/758 [12:16<38:08,  4.01s/it]"
     ]
    },
    {
     "name": "stdout",
     "output_type": "stream",
     "text": [
      "袁绍因孙策去世，孙权被曹操封为将军而大怒，率七十余万大军攻打许昌。袁绍不听田丰和沮授的劝谏，坚持进攻，与曹操在官渡对峙，双方展开激烈的军事对抗。\n"
     ]
    },
    {
     "name": "stderr",
     "output_type": "stream",
     "text": [
      "Processing 三国演义:  25%|██▍       | 189/758 [12:22<42:53,  4.52s/it]"
     ]
    },
    {
     "name": "stdout",
     "output_type": "stream",
     "text": [
      "许褚与高览交战，曹操派兵冲击袁绍阵，审配指挥弓箭手反击，曹军败退至官渡。袁绍筑土山射箭，曹操造发石车反击，审配又挖地道，曹操掘长堑防御。曹操军力渐乏，考虑撤退，荀彧来信鼓励坚守，认为袁绍虽众但无用，曹操有机会取胜。\n"
     ]
    },
    {
     "name": "stderr",
     "output_type": "stream",
     "text": [
      "Processing 三国演义:  25%|██▌       | 190/758 [12:25<39:54,  4.22s/it]"
     ]
    },
    {
     "name": "stdout",
     "output_type": "stream",
     "text": [
      "曹操得知袁绍将运粮，派徐晃截击成功，烧毁粮草，袁绍军心动摇，曹操加固防御。袁绍未能采纳许攸袭击许昌的建议，错失良机。\n"
     ]
    },
    {
     "name": "stderr",
     "output_type": "stream",
     "text": [
      "Processing 三国演义:  25%|██▌       | 191/758 [12:28<35:37,  3.77s/it]"
     ]
    },
    {
     "name": "stdout",
     "output_type": "stream",
     "text": [
      "许攸因被袁绍误解而离开，后投奔曹操，曹操热情接待并询问破袁绍之计，许攸提出关键策略，曹操大喜。\n"
     ]
    },
    {
     "name": "stderr",
     "output_type": "stream",
     "text": [
      "Processing 三国演义:  25%|██▌       | 192/758 [12:33<38:49,  4.12s/it]"
     ]
    },
    {
     "name": "stdout",
     "output_type": "stream",
     "text": [
      "许攸向曹操献计，建议烧毁袁绍的粮草辎重以破敌。曹操采纳并亲自领兵前往乌巢劫粮，同时设伏以防袁绍反击。沮授向袁绍预警天象异常，提醒加强乌巢防备，但被袁绍忽视。曹操成功伪装成袁军，顺利接近乌巢。\n"
     ]
    },
    {
     "name": "stderr",
     "output_type": "stream",
     "text": [
      "Processing 三国演义:  25%|██▌       | 193/758 [12:36<36:04,  3.83s/it]"
     ]
    },
    {
     "name": "stdout",
     "output_type": "stream",
     "text": [
      "曹操伪装成蒋奇部队，成功烧毁乌巢粮草，击败袁绍援军，袁绍因误信虚假情报未及时救援，导致乌巢失守，张郃、高览败退。\n"
     ]
    },
    {
     "name": "stderr",
     "output_type": "stream",
     "text": [
      "Processing 三国演义:  26%|██▌       | 194/758 [12:39<34:26,  3.66s/it]"
     ]
    },
    {
     "name": "stdout",
     "output_type": "stream",
     "text": [
      "郭图诬陷张邰、高览有意投降曹操，导致二人真的投降曹操。曹操利用张邰、高览攻击袁绍，袁绍军心大乱，最终大败，曹操获得全胜。\n"
     ]
    },
    {
     "name": "stderr",
     "output_type": "stream",
     "text": [
      "Processing 三国演义:  26%|██▌       | 195/758 [12:45<40:27,  4.31s/it]"
     ]
    },
    {
     "name": "stdout",
     "output_type": "stream",
     "text": [
      "曹操发现许都及军中有人与袁绍暗通书信，决定不追究并焚毁书信。袁绍兵败后，沮授被曹操俘获，拒绝投降后被杀，曹操后悔并厚葬沮授。袁绍败逃至黎阳，后悔未听田丰之言，逢纪诬陷田丰，导致袁绍下令杀田丰。田丰预感自己将死，因其了解袁绍的性格。\n"
     ]
    },
    {
     "name": "stderr",
     "output_type": "stream",
     "text": [
      "Processing 三国演义:  26%|██▌       | 196/758 [12:49<39:39,  4.23s/it]"
     ]
    },
    {
     "name": "stdout",
     "output_type": "stream",
     "text": [
      "田丰因忠言被袁绍误解而自刎狱中，袁绍回冀州后心烦意乱，与四臣商议立嗣，最终决定立三子袁尚为后嗣，随后袁绍家族成员带兵助战曹操。\n"
     ]
    },
    {
     "name": "stderr",
     "output_type": "stream",
     "text": [
      "Processing 三国演义:  26%|██▌       | 197/758 [12:57<49:47,  5.33s/it]"
     ]
    },
    {
     "name": "stdout",
     "output_type": "stream",
     "text": [
      "曹操严令军纪，禁止士兵伤害百姓，赢得民心。袁绍集结大军与曹操对峙，袁尚在阵前击败曹军将领史涣。曹操采纳程昱的十面埋伏计策，成功诱使袁绍军队陷入绝境，最终袁绍军队大败，袁绍与其子仓皇逃窜。\n"
     ]
    },
    {
     "name": "stderr",
     "output_type": "stream",
     "text": [
      "Processing 三国演义:  26%|██▌       | 198/758 [13:02<49:24,  5.29s/it]"
     ]
    },
    {
     "name": "stdout",
     "output_type": "stream",
     "text": [
      "袁绍在战败后，命令部下回各自州整顿，自己则回冀州养病。曹操得知袁绍病重，决定暂时不攻冀州，而是回军抵御刘备的进攻。刘备在穰山与曹操交战，初期取得胜利，但随后面临曹军的围攻和夏侯惇的抄后路威胁，形势危急。\n"
     ]
    },
    {
     "name": "stderr",
     "output_type": "stream",
     "text": [
      "Processing 三国演义:  26%|██▋       | 199/758 [13:05<43:20,  4.65s/it]"
     ]
    },
    {
     "name": "stdout",
     "output_type": "stream",
     "text": [
      "刘备在战乱中被曹操军队围困，赵云英勇救主，与敌将激战，最终刘备与家小及张飞、关羽等会合，共同抵抗曹军追击。\n"
     ]
    },
    {
     "name": "stderr",
     "output_type": "stream",
     "text": [
      "Processing 三国演义:  26%|██▋       | 200/758 [13:10<42:31,  4.57s/it]"
     ]
    },
    {
     "name": "stdout",
     "output_type": "stream",
     "text": [
      "刘备战败后，与关羽、张飞、赵云逃至汉江边，感叹命运不济，提议部下另寻明主。孙干建议投靠刘表，并自告奋勇前去说服。刘表最终接纳刘备，亲自迎接并提供住所，而曹操得知后计划攻打。\n"
     ]
    },
    {
     "name": "stderr",
     "output_type": "stream",
     "text": [
      "Processing 三国演义:  27%|██▋       | 201/758 [13:15<43:42,  4.71s/it]"
     ]
    },
    {
     "name": "stdout",
     "output_type": "stream",
     "text": [
      "曹操听从程昱建议，回许都养军蓄锐，待机攻袁绍和荆襄。袁绍病愈后欲攻许都，但袁尚自负其勇，单独出兵被张辽击败，袁绍因此病情加重去世。袁尚继位，审配等主持丧事，刘夫人杀害袁绍宠妾并其家属。\n"
     ]
    },
    {
     "name": "stderr",
     "output_type": "stream",
     "text": [
      "Processing 三国演义:  27%|██▋       | 202/758 [13:21<47:54,  5.17s/it]"
     ]
    },
    {
     "name": "stdout",
     "output_type": "stream",
     "text": [
      "袁谭在郭图的建议下，观察冀州动态，郭图入冀州见袁尚，袁尚命逢纪随郭图回袁谭军中。袁谭大怒欲斩逢纪，郭图劝阻。后袁谭军败，求救于袁尚，袁尚只发少量兵力，被曹操军半路坑杀。袁谭怒斩逢纪，欲降曹操，袁尚得知后亲自领兵救援，形成对峙态势。\n"
     ]
    },
    {
     "name": "stderr",
     "output_type": "stream",
     "text": [
      "Processing 三国演义:  27%|██▋       | 203/758 [13:27<49:03,  5.30s/it]"
     ]
    },
    {
     "name": "stdout",
     "output_type": "stream",
     "text": [
      "曹操攻打袁谭、袁熙、袁尚、高干，四人败退。郭嘉建议曹操南征荆州，等待袁氏内乱。袁谭不满袁尚继承父业，计划杀尚，但被王修劝阻。袁尚得知计划后攻打袁谭，袁谭败逃。袁谭再次战败后，计划投降曹操，利用曹操攻打袁尚，再反攻曹操。\n"
     ]
    },
    {
     "name": "stderr",
     "output_type": "stream",
     "text": [
      "Processing 三国演义:  27%|██▋       | 204/758 [13:29<40:57,  4.44s/it]"
     ]
    },
    {
     "name": "stdout",
     "output_type": "stream",
     "text": [
      "袁谭被袁尚攻击，派辛毗向曹操求援，曹操决定先攻袁尚再考虑袁谭，最终袁谭投降曹操。\n"
     ]
    },
    {
     "name": "stderr",
     "output_type": "stream",
     "text": [
      "Processing 三国演义:  27%|██▋       | 205/758 [13:34<42:41,  4.63s/it]"
     ]
    },
    {
     "name": "stdout",
     "output_type": "stream",
     "text": [
      "曹操与袁谭结亲，封赏吕旷、吕翔以笼络河北人心，袁谭暗中送印给二吕以图内应，曹操得知后心生杀意。袁尚计划攻打平原以先绝袁谭后破曹，曹操则分兵攻打尹楷和邯郸，最终引大军攻抵冀州，采用地道战术攻城。\n"
     ]
    },
    {
     "name": "stderr",
     "output_type": "stream",
     "text": [
      "Processing 三国演义:  27%|██▋       | 206/758 [13:40<45:08,  4.91s/it]"
     ]
    },
    {
     "name": "stdout",
     "output_type": "stream",
     "text": [
      "审配识破冯礼的投降并引兵从地道进攻的计谋，导致冯礼及三百壮士死亡。曹操因此放弃地道战术，退军等待袁尚。袁尚试图从小路劫曹营解围，但曹操预料并分兵应对。袁尚在阳平亭设伏，但曹操识破其计谋，最终袁尚大败，退守西山，后被迫夜逃。\n"
     ]
    },
    {
     "name": "stderr",
     "output_type": "stream",
     "text": [
      "Processing 三国演义:  27%|██▋       | 207/758 [13:45<45:10,  4.92s/it]"
     ]
    },
    {
     "name": "stdout",
     "output_type": "stream",
     "text": [
      "曹操利用计谋击败尚军，迫使袁尚投降后，又攻打冀州。许攸建议决漳河水淹城，审配未加防备，导致城内水深粮绝。审配侄子审荣暗中献城门，曹操军入城，审配被擒后拒绝投降，最终被处死。\n"
     ]
    },
    {
     "name": "stderr",
     "output_type": "stream",
     "text": [
      "Processing 三国演义:  27%|██▋       | 208/758 [13:49<44:37,  4.87s/it]"
     ]
    },
    {
     "name": "stdout",
     "output_type": "stream",
     "text": [
      "曹操在审配死后，因其忠义而葬之，并赦免了陈琳。曹操长子曹丕擅自进入袁绍家，欲杀袁绍妻刘氏及袁熙妻甄氏，但见甄氏美貌后改变主意，承诺保护她们。曹操得知后，最终同意曹丕娶甄氏为妻。\n"
     ]
    },
    {
     "name": "stderr",
     "output_type": "stream",
     "text": [
      "Processing 三国演义:  28%|██▊       | 209/758 [13:56<50:11,  5.49s/it]"
     ]
    },
    {
     "name": "stdout",
     "output_type": "stream",
     "text": [
      "曹操在冀州祭奠袁绍并表达哀思，免除当地租赋，自领冀州牧。许褚因许攸侮辱而杀之，曹操责备许褚并厚葬许攸。曹操召见崔琰并采纳其建议，重视民情。曹操探查袁谭消息，得知袁谭攻打袁尚，决定亲自征讨。刘备建议刘表不救援袁氏兄弟，以书信和解。\n"
     ]
    },
    {
     "name": "stderr",
     "output_type": "stream",
     "text": [
      "Processing 三国演义:  28%|██▊       | 210/758 [13:59<42:05,  4.61s/it]"
     ]
    },
    {
     "name": "stdout",
     "output_type": "stream",
     "text": [
      "袁谭因曹操侵犯其境而心生异心，最终在南皮与曹操决战，战败被杀，百姓遭受重创。\n"
     ]
    },
    {
     "name": "stderr",
     "output_type": "stream",
     "text": [
      "Processing 三国演义:  28%|██▊       | 211/758 [14:05<45:36,  5.00s/it]"
     ]
    },
    {
     "name": "stdout",
     "output_type": "stream",
     "text": [
      "袁熙部将焦触、张南投降曹操，黑山贼张燕也率军来降，曹操封他们为将军。曹操下令不得为袁谭哭泣，但王修因忠义而哭，曹操赞赏其义，命其收葬袁谭。袁尚、袁熙逃往辽西，幽州刺史乌桓触率众投降曹操。同时，曹操派兵攻打并州，使用诈降计谋破高干。\n"
     ]
    },
    {
     "name": "stderr",
     "output_type": "stream",
     "text": [
      "Processing 三国演义:  28%|██▊       | 212/758 [14:09<43:38,  4.80s/it]"
     ]
    },
    {
     "name": "stdout",
     "output_type": "stream",
     "text": [
      "高干中曹操计谋，失去壶关后投奔单于，被拒绝后转投刘表，途中被杀。曹操决定西击乌桓，郭嘉建议轻兵速进，最终留下郭嘉养病，寻找向导继续前进。\n"
     ]
    },
    {
     "name": "stderr",
     "output_type": "stream",
     "text": [
      "Processing 三国演义:  28%|██▊       | 213/758 [14:15<45:57,  5.06s/it]"
     ]
    },
    {
     "name": "stdout",
     "output_type": "stream",
     "text": [
      "曹操采纳田畴建议，封其为将军并作为向导，率军击败袁熙、袁尚及蹋顿的联军，斩杀蹋顿，收复柳城。曹操回师途中遭遇困境，但最终成功返回易州。郭嘉去世，曹操悲痛，并收到郭嘉遗书，暗示辽东将有变。公孙康决定不接纳袁熙、袁尚，以防后患。\n"
     ]
    },
    {
     "name": "stderr",
     "output_type": "stream",
     "text": [
      "Processing 三国演义:  28%|██▊       | 214/758 [14:19<43:44,  4.82s/it]"
     ]
    },
    {
     "name": "stdout",
     "output_type": "stream",
     "text": [
      "袁熙、袁尚投奔公孙康，密谋夺取辽东以对抗曹操。公孙康得知曹操无意攻辽东后，设伏杀二袁，将首级送与曹操，曹操封赏公孙康并按兵不动，计划未来南下策略。\n"
     ]
    },
    {
     "name": "stderr",
     "output_type": "stream",
     "text": [
      "Processing 三国演义:  28%|██▊       | 215/758 [14:23<40:32,  4.48s/it]"
     ]
    },
    {
     "name": "stdout",
     "output_type": "stream",
     "text": [
      "曹操在金光处掘出铜雀，认为是吉祥之兆，遂建铜雀台庆祝。同时，刘备在荆州受到刘表厚待，后领兵平定江夏叛乱，刘表担忧外患，刘备提出部署三将防守。\n"
     ]
    },
    {
     "name": "stderr",
     "output_type": "stream",
     "text": [
      "Processing 三国演义:  28%|██▊       | 216/758 [14:27<40:35,  4.49s/it]"
     ]
    },
    {
     "name": "stdout",
     "output_type": "stream",
     "text": [
      "蔡夫人担心刘备与荆州人往来密切，建议刘表防范，刘表未决。刘备赠刘表张武之马“的卢”，蒯越警告此马不吉，刘表归还。刘备被派往新野，后建议刘表趁曹操北征时袭击许昌，刘表未采纳。\n"
     ]
    },
    {
     "name": "stderr",
     "output_type": "stream",
     "text": [
      "Processing 三国演义:  29%|██▊       | 217/758 [14:31<38:15,  4.24s/it]"
     ]
    },
    {
     "name": "stdout",
     "output_type": "stream",
     "text": [
      "刘表与刘备讨论曹操势力增强及荆州继承问题，刘备建议不废长立幼，蔡夫人窃听后心生恨意，玄德感慨时光流逝与未建功业。\n"
     ]
    },
    {
     "name": "stderr",
     "output_type": "stream",
     "text": [
      "Processing 三国演义:  29%|██▉       | 218/758 [14:36<40:05,  4.45s/it]"
     ]
    },
    {
     "name": "stdout",
     "output_type": "stream",
     "text": [
      "伊籍夜报刘备蔡瑁欲害之，刘备未辞刘表即逃回新野。蔡瑁诬刘备反，刘表初信后疑，蔡瑁设宴襄阳欲谋刘备，刘备带赵云赴会，赵云严密保护。\n"
     ]
    },
    {
     "name": "stderr",
     "output_type": "stream",
     "text": [
      "Processing 三国演义:  29%|██▉       | 219/758 [14:41<40:50,  4.55s/it]"
     ]
    },
    {
     "name": "stdout",
     "output_type": "stream",
     "text": [
      "刘备应刘琦之请主持宴会，蔡瑁密谋在宴会上杀害刘备，刘备得伊籍警告后骑的卢马逃出西门，遭遇檀溪阻隔，的卢马奇迹般跃过檀溪，助刘备逃脱蔡瑁追捕。\n"
     ]
    },
    {
     "name": "stderr",
     "output_type": "stream",
     "text": [
      "Processing 三国演义:  29%|██▉       | 220/758 [14:45<38:50,  4.33s/it]"
     ]
    },
    {
     "name": "stdout",
     "output_type": "stream",
     "text": [
      "玄德在檀溪险被蔡瑁追杀，幸得赵云及时赶到救援，玄德跃马过溪逃脱，赵云追问蔡瑁未果，最终引军返回新野。\n"
     ]
    },
    {
     "name": "stderr",
     "output_type": "stream",
     "text": [
      "Processing 三国演义:  29%|██▉       | 221/758 [14:50<41:08,  4.60s/it]"
     ]
    },
    {
     "name": "stdout",
     "output_type": "stream",
     "text": [
      "刘备跃马过溪后，偶遇牧童，得知其师为水镜先生司马徽，遂前往拜访，水镜指出刘备困境在于身边无得力助手。\n"
     ]
    },
    {
     "name": "stderr",
     "output_type": "stream",
     "text": [
      "Processing 三国演义:  29%|██▉       | 222/758 [14:58<50:10,  5.62s/it]"
     ]
    },
    {
     "name": "stdout",
     "output_type": "stream",
     "text": [
      "刘备与水镜讨论人才问题，水镜暗示刘备应寻找伏龙、凤雏以安定天下，但未透露具体人物。刘备夜晚听到水镜与一神秘人对话，得知此人有才但未遇明主，次日询问水镜，水镜仍未明言，只笑而不答。\n"
     ]
    },
    {
     "name": "stderr",
     "output_type": "stream",
     "text": [
      "Processing 三国演义:  29%|██▉       | 223/758 [15:04<51:41,  5.80s/it]"
     ]
    },
    {
     "name": "stdout",
     "output_type": "stream",
     "text": [
      "刘备在水镜庄遇到赵云，得知有人欲害自己，急忙返回新野。后孙干向刘表报告蔡瑁的阴谋，刘表怒责蔡瑁但未杀。刘琦因继母蔡氏的威胁向刘备求助，刘备劝其尽孝。刘备在市上遇到单福，单福预言刘备的马会妨主，刘备分享了跃马檀溪的经历。\n"
     ]
    },
    {
     "name": "stderr",
     "output_type": "stream",
     "text": [
      "Processing 三国演义:  30%|██▉       | 224/758 [15:08<47:55,  5.39s/it]"
     ]
    },
    {
     "name": "stdout",
     "output_type": "stream",
     "text": [
      "刘备在新野招兵买马，曹操派曹仁、李典等攻打，刘备听从单福的计策，分兵三路迎战，成功击败曹军，斩杀吕旷、吕翔，大胜而归。\n"
     ]
    },
    {
     "name": "stderr",
     "output_type": "stream",
     "text": [
      "Processing 三国演义:  30%|██▉       | 225/758 [15:15<50:04,  5.64s/it]"
     ]
    },
    {
     "name": "stdout",
     "output_type": "stream",
     "text": [
      "曹仁因二将被诛而愤怒，决定亲自率军攻打新野，李典劝阻无效，两人一同出兵。单福预料到曹仁的行动，建议刘备趁机夺取空虚的樊城。两军交战，赵云与李典交锋，李典败退。次日，曹仁布下八门金锁阵，单福识破并指导刘备如何破阵。\n"
     ]
    },
    {
     "name": "stderr",
     "output_type": "stream",
     "text": [
      "Processing 三国演义:  30%|██▉       | 226/758 [15:19<47:25,  5.35s/it]"
     ]
    },
    {
     "name": "stdout",
     "output_type": "stream",
     "text": [
      "曹仁在战斗中被刘备军击败，尝试夜袭失败后撤退，刘备军趁机占领樊城，曹仁败退回许昌。刘备在樊城收寇封为义子，后返回新野。曹仁回许昌向曹操请罪。\n"
     ]
    },
    {
     "name": "stderr",
     "output_type": "stream",
     "text": [
      "Processing 三国演义:  30%|██▉       | 227/758 [15:24<44:45,  5.06s/it]"
     ]
    },
    {
     "name": "stdout",
     "output_type": "stream",
     "text": [
      "曹操询问刘备的谋士是谁，得知是徐庶后，计划通过控制徐庶的母亲来迫使徐庶归顺，但徐母坚决反对并攻击曹操，最终曹操决定不杀徐母，以保留控制徐庶的可能性。\n"
     ]
    },
    {
     "name": "stderr",
     "output_type": "stream",
     "text": [
      "Processing 三国演义:  30%|███       | 228/758 [15:27<40:48,  4.62s/it]"
     ]
    },
    {
     "name": "stdout",
     "output_type": "stream",
     "text": [
      "程昱伪造徐母家书诱徐庶离开刘备投曹操，徐庶得知母亲被囚，决定离开刘备以全孝道，刘备虽不舍但尊重其选择。\n"
     ]
    },
    {
     "name": "stderr",
     "output_type": "stream",
     "text": [
      "Processing 三国演义:  30%|███       | 229/758 [15:30<36:20,  4.12s/it]"
     ]
    },
    {
     "name": "stdout",
     "output_type": "stream",
     "text": [
      "刘备与徐庶告别，徐庶因母命离去，临行推荐诸葛亮，刘备决定亲自拜访求贤。\n"
     ]
    },
    {
     "name": "stderr",
     "output_type": "stream",
     "text": [
      "Processing 三国演义:  30%|███       | 230/758 [15:34<34:58,  3.98s/it]"
     ]
    },
    {
     "name": "stdout",
     "output_type": "stream",
     "text": [
      "徐庶推荐诸葛亮给刘备，后因母被曹操囚禁而离开刘备前往许昌，曹操欢迎徐庶，但徐母责备徐庶不忠。\n"
     ]
    },
    {
     "name": "stderr",
     "output_type": "stream",
     "text": [
      "Processing 三国演义:  30%|███       | 231/758 [15:37<33:40,  3.83s/it]"
     ]
    },
    {
     "name": "stdout",
     "output_type": "stream",
     "text": [
      "徐庶因曹操伪造其母书信而离开刘备，徐母因此自缢，徐庶悲痛欲绝。曹操准备南征，刘备欲拜访诸葛亮。\n"
     ]
    },
    {
     "name": "stderr",
     "output_type": "stream",
     "text": [
      "Processing 三国演义:  31%|███       | 232/758 [15:40<30:54,  3.52s/it]"
     ]
    },
    {
     "name": "stdout",
     "output_type": "stream",
     "text": [
      "刘备寻找隐士诸葛亮，听闻其自比古代贤臣，但初次拜访未遇，留下深刻印象。\n"
     ]
    },
    {
     "name": "stderr",
     "output_type": "stream",
     "text": [
      "Processing 三国演义:  31%|███       | 233/758 [15:43<30:08,  3.44s/it]"
     ]
    },
    {
     "name": "stdout",
     "output_type": "stream",
     "text": [
      "刘备在隆中等待诸葛亮未果，偶遇其友崔州平，与其讨论天下大势后，得知诸葛亮已回，决定亲自拜访。\n"
     ]
    },
    {
     "name": "stderr",
     "output_type": "stream",
     "text": [
      "Processing 三国演义:  31%|███       | 234/758 [15:48<34:13,  3.92s/it]"
     ]
    },
    {
     "name": "stdout",
     "output_type": "stream",
     "text": [
      "刘备坚持再次拜访诸葛亮，不顾严寒和风雪，途中偶遇两位隐士，得知他们并非诸葛亮，但仍坚持前往卧龙庄寻找，最终得以见到诸葛亮。\n"
     ]
    },
    {
     "name": "stderr",
     "output_type": "stream",
     "text": [
      "Processing 三国演义:  31%|███       | 235/758 [15:53<36:32,  4.19s/it]"
     ]
    },
    {
     "name": "stdout",
     "output_type": "stream",
     "text": [
      "刘备冒风雪拜访卧龙诸葛亮，却遇到其弟诸葛均，得知诸葛亮外出未归。刘备留下书信表达敬意后离开，正欲离去时，童子告知老先生归来。\n"
     ]
    },
    {
     "name": "stderr",
     "output_type": "stream",
     "text": [
      "Processing 三国演义:  31%|███       | 236/758 [15:57<36:03,  4.14s/it]"
     ]
    },
    {
     "name": "stdout",
     "output_type": "stream",
     "text": [
      "刘备在风雪中偶遇黄承彦，误以为是诸葛亮，交谈后得知真相，决定再次拜访诸葛亮，尽管关羽和张飞对此表示不满。\n"
     ]
    },
    {
     "name": "stderr",
     "output_type": "stream",
     "text": [
      "Processing 三国演义:  31%|███▏      | 237/758 [16:00<31:58,  3.68s/it]"
     ]
    },
    {
     "name": "stdout",
     "output_type": "stream",
     "text": [
      "刘备拜访诸葛亮，诸葛亮高卧不起，刘备耐心等待，最终两人相见并讨论天下大事。\n"
     ]
    },
    {
     "name": "stderr",
     "output_type": "stream",
     "text": [
      "Processing 三国演义:  31%|███▏      | 238/758 [16:04<32:52,  3.79s/it]"
     ]
    },
    {
     "name": "stdout",
     "output_type": "stream",
     "text": [
      "刘备向诸葛亮请教如何复兴汉室，诸葛亮分析天下形势，建议刘备占据荆州和益州，结盟孙权，待机而动。刘备感动，恳请诸葛亮出山相助，诸葛亮最终答应。\n"
     ]
    },
    {
     "name": "stderr",
     "output_type": "stream",
     "text": [
      "Processing 三国演义:  32%|███▏      | 239/758 [16:08<33:47,  3.91s/it]"
     ]
    },
    {
     "name": "stdout",
     "output_type": "stream",
     "text": [
      "刘备三顾茅庐请诸葛亮出山，诸葛亮嘱咐其弟耕田待其功成归隐，后与刘备同回新野，共商天下大事。同时，孙权在江东广纳贤士，巩固势力。\n"
     ]
    },
    {
     "name": "stderr",
     "output_type": "stream",
     "text": [
      "Processing 三国演义:  32%|███▏      | 240/758 [16:13<35:52,  4.15s/it]"
     ]
    },
    {
     "name": "stdout",
     "output_type": "stream",
     "text": [
      "周瑜劝孙权不送人质给曹操，孙权听从；孙权伐黄祖失败，凌操战死，凌统夺回父尸；孙翊被妫览、戴员谋杀，徐氏设计报仇，最终成功诱杀妫览。\n"
     ]
    },
    {
     "name": "stderr",
     "output_type": "stream",
     "text": [
      "Processing 三国演义:  32%|███▏      | 241/758 [16:17<36:56,  4.29s/it]"
     ]
    },
    {
     "name": "stdout",
     "output_type": "stream",
     "text": [
      "徐氏设计杀死叛贼妫览和戴员，为夫孙翊报仇，后孙权封赏徐氏及其助手，平定江东山贼，孙权母亲临终嘱托，孙权考虑伐黄祖，吕蒙报告甘宁投降之事。\n"
     ]
    },
    {
     "name": "stderr",
     "output_type": "stream",
     "text": [
      "Processing 三国演义:  32%|███▏      | 242/758 [16:21<35:53,  4.17s/it]"
     ]
    },
    {
     "name": "stdout",
     "output_type": "stream",
     "text": [
      "孙权接纳甘宁，决定攻打黄祖，甘宁建议先破黄祖再图巴蜀，孙权采纳并亲自领兵攻打。黄祖败退，孙权继续追击。\n"
     ]
    },
    {
     "name": "stderr",
     "output_type": "stream",
     "text": [
      "Processing 三国演义:  32%|███▏      | 243/758 [16:26<38:07,  4.44s/it]"
     ]
    },
    {
     "name": "stdout",
     "output_type": "stream",
     "text": [
      "甘宁伏击黄祖并成功斩杀，后因苏飞求救而请求孙权赦免其罪，孙权同意。凌统因父仇欲杀甘宁，孙权调解后，甘宁被派往夏口镇守，凌统被封为承烈都尉。\n"
     ]
    },
    {
     "name": "stderr",
     "output_type": "stream",
     "text": [
      "Processing 三国演义:  32%|███▏      | 244/758 [16:32<40:50,  4.77s/it]"
     ]
    },
    {
     "name": "stdout",
     "output_type": "stream",
     "text": [
      "东吴备战，孙权屯兵柴桑，周瑜训练水军。刘备得知东吴攻杀黄祖后，与孔明商议对策，应刘表邀请前往荆州议事，期间刘表欲让荆州给刘备，刘备婉拒。刘琦求助刘备解决家庭纷争，刘备安排孔明回访刘琦以寻求解决方案。\n"
     ]
    },
    {
     "name": "stderr",
     "output_type": "stream",
     "text": [
      "Processing 三国演义:  32%|███▏      | 245/758 [16:38<42:55,  5.02s/it]"
     ]
    },
    {
     "name": "stdout",
     "output_type": "stream",
     "text": [
      "刘琦因继母不容，求助诸葛亮，诸葛亮初不愿介入，后在刘琦的坚持下，建议刘琦请求守江夏以避祸。刘琦依计行事，成功避开了家族纷争。同时，曹操在北方集结兵力，准备南征，夏侯惇被任命为都督，率军攻打刘备所在的新野。\n"
     ]
    },
    {
     "name": "stderr",
     "output_type": "stream",
     "text": [
      "Processing 三国演义:  32%|███▏      | 246/758 [16:43<44:26,  5.21s/it]"
     ]
    },
    {
     "name": "stdout",
     "output_type": "stream",
     "text": [
      "荀彧、徐庶提醒曹操刘备与诸葛亮不可轻视，夏侯惇自信能擒刘备、诸葛亮，曹操命其出征。刘备得诸葛亮辅佐，关、张不满但被刘备劝服。诸葛亮建议招募民兵备战，夏侯惇率军来袭，诸葛亮被授权指挥迎战。\n"
     ]
    },
    {
     "name": "stderr",
     "output_type": "stream",
     "text": [
      "Processing 三国演义:  33%|███▎      | 247/758 [16:48<43:13,  5.08s/it]"
     ]
    },
    {
     "name": "stdout",
     "output_type": "stream",
     "text": [
      "孔明部署伏兵，安排关羽、张飞等人分别在豫山、安林埋伏，待敌军至时放火焚烧粮草，赵云诱敌深入，刘备后援，最终成功设伏击败夏侯惇。\n"
     ]
    },
    {
     "name": "stderr",
     "output_type": "stream",
     "text": [
      "Processing 三国演义:  33%|███▎      | 248/758 [16:56<49:38,  5.84s/it]"
     ]
    },
    {
     "name": "stdout",
     "output_type": "stream",
     "text": [
      "夏侯惇轻敌追击刘备至博望坡，被诸葛亮设下的火攻计击败，曹军大败，夏侯惇收拾残军撤回许昌。\n"
     ]
    },
    {
     "name": "stderr",
     "output_type": "stream",
     "text": [
      "Processing 三国演义:  33%|███▎      | 249/758 [17:00<46:59,  5.54s/it]"
     ]
    },
    {
     "name": "stdout",
     "output_type": "stream",
     "text": [
      "刘备向孔明求助对抗曹操的策略，孔明建议夺取荆州作为安身之地，但刘备不忍背叛刘表。曹操决定大举南征，孔融因谏言被曹操处死。\n"
     ]
    },
    {
     "name": "stderr",
     "output_type": "stream",
     "text": [
      "Processing 三国演义:  33%|███▎      | 250/758 [17:05<45:31,  5.38s/it]"
     ]
    },
    {
     "name": "stdout",
     "output_type": "stream",
     "text": [
      "曹操因孔融直言而杀之，荀彧劝阻未果。刘表病重，欲托孤于刘备，但曹操大军逼近，刘备急回新野。刘表死后，蔡夫人假遗嘱立刘琮为荆州之主，李珪反对被杀。\n"
     ]
    },
    {
     "name": "stderr",
     "output_type": "stream",
     "text": [
      "Processing 三国演义:  33%|███▎      | 251/758 [17:11<45:18,  5.36s/it]"
     ]
    },
    {
     "name": "stdout",
     "output_type": "stream",
     "text": [
      "蔡瑁立刘琮为荆州之主，曹操大军逼近襄阳，刘琮与蒯越、蔡瑁商议对策，傅巽建议投降曹操以保荆襄，刘琮犹豫不决，王粲支持投降，最终刘琮决定投降并需禀告母亲蔡夫人。\n"
     ]
    },
    {
     "name": "stderr",
     "output_type": "stream",
     "text": [
      "Processing 三国演义:  33%|███▎      | 252/758 [17:15<43:05,  5.11s/it]"
     ]
    },
    {
     "name": "stdout",
     "output_type": "stream",
     "text": [
      "刘琮决定投降曹操，派宋忠送降书，宋忠被关羽捉住并透露情报，刘备得知后决定不杀宋忠，而是计划前往襄阳问罪，但最终决定撤退至樊城以避曹军。\n"
     ]
    },
    {
     "name": "stderr",
     "output_type": "stream",
     "text": [
      "Processing 三国演义:  33%|███▎      | 253/758 [17:19<39:01,  4.64s/it]"
     ]
    },
    {
     "name": "stdout",
     "output_type": "stream",
     "text": [
      "诸葛亮安排各将领在新野城内外设伏，利用火攻和水淹战术，成功击退曹军，保护了百姓和官员家眷。\n"
     ]
    },
    {
     "name": "stderr",
     "output_type": "stream",
     "text": [
      "Processing 三国演义:  34%|███▎      | 254/758 [17:22<36:07,  4.30s/it]"
     ]
    },
    {
     "name": "stdout",
     "output_type": "stream",
     "text": [
      "曹仁在新野遭遇火攻，损失惨重，后在白河被关羽放水淹没，最终收拾残军屯住新野，向曹操报告失利情况。\n"
     ]
    },
    {
     "name": "stderr",
     "output_type": "stream",
     "text": [
      "Processing 三国演义:  34%|███▎      | 255/758 [17:27<36:05,  4.30s/it]"
     ]
    },
    {
     "name": "stdout",
     "output_type": "stream",
     "text": [
      "曹操派徐庶劝降刘备，刘备拒绝后，曹操发兵攻打。刘备带领百姓撤离樊城，途中百姓遭受苦难，刘备悲痛欲绝，最终到达襄阳寻求庇护，但遭到刘琮拒绝。\n"
     ]
    },
    {
     "name": "stderr",
     "output_type": "stream",
     "text": [
      "Processing 三国演义:  34%|███▍      | 256/758 [17:31<36:16,  4.33s/it]"
     ]
    },
    {
     "name": "stdout",
     "output_type": "stream",
     "text": [
      "魏延打开城门迎接刘备，与文聘交战后逃走；刘备带领百姓撤离襄阳，拒绝抛弃民众，感动百姓；曹操大军逼近，刘备派关羽求援，张飞断后，赵云保护家属，缓慢撤退。\n"
     ]
    },
    {
     "name": "stderr",
     "output_type": "stream",
     "text": [
      "Processing 三国演义:  34%|███▍      | 257/758 [17:35<36:15,  4.34s/it]"
     ]
    },
    {
     "name": "stdout",
     "output_type": "stream",
     "text": [
      "蔡瑁、张允投降曹操，王威建议刘琮趁机反击，但被蔡瑁拒绝并威胁。曹操封赏蔡瑁、张允，后派于禁追杀刘琮母子，王威抵抗被杀。\n"
     ]
    },
    {
     "name": "stderr",
     "output_type": "stream",
     "text": [
      "Processing 三国演义:  34%|███▍      | 258/758 [17:42<42:12,  5.06s/it]"
     ]
    },
    {
     "name": "stdout",
     "output_type": "stream",
     "text": [
      "曹操派于禁杀刘琮及蔡夫人，后命人搜寻孔明家眷未果。荀攸建议攻占江陵以防刘备，曹操选文聘引军前往。刘备带百姓缓慢前往江陵，孔明前往江夏求援。刘备途中遇凶兆，夜宿景山时遭曹操军袭击，幸得张飞救援，艰难逃脱。\n"
     ]
    },
    {
     "name": "stderr",
     "output_type": "stream",
     "text": [
      "Processing 三国演义:  34%|███▍      | 259/758 [17:46<39:59,  4.81s/it]"
     ]
    },
    {
     "name": "stdout",
     "output_type": "stream",
     "text": [
      "刘备在战乱中失去众多随从和家人，糜芳误以为赵云叛变，张飞欲追杀赵云，而赵云则在寻找刘备的家人。\n"
     ]
    },
    {
     "name": "stderr",
     "output_type": "stream",
     "text": [
      "Processing 三国演义:  34%|███▍      | 260/758 [17:52<40:49,  4.92s/it]"
     ]
    },
    {
     "name": "stdout",
     "output_type": "stream",
     "text": [
      "赵云在战乱中寻找失散的甘夫人和糜夫人及其子，途中救出糜竺，击败敌将，夺回宝剑，最终找到受伤的糜夫人和小主人。\n"
     ]
    },
    {
     "name": "stderr",
     "output_type": "stream",
     "text": [
      "Processing 三国演义:  34%|███▍      | 261/758 [17:55<38:04,  4.60s/it]"
     ]
    },
    {
     "name": "stdout",
     "output_type": "stream",
     "text": [
      "糜夫人将阿斗托付给赵云后投井自尽，赵云护送阿斗冲出曹军重围，途中击败多员敌将，最终成功突围。\n"
     ]
    },
    {
     "name": "stderr",
     "output_type": "stream",
     "text": [
      "Processing 三国演义:  35%|███▍      | 262/758 [18:00<38:08,  4.61s/it]"
     ]
    },
    {
     "name": "stdout",
     "output_type": "stream",
     "text": [
      "赵云在曹操军中勇猛突围，保护后主阿斗，杀死多名敌将，最终在张飞的帮助下成功逃脱，将阿斗安全送回刘备身边。\n"
     ]
    },
    {
     "name": "stderr",
     "output_type": "stream",
     "text": [
      "Processing 三国演义:  35%|███▍      | 263/758 [18:04<35:23,  4.29s/it]"
     ]
    },
    {
     "name": "stdout",
     "output_type": "stream",
     "text": [
      "张飞在长坂桥上威吓曹军，曹操心生退意，张飞趁机断桥，但刘备认为此举可能引来曹操追击。\n"
     ]
    },
    {
     "name": "stderr",
     "output_type": "stream",
     "text": [
      "Processing 三国演义:  35%|███▍      | 264/758 [18:09<37:39,  4.57s/it]"
     ]
    },
    {
     "name": "stdout",
     "output_type": "stream",
     "text": [
      "刘备在长坂桥断桥后，曹操认为刘备心怯，急速追击。刘备逃至汉津，关羽突然出现截击曹操，曹操意识到中了诸葛亮的计谋，急忙撤军。刘备与关羽会合后，刘琦也率军前来接应，最终刘备安全撤离。\n"
     ]
    },
    {
     "name": "stderr",
     "output_type": "stream",
     "text": [
      "Processing 三国演义:  35%|███▍      | 265/758 [18:14<37:46,  4.60s/it]"
     ]
    },
    {
     "name": "stdout",
     "output_type": "stream",
     "text": [
      "刘备在江夏与孔明、刘琦商议对策，孔明建议坚守夏口，整顿军备以抵抗曹操。曹操则计划联合孙权共擒刘备，孙权在柴桑商议御守之策，鲁肃提议联合刘备共抗曹操。\n"
     ]
    },
    {
     "name": "stderr",
     "output_type": "stream",
     "text": [
      "Processing 三国演义:  35%|███▌      | 266/758 [18:17<36:02,  4.40s/it]"
     ]
    },
    {
     "name": "stdout",
     "output_type": "stream",
     "text": [
      "孔明建议刘备投靠东吴孙权，利用南北对峙从中取利，并成功利用鲁肃来访的机会，探听曹操军情，同时提出联合东吴共图大业的策略。\n"
     ]
    },
    {
     "name": "stderr",
     "output_type": "stream",
     "text": [
      "Processing 三国演义:  35%|███▌      | 267/758 [18:21<34:11,  4.18s/it]"
     ]
    },
    {
     "name": "stdout",
     "output_type": "stream",
     "text": [
      "鲁肃邀请诸葛亮一同前往见孙权商议对抗曹操的大事，诸葛亮最终同意前往，两人在舟中讨论策略，鲁肃提醒诸葛亮不要透露曹操兵力强大。\n"
     ]
    },
    {
     "name": "stderr",
     "output_type": "stream",
     "text": [
      "Processing 三国演义:  35%|███▌      | 268/758 [18:26<36:02,  4.41s/it]"
     ]
    },
    {
     "name": "stdout",
     "output_type": "stream",
     "text": [
      "孙权对众人的议论感到失望，但发现子敬的计划与自己想法一致，感到欣慰。子敬引荐诸葛亮，孙权决定次日召集文武官员讨论，并让诸葛亮参与。诸葛亮在孙权面前表现出色，巧妙回应张昭的质疑，显示其才智和策略。\n"
     ]
    },
    {
     "name": "stderr",
     "output_type": "stream",
     "text": [
      "Processing 三国演义:  35%|███▌      | 269/758 [18:30<34:05,  4.18s/it]"
     ]
    },
    {
     "name": "stdout",
     "output_type": "stream",
     "text": [
      "孔明在辩论中反驳张昭对刘备的批评，强调刘备的仁义和战略智慧，并指出刘备虽败犹荣，最终使得张昭无言以对。\n"
     ]
    },
    {
     "name": "stderr",
     "output_type": "stream",
     "text": [
      "Processing 三国演义:  36%|███▌      | 270/758 [18:34<33:35,  4.13s/it]"
     ]
    },
    {
     "name": "stdout",
     "output_type": "stream",
     "text": [
      "孔明与步骘、薛综、陆绩、严峻等人辩论，强调忠孝为本，批评曹操为汉贼，反驳对方对刘备和曹操的评价，最终使对方无言以对。\n"
     ]
    },
    {
     "name": "stderr",
     "output_type": "stream",
     "text": [
      "Processing 三国演义:  36%|███▌      | 271/758 [18:37<30:50,  3.80s/it]"
     ]
    },
    {
     "name": "stdout",
     "output_type": "stream",
     "text": [
      "孔明在东吴面对众人的质疑和挑战，巧妙应对，最终被引入见孙权，讨论对抗曹操的策略。\n"
     ]
    },
    {
     "name": "stderr",
     "output_type": "stream",
     "text": [
      "Processing 三国演义:  36%|███▌      | 272/758 [18:41<31:09,  3.85s/it]"
     ]
    },
    {
     "name": "stdout",
     "output_type": "stream",
     "text": [
      "孔明向孙权分析曹操的军事实力，建议孙权根据自身力量决定是否对抗曹操，孙权听后愤怒退场，后经鲁肃劝解，重新邀请孔明商讨对策。\n"
     ]
    },
    {
     "name": "stderr",
     "output_type": "stream",
     "text": [
      "Processing 三国演义:  36%|███▌      | 273/758 [18:45<31:45,  3.93s/it]"
     ]
    },
    {
     "name": "stdout",
     "output_type": "stream",
     "text": [
      "孙权在诸葛亮劝说下决定联合刘备抵抗曹操，但内部意见不一，孙权犹豫不决，最终在母亲提醒下回忆起国母遗言，决心抵抗曹操。\n"
     ]
    },
    {
     "name": "stderr",
     "output_type": "stream",
     "text": [
      "Processing 三国演义:  36%|███▌      | 274/758 [18:52<40:09,  4.98s/it]"
     ]
    },
    {
     "name": "stdout",
     "output_type": "stream",
     "text": [
      "吴国太建议孙权询问周瑜关于内外事务的决策，周瑜被召回商议对抗曹操的策略，面对不同意见，周瑜表明自己已有主张，准备与孙权定议。\n"
     ]
    },
    {
     "name": "stderr",
     "output_type": "stream",
     "text": [
      "Processing 三国演义:  36%|███▋      | 275/758 [18:58<41:00,  5.10s/it]"
     ]
    },
    {
     "name": "stdout",
     "output_type": "stream",
     "text": [
      "周瑜与吕蒙、甘宁等讨论战降问题，意见不一。晚间，鲁肃带孔明来访，孔明提出投降曹操的建议，但暗中提出一计，只需送两人至曹操处，即可退兵。\n"
     ]
    },
    {
     "name": "stderr",
     "output_type": "stream",
     "text": [
      "Processing 三国演义:  36%|███▋      | 276/758 [19:01<37:07,  4.62s/it]"
     ]
    },
    {
     "name": "stdout",
     "output_type": "stream",
     "text": [
      "曹操欲得江东二乔，诸葛亮以《铜雀台赋》中提及二乔的诗句激怒周瑜，周瑜因此决心与曹操决战。\n"
     ]
    },
    {
     "name": "stderr",
     "output_type": "stream",
     "text": [
      "Processing 三国演义:  37%|███▋      | 277/758 [19:05<34:58,  4.36s/it]"
     ]
    },
    {
     "name": "stdout",
     "output_type": "stream",
     "text": [
      "周瑜决心北伐，请求孔明协助，两人计划共同对抗曹操。次日，周瑜在孙权面前分析曹操的弱点，并请求领兵对抗，孙权最终决定与曹操决战。\n"
     ]
    },
    {
     "name": "stderr",
     "output_type": "stream",
     "text": [
      "Processing 三国演义:  37%|███▋      | 278/758 [19:10<36:51,  4.61s/it]"
     ]
    },
    {
     "name": "stdout",
     "output_type": "stream",
     "text": [
      "孙权赐剑给周瑜，封他为大都督，命令众将听从号令，周瑜与孔明商议破曹策略，后向孙权解释曹军虚实，孙权释疑并支持周瑜出兵，周瑜考虑杀孔明以除后患，但鲁肃建议招揽孔明。\n"
     ]
    },
    {
     "name": "stderr",
     "output_type": "stream",
     "text": [
      "Processing 三国演义:  37%|███▋      | 279/758 [19:14<35:27,  4.44s/it]"
     ]
    },
    {
     "name": "stdout",
     "output_type": "stream",
     "text": [
      "周瑜调兵遣将，准备讨伐曹操，同时试图说服诸葛瑾劝其弟孔明离开刘备投靠东吴，但未成功。周瑜因此心生杀意，准备对付孔明。\n"
     ]
    },
    {
     "name": "stderr",
     "output_type": "stream",
     "text": [
      "Processing 三国演义:  37%|███▋      | 280/758 [19:18<32:52,  4.13s/it]"
     ]
    },
    {
     "name": "stdout",
     "output_type": "stream",
     "text": [
      "周瑜请孔明断曹操粮道，实为借曹操之手除掉孔明，孔明识破计谋，以智应对，最终未中计。\n"
     ]
    },
    {
     "name": "stderr",
     "output_type": "stream",
     "text": [
      "Processing 三国演义:  37%|███▋      | 281/758 [19:21<30:43,  3.86s/it]"
     ]
    },
    {
     "name": "stdout",
     "output_type": "stream",
     "text": [
      "周瑜担心诸葛亮未来成为国家祸患，计划诱杀刘备，刘备不顾云长劝阻，带少数随从前往东吴会见周瑜。\n"
     ]
    },
    {
     "name": "stderr",
     "output_type": "stream",
     "text": [
      "Processing 三国演义:  37%|███▋      | 282/758 [19:25<31:44,  4.00s/it]"
     ]
    },
    {
     "name": "stdout",
     "output_type": "stream",
     "text": [
      "玄德与周瑜会面，周瑜设宴，孔明发现周瑜有杀意，但因关云长在旁保护，玄德安全离开。周瑜因畏惧关云长而不敢下手，后因曹操来信而大怒。\n"
     ]
    },
    {
     "name": "stderr",
     "output_type": "stream",
     "text": [
      "Processing 三国演义:  37%|███▋      | 283/758 [19:31<35:03,  4.43s/it]"
     ]
    },
    {
     "name": "stdout",
     "output_type": "stream",
     "text": [
      "周瑜斩使示威，率军与曹操在三江口交战，甘宁等将领大败曹军。曹操整顿军士，责备蔡瑁、张允，并开始训练水军。周瑜观察曹军水寨后，决定先除掉蔡瑁、张允以破曹。\n"
     ]
    },
    {
     "name": "stderr",
     "output_type": "stream",
     "text": [
      "Processing 三国演义:  37%|███▋      | 284/758 [19:35<34:13,  4.33s/it]"
     ]
    },
    {
     "name": "stdout",
     "output_type": "stream",
     "text": [
      "周瑜偷看曹操水寨被发现后迅速撤离，曹操派蒋干去劝降周瑜，但周瑜识破其意图，设宴款待并明确表示不谈军事，蒋干未能达成目的。\n"
     ]
    },
    {
     "name": "stderr",
     "output_type": "stream",
     "text": [
      "Processing 三国演义:  38%|███▊      | 285/758 [19:39<33:48,  4.29s/it]"
     ]
    },
    {
     "name": "stdout",
     "output_type": "stream",
     "text": [
      "周瑜在群英会上炫耀军力和粮草，与蒋干共饮并同榻而眠，蒋干趁周瑜熟睡偷看文书，发现蔡瑁、张允与东吴勾结的密信。\n"
     ]
    },
    {
     "name": "stderr",
     "output_type": "stream",
     "text": [
      "Processing 三国演义:  38%|███▊      | 286/758 [19:42<30:49,  3.92s/it]"
     ]
    },
    {
     "name": "stdout",
     "output_type": "stream",
     "text": [
      "周瑜利用蒋干传递假消息，导致曹操误杀蔡瑁、张允，从而削弱了曹操的水军力量。\n"
     ]
    },
    {
     "name": "stderr",
     "output_type": "stream",
     "text": [
      "Processing 三国演义:  38%|███▊      | 287/758 [19:47<33:30,  4.27s/it]"
     ]
    },
    {
     "name": "stdout",
     "output_type": "stream",
     "text": [
      "鲁肃奉周瑜之命探听孔明是否知晓周瑜的计谋，孔明识破并警告鲁肃勿泄露，周瑜得知后决定除掉孔明，设局让孔明三日内造十万箭，孔明承诺并签军令状。\n"
     ]
    },
    {
     "name": "stderr",
     "output_type": "stream",
     "text": [
      "Processing 三国演义:  38%|███▊      | 288/758 [19:50<30:39,  3.91s/it]"
     ]
    },
    {
     "name": "stdout",
     "output_type": "stream",
     "text": [
      "诸葛亮向鲁肃借船和士兵，利用大雾天气秘密前往北岸，成功制造十万箭，以应对周瑜的挑战。\n"
     ]
    },
    {
     "name": "stderr",
     "output_type": "stream",
     "text": [
      "Processing 三国演义:  38%|███▊      | 289/758 [19:54<31:49,  4.07s/it]"
     ]
    },
    {
     "name": "stdout",
     "output_type": "stream",
     "text": [
      "孔明利用大雾天气，诱使曹操军射箭，成功收集十万支箭，展现了其卓越的智谋和对天文的精通。\n"
     ]
    },
    {
     "name": "stderr",
     "output_type": "stream",
     "text": [
      "Processing 三国演义:  38%|███▊      | 290/758 [19:59<32:44,  4.20s/it]"
     ]
    },
    {
     "name": "stdout",
     "output_type": "stream",
     "text": [
      "孔明与周瑜各自写下计策，结果都是“火”字，决定用火攻曹操。曹操派蔡中、蔡和诈降东吴，周瑜接纳并利用他们传递假消息。\n"
     ]
    },
    {
     "name": "stderr",
     "output_type": "stream",
     "text": [
      "Processing 三国演义:  38%|███▊      | 291/758 [20:03<32:41,  4.20s/it]"
     ]
    },
    {
     "name": "stdout",
     "output_type": "stream",
     "text": [
      "周瑜识破蔡中、蔡和的诈降计，决定利用他们传递假消息，同时黄盖自愿执行苦肉计以骗取曹操信任，最终周瑜在军事会议上假装怒斩黄盖以实施计策。\n"
     ]
    },
    {
     "name": "stderr",
     "output_type": "stream",
     "text": [
      "Processing 三国演义:  39%|███▊      | 292/758 [20:07<31:13,  4.02s/it]"
     ]
    },
    {
     "name": "stdout",
     "output_type": "stream",
     "text": [
      "周瑜因黄盖违反军法而怒责并施以杖刑，实为苦肉计以诈降曹操，众官不知内情，唯孔明知其计。\n"
     ]
    },
    {
     "name": "stderr",
     "output_type": "stream",
     "text": [
      "Processing 三国演义:  39%|███▊      | 293/758 [20:10<28:48,  3.72s/it]"
     ]
    },
    {
     "name": "stdout",
     "output_type": "stream",
     "text": [
      "阚泽接受黄盖的请求，冒险前往曹营献诈降书，以帮助黄盖报仇并投降曹操。\n"
     ]
    },
    {
     "name": "stderr",
     "output_type": "stream",
     "text": [
      "Processing 三国演义:  39%|███▉      | 294/758 [20:13<28:28,  3.68s/it]"
     ]
    },
    {
     "name": "stdout",
     "output_type": "stream",
     "text": [
      "阚泽向曹操献诈降书，曹操识破后怒斥，阚泽以机智辩解，最终使曹操信服并计划接应黄盖的投降。\n"
     ]
    },
    {
     "name": "stderr",
     "output_type": "stream",
     "text": [
      "Processing 三国演义:  39%|███▉      | 295/758 [20:19<33:21,  4.32s/it]"
     ]
    },
    {
     "name": "stdout",
     "output_type": "stream",
     "text": [
      "阚泽与甘宁密谋反吴投曹，蔡中、蔡和透露自己是曹操派来的诈降者，愿引荐二人。阚泽和甘宁同意后，蔡中、蔡和写信给曹操报告情况。曹操接到信后，派蒋干再次前往东吴探听实情。\n"
     ]
    },
    {
     "name": "stderr",
     "output_type": "stream",
     "text": [
      "Processing 三国演义:  39%|███▉      | 296/758 [20:24<34:02,  4.42s/it]"
     ]
    },
    {
     "name": "stdout",
     "output_type": "stream",
     "text": [
      "庞统向周瑜提出火攻曹操的连环计，周瑜决定由庞统执行此计。蒋干再次来访，被周瑜安排到西山庵中，蒋干偶遇庞统，劝其归曹，庞统同意并连夜投奔曹操。\n"
     ]
    },
    {
     "name": "stderr",
     "output_type": "stream",
     "text": [
      "Processing 三国演义:  39%|███▉      | 297/758 [20:28<33:23,  4.35s/it]"
     ]
    },
    {
     "name": "stdout",
     "output_type": "stream",
     "text": [
      "庞统访问曹操，赞扬其军容严整，提出连环船计策以解决北方士兵不适应水战的问题，并承诺说服江左豪杰投降，曹操大喜，决定采纳庞统的建议。\n"
     ]
    },
    {
     "name": "stderr",
     "output_type": "stream",
     "text": [
      "Processing 三国演义:  39%|███▉      | 298/758 [20:33<33:47,  4.41s/it]"
     ]
    },
    {
     "name": "stdout",
     "output_type": "stream",
     "text": [
      "庞统向曹操献连环计后，被徐庶识破，徐庶要求庞统教他脱身之计，庞统教徐庶散布谣言使曹操派他去守散关，从而徐庶得以脱身。\n"
     ]
    },
    {
     "name": "stderr",
     "output_type": "stream",
     "text": [
      "Processing 三国演义:  39%|███▉      | 299/758 [20:36<31:44,  4.15s/it]"
     ]
    },
    {
     "name": "stdout",
     "output_type": "stream",
     "text": [
      "曹操在长江上设宴会见诸将，表达征服江南的决心，并畅谈个人愿望，包括娶二乔以娱晚年，随后醉酒赋诗表达豪情。\n"
     ]
    },
    {
     "name": "stderr",
     "output_type": "stream",
     "text": [
      "Processing 三国演义:  40%|███▉      | 300/758 [20:41<32:28,  4.25s/it]"
     ]
    },
    {
     "name": "stdout",
     "output_type": "stream",
     "text": [
      "曹操在宴会上吟诗，刘馥批评诗句不吉，曹操愤怒之下将其刺死，后深感懊悔。次日，曹操调遣水军准备进兵，但程昱提醒他需防备敌军火攻。\n"
     ]
    },
    {
     "name": "stderr",
     "output_type": "stream",
     "text": [
      "Processing 三国演义:  40%|███▉      | 301/758 [20:46<34:51,  4.58s/it]"
     ]
    },
    {
     "name": "stdout",
     "output_type": "stream",
     "text": [
      "曹操与部下讨论火攻策略，认为冬季无东风，不必担心敌军火攻。焦触、张南自荐乘船挑战江南水军，曹操同意并提供小船支持。次日，焦触、张南率船出击，与江南水军交战，焦触被韩当击杀。\n"
     ]
    },
    {
     "name": "stderr",
     "output_type": "stream",
     "text": [
      "Processing 三国演义:  40%|███▉      | 302/758 [20:52<38:20,  5.05s/it]"
     ]
    },
    {
     "name": "stdout",
     "output_type": "stream",
     "text": [
      "周泰在战斗中跃过敌船，斩杀张南，随后与韩当、周泰合力对抗文聘。周瑜在山顶指挥，担心韩当、周泰深入敌阵，命令撤退。周瑜观察敌军战船时，突然倒地昏迷，鲁肃请诸葛亮前来诊治。\n"
     ]
    },
    {
     "name": "stderr",
     "output_type": "stream",
     "text": [
      "Processing 三国演义:  40%|███▉      | 303/758 [20:56<35:45,  4.72s/it]"
     ]
    },
    {
     "name": "stdout",
     "output_type": "stream",
     "text": [
      "孔明探望周瑜，通过对话揭示周瑜心病在于急需东风以火攻曹操，孔明提出在南屏山建七星坛借风，周瑜大喜并立即行动。\n"
     ]
    },
    {
     "name": "stderr",
     "output_type": "stream",
     "text": [
      "Processing 三国演义:  40%|████      | 304/758 [21:00<33:50,  4.47s/it]"
     ]
    },
    {
     "name": "stdout",
     "output_type": "stream",
     "text": [
      "孔明在特定时辰登坛祈风，周瑜和鲁肃等待东南风以调兵，最终孔明成功祈得东南风，周瑜因惊骇而欲杀孔明。\n"
     ]
    },
    {
     "name": "stderr",
     "output_type": "stream",
     "text": [
      "Processing 三国演义:  40%|████      | 305/758 [21:03<30:59,  4.11s/it]"
     ]
    },
    {
     "name": "stdout",
     "output_type": "stream",
     "text": [
      "徐盛和丁奉追击诸葛亮，但诸葛亮已预料并由赵云接应，成功逃脱，周瑜感叹诸葛亮的智谋。\n"
     ]
    },
    {
     "name": "stderr",
     "output_type": "stream",
     "text": [
      "Processing 三国演义:  40%|████      | 306/758 [21:08<33:21,  4.43s/it]"
     ]
    },
    {
     "name": "stdout",
     "output_type": "stream",
     "text": [
      "周瑜调遣六队船只执行不同任务，包括接应、焚烧曹操寨栅等，同时黄盖安排火船准备夜袭曹操。孙权派遣陆逊为先锋，准备黄昏时行动。刘玄德等待孔明，孔明到达后分配任务给赵云和张飞，准备伏击曹操。\n"
     ]
    },
    {
     "name": "stderr",
     "output_type": "stream",
     "text": [
      "Processing 三国演义:  41%|████      | 307/758 [21:13<34:42,  4.62s/it]"
     ]
    },
    {
     "name": "stdout",
     "output_type": "stream",
     "text": [
      "孔明派遣糜竺、糜芳、刘封执行任务，并指导刘琦布防武昌。孔明与关羽讨论战略，最终派关羽在华容道设伏。玄德担心关羽会放走曹操，但孔明认为天象显示曹操命不该绝，让关羽做人情也是好事。\n"
     ]
    },
    {
     "name": "stderr",
     "output_type": "stream",
     "text": [
      "Processing 三国演义:  41%|████      | 308/758 [21:16<30:34,  4.08s/it]"
     ]
    },
    {
     "name": "stdout",
     "output_type": "stream",
     "text": [
      "曹操误信黄盖投降，黄盖乘东风火攻曹操水寨，造成曹军大败。\n"
     ]
    },
    {
     "name": "stderr",
     "output_type": "stream",
     "text": [
      "Processing 三国演义:  41%|████      | 309/758 [21:23<35:44,  4.78s/it]"
     ]
    },
    {
     "name": "stdout",
     "output_type": "stream",
     "text": [
      "曹操在赤壁之战中遭遇火攻，黄盖冒烟突火追寻曹操，张辽救曹操下船并射中黄盖使其落水。韩当救起黄盖，黄盖负伤逃得性命。赤壁大战中，曹军损失惨重，后有诗赞周瑜破曹之功。甘宁、吕蒙等在曹寨放火，曹操与张辽逃至乌林。\n"
     ]
    },
    {
     "name": "stderr",
     "output_type": "stream",
     "text": [
      "Processing 三国演义:  41%|████      | 310/758 [21:27<34:49,  4.66s/it]"
     ]
    },
    {
     "name": "stdout",
     "output_type": "stream",
     "text": [
      "曹操在逃亡中遭遇东吴军队的多次伏击，幸得徐晃、马延、张𫖮等将领救援，最终在赵云的追击下勉强逃脱，途中又遭遇大雨，艰难前行至南彝陵。\n"
     ]
    },
    {
     "name": "stderr",
     "output_type": "stream",
     "text": [
      "Processing 三国演义:  41%|████      | 311/758 [21:32<34:24,  4.62s/it]"
     ]
    },
    {
     "name": "stdout",
     "output_type": "stream",
     "text": [
      "曹操军队在葫芦口休息时，曹操嘲笑诸葛亮和周瑜智谋不足，未设伏兵，突然张飞出现，引发混战。曹操选择走华容道小路，认为诸葛亮会在大路设伏，结果小路因雨泥泞难行。\n"
     ]
    },
    {
     "name": "stderr",
     "output_type": "stream",
     "text": [
      "Processing 三国演义:  41%|████      | 312/758 [21:36<33:30,  4.51s/it]"
     ]
    },
    {
     "name": "stdout",
     "output_type": "stream",
     "text": [
      "曹操军队在泥泞中艰难行进，曹操严令填路前行，不顾士兵疲惫与死亡。后被关羽截断去路，曹操以旧恩劝说关羽，关羽念及旧情，最终放走了曹操。\n"
     ]
    },
    {
     "name": "stderr",
     "output_type": "stream",
     "text": [
      "Processing 三国演义:  41%|████▏     | 313/758 [21:40<32:25,  4.37s/it]"
     ]
    },
    {
     "name": "stdout",
     "output_type": "stream",
     "text": [
      "曹操在华容道被关羽放走，后安全到达南郡，计划回许都整顿军马复仇，而关羽因未捉曹操空手回见刘备，受到孔明祝贺，但关羽心情沉重。\n"
     ]
    },
    {
     "name": "stderr",
     "output_type": "stream",
     "text": [
      "Processing 三国演义:  41%|████▏     | 314/758 [21:44<31:09,  4.21s/it]"
     ]
    },
    {
     "name": "stdout",
     "output_type": "stream",
     "text": [
      "孔明因关羽放走曹操而欲斩之，刘备求情后孔明饶恕；周瑜得知刘备屯兵油江，怀疑其欲夺南郡，决定亲自前往交涉。\n"
     ]
    },
    {
     "name": "stderr",
     "output_type": "stream",
     "text": [
      "Processing 三国演义:  42%|████▏     | 315/758 [21:48<30:52,  4.18s/it]"
     ]
    },
    {
     "name": "stdout",
     "output_type": "stream",
     "text": [
      "刘备与周瑜商讨南郡归属，周瑜自信能取南郡，刘备表示若周瑜失败则自己将取之。周瑜派蒋钦等先行攻打，曹仁坚守不出，牛金出战被围。\n"
     ]
    },
    {
     "name": "stderr",
     "output_type": "stream",
     "text": [
      "Processing 三国演义:  42%|████▏     | 316/758 [21:56<39:55,  5.42s/it]"
     ]
    },
    {
     "name": "stdout",
     "output_type": "stream",
     "text": [
      "曹仁在战斗中救出牛金，并与吴军交战得胜。周瑜计划攻打南郡，甘宁建议先取彝陵，周瑜同意并派甘宁攻打彝陵。曹仁得知后派兵救援，甘宁成功夺取彝陵但被围。周瑜决定亲自救援甘宁，留下凌统守备，并采取措施阻断曹军退路。周泰突围救出甘宁，周瑜大军随后到达，准备与曹军决战。\n"
     ]
    },
    {
     "name": "stderr",
     "output_type": "stream",
     "text": [
      "Processing 三国演义:  42%|████▏     | 317/758 [22:01<37:55,  5.16s/it]"
     ]
    },
    {
     "name": "stdout",
     "output_type": "stream",
     "text": [
      "甘宁、周泰突袭曹军，曹军败走，吴军夺马五百余匹。周瑜追至南郡，与曹仁混战，曹仁依曹操遗计撤退，周瑜中计入城被箭射伤，吴军大败。\n"
     ]
    },
    {
     "name": "stderr",
     "output_type": "stream",
     "text": [
      "Processing 三国演义:  42%|████▏     | 318/758 [22:05<34:58,  4.77s/it]"
     ]
    },
    {
     "name": "stdout",
     "output_type": "stream",
     "text": [
      "周瑜因病痛不愿影响战事，得知曹兵挑战后，假装病危诱敌，计划伏击曹仁，最终成功设下陷阱等待曹仁劫寨。\n"
     ]
    },
    {
     "name": "stderr",
     "output_type": "stream",
     "text": [
      "Processing 三国演义:  42%|████▏     | 319/758 [22:10<36:04,  4.93s/it]"
     ]
    },
    {
     "name": "stdout",
     "output_type": "stream",
     "text": [
      "周瑜阵前金疮碎裂，曹仁得知后计划劫寨夺尸，但中计被吴军四面包围大败。周瑜收兵至南郡，发现已被赵云占领，后得知诸葛亮利用兵符夺取荆州和襄阳，周瑜气愤至极，决定攻打南郡夺回城池。\n"
     ]
    },
    {
     "name": "stderr",
     "output_type": "stream",
     "text": [
      "Processing 三国演义:  42%|████▏     | 320/758 [22:14<35:07,  4.81s/it]"
     ]
    },
    {
     "name": "stdout",
     "output_type": "stream",
     "text": [
      "周瑜计划与刘备、诸葛亮决战夺回城池，鲁肃劝阻并提议先谈判。鲁肃前往荆州与诸葛亮交涉荆州归属问题，诸葛亮以刘琦为理由拒绝归还，鲁肃承诺若刘琦不在则归还荆州。\n"
     ]
    },
    {
     "name": "stderr",
     "output_type": "stream",
     "text": [
      "Processing 三国演义:  42%|████▏     | 321/758 [22:19<34:34,  4.75s/it]"
     ]
    },
    {
     "name": "stdout",
     "output_type": "stream",
     "text": [
      "周瑜得知刘琦病重，预谋取荆州，但被孙权召回助战。刘备得荆州后，求贤问计，马良建议先守荆州，再攻四郡。刘备依计行事，开始攻取零陵。\n"
     ]
    },
    {
     "name": "stderr",
     "output_type": "stream",
     "text": [
      "Processing 三国演义:  42%|████▏     | 322/758 [22:23<33:06,  4.56s/it]"
     ]
    },
    {
     "name": "stdout",
     "output_type": "stream",
     "text": [
      "诸葛孔明以智谋诱使邢道荣投降，邢道荣企图反计却被孔明识破，最终被张飞和赵云擒获，孔明利用邢道荣劝降刘度。\n"
     ]
    },
    {
     "name": "stderr",
     "output_type": "stream",
     "text": [
      "Processing 三国演义:  43%|████▎     | 323/758 [22:28<33:45,  4.66s/it]"
     ]
    },
    {
     "name": "stdout",
     "output_type": "stream",
     "text": [
      "刘贤劝父刘度投降刘备，孔明任命刘度为郡守，刘贤随军。刘备询问取桂阳郡人选，赵云和张飞争相前往，最终赵云获胜。赵云领兵至桂阳，陈应出战被赵云生擒后释放，劝赵范投降。\n"
     ]
    },
    {
     "name": "stderr",
     "output_type": "stream",
     "text": [
      "Processing 三国演义:  43%|████▎     | 324/758 [22:32<31:52,  4.41s/it]"
     ]
    },
    {
     "name": "stdout",
     "output_type": "stream",
     "text": [
      "赵范投降赵云并提议结为兄弟，后试图将其寡嫂樊氏嫁给赵云，赵云愤怒拒绝并打倒赵范，赵范计划通过诈降和战斗来对付赵云。\n"
     ]
    },
    {
     "name": "stderr",
     "output_type": "stream",
     "text": [
      "Processing 三国演义:  43%|████▎     | 325/758 [22:36<30:53,  4.28s/it]"
     ]
    },
    {
     "name": "stdout",
     "output_type": "stream",
     "text": [
      "赵云识破赵范的美人计并成功反制，后因赵范提议的婚事涉及道德和忠诚问题而拒绝，最终赵云被重赏，张飞请求领兵攻打武陵郡。\n"
     ]
    },
    {
     "name": "stderr",
     "output_type": "stream",
     "text": [
      "Processing 三国演义:  43%|████▎     | 326/758 [22:40<31:24,  4.36s/it]"
     ]
    },
    {
     "name": "stdout",
     "output_type": "stream",
     "text": [
      "金旋与张飞交战失败，巩志趁机射杀金旋并投降刘备。刘备派张飞替换关羽守荆州，关羽则前往取长沙，面对黄忠的挑战，关羽轻敌只带五百校刀手前往。\n"
     ]
    },
    {
     "name": "stderr",
     "output_type": "stream",
     "text": [
      "Processing 三国演义:  43%|████▎     | 327/758 [22:45<32:00,  4.46s/it]"
     ]
    },
    {
     "name": "stdout",
     "output_type": "stream",
     "text": [
      "关羽与黄忠交战，百余合不分胜负，黄忠因马失前蹄被关羽救起，次日黄忠报恩射中关羽盔缨，韩玄却因此欲杀黄忠。\n"
     ]
    },
    {
     "name": "stderr",
     "output_type": "stream",
     "text": [
      "Processing 三国演义:  43%|████▎     | 328/758 [22:50<34:03,  4.75s/it]"
     ]
    },
    {
     "name": "stdout",
     "output_type": "stream",
     "text": [
      "黄忠被韩玄误判有罪欲斩，魏延救下黄忠并杀韩玄，后投降刘备，孔明因魏延有反骨欲杀之，刘备求情后孔明饶恕魏延。\n"
     ]
    },
    {
     "name": "stderr",
     "output_type": "stream",
     "text": [
      "Processing 三国演义:  43%|████▎     | 329/758 [22:57<38:48,  5.43s/it]"
     ]
    },
    {
     "name": "stdout",
     "output_type": "stream",
     "text": [
      "魏延被警告忠心报主，黄忠推荐刘磐掌管长沙郡，四郡平定后，玄德回荆州并改油江口为公安。周瑜养病，孙权与曹兵交战未果，后与鲁肃商议破合淝之策，孙权大怒张辽挑战，亲自率军迎战，双方激战，乐进试图斩杀孙权未果。\n"
     ]
    },
    {
     "name": "stderr",
     "output_type": "stream",
     "text": [
      "Processing 三国演义:  44%|████▎     | 330/758 [23:02<37:16,  5.22s/it]"
     ]
    },
    {
     "name": "stdout",
     "output_type": "stream",
     "text": [
      "张辽在战斗中追击孙权，被程普救下。孙权因宋谦之死而悲痛，太史慈计划利用内应刺杀张辽报仇，但张辽警惕性高，成功识破并平息了叛乱。\n"
     ]
    },
    {
     "name": "stderr",
     "output_type": "stream",
     "text": [
      "Processing 三国演义:  44%|████▎     | 331/758 [23:07<36:05,  5.07s/it]"
     ]
    },
    {
     "name": "stdout",
     "output_type": "stream",
     "text": [
      "太史慈在攻城时中计身中数箭，后因伤重去世，孙权厚葬之。同时，刘琦病亡，孔明派关羽守襄阳，东吴鲁肃来吊丧并询问荆州归还事宜。\n"
     ]
    },
    {
     "name": "stderr",
     "output_type": "stream",
     "text": [
      "Processing 三国演义:  44%|████▍     | 332/758 [23:11<34:42,  4.89s/it]"
     ]
    },
    {
     "name": "stdout",
     "output_type": "stream",
     "text": [
      "孔明与鲁肃辩论荆州归属，孔明强调刘备的皇室血统和赤壁之战的贡献，最终说服鲁肃接受暂借荆州的协议，并由刘备和孔明签字，鲁肃作为担保人。\n"
     ]
    },
    {
     "name": "stderr",
     "output_type": "stream",
     "text": [
      "Processing 三国演义:  44%|████▍     | 333/758 [23:15<32:10,  4.54s/it]"
     ]
    },
    {
     "name": "stdout",
     "output_type": "stream",
     "text": [
      "鲁肃向周瑜报告未能讨回荆州，周瑜设计通过孙权的妹妹招赘刘备，以此换取荆州，吕范被派往荆州进行媒妁之言。\n"
     ]
    },
    {
     "name": "stderr",
     "output_type": "stream",
     "text": [
      "Processing 三国演义:  44%|████▍     | 334/758 [23:19<31:07,  4.40s/it]"
     ]
    },
    {
     "name": "stdout",
     "output_type": "stream",
     "text": [
      "刘备中年丧妻，吕范来访提议与吴侯之妹联姻，以增强联盟对抗曹操。刘备犹豫，但诸葛亮支持并策划了三条计策，确保安全，刘备最终前往东吴成婚。\n"
     ]
    },
    {
     "name": "stderr",
     "output_type": "stream",
     "text": [
      "Processing 三国演义:  44%|████▍     | 335/758 [23:25<35:02,  4.97s/it]"
     ]
    },
    {
     "name": "stdout",
     "output_type": "stream",
     "text": [
      "刘备按照锦囊计策，前往南徐见乔国老并宣布与孙权之妹的婚事，城中人尽知。孙权母亲吴国太得知后大怒，责问孙权，孙权解释此为周瑜的计谋，欲以婚事为名拘禁刘备以换取荆州。吴国太大怒，反对这一计策，乔国老建议真招刘备为婿以避免出丑。\n"
     ]
    },
    {
     "name": "stderr",
     "output_type": "stream",
     "text": [
      "Processing 三国演义:  44%|████▍     | 336/758 [23:30<34:34,  4.92s/it]"
     ]
    },
    {
     "name": "stdout",
     "output_type": "stream",
     "text": [
      "孙权母亲吴国太欲见刘备，定于甘露寺相见，若满意则嫁女给刘备。孙权安排刀斧手以防万一，但国太一见刘备即满意，得知埋伏后大怒，责骂孙权，最终刀斧手撤退，刘备安全。\n"
     ]
    },
    {
     "name": "stderr",
     "output_type": "stream",
     "text": [
      "Processing 三国演义:  44%|████▍     | 337/758 [23:34<31:21,  4.47s/it]"
     ]
    },
    {
     "name": "stdout",
     "output_type": "stream",
     "text": [
      "刘备在荆州砍石问天买卦，孙权亦效仿，二人比试后共赏江山，后刘备求乔国老帮助，以确保安全。\n"
     ]
    },
    {
     "name": "stderr",
     "output_type": "stream",
     "text": [
      "Processing 三国演义:  45%|████▍     | 338/758 [23:37<29:41,  4.24s/it]"
     ]
    },
    {
     "name": "stdout",
     "output_type": "stream",
     "text": [
      "刘备与孙夫人成亲，孙夫人房中摆满兵器，后撤去，两人感情融洽。孙权得知后，与周瑜商议软禁刘备以图荆州。\n"
     ]
    },
    {
     "name": "stderr",
     "output_type": "stream",
     "text": [
      "Processing 三国演义:  45%|████▍     | 339/758 [23:42<29:33,  4.23s/it]"
     ]
    },
    {
     "name": "stdout",
     "output_type": "stream",
     "text": [
      "刘备在孙权提供的东府中沉迷于声色，忘记了回荆州。赵云按照诸葛亮的计策，谎称荆州危急，促使刘备决定返回，并与孙夫人商议以祭祖为名悄悄离开。\n"
     ]
    },
    {
     "name": "stderr",
     "output_type": "stream",
     "text": [
      "Processing 三国演义:  45%|████▍     | 340/758 [23:45<27:15,  3.91s/it]"
     ]
    },
    {
     "name": "stdout",
     "output_type": "stream",
     "text": [
      "玄德与孙夫人借祭祖之名逃离吴国，孙权派兵追赶，途中遭遇周瑜预先布置的军队拦截。\n"
     ]
    },
    {
     "name": "stderr",
     "output_type": "stream",
     "text": [
      "Processing 三国演义:  45%|████▍     | 341/758 [23:54<39:03,  5.62s/it]"
     ]
    },
    {
     "name": "stdout",
     "output_type": "stream",
     "text": [
      "刘备在逃亡中遭遇前后夹击，危急时刻拆看诸葛亮留下的锦囊，孙夫人得知真相后怒斥追兵，助刘备脱险。\n"
     ]
    },
    {
     "name": "stderr",
     "output_type": "stream",
     "text": [
      "Processing 三国演义:  45%|████▌     | 342/758 [23:59<37:24,  5.39s/it]"
     ]
    },
    {
     "name": "stdout",
     "output_type": "stream",
     "text": [
      "玄德与孙夫人逃离东吴，途中遭遇陈武、潘璋等将追击，孙夫人以兄妹关系和国太旨意斥退追兵，随后蒋钦、周泰等继续追赶，玄德一行到达刘郎浦寻找渡船。\n"
     ]
    },
    {
     "name": "stderr",
     "output_type": "stream",
     "text": [
      "Processing 三国演义:  45%|████▌     | 343/758 [24:04<35:08,  5.08s/it]"
     ]
    },
    {
     "name": "stdout",
     "output_type": "stream",
     "text": [
      "刘备与孙夫人在逃亡中被追兵紧追，幸得诸葛亮预先安排船只和伏兵，成功逃脱并重创追击的周瑜军队，周瑜因计谋失败和伤痛而昏迷。\n"
     ]
    },
    {
     "name": "stderr",
     "output_type": "stream",
     "text": [
      "Processing 三国演义:  45%|████▌     | 344/758 [24:10<38:25,  5.57s/it]"
     ]
    },
    {
     "name": "stdout",
     "output_type": "stream",
     "text": [
      "孙权因蒋钦等报荆州之事而怒，欲起兵攻荆州，但被张昭和顾雍劝阻，建议派遣华歆赴许都表刘备为荆州牧，以避免曹操趁机攻打，同时使用反间计使曹刘相争，孙权采纳建议。同时，曹操在邺郡庆祝铜雀台建成，举行比武大会，曹休和文聘在射箭比赛中表现出色。\n"
     ]
    },
    {
     "name": "stderr",
     "output_type": "stream",
     "text": [
      "Processing 三国演义:  46%|████▌     | 345/758 [24:15<35:35,  5.17s/it]"
     ]
    },
    {
     "name": "stdout",
     "output_type": "stream",
     "text": [
      "曹操与众将在宴会上比试射箭，徐晃以巧妙箭法射断柳条夺得锦袍，后与许褚争夺锦袍导致其撕碎，曹操最终赐予众将蜀锦以示奖励。\n"
     ]
    },
    {
     "name": "stderr",
     "output_type": "stream",
     "text": [
      "Processing 三国演义:  46%|████▌     | 346/758 [24:20<36:04,  5.25s/it]"
     ]
    },
    {
     "name": "stdout",
     "output_type": "stream",
     "text": [
      "曹操在铜雀台宴会上表达了自己为国家立功的愿望，并担心解除兵权会危及国家安全。随后得知刘备被任命为荆州牧，感到震惊，程昱提出利用孙权和刘备的矛盾来削弱他们，曹操采纳并封赏周瑜和程普以挑起他们的争斗。\n"
     ]
    },
    {
     "name": "stderr",
     "output_type": "stream",
     "text": [
      "Processing 三国演义:  46%|████▌     | 347/758 [24:24<32:27,  4.74s/it]"
     ]
    },
    {
     "name": "stdout",
     "output_type": "stream",
     "text": [
      "周瑜欲报仇，请求鲁肃讨还荆州，鲁肃至荆州，孔明以情感策略，使鲁肃答应再容几时归还荆州。\n"
     ]
    },
    {
     "name": "stderr",
     "output_type": "stream",
     "text": [
      "Processing 三国演义:  46%|████▌     | 348/758 [24:27<30:31,  4.47s/it]"
     ]
    },
    {
     "name": "stdout",
     "output_type": "stream",
     "text": [
      "周瑜设计假借取西川之名，实则欲趁机攻取荆州，鲁肃再次前往荆州诱使刘备出城劳军，孔明识破计谋，准备应对。\n"
     ]
    },
    {
     "name": "stderr",
     "output_type": "stream",
     "text": [
      "Processing 三国演义:  46%|████▌     | 349/758 [24:31<28:34,  4.19s/it]"
     ]
    },
    {
     "name": "stdout",
     "output_type": "stream",
     "text": [
      "周瑜以为诸葛亮中计，率军前往荆州，却遭诸葛亮识破计谋，四路军马围攻，周瑜箭疮复发，坠马，性命堪忧。\n"
     ]
    },
    {
     "name": "stderr",
     "output_type": "stream",
     "text": [
      "Processing 三国演义:  46%|████▌     | 350/758 [24:35<28:14,  4.15s/it]"
     ]
    },
    {
     "name": "stdout",
     "output_type": "stream",
     "text": [
      "周瑜在巴丘被刘封、关平截断水路，诸葛亮送信劝阻攻西川，周瑜阅后叹息命不久矣，最终病逝，孙权任命鲁肃继任都督。\n"
     ]
    },
    {
     "name": "stderr",
     "output_type": "stream",
     "text": [
      "Processing 三国演义:  46%|████▋     | 351/758 [24:39<27:44,  4.09s/it]"
     ]
    },
    {
     "name": "stdout",
     "output_type": "stream",
     "text": [
      "孔明与赵云带五百军前往巴丘吊丧周瑜，设祭奠并读祭文表达哀思，后被庞统揭穿其真实意图，两人交流后孔明返回荆州。\n"
     ]
    },
    {
     "name": "stderr",
     "output_type": "stream",
     "text": [
      "Processing 三国演义:  46%|████▋     | 352/758 [24:43<28:11,  4.17s/it]"
     ]
    },
    {
     "name": "stdout",
     "output_type": "stream",
     "text": [
      "鲁肃推荐庞统给孙权，但孙权因其外貌和轻视周瑜的态度而不喜，未予重用。庞统失望后，鲁肃建议他投靠刘备，庞统最终前往荆州见刘备。\n"
     ]
    },
    {
     "name": "stderr",
     "output_type": "stream",
     "text": [
      "Processing 三国演义:  47%|████▋     | 353/758 [24:49<30:21,  4.50s/it]"
     ]
    },
    {
     "name": "stdout",
     "output_type": "stream",
     "text": [
      "庞统被任命为耒阳县令，却因不理政事、终日饮酒而被张飞质疑，后庞统迅速处理完积压的公务，展示其才能，最终得到刘备的认可和重用。\n"
     ]
    },
    {
     "name": "stderr",
     "output_type": "stream",
     "text": [
      "Processing 三国演义:  47%|████▋     | 354/758 [24:53<30:59,  4.60s/it]"
     ]
    },
    {
     "name": "stdout",
     "output_type": "stream",
     "text": [
      "刘备得知庞统的才能后，立即重用他为副军师，与诸葛亮共同策划军事。同时，曹操得知刘备和孙权的联盟，计划南征，并诱使马腾入京以消除后顾之忧。\n"
     ]
    },
    {
     "name": "stderr",
     "output_type": "stream",
     "text": [
      "Processing 三国演义:  47%|████▋     | 355/758 [24:59<32:26,  4.83s/it]"
     ]
    },
    {
     "name": "stdout",
     "output_type": "stream",
     "text": [
      "马腾被曹操召往许昌，马岱和马超担心其安全，马腾决定带部分兵力前往，并安排马超留守西凉。曹操计划在马腾入城时将其杀害，但黄奎与马腾密谋反杀曹操，却被黄奎的妾和李春香泄露给曹操，导致计划失败。\n"
     ]
    },
    {
     "name": "stderr",
     "output_type": "stream",
     "text": [
      "Processing 三国演义:  47%|████▋     | 356/758 [25:02<29:57,  4.47s/it]"
     ]
    },
    {
     "name": "stdout",
     "output_type": "stream",
     "text": [
      "马腾父子被曹操设计困于垓心，最终被执并遇害，曹操随后决定南征，陈群献计以图刘备和孙权。\n"
     ]
    },
    {
     "name": "stderr",
     "output_type": "stream",
     "text": [
      "Processing 三国演义:  47%|████▋     | 357/758 [25:06<27:49,  4.16s/it]"
     ]
    },
    {
     "name": "stdout",
     "output_type": "stream",
     "text": [
      "曹操计划攻取江南，孙权求助于刘备，诸葛亮建议联合西凉马超对抗曹操，马超得知父亲马腾被曹操杀害后，决心报复。\n"
     ]
    },
    {
     "name": "stderr",
     "output_type": "stream",
     "text": [
      "Processing 三国演义:  47%|████▋     | 358/758 [25:11<28:47,  4.32s/it]"
     ]
    },
    {
     "name": "stdout",
     "output_type": "stream",
     "text": [
      "马超收到刘备的信，决定联合西凉军攻击曹操，韩遂支持并斩杀曹操使者，两人率军攻打长安，但久攻不下，庞德提出计策，马超撤军后再次突袭，成功攻入长安。\n"
     ]
    },
    {
     "name": "stderr",
     "output_type": "stream",
     "text": [
      "Processing 三国演义:  47%|████▋     | 359/758 [25:16<31:05,  4.67s/it]"
     ]
    },
    {
     "name": "stdout",
     "output_type": "stream",
     "text": [
      "庞德斩杀钟进，放马超、韩遂入城，钟繇退守潼关。曹操派曹洪、徐晃守潼关，但曹洪因怒出战被马超、庞德击败，失潼关。曹操怒斩曹洪，后亲自领兵攻打潼关。\n"
     ]
    },
    {
     "name": "stderr",
     "output_type": "stream",
     "text": [
      "Processing 三国演义:  47%|████▋     | 360/758 [25:20<30:26,  4.59s/it]"
     ]
    },
    {
     "name": "stdout",
     "output_type": "stream",
     "text": [
      "曹操率军与西凉军交战，马超英勇，曹操兵败，曹操在乱军中脱袍断髯逃命，后得曹洪救驾，回寨后重赏曹洪，坚守不出。\n"
     ]
    },
    {
     "name": "stderr",
     "output_type": "stream",
     "text": [
      "Processing 三国演义:  48%|████▊     | 361/758 [25:25<29:58,  4.53s/it]"
     ]
    },
    {
     "name": "stdout",
     "output_type": "stream",
     "text": [
      "曹操在对抗马超时，采取坚壁不战的策略，同时秘密派遣徐晃和朱灵绕道截断马超后路。马超计划在曹操渡河时攻击，但曹操已提前安排，最终在许褚的保护下安全渡河。\n"
     ]
    },
    {
     "name": "stderr",
     "output_type": "stream",
     "text": [
      "Processing 三国演义:  48%|████▊     | 362/758 [25:28<28:10,  4.27s/it]"
     ]
    },
    {
     "name": "stdout",
     "output_type": "stream",
     "text": [
      "曹操在逃亡中遭遇马超追击，许褚奋力保护曹操，丁斐用牛马诱敌，使曹操得以脱险，并准备防御措施应对马超的再次进攻。\n"
     ]
    },
    {
     "name": "stderr",
     "output_type": "stream",
     "text": [
      "Processing 三国演义:  48%|████▊     | 363/758 [25:34<30:10,  4.58s/it]"
     ]
    },
    {
     "name": "stdout",
     "output_type": "stream",
     "text": [
      "韩遂与庞德率军五万攻曹操，庞德勇救韩遂突围，后马超夜袭曹操营寨，曹操设伏兵反击，双方混战至天明。马超利用火攻破坏曹操的浮桥和营寨，曹操尝试筑土城防守，但因沙土不实而失败。\n"
     ]
    },
    {
     "name": "stderr",
     "output_type": "stream",
     "text": [
      "Processing 三国演义:  48%|████▊     | 364/758 [25:38<29:01,  4.42s/it]"
     ]
    },
    {
     "name": "stdout",
     "output_type": "stream",
     "text": [
      "娄子伯建议曹操利用天时筑土城，曹操采纳并成功筑城，马超见状惊疑，次日曹操与马超对峙，许褚与马超激烈交战，胜负未分。\n"
     ]
    },
    {
     "name": "stderr",
     "output_type": "stream",
     "text": [
      "Processing 三国演义:  48%|████▊     | 365/758 [25:43<31:16,  4.78s/it]"
     ]
    },
    {
     "name": "stdout",
     "output_type": "stream",
     "text": [
      "许褚与马超激战，许褚力大拗断枪杆，曹操派将夹攻，马超军反击，许褚受伤，曹操军败退。曹操计划用徐晃、朱灵夹攻马超，马超察觉后与韩遂商议割地请和，曹操采纳贾诩的反间计，准备退兵诱敌。\n"
     ]
    },
    {
     "name": "stderr",
     "output_type": "stream",
     "text": [
      "Processing 三国演义:  48%|████▊     | 366/758 [25:48<30:49,  4.72s/it]"
     ]
    },
    {
     "name": "stdout",
     "output_type": "stream",
     "text": [
      "曹操与韩遂在阵前交谈旧事，不提军情，引起马超疑心。曹操利用此机会，通过涂抹书信内容，加深马超对韩遂的怀疑，企图离间二人。\n"
     ]
    },
    {
     "name": "stderr",
     "output_type": "stream",
     "text": [
      "Processing 三国演义:  48%|████▊     | 367/758 [25:53<30:20,  4.66s/it]"
     ]
    },
    {
     "name": "stdout",
     "output_type": "stream",
     "text": [
      "马超怀疑韩遂背叛，约定在阵前刺杀曹操，但韩遂与曹操密谋投降，马超发现后愤怒攻击韩遂，双方混战，最终马超率军突围。\n"
     ]
    },
    {
     "name": "stderr",
     "output_type": "stream",
     "text": [
      "Processing 三国演义:  49%|████▊     | 368/758 [25:58<32:14,  4.96s/it]"
     ]
    },
    {
     "name": "stdout",
     "output_type": "stream",
     "text": [
      "马超在渭桥截击李堪，被于禁射中李堪致死，后与曹操军激战，庞德、马岱救援，马超逃脱。曹操下令追捕马超，杨阜建议剿灭马超以防后患，曹操决定留兵防守并班师回许都。\n"
     ]
    },
    {
     "name": "stderr",
     "output_type": "stream",
     "text": [
      "Processing 三国演义:  49%|████▊     | 369/758 [26:02<30:06,  4.65s/it]"
     ]
    },
    {
     "name": "stdout",
     "output_type": "stream",
     "text": [
      "曹操采用策略使敌人骄傲并离间其众，成功击破敌军，后班师回朝受到皇帝隆重迎接，威震中外，引起汉中太守张鲁的警觉。\n"
     ]
    },
    {
     "name": "stderr",
     "output_type": "stream",
     "text": [
      "Processing 三国演义:  49%|████▉     | 370/758 [26:06<29:03,  4.49s/it]"
     ]
    },
    {
     "name": "stdout",
     "output_type": "stream",
     "text": [
      "张鲁计划自称汉宁王并攻打益州，刘璋派遣张松前往许都请求曹操攻打汉中以解围，张松暗藏西川地理图本，前往许都求见曹操。\n"
     ]
    },
    {
     "name": "stderr",
     "output_type": "stream",
     "text": [
      "Processing 三国演义:  49%|████▉     | 371/758 [26:10<28:10,  4.37s/it]"
     ]
    },
    {
     "name": "stdout",
     "output_type": "stream",
     "text": [
      "曹操对张松的直言不讳感到不悦，张松与杨修在书院中辩论蜀中与中原的优劣，张松赞扬蜀中的富饶与人才，质疑曹操的能力。\n"
     ]
    },
    {
     "name": "stderr",
     "output_type": "stream",
     "text": [
      "Processing 三国演义:  49%|████▉     | 372/758 [26:14<27:26,  4.27s/it]"
     ]
    },
    {
     "name": "stdout",
     "output_type": "stream",
     "text": [
      "张松阅读并背诵了《孟德新书》，展示出超凡的记忆力和学识，曹操因此对其印象深刻，计划通过展示军力来震慑张松，以期影响蜀中。\n"
     ]
    },
    {
     "name": "stderr",
     "output_type": "stream",
     "text": [
      "Processing 三国演义:  49%|████▉     | 373/758 [26:18<25:42,  4.01s/it]"
     ]
    },
    {
     "name": "stdout",
     "output_type": "stream",
     "text": [
      "张松因揭曹操短处被逐，欲献西川给曹操未果，转而投奔刘备，受到刘备热情接待，但刘备未提西川之事。\n"
     ]
    },
    {
     "name": "stderr",
     "output_type": "stream",
     "text": [
      "Processing 三国演义:  49%|████▉     | 374/758 [26:22<25:35,  4.00s/it]"
     ]
    },
    {
     "name": "stdout",
     "output_type": "stream",
     "text": [
      "张松与刘备讨论荆州归属问题，张松建议刘备取西川以成霸业，刘备犹豫因同宗之情，张松强调时机难得，应努力建功立业。\n"
     ]
    },
    {
     "name": "stderr",
     "output_type": "stream",
     "text": [
      "Processing 三国演义:  49%|████▉     | 375/758 [26:27<28:13,  4.42s/it]"
     ]
    },
    {
     "name": "stdout",
     "output_type": "stream",
     "text": [
      "刘备询问蜀道艰险如何攻取，张松献上蜀中地图并推荐法正、孟达相助。张松回益州后与法正、孟达密谋献益州给刘备，并建议刘璋结好刘备以对抗曹操、张鲁。刘璋同意，派遣法正、孟达前往荆州联络刘备。\n"
     ]
    },
    {
     "name": "stderr",
     "output_type": "stream",
     "text": [
      "Processing 三国演义:  50%|████▉     | 376/758 [26:32<29:26,  4.62s/it]"
     ]
    },
    {
     "name": "stdout",
     "output_type": "stream",
     "text": [
      "刘璋询问张松关于结盟刘备的建议，张松认为刘备是英雄，若召入蜀中，刘备不会屈居人下，建议先斩张松，后绝刘备以保西川安全。刘璋未听从，派遣法正前往荆州见刘备，刘备大喜并考虑取蜀中。\n"
     ]
    },
    {
     "name": "stderr",
     "output_type": "stream",
     "text": [
      "Processing 三国演义:  50%|████▉     | 377/758 [26:36<28:30,  4.49s/it]"
     ]
    },
    {
     "name": "stdout",
     "output_type": "stream",
     "text": [
      "法正劝刘备夺取益州，庞统支持并解释权变之理，刘备最终决定西征益州，途中孟达领兵迎接，刘璋准备亲自迎接但黄权警告其危险。\n"
     ]
    },
    {
     "name": "stderr",
     "output_type": "stream",
     "text": [
      "Processing 三国演义:  50%|████▉     | 378/758 [26:41<29:00,  4.58s/it]"
     ]
    },
    {
     "name": "stdout",
     "output_type": "stream",
     "text": [
      "刘璋决定迎接刘备入川，黄权、李恢、王累等人极力劝谏，但刘璋不听，坚持己见，最终导致王累自尽。刘备军纪严明，受到百姓欢迎，与刘璋在涪城相见，共叙兄弟情谊。\n"
     ]
    },
    {
     "name": "stderr",
     "output_type": "stream",
     "text": [
      "Processing 三国演义:  50%|█████     | 379/758 [26:47<30:18,  4.80s/it]"
     ]
    },
    {
     "name": "stdout",
     "output_type": "stream",
     "text": [
      "刘璋赞赏刘备的仁义，决定依靠他对抗曹操和张鲁，赐予张松重赏。刘备的部下担心刘备的意图，但刘璋坚信刘备无二心。庞统和法正建议刘备在宴会上杀刘璋夺取西川，但刘备拒绝，坚持不伤害同宗刘璋。\n"
     ]
    },
    {
     "name": "stderr",
     "output_type": "stream",
     "text": [
      "Processing 三国演义:  50%|█████     | 380/758 [26:51<29:39,  4.71s/it]"
     ]
    },
    {
     "name": "stdout",
     "output_type": "stream",
     "text": [
      "庞统安排武士和魏延在宴会上舞剑，意图对刘璋不利，但被刘备及时制止。刘璋感激刘备，但手下将领担心刘备的野心。随后，刘备被派去抵御张鲁，同时孙权计划攻击刘备的后方。\n"
     ]
    },
    {
     "name": "stderr",
     "output_type": "stream",
     "text": [
      "Processing 三国演义:  50%|█████     | 381/758 [26:56<29:33,  4.71s/it]"
     ]
    },
    {
     "name": "stdout",
     "output_type": "stream",
     "text": [
      "孙权欲夺荆州，其母国太反对，张昭献计让周善假传国太病危消息，诱使孙夫人带阿斗回东吴，赵云发现后追赶，但船已离岸。\n"
     ]
    },
    {
     "name": "stderr",
     "output_type": "stream",
     "text": [
      "Processing 三国演义:  50%|█████     | 382/758 [27:01<31:01,  4.95s/it]"
     ]
    },
    {
     "name": "stdout",
     "output_type": "stream",
     "text": [
      "赵云追赶孙夫人欲夺回阿斗，遭遇吴兵阻拦，后张飞赶来截住吴船，孙夫人欲回娘家因母亲病重，张飞与赵云商议后决定放行。\n"
     ]
    },
    {
     "name": "stderr",
     "output_type": "stream",
     "text": [
      "Processing 三国演义:  51%|█████     | 383/758 [27:07<31:51,  5.10s/it]"
     ]
    },
    {
     "name": "stdout",
     "output_type": "stream",
     "text": [
      "赵云和翼德成功夺回阿斗，孙权因周善被杀而欲攻荆州，但因曹操大军来袭而暂缓，同时孙权决定迁都秣陵。曹操在许都权势日盛，董昭建议曹操受封魏公，加九锡以彰显其功。\n"
     ]
    },
    {
     "name": "stderr",
     "output_type": "stream",
     "text": [
      "Processing 三国演义:  51%|█████     | 384/758 [27:11<30:14,  4.85s/it]"
     ]
    },
    {
     "name": "stdout",
     "output_type": "stream",
     "text": [
      "曹操被尊为魏公并加九锡，荀彧反对未果，后因曹操猜忌服毒自尽。曹操南征，与孙权交战，孙权亲自领兵攻击，曹操军败退。\n"
     ]
    },
    {
     "name": "stderr",
     "output_type": "stream",
     "text": [
      "Processing 三国演义:  51%|█████     | 385/758 [27:15<28:01,  4.51s/it]"
     ]
    },
    {
     "name": "stdout",
     "output_type": "stream",
     "text": [
      "曹操在濡须水口攻打孙权，梦见红日坠落，后与孙权对峙，孙权劝曹操退兵，曹操最终决定撤军回许昌。\n"
     ]
    },
    {
     "name": "stderr",
     "output_type": "stream",
     "text": [
      "Processing 三国演义:  51%|█████     | 386/758 [27:18<26:37,  4.29s/it]"
     ]
    },
    {
     "name": "stdout",
     "output_type": "stream",
     "text": [
      "孙权与众将商议取荆州，张昭献计通过离间刘备与刘璋、张鲁的关系，使刘备无法回荆州，孙权采纳并派使者执行计划。\n"
     ]
    },
    {
     "name": "stderr",
     "output_type": "stream",
     "text": [
      "Processing 三国演义:  51%|█████     | 387/758 [27:25<29:57,  4.84s/it]"
     ]
    },
    {
     "name": "stdout",
     "output_type": "stream",
     "text": [
      "庞统向刘备提出三条计策以夺取成都，刘备选择中计，假装回荆州，实则计划在送行时擒杀杨怀、高沛并夺取涪城。张松误信刘备真心回荆州，欲内应刘备，却被其兄张肃发现并告发，导致张松全家被杀。刘璋随后加强关隘防守，阻止刘备入川。\n"
     ]
    },
    {
     "name": "stderr",
     "output_type": "stream",
     "text": [
      "Processing 三国演义:  51%|█████     | 388/758 [27:29<29:19,  4.76s/it]"
     ]
    },
    {
     "name": "stdout",
     "output_type": "stream",
     "text": [
      "刘备与庞统预知杨怀、高沛有行刺意图，设下陷阱，成功捉拿并处决二人，随后利用其军士引路，不战而取涪关。\n"
     ]
    },
    {
     "name": "stderr",
     "output_type": "stream",
     "text": [
      "Processing 三国演义:  51%|█████▏    | 389/758 [27:35<31:11,  5.07s/it]"
     ]
    },
    {
     "name": "stdout",
     "output_type": "stream",
     "text": [
      "刘备与庞统因酒后争执，次日刘备向庞统道歉，两人和解。同时，刘璋得知刘备攻占涪水关，急忙部署防御，派遣四将守雒县。四将途中拜访紫虚上人求问前程，得神秘预言后继续前行，至雒县后分兵布防。\n"
     ]
    },
    {
     "name": "stderr",
     "output_type": "stream",
     "text": [
      "Processing 三国演义:  51%|█████▏    | 390/758 [27:39<29:55,  4.88s/it]"
     ]
    },
    {
     "name": "stdout",
     "output_type": "stream",
     "text": [
      "刘备得涪水关后，计划攻取雒城。黄忠和魏延争相领兵攻打泠苞和邓贤的营寨，最终刘备决定让两人各自攻打一寨，以先夺寨者为头功。\n"
     ]
    },
    {
     "name": "stderr",
     "output_type": "stream",
     "text": [
      "Processing 三国演义:  52%|█████▏    | 391/758 [27:44<29:09,  4.77s/it]"
     ]
    },
    {
     "name": "stdout",
     "output_type": "stream",
     "text": [
      "魏延与泠苞交战，汉军败退，黄忠救援并击败邓贤，刘备趁机夺取敌寨，泠苞被魏延俘虏，后被刘备释放并承诺招降刘𪻺和张任。\n"
     ]
    },
    {
     "name": "stderr",
     "output_type": "stream",
     "text": [
      "Processing 三国演义:  52%|█████▏    | 392/758 [27:50<31:51,  5.22s/it]"
     ]
    },
    {
     "name": "stdout",
     "output_type": "stream",
     "text": [
      "刘备以仁义待人，泠苞谎称杀敌逃回，刘璋派刘循、吴懿等增援雒城，泠苞计划决涪江水淹刘备军。同时，刘备担忧葭萌关安全，派孟达、霍峻守关。庞统接待神秘访客，疑其身份，后由法正确认是彭永言。\n"
     ]
    },
    {
     "name": "stderr",
     "output_type": "stream",
     "text": [
      "Processing 三国演义:  52%|█████▏    | 393/758 [27:56<32:01,  5.26s/it]"
     ]
    },
    {
     "name": "stdout",
     "output_type": "stream",
     "text": [
      "法正引见彭羕，彭羕预言涪江决水危机，玄德采取措施防范。泠苞试图决江被魏延捕获并处死。诸葛亮来信警示西川之行凶险，庞统则鼓励玄德继续前进。\n"
     ]
    },
    {
     "name": "stderr",
     "output_type": "stream",
     "text": [
      "Processing 三国演义:  52%|█████▏    | 394/758 [28:01<32:24,  5.34s/it]"
     ]
    },
    {
     "name": "stdout",
     "output_type": "stream",
     "text": [
      "庞统建议分兵两路攻取雒城，玄德担心梦境预示不祥，庞统坚持出兵，途中庞统骑马失蹄，玄德换马给庞统，庞统感激，两人分道而行，庞统在落凤坡遭遇伏击。\n"
     ]
    },
    {
     "name": "stderr",
     "output_type": "stream",
     "text": [
      "Processing 三国演义:  52%|█████▏    | 395/758 [28:05<29:18,  4.84s/it]"
     ]
    },
    {
     "name": "stdout",
     "output_type": "stream",
     "text": [
      "庞统在落凤坡被乱箭射死，魏延被围困后得黄忠救援，刘备军败退至涪关，后请诸葛亮商议对策。\n"
     ]
    },
    {
     "name": "stderr",
     "output_type": "stream",
     "text": [
      "Processing 三国演义:  52%|█████▏    | 396/758 [28:08<27:15,  4.52s/it]"
     ]
    },
    {
     "name": "stdout",
     "output_type": "stream",
     "text": [
      "玄德派关平请孔明，孔明预感庞统有难，后证实庞统战死，孔明决定亲征川地，将荆州托付给云长。\n"
     ]
    },
    {
     "name": "stderr",
     "output_type": "stream",
     "text": [
      "Processing 三国演义:  52%|█████▏    | 397/758 [28:12<26:14,  4.36s/it]"
     ]
    },
    {
     "name": "stdout",
     "output_type": "stream",
     "text": [
      "孔明派遣张飞和赵云分别领兵前往巴州和雒城，张飞在途中遭遇巴郡太守严颜的抵抗，严颜坚守不降，张飞多次挑战未果。\n"
     ]
    },
    {
     "name": "stderr",
     "output_type": "stream",
     "text": [
      "Processing 三国演义:  53%|█████▎    | 398/758 [28:16<25:34,  4.26s/it]"
     ]
    },
    {
     "name": "stdout",
     "output_type": "stream",
     "text": [
      "张飞试图引诱严颜出城交战，但严颜坚守不出。张飞假装寻找小路绕过城池，严颜中计准备伏击，却被张飞反伏击。\n"
     ]
    },
    {
     "name": "stderr",
     "output_type": "stream",
     "text": [
      "Processing 三国演义:  53%|█████▎    | 399/758 [28:20<24:01,  4.02s/it]"
     ]
    },
    {
     "name": "stdout",
     "output_type": "stream",
     "text": [
      "张飞智擒严颜，严颜宁死不降，后被张飞义气感动而降，助张飞不战而取川中多城。\n"
     ]
    },
    {
     "name": "stderr",
     "output_type": "stream",
     "text": [
      "Processing 三国演义:  53%|█████▎    | 400/758 [28:24<24:32,  4.11s/it]"
     ]
    },
    {
     "name": "stdout",
     "output_type": "stream",
     "text": [
      "玄德计划攻打雒城，黄忠建议夜袭张任，成功后围攻雒城。张任设伏，玄德险被捉，幸得张飞及时救援，最终张飞因义释严颜而顺利到达。\n"
     ]
    },
    {
     "name": "stderr",
     "output_type": "stream",
     "text": [
      "Processing 三国演义:  53%|█████▎    | 401/758 [28:29<25:49,  4.34s/it]"
     ]
    },
    {
     "name": "stdout",
     "output_type": "stream",
     "text": [
      "张飞和刘备分兵救援黄忠、魏延，成功截击吴兰、雷铜并使其投降。随后，张飞与张任交战，被围困时赵云及时出现救援，并生擒吴懿。孔明计划先捉张任再取雒城。\n"
     ]
    },
    {
     "name": "stderr",
     "output_type": "stream",
     "text": [
      "Processing 三国演义:  53%|█████▎    | 402/758 [28:33<25:00,  4.22s/it]"
     ]
    },
    {
     "name": "stdout",
     "output_type": "stream",
     "text": [
      "孔明设计诱敌张任，通过伏兵和断桥策略，最终在芦苇丛中捕获张任，张任宁死不降，被孔明斩首以全其忠名。\n"
     ]
    },
    {
     "name": "stderr",
     "output_type": "stream",
     "text": [
      "Processing 三国演义:  53%|█████▎    | 403/758 [28:38<25:52,  4.37s/it]"
     ]
    },
    {
     "name": "stdout",
     "output_type": "stream",
     "text": [
      "玄德军马攻破雒城，刘循逃回成都。孔明计划攻取绵竹，法正建议以仁义说服刘璋投降。刘璋拒绝，派费观、李严守绵竹，董和请求汉中援兵。\n"
     ]
    },
    {
     "name": "stderr",
     "output_type": "stream",
     "text": [
      "Processing 三国演义:  53%|█████▎    | 404/758 [28:44<28:28,  4.83s/it]"
     ]
    },
    {
     "name": "stdout",
     "output_type": "stream",
     "text": [
      "张鲁因与璋有仇不愿相救，但璋以唇亡齿寒之理说服张鲁。同时，马超在羌地集结兵力，攻占多城，韦康因无援军投降马超，后被马超杀全家。杨阜借机归葬妻子，实则策划反马超，与姜叙等商议内应外合之计。\n"
     ]
    },
    {
     "name": "stderr",
     "output_type": "stream",
     "text": [
      "Processing 三国演义:  53%|█████▎    | 405/758 [28:52<35:13,  5.99s/it]"
     ]
    },
    {
     "name": "stdout",
     "output_type": "stream",
     "text": [
      "赵昂担心起兵会害死儿子赵月，但妻子王氏激励他雪耻，赵昂决定起兵。马超得知后斩杀赵月，率军攻打姜叙、杨阜。双方交战，马超大败，逃至翼城被拒，家人被杀。马超愤怒屠城，后被夏侯渊追击，最终弃城逃走。\n"
     ]
    },
    {
     "name": "stderr",
     "output_type": "stream",
     "text": [
      "Processing 三国演义:  54%|█████▎    | 406/758 [28:59<36:12,  6.17s/it]"
     ]
    },
    {
     "name": "stdout",
     "output_type": "stream",
     "text": [
      "曹操封阜为关内侯，阜拒绝称无功不受禄；马超欲投张鲁，张鲁考虑招婿，但因杨柏反对而罢；刘璋求张鲁救援，张鲁同意，马超领兵攻刘备，欲夺二十州；刘备得知刘璋未采纳郑度计策，遂放心进军绵竹。\n"
     ]
    },
    {
     "name": "stderr",
     "output_type": "stream",
     "text": [
      "Processing 三国演义:  54%|█████▎    | 407/758 [29:04<34:36,  5.92s/it]"
     ]
    },
    {
     "name": "stdout",
     "output_type": "stream",
     "text": [
      "孔明设计让黄忠诈败引李严入山峪，成功俘获李严并招降费观，玄德进入绵竹。后马超攻打葭萌关，孔明激将张飞出战，张飞立誓若不胜甘当军令，与魏延一同前往救援。\n"
     ]
    },
    {
     "name": "stderr",
     "output_type": "stream",
     "text": [
      "Processing 三国演义:  54%|█████▍    | 408/758 [29:09<33:04,  5.67s/it]"
     ]
    },
    {
     "name": "stdout",
     "output_type": "stream",
     "text": [
      "张飞在关上救了中箭的魏延，并与马岱交战后胜出。次日，张飞与马超激战百余合，不分胜负，玄德担心张飞安全，鸣金收兵。天晚后，张飞不愿撤退，誓要继续战斗。\n"
     ]
    },
    {
     "name": "stderr",
     "output_type": "stream",
     "text": [
      "Processing 三国演义:  54%|█████▍    | 409/758 [29:14<31:17,  5.38s/it]"
     ]
    },
    {
     "name": "stdout",
     "output_type": "stream",
     "text": [
      "张飞与马超夜战，马超诈败用铜锤攻击张飞未果，玄德仁义不追击。次日，孔明建议用计招降马超，通过贿赂杨松和张鲁，使马超撤兵，最终计划成功。\n"
     ]
    },
    {
     "name": "stderr",
     "output_type": "stream",
     "text": [
      "Processing 三国演义:  54%|█████▍    | 410/758 [29:18<28:21,  4.89s/it]"
     ]
    },
    {
     "name": "stdout",
     "output_type": "stream",
     "text": [
      "马超被杨松陷害，进退两难，孔明计划亲自劝降，但玄德担心，后李恢自荐前往，成功说服马超归降。\n"
     ]
    },
    {
     "name": "stderr",
     "output_type": "stream",
     "text": [
      "Processing 三国演义:  54%|█████▍    | 411/758 [29:22<26:25,  4.57s/it]"
     ]
    },
    {
     "name": "stdout",
     "output_type": "stream",
     "text": [
      "马超因与曹操有杀父之仇，面临困境，后听从劝告投降刘备，斩杀敌将并劝降刘璋，最终刘璋因不忍百姓受苦而选择投降。\n"
     ]
    },
    {
     "name": "stderr",
     "output_type": "stream",
     "text": [
      "Processing 三国演义:  54%|█████▍    | 412/758 [29:25<24:39,  4.28s/it]"
     ]
    },
    {
     "name": "stdout",
     "output_type": "stream",
     "text": [
      "刘璋在预兆和蜀郡太守许靖投降的压力下，决定投降刘备。刘备入成都后，宽待刘璋并任命新官员，巩固统治。\n"
     ]
    },
    {
     "name": "stderr",
     "output_type": "stream",
     "text": [
      "Processing 三国演义:  54%|█████▍    | 413/758 [29:29<24:04,  4.19s/it]"
     ]
    },
    {
     "name": "stdout",
     "output_type": "stream",
     "text": [
      "刘备赏赐荆襄文武官员，赵云建议归还田宅给百姓，诸葛亮制定治国条例，法正报复私怨，关羽欲与马超比武，诸葛亮劝阻。\n"
     ]
    },
    {
     "name": "stderr",
     "output_type": "stream",
     "text": [
      "Processing 三国演义:  55%|█████▍    | 414/758 [29:33<23:18,  4.07s/it]"
     ]
    },
    {
     "name": "stdout",
     "output_type": "stream",
     "text": [
      "孔明劝刘备还荆州部分给东吴，以保全其兄诸葛瑾一家，刘备最终同意归还长沙、零陵、桂阳三郡。\n"
     ]
    },
    {
     "name": "stderr",
     "output_type": "stream",
     "text": [
      "Processing 三国演义:  55%|█████▍    | 415/758 [29:37<23:04,  4.04s/it]"
     ]
    },
    {
     "name": "stdout",
     "output_type": "stream",
     "text": [
      "刘备派子瑜去荆州求关羽归还三郡，关羽拒绝并威胁子瑜，子瑜无奈返回，孙权大怒，鲁肃提议设宴请关羽，若不从则用兵夺荆州。\n"
     ]
    },
    {
     "name": "stderr",
     "output_type": "stream",
     "text": [
      "Processing 三国演义:  55%|█████▍    | 416/758 [29:41<22:18,  3.91s/it]"
     ]
    },
    {
     "name": "stdout",
     "output_type": "stream",
     "text": [
      "孙权命令鲁肃实施计策，鲁肃邀请关羽赴宴以索要荆州，关羽决定单刀赴会，展现无畏勇气。\n"
     ]
    },
    {
     "name": "stderr",
     "output_type": "stream",
     "text": [
      "Processing 三国演义:  55%|█████▌    | 417/758 [29:47<26:14,  4.62s/it]"
     ]
    },
    {
     "name": "stdout",
     "output_type": "stream",
     "text": [
      "关羽与鲁肃在宴会上就荆州归属问题争执，关羽以武力威胁鲁肃，成功返回荆州，导致孙权决定起兵对抗，同时曹操也准备南征。\n"
     ]
    },
    {
     "name": "stderr",
     "output_type": "stream",
     "text": [
      "Processing 三国演义:  55%|█████▌    | 418/758 [29:55<31:24,  5.54s/it]"
     ]
    },
    {
     "name": "stdout",
     "output_type": "stream",
     "text": [
      "曹操在天下大乱后，通过武力平定大部分地区，但面对吴蜀的天然屏障，决定修文德而非武力征服。曹操的谋士建议他不要自立为王，以免引起内乱。同时，献帝和伏后密谋通过伏完和穆顺联系外部的孙权和刘备，计划内外夹攻曹操。\n"
     ]
    },
    {
     "name": "stderr",
     "output_type": "stream",
     "text": [
      "Processing 三国演义:  55%|█████▌    | 419/758 [29:59<28:41,  5.08s/it]"
     ]
    },
    {
     "name": "stdout",
     "output_type": "stream",
     "text": [
      "穆顺携伏完密信被曹操搜出，曹操因此围捕伏完家族并收捕伏皇后，华歆执行此事，后世对此有不同评价。\n"
     ]
    },
    {
     "name": "stderr",
     "output_type": "stream",
     "text": [
      "Processing 三国演义:  55%|█████▌    | 420/758 [30:04<29:28,  5.23s/it]"
     ]
    },
    {
     "name": "stdout",
     "output_type": "stream",
     "text": [
      "曹操因伏后与其父欲谋害他，怒杀伏后及二子，并诛伏完等宗族二百余人。后立己女为皇后，威势日盛。曹操与夏侯惇、曹仁商议先取汉中张鲁，再攻蜀。曹操起兵西征，分三队进军汉中。\n"
     ]
    },
    {
     "name": "stderr",
     "output_type": "stream",
     "text": [
      "Processing 三国演义:  56%|█████▌    | 421/758 [30:10<30:35,  5.45s/it]"
     ]
    },
    {
     "name": "stdout",
     "output_type": "stream",
     "text": [
      "张鲁派遣杨昂、杨任攻打阳平关，夏侯渊、张郃未能防备被劫寨大败。曹操亲自领兵视察，遭遇杨昂、杨任伏击，幸得夏侯渊、张郃救援。曹操采用退军计，诱敌放松警惕后分兵抄袭，最终利用大雾天气误入杨昂军寨。\n"
     ]
    },
    {
     "name": "stderr",
     "output_type": "stream",
     "text": [
      "Processing 三国演义:  56%|█████▌    | 422/758 [30:16<30:49,  5.50s/it]"
     ]
    },
    {
     "name": "stdout",
     "output_type": "stream",
     "text": [
      "曹军利用雾天伪装成敌军，攻入空寨并放火，导致杨昂、杨任败退。杨任挑战夏侯渊失败被杀，曹操趁机占领南郑。张鲁派庞德抵抗，曹操计划缓斗庞德以消耗其体力，同时密谋通过贿赂杨松来招降庞德。\n"
     ]
    },
    {
     "name": "stderr",
     "output_type": "stream",
     "text": [
      "Processing 三国演义:  56%|█████▌    | 423/758 [30:19<27:06,  4.86s/it]"
     ]
    },
    {
     "name": "stdout",
     "output_type": "stream",
     "text": [
      "曹操用贾诩之计，通过贿赂杨松和伪装军士混入南郑，成功诱捕庞德并迫使张鲁投降。\n"
     ]
    },
    {
     "name": "stderr",
     "output_type": "stream",
     "text": [
      "Processing 三国演义:  56%|█████▌    | 424/758 [30:24<27:43,  4.98s/it]"
     ]
    },
    {
     "name": "stdout",
     "output_type": "stream",
     "text": [
      "张鲁本欲归顺国家，但因不得已而逃亡，后在曹操的劝降下投降，被封为镇南将军。曹操占领汉中后，决定不立即攻取西川，而是安抚士卒。同时，诸葛亮计划通过外交手段，诱使孙权攻击曹操，以保护西川。\n"
     ]
    },
    {
     "name": "stderr",
     "output_type": "stream",
     "text": [
      "Processing 三国演义:  56%|█████▌    | 425/758 [30:29<27:17,  4.92s/it]"
     ]
    },
    {
     "name": "stdout",
     "output_type": "stream",
     "text": [
      "刘备派伊籍向孙权请求帮助攻打曹操，以换取荆州归还。孙权同意后，吕蒙和甘宁提出先攻皖城再攻合淝的策略，最终成功攻下皖城，孙权大赏三军，庆祝胜利。\n"
     ]
    },
    {
     "name": "stderr",
     "output_type": "stream",
     "text": [
      "Processing 三国演义:  56%|█████▌    | 426/758 [30:34<27:22,  4.95s/it]"
     ]
    },
    {
     "name": "stdout",
     "output_type": "stream",
     "text": [
      "凌统与甘宁因旧仇在宴会上拔剑相向，被吕蒙制止，孙权调解后，起兵攻合淝。张辽依据曹操指示，与李典、乐进布阵迎战孙权，孙权在逍遥津北遭遇伏击，形势危急。\n"
     ]
    },
    {
     "name": "stderr",
     "output_type": "stream",
     "text": [
      "Processing 三国演义:  56%|█████▋    | 427/758 [30:38<25:10,  4.56s/it]"
     ]
    },
    {
     "name": "stdout",
     "output_type": "stream",
     "text": [
      "孙权在逍遥津遭遇张辽袭击，惊险跳桥逃生，后整顿军马准备对抗曹操的援军，凌统和甘宁争相领兵迎战。\n"
     ]
    },
    {
     "name": "stderr",
     "output_type": "stream",
     "text": [
      "Processing 三国演义:  56%|█████▋    | 428/758 [30:42<24:17,  4.42s/it]"
     ]
    },
    {
     "name": "stdout",
     "output_type": "stream",
     "text": [
      "凌统与张辽交战未分胜负，甘宁率百骑夜袭曹营成功，孙权赞赏甘宁勇猛，次日凌统再战张辽，曹操亲自观战并暗中放箭。\n"
     ]
    },
    {
     "name": "stderr",
     "output_type": "stream",
     "text": [
      "Processing 三国演义:  57%|█████▋    | 429/758 [30:47<25:13,  4.60s/it]"
     ]
    },
    {
     "name": "stdout",
     "output_type": "stream",
     "text": [
      "曹休射箭救凌统，甘宁又救乐进，两军罢战。曹操分兵五路攻濡须，董袭战死，徐盛勇战。孙权被围，周泰三次冲杀救出孙权，最终由吕蒙接应安全。\n"
     ]
    },
    {
     "name": "stderr",
     "output_type": "stream",
     "text": [
      "Processing 三国演义:  57%|█████▋    | 430/758 [30:54<28:39,  5.24s/it]"
     ]
    },
    {
     "name": "stdout",
     "output_type": "stream",
     "text": [
      "徐盛被困，周泰两次救援，二将受伤，吕蒙救他们下船。陈武战死，陆逊率军救援，大败曹军。孙权感激周泰的救命之恩，设宴款待并赐予荣耀。孙权与曹操议和，撤军回秣陵。曹操回许昌，崔琰因反对曹操称王被杀。\n"
     ]
    },
    {
     "name": "stderr",
     "output_type": "stream",
     "text": [
      "Processing 三国演义:  57%|█████▋    | 431/758 [31:00<30:01,  5.51s/it]"
     ]
    },
    {
     "name": "stdout",
     "output_type": "stream",
     "text": [
      "曹操被封为魏王，面临立嗣问题，长子曹丕与三子曹植竞争激烈。最终，曹操因曹丕的诚恳表现和贾诩的建议，决定立曹丕为王世子。同时，左慈以神奇的方式帮助挑夫减轻负担，并留下信息给曹操。\n"
     ]
    },
    {
     "name": "stderr",
     "output_type": "stream",
     "text": [
      "Processing 三国演义:  57%|█████▋    | 432/758 [31:03<26:21,  4.85s/it]"
     ]
    },
    {
     "name": "stdout",
     "output_type": "stream",
     "text": [
      "左慈展示神奇法术，曹操惊异并试图囚禁他，但左慈轻松逃脱，并在宴会上再次展示其超凡能力。\n"
     ]
    },
    {
     "name": "stderr",
     "output_type": "stream",
     "text": [
      "Processing 三国演义:  57%|█████▋    | 433/758 [31:09<27:12,  5.02s/it]"
     ]
    },
    {
     "name": "stdout",
     "output_type": "stream",
     "text": [
      "左慈在曹操面前展示神通，钓出松江鲈鱼，取紫芽姜，分酒成两半，化杯为白鸠，逃脱追捕后复活死羊，曹操下令捉拿并处决众多疑似左慈的人，但左慈化气成形，嘲笑曹操后消失。\n"
     ]
    },
    {
     "name": "stderr",
     "output_type": "stream",
     "text": [
      "Processing 三国演义:  57%|█████▋    | 434/758 [31:12<24:52,  4.61s/it]"
     ]
    },
    {
     "name": "stdout",
     "output_type": "stream",
     "text": [
      "曹操遭遇黑风中群尸起舞的恐怖场景，惊吓成疾，后求助于神卜管辂，管辂以其卓越的卜算能力解决了多起神秘事件。\n"
     ]
    },
    {
     "name": "stderr",
     "output_type": "stream",
     "text": [
      "Processing 三国演义:  57%|█████▋    | 435/758 [31:17<25:52,  4.81s/it]"
     ]
    },
    {
     "name": "stdout",
     "output_type": "stream",
     "text": [
      "诸葛原不信管辂的卜算能力，设下难题测试，管辂准确卜出燕卵、蜂窠、蜘蛛，令众人惊骇。后管辂又帮助老妇找回失牛，并预言赵颜三日内必死，最终通过神秘方法为赵颜延长寿命至九十九岁。\n"
     ]
    },
    {
     "name": "stderr",
     "output_type": "stream",
     "text": [
      "Processing 三国演义:  58%|█████▊    | 436/758 [31:22<24:38,  4.59s/it]"
     ]
    },
    {
     "name": "stdout",
     "output_type": "stream",
     "text": [
      "管辂因泄露天机受到警告，后为曹操卜算，预言东吴将失大将，西蜀将有兵犯界，并警告曹操来春许都必有火灾，曹操因此不敢轻举妄动。\n"
     ]
    },
    {
     "name": "stderr",
     "output_type": "stream",
     "text": [
      "Processing 三国演义:  58%|█████▊    | 437/758 [31:26<24:03,  4.50s/it]"
     ]
    },
    {
     "name": "stdout",
     "output_type": "stream",
     "text": [
      "耿纪、韦晃与金祎密谋讨伐曹操，计划在元宵节夜利用王必的兵权，里应外合，杀王必，夺兵权，扶助汉室，并寻求刘皇叔外援。\n"
     ]
    },
    {
     "name": "stderr",
     "output_type": "stream",
     "text": [
      "Processing 三国演义:  58%|█████▊    | 438/758 [31:30<23:11,  4.35s/it]"
     ]
    },
    {
     "name": "stdout",
     "output_type": "stream",
     "text": [
      "耿少府、韦司直与金祎、吉邈兄弟计划在元宵节夜发动叛乱，企图杀王必、曹操，但最终失败，被夏侯惇镇压，参与者被捕杀。\n"
     ]
    },
    {
     "name": "stderr",
     "output_type": "stream",
     "text": [
      "Processing 三国演义:  58%|█████▊    | 439/758 [31:35<25:12,  4.74s/it]"
     ]
    },
    {
     "name": "stdout",
     "output_type": "stream",
     "text": [
      "曹操因耿纪、韦晃等造反，下令处死他们及其宗族，并在邺郡对百官进行审判，根据是否救火将他们分为两组，处死救火者三百余人。同时，曹洪在汉中与马超军队交战，斩杀敌将后因疑虑马超有诈谋而退兵。\n"
     ]
    },
    {
     "name": "stderr",
     "output_type": "stream",
     "text": [
      "Processing 三国演义:  58%|█████▊    | 440/758 [31:39<23:50,  4.50s/it]"
     ]
    },
    {
     "name": "stdout",
     "output_type": "stream",
     "text": [
      "张郃轻视张飞，率军攻打巴西，被张飞和雷铜联手击败，后坚守不出，张飞每日饮酒辱骂，玄德得知后派人送酒以助张飞。\n"
     ]
    },
    {
     "name": "stderr",
     "output_type": "stream",
     "text": [
      "Processing 三国演义:  58%|█████▊    | 441/758 [31:43<21:42,  4.11s/it]"
     ]
    },
    {
     "name": "stdout",
     "output_type": "stream",
     "text": [
      "张飞利用饮酒诱敌深入，成功设伏击败张郃，夺取其寨栅，大获全胜。\n"
     ]
    },
    {
     "name": "stderr",
     "output_type": "stream",
     "text": [
      "Processing 三国演义:  58%|█████▊    | 442/758 [31:48<23:00,  4.37s/it]"
     ]
    },
    {
     "name": "stdout",
     "output_type": "stream",
     "text": [
      "张飞识破张郃的埋伏计，将计就计反设伏击败张郃，随后通过询问百姓找到小路，亲自领轻骑攻打瓦口关背后，最终张郃大败，仅以身免。\n"
     ]
    },
    {
     "name": "stderr",
     "output_type": "stream",
     "text": [
      "Processing 三国演义:  58%|█████▊    | 443/758 [31:55<28:21,  5.40s/it]"
     ]
    },
    {
     "name": "stdout",
     "output_type": "stream",
     "text": [
      "郭淮建议曹洪不杀张郃，而让他带兵攻打葭萌关，以牵制敌军。张郃攻关，孟达迎战失败，孔明计划调翼德支援，但法正建议选其他将领。黄忠自荐，孔明质疑其年老，黄忠展示武艺后，孔明派他与严颜对抗张郃。黄忠与严颜决心建功，黄忠怒斥张郃并与之决战。\n"
     ]
    },
    {
     "name": "stderr",
     "output_type": "stream",
     "text": [
      "Processing 三国演义:  59%|█████▊    | 444/758 [32:00<26:15,  5.02s/it]"
     ]
    },
    {
     "name": "stdout",
     "output_type": "stream",
     "text": [
      "黄忠与严颜联手击败张郃，后采用骄兵之计，连续败退诱敌深入，最终计划夜袭夺回失地并断敌粮草。\n"
     ]
    },
    {
     "name": "stderr",
     "output_type": "stream",
     "text": [
      "Processing 三国演义:  59%|█████▊    | 445/758 [32:04<24:41,  4.73s/it]"
     ]
    },
    {
     "name": "stdout",
     "output_type": "stream",
     "text": [
      "黄忠夜袭夏侯尚、韩浩，大破敌军，连夺三寨，后与张郃、夏侯尚再战，严颜伏击成功，斩夏侯德，黄忠军大胜。\n"
     ]
    },
    {
     "name": "stderr",
     "output_type": "stream",
     "text": [
      "Processing 三国演义:  59%|█████▉    | 446/758 [32:08<24:47,  4.77s/it]"
     ]
    },
    {
     "name": "stdout",
     "output_type": "stream",
     "text": [
      "张郃、夏侯尚败退后，黄忠、严颜守住天荡山，玄德决定趁机攻取汉中。黄忠自信能击败夏侯渊，孔明虽担心但最终同意，并派法正协助，同时安排赵云接应。\n"
     ]
    },
    {
     "name": "stderr",
     "output_type": "stream",
     "text": [
      "Processing 三国演义:  59%|█████▉    | 447/758 [32:13<23:42,  4.57s/it]"
     ]
    },
    {
     "name": "stdout",
     "output_type": "stream",
     "text": [
      "刘备派遣刘封、孟达等将领加强军势，同时调动马超、严颜等对抗曹操。曹操得知汉中危机后，亲自率领大军前往救援，途中回忆与蔡邕的友情，并访问蔡琰。\n"
     ]
    },
    {
     "name": "stderr",
     "output_type": "stream",
     "text": [
      "Processing 三国演义:  59%|█████▉    | 448/758 [32:18<25:00,  4.84s/it]"
     ]
    },
    {
     "name": "stdout",
     "output_type": "stream",
     "text": [
      "邯郸淳十三岁时即兴创作墓碑文，蔡邕暗中摸读后题写“黄绢幼妇，外孙齑臼”，杨修解其为“绝妙好辞”。曹操得知后赞叹不已。随后，曹操军至南郑，讨论军事策略，决定派夏侯渊出战黄忠。\n"
     ]
    },
    {
     "name": "stderr",
     "output_type": "stream",
     "text": [
      "Processing 三国演义:  59%|█████▉    | 449/758 [32:24<26:37,  5.17s/it]"
     ]
    },
    {
     "name": "stdout",
     "output_type": "stream",
     "text": [
      "黄忠与法正屯兵定军山口，陈式被夏侯渊擒获，法正建议黄忠步步为营诱敌，黄忠依计生擒夏侯尚，后以夏侯尚换回陈式，黄忠趁机射伤夏侯尚，激战后夏侯渊坚守不出，黄忠攻占定军山附近高山，窥探敌情。\n"
     ]
    },
    {
     "name": "stderr",
     "output_type": "stream",
     "text": [
      "Processing 三国演义:  59%|█████▉    | 450/758 [32:28<24:56,  4.86s/it]"
     ]
    },
    {
     "name": "stdout",
     "output_type": "stream",
     "text": [
      "黄忠与法正设伏，利用定军山地形优势，以逸待劳，最终黄忠趁夏侯渊疲倦时突袭成功，斩杀夏侯渊，大败曹军，随后夺取定军山。\n"
     ]
    },
    {
     "name": "stderr",
     "output_type": "stream",
     "text": [
      "Processing 三国演义:  59%|█████▉    | 451/758 [32:32<23:24,  4.58s/it]"
     ]
    },
    {
     "name": "stdout",
     "output_type": "stream",
     "text": [
      "玄德任命黄忠为征西大将军，黄忠与赵云约定夺取曹操粮草，黄忠先行动，成功劫粮但被张郃围困，赵云约定时间后前往救援。\n"
     ]
    },
    {
     "name": "stderr",
     "output_type": "stream",
     "text": [
      "Processing 三国演义:  60%|█████▉    | 452/758 [32:35<21:37,  4.24s/it]"
     ]
    },
    {
     "name": "stdout",
     "output_type": "stream",
     "text": [
      "赵云单枪匹马救出黄忠和张著，曹操见其勇猛，亲自领兵追赶，但赵云冷静应对，最终以智取胜。\n"
     ]
    },
    {
     "name": "stderr",
     "output_type": "stream",
     "text": [
      "Processing 三国演义:  60%|█████▉    | 453/758 [32:41<23:44,  4.67s/it]"
     ]
    },
    {
     "name": "stdout",
     "output_type": "stream",
     "text": [
      "蜀军在汉水大败曹军，赵云、黄忠等追击曹军，刘封、孟达烧毁曹军粮草，曹操败退。赵云英勇救黄忠，玄德赞其胆大。后曹操再派大军攻汉水，徐晃、王平渡水列阵，黄忠、赵云计划夜袭。\n"
     ]
    },
    {
     "name": "stderr",
     "output_type": "stream",
     "text": [
      "Processing 三国演义:  60%|█████▉    | 454/758 [32:47<25:00,  4.94s/it]"
     ]
    },
    {
     "name": "stdout",
     "output_type": "stream",
     "text": [
      "黄忠与赵云合谋夹击徐晃，徐晃大败后责怪王平不救援，王平反叛投刘备，曹操亲自领兵来夺汉水寨栅，孔明设计夜间鼓噪扰敌，曹操心怯退兵，孔明建议玄德背水结营，曹操疑惑，双方中路会战。\n"
     ]
    },
    {
     "name": "stderr",
     "output_type": "stream",
     "text": [
      "Processing 三国演义:  60%|██████    | 455/758 [32:53<27:06,  5.37s/it]"
     ]
    },
    {
     "name": "stdout",
     "output_type": "stream",
     "text": [
      "刘备在战斗中佯装败退，诱使曹操大军追击，随后诸葛亮设伏击溃曹军，曹操退守阳平关，诸葛亮再派兵截断曹操粮道并放火烧山，最终张飞在褒州路上击败醉酒的许褚，夺回粮草。\n"
     ]
    },
    {
     "name": "stderr",
     "output_type": "stream",
     "text": [
      "Processing 三国演义:  60%|██████    | 456/758 [32:57<25:20,  5.03s/it]"
     ]
    },
    {
     "name": "stdout",
     "output_type": "stream",
     "text": [
      "曹操与刘备在阳平关交战，曹操败退，后得其子曹彰救援，曹彰击败吴兰，但曹兵最终仍败走。\n"
     ]
    },
    {
     "name": "stderr",
     "output_type": "stream",
     "text": [
      "Processing 三国演义:  60%|██████    | 457/758 [33:02<23:58,  4.78s/it]"
     ]
    },
    {
     "name": "stdout",
     "output_type": "stream",
     "text": [
      "曹操在斜谷界口屯兵，因进退两难而犹豫不决，杨修因解读曹操的“鸡肋”口号预知将退兵，被曹操以扰乱军心之罪斩首。\n"
     ]
    },
    {
     "name": "stderr",
     "output_type": "stream",
     "text": [
      "Processing 三国演义:  60%|██████    | 458/758 [33:06<23:51,  4.77s/it]"
     ]
    },
    {
     "name": "stdout",
     "output_type": "stream",
     "text": [
      "曹操欲立曹植为世子，曹丕密谋应对，杨修助曹植应对曹操考验，后因曹丕揭露杨修教曹植作答，曹操怒杀杨修，战场上曹操被魏延射伤，庞德救驾。\n"
     ]
    },
    {
     "name": "stderr",
     "output_type": "stream",
     "text": [
      "Processing 三国演义:  61%|██████    | 459/758 [33:11<23:33,  4.73s/it]"
     ]
    },
    {
     "name": "stdout",
     "output_type": "stream",
     "text": [
      "曹操在斜谷遭遇马超伏兵，急忙撤军，后被魏延射伤，匆忙班师回京。同时，刘备攻取上庸诸郡，人心归附，诸葛亮建议刘备称帝，刘备最终接受称汉中王。\n"
     ]
    },
    {
     "name": "stderr",
     "output_type": "stream",
     "text": [
      "Processing 三国演义:  61%|██████    | 460/758 [33:16<23:21,  4.70s/it]"
     ]
    },
    {
     "name": "stdout",
     "output_type": "stream",
     "text": [
      "刘备在许靖、法正的请求下登基为汉中王，立刘禅为王世子，并封赏群臣。刘备上表许都，表达对曹操的不满与忧国之情。曹操得知后大怒，决定亲征刘备。\n"
     ]
    },
    {
     "name": "stderr",
     "output_type": "stream",
     "text": [
      "Processing 三国演义:  61%|██████    | 461/758 [33:20<23:21,  4.72s/it]"
     ]
    },
    {
     "name": "stdout",
     "output_type": "stream",
     "text": [
      "司马懿建议曹操利用孙权与刘备的矛盾，通过外交手段促使孙权攻打荆州，从而削弱刘备势力，曹操采纳并派遣满宠前往江东，孙权考虑后决定先试探关羽态度，再决定是否合作攻打荆州。\n"
     ]
    },
    {
     "name": "stderr",
     "output_type": "stream",
     "text": [
      "Processing 三国演义:  61%|██████    | 462/758 [33:26<25:12,  5.11s/it]"
     ]
    },
    {
     "name": "stdout",
     "output_type": "stream",
     "text": [
      "孙权建议曹操令曹仁从旱路攻取荆州，同时东吴水路接应，以此策略削弱关羽力量。刘备得知后，派使者送官诰给关羽，命其攻取樊城，以瓦解敌军士气。关羽因不满与黄忠同列五虎将，拒绝受印，后经费诗劝解接受，并领命攻樊城。\n"
     ]
    },
    {
     "name": "stderr",
     "output_type": "stream",
     "text": [
      "Processing 三国演义:  61%|██████    | 463/758 [33:31<24:43,  5.03s/it]"
     ]
    },
    {
     "name": "stdout",
     "output_type": "stream",
     "text": [
      "关羽因傅士仁、糜芳饮酒失火导致军器粮草烧毁，怒而罚之，后任命廖化、关平为先锋，自领兵攻襄阳，途中梦见猪咬足，众说纷纭，最终接受前将军任命，率军前进。\n"
     ]
    },
    {
     "name": "stderr",
     "output_type": "stream",
     "text": [
      "Processing 三国演义:  61%|██████    | 464/758 [33:35<22:35,  4.61s/it]"
     ]
    },
    {
     "name": "stdout",
     "output_type": "stream",
     "text": [
      "关羽设计诱敌深入，成功击败曹军并斩杀夏侯存、翟元，随后攻占襄阳，并计划加强荆州防御以应对东吴可能的进攻。\n"
     ]
    },
    {
     "name": "stderr",
     "output_type": "stream",
     "text": [
      "Processing 三国演义:  61%|██████▏   | 465/758 [33:40<22:42,  4.65s/it]"
     ]
    },
    {
     "name": "stdout",
     "output_type": "stream",
     "text": [
      "关羽渡过襄江，吕常率军迎战但被关羽击败，曹仁求援，曹操派于禁和庞德前往救援，但因庞德与马超和庞柔的关系，曹操起初犹豫，最终庞德以忠诚说服曹操，被任命为先锋。\n"
     ]
    },
    {
     "name": "stderr",
     "output_type": "stream",
     "text": [
      "Processing 三国演义:  61%|██████▏   | 466/758 [33:44<21:42,  4.46s/it]"
     ]
    },
    {
     "name": "stdout",
     "output_type": "stream",
     "text": [
      "庞德为报曹操恩遇，誓与关羽决一死战，备木榇以示必死决心，曹操虽忧其轻敌，但庞德决心不改，最终引军前往樊城挑战关羽。\n"
     ]
    },
    {
     "name": "stderr",
     "output_type": "stream",
     "text": [
      "Processing 三国演义:  62%|██████▏   | 467/758 [33:49<23:12,  4.79s/it]"
     ]
    },
    {
     "name": "stdout",
     "output_type": "stream",
     "text": [
      "庞德与关平交战三十合不分胜负，关公亲自出战庞德，两人大战百余合，魏军恐庞德有失而鸣金收兵。次日再战，庞德用拖刀计诱关公追赶，趁机射中关公左臂。\n"
     ]
    },
    {
     "name": "stderr",
     "output_type": "stream",
     "text": [
      "Processing 三国演义:  62%|██████▏   | 468/758 [33:53<22:29,  4.65s/it]"
     ]
    },
    {
     "name": "stdout",
     "output_type": "stream",
     "text": [
      "关平救父回营，庞德追击被于禁鸣金召回，关公誓报箭仇。庞德计划趁关公伤势进攻，但于禁阻挠。关公观察地形，预谋水攻于禁军。\n"
     ]
    },
    {
     "name": "stderr",
     "output_type": "stream",
     "text": [
      "Processing 三国演义:  62%|██████▏   | 469/758 [33:59<23:28,  4.87s/it]"
     ]
    },
    {
     "name": "stdout",
     "output_type": "stream",
     "text": [
      "魏军屯于罾口川，因连日大雨，成何建议移军，于禁拒绝。庞德决定自行移军，但夜间大雨导致洪水，七军混乱。关公乘机攻击，于禁投降，庞德力战至最后被擒。\n"
     ]
    },
    {
     "name": "stderr",
     "output_type": "stream",
     "text": [
      "Processing 三国演义:  62%|██████▏   | 470/758 [34:02<21:26,  4.47s/it]"
     ]
    },
    {
     "name": "stdout",
     "output_type": "stream",
     "text": [
      "关公擒于禁、斩庞德，水淹樊城，威震华夏。曹仁坚守樊城，关公攻城时中箭受伤。\n"
     ]
    },
    {
     "name": "stderr",
     "output_type": "stream",
     "text": [
      "Processing 三国演义:  62%|██████▏   | 471/758 [34:08<22:34,  4.72s/it]"
     ]
    },
    {
     "name": "stdout",
     "output_type": "stream",
     "text": [
      "关公在攻打樊城时被毒箭射中右臂，毒已入骨，右臂青肿无法运动。关平建议回荆州治疗，但关公坚持继续作战。后华佗前来医治，采用刮骨疗毒的方法，关公在治疗过程中饮酒下棋，表现出了极大的勇气。\n"
     ]
    },
    {
     "name": "stderr",
     "output_type": "stream",
     "text": [
      "Processing 三国演义:  62%|██████▏   | 472/758 [34:13<23:01,  4.83s/it]"
     ]
    },
    {
     "name": "stdout",
     "output_type": "stream",
     "text": [
      "关公在华佗治疗下箭伤痊愈，随后大胜于禁、庞德，威震华夏。曹操担心关公攻至许都，计划迁都，但司马懿建议联合孙权对抗关公。孙权接受曹操提议，计划趁关公攻樊城时袭取荆州。\n"
     ]
    },
    {
     "name": "stderr",
     "output_type": "stream",
     "text": [
      "Processing 三国演义:  62%|██████▏   | 473/758 [34:19<25:33,  5.38s/it]"
     ]
    },
    {
     "name": "stdout",
     "output_type": "stream",
     "text": [
      "孙权询问吕蒙关于攻取徐州的意见，吕蒙建议先取荆州以全据长江，孙权同意并命吕蒙策划。吕蒙发现荆州防御严密，无法轻易攻取，便假装生病。陆逊识破吕蒙的伪装，提出让吕蒙辞职，以降低关羽的警惕，从而趁机攻取荆州的计策。孙权接受陆逊的建议，召回吕蒙并任命陆逊接替其职务。\n"
     ]
    },
    {
     "name": "stderr",
     "output_type": "stream",
     "text": [
      "Processing 三国演义:  63%|██████▎   | 474/758 [34:24<24:14,  5.12s/it]"
     ]
    },
    {
     "name": "stdout",
     "output_type": "stream",
     "text": [
      "孙权任命陆逊为偏将军，代吕蒙守陆口，陆逊送礼给关羽以示好，关羽轻视陆逊，陆逊趁机探知关羽撤兵，孙权与吕蒙商议趁机袭取荆州。\n"
     ]
    },
    {
     "name": "stderr",
     "output_type": "stream",
     "text": [
      "Processing 三国演义:  63%|██████▎   | 475/758 [34:27<21:19,  4.52s/it]"
     ]
    },
    {
     "name": "stdout",
     "output_type": "stream",
     "text": [
      "吕蒙夜袭荆州，成功占领并严明军纪，后孙权到来庆祝胜利，虞翻说服傅士仁投降。\n"
     ]
    },
    {
     "name": "stderr",
     "output_type": "stream",
     "text": [
      "Processing 三国演义:  63%|██████▎   | 476/758 [34:32<21:49,  4.64s/it]"
     ]
    },
    {
     "name": "stdout",
     "output_type": "stream",
     "text": [
      "吕蒙建议孙权派傅士仁去南郡招降糜芳，糜芳在傅士仁的劝说下投降东吴，孙权重赏二人。同时，曹操得知东吴将袭荆州，计划通过透露消息给关羽，迫使其撤军，以便徐晃乘机攻击。\n"
     ]
    },
    {
     "name": "stderr",
     "output_type": "stream",
     "text": [
      "Processing 三国演义:  63%|██████▎   | 477/758 [34:36<20:13,  4.32s/it]"
     ]
    },
    {
     "name": "stdout",
     "output_type": "stream",
     "text": [
      "徐晃设计诱关平出战，暗中偷袭偃城，关平中计后与廖化合力救援，但最终被徐晃击败，偃城失守。\n"
     ]
    },
    {
     "name": "stderr",
     "output_type": "stream",
     "text": [
      "Processing 三国演义:  63%|██████▎   | 478/758 [34:40<20:07,  4.31s/it]"
     ]
    },
    {
     "name": "stdout",
     "output_type": "stream",
     "text": [
      "关羽与徐晃交战，徐晃宣布重赏取关羽首级，战后关羽得知荆州被吕蒙夺取，家眷被困，愤怒至极，决定求救成都并攻取荆州。\n"
     ]
    },
    {
     "name": "stderr",
     "output_type": "stream",
     "text": [
      "Processing 三国演义:  63%|██████▎   | 479/758 [34:45<20:54,  4.50s/it]"
     ]
    },
    {
     "name": "stdout",
     "output_type": "stream",
     "text": [
      "曹操赞扬徐晃军纪严明，封其为平南将军守襄阳，关公在荆州被吴魏夹击，派使者责问吕蒙，吕蒙善待关公家属，关公怒而攻荆州，遭遇蒋钦等三路夹击。\n"
     ]
    },
    {
     "name": "stderr",
     "output_type": "stream",
     "text": [
      "Processing 三国演义:  63%|██████▎   | 480/758 [34:50<21:18,  4.60s/it]"
     ]
    },
    {
     "name": "stdout",
     "output_type": "stream",
     "text": [
      "关公在荆州被围困，军心涣散，廖化突围求救于刘封、孟达，但刘封犹豫不决，担心无法对抗东吴和曹操的强大兵力。\n"
     ]
    },
    {
     "name": "stderr",
     "output_type": "stream",
     "text": [
      "Processing 三国演义:  63%|██████▎   | 481/758 [34:55<22:38,  4.91s/it]"
     ]
    },
    {
     "name": "stdout",
     "output_type": "stream",
     "text": [
      "后汉中王立后嗣，问孔明，孔明建议问关、张。汉中王遣人问关公，关公建议将某将军置于上庸以防后患。后关公在麦城遇困，诸葛瑾劝降，关公坚决拒绝，誓死不降。\n"
     ]
    },
    {
     "name": "stderr",
     "output_type": "stream",
     "text": [
      "Processing 三国演义:  64%|██████▎   | 482/758 [34:59<21:04,  4.58s/it]"
     ]
    },
    {
     "name": "stdout",
     "output_type": "stream",
     "text": [
      "孙权向吕蒙求计，吕蒙设伏兵于麦城北和临沮小路，成功伏击关羽，迫使其逃往临沮，最终关羽被擒。\n"
     ]
    },
    {
     "name": "stderr",
     "output_type": "stream",
     "text": [
      "Processing 三国演义:  64%|██████▎   | 483/758 [35:03<20:28,  4.47s/it]"
     ]
    },
    {
     "name": "stdout",
     "output_type": "stream",
     "text": [
      "关公在败退中遭遇潘璋伏击，被马忠所擒，关平力战亦被俘。孙权欲劝降关公，但关公拒绝并被处死，其忠义精神被后人赞颂。\n"
     ]
    },
    {
     "name": "stderr",
     "output_type": "stream",
     "text": [
      "Processing 三国演义:  64%|██████▍   | 484/758 [35:07<20:03,  4.39s/it]"
     ]
    },
    {
     "name": "stdout",
     "output_type": "stream",
     "text": [
      "王甫和周仓在麦城得知关公父子被杀，悲痛自杀，关公魂魄游荡至玉泉山，被普净和尚点化，后显圣护民，孙权则庆祝夺取荆襄之地。\n"
     ]
    },
    {
     "name": "stderr",
     "output_type": "stream",
     "text": [
      "Processing 三国演义:  64%|██████▍   | 485/758 [35:13<21:00,  4.62s/it]"
     ]
    },
    {
     "name": "stdout",
     "output_type": "stream",
     "text": [
      "吕蒙在庆功宴上突然发狂，自称关羽附体，随后七窍流血而死。孙权惊恐，张昭建议将关羽首级送给曹操，转移刘备的怒火，曹操听从司马懿建议，以香木为关羽造身，以大臣之礼安葬，以此化解危机。\n"
     ]
    },
    {
     "name": "stderr",
     "output_type": "stream",
     "text": [
      "Processing 三国演义:  64%|██████▍   | 486/758 [35:18<22:11,  4.90s/it]"
     ]
    },
    {
     "name": "stdout",
     "output_type": "stream",
     "text": [
      "曹操根据谋士的建议，决定在蜀吴交战时选择胜者进行攻击，同时处理关羽的遗体并举行隆重葬礼。汉中王刘备在成都听取法正的建议，纳吴懿之妹为妃，并关注荆州的安全。刘备夜间梦见关羽，感受到不祥之兆，急召孔明商议。\n"
     ]
    },
    {
     "name": "stderr",
     "output_type": "stream",
     "text": [
      "Processing 三国演义:  64%|██████▍   | 487/758 [35:21<19:47,  4.38s/it]"
     ]
    },
    {
     "name": "stdout",
     "output_type": "stream",
     "text": [
      "刘备梦见关羽被害，孔明和许靖试图隐瞒消息，但最终刘备得知真相，悲痛欲绝，誓言报仇。\n"
     ]
    },
    {
     "name": "stderr",
     "output_type": "stream",
     "text": [
      "Processing 三国演义:  64%|██████▍   | 488/758 [35:27<20:56,  4.65s/it]"
     ]
    },
    {
     "name": "stdout",
     "output_type": "stream",
     "text": [
      "玄德誓不与东吴共存，孔明解释东吴献关公首级给曹操的阴谋，玄德欲伐吴雪恨，但孔明建议按兵不动，等待时机。曹操因关公魂魄困扰，决定建新殿，但砍伐神木时遭遇异象，导致曹操病重。\n"
     ]
    },
    {
     "name": "stderr",
     "output_type": "stream",
     "text": [
      "Processing 三国演义:  65%|██████▍   | 489/758 [35:32<22:23,  5.00s/it]"
     ]
    },
    {
     "name": "stdout",
     "output_type": "stream",
     "text": [
      "华佗是一位神医，能用各种方法治疗疾病，包括剖腹洗脏等神奇疗法。曹操因头痛请华佗治疗，华佗建议剖脑取风涎，曹操怀疑华佗要害他，将其下狱。华佗在狱中感激狱卒吴押狱的照顾，临终前将《青囊书》传给他。\n"
     ]
    },
    {
     "name": "stderr",
     "output_type": "stream",
     "text": [
      "Processing 三国演义:  65%|██████▍   | 490/758 [35:38<22:33,  5.05s/it]"
     ]
    },
    {
     "name": "stdout",
     "output_type": "stream",
     "text": [
      "华佗将《青囊书》赠予吴押狱，但吴妻焚烧此书，仅剩一两叶，华佗死后，曹操病情加重，孙权上书表示归降，曹操封孙权官爵，但曹操病情恶化，梦见三马同槽，贾诩解释为吉兆。\n"
     ]
    },
    {
     "name": "stderr",
     "output_type": "stream",
     "text": [
      "Processing 三国演义:  65%|██████▍   | 491/758 [35:41<20:49,  4.68s/it]"
     ]
    },
    {
     "name": "stdout",
     "output_type": "stream",
     "text": [
      "曹操在宫中遭遇伏皇后、董贵人等鬼魂索命，惊恐万分，后病重召集群臣交代后事，最终因病去世，享年六十六岁。\n"
     ]
    },
    {
     "name": "stderr",
     "output_type": "stream",
     "text": [
      "Processing 三国演义:  65%|██████▍   | 492/758 [35:46<21:05,  4.76s/it]"
     ]
    },
    {
     "name": "stdout",
     "output_type": "stream",
     "text": [
      "曹操去世后，曹丕面临继承权问题，司马孚提议迅速确立嗣位以稳定局势，华歆带来汉帝诏命封曹丕为魏王，曹彰率军前来可能争夺王位，贾逵被派去说服曹彰。\n"
     ]
    },
    {
     "name": "stderr",
     "output_type": "stream",
     "text": [
      "Processing 三国演义:  65%|██████▌   | 493/758 [35:54<25:16,  5.72s/it]"
     ]
    },
    {
     "name": "stdout",
     "output_type": "stream",
     "text": [
      "曹彰带兵入城奔丧，被质疑后只身见曹丕，交出军权。曹丕继位，改元延康，封赏官员，羞辱于禁致其病死。华歆建议追责未奔丧的曹植和曹熊，曹熊自缢，曹植被捕后曹丕大怒，派兵擒拿曹植及其党羽。\n"
     ]
    },
    {
     "name": "stderr",
     "output_type": "stream",
     "text": [
      "Processing 三国演义:  65%|██████▌   | 494/758 [35:58<22:43,  5.16s/it]"
     ]
    },
    {
     "name": "stdout",
     "output_type": "stream",
     "text": [
      "曹丕因怀疑曹植的才华而设七步成诗之试，曹植成功作诗后被贬为安乡侯，曹丕继位后法令严苛。\n"
     ]
    },
    {
     "name": "stderr",
     "output_type": "stream",
     "text": [
      "Processing 三国演义:  65%|██████▌   | 495/758 [36:04<23:52,  5.45s/it]"
     ]
    },
    {
     "name": "stdout",
     "output_type": "stream",
     "text": [
      "汉中王计划先伐东吴报关羽之仇，再讨中原除乱贼，廖化请求诛杀刘封、孟达。孔明建议先升二人官职再擒拿。彭羕与孟达密谋反叛，被马超发现并报告汉中王，彭羕被处死。孟达得知后投奔魏国，汉中王大怒。\n"
     ]
    },
    {
     "name": "stderr",
     "output_type": "stream",
     "text": [
      "Processing 三国演义:  65%|██████▌   | 496/758 [36:08<21:38,  4.96s/it]"
     ]
    },
    {
     "name": "stdout",
     "output_type": "stream",
     "text": [
      "孟达因不救关羽而惧罪投降曹丕，曹丕命其劝降刘封以证真心，刘封怒斩使者并挑战孟达，两人对峙。\n"
     ]
    },
    {
     "name": "stderr",
     "output_type": "stream",
     "text": [
      "Processing 三国演义:  66%|██████▌   | 497/758 [36:12<20:41,  4.75s/it]"
     ]
    },
    {
     "name": "stdout",
     "output_type": "stream",
     "text": [
      "刘封因孟达谏阻未能救援关羽，后被刘备斩杀。曹丕即位后，魏国出现多种祥瑞，中郎将李伏等文武官员请求汉献帝禅位于曹丕。\n"
     ]
    },
    {
     "name": "stderr",
     "output_type": "stream",
     "text": [
      "Processing 三国演义:  66%|██████▌   | 498/758 [36:16<19:04,  4.40s/it]"
     ]
    },
    {
     "name": "stdout",
     "output_type": "stream",
     "text": [
      "群臣劝汉帝禅位给魏王，汉帝不愿放弃祖宗基业，但最终在曹洪、曹休的逼迫下，被迫出殿面对群臣。\n"
     ]
    },
    {
     "name": "stderr",
     "output_type": "stream",
     "text": [
      "Processing 三国演义:  66%|██████▌   | 499/758 [36:20<18:03,  4.18s/it]"
     ]
    },
    {
     "name": "stdout",
     "output_type": "stream",
     "text": [
      "皇帝在群臣的压力下，被迫禅让帝位给魏王曹丕，尽管曹丕最初表现出谦逊，最终还是在群臣的再次劝说下接受了帝位。\n"
     ]
    },
    {
     "name": "stderr",
     "output_type": "stream",
     "text": [
      "Processing 三国演义:  66%|██████▌   | 500/758 [36:23<17:16,  4.02s/it]"
     ]
    },
    {
     "name": "stdout",
     "output_type": "stream",
     "text": [
      "曹丕接受汉献帝的禅让，成为魏国皇帝，改元黄初，封献帝为山阳公，标志着汉朝的正式结束和魏国的建立。\n"
     ]
    },
    {
     "name": "stderr",
     "output_type": "stream",
     "text": [
      "Processing 三国演义:  66%|██████▌   | 501/758 [36:28<17:55,  4.19s/it]"
     ]
    },
    {
     "name": "stdout",
     "output_type": "stream",
     "text": [
      "曹丕逼迫献帝禅位，自立为帝，建都洛阳。刘备得知后痛哭，忧虑成疾，孔明等人劝其称帝以继汉统，但刘备拒绝。孔明设计装病，促使刘备最终接受帝位。\n"
     ]
    },
    {
     "name": "stderr",
     "output_type": "stream",
     "text": [
      "Processing 三国演义:  66%|██████▌   | 502/758 [36:32<18:03,  4.23s/it]"
     ]
    },
    {
     "name": "stdout",
     "output_type": "stream",
     "text": [
      "汉中王探望病重的孔明，孔明表达了对汉中王未即帝位的忧虑，汉中王最终被劝服，决定登基，众官迎请汉中王登坛致祭，正式即位。\n"
     ]
    },
    {
     "name": "stderr",
     "output_type": "stream",
     "text": [
      "Processing 三国演义:  66%|██████▋   | 503/758 [36:38<19:53,  4.68s/it]"
     ]
    },
    {
     "name": "stdout",
     "output_type": "stream",
     "text": [
      "孔明率众官祭天，汉中王受玉玺后推辞，孔明劝其即位，改元章武。先主欲起兵伐吴为关羽报仇，赵云谏言应先讨伐曹魏，但先主坚持伐吴。张飞闻关羽被害，悲愤欲绝，要求早兴兵报仇。\n"
     ]
    },
    {
     "name": "stderr",
     "output_type": "stream",
     "text": [
      "Processing 三国演义:  66%|██████▋   | 504/758 [36:42<19:11,  4.53s/it]"
     ]
    },
    {
     "name": "stdout",
     "output_type": "stream",
     "text": [
      "张飞请求刘备为关羽报仇，刘备决定亲自率军伐吴，尽管孔明和秦宓等官员劝阻，刘备坚持出兵，并嘱咐张飞改变暴怒的性格。\n"
     ]
    },
    {
     "name": "stderr",
     "output_type": "stream",
     "text": [
      "Processing 三国演义:  67%|██████▋   | 505/758 [36:47<19:57,  4.73s/it]"
     ]
    },
    {
     "name": "stdout",
     "output_type": "stream",
     "text": [
      "刘备决定出兵伐吴，张飞急于报仇，命令三日内制办白旗白甲，因限期紧迫，范疆、张达担心被杀，趁张飞醉酒将其刺杀，并带着张飞首级投奔东吴。\n"
     ]
    },
    {
     "name": "stderr",
     "output_type": "stream",
     "text": [
      "Processing 三国演义:  67%|██████▋   | 506/758 [36:52<19:34,  4.66s/it]"
     ]
    },
    {
     "name": "stdout",
     "output_type": "stream",
     "text": [
      "张飞部将吴班报告张飞死讯，张苞和关兴相继来报丧，先主刘备悲痛欲绝，决定亲征东吴为兄弟报仇。\n"
     ]
    },
    {
     "name": "stderr",
     "output_type": "stream",
     "text": [
      "Processing 三国演义:  67%|██████▋   | 507/758 [36:57<19:39,  4.70s/it]"
     ]
    },
    {
     "name": "stdout",
     "output_type": "stream",
     "text": [
      "刘备派遣陈震前往青城山召见李意，李意预知并接受召见，但画图预言不利后离去。刘备不悦，继续进军。张苞和关兴争夺先锋印，展示武艺。\n"
     ]
    },
    {
     "name": "stderr",
     "output_type": "stream",
     "text": [
      "Processing 三国演义:  67%|██████▋   | 508/758 [37:01<19:08,  4.59s/it]"
     ]
    },
    {
     "name": "stdout",
     "output_type": "stream",
     "text": [
      "刘备制止张苞与关兴的争斗，命他们同心协力报父仇，随后大军进攻吴国，孙权派遣诸葛瑾求和，刘备起初拒绝，后听取黄权建议召见诸葛瑾，了解荆州情况。\n"
     ]
    },
    {
     "name": "stderr",
     "output_type": "stream",
     "text": [
      "Processing 三国演义:  67%|██████▋   | 509/758 [37:06<19:43,  4.75s/it]"
     ]
    },
    {
     "name": "stdout",
     "output_type": "stream",
     "text": [
      "孙权派诸葛瑾向刘备求和，提出归还荆州和降将，但刘备因关羽之死愤怒拒绝。诸葛瑾返回后，张昭怀疑其叛变，但孙权信任诸葛瑾。赵咨建议孙权向曹丕求援，以解江南之危。\n"
     ]
    },
    {
     "name": "stderr",
     "output_type": "stream",
     "text": [
      "Processing 三国演义:  67%|██████▋   | 510/758 [37:13<22:18,  5.40s/it]"
     ]
    },
    {
     "name": "stdout",
     "output_type": "stream",
     "text": [
      "曹丕询问赵咨关于吴主孙权的才能和学识，赵咨赞扬孙权聪明、仁智、雄略，并称吴国人才众多。曹丕决定封孙权为吴王，加九锡。刘晔建议趁机攻吴，但曹丕决定观望吴蜀交战后再行动。孙权接受封爵，与魏使邢贞会面，邢贞因傲慢被张昭斥责后改变态度。\n"
     ]
    },
    {
     "name": "stderr",
     "output_type": "stream",
     "text": [
      "Processing 三国演义:  67%|██████▋   | 511/758 [37:17<20:36,  5.01s/it]"
     ]
    },
    {
     "name": "stdout",
     "output_type": "stream",
     "text": [
      "孙权受封爵后，面临蜀军大举进攻，孙桓请求领兵抵抗，与朱然一同率军五万迎战蜀军，蜀将关兴和张苞也领命前往对抗。\n"
     ]
    },
    {
     "name": "stderr",
     "output_type": "stream",
     "text": [
      "Processing 三国演义:  68%|██████▊   | 512/758 [37:21<19:04,  4.65s/it]"
     ]
    },
    {
     "name": "stdout",
     "output_type": "stream",
     "text": [
      "张苞和关兴在战场上击败孙桓及其部将，孙桓求救于吴，蜀将计划趁机劫寨，同时设伏以防朱然水军。\n"
     ]
    },
    {
     "name": "stderr",
     "output_type": "stream",
     "text": [
      "Processing 三国演义:  68%|██████▊   | 513/758 [37:25<18:09,  4.45s/it]"
     ]
    },
    {
     "name": "stdout",
     "output_type": "stream",
     "text": [
      "班建议使用小卒诈降诱敌，朱然中计，崔禹被擒，孙桓败逃至彝陵，吴王派兵救援，先主刘备感叹新英雄辈出。\n"
     ]
    },
    {
     "name": "stderr",
     "output_type": "stream",
     "text": [
      "Processing 三国演义:  68%|██████▊   | 514/758 [37:29<17:41,  4.35s/it]"
     ]
    },
    {
     "name": "stdout",
     "output_type": "stream",
     "text": [
      "老将黄忠因不满先主刘备称其老迈无用，愤而前往东吴挑战，斩敌将立功，但最终被围困并中箭，幸得关兴、张苞救援。\n"
     ]
    },
    {
     "name": "stderr",
     "output_type": "stream",
     "text": [
      "Processing 三国演义:  68%|██████▊   | 515/758 [37:33<17:40,  4.37s/it]"
     ]
    },
    {
     "name": "stdout",
     "output_type": "stream",
     "text": [
      "黄忠在战斗中受伤，临终前劝刘备保重身体，随后去世。刘备悲痛，亲自率军征讨吴国，大败吴军，但甘宁在战斗中被沙摩柯射杀。\n"
     ]
    },
    {
     "name": "stderr",
     "output_type": "stream",
     "text": [
      "Processing 三国演义:  68%|██████▊   | 516/758 [37:37<17:04,  4.24s/it]"
     ]
    },
    {
     "name": "stdout",
     "output_type": "stream",
     "text": [
      "先主追杀吴兵，关兴迷路至一庄，遇潘璋投宿，关兴杀之祭父，后与张苞合力击退马忠，回猇亭献首级。\n"
     ]
    },
    {
     "name": "stderr",
     "output_type": "stream",
     "text": [
      "Processing 三国演义:  68%|██████▊   | 517/758 [37:41<15:49,  3.94s/it]"
     ]
    },
    {
     "name": "stdout",
     "output_type": "stream",
     "text": [
      "糜芳和傅士仁因军心动摇，决定刺杀马忠后投降蜀国，但被蜀主刘备处死，以祭关羽。\n"
     ]
    },
    {
     "name": "stderr",
     "output_type": "stream",
     "text": [
      "Processing 三国演义:  68%|██████▊   | 518/758 [37:44<15:33,  3.89s/it]"
     ]
    },
    {
     "name": "stdout",
     "output_type": "stream",
     "text": [
      "东吴送还张飞首级并囚犯，请求和解，但刘备拒绝和解，决心先灭吴后灭魏，东吴决定启用陆逊对抗蜀军。\n"
     ]
    },
    {
     "name": "stderr",
     "output_type": "stream",
     "text": [
      "Processing 三国演义:  68%|██████▊   | 519/758 [37:48<15:39,  3.93s/it]"
     ]
    },
    {
     "name": "stdout",
     "output_type": "stream",
     "text": [
      "孙权任命陆逊为大都督，统领军队对抗蜀国，尽管众将不服，陆逊坚持军令，准备坚守策略以破蜀。\n"
     ]
    },
    {
     "name": "stderr",
     "output_type": "stream",
     "text": [
      "Processing 三国演义:  69%|██████▊   | 520/758 [37:53<15:51,  4.00s/it]"
     ]
    },
    {
     "name": "stdout",
     "output_type": "stream",
     "text": [
      "陆逊受命为大都督，坚守不战，以等待时机；刘备则亲自领兵攻打关津隘口，但陆逊坚守不出，刘备焦躁不安。\n"
     ]
    },
    {
     "name": "stderr",
     "output_type": "stream",
     "text": [
      "Processing 三国演义:  69%|██████▊   | 521/758 [37:56<15:29,  3.92s/it]"
     ]
    },
    {
     "name": "stdout",
     "output_type": "stream",
     "text": [
      "刘备命令军队移至山林茂密处避暑，并设伏兵诱敌，陆逊识破计谋，未中伏击。\n"
     ]
    },
    {
     "name": "stderr",
     "output_type": "stream",
     "text": [
      "Processing 三国演义:  69%|██████▉   | 522/758 [38:02<17:08,  4.36s/it]"
     ]
    },
    {
     "name": "stdout",
     "output_type": "stream",
     "text": [
      "陆逊制定破蜀策略，自信能迅速击败刘备，孙权大喜并派兵支援。刘备深入吴境，分兵部署，但魏主认为刘备不懂兵法，预言其将败于陆逊。魏主计划趁机攻吴，三路军马准备暗袭东吴。\n"
     ]
    },
    {
     "name": "stderr",
     "output_type": "stream",
     "text": [
      "Processing 三国演义:  69%|██████▉   | 523/758 [38:06<17:27,  4.46s/it]"
     ]
    },
    {
     "name": "stdout",
     "output_type": "stream",
     "text": [
      "马良向孔明展示蜀军营地图，孔明发现营地布局危险，警告马良需立即调整。陆逊观察蜀军后，派遣淳于丹攻击蜀营，虽遭遇抵抗但最终成功，陆逊通过此举试探蜀军实力。\n"
     ]
    },
    {
     "name": "stderr",
     "output_type": "stream",
     "text": [
      "Processing 三国演义:  69%|██████▉   | 524/758 [38:11<17:23,  4.46s/it]"
     ]
    },
    {
     "name": "stdout",
     "output_type": "stream",
     "text": [
      "陆逊制定火攻计策，趁诸葛亮不在，利用东南风大作之机，分兵攻烧蜀营，导致蜀军大乱，刘备险被擒，最终被张苞、傅彤救出，逃至马鞍山。\n"
     ]
    },
    {
     "name": "stderr",
     "output_type": "stream",
     "text": [
      "Processing 三国演义:  69%|██████▉   | 525/758 [38:15<17:07,  4.41s/it]"
     ]
    },
    {
     "name": "stdout",
     "output_type": "stream",
     "text": [
      "刘备在夷陵之战中被吴军围困，关兴、张苞保护刘备突围，赵云及时救援，傅彤断后英勇战死，程畿指挥水军抵抗，最终刘备逃至白帝城。\n"
     ]
    },
    {
     "name": "stderr",
     "output_type": "stream",
     "text": [
      "Processing 三国演义:  69%|██████▉   | 526/758 [38:21<18:38,  4.82s/it]"
     ]
    },
    {
     "name": "stdout",
     "output_type": "stream",
     "text": [
      "程畿在战场上坚守不退，最终自刎以示忠诚；张南、冯习在救援途中被吴兵夹击而死；吴班被赵云救回；沙摩柯被周泰所杀；孙夫人闻先主死讯投江自尽。陆逊大胜后，在西追袭途中发现诸葛亮布下的石阵，心生疑虑。\n"
     ]
    },
    {
     "name": "stderr",
     "output_type": "stream",
     "text": [
      "Processing 三国演义:  70%|██████▉   | 527/758 [38:25<18:01,  4.68s/it]"
     ]
    },
    {
     "name": "stdout",
     "output_type": "stream",
     "text": [
      "陆逊误入诸葛亮布下的八阵图，被诸葛亮的岳父黄承彦救出，陆逊感叹诸葛亮智谋超群，决定撤军，预料魏国会趁机来袭，果然魏军来袭，陆逊已做好防御准备。\n"
     ]
    },
    {
     "name": "stderr",
     "output_type": "stream",
     "text": [
      "Processing 三国演义:  70%|██████▉   | 528/758 [38:31<18:47,  4.90s/it]"
     ]
    },
    {
     "name": "stdout",
     "output_type": "stream",
     "text": [
      "黄权因被吴兵隔断无法归蜀，无奈降魏，但刘备理解其困境，未追究其家属。曹丕接受黄权投降，并询问贾诩统一策略，贾诩建议持守待变。曹丕不听，亲自率军攻吴，但吴已做好准备，曹丕的进攻未能成功。\n"
     ]
    },
    {
     "name": "stderr",
     "output_type": "stream",
     "text": [
      "Processing 三国演义:  70%|██████▉   | 529/758 [38:37<19:54,  5.22s/it]"
     ]
    },
    {
     "name": "stdout",
     "output_type": "stream",
     "text": [
      "朱桓利用地理优势和兵法，以逸待劳击败曹仁，同时陆逊和诸葛瑾内外夹攻曹真、夏侯尚，吕范击败曹休，导致魏国三路兵败。刘备在永安宫病重，梦中见关羽、张飞，预感自己不久于人世，召诸葛亮和李严等来听受遗命。\n"
     ]
    },
    {
     "name": "stderr",
     "output_type": "stream",
     "text": [
      "Processing 三国演义:  70%|██████▉   | 530/758 [38:41<18:28,  4.86s/it]"
     ]
    },
    {
     "name": "stdout",
     "output_type": "stream",
     "text": [
      "刘备临终前将国家大事托付给诸葛亮，并告诫他马谡言过其实不可大用，同时嘱咐儿子们以父事丞相，最终在章武三年夏四月二十四日驾崩。\n"
     ]
    },
    {
     "name": "stderr",
     "output_type": "stream",
     "text": [
      "Processing 三国演义:  70%|███████   | 531/758 [38:45<17:31,  4.63s/it]"
     ]
    },
    {
     "name": "stdout",
     "output_type": "stream",
     "text": [
      "刘备驾崩后，诸葛亮辅佐太子刘禅即位，改元建兴。曹丕得知刘备死讯，计划联合五路大军攻蜀，以司马懿之计四面夹攻，图谋西川。\n"
     ]
    },
    {
     "name": "stderr",
     "output_type": "stream",
     "text": [
      "Processing 三国演义:  70%|███████   | 532/758 [38:49<17:12,  4.57s/it]"
     ]
    },
    {
     "name": "stdout",
     "output_type": "stream",
     "text": [
      "魏国派遣五路大军共五十万兵力进攻蜀汉，蜀汉后主刘禅急召诸葛亮商议对策，但诸葛亮因病数日未出，后主亲自前往丞相府询问，发现诸葛亮有意避开百官。\n"
     ]
    },
    {
     "name": "stderr",
     "output_type": "stream",
     "text": [
      "Processing 三国演义:  70%|███████   | 533/758 [38:54<17:28,  4.66s/it]"
     ]
    },
    {
     "name": "stdout",
     "output_type": "stream",
     "text": [
      "后主询问孔明为何不处理曹丕五路入侵的紧急情况，孔明解释已安排退兵策略，并已成功退去四路，只需再派使者退孙权一路，后主听后既惊又喜。\n"
     ]
    },
    {
     "name": "stderr",
     "output_type": "stream",
     "text": [
      "Processing 三国演义:  70%|███████   | 534/758 [38:57<15:53,  4.26s/it]"
     ]
    },
    {
     "name": "stdout",
     "output_type": "stream",
     "text": [
      "诸葛亮推荐邓芝前往东吴，以利害说服东吴退兵，同时与东吴结盟，共同对抗魏国。\n"
     ]
    },
    {
     "name": "stderr",
     "output_type": "stream",
     "text": [
      "Processing 三国演义:  71%|███████   | 535/758 [39:03<17:22,  4.67s/it]"
     ]
    },
    {
     "name": "stdout",
     "output_type": "stream",
     "text": [
      "孙权听从陆逊的建议，观察四路兵马胜败再决定是否出兵，得知四路兵败后，决定不与蜀结怨。此时，诸葛亮派邓芝来访，孙权设油鼎威胁，但邓芝从容不迫，最终孙权撤去武士，与邓芝商讨吴蜀和魏的利害关系。\n"
     ]
    },
    {
     "name": "stderr",
     "output_type": "stream",
     "text": [
      "Processing 三国演义:  71%|███████   | 536/758 [39:07<16:27,  4.45s/it]"
     ]
    },
    {
     "name": "stdout",
     "output_type": "stream",
     "text": [
      "邓芝劝吴王孙权与蜀国联合，共同对抗魏国，孙权被说服后派张温与邓芝入蜀通好，诸葛亮和后主刘禅接待张温，表达联合意愿。\n"
     ]
    },
    {
     "name": "stderr",
     "output_type": "stream",
     "text": [
      "Processing 三国演义:  71%|███████   | 537/758 [39:10<15:26,  4.19s/it]"
     ]
    },
    {
     "name": "stdout",
     "output_type": "stream",
     "text": [
      "秦宓在宴会上以博学多才回应张温的提问，展现了蜀中人才的卓越，最终张温无言以对，感叹蜀中多俊杰。\n"
     ]
    },
    {
     "name": "stderr",
     "output_type": "stream",
     "text": [
      "Processing 三国演义:  71%|███████   | 538/758 [39:14<14:36,  3.98s/it]"
     ]
    },
    {
     "name": "stdout",
     "output_type": "stream",
     "text": [
      "吴蜀两国商议联合灭魏，魏国得知后决定先发制人，曹丕亲自率军攻吴，吴国则计划联合蜀国分兵抵抗。\n"
     ]
    },
    {
     "name": "stderr",
     "output_type": "stream",
     "text": [
      "Processing 三国演义:  71%|███████   | 539/758 [39:19<15:11,  4.16s/it]"
     ]
    },
    {
     "name": "stdout",
     "output_type": "stream",
     "text": [
      "孙权任命徐盛为安东将军守江南，孙韶提议渡江迎战曹丕，徐盛拒绝并因孙韶违令欲斩之，孙权救下孙韶，孙韶私自带兵渡江，徐盛派丁奉接应。\n"
     ]
    },
    {
     "name": "stderr",
     "output_type": "stream",
     "text": [
      "Processing 三国演义:  71%|███████   | 540/758 [39:23<15:24,  4.24s/it]"
     ]
    },
    {
     "name": "stdout",
     "output_type": "stream",
     "text": [
      "曹丕怀疑江岸有伏兵，亲自前往观察，发现江南看似无兵，实则徐盛设疑兵计，曹丕大惊后遭遇赵云袭击，孙韶和丁奉的追击，最终损失惨重。\n"
     ]
    },
    {
     "name": "stderr",
     "output_type": "stream",
     "text": [
      "Processing 三国演义:  71%|███████▏  | 541/758 [39:27<15:05,  4.17s/it]"
     ]
    },
    {
     "name": "stdout",
     "output_type": "stream",
     "text": [
      "孙韶、丁奉大败魏军，徐盛受重赏；赵云因益州战事紧急被召回；诸葛亮准备亲自南征以解决南方蛮族问题。\n"
     ]
    },
    {
     "name": "stderr",
     "output_type": "stream",
     "text": [
      "Processing 三国演义:  72%|███████▏  | 542/758 [39:32<15:49,  4.40s/it]"
     ]
    },
    {
     "name": "stdout",
     "output_type": "stream",
     "text": [
      "孔明决定亲自征讨南蛮，率领五十万大军前往益州，途中收编关索为先锋。雍闿、高定、朱褒分三路迎战，孔明军生擒鄂焕后释放，施以反间计，使敌方内部产生疑虑。\n"
     ]
    },
    {
     "name": "stderr",
     "output_type": "stream",
     "text": [
      "Processing 三国演义:  72%|███████▏  | 543/758 [39:36<15:07,  4.22s/it]"
     ]
    },
    {
     "name": "stdout",
     "output_type": "stream",
     "text": [
      "孔明利用策略分化敌军，通过释放俘虏并传播消息，使高定部下心生归顺之意，最终高定反叛雍闿，雍闿被鄂焕击败。\n"
     ]
    },
    {
     "name": "stderr",
     "output_type": "stream",
     "text": [
      "Processing 三国演义:  72%|███████▏  | 544/758 [39:40<15:24,  4.32s/it]"
     ]
    },
    {
     "name": "stdout",
     "output_type": "stream",
     "text": [
      "高定杀死雍闿后，孔明怀疑其诈降，要求他再杀朱褒以表真心。高定成功后，孔明任命他为益州太守。随后，孔明请吕凯提供平蛮策略，并任命他为行军教授。\n"
     ]
    },
    {
     "name": "stderr",
     "output_type": "stream",
     "text": [
      "Processing 三国演义:  72%|███████▏  | 545/758 [39:46<16:35,  4.67s/it]"
     ]
    },
    {
     "name": "stdout",
     "output_type": "stream",
     "text": [
      "孔明征南蛮，马谡建议攻心为上，孔明任命马谡为参军。蛮王孟获组织三洞元帅分兵抵抗，孔明部署赵云、魏延等将领应对，但因不识地理未重用二人，赵云、魏延自行探路迎战。\n"
     ]
    },
    {
     "name": "stderr",
     "output_type": "stream",
     "text": [
      "Processing 三国演义:  72%|███████▏  | 546/758 [39:51<16:51,  4.77s/it]"
     ]
    },
    {
     "name": "stdout",
     "output_type": "stream",
     "text": [
      "赵云和魏延利用夜袭策略，成功击败金环三结元帅并分兵攻击董荼那和阿会喃的营寨，最终孔明通过精心布局，生擒了董荼那和阿会喃。\n"
     ]
    },
    {
     "name": "stderr",
     "output_type": "stream",
     "text": [
      "Processing 三国演义:  72%|███████▏  | 547/758 [39:56<16:57,  4.82s/it]"
     ]
    },
    {
     "name": "stdout",
     "output_type": "stream",
     "text": [
      "孔明派遣赵云、魏延、王平、关索等将领执行计策，成功伏击并生擒了蛮王孟获，最终孟获被带到孔明帐中，孔明对其部下进行安抚。\n"
     ]
    },
    {
     "name": "stderr",
     "output_type": "stream",
     "text": [
      "Processing 三国演义:  72%|███████▏  | 548/758 [39:59<15:13,  4.35s/it]"
     ]
    },
    {
     "name": "stdout",
     "output_type": "stream",
     "text": [
      "孔明释放孟获，希望降伏其心，孟获返回后聚集兵力，准备再次对抗孔明。\n"
     ]
    },
    {
     "name": "stderr",
     "output_type": "stream",
     "text": [
      "Processing 三国演义:  72%|███████▏  | 549/758 [40:05<16:58,  4.87s/it]"
     ]
    },
    {
     "name": "stdout",
     "output_type": "stream",
     "text": [
      "孔明在泸水边观察后，命令军队在林木茂盛处休息，并派遣吕凯和王平等将领守寨。蒋琬担心敌军火攻，但孔明自信有妙计。随后，孔明利用马岱带来的军队断绝孟获的粮道，并在土人指导下安全渡过泸水，成功占领夹山峪，切断敌军粮道。\n"
     ]
    },
    {
     "name": "stderr",
     "output_type": "stream",
     "text": [
      "Processing 三国演义:  73%|███████▎  | 550/758 [40:10<16:54,  4.88s/it]"
     ]
    },
    {
     "name": "stdout",
     "output_type": "stream",
     "text": [
      "孟获依赖泸水之险，自信能擒诸葛亮，但马岱暗渡泸水，断粮道，斩敌将，孟获部将董荼那因受诸葛亮恩惠不战而退，被孟获责罚，众酋长欲杀孟获投诸葛亮。\n"
     ]
    },
    {
     "name": "stderr",
     "output_type": "stream",
     "text": [
      "Processing 三国演义:  73%|███████▎  | 551/758 [40:15<16:41,  4.84s/it]"
     ]
    },
    {
     "name": "stdout",
     "output_type": "stream",
     "text": [
      "董荼那带领百余人趁孟获醉倒，将其生擒并献给孔明。孔明再次释放孟获，孟获表示若再次被擒则真心归降。孟获回寨后设伏杀害了董荼那和阿会喃。\n"
     ]
    },
    {
     "name": "stderr",
     "output_type": "stream",
     "text": [
      "Processing 三国演义:  73%|███████▎  | 552/758 [40:18<15:11,  4.42s/it]"
     ]
    },
    {
     "name": "stdout",
     "output_type": "stream",
     "text": [
      "孟获派弟孟优带宝物前往诸葛亮大寨，企图里应外合攻击诸葛亮，但诸葛亮已识破计谋，暗中部署反击。\n"
     ]
    },
    {
     "name": "stderr",
     "output_type": "stream",
     "text": [
      "Processing 三国演义:  73%|███████▎  | 553/758 [40:23<15:24,  4.51s/it]"
     ]
    },
    {
     "name": "stdout",
     "output_type": "stream",
     "text": [
      "孟获中孔明计，被诱入空寨，孟优及番兵被药醉倒，孟获逃至泸水被擒，孔明再次释放孟获，并警告若再被擒将不轻饶。\n"
     ]
    },
    {
     "name": "stderr",
     "output_type": "stream",
     "text": [
      "Processing 三国演义:  73%|███████▎  | 554/758 [40:27<14:49,  4.36s/it]"
     ]
    },
    {
     "name": "stdout",
     "output_type": "stream",
     "text": [
      "孔明设计擒获孟获，孟获不服，孔明释放并设下陷阱，孟获再次被擒，孔明再次释放，孟获聚集大军反攻，孔明巧妙应对，准备迎战。\n"
     ]
    },
    {
     "name": "stderr",
     "output_type": "stream",
     "text": [
      "Processing 三国演义:  73%|███████▎  | 555/758 [40:30<13:49,  4.09s/it]"
     ]
    },
    {
     "name": "stdout",
     "output_type": "stream",
     "text": [
      "孔明面对孟获的挑衅坚守不出，待蛮兵懈怠后设下埋伏，最终利用策略和伏兵击败孟获，迫使其逃亡。\n"
     ]
    },
    {
     "name": "stderr",
     "output_type": "stream",
     "text": [
      "Processing 三国演义:  73%|███████▎  | 556/758 [40:34<12:57,  3.85s/it]"
     ]
    },
    {
     "name": "stdout",
     "output_type": "stream",
     "text": [
      "孟获被孔明设计第四次擒获，孔明再次释放他，孟获与兄弟孟优计划退避至秃龙洞避战。\n"
     ]
    },
    {
     "name": "stderr",
     "output_type": "stream",
     "text": [
      "Processing 三国演义:  73%|███████▎  | 557/758 [40:37<12:14,  3.65s/it]"
     ]
    },
    {
     "name": "stdout",
     "output_type": "stream",
     "text": [
      "孟获在朵思的帮助下，利用地形和毒泉防御蜀军，孔明则计划继续南进攻打孟获。\n"
     ]
    },
    {
     "name": "stderr",
     "output_type": "stream",
     "text": [
      "Processing 三国演义:  74%|███████▎  | 558/758 [40:40<11:56,  3.58s/it]"
     ]
    },
    {
     "name": "stdout",
     "output_type": "stream",
     "text": [
      "孔明率军平蛮，士兵误饮毒水变哑，孔明求助伏波将军庙，得老叟指引至万安溪安乐泉解毒。\n"
     ]
    },
    {
     "name": "stderr",
     "output_type": "stream",
     "text": [
      "Processing 三国演义:  74%|███████▎  | 559/758 [40:44<12:16,  3.70s/it]"
     ]
    },
    {
     "name": "stdout",
     "output_type": "stream",
     "text": [
      "孔明在山神指引下找到隐士孟节，求得药泉治愈军士瘴气，并得知孟节为孟获之兄，因不满孟获造反而隐居。\n"
     ]
    },
    {
     "name": "stderr",
     "output_type": "stream",
     "text": [
      "Processing 三国演义:  74%|███████▍  | 560/758 [40:51<15:10,  4.60s/it]"
     ]
    },
    {
     "name": "stdout",
     "output_type": "stream",
     "text": [
      "孔明欲封孟节为王，孟节拒绝，孔明赠金帛亦不受。孔明军中缺水，祈祷后得甘泉，安然进军至秃龙洞。孟获与朵思大王不信蜀军无恙，见蜀军安然取水，认为神兵。杨绛率兵助孟获，宴中趁机捉拿孟获、孟优及朵思大王。\n"
     ]
    },
    {
     "name": "stderr",
     "output_type": "stream",
     "text": [
      "Processing 三国演义:  74%|███████▍  | 561/758 [40:56<15:29,  4.72s/it]"
     ]
    },
    {
     "name": "stdout",
     "output_type": "stream",
     "text": [
      "杨绛因感诸葛丞相恩德，擒孟获等献给孔明，孔明释放孟获并挑战其再战，孟获返回银坑洞准备重整兵马。\n"
     ]
    },
    {
     "name": "stderr",
     "output_type": "stream",
     "text": [
      "Processing 三国演义:  74%|███████▍  | 562/758 [41:01<15:51,  4.85s/it]"
     ]
    },
    {
     "name": "stdout",
     "output_type": "stream",
     "text": [
      "孟获在洞中聚集宗党，寻求破蜀之计，其妻弟带来洞主提议求助木鹿大王。孔明攻打三江城，利用计谋积土成山，成功攻占城池，朵思大王战死。孟获得知消息后惊慌失措。\n"
     ]
    },
    {
     "name": "stderr",
     "output_type": "stream",
     "text": [
      "Processing 三国演义:  74%|███████▍  | 563/758 [41:05<14:33,  4.48s/it]"
     ]
    },
    {
     "name": "stdout",
     "output_type": "stream",
     "text": [
      "祝融夫人出战蜀将张嶷和马忠，成功俘获二人，后被诸葛亮设计擒获，最终以夫人交换回张嶷和马忠。\n"
     ]
    },
    {
     "name": "stderr",
     "output_type": "stream",
     "text": [
      "Processing 三国演义:  74%|███████▍  | 564/758 [41:09<14:35,  4.51s/it]"
     ]
    },
    {
     "name": "stdout",
     "output_type": "stream",
     "text": [
      "孟获请木鹿大王助战，木鹿以驱兽术击败赵云、魏延。孔明用预先准备的假兽反制，最终击败木鹿大王，占领银坑洞。\n"
     ]
    },
    {
     "name": "stderr",
     "output_type": "stream",
     "text": [
      "Processing 三国演义:  75%|███████▍  | 565/758 [41:13<13:57,  4.34s/it]"
     ]
    },
    {
     "name": "stdout",
     "output_type": "stream",
     "text": [
      "孔明识破孟获与其妻弟带来洞主的诈降计，将其擒获后释放。孟获逃至乌戈国，请求国主兀突骨出兵助其复仇。\n"
     ]
    },
    {
     "name": "stderr",
     "output_type": "stream",
     "text": [
      "Processing 三国演义:  75%|███████▍  | 566/758 [41:18<14:33,  4.55s/it]"
     ]
    },
    {
     "name": "stdout",
     "output_type": "stream",
     "text": [
      "孔明得知孟获联合乌戈国主在桃花渡口屯兵，遂率军前往对峙。乌戈国藤甲军防御坚固，蜀军初战不利。孔明观察地形后，制定策略，分派赵云和马岱执行，准备在盘蛇谷设伏以对抗蛮兵。\n"
     ]
    },
    {
     "name": "stderr",
     "output_type": "stream",
     "text": [
      "Processing 三国演义:  75%|███████▍  | 567/758 [41:22<13:55,  4.37s/it]"
     ]
    },
    {
     "name": "stdout",
     "output_type": "stream",
     "text": [
      "诸葛亮命令魏延连输十五阵，弃七个寨栅，以诱敌深入，孟获和兀突骨未识破计谋，连赢十五阵，夺七个营寨，自以为胜券在握。\n"
     ]
    },
    {
     "name": "stderr",
     "output_type": "stream",
     "text": [
      "Processing 三国演义:  75%|███████▍  | 568/758 [41:26<13:17,  4.20s/it]"
     ]
    },
    {
     "name": "stdout",
     "output_type": "stream",
     "text": [
      "诸葛亮设计在盘蛇谷用火攻和铁炮击败兀突骨的藤甲军，随后孟获被诱入陷阱，最终被马岱生擒。\n"
     ]
    },
    {
     "name": "stderr",
     "output_type": "stream",
     "text": [
      "Processing 三国演义:  75%|███████▌  | 569/758 [41:29<12:30,  3.97s/it]"
     ]
    },
    {
     "name": "stdout",
     "output_type": "stream",
     "text": [
      "孔明设计火攻藤甲军，七擒七纵孟获使其彻底归服，最终决定不设官吏，与蛮族和平共处。\n"
     ]
    },
    {
     "name": "stderr",
     "output_type": "stream",
     "text": [
      "Processing 三国演义:  75%|███████▌  | 570/758 [41:33<12:03,  3.85s/it]"
     ]
    },
    {
     "name": "stdout",
     "output_type": "stream",
     "text": [
      "孔明平定南方后，班师回蜀途中遭遇泸水鬼神作祟，孔明拒绝以人头祭祀，改用馒头祭奠，成功安抚鬼魂。\n"
     ]
    },
    {
     "name": "stderr",
     "output_type": "stream",
     "text": [
      "Processing 三国演义:  75%|███████▌  | 571/758 [41:37<12:03,  3.87s/it]"
     ]
    },
    {
     "name": "stdout",
     "output_type": "stream",
     "text": [
      "孔明在南方胜利后，祭祀阵亡将士，安抚孟获，并带领大军返回成都，受到后主隆重迎接，随后处理战后事宜，同时魏主曹丕的家庭生活也被提及。\n"
     ]
    },
    {
     "name": "stderr",
     "output_type": "stream",
     "text": [
      "Processing 三国演义:  75%|███████▌  | 572/758 [41:44<14:37,  4.72s/it]"
     ]
    },
    {
     "name": "stdout",
     "output_type": "stream",
     "text": [
      "曹丕因魇镇之事赐死甄夫人，立郭贵妃为后，后因病重立曹睿为平原王。曹睿表现仁德，曹丕临终前指定曹真、陈群、司马懿辅佐曹睿，曹丕死后曹睿继位，司马懿被封为骠骑大将军，后请求守西凉，孔明担心司马懿成为蜀国大患，计划用计使其自败。\n"
     ]
    },
    {
     "name": "stderr",
     "output_type": "stream",
     "text": [
      "Processing 三国演义:  76%|███████▌  | 573/758 [41:48<13:53,  4.50s/it]"
     ]
    },
    {
     "name": "stdout",
     "output_type": "stream",
     "text": [
      "孔明用计使曹睿怀疑司马懿谋反，司马懿被召见时极力辩解，请求领兵证明忠诚，但曹睿仍未决定是否信任他。\n"
     ]
    },
    {
     "name": "stderr",
     "output_type": "stream",
     "text": [
      "Processing 三国演义:  76%|███████▌  | 574/758 [41:53<14:45,  4.81s/it]"
     ]
    },
    {
     "name": "stdout",
     "output_type": "stream",
     "text": [
      "司马懿被贬回乡，孔明趁机上《出师表》请求北伐，以恢复汉室。\n"
     ]
    },
    {
     "name": "stderr",
     "output_type": "stream",
     "text": [
      "Processing 三国演义:  76%|███████▌  | 575/758 [42:00<16:15,  5.33s/it]"
     ]
    },
    {
     "name": "stdout",
     "output_type": "stream",
     "text": [
      "诸葛亮请求北伐，承担讨贼兴复的责任，若失败则接受惩罚，同时建议后主自谋善道。后主担心诸葛亮劳累，但诸葛亮坚持北伐，认为时机已到。太史谯周反对，认为天象不利，但诸葛亮决定驻军汉中观察后再行动。\n"
     ]
    },
    {
     "name": "stderr",
     "output_type": "stream",
     "text": [
      "Processing 三国演义:  76%|███████▌  | 576/758 [42:03<14:15,  4.70s/it]"
     ]
    },
    {
     "name": "stdout",
     "output_type": "stream",
     "text": [
      "孔明召集诸将，安排伐魏事宜，赵云请求担任先锋，孔明最终同意，并派邓芝协助。\n"
     ]
    },
    {
     "name": "stderr",
     "output_type": "stream",
     "text": [
      "Processing 三国演义:  76%|███████▌  | 577/758 [42:08<14:38,  4.85s/it]"
     ]
    },
    {
     "name": "stdout",
     "output_type": "stream",
     "text": [
      "孔明率大军出征汉中，赵云、邓芝为先锋。魏国得知后，夏侯楙自请为将，率军迎战孔明。孔明在沔阳祭拜马超后，魏延提出奇袭计划，但孔明认为此计风险太大，不予采纳。\n"
     ]
    },
    {
     "name": "stderr",
     "output_type": "stream",
     "text": [
      "Processing 三国演义:  76%|███████▋  | 578/758 [42:12<13:16,  4.43s/it]"
     ]
    },
    {
     "name": "stdout",
     "output_type": "stream",
     "text": [
      "赵云在凤鸣山独战韩德及其四子，力斩四将，大败西凉兵，展现了七十岁仍英勇无比的战斗力。\n"
     ]
    },
    {
     "name": "stderr",
     "output_type": "stream",
     "text": [
      "Processing 三国演义:  76%|███████▋  | 579/758 [42:16<13:05,  4.39s/it]"
     ]
    },
    {
     "name": "stdout",
     "output_type": "stream",
     "text": [
      "夏侯楙引兵挑战赵云，赵云击败韩德后追击夏侯楙，被诱入伏击圈，赵云被困，从早战至晚，最终在夜晚被魏军重重包围，形势危急。\n"
     ]
    },
    {
     "name": "stderr",
     "output_type": "stream",
     "text": [
      "Processing 三国演义:  77%|███████▋  | 580/758 [42:20<13:06,  4.42s/it]"
     ]
    },
    {
     "name": "stdout",
     "output_type": "stream",
     "text": [
      "赵云被困，张苞和关兴分别率兵救援，三人合力击败魏军。夏侯楙逃至南安郡，赵云、关兴、张苞围城攻打不下。诸葛亮亲临前线，制定新策略应对。\n"
     ]
    },
    {
     "name": "stderr",
     "output_type": "stream",
     "text": [
      "Processing 三国演义:  77%|███████▋  | 581/758 [42:27<15:18,  5.19s/it]"
     ]
    },
    {
     "name": "stdout",
     "output_type": "stream",
     "text": [
      "孔明设计诱敌，先令魏延、关兴、张苞等将领执行特定计策，同时假装在南安城外堆柴草准备烧城，以迷惑魏军。安定太守崔谅被骗出城救援南安，途中被蜀军伏击，安定城也被魏延趁机攻占。崔谅逃至天水途中再次遭遇孔明，最终投降。孔明利用崔谅的关系，计划进一步攻取南安。\n"
     ]
    },
    {
     "name": "stderr",
     "output_type": "stream",
     "text": [
      "Processing 三国演义:  77%|███████▋  | 582/758 [42:31<14:08,  4.82s/it]"
     ]
    },
    {
     "name": "stdout",
     "output_type": "stream",
     "text": [
      "孔明利用崔谅的计策，派遣关兴和张苞潜入城中，成功斩杀杨陵和崔谅，随后蜀军内外夹攻，生擒夏侯楙，占领南安城。\n"
     ]
    },
    {
     "name": "stderr",
     "output_type": "stream",
     "text": [
      "Processing 三国演义:  77%|███████▋  | 583/758 [42:36<13:48,  4.74s/it]"
     ]
    },
    {
     "name": "stdout",
     "output_type": "stream",
     "text": [
      "孔明利用诈降计诱使崔谅入城，并通过心腹人假冒魏将裴绪，成功使天水郡太守马遵出兵救援，而姜维识破孔明计谋，提出反计欲擒孔明。\n"
     ]
    },
    {
     "name": "stderr",
     "output_type": "stream",
     "text": [
      "Processing 三国演义:  77%|███████▋  | 584/758 [42:40<13:25,  4.63s/it]"
     ]
    },
    {
     "name": "stdout",
     "output_type": "stream",
     "text": [
      "孔明设计攻天水郡，赵云中姜维计谋败退，孔明得知姜维智勇，亲自率军攻城，却再次中姜维埋伏，幸得关兴、张苞保护突围。\n"
     ]
    },
    {
     "name": "stderr",
     "output_type": "stream",
     "text": [
      "Processing 三国演义:  77%|███████▋  | 585/758 [42:44<13:02,  4.52s/it]"
     ]
    },
    {
     "name": "stdout",
     "output_type": "stream",
     "text": [
      "孔明设计诱使姜维回救冀城，同时派兵攻打上邽，姜维中计回城守护母，孔明利用夏侯楙散布姜维已降的消息，使天水城人心动摇。\n"
     ]
    },
    {
     "name": "stderr",
     "output_type": "stream",
     "text": [
      "Processing 三国演义:  77%|███████▋  | 586/758 [42:50<13:56,  4.86s/it]"
     ]
    },
    {
     "name": "stdout",
     "output_type": "stream",
     "text": [
      "姜维原为魏将，后被诸葛亮用计使其投降，成为蜀汉上将。在诸葛亮的计策下，姜维多次攻打魏城，但最终因被误会而无法回归魏国，最终在诸葛亮的劝说下彻底投降蜀汉，并帮助诸葛亮制定攻取天水和上邽的计划。\n"
     ]
    },
    {
     "name": "stderr",
     "output_type": "stream",
     "text": [
      "Processing 三国演义:  77%|███████▋  | 587/758 [42:55<13:57,  4.90s/it]"
     ]
    },
    {
     "name": "stdout",
     "output_type": "stream",
     "text": [
      "姜维通过密信和箭书诱使梁绪、尹赏投降蜀汉，夏侯楙和马遵逃走，孔明因此占领三城，威震四方，随后孔明率军至祁山，魏国曹睿派遣曹真为大都督迎战。\n"
     ]
    },
    {
     "name": "stderr",
     "output_type": "stream",
     "text": [
      "Processing 三国演义:  78%|███████▊  | 588/758 [43:00<13:51,  4.89s/it]"
     ]
    },
    {
     "name": "stdout",
     "output_type": "stream",
     "text": [
      "王朗与曹真、郭淮商议退蜀兵之策，王朗自信能说服诸葛亮投降，次日两军对阵，王朗试图以言辞说服诸葛亮，但诸葛亮坚持奉诏讨贼。\n"
     ]
    },
    {
     "name": "stderr",
     "output_type": "stream",
     "text": [
      "Processing 三国演义:  78%|███████▊  | 589/758 [43:05<13:35,  4.82s/it]"
     ]
    },
    {
     "name": "stdout",
     "output_type": "stream",
     "text": [
      "孔明在战场上严厉斥责王朗，王朗气绝身亡。孔明随后挑战曹真，计划夜间劫寨，而曹真和郭淮则设下伏兵以应对。\n"
     ]
    },
    {
     "name": "stderr",
     "output_type": "stream",
     "text": [
      "Processing 三国演义:  78%|███████▊  | 590/758 [43:08<12:31,  4.47s/it]"
     ]
    },
    {
     "name": "stdout",
     "output_type": "stream",
     "text": [
      "孔明设下多重伏兵，诱使魏军深入后自相掩杀，最终大败魏军，魏将商议求救于西羌以退蜀兵。\n"
     ]
    },
    {
     "name": "stderr",
     "output_type": "stream",
     "text": [
      "Processing 三国演义:  78%|███████▊  | 591/758 [43:13<12:25,  4.47s/it]"
     ]
    },
    {
     "name": "stdout",
     "output_type": "stream",
     "text": [
      "魏国向西羌国求救，西羌国王派遣雅丹和越吉元帅率铁车兵攻打蜀国，关兴、张苞和马岱迎战，关兴被围困，最终落水。\n"
     ]
    },
    {
     "name": "stderr",
     "output_type": "stream",
     "text": [
      "Processing 三国演义:  78%|███████▊  | 592/758 [43:18<13:03,  4.72s/it]"
     ]
    },
    {
     "name": "stdout",
     "output_type": "stream",
     "text": [
      "关兴在战斗中被神秘大将救下，后发现是已故的父亲关公显灵指引他，最终与张苞一同向孔明报告情况。孔明设下计策，利用大雪天气和虚设的疑兵迷惑羌兵，成功破解了铁车军的攻势。\n"
     ]
    },
    {
     "name": "stderr",
     "output_type": "stream",
     "text": [
      "Processing 三国演义:  78%|███████▊  | 593/758 [43:23<13:01,  4.74s/it]"
     ]
    },
    {
     "name": "stdout",
     "output_type": "stream",
     "text": [
      "雅丹和越吉率领羌兵追赶姜维，不料中伏，羌兵大败，越吉被杀，雅丹被俘后被释放。同时，曹真和郭淮追击蜀兵，但被魏延和赵云击败，曹真请求援兵。\n"
     ]
    },
    {
     "name": "stderr",
     "output_type": "stream",
     "text": [
      "Processing 三国演义:  78%|███████▊  | 594/758 [43:28<13:02,  4.77s/it]"
     ]
    },
    {
     "name": "stdout",
     "output_type": "stream",
     "text": [
      "曹睿考虑御驾亲征以退蜀兵，钟繇推荐司马懿可退敌，曹睿恢复司马懿官职并召其至长安。同时，孔明得知孟达欲起兵响应蜀军，但担心司马懿的威胁。\n"
     ]
    },
    {
     "name": "stderr",
     "output_type": "stream",
     "text": [
      "Processing 三国演义:  78%|███████▊  | 595/758 [43:32<12:21,  4.55s/it]"
     ]
    },
    {
     "name": "stdout",
     "output_type": "stream",
     "text": [
      "孔明警告孟达提防司马懿，孟达自信不惧，孔明预言孟达将死于司马懿之手。司马懿得知孟达谋反，迅速调兵准备攻击。\n"
     ]
    },
    {
     "name": "stderr",
     "output_type": "stream",
     "text": [
      "Processing 三国演义:  79%|███████▊  | 596/758 [43:37<12:29,  4.63s/it]"
     ]
    },
    {
     "name": "stdout",
     "output_type": "stream",
     "text": [
      "司马懿得知孟达反叛，急速出兵欲擒之，途中与徐晃合兵，并截获孟达与诸葛亮的通信，得知孟达计划。孟达在新城准备反叛，但被司马懿迅速出兵围困，最终闭门坚守。\n"
     ]
    },
    {
     "name": "stderr",
     "output_type": "stream",
     "text": [
      "Processing 三国演义:  79%|███████▉  | 597/758 [43:40<11:34,  4.31s/it]"
     ]
    },
    {
     "name": "stdout",
     "output_type": "stream",
     "text": [
      "徐晃被孟达射中身亡，司马懿平定孟达叛乱，魏主曹睿赞赏司马懿，命其与张郃一同出征破蜀。\n"
     ]
    },
    {
     "name": "stderr",
     "output_type": "stream",
     "text": [
      "Processing 三国演义:  79%|███████▉  | 598/758 [43:44<11:02,  4.14s/it]"
     ]
    },
    {
     "name": "stdout",
     "output_type": "stream",
     "text": [
      "司马懿计划通过街亭和列柳城切断诸葛亮军队的粮道，以此迫使诸葛亮撤退，而诸葛亮派遣马谡守街亭以保护重要通道。\n"
     ]
    },
    {
     "name": "stderr",
     "output_type": "stream",
     "text": [
      "Processing 三国演义:  79%|███████▉  | 599/758 [43:49<11:37,  4.38s/it]"
     ]
    },
    {
     "name": "stdout",
     "output_type": "stream",
     "text": [
      "孔明派遣马谡、王平守街亭，并调派高翔、魏延支援，同时命令赵云、邓芝出兵箕谷以迷惑敌军，自己则率军攻取郿城，以图攻破长安。\n"
     ]
    },
    {
     "name": "stderr",
     "output_type": "stream",
     "text": [
      "Processing 三国演义:  79%|███████▉  | 600/758 [43:53<11:04,  4.20s/it]"
     ]
    },
    {
     "name": "stdout",
     "output_type": "stream",
     "text": [
      "马谡不听王平建议，坚持在山上扎寨，司马懿趁机围山断水，蜀军大败，王平力战后撤退。\n"
     ]
    },
    {
     "name": "stderr",
     "output_type": "stream",
     "text": [
      "Processing 三国演义:  79%|███████▉  | 601/758 [43:59<12:23,  4.73s/it]"
     ]
    },
    {
     "name": "stdout",
     "output_type": "stream",
     "text": [
      "马谡在街亭被魏兵围困，水源断绝，蜀军大乱，部分投降魏军。马谡试图突围失败，魏延和王平前来救援，但最终街亭失守，蜀军退至列柳城，遭遇郭淮攻击，司马懿最终控制了街亭。\n"
     ]
    },
    {
     "name": "stderr",
     "output_type": "stream",
     "text": [
      "Processing 三国演义:  79%|███████▉  | 602/758 [44:03<12:10,  4.68s/it]"
     ]
    },
    {
     "name": "stdout",
     "output_type": "stream",
     "text": [
      "司马懿智取街亭后，命令郭淮追击诸葛亮，同时安排张郃截击蜀军辎重。诸葛亮得知街亭失守后，紧急部署撤军，安排疑兵和断后部队，确保大军安全撤回汉中。\n"
     ]
    },
    {
     "name": "stderr",
     "output_type": "stream",
     "text": [
      "Processing 三国演义:  80%|███████▉  | 603/758 [44:06<11:01,  4.26s/it]"
     ]
    },
    {
     "name": "stdout",
     "output_type": "stream",
     "text": [
      "孔明在兵力不足的情况下，利用空城计成功迷惑司马懿，使其误以为有伏兵而撤退，最终安全撤离西城。\n"
     ]
    },
    {
     "name": "stderr",
     "output_type": "stream",
     "text": [
      "Processing 三国演义:  80%|███████▉  | 604/758 [44:13<12:47,  4.98s/it]"
     ]
    },
    {
     "name": "stdout",
     "output_type": "stream",
     "text": [
      "司马懿在武功山小路遭遇蜀军伏击，张苞、关兴成功拦截魏军，司马懿撤回街亭。同时，曹真追击蜀军被姜维、马岱反击，蜀军安全撤回汉中。赵云、邓芝在箕谷设伏，成功击退郭淮追兵，赵云单挑中击败苏颙，威慑魏军，确保蜀军撤退安全。\n"
     ]
    },
    {
     "name": "stderr",
     "output_type": "stream",
     "text": [
      "Processing 三国演义:  80%|███████▉  | 605/758 [44:18<12:24,  4.87s/it]"
     ]
    },
    {
     "name": "stdout",
     "output_type": "stream",
     "text": [
      "司马懿未能捉拿孔明，后悔不已，回长安后请求继续攻蜀。孙资建议魏主曹睿养精蓄锐，等待吴蜀自相残杀。孔明回到汉中，赞赏赵云英勇断后，未损一兵一骑。\n"
     ]
    },
    {
     "name": "stderr",
     "output_type": "stream",
     "text": [
      "Processing 三国演义:  80%|███████▉  | 606/758 [44:21<11:23,  4.50s/it]"
     ]
    },
    {
     "name": "stdout",
     "output_type": "stream",
     "text": [
      "赵云拒绝受赏，诸葛亮赞赏其德行；马谡因街亭失守被责，最终被诸葛亮依法处斩，尽管蒋琬求情，诸葛亮坚持原则。\n"
     ]
    },
    {
     "name": "stderr",
     "output_type": "stream",
     "text": [
      "Processing 三国演义:  80%|████████  | 607/758 [44:26<11:22,  4.52s/it]"
     ]
    },
    {
     "name": "stdout",
     "output_type": "stream",
     "text": [
      "孔明因马谡失街亭而斩之，深感自责并追思先帝之言，请求自贬丞相之职，后被贬为右将军，继续统领军马，反思兵败原因，决心明罚思过，以求未来成功。\n"
     ]
    },
    {
     "name": "stderr",
     "output_type": "stream",
     "text": [
      "Processing 三国演义:  80%|████████  | 608/758 [44:30<11:16,  4.51s/it]"
     ]
    },
    {
     "name": "stdout",
     "output_type": "stream",
     "text": [
      "孔明在汉中备战，魏主曹睿与司马懿商议对策，决定派郝昭守陈仓道口以防蜀军。同时，东吴周鲂诈降引魏军深入，孙权任命陆逊统军应对魏军三路进攻。\n"
     ]
    },
    {
     "name": "stderr",
     "output_type": "stream",
     "text": [
      "Processing 三国演义:  80%|████████  | 609/758 [44:36<12:06,  4.87s/it]"
     ]
    },
    {
     "name": "stdout",
     "output_type": "stream",
     "text": [
      "陆逊任命朱桓和全琮为左右都督，自率大军三路进兵，朱桓建议伏击曹休，但陆逊未采纳。曹休被周鲂诱深入，陆逊计划趁机攻击。同时，曹休误信周鲂忠诚，拒绝贾逵的谨慎建议，决定进攻东吴。\n"
     ]
    },
    {
     "name": "stderr",
     "output_type": "stream",
     "text": [
      "Processing 三国演义:  80%|████████  | 610/758 [44:40<11:10,  4.53s/it]"
     ]
    },
    {
     "name": "stdout",
     "output_type": "stream",
     "text": [
      "陆逊指挥吴军在石亭设伏，成功诱使曹休进入埋伏圈，通过精心布置的战术击败魏军，曹休在贾逵的帮助下勉强逃脱。\n"
     ]
    },
    {
     "name": "stderr",
     "output_type": "stream",
     "text": [
      "Processing 三国演义:  81%|████████  | 611/758 [44:44<11:00,  4.50s/it]"
     ]
    },
    {
     "name": "stdout",
     "output_type": "stream",
     "text": [
      "陆逊在东吴大败曹休，司马懿因担心诸葛亮乘虚而入而撤军。东吴遣使请蜀汉共同伐魏，孔明准备出兵时，得知赵云去世，深感悲痛。\n"
     ]
    },
    {
     "name": "stderr",
     "output_type": "stream",
     "text": [
      "Processing 三国演义:  81%|████████  | 612/758 [44:50<12:04,  4.96s/it]"
     ]
    },
    {
     "name": "stdout",
     "output_type": "stream",
     "text": [
      "后主思念赵云功绩，厚葬并封其子为官。诸葛丞相准备出师伐魏，后主犹豫不决，丞相上表陈述伐魏的必要性和紧迫性。\n"
     ]
    },
    {
     "name": "stderr",
     "output_type": "stream",
     "text": [
      "Processing 三国演义:  81%|████████  | 613/758 [44:55<11:31,  4.77s/it]"
     ]
    },
    {
     "name": "stdout",
     "output_type": "stream",
     "text": [
      "诸葛亮受命出师北征，魏国曹真推荐王双为先锋，蜀军攻陈仓不下，孔明派靳祥劝降郝昭，未果。\n"
     ]
    },
    {
     "name": "stderr",
     "output_type": "stream",
     "text": [
      "Processing 三国演义:  81%|████████  | 614/758 [45:01<12:23,  5.17s/it]"
     ]
    },
    {
     "name": "stdout",
     "output_type": "stream",
     "text": [
      "诸葛亮派靳祥劝降郝昭，但郝昭坚决拒绝，并表示宁死不降。诸葛亮随后发动攻城，使用云梯和冲车，但被郝昭用火箭和矢石击退。经过二十余日的攻防，诸葛亮未能攻破城池，此时魏国援军王双到达。\n"
     ]
    },
    {
     "name": "stderr",
     "output_type": "stream",
     "text": [
      "Processing 三国演义:  81%|████████  | 615/758 [45:07<12:55,  5.42s/it]"
     ]
    },
    {
     "name": "stdout",
     "output_type": "stream",
     "text": [
      "孔明派谢雄和龚起迎战王双，二将均被斩杀。后张嶷与王双交战，被流星锤击伤。孔明计划绕过陈仓，袭击祁山，同时加强街亭和陈仓的防守。曹真得知陈仓战况，加强防御，并处理被捉的姜维心腹，接收密信。\n"
     ]
    },
    {
     "name": "stderr",
     "output_type": "stream",
     "text": [
      "Processing 三国演义:  81%|████████▏ | 616/758 [45:10<11:38,  4.92s/it]"
     ]
    },
    {
     "name": "stdout",
     "output_type": "stream",
     "text": [
      "姜维向曹真献计，假装投降蜀国，计划烧蜀军粮草并伏击诸葛亮，但费耀怀疑有诈，最终被蜀军设伏击败。\n"
     ]
    },
    {
     "name": "stderr",
     "output_type": "stream",
     "text": [
      "Processing 三国演义:  81%|████████▏ | 617/758 [45:15<11:06,  4.73s/it]"
     ]
    },
    {
     "name": "stdout",
     "output_type": "stream",
     "text": [
      "关兴引兵追击魏军，费耀被姜维拦截并最终自刎，余众投降。诸葛亮赞扬姜维，同时曹真与郭淮商议退兵，司马懿提出坚守不战的策略以应对蜀军。\n"
     ]
    },
    {
     "name": "stderr",
     "output_type": "stream",
     "text": [
      "Processing 三国演义:  82%|████████▏ | 618/758 [45:18<10:18,  4.42s/it]"
     ]
    },
    {
     "name": "stdout",
     "output_type": "stream",
     "text": [
      "司马懿预见诸葛亮用兵之法，郭淮、孙礼设计引蜀军劫粮，孔明识破并反设计，安排火攻与伏兵应对魏军。\n"
     ]
    },
    {
     "name": "stderr",
     "output_type": "stream",
     "text": [
      "Processing 三国演义:  82%|████████▏ | 619/758 [45:24<11:09,  4.82s/it]"
     ]
    },
    {
     "name": "stdout",
     "output_type": "stream",
     "text": [
      "孙礼设伏诱蜀兵，马岱、马忠、张嶷反包围魏军，魏军大败。张虎、乐綝误信火光进攻空寨，被吴班、吴懿断后，关兴、张苞袭营。曹真坚守不出，诸葛亮趁机撤军，密授魏延计策应对王双。\n"
     ]
    },
    {
     "name": "stderr",
     "output_type": "stream",
     "text": [
      "Processing 三国演义:  82%|████████▏ | 620/758 [45:29<10:54,  4.74s/it]"
     ]
    },
    {
     "name": "stdout",
     "output_type": "stream",
     "text": [
      "孔明利用密计，让魏延引诱王双追赶，伏兵趁机放火并突袭斩杀王双，成功退敌。曹真因王双之死忧病，孙权则被群臣劝登基为帝，改元黄龙。\n"
     ]
    },
    {
     "name": "stderr",
     "output_type": "stream",
     "text": [
      "Processing 三国演义:  82%|████████▏ | 621/758 [45:36<12:18,  5.39s/it]"
     ]
    },
    {
     "name": "stdout",
     "output_type": "stream",
     "text": [
      "孙权宴请群臣，张昭拒绝饮酒，恪以姜尚父为例劝饮，权因此喜爱恪并命其辅佐太子。权听取张昭建议，与蜀结盟并计划伐魏。孔明建议后主派遣陆逊伐魏，以图长安。陆逊计划虚张声势，待孔明攻魏时乘虚取中原。孔明得知陈仓守将郝昭病重，命魏延、姜维等趁机攻城。\n"
     ]
    },
    {
     "name": "stderr",
     "output_type": "stream",
     "text": [
      "Processing 三国演义:  82%|████████▏ | 622/758 [45:42<12:46,  5.64s/it]"
     ]
    },
    {
     "name": "stdout",
     "output_type": "stream",
     "text": [
      "张郃替郝昭守城，郝昭病危时蜀军突袭，郝昭惊死，蜀军入城。孔明设伏，魏延、姜维误以为迟到，孔明解释计策并取城。孔明命魏延、姜维袭散关，成功击退张郃。孔明再出祁山，分兵取阴平、武都二郡。\n"
     ]
    },
    {
     "name": "stderr",
     "output_type": "stream",
     "text": [
      "Processing 三国演义:  82%|████████▏ | 623/758 [45:46<11:58,  5.32s/it]"
     ]
    },
    {
     "name": "stdout",
     "output_type": "stream",
     "text": [
      "张郃报告陈仓失守、郝昭死亡及蜀兵夺取散关，郭淮、孙礼担忧蜀军攻取雍、郿，司马懿被封为大都督应对蜀军，最终司马懿领兵至长安与孔明决战。\n"
     ]
    },
    {
     "name": "stderr",
     "output_type": "stream",
     "text": [
      "Processing 三国演义:  82%|████████▏ | 624/758 [45:51<11:04,  4.96s/it]"
     ]
    },
    {
     "name": "stdout",
     "output_type": "stream",
     "text": [
      "司马懿派郭淮和孙礼救援武都、阴平，诸葛亮已预知并设伏，导致魏军大败，郭淮和孙礼逃回后，司马懿命令他们守城不出。\n"
     ]
    },
    {
     "name": "stderr",
     "output_type": "stream",
     "text": [
      "Processing 三国演义:  82%|████████▏ | 625/758 [45:59<13:28,  6.08s/it]"
     ]
    },
    {
     "name": "stdout",
     "output_type": "stream",
     "text": [
      "张郃与戴陵受命夜袭蜀军，却中诸葛亮伏兵计，被围困后奋力突围救出戴陵，诸葛亮见其勇猛，决定除之。司马懿得知后震惊，决定坚守不出。\n"
     ]
    },
    {
     "name": "stderr",
     "output_type": "stream",
     "text": [
      "Processing 三国演义:  83%|████████▎ | 626/758 [46:03<12:00,  5.46s/it]"
     ]
    },
    {
     "name": "stdout",
     "output_type": "stream",
     "text": [
      "孔明拒绝复职丞相，后在费祎劝说下接受；孔明用计诱敌，司马懿谨慎不追，张郃请战，孔明设伏兵，王平愿当先锋。\n"
     ]
    },
    {
     "name": "stderr",
     "output_type": "stream",
     "text": [
      "Processing 三国演义:  83%|████████▎ | 627/758 [46:10<12:34,  5.76s/it]"
     ]
    },
    {
     "name": "stdout",
     "output_type": "stream",
     "text": [
      "孔明部署多路伏兵对抗魏军，王平、张翼、姜维、廖化等将领各自领命设伏，最终在孔明的计策下，蜀军成功伏击并围困魏军，展开激烈战斗。\n"
     ]
    },
    {
     "name": "stderr",
     "output_type": "stream",
     "text": [
      "Processing 三国演义:  83%|████████▎ | 628/758 [46:15<12:07,  5.60s/it]"
     ]
    },
    {
     "name": "stdout",
     "output_type": "stream",
     "text": [
      "姜维和廖化在山上发现蜀兵力危，打开锦囊得计，分兵袭击司马懿营地，导致魏军大败。孔明得知张苞去世后病倒，决定回汉中养病，司马懿得知后感叹孔明计谋高超。\n"
     ]
    },
    {
     "name": "stderr",
     "output_type": "stream",
     "text": [
      "Processing 三国演义:  83%|████████▎ | 629/758 [46:21<12:03,  5.61s/it]"
     ]
    },
    {
     "name": "stdout",
     "output_type": "stream",
     "text": [
      "魏主询问刘晔关于伐蜀的建议，刘晔在朝中支持伐蜀，私下却向大臣们表示蜀地难攻，不应轻举妄动。魏主最终决定伐蜀，任命曹真、司马懿和刘晔领军出征，而诸葛亮则准备以少兵守隘，利用天时地利对抗魏军。\n"
     ]
    },
    {
     "name": "stderr",
     "output_type": "stream",
     "text": [
      "Processing 三国演义:  83%|████████▎ | 630/758 [46:25<11:06,  5.21s/it]"
     ]
    },
    {
     "name": "stdout",
     "output_type": "stream",
     "text": [
      "孔明预知秋雨将至，准备充足物资，而曹真、司马懿因大雨导致军士疲惫、物资短缺，最终魏主下诏召回大军，孔明则选择不追击，任其撤退。\n"
     ]
    },
    {
     "name": "stderr",
     "output_type": "stream",
     "text": [
      "Processing 三国演义:  83%|████████▎ | 631/758 [46:29<10:15,  4.84s/it]"
     ]
    },
    {
     "name": "stdout",
     "output_type": "stream",
     "text": [
      "孔明不追魏兵，认为司马懿必有埋伏，决定分兵取祁山，利用地利优势。曹真和司马懿分别守谷口，司马懿预料孔明会从两谷来攻。\n"
     ]
    },
    {
     "name": "stderr",
     "output_type": "stream",
     "text": [
      "Processing 三国演义:  83%|████████▎ | 632/758 [46:33<09:49,  4.68s/it]"
     ]
    },
    {
     "name": "stdout",
     "output_type": "stream",
     "text": [
      "诸葛亮命令魏延等四将取箕谷，但陈式违令独自行进，结果被魏兵埋伏，损失惨重。诸葛亮预见此情况，安排其他将领夜行昼伏，计划劫曹真营寨。\n"
     ]
    },
    {
     "name": "stderr",
     "output_type": "stream",
     "text": [
      "Processing 三国演义:  84%|████████▎ | 633/758 [46:38<09:45,  4.68s/it]"
     ]
    },
    {
     "name": "stdout",
     "output_type": "stream",
     "text": [
      "孔明分派关兴、廖化等将领执行密计，引蜀兵扮作魏兵偷袭曹真，曹真因不信蜀兵来犯而疏于防备，最终被蜀兵大败，司马懿及时救援，曹真羞愧病倒。\n"
     ]
    },
    {
     "name": "stderr",
     "output_type": "stream",
     "text": [
      "Processing 三国演义:  84%|████████▎ | 634/758 [46:42<09:12,  4.45s/it]"
     ]
    },
    {
     "name": "stdout",
     "output_type": "stream",
     "text": [
      "孔明复出祁山，因陈式违令而斩之，后得知曹真病重，送信刺激使其气死。魏主催司马懿出战，孔明准备迎战。\n"
     ]
    },
    {
     "name": "stderr",
     "output_type": "stream",
     "text": [
      "Processing 三国演义:  84%|████████▍ | 635/758 [46:46<09:10,  4.48s/it]"
     ]
    },
    {
     "name": "stdout",
     "output_type": "stream",
     "text": [
      "孔明与司马懿在渭滨对峙，双方斗阵法，司马懿布混元一气阵，孔明布八卦阵，司马懿派三将攻阵，但最终三将被俘。\n"
     ]
    },
    {
     "name": "stderr",
     "output_type": "stream",
     "text": [
      "Processing 三国演义:  84%|████████▍ | 636/758 [46:51<09:00,  4.43s/it]"
     ]
    },
    {
     "name": "stdout",
     "output_type": "stream",
     "text": [
      "孔明在战斗中俘获敌军并释放，司马懿愤怒反击但被孔明巧妙击败。随后，孔明因粮草延误处罚苟安，苟安怀恨投降魏国，散布谣言导致孔明被召回。\n"
     ]
    },
    {
     "name": "stderr",
     "output_type": "stream",
     "text": [
      "Processing 三国演义:  84%|████████▍ | 637/758 [46:55<08:47,  4.36s/it]"
     ]
    },
    {
     "name": "stdout",
     "output_type": "stream",
     "text": [
      "孔明接到撤军命令后，采用增灶减兵的策略迷惑司马懿，成功无损退兵回成都，后主召见孔明，孔明怀疑有佞臣谗言。\n"
     ]
    },
    {
     "name": "stderr",
     "output_type": "stream",
     "text": [
      "Processing 三国演义:  84%|████████▍ | 638/758 [47:01<10:00,  5.00s/it]"
     ]
    },
    {
     "name": "stdout",
     "output_type": "stream",
     "text": [
      "孔明因宦官流言被召回，查明真相后惩罚相关人员，并再次出师伐魏。杨仪建议分兵轮换以保持军力，孔明采纳并制定长期计划。建兴九年春，孔明再次伐魏，司马懿受命御敌，张郃为先锋。孔明军至祁山，发现魏军已防备，担忧粮草供应问题。\n"
     ]
    },
    {
     "name": "stderr",
     "output_type": "stream",
     "text": [
      "Processing 三国演义:  84%|████████▍ | 639/758 [47:05<09:25,  4.75s/it]"
     ]
    },
    {
     "name": "stdout",
     "output_type": "stream",
     "text": [
      "孔明计划收割陇上麦子，司马懿预知并设伏，孔明利用预先制造的四轮车和神秘装扮迷惑魏军，成功避免被追击。\n"
     ]
    },
    {
     "name": "stderr",
     "output_type": "stream",
     "text": [
      "Processing 三国演义:  84%|████████▍ | 640/758 [47:11<09:51,  5.01s/it]"
     ]
    },
    {
     "name": "stdout",
     "output_type": "stream",
     "text": [
      "司马懿在战场上遭遇多个装扮成孔明的蜀兵，心生恐惧，误以为遭遇神兵，导致魏军大乱。后得知是姜维、马岱、魏延的计策，司马懿与郭淮计划分兵攻打卤城，而孔明已预料到并设下伏兵准备迎战。\n"
     ]
    },
    {
     "name": "stderr",
     "output_type": "stream",
     "text": [
      "Processing 三国演义:  85%|████████▍ | 641/758 [47:15<09:20,  4.79s/it]"
     ]
    },
    {
     "name": "stdout",
     "output_type": "stream",
     "text": [
      "蜀军在卤城内外设伏，大败魏军，司马懿和郭淮败退。孔明部署防御，准备应对魏军的新攻势，同时坚持信守军令，让应换班的蜀军如期归家。\n"
     ]
    },
    {
     "name": "stderr",
     "output_type": "stream",
     "text": [
      "Processing 三国演义:  85%|████████▍ | 642/758 [47:20<09:22,  4.85s/it]"
     ]
    },
    {
     "name": "stdout",
     "output_type": "stream",
     "text": [
      "孔明施恩于众军，众军愿舍命大杀魏兵以报答。孔明利用以逸待劳之法，大败雍、凉兵。后得知东吴可能攻蜀，孔明决定撤军回西川，并设下埋伏以防魏军追击。\n"
     ]
    },
    {
     "name": "stderr",
     "output_type": "stream",
     "text": [
      "Processing 三国演义:  85%|████████▍ | 643/758 [47:24<08:30,  4.44s/it]"
     ]
    },
    {
     "name": "stdout",
     "output_type": "stream",
     "text": [
      "张郃不听司马懿劝告，执意追击蜀军，结果中了魏延和关兴的埋伏，最终在木门道被乱箭射死。\n"
     ]
    },
    {
     "name": "stderr",
     "output_type": "stream",
     "text": [
      "Processing 三国演义:  85%|████████▍ | 644/758 [47:29<08:47,  4.63s/it]"
     ]
    },
    {
     "name": "stdout",
     "output_type": "stream",
     "text": [
      "孔明在火光中向魏军宣告将擒司马懿，魏军回告司马懿，司马懿自责。孔明回汉中，因李严谎报军情而怒，后主宽恕李严。孔明回成都，准备三年后伐魏，但谯周反对兴兵。\n"
     ]
    },
    {
     "name": "stderr",
     "output_type": "stream",
     "text": [
      "Processing 三国演义:  85%|████████▌ | 645/758 [47:34<09:13,  4.89s/it]"
     ]
    },
    {
     "name": "stdout",
     "output_type": "stream",
     "text": [
      "孔明决定再次出征，尽管谯周警告有灾异之兆，孔明坚持履行先帝托孤之责。在准备出征时，得知关兴病亡，孔明悲痛欲绝。魏国得知蜀军再次出征，曹睿急召司马懿应对，司马懿保举夏侯霸等四人共同迎战。\n"
     ]
    },
    {
     "name": "stderr",
     "output_type": "stream",
     "text": [
      "Processing 三国演义:  85%|████████▌ | 646/758 [47:38<08:38,  4.63s/it]"
     ]
    },
    {
     "name": "stdout",
     "output_type": "stream",
     "text": [
      "司马懿受命为大都督，遵从睿的策略，坚壁固守渭滨，不与蜀军交锋，等待蜀军粮尽自退，同时布置防御和伏击，以应对诸葛亮的进攻。\n"
     ]
    },
    {
     "name": "stderr",
     "output_type": "stream",
     "text": [
      "Processing 三国演义:  85%|████████▌ | 647/758 [47:42<07:49,  4.23s/it]"
     ]
    },
    {
     "name": "stdout",
     "output_type": "stream",
     "text": [
      "司马懿部署防御，孔明分兵三路攻魏，遭遇伏击损失惨重，后孔明请求东吴孙权共同北征。\n"
     ]
    },
    {
     "name": "stderr",
     "output_type": "stream",
     "text": [
      "Processing 三国演义:  85%|████████▌ | 648/758 [47:45<07:27,  4.06s/it]"
     ]
    },
    {
     "name": "stdout",
     "output_type": "stream",
     "text": [
      "孙权计划三路进军攻魏，费祎传达消息给孔明，孔明得知后讨论魏延的问题，并处理了一名诈降的魏将郑文。\n"
     ]
    },
    {
     "name": "stderr",
     "output_type": "stream",
     "text": [
      "Processing 三国演义:  86%|████████▌ | 649/758 [47:50<07:30,  4.14s/it]"
     ]
    },
    {
     "name": "stdout",
     "output_type": "stream",
     "text": [
      "孔明识破郑文诈降，设计诱司马懿劫寨，利用天时地利人和，成功伏击魏军，司马懿大败而归。\n"
     ]
    },
    {
     "name": "stderr",
     "output_type": "stream",
     "text": [
      "Processing 三国演义:  86%|████████▌ | 650/758 [47:53<06:48,  3.79s/it]"
     ]
    },
    {
     "name": "stdout",
     "output_type": "stream",
     "text": [
      "孔明在上方谷制造木牛流马以解决粮草运输问题，并秘密计划捉拿司马懿。\n"
     ]
    },
    {
     "name": "stderr",
     "output_type": "stream",
     "text": [
      "Processing 三国演义:  86%|████████▌ | 651/758 [47:56<06:43,  3.77s/it]"
     ]
    },
    {
     "name": "stdout",
     "output_type": "stream",
     "text": [
      "孔明设计制造木牛流马，用于蜀军粮草运输，司马懿模仿制造并成功使用，双方通过木牛流马进行粮草争夺。\n"
     ]
    },
    {
     "name": "stderr",
     "output_type": "stream",
     "text": [
      "Processing 三国演义:  86%|████████▌ | 652/758 [48:00<06:32,  3.70s/it]"
     ]
    },
    {
     "name": "stdout",
     "output_type": "stream",
     "text": [
      "孔明利用木牛流马诱使魏军模仿，然后设下计策，通过伪装和战术操作，成功夺取魏军粮草并击败魏军。\n"
     ]
    },
    {
     "name": "stderr",
     "output_type": "stream",
     "text": [
      "Processing 三国演义:  86%|████████▌ | 653/758 [48:04<06:28,  3.70s/it]"
     ]
    },
    {
     "name": "stdout",
     "output_type": "stream",
     "text": [
      "王平利用扭转牛马舌头的方法迷惑敌军，司马懿被张翼、廖化击败后逃走，廖化追赶未果，司马懿最终逃回寨中。\n"
     ]
    },
    {
     "name": "stderr",
     "output_type": "stream",
     "text": [
      "Processing 三国演义:  86%|████████▋ | 654/758 [48:08<06:51,  3.96s/it]"
     ]
    },
    {
     "name": "stdout",
     "output_type": "stream",
     "text": [
      "陆逊计划撤新城之围，断魏军归路并攻击其前，但计划被魏军截获。诸葛瑾提议撤兵，陆逊决定徐徐退兵，最终成功撤回江东，魏军未追击。\n"
     ]
    },
    {
     "name": "stderr",
     "output_type": "stream",
     "text": [
      "Processing 三国演义:  86%|████████▋ | 655/758 [48:12<06:55,  4.03s/it]"
     ]
    },
    {
     "name": "stdout",
     "output_type": "stream",
     "text": [
      "孔明设下火攻陷阱，诱司马懿出战，同时安排木牛流马引诱魏兵，司马懿坚守不出，夏侯惠、夏侯和分兵出击，成功抢获蜀兵木牛流马。\n"
     ]
    },
    {
     "name": "stderr",
     "output_type": "stream",
     "text": [
      "Processing 三国演义:  87%|████████▋ | 656/758 [48:16<06:33,  3.86s/it]"
     ]
    },
    {
     "name": "stdout",
     "output_type": "stream",
     "text": [
      "司马懿释放蜀兵以示仁慈，计划攻击祁山并烧上方谷粮草，孔明则设伏等待司马懿自投罗网。\n"
     ]
    },
    {
     "name": "stderr",
     "output_type": "stream",
     "text": [
      "Processing 三国演义:  87%|████████▋ | 657/758 [48:20<06:47,  4.03s/it]"
     ]
    },
    {
     "name": "stdout",
     "output_type": "stream",
     "text": [
      "司马懿父子在谷中被蜀军火攻，天降大雨救了他们，随后司马懿坚守不出，孔明则屯兵五丈原，送巾帼妇人之服以辱司马懿，但司马懿仍不出战。\n"
     ]
    },
    {
     "name": "stderr",
     "output_type": "stream",
     "text": [
      "Processing 三国演义:  87%|████████▋ | 658/758 [48:25<07:08,  4.29s/it]"
     ]
    },
    {
     "name": "stdout",
     "output_type": "stream",
     "text": [
      "诸葛亮送巾帼素衣侮辱司马懿，司马懿虽怒但接受，并询问诸葛亮的日常生活，得知其劳累过度。司马懿认为诸葛亮不久于人世，不急于出战。魏将不满，司马懿则表示需遵从君命，决定上奏魏主后再行动。\n"
     ]
    },
    {
     "name": "stderr",
     "output_type": "stream",
     "text": [
      "Processing 三国演义:  87%|████████▋ | 659/758 [48:29<06:59,  4.24s/it]"
     ]
    },
    {
     "name": "stdout",
     "output_type": "stream",
     "text": [
      "司马懿因诸葛亮侮辱而上表请求出战，实为安抚军心，魏主派辛毗持节阻止出战，诸葛亮得知后分析司马懿的策略，同时得知东吴战败消息，孔明因病情加重而担忧。\n"
     ]
    },
    {
     "name": "stderr",
     "output_type": "stream",
     "text": [
      "Processing 三国演义:  87%|████████▋ | 660/758 [48:34<06:54,  4.23s/it]"
     ]
    },
    {
     "name": "stdout",
     "output_type": "stream",
     "text": [
      "姜维守护孔明祈禳延寿，司马懿观天象知孔明病重，派兵试探，魏延误灭主灯，孔明命不久矣，传书姜维，预感自己将死。\n"
     ]
    },
    {
     "name": "stderr",
     "output_type": "stream",
     "text": [
      "Processing 三国演义:  87%|████████▋ | 661/758 [48:38<07:10,  4.44s/it]"
     ]
    },
    {
     "name": "stdout",
     "output_type": "stream",
     "text": [
      "孔明在病重时，向姜维传授连弩之法，并嘱咐马岱和杨仪处理后事，特别是防范魏延的反叛。他强调国家旧制不可改，并预感自己将不久于人世，留下遗表给后主，表达忠诚与遗憾。\n"
     ]
    },
    {
     "name": "stderr",
     "output_type": "stream",
     "text": [
      "Processing 三国演义:  87%|████████▋ | 662/758 [48:44<07:29,  4.69s/it]"
     ]
    },
    {
     "name": "stdout",
     "output_type": "stream",
     "text": [
      "诸葛亮临终前安排后事，指示杨仪如何处理其遗体及撤军策略，以防司马懿追击。诸葛亮去世后，李福询问继任者，诸葛亮推荐蒋琬和费祎。诸葛亮的死讯传出后，廖立和李严因失去复职希望而悲痛。\n"
     ]
    },
    {
     "name": "stderr",
     "output_type": "stream",
     "text": [
      "Processing 三国演义:  87%|████████▋ | 663/758 [48:51<08:32,  5.40s/it]"
     ]
    },
    {
     "name": "stdout",
     "output_type": "stream",
     "text": [
      "孔明去世，姜维、杨仪遵遗命秘不发丧，安排后事。司马懿见星象以为孔明已死，但疑其诈死未追。魏延梦头生角，赵直解梦为吉兆，实则暗示凶险。费祎告知魏延孔明已逝，魏延不满杨仪代理，欲自行攻司马懿。\n"
     ]
    },
    {
     "name": "stderr",
     "output_type": "stream",
     "text": [
      "Processing 三国演义:  88%|████████▊ | 664/758 [48:56<08:07,  5.19s/it]"
     ]
    },
    {
     "name": "stdout",
     "output_type": "stream",
     "text": [
      "魏延不满杨仪领导，费祎尝试调解未果，杨仪按诸葛亮遗嘱撤军，魏延愤怒欲反，司马懿误信诸葛亮已死追击，结果中计大败。\n"
     ]
    },
    {
     "name": "stderr",
     "output_type": "stream",
     "text": [
      "Processing 三国演义:  88%|████████▊ | 665/758 [49:01<08:16,  5.34s/it]"
     ]
    },
    {
     "name": "stdout",
     "output_type": "stream",
     "text": [
      "诸葛亮死后，蜀军撤退，司马懿误以为诸葛亮未死，后得知真相，感叹不已。魏延烧毁栈道阻拦蜀军归路，杨仪、姜维计划绕道撤退并上奏魏延反情。后主刘禅梦见山崩，预示诸葛亮之死，得知噩耗后惊恐。\n"
     ]
    },
    {
     "name": "stderr",
     "output_type": "stream",
     "text": [
      "Processing 三国演义:  88%|████████▊ | 666/758 [49:06<07:48,  5.09s/it]"
     ]
    },
    {
     "name": "stdout",
     "output_type": "stream",
     "text": [
      "后主因魏延表奏杨仪造反而大惊，吴太后和群臣商议后认为不可轻信，随后杨仪也紧急表奏魏延造反，双方互相指责，后主和群臣难以判断真伪。\n"
     ]
    },
    {
     "name": "stderr",
     "output_type": "stream",
     "text": [
      "Processing 三国演义:  88%|████████▊ | 667/758 [49:10<07:27,  4.91s/it]"
     ]
    },
    {
     "name": "stdout",
     "output_type": "stream",
     "text": [
      "魏延反叛，烧断栈道并屯兵南谷，杨仪、姜维绕道攻击其后，何平劝降魏延部下，魏延与马岱计划攻取汉中，姜维依诸葛亮遗计准备迎战。\n"
     ]
    },
    {
     "name": "stderr",
     "output_type": "stream",
     "text": [
      "Processing 三国演义:  88%|████████▊ | 668/758 [49:14<07:03,  4.70s/it]"
     ]
    },
    {
     "name": "stdout",
     "output_type": "stream",
     "text": [
      "姜维与杨仪依诸葛亮遗计，诱使魏延挑战并高喊“谁敢杀我”，马岱趁机斩杀魏延，后主降旨葬魏延并赏赐杨仪和马岱。\n"
     ]
    },
    {
     "name": "stderr",
     "output_type": "stream",
     "text": [
      "Processing 三国演义:  88%|████████▊ | 669/758 [49:20<07:33,  5.09s/it]"
     ]
    },
    {
     "name": "stdout",
     "output_type": "stream",
     "text": [
      "杜甫诗赞诸葛亮，后主得知东吴增兵巴丘，蒋琬建议加强防备并派宗预赴东吴探听虚实。宗预至东吴，孙权表达对诸葛亮的哀悼并解释增兵原因，双方重申盟约。后主根据孔明遗言，任命蒋琬等人为重要官职，加强边防。\n"
     ]
    },
    {
     "name": "stderr",
     "output_type": "stream",
     "text": [
      "Processing 三国演义:  88%|████████▊ | 670/758 [49:25<07:06,  4.85s/it]"
     ]
    },
    {
     "name": "stdout",
     "output_type": "stream",
     "text": [
      "杨仪因不满未得重赏而口出怨言，被贬为民后自刎；魏主曹睿大兴土木，不顾民怨，董寻切谏被废，张茂被斩。\n"
     ]
    },
    {
     "name": "stderr",
     "output_type": "stream",
     "text": [
      "Processing 三国演义:  89%|████████▊ | 671/758 [49:30<07:22,  5.09s/it]"
     ]
    },
    {
     "name": "stdout",
     "output_type": "stream",
     "text": [
      "马钧奉命拆长安铜人移至洛阳，铜人泪下，拆时发生事故压死千余人，后铸铜人铜龙凤装饰宫殿，杨阜谏魏主勿过度奢侈，魏主不听，继续建造高台安置铜人，并选美女入芳林园，同时，曹睿宠爱郭夫人而疏远毛后。\n"
     ]
    },
    {
     "name": "stderr",
     "output_type": "stream",
     "text": [
      "Processing 三国演义:  89%|████████▊ | 672/758 [49:35<06:59,  4.88s/it]"
     ]
    },
    {
     "name": "stdout",
     "output_type": "stream",
     "text": [
      "毛皇后因得知皇帝与郭夫人游乐而心生不满，被皇帝发现后赐死，郭夫人被立为新皇后。同时，辽东公孙渊造反，自立为燕王，引起朝廷震动，皇帝召集群臣商议对策。\n"
     ]
    },
    {
     "name": "stderr",
     "output_type": "stream",
     "text": [
      "Processing 三国演义:  89%|████████▉ | 673/758 [49:39<06:36,  4.67s/it]"
     ]
    },
    {
     "name": "stdout",
     "output_type": "stream",
     "text": [
      "公孙渊起兵十五万攻中原，魏主曹睿召司马懿商讨对策。司马懿领兵四万迎战，预判公孙渊行动并设伏击，最终成功击败公孙渊。\n"
     ]
    },
    {
     "name": "stderr",
     "output_type": "stream",
     "text": [
      "Processing 三国演义:  89%|████████▉ | 674/758 [49:43<06:24,  4.58s/it]"
     ]
    },
    {
     "name": "stdout",
     "output_type": "stream",
     "text": [
      "夏侯霸斩卑衍，魏兵围襄平城，秋雨连绵，司马懿不移营，纵敌樵牧，待机攻城，最终攻城成功，公孙渊粮尽。\n"
     ]
    },
    {
     "name": "stderr",
     "output_type": "stream",
     "text": [
      "Processing 三国演义:  89%|████████▉ | 675/758 [49:49<06:42,  4.85s/it]"
     ]
    },
    {
     "name": "stdout",
     "output_type": "stream",
     "text": [
      "公孙渊因城内人心不稳，欲投降，派使者向司马懿请降被拒，后试图逃跑被司马懿拦截并斩首，司马懿随后攻占襄平城，处理叛乱官员，班师回洛阳。\n"
     ]
    },
    {
     "name": "stderr",
     "output_type": "stream",
     "text": [
      "Processing 三国演义:  89%|████████▉ | 676/758 [49:56<07:37,  5.58s/it]"
     ]
    },
    {
     "name": "stdout",
     "output_type": "stream",
     "text": [
      "曹睿询问刘放、孙资推荐宗族内可任之人，二人推荐曹爽，并建议遣燕王归国。曹睿同意后，封曹爽为大将军，总摄朝政。曹睿病重时召司马懿回朝，托孤于司马懿和曹爽，不久曹睿去世，曹芳即位，司马懿与曹爽辅政。何晏建议曹爽掌握大权，以防后患。\n"
     ]
    },
    {
     "name": "stderr",
     "output_type": "stream",
     "text": [
      "Processing 三国演义:  89%|████████▉ | 677/758 [50:01<07:11,  5.33s/it]"
     ]
    },
    {
     "name": "stdout",
     "output_type": "stream",
     "text": [
      "曹爽剥夺司马懿兵权，自掌大权，奢侈无度，与何晏等亲信日夜议事。何晏请管辂卜卦，辂预言曹爽等人将有大祸，因其行为不检，后曹爽不听弟劝，继续放纵。\n"
     ]
    },
    {
     "name": "stderr",
     "output_type": "stream",
     "text": [
      "Processing 三国演义:  89%|████████▉ | 678/758 [50:05<06:33,  4.92s/it]"
     ]
    },
    {
     "name": "stdout",
     "output_type": "stream",
     "text": [
      "曹爽专权，派李胜探听司马懿的病情，司马懿装病骗过李胜，曹爽因此放松警惕。司马懿趁曹爽出城时，发动政变，企图夺权。\n"
     ]
    },
    {
     "name": "stderr",
     "output_type": "stream",
     "text": [
      "Processing 三国演义:  90%|████████▉ | 679/758 [50:09<06:22,  4.85s/it]"
     ]
    },
    {
     "name": "stdout",
     "output_type": "stream",
     "text": [
      "司马懿发动政变，控制曹爽军营并奏请郭太后废黜曹爽，同时派兵控制武库和洛河浮桥，曹爽部下鲁芝和辛敞试图出城见天子，桓范则逃离城外。\n"
     ]
    },
    {
     "name": "stderr",
     "output_type": "stream",
     "text": [
      "Processing 三国演义:  90%|████████▉ | 680/758 [50:15<06:31,  5.02s/it]"
     ]
    },
    {
     "name": "stdout",
     "output_type": "stream",
     "text": [
      "司马懿通过许允、陈泰和尹大目向曹爽传达，只是要削去其兵权，并无他意。曹爽接到太傅司马懿的表章，指控其背弃顾命，败乱国典，要求罢免其兵权。曹爽犹豫不决，面临司马懿的军事压力，不知如何是好。\n"
     ]
    },
    {
     "name": "stderr",
     "output_type": "stream",
     "text": [
      "Processing 三国演义:  90%|████████▉ | 681/758 [50:18<05:54,  4.60s/it]"
     ]
    },
    {
     "name": "stdout",
     "output_type": "stream",
     "text": [
      "曹爽在司马懿的压力下，犹豫不决是否放弃兵权，最终选择弃官成为富家翁，但最终仍被司马懿斩杀并灭三族。\n"
     ]
    },
    {
     "name": "stderr",
     "output_type": "stream",
     "text": [
      "Processing 三国演义:  90%|████████▉ | 682/758 [50:24<06:03,  4.78s/it]"
     ]
    },
    {
     "name": "stdout",
     "output_type": "stream",
     "text": [
      "夏侯令女守节不嫁，司马懿赞赏其义，保留曹氏后人；司马懿宽恕鲁芝、辛敞等人，恢复其职；曹芳封司马懿为丞相，司马懿担忧夏侯玄作乱，遣使召其至洛阳，夏侯霸因此反叛，与郭淮交战。\n"
     ]
    },
    {
     "name": "stderr",
     "output_type": "stream",
     "text": [
      "Processing 三国演义:  90%|█████████ | 683/758 [50:28<05:39,  4.53s/it]"
     ]
    },
    {
     "name": "stdout",
     "output_type": "stream",
     "text": [
      "夏侯霸因败投汉中降后主，姜维接待并询问魏国情报，得知司马懿父子专权，魏国有钟会、邓艾两位年轻才俊，姜维决定领兵恢复中原。\n"
     ]
    },
    {
     "name": "stderr",
     "output_type": "stream",
     "text": [
      "Processing 三国演义:  90%|█████████ | 684/758 [50:33<05:56,  4.81s/it]"
     ]
    },
    {
     "name": "stdout",
     "output_type": "stream",
     "text": [
      "姜维奉命伐魏，与夏侯霸在汉中起兵，遣将筑城于曲山，遭魏军围困断水。李歆突围求救，姜维因羌兵未到而迟，后采纳夏侯霸计策，引兵往牛头山，以解曲山之围。\n"
     ]
    },
    {
     "name": "stderr",
     "output_type": "stream",
     "text": [
      "Processing 三国演义:  90%|█████████ | 685/758 [50:37<05:30,  4.52s/it]"
     ]
    },
    {
     "name": "stdout",
     "output_type": "stream",
     "text": [
      "姜维在牛头山遭遇陈泰和郭淮的伏击，粮道被断，经过激战后，姜维使用连弩法成功击退司马师，但自身损失惨重。\n"
     ]
    },
    {
     "name": "stderr",
     "output_type": "stream",
     "text": [
      "Processing 三国演义:  91%|█████████ | 686/758 [50:42<05:42,  4.75s/it]"
     ]
    },
    {
     "name": "stdout",
     "output_type": "stream",
     "text": [
      "蜀将句安降魏，姜维败退汉中。司马懿病逝，嘱咐二子司马师、司马昭善理国政。吴主孙权因风灾受惊病逝，诸葛恪立孙亮为帝。司马师闻讯议起兵伐吴，分三路进攻东吴。\n"
     ]
    },
    {
     "name": "stderr",
     "output_type": "stream",
     "text": [
      "Processing 三国演义:  91%|█████████ | 687/758 [50:47<05:36,  4.75s/it]"
     ]
    },
    {
     "name": "stdout",
     "output_type": "stream",
     "text": [
      "魏军三路攻东兴，诸葛恪派丁奉等分兵抵抗。丁奉率水军突袭魏军，趁雪天魏军不备，成功攻破魏寨，大败魏军，司马昭等被迫撤退。\n"
     ]
    },
    {
     "name": "stderr",
     "output_type": "stream",
     "text": [
      "Processing 三国演义:  91%|█████████ | 688/758 [50:53<05:57,  5.11s/it]"
     ]
    },
    {
     "name": "stdout",
     "output_type": "stream",
     "text": [
      "诸葛恪起兵二十万伐魏，攻新城不下，用缓兵计退吴兵后，因军中多病和天气炎热，最终大败而归，恪羞愧托病不朝。\n"
     ]
    },
    {
     "name": "stderr",
     "output_type": "stream",
     "text": [
      "Processing 三国演义:  91%|█████████ | 689/758 [50:57<05:33,  4.83s/it]"
     ]
    },
    {
     "name": "stdout",
     "output_type": "stream",
     "text": [
      "诸葛恪专权恣虐，引起孙峻和滕胤的不满，他们密谋在宴会上暗杀诸葛恪，而诸葛恪在赴宴途中遭遇不祥之兆，心生疑虑。\n"
     ]
    },
    {
     "name": "stderr",
     "output_type": "stream",
     "text": [
      "Processing 三国演义:  91%|█████████ | 690/758 [51:00<04:54,  4.33s/it]"
     ]
    },
    {
     "name": "stdout",
     "output_type": "stream",
     "text": [
      "诸葛恪被孙峻谋杀，全家被斩首，孙峻因此获得更大权力。同时，姜维准备再次北伐魏国。\n"
     ]
    },
    {
     "name": "stderr",
     "output_type": "stream",
     "text": [
      "Processing 三国演义:  91%|█████████ | 691/758 [51:04<04:44,  4.25s/it]"
     ]
    },
    {
     "name": "stdout",
     "output_type": "stream",
     "text": [
      "姜维派遣郤正结好羌王迷当，迷当起兵助蜀攻魏。魏将徐质英勇，击败蜀军。姜维设计诱敌，徐质中计被杀。\n"
     ]
    },
    {
     "name": "stderr",
     "output_type": "stream",
     "text": [
      "Processing 三国演义:  91%|█████████▏| 692/758 [51:09<04:53,  4.45s/it]"
     ]
    },
    {
     "name": "stdout",
     "output_type": "stream",
     "text": [
      "夏侯霸擒获押粮兵并伪装成魏军混入魏寨，蜀兵在寨中杀起，司马昭被困铁笼山，后因拜泉得水免于渴死，姜维围困魏兵，郭淮设计诈降羌兵，成功解救司马昭。\n"
     ]
    },
    {
     "name": "stderr",
     "output_type": "stream",
     "text": [
      "Processing 三国演义:  91%|█████████▏| 693/758 [51:14<04:59,  4.60s/it]"
     ]
    },
    {
     "name": "stdout",
     "output_type": "stream",
     "text": [
      "淮劝迷当背叛蜀国，迷当带羌兵与魏兵攻蜀，姜维设计反击，射杀郭淮，但最终兵败回汉中。司马师专权，魏主曹芳感到威胁，与夏侯玄、李丰、张缉密谋对付司马师。\n"
     ]
    },
    {
     "name": "stderr",
     "output_type": "stream",
     "text": [
      "Processing 三国演义:  92%|█████████▏| 694/758 [51:18<04:33,  4.27s/it]"
     ]
    },
    {
     "name": "stdout",
     "output_type": "stream",
     "text": [
      "曹芳与夏侯玄、张缉、李丰密谋讨伐司马师，但计划泄露，三人被司马师处死，曹芳与张皇后惊恐。\n"
     ]
    },
    {
     "name": "stderr",
     "output_type": "stream",
     "text": [
      "Processing 三国演义:  92%|█████████▏| 695/758 [51:23<04:39,  4.44s/it]"
     ]
    },
    {
     "name": "stdout",
     "output_type": "stream",
     "text": [
      "司马师质疑皇帝曹芳谋害其兄弟，曹芳否认并被司马师逼迫承认罪行，司马师处死张皇后。次日，司马师以曹芳荒淫无道为由，提议另立新君，最终立曹髦为帝，曹芳被废为齐王。\n"
     ]
    },
    {
     "name": "stderr",
     "output_type": "stream",
     "text": [
      "Processing 三国演义:  92%|█████████▏| 696/758 [51:27<04:37,  4.47s/it]"
     ]
    },
    {
     "name": "stdout",
     "output_type": "stream",
     "text": [
      "曹髦被立为新君，改元正元，司马师掌握大权。正元二年，毋丘俭和文钦因不满司马师废立之事，起兵讨伐，司马师则计划抚恤将士家属并断其归路以应对。\n"
     ]
    },
    {
     "name": "stderr",
     "output_type": "stream",
     "text": [
      "Processing 三国演义:  92%|█████████▏| 697/758 [51:31<04:21,  4.29s/it]"
     ]
    },
    {
     "name": "stdout",
     "output_type": "stream",
     "text": [
      "司马师因病未能亲自出征，但最终决定带病东行，指挥多路军队对抗毋丘俭，同时应对东吴孙峻的威胁，展开一系列军事行动以确保战略要地的安全。\n"
     ]
    },
    {
     "name": "stderr",
     "output_type": "stream",
     "text": [
      "Processing 三国演义:  92%|█████████▏| 698/758 [51:35<04:16,  4.28s/it]"
     ]
    },
    {
     "name": "stdout",
     "output_type": "stream",
     "text": [
      "文鸯与其父文钦趁司马师在乐嘉城立寨未稳，夜袭魏军，文鸯勇猛冲杀，虽父未至，仍单骑奋战，多次击退魏将追击。\n"
     ]
    },
    {
     "name": "stderr",
     "output_type": "stream",
     "text": [
      "Processing 三国演义:  92%|█████████▏| 699/758 [51:41<04:30,  4.59s/it]"
     ]
    },
    {
     "name": "stdout",
     "output_type": "stream",
     "text": [
      "文钦在山中迷路，天亮后发现魏兵大胜，遂退兵至寿春，但已被诸葛诞占领，最终投奔东吴。同时，毋丘俭在项城战败，被宋白杀害，淮南平定。司马师病重，将权力交给司马昭后去世。\n"
     ]
    },
    {
     "name": "stderr",
     "output_type": "stream",
     "text": [
      "Processing 三国演义:  92%|█████████▏| 700/758 [51:45<04:17,  4.44s/it]"
     ]
    },
    {
     "name": "stdout",
     "output_type": "stream",
     "text": [
      "司马昭继兄司马师掌权后，姜维趁机率军伐魏，背水一战大败魏军，张翼、夏侯霸从后夹击，魏军被困。\n"
     ]
    },
    {
     "name": "stderr",
     "output_type": "stream",
     "text": [
      "Processing 三国演义:  92%|█████████▏| 701/758 [51:49<04:10,  4.40s/it]"
     ]
    },
    {
     "name": "stdout",
     "output_type": "stream",
     "text": [
      "姜维在洮水之战中大败魏军，随后围攻狄道城，但遭遇陈泰和邓艾的伏击，最终被迫撤退至汉中。\n"
     ]
    },
    {
     "name": "stderr",
     "output_type": "stream",
     "text": [
      "Processing 三国演义:  93%|█████████▎| 702/758 [51:55<04:31,  4.85s/it]"
     ]
    },
    {
     "name": "stdout",
     "output_type": "stream",
     "text": [
      "姜维因洮西之功被封为大将军，计划再次伐魏。同时，邓艾分析蜀军可能的五种出兵方式，并与陈泰结为忘年之交，加强军事准备。姜维则在钟提集会讨论伐魏策略，提出五种胜魏的理由。\n"
     ]
    },
    {
     "name": "stderr",
     "output_type": "stream",
     "text": [
      "Processing 三国演义:  93%|█████████▎| 703/758 [51:59<04:14,  4.62s/it]"
     ]
    },
    {
     "name": "stdout",
     "output_type": "stream",
     "text": [
      "姜维决定攻取陇西，邓艾预知并设防，姜维改变策略偷袭南安，邓艾再次识破并设伏，最终在武城山成功伏击蜀军。\n"
     ]
    },
    {
     "name": "stderr",
     "output_type": "stream",
     "text": [
      "Processing 三国演义:  93%|█████████▎| 704/758 [52:02<03:52,  4.31s/it]"
     ]
    },
    {
     "name": "stdout",
     "output_type": "stream",
     "text": [
      "姜维率军攻打武城山，遭遇邓艾的顽强抵抗和伏击，导致蜀军大败，姜维被迫撤退并自贬官职。\n"
     ]
    },
    {
     "name": "stderr",
     "output_type": "stream",
     "text": [
      "Processing 三国演义:  93%|█████████▎| 705/758 [52:07<03:47,  4.30s/it]"
     ]
    },
    {
     "name": "stdout",
     "output_type": "stream",
     "text": [
      "司马昭掌握大权，心怀篡逆，派贾充探听诸葛诞意见，诸葛诞反对篡位，司马昭遂密谋除掉诸葛诞，引发诸葛诞反攻扬州，最终杀掉乐𬘭。\n"
     ]
    },
    {
     "name": "stderr",
     "output_type": "stream",
     "text": [
      "Processing 三国演义:  93%|█████████▎| 706/758 [52:10<03:29,  4.03s/it]"
     ]
    },
    {
     "name": "stdout",
     "output_type": "stream",
     "text": [
      "诸葛诞联合东吴讨伐司马昭，司马昭则请太后及天子一同出征对抗，双方在淮南展开激战。\n"
     ]
    },
    {
     "name": "stderr",
     "output_type": "stream",
     "text": [
      "Processing 三国演义:  93%|█████████▎| 707/758 [52:15<03:40,  4.33s/it]"
     ]
    },
    {
     "name": "stdout",
     "output_type": "stream",
     "text": [
      "司马昭与诸葛诞及吴兵交战，利用诱敌深入和伏兵策略，成功击败诸葛诞，并围困寿春城。钟会建议留南门不围，诱敌自走，最终吴兵败退，朱异被孙𬘭斩杀。\n"
     ]
    },
    {
     "name": "stderr",
     "output_type": "stream",
     "text": [
      "Processing 三国演义:  93%|█████████▎| 708/758 [52:21<03:58,  4.77s/it]"
     ]
    },
    {
     "name": "stdout",
     "output_type": "stream",
     "text": [
      "孙𬘭退兵后，全祎因魏兵势大投降司马昭，并劝父全端、叔全怿也投降。诸葛诞在城中粮尽，部下蒋班、焦彝降魏，文钦被杀后其子文鸯、文虎也投降。最终，诸葛诞在突围时被杀，城破。\n"
     ]
    },
    {
     "name": "stderr",
     "output_type": "stream",
     "text": [
      "Processing 三国演义:  94%|█████████▎| 709/758 [52:27<04:12,  5.15s/it]"
     ]
    },
    {
     "name": "stdout",
     "output_type": "stream",
     "text": [
      "王基与吴将于诠交战，诠宁死不降，最终战死；司马昭攻克寿春，尽杀诸葛诞家族及部下，但无人投降；吴兵多数降魏，司马昭决定放归吴兵，显示宽大；姜维趁机出兵攻魏，谯周担忧蜀汉国运，作《仇国论》寄予姜维。\n"
     ]
    },
    {
     "name": "stderr",
     "output_type": "stream",
     "text": [
      "Processing 三国演义:  94%|█████████▎| 710/758 [52:32<04:01,  5.03s/it]"
     ]
    },
    {
     "name": "stdout",
     "output_type": "stream",
     "text": [
      "姜维读到一篇关于战争策略的文章后愤怒，决定出兵攻打中原，他听取傅佥的建议，直取骆谷并烧毁魏军粮草，最终在战斗中取得胜利，迫使司马望弃寨入城，蜀军随后攻城成功。\n"
     ]
    },
    {
     "name": "stderr",
     "output_type": "stream",
     "text": [
      "Processing 三国演义:  94%|█████████▍| 711/758 [52:36<03:43,  4.76s/it]"
     ]
    },
    {
     "name": "stdout",
     "output_type": "stream",
     "text": [
      "姜维与邓艾之子邓忠交战，不分胜负后设计逃脱，后与邓艾约定再战。邓艾采取守势，姜维多次挑战无果，得知司马昭将至，决定撤军。\n"
     ]
    },
    {
     "name": "stderr",
     "output_type": "stream",
     "text": [
      "Processing 三国演义:  94%|█████████▍| 712/758 [52:40<03:27,  4.51s/it]"
     ]
    },
    {
     "name": "stdout",
     "output_type": "stream",
     "text": [
      "姜维退兵，邓艾识破其计不追；孙𬘭在东吴专权，孙亮密谋杀𬘭，但计划泄露，孙𬘭反围宫。\n"
     ]
    },
    {
     "name": "stderr",
     "output_type": "stream",
     "text": [
      "Processing 三国演义:  94%|█████████▍| 713/758 [52:44<03:23,  4.53s/it]"
     ]
    },
    {
     "name": "stdout",
     "output_type": "stream",
     "text": [
      "孙𬘭废黜吴主孙亮，立孙休为新君，后因不满孙休拒绝其上寿，心生叛意，调兵屯武昌并搬空武库，引起孙休的恐惧和警惕。\n"
     ]
    },
    {
     "name": "stderr",
     "output_type": "stream",
     "text": [
      "Processing 三国演义:  94%|█████████▍| 714/758 [52:49<03:24,  4.64s/it]"
     ]
    },
    {
     "name": "stdout",
     "output_type": "stream",
     "text": [
      "孙休与丁奉合谋，在腊日宴会上以张布为内应，成功擒杀反贼孙𬘭，随后安定民心，重赏功臣，并关注蜀中政局，准备应对司马昭的威胁。\n"
     ]
    },
    {
     "name": "stderr",
     "output_type": "stream",
     "text": [
      "Processing 三国演义:  94%|█████████▍| 715/758 [52:55<03:29,  4.87s/it]"
     ]
    },
    {
     "name": "stdout",
     "output_type": "stream",
     "text": [
      "姜维率蜀军二十万攻祁山，邓艾预先挖地道以待，夜袭蜀军左寨，王含、蒋斌败走。姜维稳住军心，次日与邓艾对阵，双方按八卦阵布兵。\n"
     ]
    },
    {
     "name": "stderr",
     "output_type": "stream",
     "text": [
      "Processing 三国演义:  94%|█████████▍| 716/758 [52:59<03:17,  4.71s/it]"
     ]
    },
    {
     "name": "stdout",
     "output_type": "stream",
     "text": [
      "姜维与邓艾斗阵法，邓艾被困长蛇卷地阵，后被司马望救出。姜维识破邓艾的计谋，设伏兵应对。\n"
     ]
    },
    {
     "name": "stderr",
     "output_type": "stream",
     "text": [
      "Processing 三国演义:  95%|█████████▍| 717/758 [53:05<03:22,  4.93s/it]"
     ]
    },
    {
     "name": "stdout",
     "output_type": "stream",
     "text": [
      "姜维与司马望讨论八阵之法，司马望自信能变阵，姜维则表示自己的阵法更复杂。随后，邓艾试图偷袭姜维后方，但被廖化击败。司马望建议使用反间计召回姜维，成功使姜维撤军，邓艾趁机追击。\n"
     ]
    },
    {
     "name": "stderr",
     "output_type": "stream",
     "text": [
      "Processing 三国演义:  95%|█████████▍| 718/758 [53:13<03:54,  5.86s/it]"
     ]
    },
    {
     "name": "stdout",
     "output_type": "stream",
     "text": [
      "邓艾见蜀军撤退有序，赞叹姜维军事才能，未追赶。姜维回成都，后主召回他，姜维疑是邓艾反间计。后主不疑姜维，命其回汉中待机。邓艾与司马望认为蜀国内部不和，司马昭得知后有意伐蜀，但贾充建议暂缓。魏国天子疑司马昭，司马昭怒，贾充愿为其谋划。魏国天子与王沈、王经、王业商议对抗司马昭，王经认为不可轻举妄动。\n"
     ]
    },
    {
     "name": "stderr",
     "output_type": "stream",
     "text": [
      "Processing 三国演义:  95%|█████████▍| 719/758 [53:17<03:34,  5.51s/it]"
     ]
    },
    {
     "name": "stdout",
     "output_type": "stream",
     "text": [
      "魏主曹髦决心对抗司马昭，率领三百余人出宫，但被贾充和成济领导的禁兵拦截，曹髦被成济刺杀。司马昭假装悲痛，群臣商议后决定处死成济并灭其三族。\n"
     ]
    },
    {
     "name": "stderr",
     "output_type": "stream",
     "text": [
      "Processing 三国演义:  95%|█████████▍| 720/758 [53:22<03:17,  5.19s/it]"
     ]
    },
    {
     "name": "stdout",
     "output_type": "stream",
     "text": [
      "司马昭弑君后诛杀成济三族，王经全家亦被处死，司马孚请求以王礼葬曹髦，司马昭立曹奂为帝，姜维趁机发兵伐魏。\n"
     ]
    },
    {
     "name": "stderr",
     "output_type": "stream",
     "text": [
      "Processing 三国演义:  95%|█████████▌| 721/758 [53:25<02:52,  4.67s/it]"
     ]
    },
    {
     "name": "stdout",
     "output_type": "stream",
     "text": [
      "姜维利用王瓘诈降的计划，设下陷阱，诱使邓艾率军进入山谷，最终成功伏击并击败邓艾的军队。\n"
     ]
    },
    {
     "name": "stderr",
     "output_type": "stream",
     "text": [
      "Processing 三国演义:  95%|█████████▌| 722/758 [53:30<02:45,  4.58s/it]"
     ]
    },
    {
     "name": "stdout",
     "output_type": "stream",
     "text": [
      "邓艾中计被蜀军围攻，弃马逃脱；王瓘烧粮车后逃入汉中，被姜维追杀；姜维虽胜但损失粮车和栈道，后修栈道准备再次出兵。\n"
     ]
    },
    {
     "name": "stderr",
     "output_type": "stream",
     "text": [
      "Processing 三国演义:  95%|█████████▌| 723/758 [53:33<02:33,  4.39s/it]"
     ]
    },
    {
     "name": "stdout",
     "output_type": "stream",
     "text": [
      "姜维决心伐魏，不听廖化劝阻，率军攻洮阳，邓艾设伏击败夏侯霸，姜维虽后援赶到，但夏侯霸已战死。\n"
     ]
    },
    {
     "name": "stderr",
     "output_type": "stream",
     "text": [
      "Processing 三国演义:  96%|█████████▌| 724/758 [53:37<02:22,  4.18s/it]"
     ]
    },
    {
     "name": "stdout",
     "output_type": "stream",
     "text": [
      "邓艾夜袭蜀寨，蜀兵大败，姜维整顿军心后，分兵攻祁山，邓艾救援，姜维与张翼夹攻邓艾，使其败退。\n"
     ]
    },
    {
     "name": "stderr",
     "output_type": "stream",
     "text": [
      "Processing 三国演义:  96%|█████████▌| 725/758 [53:42<02:20,  4.27s/it]"
     ]
    },
    {
     "name": "stdout",
     "output_type": "stream",
     "text": [
      "刘琰怀疑妻子与后主私通，对其施暴，后被处死，导致朝政混乱，小人得势。后主因黄皓建议召回姜维，姜维回朝后发现后主荒淫，劝谏未果。\n"
     ]
    },
    {
     "name": "stderr",
     "output_type": "stream",
     "text": [
      "Processing 三国演义:  96%|█████████▌| 726/758 [53:45<02:11,  4.11s/it]"
     ]
    },
    {
     "name": "stdout",
     "output_type": "stream",
     "text": [
      "姜维听从郤正建议，前往沓中屯田以保国安身，同时邓艾和司马昭计划伐蜀，钟会提供详细的伐蜀策略。\n"
     ]
    },
    {
     "name": "stderr",
     "output_type": "stream",
     "text": [
      "Processing 三国演义:  96%|█████████▌| 727/758 [53:53<02:41,  5.20s/it]"
     ]
    },
    {
     "name": "stdout",
     "output_type": "stream",
     "text": [
      "司马昭任命钟会和邓艾分兵伐蜀，计划通过多路进攻削弱蜀国力量，同时准备船只以防东吴救援，最终目标是统一吴蜀。\n"
     ]
    },
    {
     "name": "stderr",
     "output_type": "stream",
     "text": [
      "Processing 三国演义:  96%|█████████▌| 728/758 [53:57<02:24,  4.82s/it]"
     ]
    },
    {
     "name": "stdout",
     "output_type": "stream",
     "text": [
      "钟会提出伐蜀策略，集结大军并任命许仪为先锋，邓艾也受命伐蜀，两人分别部署军队准备进攻。\n"
     ]
    },
    {
     "name": "stderr",
     "output_type": "stream",
     "text": [
      "Processing 三国演义:  96%|█████████▌| 729/758 [54:02<02:22,  4.92s/it]"
     ]
    },
    {
     "name": "stdout",
     "output_type": "stream",
     "text": [
      "刘寔预言钟会和邓艾虽能破蜀但难返都城，姜维请求后主加强防御并求援吴国，后主却迷信师婆之言，忽视姜维的警告，导致魏军钟会部在南郑关遭遇蜀军顽强抵抗，损失惨重。\n"
     ]
    },
    {
     "name": "stderr",
     "output_type": "stream",
     "text": [
      "Processing 三国演义:  96%|█████████▋| 730/758 [54:07<02:14,  4.79s/it]"
     ]
    },
    {
     "name": "stdout",
     "output_type": "stream",
     "text": [
      "钟会率军攻打蜀国，遭遇桥梁陷阱，幸得荀恺救助，随后斩杀违令的许仪，攻占阳安关，傅佥英勇战死，蒋舒投降，钟会最终成功占领阳安关。\n"
     ]
    },
    {
     "name": "stderr",
     "output_type": "stream",
     "text": [
      "Processing 三国演义:  96%|█████████▋| 731/758 [54:11<02:03,  4.58s/it]"
     ]
    },
    {
     "name": "stdout",
     "output_type": "stream",
     "text": [
      "钟会在定军山遭遇神秘现象，认为是诸葛武侯显圣，遂前往祭拜，并承诺不妄杀生灵，汉中人民因此欢迎他。同时，姜维得知魏军大举进攻，准备迎战。\n"
     ]
    },
    {
     "name": "stderr",
     "output_type": "stream",
     "text": [
      "Processing 三国演义:  97%|█████████▋| 732/758 [54:16<02:07,  4.91s/it]"
     ]
    },
    {
     "name": "stdout",
     "output_type": "stream",
     "text": [
      "姜维与魏将王颀、牵弘、邓艾交战，后因甘松寨被烧，撤军救援，途中遭遇魏军围攻。得知汉中失守后，姜维计划夺回汉中，但被诸葛绪断后路，最终采取副将宁随之计，诈取雍州，试图解围。\n"
     ]
    },
    {
     "name": "stderr",
     "output_type": "stream",
     "text": [
      "Processing 三国演义:  97%|█████████▋| 733/758 [54:22<02:04,  4.96s/it]"
     ]
    },
    {
     "name": "stdout",
     "output_type": "stream",
     "text": [
      "姜维在北道行军后返回桥头击败魏军，与张翼、廖化合兵一处，决定退守剑阁。在剑阁，姜维击败诸葛绪，但钟会和邓艾分兵攻来，姜维坚守剑阁，讨论成都防御问题。\n"
     ]
    },
    {
     "name": "stderr",
     "output_type": "stream",
     "text": [
      "Processing 三国演义:  97%|█████████▋| 734/758 [54:26<01:55,  4.83s/it]"
     ]
    },
    {
     "name": "stdout",
     "output_type": "stream",
     "text": [
      "钟会奉命伐蜀，与邓艾意见不合。邓艾提出奇袭成都的计策，钟会表面赞同，内心却认为邓艾无能，决定自己攻打剑阁。邓艾则决定实施自己的计划，秘密前往成都。\n"
     ]
    },
    {
     "name": "stderr",
     "output_type": "stream",
     "text": [
      "Processing 三国演义:  97%|█████████▋| 735/758 [54:32<01:56,  5.05s/it]"
     ]
    },
    {
     "name": "stdout",
     "output_type": "stream",
     "text": [
      "邓艾率军秘密穿越阴平，历经艰险到达摩天岭，发现无法开凿，决定冒险裹毡滚下，成功后发现诸葛亮的预言石碣，感叹其神机妙算。随后，邓艾激励士兵攻打江油城，而江油城守将马邈未重视军情。\n"
     ]
    },
    {
     "name": "stderr",
     "output_type": "stream",
     "text": [
      "Processing 三国演义:  97%|█████████▋| 736/758 [54:37<01:55,  5.24s/it]"
     ]
    },
    {
     "name": "stdout",
     "output_type": "stream",
     "text": [
      "马邈对边情不以为意，其妻责其不忠，后魏将邓艾突袭江油，马邈投降，其妻自缢。邓艾继续攻打涪城，城内官民投降。蜀后主惊慌，召集官员商议，决定召见诸葛瞻商议退兵之策。\n"
     ]
    },
    {
     "name": "stderr",
     "output_type": "stream",
     "text": [
      "Processing 三国演义:  97%|█████████▋| 737/758 [54:41<01:41,  4.84s/it]"
     ]
    },
    {
     "name": "stdout",
     "output_type": "stream",
     "text": [
      "诸葛瞻及其子诸葛尚率蜀军抵抗邓艾的魏军，诸葛尚勇猛战退敌将，诸葛瞻指挥蜀军大败魏军，师纂、邓忠受伤逃走。\n"
     ]
    },
    {
     "name": "stderr",
     "output_type": "stream",
     "text": [
      "Processing 三国演义:  97%|█████████▋| 738/758 [54:45<01:31,  4.58s/it]"
     ]
    },
    {
     "name": "stdout",
     "output_type": "stream",
     "text": [
      "诸葛瞻在抵抗邓艾的进攻中，因救兵未至，最终在绵竹城外被围困，力战至死，体现了其忠诚与牺牲精神。\n"
     ]
    },
    {
     "name": "stderr",
     "output_type": "stream",
     "text": [
      "Processing 三国演义:  97%|█████████▋| 739/758 [54:50<01:30,  4.77s/it]"
     ]
    },
    {
     "name": "stdout",
     "output_type": "stream",
     "text": [
      "诸葛瞻父子为国捐躯，邓艾攻占绵竹后直逼成都，后主刘禅在朝中商议投降或逃亡，谯周建议降魏，北地王刘谌反对投降。\n"
     ]
    },
    {
     "name": "stderr",
     "output_type": "stream",
     "text": [
      "Processing 三国演义:  98%|█████████▊| 740/758 [54:55<01:26,  4.83s/it]"
     ]
    },
    {
     "name": "stdout",
     "output_type": "stream",
     "text": [
      "北地王刘谌反对投降，力主抵抗，但后主不听，决定投降。刘谌悲愤自杀，表达对先帝基业的忠诚。后主最终投降魏国，蜀汉灭亡。\n"
     ]
    },
    {
     "name": "stderr",
     "output_type": "stream",
     "text": [
      "Processing 三国演义:  98%|█████████▊| 741/758 [55:00<01:23,  4.90s/it]"
     ]
    },
    {
     "name": "stdout",
     "output_type": "stream",
     "text": [
      "后主刘禅投降邓艾，成都人民迎接，邓艾封官并处理后续事务，姜维在剑阁假装投降钟会，邓艾因姜维投降钟会而痛恨钟会，并致信司马昭。\n"
     ]
    },
    {
     "name": "stderr",
     "output_type": "stream",
     "text": [
      "Processing 三国演义:  98%|█████████▊| 742/758 [55:06<01:19,  4.98s/it]"
     ]
    },
    {
     "name": "stdout",
     "output_type": "stream",
     "text": [
      "邓艾建议利用平蜀之势乘机攻吴，同时提出留兵煮盐造船预备顺流攻吴，并建议厚待刘禅以影响吴国。司马昭虽封赏邓艾，但怀疑其自专，后通过封钟会和卫瓘监督邓艾以防其变。\n"
     ]
    },
    {
     "name": "stderr",
     "output_type": "stream",
     "text": [
      "Processing 三国演义:  98%|█████████▊| 743/758 [55:10<01:13,  4.92s/it]"
     ]
    },
    {
     "name": "stdout",
     "output_type": "stream",
     "text": [
      "钟会与姜维商议如何应对邓艾的威胁，决定上表诬告邓艾谋反，司马昭因此派遣钟会和贾充分别行动，钟会随后命令卫瓘逮捕邓艾，以证实其反情。\n"
     ]
    },
    {
     "name": "stderr",
     "output_type": "stream",
     "text": [
      "Processing 三国演义:  98%|█████████▊| 744/758 [55:15<01:07,  4.80s/it]"
     ]
    },
    {
     "name": "stdout",
     "output_type": "stream",
     "text": [
      "卫瓘奉诏逮捕邓艾父子，发布檄文号召归降，成功捕获邓艾并送往洛阳，钟会入成都掌控军马，与姜维密谋反叛，计划利用郭太后遗诏讨伐司马昭。\n"
     ]
    },
    {
     "name": "stderr",
     "output_type": "stream",
     "text": [
      "Processing 三国演义:  98%|█████████▊| 745/758 [55:19<00:59,  4.59s/it]"
     ]
    },
    {
     "name": "stdout",
     "output_type": "stream",
     "text": [
      "钟会在元宵节设宴，企图通过威胁和利诱让诸将支持他对抗司马昭，但计划被泄露，导致诸将反叛，最终钟会和姜维的计划失败。\n"
     ]
    },
    {
     "name": "stderr",
     "output_type": "stream",
     "text": [
      "Processing 三国演义:  98%|█████████▊| 746/758 [55:27<01:05,  5.48s/it]"
     ]
    },
    {
     "name": "stdout",
     "output_type": "stream",
     "text": [
      "钟会、姜维在宫中被魏兵围攻，钟会战死，姜维自刎，宫中死伤惨重。卫瓘命令军队归营，魏兵报复杀害姜维家属。邓艾被部下田续杀害。后有诗分别哀悼邓艾、钟会、姜维。蜀国太子刘璇等被杀，贾充安民，后主迁至洛阳。吴国加强防御，以防魏国进攻。\n"
     ]
    },
    {
     "name": "stderr",
     "output_type": "stream",
     "text": [
      "Processing 三国演义:  99%|█████████▊| 747/758 [55:30<00:53,  4.86s/it]"
     ]
    },
    {
     "name": "stdout",
     "output_type": "stream",
     "text": [
      "后主刘禅被司马昭俘至洛阳，封为安乐公，虽受辱但表现出无忧无虑的态度，最终因诚实被司马昭信任。\n"
     ]
    },
    {
     "name": "stderr",
     "output_type": "stream",
     "text": [
      "Processing 三国演义:  99%|█████████▊| 748/758 [55:35<00:48,  4.89s/it]"
     ]
    },
    {
     "name": "stdout",
     "output_type": "stream",
     "text": [
      "司马昭受封晋王，欲立幼子为世子，但因大臣谏言立长子司马炎为世子。后司马昭中风去世，司马炎继位为晋王，并最终迫使魏主曹奂禅让，自立为帝。\n"
     ]
    },
    {
     "name": "stderr",
     "output_type": "stream",
     "text": [
      "Processing 三国演义:  99%|█████████▉| 749/758 [55:40<00:43,  4.87s/it]"
     ]
    },
    {
     "name": "stdout",
     "output_type": "stream",
     "text": [
      "司马炎与张节争论魏国天命，张节被杀，曹奂被迫禅位给司马炎，司马炎建立晋朝，追封祖先，准备伐吴。\n"
     ]
    },
    {
     "name": "stderr",
     "output_type": "stream",
     "text": [
      "Processing 三国演义:  99%|█████████▉| 750/758 [55:48<00:46,  5.83s/it]"
     ]
    },
    {
     "name": "stdout",
     "output_type": "stream",
     "text": [
      "吴主孙休因忧虑司马炎伐吴而病逝，丞相濮阳兴与群臣商议后立孙皓为帝。孙皓即位后，暴政日甚，不听谏言，导致国家财政匮乏，民心不稳。陆凯上疏劝谏，但孙皓不悦，继续奢侈无度，大兴土木，询问术士取天下之事，不顾华核的谏言，执意动兵。\n"
     ]
    },
    {
     "name": "stderr",
     "output_type": "stream",
     "text": [
      "Processing 三国演义:  99%|█████████▉| 751/758 [55:54<00:40,  5.82s/it]"
     ]
    },
    {
     "name": "stdout",
     "output_type": "stream",
     "text": [
      "孙皓欲恢复旧业，华核劝谏被逐，孙皓命陆抗屯兵江口图襄阳。晋主司马炎得知后，派羊祜镇守襄阳，羊祜以德政赢得民心，与陆抗相互尊重，维持边境和平。\n"
     ]
    },
    {
     "name": "stderr",
     "output_type": "stream",
     "text": [
      "Processing 三国演义:  99%|█████████▉| 752/758 [56:00<00:35,  5.85s/it]"
     ]
    },
    {
     "name": "stdout",
     "output_type": "stream",
     "text": [
      "羊祜与陆抗互相信任，陆抗病中接受羊祜的药后痊愈，两人保持和平往来。吴主孙皓因陆抗不积极进攻而罢其兵权，羊祜见机请求晋朝伐吴，但未获批准。羊祜认为孙皓暴虐，吴国易攻，若孙皓去世，吴国将难征服。\n"
     ]
    },
    {
     "name": "stderr",
     "output_type": "stream",
     "text": [
      "Processing 三国演义:  99%|█████████▉| 753/758 [56:05<00:28,  5.67s/it]"
     ]
    },
    {
     "name": "stdout",
     "output_type": "stream",
     "text": [
      "羊祜因年老多病辞去伐吴任务，推荐杜预继任。羊祜去世后，晋主司马炎任命杜预为镇南大将军准备伐吴。同时，吴国内部混乱，晋益州刺史王濬建议趁机伐吴，晋主最终决定行动。\n"
     ]
    },
    {
     "name": "stderr",
     "output_type": "stream",
     "text": [
      "Processing 三国演义:  99%|█████████▉| 754/758 [56:09<00:20,  5.13s/it]"
     ]
    },
    {
     "name": "stdout",
     "output_type": "stream",
     "text": [
      "晋主接受张华建议，派遣杜预等将领率大军攻打吴国，吴主孙皓急忙部署防御，但晋军水陆并进，迅速展开攻势。\n"
     ]
    },
    {
     "name": "stderr",
     "output_type": "stream",
     "text": [
      "Processing 三国演义: 100%|█████████▉| 755/758 [56:13<00:15,  5.04s/it]"
     ]
    },
    {
     "name": "stdout",
     "output_type": "stream",
     "text": [
      "杜预率军攻打吴国，斩杀多名吴将，占领江陵，随后大会诸将商议攻取建业。王濬利用智谋破解吴军的铁索和铁锥防御，最终张悌和沈莹战死，吴军大败。\n"
     ]
    },
    {
     "name": "stderr",
     "output_type": "stream",
     "text": [
      "Processing 三国演义: 100%|█████████▉| 756/758 [56:20<00:10,  5.39s/it]"
     ]
    },
    {
     "name": "stdout",
     "output_type": "stream",
     "text": [
      "晋军攻克牛渚，深入吴境，晋主张华与贾充就撤军与否争论，最终决定继续进攻。吴主孙皓因北军逼近而惊慌，臣子请求诛杀误国的岑昏，并提出出战。晋将王濬不顾风浪继续前进，吴将张象投降，孙皓效仿刘禅自缚投降，晋军占领吴国。\n"
     ]
    },
    {
     "name": "stderr",
     "output_type": "stream",
     "text": [
      "Processing 三国演义: 100%|█████████▉| 757/758 [56:23<00:04,  4.68s/it]"
     ]
    },
    {
     "name": "stdout",
     "output_type": "stream",
     "text": [
      "东吴归降晋朝，吴主孙皓被迁至洛阳，晋帝司马炎统一三国，建立一统之基。\n"
     ]
    },
    {
     "name": "stderr",
     "output_type": "stream",
     "text": [
      "Processing 三国演义: 100%|██████████| 758/758 [56:26<00:00,  4.47s/it]\n"
     ]
    },
    {
     "name": "stdout",
     "output_type": "stream",
     "text": [
      "小说讲述了诸葛亮辅佐刘备建立蜀汉，六出祁山北伐未果，最终蜀汉被曹魏所灭，三国鼎立局面结束的历史故事。\n",
      "838774\n",
      "1081\n"
     ]
    },
    {
     "name": "stderr",
     "output_type": "stream",
     "text": [
      "Processing 水浒传:   0%|          | 1/1081 [00:03<1:05:29,  3.64s/it]"
     ]
    },
    {
     "name": "stdout",
     "output_type": "stream",
     "text": [
      "宋仁宗时期，京师瘟疫盛行，仁宗听取大臣建议，派遣洪信前往龙虎山请天师张真人来京祈禳瘟疫。\n"
     ]
    },
    {
     "name": "stderr",
     "output_type": "stream",
     "text": [
      "Processing 水浒传:   0%|          | 2/1081 [00:07<1:05:43,  3.65s/it]"
     ]
    },
    {
     "name": "stdout",
     "output_type": "stream",
     "text": [
      "洪大尉询问天师所在，得知天师隐居山顶，难以请下。大尉决定斋戒沐浴，独自上山请天师以救京师瘟疫。\n"
     ]
    },
    {
     "name": "stderr",
     "output_type": "stream",
     "text": [
      "Processing 水浒传:   0%|          | 3/1081 [00:11<1:07:37,  3.76s/it]"
     ]
    },
    {
     "name": "stdout",
     "output_type": "stream",
     "text": [
      "洪太尉在道士的指引下，背负丹诏，手持银手炉，徒步上山寻找天师，途中遭遇一只吊睛白额锦毛大虫，惊吓倒地。\n"
     ]
    },
    {
     "name": "stderr",
     "output_type": "stream",
     "text": [
      "Processing 水浒传:   0%|          | 4/1081 [00:14<1:05:55,  3.67s/it]"
     ]
    },
    {
     "name": "stdout",
     "output_type": "stream",
     "text": [
      "洪大尉在山上遭遇一条大蛇，惊恐万分后，遇到一个骑黄牛吹铁笛的道童，道童对他的问话不予理睬。\n"
     ]
    },
    {
     "name": "stderr",
     "output_type": "stream",
     "text": [
      "Processing 水浒传:   0%|          | 5/1081 [00:18<1:09:41,  3.89s/it]"
     ]
    },
    {
     "name": "stdout",
     "output_type": "stream",
     "text": [
      "洪大尉上山寻找天师，途中遭遇猛兽惊吓，后遇一道童告知天师已乘鹤去东京，最终得知那道童即是天师，但已错过。\n"
     ]
    },
    {
     "name": "stderr",
     "output_type": "stream",
     "text": [
      "Processing 水浒传:   1%|          | 6/1081 [00:23<1:11:33,  3.99s/it]"
     ]
    },
    {
     "name": "stdout",
     "output_type": "stream",
     "text": [
      "大尉被邀请游山，发现一神秘的“伏魔之殿”，坚持要打开看魔王模样，不顾真人警告，威胁要上奏朝廷。\n"
     ]
    },
    {
     "name": "stderr",
     "output_type": "stream",
     "text": [
      "Processing 水浒传:   1%|          | 7/1081 [00:27<1:15:38,  4.23s/it]"
     ]
    },
    {
     "name": "stdout",
     "output_type": "stream",
     "text": [
      "洪大尉在殿中发现一个石碑，上面刻有“遇洪而开”，不顾真人劝阻，命人挖掘，结果挖出一个深穴，从中冒出黑气，引发巨大声响和破坏，黑气化为金光四散。\n"
     ]
    },
    {
     "name": "stderr",
     "output_type": "stream",
     "text": [
      "Processing 水浒传:   1%|          | 8/1081 [00:33<1:24:53,  4.75s/it]"
     ]
    },
    {
     "name": "stdout",
     "output_type": "stream",
     "text": [
      "高俅，原名高球，因擅长踢球而得名，后改名高俅。他因在东京城外帮闲被断杖并驱逐，后投靠柳世权，三年后因大赦回东京，投奔董将仕，但董将仕对其品行存疑，权且收留。\n"
     ]
    },
    {
     "name": "stderr",
     "output_type": "stream",
     "text": [
      "Processing 水浒传:   1%|          | 9/1081 [00:39<1:29:07,  4.99s/it]"
     ]
    },
    {
     "name": "stdout",
     "output_type": "stream",
     "text": [
      "董将仕推荐高俅给小苏学士，小苏学士又将高俅推荐给小王都太尉，高俅因此成为太尉亲随。太尉庆生辰时，端王因喜爱一对羊脂玉镇纸狮子，太尉承诺次日送上玉龙笔架。\n"
     ]
    },
    {
     "name": "stderr",
     "output_type": "stream",
     "text": [
      "Processing 水浒传:   1%|          | 10/1081 [00:43<1:23:21,  4.67s/it]"
     ]
    },
    {
     "name": "stdout",
     "output_type": "stream",
     "text": [
      "高俅奉命送玉玩器至端王宫中，偶因踢球技艺被端王赏识，留宿宫中，次日端王设宴请王都尉。\n"
     ]
    },
    {
     "name": "stderr",
     "output_type": "stream",
     "text": [
      "Processing 水浒传:   1%|          | 11/1081 [00:48<1:24:12,  4.72s/it]"
     ]
    },
    {
     "name": "stdout",
     "output_type": "stream",
     "text": [
      "端王因欣赏高俅的球技，将其留在宫中，后端王成为徽宗皇帝，提拔高俅至太尉。高俅上任后，因不满王进未到任，误以为其装病，命人将其捉拿。\n"
     ]
    },
    {
     "name": "stderr",
     "output_type": "stream",
     "text": [
      "Processing 水浒传:   1%|          | 12/1081 [00:51<1:19:25,  4.46s/it]"
     ]
    },
    {
     "name": "stdout",
     "output_type": "stream",
     "text": [
      "王进因病迟到被高太尉责罚，得知高太尉是其父旧敌后，决定逃往延安府投奔老种经略相公，母子二人秘密准备逃离。\n"
     ]
    },
    {
     "name": "stderr",
     "output_type": "stream",
     "text": [
      "Processing 水浒传:   1%|          | 13/1081 [00:55<1:12:46,  4.09s/it]"
     ]
    },
    {
     "name": "stdout",
     "output_type": "stream",
     "text": [
      "王进携母逃离东京，前往延安府，途中错过宿头，找到一庄院借宿，庄主太公同意他们留宿。\n"
     ]
    },
    {
     "name": "stderr",
     "output_type": "stream",
     "text": [
      "Processing 水浒传:   1%|▏         | 14/1081 [00:58<1:10:28,  3.96s/it]"
     ]
    },
    {
     "name": "stdout",
     "output_type": "stream",
     "text": [
      "王进母子因错过宿店，请求在太公庄上借宿。太公热情接待，提供食宿，并得知王进母亲心痛病发，承诺提供医治。\n"
     ]
    },
    {
     "name": "stderr",
     "output_type": "stream",
     "text": [
      "Processing 水浒传:   1%|▏         | 15/1081 [01:02<1:10:42,  3.98s/it]"
     ]
    },
    {
     "name": "stdout",
     "output_type": "stream",
     "text": [
      "王进母子在太公庄上休养后，王进观后生练棒，指出其破绽。后生不服，挑战王进，结果被王进轻易击败，最终拜王进为师。\n"
     ]
    },
    {
     "name": "stderr",
     "output_type": "stream",
     "text": [
      "Processing 水浒传:   1%|▏         | 16/1081 [01:06<1:10:42,  3.98s/it]"
     ]
    },
    {
     "name": "stdout",
     "output_type": "stream",
     "text": [
      "王进，东京八十万禁军教头，因避仇逃至华阴县，被史太公收留并教授其子史进武艺，半年后王进欲离开前往延安府，史进不舍。\n"
     ]
    },
    {
     "name": "stderr",
     "output_type": "stream",
     "text": [
      "Processing 水浒传:   2%|▏         | 17/1081 [01:12<1:21:27,  4.59s/it]"
     ]
    },
    {
     "name": "stdout",
     "output_type": "stream",
     "text": [
      "王进因担心高太尉追捕，决定离开史家庄前往延安府投军，史进和太公苦留不住，只能送行。史进回家后，父亲太公病逝，史进处理后事。之后，史进在庄上练习武艺，一日在树下乘凉时，发现猎户李吉在庄上张望，询问其原因。\n"
     ]
    },
    {
     "name": "stderr",
     "output_type": "stream",
     "text": [
      "Processing 水浒传:   2%|▏         | 18/1081 [01:17<1:24:02,  4.74s/it]"
     ]
    },
    {
     "name": "stdout",
     "output_type": "stream",
     "text": [
      "史进得知少华山有强人聚集，担心村庄安全，便召集村民商议对策，准备防御措施。同时，少华山的三位头领朱武、陈达、杨春也在商议如何应对华阴县的赏金捉拿，并计划劫掠粮食以备不时之需。\n"
     ]
    },
    {
     "name": "stderr",
     "output_type": "stream",
     "text": [
      "Processing 水浒传:   2%|▏         | 19/1081 [01:23<1:25:33,  4.83s/it]"
     ]
    },
    {
     "name": "stdout",
     "output_type": "stream",
     "text": [
      "陈达与杨春、朱武讨论攻打华阴县或蒲城县，陈达坚持攻打华阴县，不顾杨春和朱武的反对，决定先攻打史家庄，史进组织庄户抵抗，双方在村北路口对峙。\n"
     ]
    },
    {
     "name": "stderr",
     "output_type": "stream",
     "text": [
      "Processing 水浒传:   2%|▏         | 20/1081 [01:26<1:19:51,  4.52s/it]"
     ]
    },
    {
     "name": "stdout",
     "output_type": "stream",
     "text": [
      "史进与陈达因借路问题发生冲突，史进战胜并俘虏了陈达，朱武和杨春计划救援陈达。\n"
     ]
    },
    {
     "name": "stderr",
     "output_type": "stream",
     "text": [
      "Processing 水浒传:   2%|▏         | 21/1081 [01:30<1:17:56,  4.41s/it]"
     ]
    },
    {
     "name": "stdout",
     "output_type": "stream",
     "text": [
      "史进捉住陈达后，朱武、杨春以义气感动史进，史进释放陈达并设宴款待三人，后朱武等送金感谢史进的不杀之恩。\n"
     ]
    },
    {
     "name": "stderr",
     "output_type": "stream",
     "text": [
      "Processing 水浒传:   2%|▏         | 22/1081 [01:34<1:14:54,  4.24s/it]"
     ]
    },
    {
     "name": "stdout",
     "output_type": "stream",
     "text": [
      "史进与山寨头领朱武等互赠礼物，中秋邀请他们赏月，王四送信途中醉酒，李吉发现回信和银子。\n"
     ]
    },
    {
     "name": "stderr",
     "output_type": "stream",
     "text": [
      "Processing 水浒传:   2%|▏         | 23/1081 [01:38<1:14:14,  4.21s/it]"
     ]
    },
    {
     "name": "stdout",
     "output_type": "stream",
     "text": [
      "李吉发现少华山三贼人的消息，决定去领赏，而庄客王四丢失了回信，选择隐瞒实情，史进则准备迎接少华山的三位头领共度中秋。\n"
     ]
    },
    {
     "name": "stderr",
     "output_type": "stream",
     "text": [
      "Processing 水浒传:   2%|▏         | 24/1081 [01:42<1:11:40,  4.07s/it]"
     ]
    },
    {
     "name": "stdout",
     "output_type": "stream",
     "text": [
      "史进和三个头领在家中聚会时，被华阴县尉带领的士兵包围。史进决定与头领们同生共死，并设法应对突发的危机。\n"
     ]
    },
    {
     "name": "stderr",
     "output_type": "stream",
     "text": [
      "Processing 水浒传:   2%|▏         | 25/1081 [01:46<1:12:42,  4.13s/it]"
     ]
    },
    {
     "name": "stdout",
     "output_type": "stream",
     "text": [
      "史进与三位头领放火烧庄，杀敌后逃至少华山，后决定离开寻找师父王教头，留下庄客，独自踏上旅程。\n"
     ]
    },
    {
     "name": "stderr",
     "output_type": "stream",
     "text": [
      "Processing 水浒传:   2%|▏         | 26/1081 [01:50<1:09:11,  3.94s/it]"
     ]
    },
    {
     "name": "stdout",
     "output_type": "stream",
     "text": [
      "史进离开少华山，前往渭州寻找师父王进，偶遇鲁提辖，得知王进不在渭州，鲁提辖邀请史进去吃酒。\n"
     ]
    },
    {
     "name": "stderr",
     "output_type": "stream",
     "text": [
      "Processing 水浒传:   2%|▏         | 27/1081 [01:55<1:13:56,  4.21s/it]"
     ]
    },
    {
     "name": "stdout",
     "output_type": "stream",
     "text": [
      "史进在街上偶遇其师父“打虎将”李忠，鲁提辖邀请李忠一同饮酒，但李忠需先卖膏药。鲁达不耐烦，驱散围观人群，三人随后前往潘家酒店饮酒，期间鲁达因隔壁哭声而焦躁。\n"
     ]
    },
    {
     "name": "stderr",
     "output_type": "stream",
     "text": [
      "Processing 水浒传:   3%|▎         | 28/1081 [01:58<1:10:58,  4.04s/it]"
     ]
    },
    {
     "name": "stdout",
     "output_type": "stream",
     "text": [
      "鲁提辖在酒楼遇到因被“镇关西”郑屠欺压而啼哭的父女，得知他们的遭遇后，鲁达愤怒地表示要去教训郑屠。\n"
     ]
    },
    {
     "name": "stderr",
     "output_type": "stream",
     "text": [
      "Processing 水浒传:   3%|▎         | 29/1081 [02:02<1:08:30,  3.91s/it]"
     ]
    },
    {
     "name": "stdout",
     "output_type": "stream",
     "text": [
      "鲁提辖帮助金老父女筹集盘缠回乡，与史进、李忠借钱，次日帮助他们离开，并打伤阻拦的店小二。\n"
     ]
    },
    {
     "name": "stderr",
     "output_type": "stream",
     "text": [
      "Processing 水浒传:   3%|▎         | 30/1081 [02:05<1:04:39,  3.69s/it]"
     ]
    },
    {
     "name": "stdout",
     "output_type": "stream",
     "text": [
      "鲁达为保护金老父女，在店里等待确保他们安全离开后，前往郑屠肉店故意刁难，最终引发冲突。\n"
     ]
    },
    {
     "name": "stderr",
     "output_type": "stream",
     "text": [
      "Processing 水浒传:   3%|▎         | 31/1081 [02:09<1:02:48,  3.59s/it]"
     ]
    },
    {
     "name": "stdout",
     "output_type": "stream",
     "text": [
      "鲁达因郑屠强骗金翠莲，三拳打死郑屠后逃离现场，郑屠最终死亡，鲁达逃亡。\n"
     ]
    },
    {
     "name": "stderr",
     "output_type": "stream",
     "text": [
      "Processing 水浒传:   3%|▎         | 32/1081 [02:13<1:05:49,  3.77s/it]"
     ]
    },
    {
     "name": "stdout",
     "output_type": "stream",
     "text": [
      "鲁达因性格卤莽打死郑屠，经略命府尹依法捉拿，但鲁达已逃，府尹发布广捕文书追捕，鲁达东逃西奔，匆忙间行过数州。\n"
     ]
    },
    {
     "name": "stderr",
     "output_type": "stream",
     "text": [
      "Processing 水浒传:   3%|▎         | 33/1081 [02:16<1:04:14,  3.68s/it]"
     ]
    },
    {
     "name": "stdout",
     "output_type": "stream",
     "text": [
      "鲁达因打死郑屠逃至代州雁门县，误入人群看榜，被金老救出，金老带鲁达回家避难。\n"
     ]
    },
    {
     "name": "stderr",
     "output_type": "stream",
     "text": [
      "Processing 水浒传:   3%|▎         | 34/1081 [02:20<1:07:08,  3.85s/it]"
     ]
    },
    {
     "name": "stdout",
     "output_type": "stream",
     "text": [
      "鲁达救过的金老父女感激其恩，设宴款待，期间遭遇误会，赵员外误以为金老引外人上楼，后误会解除，赵员外对鲁达表示敬意。\n"
     ]
    },
    {
     "name": "stderr",
     "output_type": "stream",
     "text": [
      "Processing 水浒传:   3%|▎         | 35/1081 [02:25<1:09:54,  4.01s/it]"
     ]
    },
    {
     "name": "stdout",
     "output_type": "stream",
     "text": [
      "鲁达因打死郑屠逃至赵员外庄上，赵员外热情款待并提议鲁达去五台山避难。\n"
     ]
    },
    {
     "name": "stderr",
     "output_type": "stream",
     "text": [
      "Processing 水浒传:   3%|▎         | 36/1081 [02:29<1:09:50,  4.01s/it]"
     ]
    },
    {
     "name": "stdout",
     "output_type": "stream",
     "text": [
      "赵员外提议鲁达成为和尚，鲁达同意后，两人前往五台山文殊院，赵员外请求智真长老剃度鲁达，长老应允。\n"
     ]
    },
    {
     "name": "stderr",
     "output_type": "stream",
     "text": [
      "Processing 水浒传:   3%|▎         | 37/1081 [02:33<1:12:39,  4.18s/it]"
     ]
    },
    {
     "name": "stdout",
     "output_type": "stream",
     "text": [
      "赵员外的兄弟鲁达欲出家，虽相貌凶恶，长老通过入定确认其未来将得清净证果，决定剃度他，并赐法名智深。\n"
     ]
    },
    {
     "name": "stderr",
     "output_type": "stream",
     "text": [
      "Processing 水浒传:   4%|▎         | 38/1081 [02:38<1:13:35,  4.23s/it]"
     ]
    },
    {
     "name": "stdout",
     "output_type": "stream",
     "text": [
      "赵员外将鲁智深送入寺庙受戒，智深接受三皈五戒后，赵员外嘱咐智深遵守规矩，智深在寺中行为不检，长老却因其未来证果非凡而宽容。\n"
     ]
    },
    {
     "name": "stderr",
     "output_type": "stream",
     "text": [
      "Processing 水浒传:   4%|▎         | 39/1081 [02:42<1:11:15,  4.10s/it]"
     ]
    },
    {
     "name": "stdout",
     "output_type": "stream",
     "text": [
      "鲁智深在五台山寺中因久静思动，外出遇到卖酒汉子，因无法购买酒吃而强行夺取并喝掉一桶酒，汉子无奈离去。\n"
     ]
    },
    {
     "name": "stderr",
     "output_type": "stream",
     "text": [
      "Processing 水浒传:   4%|▎         | 40/1081 [02:45<1:06:01,  3.81s/it]"
     ]
    },
    {
     "name": "stdout",
     "output_type": "stream",
     "text": [
      "鲁智深醉酒上山，与门子发生冲突并打斗，后被长老制止，但引起寺内僧人不满。\n"
     ]
    },
    {
     "name": "stderr",
     "output_type": "stream",
     "text": [
      "Processing 水浒传:   4%|▍         | 41/1081 [02:49<1:06:16,  3.82s/it]"
     ]
    },
    {
     "name": "stdout",
     "output_type": "stream",
     "text": [
      "鲁智深因醉酒闹事被长老训诫，后因天气暖和下山，发现市井，寻思买些食物，听到打铁声，询问铁匠是否有好钢铁。\n"
     ]
    },
    {
     "name": "stderr",
     "output_type": "stream",
     "text": [
      "Processing 水浒传:   4%|▍         | 42/1081 [02:54<1:14:33,  4.31s/it]"
     ]
    },
    {
     "name": "stdout",
     "output_type": "stream",
     "text": [
      "智深请求铁匠打造一条重达一百斤的禅杖和戒刀，最终决定打造六十二斤的禅杖和八十一斤的戒刀，并支付五两银子。之后，智深尝试在两家酒店买酒，但因寺院规定，店家拒绝卖酒给他。\n"
     ]
    },
    {
     "name": "stderr",
     "output_type": "stream",
     "text": [
      "Processing 水浒传:   4%|▍         | 43/1081 [02:57<1:10:08,  4.05s/it]"
     ]
    },
    {
     "name": "stdout",
     "output_type": "stream",
     "text": [
      "智深在多家酒店被拒后，找到一家小酒店买酒吃肉，大吃大喝后破坏了半山亭子，然后摇摇晃晃上山。\n"
     ]
    },
    {
     "name": "stderr",
     "output_type": "stream",
     "text": [
      "Processing 水浒传:   4%|▍         | 44/1081 [03:01<1:09:11,  4.00s/it]"
     ]
    },
    {
     "name": "stdout",
     "output_type": "stream",
     "text": [
      "醉汉智深因无法进入寺庙，愤怒地破坏了山门下的金刚像，并威胁要烧毁寺庙，最终被允许进入，但他的行为令僧人们感到困扰和无奈。\n"
     ]
    },
    {
     "name": "stderr",
     "output_type": "stream",
     "text": [
      "Processing 水浒传:   4%|▍         | 45/1081 [03:05<1:04:56,  3.76s/it]"
     ]
    },
    {
     "name": "stdout",
     "output_type": "stream",
     "text": [
      "智深醉酒闹事，打翻供桌，用桌脚打伤众僧，长老制止后，决定送他离开五台山。\n"
     ]
    },
    {
     "name": "stderr",
     "output_type": "stream",
     "text": [
      "Processing 水浒传:   4%|▍         | 46/1081 [03:09<1:08:53,  3.99s/it]"
     ]
    },
    {
     "name": "stdout",
     "output_type": "stream",
     "text": [
      "长老因智深多次醉酒闹事，决定让他离开，并推荐他去东京大相国寺投靠智清禅师。智深接受长老的建议，带着长老的信和偈言，离开五台山前往东京。\n"
     ]
    },
    {
     "name": "stderr",
     "output_type": "stream",
     "text": [
      "Processing 水浒传:   4%|▍         | 47/1081 [03:13<1:07:09,  3.90s/it]"
     ]
    },
    {
     "name": "stdout",
     "output_type": "stream",
     "text": [
      "鲁智深离开五台山前往东京，因贪看山水错过宿头，欲借庄院过夜却遭庄客拒绝，后得庄主刘老汉允许留宿。\n"
     ]
    },
    {
     "name": "stderr",
     "output_type": "stream",
     "text": [
      "Processing 水浒传:   4%|▍         | 48/1081 [03:16<1:03:43,  3.70s/it]"
     ]
    },
    {
     "name": "stdout",
     "output_type": "stream",
     "text": [
      "鲁智深在桃花庄刘太公家吃晚饭，得知太公因女儿被迫嫁给山贼而烦恼，鲁智深提出帮助太公解决问题。\n"
     ]
    },
    {
     "name": "stderr",
     "output_type": "stream",
     "text": [
      "Processing 水浒传:   5%|▍         | 49/1081 [03:22<1:13:32,  4.28s/it]"
     ]
    },
    {
     "name": "stdout",
     "output_type": "stream",
     "text": [
      "智深帮助太公劝回女儿，太公感激并款待智深，智深在房中准备应对即将到来的大王，大王带着人马来到庄上，太公迎接并试图安抚大王。\n"
     ]
    },
    {
     "name": "stderr",
     "output_type": "stream",
     "text": [
      "Processing 水浒传:   5%|▍         | 50/1081 [03:27<1:21:03,  4.72s/it]"
     ]
    },
    {
     "name": "stdout",
     "output_type": "stream",
     "text": [
      "刘太公引导大王到新房，大王误将鲁智深当作新娘，被鲁智深暴打，最终大王逃出，鲁智深用禅杖击退小喽罗。\n"
     ]
    },
    {
     "name": "stderr",
     "output_type": "stream",
     "text": [
      "Processing 水浒传:   5%|▍         | 51/1081 [03:33<1:24:59,  4.95s/it]"
     ]
    },
    {
     "name": "stdout",
     "output_type": "stream",
     "text": [
      "大王因心慌未解缰绳而责骂刘太公，鲁智深安慰太公并展示力量，太公担忧强人报复，鲁智深保证保护他们，桃花山大头领得知二头领被鲁智深打伤，决定报仇。\n"
     ]
    },
    {
     "name": "stderr",
     "output_type": "stream",
     "text": [
      "Processing 水浒传:   5%|▍         | 52/1081 [03:37<1:18:31,  4.58s/it]"
     ]
    },
    {
     "name": "stdout",
     "output_type": "stream",
     "text": [
      "鲁智深在庄上被李忠带领的山贼围攻，两人在打斗中相认，原来是旧识，随后鲁智深向李忠解释了自己成为和尚的经过。\n"
     ]
    },
    {
     "name": "stderr",
     "output_type": "stream",
     "text": [
      "Processing 水浒传:   5%|▍         | 53/1081 [03:42<1:23:14,  4.86s/it]"
     ]
    },
    {
     "name": "stdout",
     "output_type": "stream",
     "text": [
      "鲁智深因酒后闹事被派往东京大相国寺，途中在庄上偶遇李忠，得知李忠已成为桃花山寨主。鲁智深劝周通放弃与刘太公女儿的婚事，周通同意后，众人庆祝并安排鲁智深在山寨暂住。\n"
     ]
    },
    {
     "name": "stderr",
     "output_type": "stream",
     "text": [
      "Processing 水浒传:   5%|▍         | 54/1081 [03:46<1:17:08,  4.51s/it]"
     ]
    },
    {
     "name": "stdout",
     "output_type": "stream",
     "text": [
      "鲁智深在桃花山因不满李忠和周通的小气，趁他们下山抢劫时，偷走金银酒器后滚下山逃离。\n"
     ]
    },
    {
     "name": "stderr",
     "output_type": "stream",
     "text": [
      "Processing 水浒传:   5%|▌         | 55/1081 [03:51<1:21:44,  4.78s/it]"
     ]
    },
    {
     "name": "stdout",
     "output_type": "stream",
     "text": [
      "李忠和周通抢劫一伙客人，客人中有人反抗，但最终被击败。回到寨子后发现被鲁智深偷袭，金银酒器被盗。周通和李忠决定不再追击鲁智深，而是分赃。鲁智深离开桃花山后，饥饿中寻找食物和住处。\n"
     ]
    },
    {
     "name": "stderr",
     "output_type": "stream",
     "text": [
      "Processing 水浒传:   5%|▌         | 56/1081 [03:55<1:14:21,  4.35s/it]"
     ]
    },
    {
     "name": "stdout",
     "output_type": "stream",
     "text": [
      "鲁智深在败落的瓦官寺发现几个饥饿的老和尚，得知寺院被两个恶僧破坏，决定帮助他们。\n"
     ]
    },
    {
     "name": "stderr",
     "output_type": "stream",
     "text": [
      "Processing 水浒传:   5%|▌         | 57/1081 [03:59<1:13:41,  4.32s/it]"
     ]
    },
    {
     "name": "stdout",
     "output_type": "stream",
     "text": [
      "智深发现老和尚们煮粥却谎称无饭，自己动手吃粥后，遇到道人邱小乙，跟随其至一处，发现一胖和尚与妇人共餐，智深质问胖和尚为何废寺。\n"
     ]
    },
    {
     "name": "stderr",
     "output_type": "stream",
     "text": [
      "Processing 水浒传:   5%|▌         | 58/1081 [04:02<1:07:50,  3.98s/it]"
     ]
    },
    {
     "name": "stdout",
     "output_type": "stream",
     "text": [
      "智深得知寺庙被老和尚败坏，决定整顿，与崔道成和邱道人战斗，最终揭露老和尚的谎言。\n"
     ]
    },
    {
     "name": "stderr",
     "output_type": "stream",
     "text": [
      "Processing 水浒传:   5%|▌         | 59/1081 [04:05<1:05:02,  3.82s/it]"
     ]
    },
    {
     "name": "stdout",
     "output_type": "stream",
     "text": [
      "鲁智深因饥饿和疲惫，不敌两名对手，逃至石桥下休息。后在赤松林遇到史进，两人相认并坐谈。\n"
     ]
    },
    {
     "name": "stderr",
     "output_type": "stream",
     "text": [
      "Processing 水浒传:   6%|▌         | 60/1081 [04:09<1:04:27,  3.79s/it]"
     ]
    },
    {
     "name": "stdout",
     "output_type": "stream",
     "text": [
      "智深和史进在瓦官寺与崔道成、邱小乙激战，最终智深和史进联手击败对手，取回包裹，而寺中其他人已自尽。\n"
     ]
    },
    {
     "name": "stderr",
     "output_type": "stream",
     "text": [
      "Processing 水浒传:   6%|▌         | 61/1081 [04:13<1:06:00,  3.88s/it]"
     ]
    },
    {
     "name": "stdout",
     "output_type": "stream",
     "text": [
      "智深与史进放火烧屋后逃离，途中在酒店休息并分道扬镳，智深前往东京寻找大相国寺，最终带着师傅的信件投靠寺中。\n"
     ]
    },
    {
     "name": "stderr",
     "output_type": "stream",
     "text": [
      "Processing 水浒传:   6%|▌         | 62/1081 [04:17<1:03:51,  3.76s/it]"
     ]
    },
    {
     "name": "stdout",
     "output_type": "stream",
     "text": [
      "鲁智深从五台山来到另一寺庙，因不熟悉礼仪而闹出笑话，后被安排去管理酸枣门外的大菜园。\n"
     ]
    },
    {
     "name": "stderr",
     "output_type": "stream",
     "text": [
      "Processing 水浒传:   6%|▌         | 63/1081 [04:20<1:02:09,  3.66s/it]"
     ]
    },
    {
     "name": "stdout",
     "output_type": "stream",
     "text": [
      "鲁智深被派去管菜园，不满职位低微，但得知有晋升机会后决定接受，同时园外泼皮计划给他下马威。\n"
     ]
    },
    {
     "name": "stderr",
     "output_type": "stream",
     "text": [
      "Processing 水浒传:   6%|▌         | 64/1081 [04:26<1:13:07,  4.31s/it]"
     ]
    },
    {
     "name": "stdout",
     "output_type": "stream",
     "text": [
      "一群泼皮计划在粪窖边捉弄新来的和尚鲁智深，但鲁智深机警，反将两个为首的泼皮踢入粪窖，震慑了其他泼皮。\n"
     ]
    },
    {
     "name": "stderr",
     "output_type": "stream",
     "text": [
      "Processing 水浒传:   6%|▌         | 65/1081 [04:31<1:18:33,  4.64s/it]"
     ]
    },
    {
     "name": "stdout",
     "output_type": "stream",
     "text": [
      "智深发现一群泼皮在菜园捣乱，揭露他们身份后，泼皮们表示愿意服侍智深。智深接受他们的道歉，并与他们共饮庆祝。后来，他们一起拆除了树上烦人的老鸦巢。\n"
     ]
    },
    {
     "name": "stderr",
     "output_type": "stream",
     "text": [
      "Processing 水浒传:   6%|▌         | 66/1081 [04:36<1:18:32,  4.64s/it]"
     ]
    },
    {
     "name": "stdout",
     "output_type": "stream",
     "text": [
      "鲁智深展示超凡力量，拔起绿杨树，赢得众泼皮敬仰，并开始每日演武使拳。后智深设宴还礼，展示铁杖武艺，吸引林冲注意，两人槐树下相见。\n"
     ]
    },
    {
     "name": "stderr",
     "output_type": "stream",
     "text": [
      "Processing 水浒传:   6%|▌         | 67/1081 [04:41<1:20:01,  4.74s/it]"
     ]
    },
    {
     "name": "stdout",
     "output_type": "stream",
     "text": [
      "林冲在岳庙偶遇结义兄弟智深，正交谈间，得知妻子被高衙内调戏，林冲急忙前去阻止，但认出是高太尉的干儿子后犹豫，智深随后带人赶来助阵。\n"
     ]
    },
    {
     "name": "stderr",
     "output_type": "stream",
     "text": [
      "Processing 水浒传:   6%|▋         | 68/1081 [04:46<1:20:43,  4.78s/it]"
     ]
    },
    {
     "name": "stdout",
     "output_type": "stream",
     "text": [
      "林冲因高衙内调戏其妻而犹豫是否出手，鲁智深则表示愿意帮助。高衙内因迷恋林冲妻而闷闷不乐，富安提出利用陆谦诱林冲离开，以便高衙内接近林冲妻。\n"
     ]
    },
    {
     "name": "stderr",
     "output_type": "stream",
     "text": [
      "Processing 水浒传:   6%|▋         | 69/1081 [04:50<1:18:38,  4.66s/it]"
     ]
    },
    {
     "name": "stdout",
     "output_type": "stream",
     "text": [
      "小闲设计诱骗林冲娘子到楼上，高衙内赞赏此计。陆虞候与林冲外出饮酒，林冲在酒楼中被设计离开，陆虞候趁机诱骗林冲娘子。\n"
     ]
    },
    {
     "name": "stderr",
     "output_type": "stream",
     "text": [
      "Processing 水浒传:   6%|▋         | 70/1081 [04:54<1:16:26,  4.54s/it]"
     ]
    },
    {
     "name": "stdout",
     "output_type": "stream",
     "text": [
      "林冲的妻子被高衙内困在陆虞候家楼上，林冲及时赶到救出妻子，之后寻找陆虞候和高衙内未果，心情郁闷，与鲁智深每日上街饮酒消愁。\n"
     ]
    },
    {
     "name": "stderr",
     "output_type": "stream",
     "text": [
      "Processing 水浒传:   7%|▋         | 71/1081 [04:58<1:12:47,  4.32s/it]"
     ]
    },
    {
     "name": "stdout",
     "output_type": "stream",
     "text": [
      "陆虞候和富安为救治衙内，计划通过太尉高俅杀害林冲，以满足衙内对林冲妻子的欲望，从而治愈衙内的病。\n"
     ]
    },
    {
     "name": "stderr",
     "output_type": "stream",
     "text": [
      "Processing 水浒传:   7%|▋         | 72/1081 [05:02<1:09:17,  4.12s/it]"
     ]
    },
    {
     "name": "stdout",
     "output_type": "stream",
     "text": [
      "林冲在东京街头偶遇一汉子卖刀，以一千贯买下，发现是宝刀，次日被高太尉召去比刀，却陷入陷阱。\n"
     ]
    },
    {
     "name": "stderr",
     "output_type": "stream",
     "text": [
      "Processing 水浒传:   7%|▋         | 73/1081 [05:05<1:04:39,  3.85s/it]"
     ]
    },
    {
     "name": "stdout",
     "output_type": "stream",
     "text": [
      "林冲被诱入白虎节堂，高太尉指控其持刀行刺，林冲被捕并送往开封府受审。\n"
     ]
    },
    {
     "name": "stderr",
     "output_type": "stream",
     "text": [
      "Processing 水浒传:   7%|▋         | 74/1081 [05:10<1:08:11,  4.06s/it]"
     ]
    },
    {
     "name": "stdout",
     "output_type": "stream",
     "text": [
      "林冲因被高太尉陷害，误入节堂，被判脊杖二十并刺配沧州牢城，府尹在孙定的帮助下，虽知林冲冤屈，但碍于高俅的权势，只能如此判决。\n"
     ]
    },
    {
     "name": "stderr",
     "output_type": "stream",
     "text": [
      "Processing 水浒传:   7%|▋         | 75/1081 [05:14<1:09:03,  4.12s/it]"
     ]
    },
    {
     "name": "stdout",
     "output_type": "stream",
     "text": [
      "林冲因官司被押送沧州，途中在酒店与丈人张教头及邻舍告别，请求立休书以免妻子受牵连，张教头虽不情愿但最终同意。\n"
     ]
    },
    {
     "name": "stderr",
     "output_type": "stream",
     "text": [
      "Processing 水浒传:   7%|▋         | 76/1081 [05:19<1:13:16,  4.38s/it]"
     ]
    },
    {
     "name": "stdout",
     "output_type": "stream",
     "text": [
      "林冲因遭冤屈被发配沧州，临行前向妻子表达休妻之意，希望她另寻良缘。妻子不愿，林冲的岳父张教头承诺照顾女儿。林冲离开后，董超被一位神秘官人邀请至酒店商谈。\n"
     ]
    },
    {
     "name": "stderr",
     "output_type": "stream",
     "text": [
      "Processing 水浒传:   7%|▋         | 77/1081 [05:25<1:22:45,  4.95s/it]"
     ]
    },
    {
     "name": "stdout",
     "output_type": "stream",
     "text": [
      "陆虞候贿赂董超和薛霸，要求他们在押送林冲去沧州的途中将其杀害，二人接受贿赂并计划在途中执行命令。\n"
     ]
    },
    {
     "name": "stderr",
     "output_type": "stream",
     "text": [
      "Processing 水浒传:   7%|▋         | 78/1081 [05:29<1:17:57,  4.66s/it]"
     ]
    },
    {
     "name": "stdout",
     "output_type": "stream",
     "text": [
      "林冲因棒疮发作，行走困难，被薛霸和董超催促赶路，夜晚林冲请二人喝酒，却被薛霸用滚水烫伤脚，次日穿着新草鞋继续艰难前行。\n"
     ]
    },
    {
     "name": "stderr",
     "output_type": "stream",
     "text": [
      "Processing 水浒传:   7%|▋         | 79/1081 [05:33<1:12:02,  4.31s/it]"
     ]
    },
    {
     "name": "stdout",
     "output_type": "stream",
     "text": [
      "林冲因脚伤行走困难，被押送至野猪林，两公人欲在此处执行高太尉的命令杀害林冲。\n"
     ]
    },
    {
     "name": "stderr",
     "output_type": "stream",
     "text": [
      "Processing 水浒传:   7%|▋         | 80/1081 [05:37<1:10:37,  4.23s/it]"
     ]
    },
    {
     "name": "stdout",
     "output_type": "stream",
     "text": [
      "林冲被高太尉陷害，押送途中险遭杀害，幸得鲁智深及时出现相救，最终鲁智深决定不杀押送的公人，一行人继续前行。\n"
     ]
    },
    {
     "name": "stderr",
     "output_type": "stream",
     "text": [
      "Processing 水浒传:   7%|▋         | 81/1081 [05:40<1:06:30,  3.99s/it]"
     ]
    },
    {
     "name": "stdout",
     "output_type": "stream",
     "text": [
      "鲁智深保护林冲前往沧州，途中严格控制两个公人，最终在接近沧州时与林冲分手，留下银子并警告两个公人。\n"
     ]
    },
    {
     "name": "stderr",
     "output_type": "stream",
     "text": [
      "Processing 水浒传:   8%|▊         | 82/1081 [05:44<1:03:49,  3.83s/it]"
     ]
    },
    {
     "name": "stdout",
     "output_type": "stream",
     "text": [
      "鲁智深警告两个公人不要对林冲有歹心，展示力量后离开。林冲和公人在酒店得知柴进的好意，决定前往投奔。\n"
     ]
    },
    {
     "name": "stderr",
     "output_type": "stream",
     "text": [
      "Processing 水浒传:   8%|▊         | 83/1081 [05:48<1:04:28,  3.88s/it]"
     ]
    },
    {
     "name": "stdout",
     "output_type": "stream",
     "text": [
      "林冲因得罪高太尉被流配至沧州，前往投靠柴大官人，途中得知柴进外出打猎，失望返回时偶遇柴进，两人相见并受到热情接待。\n"
     ]
    },
    {
     "name": "stderr",
     "output_type": "stream",
     "text": [
      "Processing 水浒传:   8%|▊         | 84/1081 [05:51<1:02:17,  3.75s/it]"
     ]
    },
    {
     "name": "stdout",
     "output_type": "stream",
     "text": [
      "柴进热情款待林冲，提供酒肉和钱财，但洪教头态度傲慢，不尊重林冲，柴进对此感到不满。\n"
     ]
    },
    {
     "name": "stderr",
     "output_type": "stream",
     "text": [
      "Processing 水浒传:   8%|▊         | 85/1081 [05:55<1:04:19,  3.88s/it]"
     ]
    },
    {
     "name": "stdout",
     "output_type": "stream",
     "text": [
      "柴进想看林冲的本事，安排他与洪教头比武，林冲因戴着枷锁而未尽全力，柴进随后解开枷锁，希望林冲能展示真本领。\n"
     ]
    },
    {
     "name": "stderr",
     "output_type": "stream",
     "text": [
      "Processing 水浒传:   8%|▊         | 86/1081 [05:58<1:00:26,  3.64s/it]"
     ]
    },
    {
     "name": "stdout",
     "output_type": "stream",
     "text": [
      "林冲在柴进的庄上与伴教头比试武艺，获胜后得到银子和柴进的帮助，随后前往沧州。\n"
     ]
    },
    {
     "name": "stderr",
     "output_type": "stream",
     "text": [
      "Processing 水浒传:   8%|▊         | 87/1081 [06:03<1:05:07,  3.93s/it]"
     ]
    },
    {
     "name": "stdout",
     "output_type": "stream",
     "text": [
      "林冲被送到牢城营，得知管营和差拨会勒索钱财，若无钱则受严惩。林冲送银子给差拨和管营，差拨态度大变，承诺帮助林冲免受杀威棒之苦。\n"
     ]
    },
    {
     "name": "stderr",
     "output_type": "stream",
     "text": [
      "Processing 水浒传:   8%|▊         | 88/1081 [06:07<1:07:52,  4.10s/it]"
     ]
    },
    {
     "name": "stdout",
     "output_type": "stream",
     "text": [
      "林冲因贿赂差拨和管营，免受刑罚并被派去看守天王堂，后得柴大官人关照，生活渐稳，但一日外出时偶遇神秘人，引发新危机。\n"
     ]
    },
    {
     "name": "stderr",
     "output_type": "stream",
     "text": [
      "Processing 水浒传:   8%|▊         | 89/1081 [06:12<1:09:11,  4.19s/it]"
     ]
    },
    {
     "name": "stdout",
     "output_type": "stream",
     "text": [
      "林冲在沧州偶遇曾受其恩的李小二，李小二已成家立业，感激林冲昔日救助，常照顾林冲。一日，两名神秘人来到李小二酒店，要求请管营和差拨来谈话。\n"
     ]
    },
    {
     "name": "stderr",
     "output_type": "stream",
     "text": [
      "Processing 水浒传:   8%|▊         | 90/1081 [06:16<1:08:20,  4.14s/it]"
     ]
    },
    {
     "name": "stdout",
     "output_type": "stream",
     "text": [
      "李小二在酒店接待一位官人和管营、差拨，听到他们提及“高太尉”并密谋杀害某人，怀疑与林教头有关，决定暗中观察。\n"
     ]
    },
    {
     "name": "stderr",
     "output_type": "stream",
     "text": [
      "Processing 水浒传:   8%|▊         | 91/1081 [06:20<1:07:27,  4.09s/it]"
     ]
    },
    {
     "name": "stdout",
     "output_type": "stream",
     "text": [
      "林冲得知有人密谋害他，怀疑是陆虞候，四处寻找未果。后被调往大军草料场，心存疑虑但接受任务。\n"
     ]
    },
    {
     "name": "stderr",
     "output_type": "stream",
     "text": [
      "Processing 水浒传:   9%|▊         | 92/1081 [06:25<1:13:37,  4.47s/it]"
     ]
    },
    {
     "name": "stdout",
     "output_type": "stream",
     "text": [
      "林冲与差拨前往草料场，途中遭遇大雪，到达后与老军交接，老军指示购买酒食的地点。林冲随后外出买酒，途中经过古庙并祈求庇佑。\n"
     ]
    },
    {
     "name": "stderr",
     "output_type": "stream",
     "text": [
      "Processing 水浒传:   9%|▊         | 93/1081 [06:29<1:11:32,  4.34s/it]"
     ]
    },
    {
     "name": "stdout",
     "output_type": "stream",
     "text": [
      "林冲在草料场遭遇大雪，草厅被雪压倒，他到古庙避雪，发现草料场起火，听到有人阴谋陷害他，幸得大雪救命。\n"
     ]
    },
    {
     "name": "stderr",
     "output_type": "stream",
     "text": [
      "Processing 水浒传:   9%|▊         | 94/1081 [06:34<1:12:22,  4.40s/it]"
     ]
    },
    {
     "name": "stdout",
     "output_type": "stream",
     "text": [
      "林冲在草料场被陆虞候、富安和差拨设计烧死，幸免于难后，林冲反击，杀死三人，并将他们的头颅摆在山神面前供桌上。\n"
     ]
    },
    {
     "name": "stderr",
     "output_type": "stream",
     "text": [
      "Processing 水浒传:   9%|▉         | 95/1081 [06:37<1:08:08,  4.15s/it]"
     ]
    },
    {
     "name": "stdout",
     "output_type": "stream",
     "text": [
      "林冲在雪夜逃离草料场，途中寻求村民帮助未果，后因索酒与村民冲突，打斗后醉酒倒地，被村民捉拿。\n"
     ]
    },
    {
     "name": "stderr",
     "output_type": "stream",
     "text": [
      "Processing 水浒传:   9%|▉         | 96/1081 [06:42<1:08:26,  4.17s/it]"
     ]
    },
    {
     "name": "stdout",
     "output_type": "stream",
     "text": [
      "林冲醉倒雪地被庄客绑缚至庄院吊起，后被柴进解救并留在东庄，同时沧州官府正缉捕林冲因他涉嫌杀人放火。\n"
     ]
    },
    {
     "name": "stderr",
     "output_type": "stream",
     "text": [
      "Processing 水浒传:   9%|▉         | 97/1081 [06:45<1:05:49,  4.01s/it]"
     ]
    },
    {
     "name": "stdout",
     "output_type": "stream",
     "text": [
      "林冲因官司追捕，请求柴进帮助逃离，柴进建议他投奔梁山泊，并设计帮助林冲混过关卡，最终林冲成功离开。\n"
     ]
    },
    {
     "name": "stderr",
     "output_type": "stream",
     "text": [
      "Processing 水浒传:   9%|▉         | 98/1081 [06:49<1:05:48,  4.02s/it]"
     ]
    },
    {
     "name": "stdout",
     "output_type": "stream",
     "text": [
      "林冲告别柴进后，在雪中行进多日，到达一家酒店，询问前往梁山泊的路程，得知需船只渡过水路，但因大雪天晚，无法找到船只。\n"
     ]
    },
    {
     "name": "stderr",
     "output_type": "stream",
     "text": [
      "Processing 水浒传:   9%|▉         | 99/1081 [06:53<1:02:21,  3.81s/it]"
     ]
    },
    {
     "name": "stdout",
     "output_type": "stream",
     "text": [
      "林冲因被高俅陷害而流亡，酒后在墙上题诗表达悲愤，后被朱贵发现并邀请加入梁山泊。\n"
     ]
    },
    {
     "name": "stderr",
     "output_type": "stream",
     "text": [
      "Processing 水浒传:   9%|▉         | 100/1081 [06:56<58:51,  3.60s/it] "
     ]
    },
    {
     "name": "stdout",
     "output_type": "stream",
     "text": [
      "林冲因被陷害逃至梁山泊，得到朱贵帮助，最终安全到达山寨并受到王伦等人的接待。\n"
     ]
    },
    {
     "name": "stderr",
     "output_type": "stream",
     "text": [
      "Processing 水浒传:   9%|▉         | 101/1081 [07:00<1:01:33,  3.77s/it]"
     ]
    },
    {
     "name": "stdout",
     "output_type": "stream",
     "text": [
      "林冲因杀死三人逃至柴大官人家，被举荐入伙，但王伦担心林冲武艺高强，不愿留他，最终在朱贵等人的劝说下，林冲得以留下。\n"
     ]
    },
    {
     "name": "stderr",
     "output_type": "stream",
     "text": [
      "Processing 水浒传:   9%|▉         | 102/1081 [07:04<1:00:59,  3.74s/it]"
     ]
    },
    {
     "name": "stdout",
     "output_type": "stream",
     "text": [
      "林冲因犯重罪投奔王伦，被要求交投名状（杀一人献头）以证明忠诚，但连续两日未能成功，面临被驱逐的危机。\n"
     ]
    },
    {
     "name": "stderr",
     "output_type": "stream",
     "text": [
      "Processing 水浒传:  10%|▉         | 103/1081 [07:07<59:52,  3.67s/it]  "
     ]
    },
    {
     "name": "stdout",
     "output_type": "stream",
     "text": [
      "林冲被高俅陷害后流落他乡，尝试取投名状未果，遇到一汉子逃脱，后与另一大汉激烈对峙。\n"
     ]
    },
    {
     "name": "stderr",
     "output_type": "stream",
     "text": [
      "Processing 水浒传:  10%|▉         | 104/1081 [07:11<1:00:58,  3.74s/it]"
     ]
    },
    {
     "name": "stdout",
     "output_type": "stream",
     "text": [
      "林冲与杨志在雪后斗刀，不分胜负时被王伦叫停，王伦邀请杨志上山寨，设宴款待，并考虑留下杨志以制衡林冲。\n"
     ]
    },
    {
     "name": "stderr",
     "output_type": "stream",
     "text": [
      "Processing 水浒传:  10%|▉         | 105/1081 [07:15<1:03:49,  3.92s/it]"
     ]
    },
    {
     "name": "stdout",
     "output_type": "stream",
     "text": [
      "林冲因得罪高太尉被刺配沧州，后落草梁山，劝杨志入伙，但杨志欲往东京寻亲，最终因失陷花石纲被高太尉赶出殿帅府。\n"
     ]
    },
    {
     "name": "stderr",
     "output_type": "stream",
     "text": [
      "Processing 水浒传:  10%|▉         | 106/1081 [07:21<1:11:49,  4.42s/it]"
     ]
    },
    {
     "name": "stdout",
     "output_type": "stream",
     "text": [
      "杨志因盘缠用尽，决定卖掉祖传宝刀以筹措旅费，在街上卖刀时遇到泼皮牛二，牛二质疑宝刀价值，杨志展示宝刀能砍铜剁铁，刀口不卷，赢得众人喝彩。\n"
     ]
    },
    {
     "name": "stderr",
     "output_type": "stream",
     "text": [
      "Processing 水浒传:  10%|▉         | 107/1081 [07:25<1:09:18,  4.27s/it]"
     ]
    },
    {
     "name": "stdout",
     "output_type": "stream",
     "text": [
      "杨志展示宝刀的锋利，牛二不信并挑衅，最终杨志在争执中杀死牛二，随后与邻舍一同前往官府自首。\n"
     ]
    },
    {
     "name": "stderr",
     "output_type": "stream",
     "text": [
      "Processing 水浒传:  10%|▉         | 108/1081 [07:30<1:14:47,  4.61s/it]"
     ]
    },
    {
     "name": "stdout",
     "output_type": "stream",
     "text": [
      "杨志因失陷花石纲被削职，卖刀时被牛二强夺并被打，一时冲动杀死牛二，后被判误伤人命，刺配充军，途中得到民众和公人的帮助。\n"
     ]
    },
    {
     "name": "stderr",
     "output_type": "stream",
     "text": [
      "Processing 水浒传:  10%|█         | 109/1081 [07:35<1:14:02,  4.57s/it]"
     ]
    },
    {
     "name": "stdout",
     "output_type": "stream",
     "text": [
      "杨志因高太尉不容复职，杀死牛二后被解至北京，梁中书认出杨志并留在府中听用，后决定提拔他为军中副牌，举行演武试艺以服众。\n"
     ]
    },
    {
     "name": "stderr",
     "output_type": "stream",
     "text": [
      "Processing 水浒传:  10%|█         | 110/1081 [07:39<1:10:25,  4.35s/it]"
     ]
    },
    {
     "name": "stdout",
     "output_type": "stream",
     "text": [
      "梁中书命令副牌军周谨展示武艺，随后让杨志与其比试，两人在去枪头、蘸石灰后进行无伤害的枪杆比拼，场面激烈。\n"
     ]
    },
    {
     "name": "stderr",
     "output_type": "stream",
     "text": [
      "Processing 水浒传:  10%|█         | 111/1081 [07:43<1:09:14,  4.28s/it]"
     ]
    },
    {
     "name": "stdout",
     "output_type": "stream",
     "text": [
      "杨志与周谨比武，杨志胜出，梁中书欲换职，李成提议再比箭。杨志与周谨比箭，杨志巧妙躲避周谨三箭，展示高超武艺。\n"
     ]
    },
    {
     "name": "stderr",
     "output_type": "stream",
     "text": [
      "Processing 水浒传:  10%|█         | 112/1081 [07:47<1:10:16,  4.35s/it]"
     ]
    },
    {
     "name": "stdout",
     "output_type": "stream",
     "text": [
      "杨志在演武厅前成功射中周谨左肩，周谨落马，梁中书大喜，决定让杨志接替周谨职位。此时，索超出现挑战杨志，要求比试武艺以决定职位归属。\n"
     ]
    },
    {
     "name": "stderr",
     "output_type": "stream",
     "text": [
      "Processing 水浒传:  10%|█         | 113/1081 [07:51<1:07:10,  4.16s/it]"
     ]
    },
    {
     "name": "stdout",
     "output_type": "stream",
     "text": [
      "梁中书命令杨志与索超比武，两人各自准备并得到梁中书的战马和装备支持，随后在教场中进行比试，场面庄重肃穆。\n"
     ]
    },
    {
     "name": "stderr",
     "output_type": "stream",
     "text": [
      "Processing 水浒传:  11%|█         | 114/1081 [07:55<1:07:04,  4.16s/it]"
     ]
    },
    {
     "name": "stdout",
     "output_type": "stream",
     "text": [
      "杨志与索超在教场比武，双方展现出高超武艺，激战五十余回合不分胜负，最终被梁中书赏识并提拔为管军提辖使。\n"
     ]
    },
    {
     "name": "stderr",
     "output_type": "stream",
     "text": [
      "Processing 水浒传:  11%|█         | 115/1081 [07:59<1:07:30,  4.19s/it]"
     ]
    },
    {
     "name": "stdout",
     "output_type": "stream",
     "text": [
      "索超和杨志在演武厅比试后被任命为提辖，梁中书对杨志特别赏识。端午节时，梁中书与蔡夫人讨论如何安全送礼庆祝泰山生辰，担心途中被劫。\n"
     ]
    },
    {
     "name": "stderr",
     "output_type": "stream",
     "text": [
      "Processing 水浒传:  11%|█         | 116/1081 [08:04<1:07:52,  4.22s/it]"
     ]
    },
    {
     "name": "stdout",
     "output_type": "stream",
     "text": [
      "新任知县时文彬命令两位都头朱仝和雷横分别带领士兵巡查，防止梁山泊贼盗和乡村盗贼。雷横在巡查中发现灵官庙内有一陌生大汉赤条条地睡在供桌上。\n"
     ]
    },
    {
     "name": "stderr",
     "output_type": "stream",
     "text": [
      "Processing 水浒传:  11%|█         | 117/1081 [08:07<1:04:04,  3.99s/it]"
     ]
    },
    {
     "name": "stdout",
     "output_type": "stream",
     "text": [
      "雷横在东溪村发现一汉子，将其绑至晁盖庄上审问，晁盖好奇此贼身份，私下查看并发现其特征。\n"
     ]
    },
    {
     "name": "stderr",
     "output_type": "stream",
     "text": [
      "Processing 水浒传:  11%|█         | 118/1081 [08:10<59:01,  3.68s/it]  "
     ]
    },
    {
     "name": "stdout",
     "output_type": "stream",
     "text": [
      "晁盖假装认出一个被误认为贼的远乡客人是他的外甥王小三，以此帮助他脱困。\n"
     ]
    },
    {
     "name": "stderr",
     "output_type": "stream",
     "text": [
      "Processing 水浒传:  11%|█         | 119/1081 [08:13<57:27,  3.58s/it]"
     ]
    },
    {
     "name": "stdout",
     "output_type": "stream",
     "text": [
      "晁盖误会外甥刘唐做贼，后得知刘唐因醉酒被误抓，释放后刘唐向晁盖透露带来富贵消息。\n"
     ]
    },
    {
     "name": "stderr",
     "output_type": "stream",
     "text": [
      "Processing 水浒传:  11%|█         | 120/1081 [08:18<1:01:18,  3.83s/it]"
     ]
    },
    {
     "name": "stdout",
     "output_type": "stream",
     "text": [
      "刘唐向晁盖透露梁中书将送十万贯金珠宝贝给蔡太师庆生辰，提议半路劫取，晁盖同意商议。刘唐后决定追击雷横，夺回银子并出气。\n"
     ]
    },
    {
     "name": "stderr",
     "output_type": "stream",
     "text": [
      "Processing 水浒传:  11%|█         | 121/1081 [08:24<1:11:23,  4.46s/it]"
     ]
    },
    {
     "name": "stdout",
     "output_type": "stream",
     "text": [
      "雷横与刘唐因十两银子争执，两人斗了五十余合不分胜负，后被吴用劝停，吴用发现刘唐与晁盖的关系有蹊跷，决定进一步调查。\n"
     ]
    },
    {
     "name": "stderr",
     "output_type": "stream",
     "text": [
      "Processing 水浒传:  11%|█▏        | 122/1081 [08:29<1:13:58,  4.63s/it]"
     ]
    },
    {
     "name": "stdout",
     "output_type": "stream",
     "text": [
      "刘唐因雷横诈取其舅银两而与之争执，誓要讨回，雷横拒绝归还。两人斗至激烈，吴用劝解无效，最终晁盖出现制止，事件才得以平息。\n"
     ]
    },
    {
     "name": "stderr",
     "output_type": "stream",
     "text": [
      "Processing 水浒传:  11%|█▏        | 123/1081 [08:33<1:10:33,  4.42s/it]"
     ]
    },
    {
     "name": "stdout",
     "output_type": "stream",
     "text": [
      "吴用与晁盖、刘唐商议劫取梁中书送给蔡太师的生辰纲，吴用提出需要七八个好汉，并暗示有合适人选，即阮氏三兄弟。\n"
     ]
    },
    {
     "name": "stderr",
     "output_type": "stream",
     "text": [
      "Processing 水浒传:  11%|█▏        | 124/1081 [08:37<1:10:55,  4.45s/it]"
     ]
    },
    {
     "name": "stdout",
     "output_type": "stream",
     "text": [
      "吴用计划说服阮家三兄弟加入晁盖的计划，他亲自前往石碣村，途中描述了阮小二家的环境，并成功与阮小二见面，提出需要帮助获取金色鲤鱼以筹备大财主的筵席。\n"
     ]
    },
    {
     "name": "stderr",
     "output_type": "stream",
     "text": [
      "Processing 水浒传:  12%|█▏        | 125/1081 [08:41<1:08:31,  4.30s/it]"
     ]
    },
    {
     "name": "stdout",
     "output_type": "stream",
     "text": [
      "阮小二和吴用乘船寻找阮小五，途中遇到阮小七，得知阮小五赌博输钱，后在镇上找到阮小五，三人一同去水阁喝酒。\n"
     ]
    },
    {
     "name": "stderr",
     "output_type": "stream",
     "text": [
      "Processing 水浒传:  12%|█▏        | 126/1081 [08:45<1:04:26,  4.05s/it]"
     ]
    },
    {
     "name": "stdout",
     "output_type": "stream",
     "text": [
      "阮小五解船，三船至荷花荡，入酒店，阮家兄弟请吴用上坐，共饮并讨论捕鱼事宜，夜宿阮小二家。\n"
     ]
    },
    {
     "name": "stderr",
     "output_type": "stream",
     "text": [
      "Processing 水浒传:  12%|█▏        | 127/1081 [08:48<1:03:20,  3.98s/it]"
     ]
    },
    {
     "name": "stdout",
     "output_type": "stream",
     "text": [
      "吴用提议与阮家三兄弟共饮，购买酒肉前往阮小二家，席间询问为何不去梁山泊打大鱼，得知梁山泊已被强人占据，不容打鱼。\n"
     ]
    },
    {
     "name": "stderr",
     "output_type": "stream",
     "text": [
      "Processing 水浒传:  12%|█▏        | 128/1081 [08:53<1:06:07,  4.16s/it]"
     ]
    },
    {
     "name": "stdout",
     "output_type": "stream",
     "text": [
      "阮小二描述了一伙强盗的情况，包括他们的头领和活动，吴用和阮家三兄弟讨论了官府的无能和强盗的快活生活，阮家兄弟表达了想要加入强盗的愿望，吴用则暗自计划如何利用他们。\n"
     ]
    },
    {
     "name": "stderr",
     "output_type": "stream",
     "text": [
      "Processing 水浒传:  12%|█▏        | 129/1081 [08:57<1:05:20,  4.12s/it]"
     ]
    },
    {
     "name": "stdout",
     "output_type": "stream",
     "text": [
      "吴用与阮氏三兄弟讨论上梁山泊的问题，阮氏兄弟因王伦心地狭窄而不愿加入，吴用提议去见晁盖，并透露晁盖有意邀请他们参与一项富贵计划。\n"
     ]
    },
    {
     "name": "stderr",
     "output_type": "stream",
     "text": [
      "Processing 水浒传:  12%|█▏        | 130/1081 [09:01<1:02:35,  3.95s/it]"
     ]
    },
    {
     "name": "stdout",
     "output_type": "stream",
     "text": [
      "吴用诱使阮氏三兄弟加入劫取梁中书为蔡太师庆生辰的不义之财计划，六人誓言合作，共图快活。\n"
     ]
    },
    {
     "name": "stderr",
     "output_type": "stream",
     "text": [
      "Processing 水浒传:  12%|█▏        | 131/1081 [09:05<1:04:20,  4.06s/it]"
     ]
    },
    {
     "name": "stdout",
     "output_type": "stream",
     "text": [
      "晁盖在家中宴请好汉，一清道人来访要求见晁盖，被庄客多次拒绝后发怒打人，最终晁盖亲自出面，道人表明不为钱米，只为见晁盖一面。\n"
     ]
    },
    {
     "name": "stderr",
     "output_type": "stream",
     "text": [
      "Processing 水浒传:  12%|█▏        | 132/1081 [09:08<1:01:10,  3.87s/it]"
     ]
    },
    {
     "name": "stdout",
     "output_type": "stream",
     "text": [
      "晁盖与公孙胜在阁内商讨劫取生辰纲之事，突然吴用闯入揭露计划，随后众人相见并讨论如何行动。\n"
     ]
    },
    {
     "name": "stderr",
     "output_type": "stream",
     "text": [
      "Processing 水浒传:  12%|█▏        | 133/1081 [09:11<57:39,  3.65s/it]  "
     ]
    },
    {
     "name": "stdout",
     "output_type": "stream",
     "text": [
      "七位好汉聚义饮酒，计划智取生辰纲，吴用已设好圈套，众人商定细节后各自准备。\n"
     ]
    },
    {
     "name": "stderr",
     "output_type": "stream",
     "text": [
      "Processing 水浒传:  12%|█▏        | 134/1081 [09:15<58:26,  3.70s/it]"
     ]
    },
    {
     "name": "stdout",
     "output_type": "stream",
     "text": [
      "梁中书因去年送生辰纲被劫，今年犹豫不决，蔡夫人建议派杨志送，杨志提出改变运输方式以避免被劫，梁中书同意并承诺重赏。\n"
     ]
    },
    {
     "name": "stderr",
     "output_type": "stream",
     "text": [
      "Processing 水浒传:  12%|█▏        | 135/1081 [09:21<1:06:24,  4.21s/it]"
     ]
    },
    {
     "name": "stdout",
     "output_type": "stream",
     "text": [
      "杨志被梁中书委派押送生辰纲，担心与老都管和虞候发生冲突，梁中书保证他们听从杨志指挥。一行十五人带着十一担财宝，从北京出发前往东京。\n"
     ]
    },
    {
     "name": "stderr",
     "output_type": "stream",
     "text": [
      "Processing 水浒传:  13%|█▎        | 136/1081 [09:26<1:10:45,  4.49s/it]"
     ]
    },
    {
     "name": "stdout",
     "output_type": "stream",
     "text": [
      "杨志带领一行人在炎热天气中艰难行进，严格控制行程，导致士兵和虞候不满，但老都管劝大家忍耐。\n"
     ]
    },
    {
     "name": "stderr",
     "output_type": "stream",
     "text": [
      "Processing 水浒传:  13%|█▎        | 137/1081 [09:30<1:11:05,  4.52s/it]"
     ]
    },
    {
     "name": "stdout",
     "output_type": "stream",
     "text": [
      "杨志带领十四名军汉在酷热天气中艰难行进，军汉们因疲劳和炎热而抱怨，杨志则严厉催促，最终在黄泥冈上发生争执。\n"
     ]
    },
    {
     "name": "stderr",
     "output_type": "stream",
     "text": [
      "Processing 水浒传:  13%|█▎        | 138/1081 [09:35<1:09:47,  4.44s/it]"
     ]
    },
    {
     "name": "stdout",
     "output_type": "stream",
     "text": [
      "杨志用藤条惩罚挑担的军汉，老都管劝阻并质疑杨志的权威，杨志则坚持自己的做法。随后，杨志发现有人在松林中窥视，原来是七个贩枣的商人，误会解除。\n"
     ]
    },
    {
     "name": "stderr",
     "output_type": "stream",
     "text": [
      "Processing 水浒传:  13%|█▎        | 139/1081 [09:40<1:12:21,  4.61s/it]"
     ]
    },
    {
     "name": "stdout",
     "output_type": "stream",
     "text": [
      "杨志误以为贩枣子的客人为歹人，后发现误会，继续休息。随后，一汉子挑酒上冈，众军欲买酒解渴，杨志担心酒中有蒙汗药而阻止，引起争执。\n"
     ]
    },
    {
     "name": "stderr",
     "output_type": "stream",
     "text": [
      "Processing 水浒传:  13%|█▎        | 140/1081 [09:43<1:08:24,  4.36s/it]"
     ]
    },
    {
     "name": "stdout",
     "output_type": "stream",
     "text": [
      "七个客人与挑酒汉子讨价还价后买下一桶酒，用椰瓢舀酒与枣子共食，另一桶酒被众军汉请求购买以解渴。\n"
     ]
    },
    {
     "name": "stderr",
     "output_type": "stream",
     "text": [
      "Processing 水浒传:  13%|█▎        | 141/1081 [09:48<1:11:15,  4.55s/it]"
     ]
    },
    {
     "name": "stdout",
     "output_type": "stream",
     "text": [
      "卖酒汉子拒绝卖酒给军汉，贩枣客人劝解后军汉们买酒吃，结果被蒙汗药迷倒，七名贩枣客人趁机偷走军汉们的金珠宝贝，原来他们是晁盖、吴用等七人，卖酒汉子是白胜。\n"
     ]
    },
    {
     "name": "stderr",
     "output_type": "stream",
     "text": [
      "Processing 水浒传:  13%|█▎        | 142/1081 [09:52<1:08:52,  4.40s/it]"
     ]
    },
    {
     "name": "stdout",
     "output_type": "stream",
     "text": [
      "吴用设计用蒙汗药智取生辰纲，杨志醒来后绝望欲自尽，但最终决定活下去，而其他十四人醒来后决定将责任推给已离去的杨志。\n"
     ]
    },
    {
     "name": "stderr",
     "output_type": "stream",
     "text": [
      "Processing 水浒传:  13%|█▎        | 143/1081 [09:57<1:10:17,  4.50s/it]"
     ]
    },
    {
     "name": "stdout",
     "output_type": "stream",
     "text": [
      "杨志在黄泥冈被强人用蒙汗药麻翻，失去财物后，独自前往酒店，因无钱支付酒肉饭钱而与店家发生冲突，最终被一名汉子认出并拜见，得知对方是东京殿司杨制使。\n"
     ]
    },
    {
     "name": "stderr",
     "output_type": "stream",
     "text": [
      "Processing 水浒传:  13%|█▎        | 144/1081 [10:01<1:06:21,  4.25s/it]"
     ]
    },
    {
     "name": "stdout",
     "output_type": "stream",
     "text": [
      "林冲的徒弟曹正因生意失败入赘山东，与杨志交手后得知林冲被陷害上梁山，建议杨志投奔二龙山落草。\n"
     ]
    },
    {
     "name": "stderr",
     "output_type": "stream",
     "text": [
      "Processing 水浒传:  13%|█▎        | 145/1081 [10:04<1:02:24,  4.00s/it]"
     ]
    },
    {
     "name": "stdout",
     "output_type": "stream",
     "text": [
      "杨志在林中遇到鲁智深，两人交手不分胜负，后得知彼此身份，原来是同乡，鲁智深曾救过林冲。\n"
     ]
    },
    {
     "name": "stderr",
     "output_type": "stream",
     "text": [
      "Processing 水浒传:  14%|█▎        | 146/1081 [10:11<1:13:16,  4.70s/it]"
     ]
    },
    {
     "name": "stdout",
     "output_type": "stream",
     "text": [
      "鲁智深因被寺院长老驱逐，火烧菜园廨宇后流浪江湖，在孟州十字坡险被酒店妇人害命，后被张青夫妇救下并结为兄弟。鲁智深欲投奔二龙山邓龙，但遭拒并被困山下。杨志与鲁智深相遇，两人商议攻打二龙山，曹正提出智取之计。\n"
     ]
    },
    {
     "name": "stderr",
     "output_type": "stream",
     "text": [
      "Processing 水浒传:  14%|█▎        | 147/1081 [10:15<1:10:41,  4.54s/it]"
     ]
    },
    {
     "name": "stdout",
     "output_type": "stream",
     "text": [
      "鲁智深、杨志和曹正设计，将鲁智深绑架至二龙山，以此策略引诱山寨头目邓龙下山，计划在山寨内联手击败邓龙，以控制二龙山。\n"
     ]
    },
    {
     "name": "stderr",
     "output_type": "stream",
     "text": [
      "Processing 水浒传:  14%|█▎        | 148/1081 [10:20<1:12:23,  4.66s/it]"
     ]
    },
    {
     "name": "stdout",
     "output_type": "stream",
     "text": [
      "鲁智深被捉至宝珠寺，与杨志、曹正合力击败邓龙，成为山寨之王，整顿山寨并庆贺。同时，杨志被揭露与贼人勾结，在黄泥冈上设局麻翻众人。\n"
     ]
    },
    {
     "name": "stderr",
     "output_type": "stream",
     "text": [
      "Processing 水浒传:  14%|█▍        | 149/1081 [10:25<1:14:24,  4.79s/it]"
     ]
    },
    {
     "name": "stdout",
     "output_type": "stream",
     "text": [
      "杨志和七个贼人盗取生辰纲财宝，梁中书大怒，派人追捕并报告太师，太师亦震惊并派府干至济州府尹处要求十日内捉拿贼人。\n"
     ]
    },
    {
     "name": "stderr",
     "output_type": "stream",
     "text": [
      "Processing 水浒传:  14%|█▍        | 150/1081 [10:29<1:09:53,  4.50s/it]"
     ]
    },
    {
     "name": "stdout",
     "output_type": "stream",
     "text": [
      "何涛因未能捕获黄泥冈上劫走生辰纲的贼人，被太守责罚并在脸上刺字，面临重罚，回家后与妻子讨论此事，感到极度烦恼。\n"
     ]
    },
    {
     "name": "stderr",
     "output_type": "stream",
     "text": [
      "Processing 水浒传:  14%|█▍        | 151/1081 [10:33<1:10:16,  4.53s/it]"
     ]
    },
    {
     "name": "stdout",
     "output_type": "stream",
     "text": [
      "拔涛的妻子向何清透露，拔涛因未能捉拿到劫走生辰纲的贼人而面临严重后果，何清表示或许能在关键时刻帮助哥哥。\n"
     ]
    },
    {
     "name": "stderr",
     "output_type": "stream",
     "text": [
      "Processing 水浒传:  14%|█▍        | 152/1081 [10:37<1:07:03,  4.33s/it]"
     ]
    },
    {
     "name": "stdout",
     "output_type": "stream",
     "text": [
      "何涛请求何清帮助捉拿贼人，何清起初拒绝，后在何涛给予银子并承诺重赏后，何清透露已掌握贼人信息，并暗示将在关键时刻出手。\n"
     ]
    },
    {
     "name": "stderr",
     "output_type": "stream",
     "text": [
      "Processing 水浒传:  14%|█▍        | 153/1081 [10:42<1:08:55,  4.46s/it]"
     ]
    },
    {
     "name": "stdout",
     "output_type": "stream",
     "text": [
      "何清因赌博输钱，帮客店抄写客人信息，发现贩枣客人中有晁保正，后听闻黄泥冈劫案，怀疑白胜涉案，遂报告官府，官府连夜抓捕白胜审问。\n"
     ]
    },
    {
     "name": "stderr",
     "output_type": "stream",
     "text": [
      "Processing 水浒传:  14%|█▍        | 154/1081 [10:46<1:08:17,  4.42s/it]"
     ]
    },
    {
     "name": "stdout",
     "output_type": "stream",
     "text": [
      "白胜被捕后，在严刑拷打下供出晁保正是主谋，随后何涛带领公人前往郓城县捉拿晁保正及其他六名同伙。\n"
     ]
    },
    {
     "name": "stderr",
     "output_type": "stream",
     "text": [
      "Processing 水浒传:  14%|█▍        | 155/1081 [10:50<1:06:20,  4.30s/it]"
     ]
    },
    {
     "name": "stdout",
     "output_type": "stream",
     "text": [
      "宋江因慷慨好施、乐于助人而被称为及时雨，他在茶坊与缉捕使臣何涛会面，何涛请求宋江协助抓捕劫持生辰纲的贼人。\n"
     ]
    },
    {
     "name": "stderr",
     "output_type": "stream",
     "text": [
      "Processing 水浒传:  14%|█▍        | 156/1081 [10:54<1:04:16,  4.17s/it]"
     ]
    },
    {
     "name": "stdout",
     "output_type": "stream",
     "text": [
      "宋江得知晁盖犯下大罪，决定冒险救他，急忙前往晁盖庄上警告他，告知黄泥冈事发，晁盖等人已被通缉。\n"
     ]
    },
    {
     "name": "stderr",
     "output_type": "stream",
     "text": [
      "Processing 水浒传:  15%|█▍        | 157/1081 [10:58<1:04:45,  4.20s/it]"
     ]
    },
    {
     "name": "stdout",
     "output_type": "stream",
     "text": [
      "宋江得知晁盖等人将被捕，急忙报信并催促晁盖逃走，晁盖感激宋江的救命之恩，随后与吴用、公孙胜、刘唐商议逃脱之计。\n"
     ]
    },
    {
     "name": "stderr",
     "output_type": "stream",
     "text": [
      "Processing 水浒传:  15%|█▍        | 158/1081 [11:03<1:06:11,  4.30s/it]"
     ]
    },
    {
     "name": "stdout",
     "output_type": "stream",
     "text": [
      "晁盖和吴用计划逃往石碣村三阮家，再加入梁山泊，为此他们准备了金银财宝，并安排人员先行前往。同时，宋江在县衙处理缉捕晁盖等人的紧急公务。\n"
     ]
    },
    {
     "name": "stderr",
     "output_type": "stream",
     "text": [
      "Processing 水浒传:  15%|█▍        | 159/1081 [11:06<1:02:28,  4.07s/it]"
     ]
    },
    {
     "name": "stdout",
     "output_type": "stream",
     "text": [
      "朱仝和雷横带领士兵去捉拿晁盖，朱仝故意让雷横从前门进攻，自己则从后门放走晁盖。\n"
     ]
    },
    {
     "name": "stderr",
     "output_type": "stream",
     "text": [
      "Processing 水浒传:  15%|█▍        | 160/1081 [11:10<1:02:20,  4.06s/it]"
     ]
    },
    {
     "name": "stdout",
     "output_type": "stream",
     "text": [
      "朱仝和雷横有意救晁盖，朱仝故意声东击西，让晁盖从后门逃走，自己则假装追赶，最终让晁盖逃往梁山泊。\n"
     ]
    },
    {
     "name": "stderr",
     "output_type": "stream",
     "text": [
      "Processing 水浒传:  15%|█▍        | 161/1081 [11:15<1:03:38,  4.15s/it]"
     ]
    },
    {
     "name": "stdout",
     "output_type": "stream",
     "text": [
      "晁盖逃脱，士兵追赶无果，县尉捉邻舍审问，庄客供出同谋，宋江保释邻舍，庄客被押至府尹处，白胜供出阮氏三兄弟。\n"
     ]
    },
    {
     "name": "stderr",
     "output_type": "stream",
     "text": [
      "Processing 水浒传:  15%|█▍        | 162/1081 [11:19<1:05:04,  4.25s/it]"
     ]
    },
    {
     "name": "stdout",
     "output_type": "stream",
     "text": [
      "知府得知白胜透露的三名贼人身份后，命令何观察带领官兵前往石碣村捉拿阮氏三兄弟，同时晁盖、公孙胜等七人计划投奔梁山泊。\n"
     ]
    },
    {
     "name": "stderr",
     "output_type": "stream",
     "text": [
      "Processing 水浒传:  15%|█▌        | 163/1081 [11:28<1:24:06,  5.50s/it]"
     ]
    },
    {
     "name": "stdout",
     "output_type": "stream",
     "text": [
      "晁盖等人在商议投奔梁山泊时，得知官军来袭，阮小二、公孙胜准备迎战，吴用、刘唐则负责转移财赋和老小。何涛带领官兵夺船追击，阮小五、阮小七在湖泊中设伏，阮小五以歌声嘲讽官军后潜水逃脱。\n"
     ]
    },
    {
     "name": "stderr",
     "output_type": "stream",
     "text": [
      "Processing 水浒传:  15%|█▌        | 164/1081 [11:32<1:18:36,  5.14s/it]"
     ]
    },
    {
     "name": "stdout",
     "output_type": "stream",
     "text": [
      "阮小七在芦苇荡中与官兵对峙，利用熟悉的地形逃脱，官兵多次探路未果，最终在断头沟失去线索。\n"
     ]
    },
    {
     "name": "stderr",
     "output_type": "stream",
     "text": [
      "Processing 水浒传:  15%|█▌        | 165/1081 [11:36<1:13:09,  4.79s/it]"
     ]
    },
    {
     "name": "stdout",
     "output_type": "stream",
     "text": [
      "何涛带领官兵追捕阮小二和阮小七，却被两兄弟设计击败，阮家兄弟利用火攻和水中埋伏，成功烧毁官兵船只并俘虏何涛。\n"
     ]
    },
    {
     "name": "stderr",
     "output_type": "stream",
     "text": [
      "Processing 水浒传:  15%|█▌        | 166/1081 [11:40<1:10:04,  4.60s/it]"
     ]
    },
    {
     "name": "stdout",
     "output_type": "stream",
     "text": [
      "五位好汉在芦苇荡中设伏，利用火攻和武力将官兵尽数杀死，仅放回一名观察员以传递警告，随后前往李家道口与其他义士会合。\n"
     ]
    },
    {
     "name": "stderr",
     "output_type": "stream",
     "text": [
      "Processing 水浒传:  15%|█▌        | 167/1081 [11:44<1:08:55,  4.52s/it]"
     ]
    },
    {
     "name": "stdout",
     "output_type": "stream",
     "text": [
      "吴用带领众人投奔朱贵，朱贵接待并引荐至山寨，王伦迎接晁盖一行，设宴款待，晁盖表达加入意愿，王伦内心犹豫但未表露。\n"
     ]
    },
    {
     "name": "stderr",
     "output_type": "stream",
     "text": [
      "Processing 水浒传:  16%|█▌        | 168/1081 [11:50<1:14:42,  4.91s/it]"
     ]
    },
    {
     "name": "stdout",
     "output_type": "stream",
     "text": [
      "吴用和晁盖讨论王伦是否真心收留他们，吴用观察到林冲对王伦的不满，计划利用林冲引发内部冲突。次日，林冲来访，吴用和晁盖接待并试图进一步拉拢林冲。\n"
     ]
    },
    {
     "name": "stderr",
     "output_type": "stream",
     "text": [
      "Processing 水浒传:  16%|█▌        | 169/1081 [11:54<1:08:21,  4.50s/it]"
     ]
    },
    {
     "name": "stdout",
     "output_type": "stream",
     "text": [
      "吴用、林冲和晁盖讨论柴进和王伦的性格，林冲表达了对王伦的不满，并暗示将在山寨会议上采取行动。\n"
     ]
    },
    {
     "name": "stderr",
     "output_type": "stream",
     "text": [
      "Processing 水浒传:  16%|█▌        | 170/1081 [11:58<1:04:36,  4.26s/it]"
     ]
    },
    {
     "name": "stdout",
     "output_type": "stream",
     "text": [
      "晁盖和众头领暗藏武器赴宴，王伦拒绝聚义并赠送银两请离，林冲不满王伦的拒绝态度，吴用劝解林冲息怒。\n"
     ]
    },
    {
     "name": "stderr",
     "output_type": "stream",
     "text": [
      "Processing 水浒传:  16%|█▌        | 171/1081 [12:00<58:40,  3.87s/it]  "
     ]
    },
    {
     "name": "stdout",
     "output_type": "stream",
     "text": [
      "林冲不满王伦的嫉妒和排斥，火并王伦并取而代之，成为山寨新主。\n"
     ]
    },
    {
     "name": "stderr",
     "output_type": "stream",
     "text": [
      "Processing 水浒传:  16%|█▌        | 172/1081 [12:04<57:20,  3.79s/it]"
     ]
    },
    {
     "name": "stdout",
     "output_type": "stream",
     "text": [
      "林冲因不满王伦的狭隘心胸和嫉妒行为，杀了他并推举晁盖为山寨之主，随后安排众人聚义，确立新的领导结构。\n"
     ]
    },
    {
     "name": "stderr",
     "output_type": "stream",
     "text": [
      "Processing 水浒传:  16%|█▌        | 173/1081 [12:10<1:06:35,  4.40s/it]"
     ]
    },
    {
     "name": "stdout",
     "output_type": "stream",
     "text": [
      "林冲推荐公孙胜坐第三位，晁盖、吴用、公孙胜坚持林冲坐第四位，梁山泊十一位好汉坐定，晁盖成为山寨之主，庆贺聚义，并计划整备军事，林冲思念妻子，晁盖建议他写信接妻子上山。\n"
     ]
    },
    {
     "name": "stderr",
     "output_type": "stream",
     "text": [
      "Processing 水浒传:  16%|█▌        | 174/1081 [12:15<1:08:49,  4.55s/it]"
     ]
    },
    {
     "name": "stdout",
     "output_type": "stream",
     "text": [
      "林冲得知妻子被高太尉逼迫自缢，岳父亦因忧病去世，心灰意冷。晁盖等头领得知官军来犯，吴用策划迎敌，黄安带领官军进攻，遭遇阮氏三雄的抵抗。\n"
     ]
    },
    {
     "name": "stderr",
     "output_type": "stream",
     "text": [
      "Processing 水浒传:  16%|█▌        | 175/1081 [12:19<1:06:06,  4.38s/it]"
     ]
    },
    {
     "name": "stdout",
     "output_type": "stream",
     "text": [
      "三阮用青狐遮箭，黄安的船队遭遇伏击，被夺船杀伤，最终黄安被刘唐活捉，大部分人被生擒或杀死。\n"
     ]
    },
    {
     "name": "stderr",
     "output_type": "stream",
     "text": [
      "Processing 水浒传:  16%|█▋        | 176/1081 [12:24<1:09:13,  4.59s/it]"
     ]
    },
    {
     "name": "stdout",
     "output_type": "stream",
     "text": [
      "晁盖和众头领在聚义厅庆祝胜利，分配战利品，并得知有客商经过，派三阮和刘唐下山劫取财物，最终成功获取金银财帛而未伤人。\n"
     ]
    },
    {
     "name": "stderr",
     "output_type": "stream",
     "text": [
      "Processing 水浒传:  16%|█▋        | 177/1081 [12:30<1:15:29,  5.01s/it]"
     ]
    },
    {
     "name": "stdout",
     "output_type": "stream",
     "text": [
      "晁盖等头领在山寨分配财物，感激宋押司和朱都头的恩情，计划报答并救出白胜。同时，他们商议屯粮造船，制办军器，以备官军。济州府太守得知梁山泊英雄难以对付，感到困扰。\n"
     ]
    },
    {
     "name": "stderr",
     "output_type": "stream",
     "text": [
      "Processing 水浒传:  16%|█▋        | 178/1081 [12:34<1:10:33,  4.69s/it]"
     ]
    },
    {
     "name": "stdout",
     "output_type": "stream",
     "text": [
      "府尹因梁山泊贼盗猖獗而苦恼，新官接任后，商议加强防御并准备收捕梁山泊好汉，同时宋江得知情况后内心忧虑。\n"
     ]
    },
    {
     "name": "stderr",
     "output_type": "stream",
     "text": [
      "Processing 水浒传:  17%|█▋        | 179/1081 [12:39<1:10:31,  4.69s/it]"
     ]
    },
    {
     "name": "stdout",
     "output_type": "stream",
     "text": [
      "宋江偶遇王婆和阎婆，得知阎婆因贫困无法安葬丈夫，宋江慷慨解囊，提供棺材和银两，阎婆感激不尽，后阎婆询问宋江是否有妻室，意图将女儿婆惜许配给他。\n"
     ]
    },
    {
     "name": "stderr",
     "output_type": "stream",
     "text": [
      "Processing 水浒传:  17%|█▋        | 180/1081 [12:42<1:07:05,  4.47s/it]"
     ]
    },
    {
     "name": "stdout",
     "output_type": "stream",
     "text": [
      "宋江因感激而收留了阎婆惜，但不久后因不重女色而疏远她，阎婆惜与张文远私通，宋江得知后选择不再上门，避免惹气。\n"
     ]
    },
    {
     "name": "stderr",
     "output_type": "stream",
     "text": [
      "Processing 水浒传:  17%|█▋        | 181/1081 [12:46<1:02:56,  4.20s/it]"
     ]
    },
    {
     "name": "stdout",
     "output_type": "stream",
     "text": [
      "宋江偶遇赤发鬼刘唐，刘唐感谢宋江救命之恩，特来送上黄金百两及书信以表谢意。\n"
     ]
    },
    {
     "name": "stderr",
     "output_type": "stream",
     "text": [
      "Processing 水浒传:  17%|█▋        | 182/1081 [12:49<59:34,  3.98s/it]  "
     ]
    },
    {
     "name": "stdout",
     "output_type": "stream",
     "text": [
      "刘唐送金给宋江，宋江拒绝并写回书，刘唐无奈带金返回梁山泊，宋江警告刘唐不要再回来。\n"
     ]
    },
    {
     "name": "stderr",
     "output_type": "stream",
     "text": [
      "Processing 水浒传:  17%|█▋        | 183/1081 [12:53<58:10,  3.89s/it]"
     ]
    },
    {
     "name": "stdout",
     "output_type": "stream",
     "text": [
      "宋江被阎婆缠着去见其女儿阎婆惜，阎婆惜误以为是情人张三郎而激动下楼，发现是宋江后失望返回楼上。\n"
     ]
    },
    {
     "name": "stderr",
     "output_type": "stream",
     "text": [
      "Processing 水浒传:  17%|█▋        | 184/1081 [12:57<59:59,  4.01s/it]"
     ]
    },
    {
     "name": "stdout",
     "output_type": "stream",
     "text": [
      "宋江被阎婆拉上楼，被迫与阎婆惜共处一室，阎婆惜态度冷淡，宋江感到不自在，阎婆则试图通过提供酒食来缓和气氛，但宋江仍想找机会离开。\n"
     ]
    },
    {
     "name": "stderr",
     "output_type": "stream",
     "text": [
      "Processing 水浒传:  17%|█▋        | 185/1081 [13:01<59:38,  3.99s/it]"
     ]
    },
    {
     "name": "stdout",
     "output_type": "stream",
     "text": [
      "宋江与阎婆惜共饮，阎婆惜心不在焉，不愿陪酒，宋江勉强应酬，阎婆尽力劝酒，场面尴尬，气氛沉闷。\n"
     ]
    },
    {
     "name": "stderr",
     "output_type": "stream",
     "text": [
      "Processing 水浒传:  17%|█▋        | 186/1081 [13:05<59:32,  3.99s/it]"
     ]
    },
    {
     "name": "stdout",
     "output_type": "stream",
     "text": [
      "唐牛儿因赌钱输光，寻找宋江求助，发现宋江与阎婆惜在一起，便谎称知县紧急找宋江处理公事，试图借此机会向宋江索要钱财。\n"
     ]
    },
    {
     "name": "stderr",
     "output_type": "stream",
     "text": [
      "Processing 水浒传:  17%|█▋        | 187/1081 [13:10<1:02:54,  4.22s/it]"
     ]
    },
    {
     "name": "stdout",
     "output_type": "stream",
     "text": [
      "阎婆因唐牛儿未撺掇宋江进屋而怒斥并攻击他，唐牛儿威胁报复。宋江被婆子劝酒，心中疑虑婆子女儿与他人有染，夜深时观察婆娘行为，最终无奈入睡。\n"
     ]
    },
    {
     "name": "stderr",
     "output_type": "stream",
     "text": [
      "Processing 水浒传:  17%|█▋        | 188/1081 [13:14<1:02:06,  4.17s/it]"
     ]
    },
    {
     "name": "stdout",
     "output_type": "stream",
     "text": [
      "宋江因婆惜冷笑而夜不能寐，清晨离家，偶遇王公，想起曾许诺棺材钱，用晁盖送的金子兑现承诺，却发现招文袋遗留在婆惜处。\n"
     ]
    },
    {
     "name": "stderr",
     "output_type": "stream",
     "text": [
      "Processing 水浒传:  17%|█▋        | 189/1081 [13:18<1:02:00,  4.17s/it]"
     ]
    },
    {
     "name": "stdout",
     "output_type": "stream",
     "text": [
      "宋江忘记带走装有金子和晁盖书信的招文袋，被婆惜发现，婆惜得知宋江与梁山泊有联系，打算利用这信息对付宋江。\n"
     ]
    },
    {
     "name": "stderr",
     "output_type": "stream",
     "text": [
      "Processing 水浒传:  18%|█▊        | 190/1081 [13:23<1:03:57,  4.31s/it]"
     ]
    },
    {
     "name": "stdout",
     "output_type": "stream",
     "text": [
      "宋江发现招文袋不见，怀疑是婆惜所藏，请求归还，婆惜要求宋江满足她三个条件才肯归还。\n"
     ]
    },
    {
     "name": "stderr",
     "output_type": "stream",
     "text": [
      "Processing 水浒传:  18%|█▊        | 191/1081 [13:28<1:07:12,  4.53s/it]"
     ]
    },
    {
     "name": "stdout",
     "output_type": "stream",
     "text": [
      "宋江与阎婆惜争执，婆惜要求宋江交出晁盖送的一百两金子以换取招文袋，宋江否认收到金子，最终在争执中宋江冲动杀死婆惜。\n"
     ]
    },
    {
     "name": "stderr",
     "output_type": "stream",
     "text": [
      "Processing 水浒传:  18%|█▊        | 192/1081 [13:33<1:06:52,  4.51s/it]"
     ]
    },
    {
     "name": "stdout",
     "output_type": "stream",
     "text": [
      "宋江因误会杀死妻子，后与阎婆商议处理尸体，阎婆却在县前突然指控宋江为杀人凶手，但因宋江平日人缘好，公人不信阎婆的话。\n"
     ]
    },
    {
     "name": "stderr",
     "output_type": "stream",
     "text": [
      "Processing 水浒传:  18%|█▊        | 193/1081 [13:37<1:07:09,  4.54s/it]"
     ]
    },
    {
     "name": "stdout",
     "output_type": "stream",
     "text": [
      "唐牛儿在县前卖糟姜时，见到阎婆扭住宋江，便上前解救宋江并打了阎婆。宋江逃脱后，阎婆指控唐牛儿打夺凶手，导致唐牛儿被捕。\n"
     ]
    },
    {
     "name": "stderr",
     "output_type": "stream",
     "text": [
      "Processing 水浒传:  18%|█▊        | 194/1081 [13:42<1:07:11,  4.54s/it]"
     ]
    },
    {
     "name": "stdout",
     "output_type": "stream",
     "text": [
      "宋江被控杀害阎婆，知县欲救宋江，将责任推给唐牛儿，同时张文远要求追捕宋江，知县无奈下令捉拿，宋江已逃，其父宋太公出示文书证明宋江已非家中成员。\n"
     ]
    },
    {
     "name": "stderr",
     "output_type": "stream",
     "text": [
      "Processing 水浒传:  18%|█▊        | 195/1081 [13:46<1:04:58,  4.40s/it]"
     ]
    },
    {
     "name": "stdout",
     "output_type": "stream",
     "text": [
      "宋太公出示了三年前已将宋江除籍的公文，但阎婆和张三仍挑唆官府搜捕宋江，最终朱仝和雷横带兵前往宋家庄搜查。\n"
     ]
    },
    {
     "name": "stderr",
     "output_type": "stream",
     "text": [
      "Processing 水浒传:  18%|█▊        | 196/1081 [13:50<1:03:34,  4.31s/it]"
     ]
    },
    {
     "name": "stdout",
     "output_type": "stream",
     "text": [
      "朱仝在宋太公庄上搜查，发现宋江藏在地窖中，两人商议后，宋江决定寻找新的藏身之处，朱仝则承诺帮助处理官司事宜。\n"
     ]
    },
    {
     "name": "stderr",
     "output_type": "stream",
     "text": [
      "Processing 水浒传:  18%|█▊        | 197/1081 [13:55<1:06:32,  4.52s/it]"
     ]
    },
    {
     "name": "stdout",
     "output_type": "stream",
     "text": [
      "朱仝和雷横在宋太公家中搜查，未找到宋江，决定只带宋太公回县，私下放过宋江，并抄录公文回县交差，同时朱仝还私下处理了宋江的案件，使其免受追责。\n"
     ]
    },
    {
     "name": "stderr",
     "output_type": "stream",
     "text": [
      "Processing 水浒传:  18%|█▊        | 198/1081 [13:59<1:02:43,  4.26s/it]"
     ]
    },
    {
     "name": "stdout",
     "output_type": "stream",
     "text": [
      "宋江因逃避官司藏身地窖，后与兄弟宋清一同逃亡，决定投奔江湖传说中的义士沧州横海郡柴大官人。\n"
     ]
    },
    {
     "name": "stderr",
     "output_type": "stream",
     "text": [
      "Processing 水浒传:  18%|█▊        | 199/1081 [14:03<1:05:43,  4.47s/it]"
     ]
    },
    {
     "name": "stdout",
     "output_type": "stream",
     "text": [
      "宋江和宋清前往沧州寻找柴大官人，得知柴进在东庄收租，遂被庄客引导至东庄。柴进热情接待宋江，并询问其来意，宋江表达了对柴进的敬仰并寻求庇护。\n"
     ]
    },
    {
     "name": "stderr",
     "output_type": "stream",
     "text": [
      "Processing 水浒传:  19%|█▊        | 200/1081 [14:08<1:04:09,  4.37s/it]"
     ]
    },
    {
     "name": "stdout",
     "output_type": "stream",
     "text": [
      "宋江因杀了阎婆惜逃至柴进庄上，柴进热情款待并提供庇护。酒后宋江不慎踩到正在取暖的大汉，引发冲突，柴进及时赶到平息了事态。\n"
     ]
    },
    {
     "name": "stderr",
     "output_type": "stream",
     "text": [
      "Processing 水浒传:  19%|█▊        | 201/1081 [14:11<1:01:27,  4.19s/it]"
     ]
    },
    {
     "name": "stdout",
     "output_type": "stream",
     "text": [
      "柴进介绍宋江给一位不认识宋江的大汉，大汉得知是宋江后，非常敬仰并跪拜道歉，原来这位大汉是武松。\n"
     ]
    },
    {
     "name": "stderr",
     "output_type": "stream",
     "text": [
      "Processing 水浒传:  19%|█▊        | 202/1081 [14:15<58:27,  3.99s/it]  "
     ]
    },
    {
     "name": "stdout",
     "output_type": "stream",
     "text": [
      "武松因酒后斗殴逃至宋江处避难，后患病，宋江留他安歇并资助衣物，武松思乡欲归，宋江送行。\n"
     ]
    },
    {
     "name": "stderr",
     "output_type": "stream",
     "text": [
      "Processing 水浒传:  19%|█▉        | 203/1081 [14:18<55:55,  3.82s/it]"
     ]
    },
    {
     "name": "stdout",
     "output_type": "stream",
     "text": [
      "宋江与武松结为义兄弟，宋江赠银后分别，武松独自前往阳谷县，途中在酒店饮酒吃肉。\n"
     ]
    },
    {
     "name": "stderr",
     "output_type": "stream",
     "text": [
      "Processing 水浒传:  19%|█▉        | 204/1081 [14:22<55:24,  3.79s/it]"
     ]
    },
    {
     "name": "stdout",
     "output_type": "stream",
     "text": [
      "武松在酒店要求加酒，店家因招牌“三碗不过冈”拒绝，但武松坚持要酒，最终店家无奈继续供应酒和肉。\n"
     ]
    },
    {
     "name": "stderr",
     "output_type": "stream",
     "text": [
      "Processing 水浒传:  19%|█▉        | 205/1081 [14:27<59:30,  4.08s/it]"
     ]
    },
    {
     "name": "stdout",
     "output_type": "stream",
     "text": [
      "武松喝了十八碗酒后，不听酒家劝阻，独自过景阳冈，途中发现官府警告有大虫出没的榜文，但仍不畏惧，继续前行。\n"
     ]
    },
    {
     "name": "stderr",
     "output_type": "stream",
     "text": [
      "Processing 水浒传:  19%|█▉        | 206/1081 [14:31<58:52,  4.04s/it]"
     ]
    },
    {
     "name": "stdout",
     "output_type": "stream",
     "text": [
      "武松在景阳冈遇到大虫，经过一番搏斗，最终用哨棒击打大虫，但因打在枯树上而折断哨棒，战斗仍在继续。\n"
     ]
    },
    {
     "name": "stderr",
     "output_type": "stream",
     "text": [
      "Processing 水浒传:  19%|█▉        | 207/1081 [14:34<56:50,  3.90s/it]"
     ]
    },
    {
     "name": "stdout",
     "output_type": "stream",
     "text": [
      "武松在景阳冈与一只大虫搏斗，最终将其击败，后遇到两名猎户，得知大虫已伤多人，县令正组织捕猎。\n"
     ]
    },
    {
     "name": "stderr",
     "output_type": "stream",
     "text": [
      "Processing 水浒传:  19%|█▉        | 208/1081 [14:38<57:50,  3.98s/it]"
     ]
    },
    {
     "name": "stdout",
     "output_type": "stream",
     "text": [
      "武松在冈子上打死了一只大虫，被猎户和乡夫发现并抬下山，受到当地上户和猎户的赞扬和接待，随后在庄上休息，准备迎接县里的来人。\n"
     ]
    },
    {
     "name": "stderr",
     "output_type": "stream",
     "text": [
      "Processing 水浒传:  19%|█▉        | 209/1081 [14:42<54:04,  3.72s/it]"
     ]
    },
    {
     "name": "stdout",
     "output_type": "stream",
     "text": [
      "武松打死景阳冈上的老虎，受到村民和知县的赞扬与奖励，最终被任命为阳谷县的都头。\n"
     ]
    },
    {
     "name": "stderr",
     "output_type": "stream",
     "text": [
      "Processing 水浒传:  19%|█▉        | 210/1081 [14:45<54:38,  3.76s/it]"
     ]
    },
    {
     "name": "stdout",
     "output_type": "stream",
     "text": [
      "武松成为阳谷县都头后，偶遇久别的哥哥武大郎，得知武大因娶了潘金莲而遭受欺负，被迫搬家。\n"
     ]
    },
    {
     "name": "stderr",
     "output_type": "stream",
     "text": [
      "Processing 水浒传:  20%|█▉        | 211/1081 [14:49<53:34,  3.69s/it]"
     ]
    },
    {
     "name": "stdout",
     "output_type": "stream",
     "text": [
      "武大因被人嘲笑而搬家至阳谷县，偶遇成为都头的弟弟武松，带其回家与嫂子相见，嫂子对武松心生好感。\n"
     ]
    },
    {
     "name": "stderr",
     "output_type": "stream",
     "text": [
      "Processing 水浒传:  20%|█▉        | 212/1081 [14:53<53:42,  3.71s/it]"
     ]
    },
    {
     "name": "stdout",
     "output_type": "stream",
     "text": [
      "武松未曾婚娶，嫂嫂提议他搬来同住，表达了对武松的关心和好感，武松感谢嫂嫂的关心，两人在武大家中共同用餐。\n"
     ]
    },
    {
     "name": "stderr",
     "output_type": "stream",
     "text": [
      "Processing 水浒传:  20%|█▉        | 213/1081 [14:58<59:41,  4.13s/it]"
     ]
    },
    {
     "name": "stdout",
     "output_type": "stream",
     "text": [
      "武松与哥哥武大及嫂嫂潘金莲在家中用餐，潘金莲对武松表现出过分关心，武松则保持距离。饭后，潘金莲劝武松搬来同住，武松同意并搬入武大家中。次日，潘金莲热情地照顾武松的日常生活。\n"
     ]
    },
    {
     "name": "stderr",
     "output_type": "stream",
     "text": [
      "Processing 水浒传:  20%|█▉        | 214/1081 [15:03<1:03:14,  4.38s/it]"
     ]
    },
    {
     "name": "stdout",
     "output_type": "stream",
     "text": [
      "武松搬到哥哥家居住，受到嫂嫂的热情照顾，嫂嫂试图通过言语和行动吸引武松，但武松不为所动。一天大雪，嫂嫂趁武松不在家准备酒肉，试图进一步接近他，武松回家后礼貌回应，但保持距离。\n"
     ]
    },
    {
     "name": "stderr",
     "output_type": "stream",
     "text": [
      "Processing 水浒传:  20%|█▉        | 215/1081 [15:06<56:53,  3.94s/it]  "
     ]
    },
    {
     "name": "stdout",
     "output_type": "stream",
     "text": [
      "武松与嫂嫂共饮，嫂嫂试图引诱武松，但武松拒绝并表现出不快。\n"
     ]
    },
    {
     "name": "stderr",
     "output_type": "stream",
     "text": [
      "Processing 水浒传:  20%|█▉        | 216/1081 [15:09<52:57,  3.67s/it]"
     ]
    },
    {
     "name": "stdout",
     "output_type": "stream",
     "text": [
      "武松因被嫂嫂诬陷调戏而愤怒离开，武大无法阻止，武松最终收拾行李搬出家门。\n"
     ]
    },
    {
     "name": "stderr",
     "output_type": "stream",
     "text": [
      "Processing 水浒传:  20%|██        | 217/1081 [15:13<55:39,  3.86s/it]"
     ]
    },
    {
     "name": "stdout",
     "output_type": "stream",
     "text": [
      "武松搬出兄嫂家后，嫂子不满并咒骂他。武松被知县派往东京送礼，途中回访兄嫂，嫂子误会武松对她有意，武松则有事要与兄嫂商议。\n"
     ]
    },
    {
     "name": "stderr",
     "output_type": "stream",
     "text": [
      "Processing 水浒传:  20%|██        | 218/1081 [15:17<56:06,  3.90s/it]"
     ]
    },
    {
     "name": "stdout",
     "output_type": "stream",
     "text": [
      "武松在离别前劝告哥哥武大和嫂嫂注意安全，武大同意，但嫂嫂因武松的直言而感到羞辱并愤怒离开。\n"
     ]
    },
    {
     "name": "stderr",
     "output_type": "stream",
     "text": [
      "Processing 水浒传:  20%|██        | 219/1081 [15:22<1:01:30,  4.28s/it]"
     ]
    },
    {
     "name": "stdout",
     "output_type": "stream",
     "text": [
      "武松离开阳谷县前往东京，嘱咐武大谨慎行事，武大遵从兄弟建议改变生活习惯，但其妻不满并发生争执，最终因一次意外事件，武大妻失手用叉竿打中路人。\n"
     ]
    },
    {
     "name": "stderr",
     "output_type": "stream",
     "text": [
      "Processing 水浒传:  20%|██        | 220/1081 [15:27<1:03:29,  4.42s/it]"
     ]
    },
    {
     "name": "stdout",
     "output_type": "stream",
     "text": [
      "西门庆在街上与一妇人发生小冲突，后得知该妇人是武大郎的妻子。西门庆对妇人产生兴趣，询问王婆其身份，最终得知是武大郎的妻子。\n"
     ]
    },
    {
     "name": "stderr",
     "output_type": "stream",
     "text": [
      "Processing 水浒传:  20%|██        | 221/1081 [15:32<1:03:51,  4.45s/it]"
     ]
    },
    {
     "name": "stdout",
     "output_type": "stream",
     "text": [
      "西门庆与王婆讨论婚姻和茶钱，王婆提到儿子外出未归，西门庆表达了对婚姻的不满，并请求王婆帮忙找合适的伴侣，王婆开玩笑说有一个九十三岁的女子，西门庆笑而离去。\n"
     ]
    },
    {
     "name": "stderr",
     "output_type": "stream",
     "text": [
      "Processing 水浒传:  21%|██        | 222/1081 [15:36<1:01:44,  4.31s/it]"
     ]
    },
    {
     "name": "stdout",
     "output_type": "stream",
     "text": [
      "西门庆在王婆茶馆吃和合汤，次日又来喝茶并询问邻家炊饼，王婆观察西门庆频繁来往，西门庆给王婆银子作为茶钱。\n"
     ]
    },
    {
     "name": "stderr",
     "output_type": "stream",
     "text": [
      "Processing 水浒传:  21%|██        | 223/1081 [15:40<1:00:58,  4.26s/it]"
     ]
    },
    {
     "name": "stdout",
     "output_type": "stream",
     "text": [
      "西门庆与王婆讨论如何追求心仪女子，王婆提出“潘、驴、邓、小、闲”五条件，西门庆自认符合，但王婆提醒还有一事可能成为障碍。\n"
     ]
    },
    {
     "name": "stderr",
     "output_type": "stream",
     "text": [
      "Processing 水浒传:  21%|██        | 224/1081 [15:44<1:00:22,  4.23s/it]"
     ]
    },
    {
     "name": "stdout",
     "output_type": "stream",
     "text": [
      "西门庆向王婆请教如何接近一位女子，王婆提出一个计划，需要西门庆提供一些材料和金钱，西门庆答应了，王婆详细说明了如何逐步接近女子的步骤。\n"
     ]
    },
    {
     "name": "stderr",
     "output_type": "stream",
     "text": [
      "Processing 水浒传:  21%|██        | 225/1081 [15:47<57:39,  4.04s/it]  "
     ]
    },
    {
     "name": "stdout",
     "output_type": "stream",
     "text": [
      "王婆设计引诱西门庆与某女子发生关系，通过一系列精心安排的步骤和条件，最终西门庆同意并准备实施计划。\n"
     ]
    },
    {
     "name": "stderr",
     "output_type": "stream",
     "text": [
      "Processing 水浒传:  21%|██        | 226/1081 [15:51<55:02,  3.86s/it]"
     ]
    },
    {
     "name": "stdout",
     "output_type": "stream",
     "text": [
      "王婆请求潘金莲帮忙做衣服，潘金莲同意后，王婆安排好一切等待潘金莲的到来。\n"
     ]
    },
    {
     "name": "stderr",
     "output_type": "stream",
     "text": [
      "Processing 水浒传:  21%|██        | 227/1081 [15:55<54:18,  3.82s/it]"
     ]
    },
    {
     "name": "stdout",
     "output_type": "stream",
     "text": [
      "王婆请潘金莲帮忙做衣裳，并提供茶点和酒食，潘金莲按照武大的建议，带钱回礼，王婆殷勤相待。\n"
     ]
    },
    {
     "name": "stderr",
     "output_type": "stream",
     "text": [
      "Processing 水浒传:  21%|██        | 228/1081 [16:00<1:00:41,  4.27s/it]"
     ]
    },
    {
     "name": "stdout",
     "output_type": "stream",
     "text": [
      "西门庆打扮整齐，带着银子来到王婆的茶房，与正在缝纫的武大郎的妻子见面，王婆介绍两人认识，西门庆赞美武大郎的妻子手艺，并询问她的身份，得知是武大郎的妻子后，西门庆表现出对武大郎的赞赏。\n"
     ]
    },
    {
     "name": "stderr",
     "output_type": "stream",
     "text": [
      "Processing 水浒传:  21%|██        | 229/1081 [16:04<1:01:43,  4.35s/it]"
     ]
    },
    {
     "name": "stdout",
     "output_type": "stream",
     "text": [
      "王婆介绍西门庆给潘金莲认识，西门庆对潘金莲产生兴趣，王婆安排两人相聚，西门庆试图讨好潘金莲，但潘金莲保持距离，王婆则尽力撮合。\n"
     ]
    },
    {
     "name": "stderr",
     "output_type": "stream",
     "text": [
      "Processing 水浒传:  21%|██▏       | 230/1081 [16:08<57:24,  4.05s/it]  "
     ]
    },
    {
     "name": "stdout",
     "output_type": "stream",
     "text": [
      "西门庆与王婆讨论武大郎的妻子，赞美其美貌与才能，同时表达对自己婚姻的不满，王婆提议寻找更合适的伴侣。\n"
     ]
    },
    {
     "name": "stderr",
     "output_type": "stream",
     "text": [
      "Processing 水浒传:  21%|██▏       | 231/1081 [16:12<58:11,  4.11s/it]"
     ]
    },
    {
     "name": "stdout",
     "output_type": "stream",
     "text": [
      "西门庆在王婆的安排下与一妇人私会，王婆发现后威胁要揭发，最终三人达成协议，妇人承诺每日与西门庆相会，王婆则保持沉默。\n"
     ]
    },
    {
     "name": "stderr",
     "output_type": "stream",
     "text": [
      "Processing 水浒传:  21%|██▏       | 232/1081 [16:16<56:58,  4.03s/it]"
     ]
    },
    {
     "name": "stdout",
     "output_type": "stream",
     "text": [
      "西门庆与武大老婆私通，街坊皆知但瞒着武大。郓哥得知后，试图找到西门庆赚钱养父，却被王婆阻止。\n"
     ]
    },
    {
     "name": "stderr",
     "output_type": "stream",
     "text": [
      "Processing 水浒传:  22%|██▏       | 233/1081 [16:20<55:28,  3.93s/it]"
     ]
    },
    {
     "name": "stdout",
     "output_type": "stream",
     "text": [
      "郓哥与王婆争吵后，被打出街，决定去找武大郎揭露王婆的秘密，暗示武大郎的妻子与西门大官人有染。\n"
     ]
    },
    {
     "name": "stderr",
     "output_type": "stream",
     "text": [
      "Processing 水浒传:  22%|██▏       | 234/1081 [16:24<55:35,  3.94s/it]"
     ]
    },
    {
     "name": "stdout",
     "output_type": "stream",
     "text": [
      "武大郎请郓哥喝酒，郓哥透露西门庆与武大郎妻子有染，并计划帮助武大郎捉奸。\n"
     ]
    },
    {
     "name": "stderr",
     "output_type": "stream",
     "text": [
      "Processing 水浒传:  22%|██▏       | 235/1081 [16:28<58:59,  4.18s/it]"
     ]
    },
    {
     "name": "stdout",
     "output_type": "stream",
     "text": [
      "武大郎与郓哥合谋捉奸，武大假装外出，郓哥在茶坊挑衅王婆引开注意，武大趁机冲入房内，西门庆躲入床底。\n"
     ]
    },
    {
     "name": "stderr",
     "output_type": "stream",
     "text": [
      "Processing 水浒传:  22%|██▏       | 236/1081 [16:33<1:02:02,  4.41s/it]"
     ]
    },
    {
     "name": "stdout",
     "output_type": "stream",
     "text": [
      "武大捉奸被西门庆踢伤，西门庆与潘金莲继续私通，武大病重无人照料，警告潘金莲若不照顾他，其弟武松回来不会放过他们。\n"
     ]
    },
    {
     "name": "stderr",
     "output_type": "stream",
     "text": [
      "Processing 水浒传:  22%|██▏       | 237/1081 [16:37<59:20,  4.22s/it]  "
     ]
    },
    {
     "name": "stdout",
     "output_type": "stream",
     "text": [
      "西门庆与王婆密谋用砒霜毒死武大，以便与潘金莲长期私通，王婆教导潘金莲如何下药。\n"
     ]
    },
    {
     "name": "stderr",
     "output_type": "stream",
     "text": [
      "Processing 水浒传:  22%|██▏       | 238/1081 [16:41<58:10,  4.14s/it]"
     ]
    },
    {
     "name": "stdout",
     "output_type": "stream",
     "text": [
      "西门庆与王婆合谋，通过王婆将砒霜交给妇人，妇人趁武大郎病重时将毒药混入药中喂给他，武大郎中毒身亡。\n"
     ]
    },
    {
     "name": "stderr",
     "output_type": "stream",
     "text": [
      "Processing 水浒传:  22%|██▏       | 239/1081 [16:44<54:45,  3.90s/it]"
     ]
    },
    {
     "name": "stdout",
     "output_type": "stream",
     "text": [
      "武大郎被妻子毒死，妻子与王婆合谋掩盖真相，西门庆介入处理后事，担心团头何九叔发现破绽。\n"
     ]
    },
    {
     "name": "stderr",
     "output_type": "stream",
     "text": [
      "Processing 水浒传:  22%|██▏       | 240/1081 [16:48<54:15,  3.87s/it]"
     ]
    },
    {
     "name": "stdout",
     "output_type": "stream",
     "text": [
      "武大郎因病去世，其妻假哭，邻居怀疑死因不明。王婆安排后事，何九叔被西门庆贿赂以掩盖真相。\n"
     ]
    },
    {
     "name": "stderr",
     "output_type": "stream",
     "text": [
      "Processing 水浒传:  22%|██▏       | 241/1081 [16:52<54:16,  3.88s/it]"
     ]
    },
    {
     "name": "stdout",
     "output_type": "stream",
     "text": [
      "何九叔在处理武大郎尸首时，发现武大郎可能是中毒身亡，而西门庆给了他十两银子要求遮盖真相，何九叔因此中毒昏迷。\n"
     ]
    },
    {
     "name": "stderr",
     "output_type": "stream",
     "text": [
      "Processing 水浒传:  22%|██▏       | 242/1081 [16:55<51:46,  3.70s/it]"
     ]
    },
    {
     "name": "stdout",
     "output_type": "stream",
     "text": [
      "何九叔和老婆计划在武大郎的葬礼上偷取骨头作为证据，以防武松回来追究武大郎之死。\n"
     ]
    },
    {
     "name": "stderr",
     "output_type": "stream",
     "text": [
      "Processing 水浒传:  22%|██▏       | 243/1081 [16:59<50:25,  3.61s/it]"
     ]
    },
    {
     "name": "stdout",
     "output_type": "stream",
     "text": [
      "武松回家发现哥哥武大郎已死，嫂嫂与西门庆私通，武松察觉异常，西门庆闻讯逃走。\n"
     ]
    },
    {
     "name": "stderr",
     "output_type": "stream",
     "text": [
      "Processing 水浒传:  23%|██▎       | 244/1081 [17:02<51:02,  3.66s/it]"
     ]
    },
    {
     "name": "stdout",
     "output_type": "stream",
     "text": [
      "武松询问其哥哥死因，得知哥哥因急心疼去世，已烧化埋葬。武松在家中设祭，夜间灵床前出现异象，武松怀疑哥哥死因不明。\n"
     ]
    },
    {
     "name": "stderr",
     "output_type": "stream",
     "text": [
      "Processing 水浒传:  23%|██▎       | 245/1081 [17:06<49:44,  3.57s/it]"
     ]
    },
    {
     "name": "stdout",
     "output_type": "stream",
     "text": [
      "武松经历了一场关于哥哥死亡的神秘体验，怀疑其死因不明，随后调查哥哥的死因，询问相关人物并逐渐揭露真相。\n"
     ]
    },
    {
     "name": "stderr",
     "output_type": "stream",
     "text": [
      "Processing 水浒传:  23%|██▎       | 246/1081 [17:10<52:31,  3.77s/it]"
     ]
    },
    {
     "name": "stdout",
     "output_type": "stream",
     "text": [
      "武松逼问何九叔关于哥哥武大郎死亡的真相，何九叔透露武大郎被西门庆毒死，并提供了证据。武松决定找郓哥进一步调查。\n"
     ]
    },
    {
     "name": "stderr",
     "output_type": "stream",
     "text": [
      "Processing 水浒传:  23%|██▎       | 247/1081 [17:14<54:20,  3.91s/it]"
     ]
    },
    {
     "name": "stdout",
     "output_type": "stream",
     "text": [
      "何九叔和武松找到郓哥，武松给郓哥银子让他帮忙，郓哥讲述了与武大郎捉奸失败的经过，以及武大郎被西门庆踢死的情形。\n"
     ]
    },
    {
     "name": "stderr",
     "output_type": "stream",
     "text": [
      "Processing 水浒传:  23%|██▎       | 248/1081 [17:18<55:35,  4.00s/it]"
     ]
    },
    {
     "name": "stdout",
     "output_type": "stream",
     "text": [
      "武松向何九叔和郓哥求证兄长武大被西门庆与嫂子通奸谋杀的事实，但知县因受贿赂而不予追究，武松决定自行处理此事。\n"
     ]
    },
    {
     "name": "stderr",
     "output_type": "stream",
     "text": [
      "Processing 水浒传:  23%|██▎       | 249/1081 [17:24<1:03:20,  4.57s/it]"
     ]
    },
    {
     "name": "stdout",
     "output_type": "stream",
     "text": [
      "武松安排祭奠亡兄，邀请邻里共饮，逐一请来王婆、姚二郎、赵四郎、胡正卿及张公，准备揭露嫂嫂与西门庆的奸情。\n"
     ]
    },
    {
     "name": "stderr",
     "output_type": "stream",
     "text": [
      "Processing 水浒传:  23%|██▎       | 250/1081 [17:29<1:05:17,  4.71s/it]"
     ]
    },
    {
     "name": "stdout",
     "output_type": "stream",
     "text": [
      "武松邀请邻舍和王婆共六人聚餐，关上门后，武松拿出刀子，要求众人作证，表明自己要报仇，不伤及无辜。\n"
     ]
    },
    {
     "name": "stderr",
     "output_type": "stream",
     "text": [
      "Processing 水浒传:  23%|██▎       | 251/1081 [17:34<1:03:14,  4.57s/it]"
     ]
    },
    {
     "name": "stdout",
     "output_type": "stream",
     "text": [
      "武松审问王婆和妇人关于其兄武大郎之死，妇人最终招认与西门庆通奸并合谋杀害武大郎，武松记录下供词，准备为兄报仇。\n"
     ]
    },
    {
     "name": "stderr",
     "output_type": "stream",
     "text": [
      "Processing 水浒传:  23%|██▎       | 252/1081 [17:38<1:00:12,  4.36s/it]"
     ]
    },
    {
     "name": "stdout",
     "output_type": "stream",
     "text": [
      "武松杀死了妇人，挖出其内脏并割下头颅，随后前往西门庆的生药铺和酒楼，最终在酒楼上用妇人的头攻击西门庆。\n"
     ]
    },
    {
     "name": "stderr",
     "output_type": "stream",
     "text": [
      "Processing 水浒传:  23%|██▎       | 253/1081 [17:42<1:02:02,  4.50s/it]"
     ]
    },
    {
     "name": "stdout",
     "output_type": "stream",
     "text": [
      "武松在与西门庆的激烈打斗中，巧妙躲避并反击，最终将西门庆击败并割下其头颅，随后带着两颗人头和刀回到紫石街，将头颅供奉在哥哥灵前，并准备前往县里自首。\n"
     ]
    },
    {
     "name": "stderr",
     "output_type": "stream",
     "text": [
      "Processing 水浒传:  23%|██▎       | 254/1081 [17:46<58:21,  4.23s/it]  "
     ]
    },
    {
     "name": "stdout",
     "output_type": "stream",
     "text": [
      "武松因嫂子不容祭祀亡兄而与之争斗，误杀嫂子及西门庆，后被知县周全改写招状，送往东平府审理。\n"
     ]
    },
    {
     "name": "stderr",
     "output_type": "stream",
     "text": [
      "Processing 水浒传:  24%|██▎       | 255/1081 [17:50<58:40,  4.26s/it]"
     ]
    },
    {
     "name": "stdout",
     "output_type": "stream",
     "text": [
      "武松因报兄仇杀死西门庆，被判脊仗四十并刺配孟州。王婆因唆使毒杀亲夫被凌迟处死。其余涉案人员各得其罚，武松被押往孟州。\n"
     ]
    },
    {
     "name": "stderr",
     "output_type": "stream",
     "text": [
      "Processing 水浒传:  24%|██▎       | 256/1081 [17:54<54:20,  3.95s/it]"
     ]
    },
    {
     "name": "stdout",
     "output_type": "stream",
     "text": [
      "武松与两个公人在孟州道上寻找酒肉，来到十字坡酒店，妇人热情迎接，武松要求上酒肉和馒头。\n"
     ]
    },
    {
     "name": "stderr",
     "output_type": "stream",
     "text": [
      "Processing 水浒传:  24%|██▍       | 257/1081 [17:57<52:23,  3.81s/it]"
     ]
    },
    {
     "name": "stdout",
     "output_type": "stream",
     "text": [
      "武松在十字坡遇到一妇人卖酒肉，怀疑馒头是人肉做的，妇人否认，武松试探后发现妇人不怀好意，准备应对。\n"
     ]
    },
    {
     "name": "stderr",
     "output_type": "stream",
     "text": [
      "Processing 水浒传:  24%|██▍       | 258/1081 [18:01<54:45,  3.99s/it]"
     ]
    },
    {
     "name": "stdout",
     "output_type": "stream",
     "text": [
      "武松与两公人被妇人下药迷倒，妇人计划将他们卖掉，但武松假装昏迷后制服妇人，此时一挑柴人进来求饶，得知武松是打虎英雄后拜见。\n"
     ]
    },
    {
     "name": "stderr",
     "output_type": "stream",
     "text": [
      "Processing 水浒传:  24%|██▍       | 259/1081 [18:06<59:04,  4.31s/it]"
     ]
    },
    {
     "name": "stdout",
     "output_type": "stream",
     "text": [
      "武松偶遇张青和孙二娘夫妇，得知张青原是光明寺种菜园子，因争斗杀了僧人，后在此地剪径，结识江湖好汉，孙二娘则继承父亲本事，两人在此卖酒，实则用蒙汗药害人卖肉。\n"
     ]
    },
    {
     "name": "stderr",
     "output_type": "stream",
     "text": [
      "Processing 水浒传:  24%|██▍       | 260/1081 [18:14<1:11:34,  5.23s/it]"
     ]
    },
    {
     "name": "stdout",
     "output_type": "stream",
     "text": [
      "武松在江湖上听说两个英雄，但未能相见。张青提到一个被杀的头陀，留下珍贵的武器和物品。张青告诫妻子不要伤害行院妓女和犯罪流配的人，但妻子未听从。武松因怀疑孙二娘意图不轨而故意说风话，最终揭露了她的企图。张青和武松相见后，武松请求释放被捕的公人，并解释了自己的罪行。张青对武松表示欢迎，并计划下一步行动。\n"
     ]
    },
    {
     "name": "stderr",
     "output_type": "stream",
     "text": [
      "Processing 水浒传:  24%|██▍       | 261/1081 [18:19<1:12:49,  5.33s/it]"
     ]
    },
    {
     "name": "stdout",
     "output_type": "stream",
     "text": [
      "张青提议武松落草，武松拒绝并要求救醒被迷晕的公人，张青照做。随后，张青、武松与公人共饮，讨论江湖事，武松保证不害公人。张青留住武松三日，结拜为兄弟后，武松继续前往孟州。\n"
     ]
    },
    {
     "name": "stderr",
     "output_type": "stream",
     "text": [
      "Processing 水浒传:  24%|██▍       | 262/1081 [18:23<1:05:16,  4.78s/it]"
     ]
    },
    {
     "name": "stdout",
     "output_type": "stream",
     "text": [
      "武松被押解至孟州牢城营，拒绝贿赂差拨，差拨愤怒离去，众囚徒担心武松因此受苦。\n"
     ]
    },
    {
     "name": "stderr",
     "output_type": "stream",
     "text": [
      "Processing 水浒传:  24%|██▍       | 263/1081 [18:27<1:04:14,  4.71s/it]"
     ]
    },
    {
     "name": "stdout",
     "output_type": "stream",
     "text": [
      "武松被带到点视厅前，面对即将执行的杀威棒，他表现出无畏的态度，拒绝任何特殊待遇。管营因武松自称未曾生病，决定暂时寄下杀威棒，但警告他可能会有更严厉的惩罚。\n"
     ]
    },
    {
     "name": "stderr",
     "output_type": "stream",
     "text": [
      "Processing 水浒传:  24%|██▍       | 264/1081 [18:37<1:24:21,  6.20s/it]"
     ]
    },
    {
     "name": "stdout",
     "output_type": "stream",
     "text": [
      "武松被安排吃丰盛的饭菜和洗浴，心中疑虑对方有何阴谋，但决定享受并观察情况，一夜无事。\n"
     ]
    },
    {
     "name": "stderr",
     "output_type": "stream",
     "text": [
      "Processing 水浒传:  25%|██▍       | 265/1081 [18:41<1:13:22,  5.39s/it]"
     ]
    },
    {
     "name": "stdout",
     "output_type": "stream",
     "text": [
      "武松被好酒好食款待，心中疑惑不解，询问后得知是管营相公的安排，但仍感困惑。\n"
     ]
    },
    {
     "name": "stderr",
     "output_type": "stream",
     "text": [
      "Processing 水浒传:  25%|██▍       | 266/1081 [18:45<1:07:41,  4.98s/it]"
     ]
    },
    {
     "name": "stdout",
     "output_type": "stream",
     "text": [
      "武松询问为何有人送酒食给他，得知是小管营施恩所为，感到疑惑。施恩最终出现，表达了对武松的敬仰，并解释了送酒食的原因。\n"
     ]
    },
    {
     "name": "stderr",
     "output_type": "stream",
     "text": [
      "Processing 水浒传:  25%|██▍       | 267/1081 [18:48<1:02:23,  4.60s/it]"
     ]
    },
    {
     "name": "stdout",
     "output_type": "stream",
     "text": [
      "武松询问施恩有何事相求，施恩表示需等武松体力恢复后再谈，武松展示超凡力量后，施恩承诺稍后告知详情。\n"
     ]
    },
    {
     "name": "stderr",
     "output_type": "stream",
     "text": [
      "Processing 水浒传:  25%|██▍       | 268/1081 [18:52<57:38,  4.25s/it]  "
     ]
    },
    {
     "name": "stdout",
     "output_type": "stream",
     "text": [
      "武松听施恩诉说被蒋门神欺压之事，决心帮助施恩重夺快活林，展现其打虎英雄本色。\n"
     ]
    },
    {
     "name": "stderr",
     "output_type": "stream",
     "text": [
      "Processing 水浒传:  25%|██▍       | 269/1081 [18:57<59:40,  4.41s/it]"
     ]
    },
    {
     "name": "stdout",
     "output_type": "stream",
     "text": [
      "武松得知蒋门神欺负施恩，决心帮助施恩报仇，不顾施恩的犹豫，坚持立即行动。老管营出现，表达对武松的敬仰，并请求武松接受施恩的拜托，武松虽谦虚但最终接受。\n"
     ]
    },
    {
     "name": "stderr",
     "output_type": "stream",
     "text": [
      "Processing 水浒传:  25%|██▍       | 270/1081 [19:00<56:09,  4.15s/it]"
     ]
    },
    {
     "name": "stdout",
     "output_type": "stream",
     "text": [
      "武松与施恩结为兄弟，施恩因武松醉酒推迟其任务，次日武松要求每遇酒店必饮三碗酒，以此为条件前往执行任务。\n"
     ]
    },
    {
     "name": "stderr",
     "output_type": "stream",
     "text": [
      "Processing 水浒传:  25%|██▌       | 271/1081 [19:04<55:03,  4.08s/it]"
     ]
    },
    {
     "name": "stdout",
     "output_type": "stream",
     "text": [
      "武松与施恩前往快活林，途中武松坚持饮酒以增强力量，两人在多个酒肆停留，武松每次必饮三碗酒，以保持状态准备挑战蒋门神。\n"
     ]
    },
    {
     "name": "stderr",
     "output_type": "stream",
     "text": [
      "Processing 水浒传:  25%|██▌       | 272/1081 [19:07<51:21,  3.81s/it]"
     ]
    },
    {
     "name": "stdout",
     "output_type": "stream",
     "text": [
      "武松与施恩一路喝酒前往快活林，武松假装醉酒，独自前往蒋门神的酒店，准备挑战蒋门神。\n"
     ]
    },
    {
     "name": "stderr",
     "output_type": "stream",
     "text": [
      "Processing 水浒传:  25%|██▌       | 273/1081 [19:10<48:14,  3.58s/it]"
     ]
    },
    {
     "name": "stdout",
     "output_type": "stream",
     "text": [
      "武松在酒店挑剔酒质，要求换酒，最终因不满服务与店主妇人发生冲突，将其丢入酒缸。\n"
     ]
    },
    {
     "name": "stderr",
     "output_type": "stream",
     "text": [
      "Processing 水浒传:  25%|██▌       | 274/1081 [19:14<47:56,  3.56s/it]"
     ]
    },
    {
     "name": "stdout",
     "output_type": "stream",
     "text": [
      "武松在快活林酒馆内打败多名酒保和蒋门神，要求蒋门神离开快活林并归还所有财物给原主施恩。\n"
     ]
    },
    {
     "name": "stderr",
     "output_type": "stream",
     "text": [
      "Processing 水浒传:  25%|██▌       | 275/1081 [19:18<49:22,  3.68s/it]"
     ]
    },
    {
     "name": "stdout",
     "output_type": "stream",
     "text": [
      "武松打败蒋门神后，要求他请快活林的英雄豪杰来向施恩赔罪，并迫使蒋门神离开快活林，不得再回孟州。\n"
     ]
    },
    {
     "name": "stderr",
     "output_type": "stream",
     "text": [
      "Processing 水浒传:  26%|██▌       | 276/1081 [19:24<59:43,  4.45s/it]"
     ]
    },
    {
     "name": "stdout",
     "output_type": "stream",
     "text": [
      "武松在快活林打败蒋门神，重霸酒店，施恩感激，生意兴隆。后武松被张都监召去，施恩无奈送行。\n"
     ]
    },
    {
     "name": "stderr",
     "output_type": "stream",
     "text": [
      "Processing 水浒传:  26%|██▌       | 277/1081 [19:30<1:04:05,  4.78s/it]"
     ]
    },
    {
     "name": "stdout",
     "output_type": "stream",
     "text": [
      "武松被张都监召为亲随，受到优待，后在中秋宴上被张都监挽留共饮。\n"
     ]
    },
    {
     "name": "stderr",
     "output_type": "stream",
     "text": [
      "Processing 水浒传:  26%|██▌       | 278/1081 [19:34<1:02:58,  4.71s/it]"
     ]
    },
    {
     "name": "stdout",
     "output_type": "stream",
     "text": [
      "张都监设宴款待武松，劝其饮酒并让养娘玉兰唱曲助兴，酒后许诺将玉兰许配给武松，武松感激不尽，宴后独自在月下练习武艺。\n"
     ]
    },
    {
     "name": "stderr",
     "output_type": "stream",
     "text": [
      "Processing 水浒传:  26%|██▌       | 279/1081 [19:38<1:00:02,  4.49s/it]"
     ]
    },
    {
     "name": "stdout",
     "output_type": "stream",
     "text": [
      "武松在张都监家被陷害为贼，尽管他试图解释自己是在捉贼，但最终被捕并被发现房内有赃物，遭到严厉的指控和监禁。\n"
     ]
    },
    {
     "name": "stderr",
     "output_type": "stream",
     "text": [
      "Processing 水浒传:  26%|██▌       | 280/1081 [19:43<1:00:19,  4.52s/it]"
     ]
    },
    {
     "name": "stdout",
     "output_type": "stream",
     "text": [
      "武松被张都监陷害入狱，被迫招认盗窃罪，施恩得知后求助康节级，康节级透露张都监与张团练合谋陷害武松，但因叶孔目坚持正义，武松未受太大苦。\n"
     ]
    },
    {
     "name": "stderr",
     "output_type": "stream",
     "text": [
      "Processing 水浒传:  26%|██▌       | 281/1081 [19:48<1:04:30,  4.84s/it]"
     ]
    },
    {
     "name": "stdout",
     "output_type": "stream",
     "text": [
      "施恩通过贿赂康节级和叶孔目，试图救出被陷害的武松，同时张都监和知府因受贿而试图加害武松，最终施恩因被张团练家心腹发现而停止探监，武松则由康节级和众牢子照管。\n"
     ]
    },
    {
     "name": "stderr",
     "output_type": "stream",
     "text": [
      "Processing 水浒传:  26%|██▌       | 282/1081 [19:53<1:02:24,  4.69s/it]"
     ]
    },
    {
     "name": "stdout",
     "output_type": "stream",
     "text": [
      "武松被陷害后，经过叶孔目和知府的关照，被轻判脊杖并刺配恩州。途中，施恩送来衣物和熟鹅，但被公人拒绝，武松带着不满上路。\n"
     ]
    },
    {
     "name": "stderr",
     "output_type": "stream",
     "text": [
      "Processing 水浒传:  26%|██▌       | 283/1081 [19:56<58:54,  4.43s/it]  "
     ]
    },
    {
     "name": "stdout",
     "output_type": "stream",
     "text": [
      "武松在施恩的提醒下，带着防备上路，途中识破两个公人和两个提朴刀人的阴谋，在飞云浦利用机会反击，成功击败并杀死所有敌人。\n"
     ]
    },
    {
     "name": "stderr",
     "output_type": "stream",
     "text": [
      "Processing 水浒传:  26%|██▋       | 284/1081 [20:00<55:03,  4.14s/it]"
     ]
    },
    {
     "name": "stdout",
     "output_type": "stream",
     "text": [
      "武松在飞云浦击败并杀死企图害他的四人，得知蒋门神等在鸳鸯楼，决定回孟州城复仇。\n"
     ]
    },
    {
     "name": "stderr",
     "output_type": "stream",
     "text": [
      "Processing 水浒传:  26%|██▋       | 285/1081 [20:04<54:44,  4.13s/it]"
     ]
    },
    {
     "name": "stdout",
     "output_type": "stream",
     "text": [
      "武松持刀逼问后槽张都监下落，得知其在鸳鸯楼后杀死后槽，换装并潜入厨房杀两丫环，最终悄悄接近鸳鸯楼准备复仇。\n"
     ]
    },
    {
     "name": "stderr",
     "output_type": "stream",
     "text": [
      "Processing 水浒传:  26%|██▋       | 286/1081 [20:08<55:26,  4.18s/it]"
     ]
    },
    {
     "name": "stdout",
     "output_type": "stream",
     "text": [
      "武松得知蒋门神等人计划害他，愤怒之下持刀闯入楼中，连杀蒋门神、张都监和张团练，并在墙上留下“杀人者，打虎武松也”的血字。\n"
     ]
    },
    {
     "name": "stderr",
     "output_type": "stream",
     "text": [
      "Processing 水浒传:  27%|██▋       | 287/1081 [20:12<52:04,  3.94s/it]"
     ]
    },
    {
     "name": "stdout",
     "output_type": "stream",
     "text": [
      "武松在楼上连杀数人后，持刀逃离孟州城，夜渡城濠，最终在一座小古庙中休息。\n"
     ]
    },
    {
     "name": "stderr",
     "output_type": "stream",
     "text": [
      "Processing 水浒传:  27%|██▋       | 288/1081 [20:15<50:33,  3.83s/it]"
     ]
    },
    {
     "name": "stdout",
     "output_type": "stream",
     "text": [
      "武松被四个男女绑架，误入张青和孙二娘的草屋，最终被认出并解救，张青询问武松遭遇。\n"
     ]
    },
    {
     "name": "stderr",
     "output_type": "stream",
     "text": [
      "Processing 水浒传:  27%|██▋       | 289/1081 [20:20<53:49,  4.08s/it]"
     ]
    },
    {
     "name": "stdout",
     "output_type": "stream",
     "text": [
      "武松被陷害入狱后，得到施恩帮助，后在押送途中反杀追杀者，返回孟州城复仇，杀死张都监等人后逃离，途中因疲劳被四人误捉，后被张青夫妇解救。\n"
     ]
    },
    {
     "name": "stderr",
     "output_type": "stream",
     "text": [
      "Processing 水浒传:  27%|██▋       | 290/1081 [20:24<54:51,  4.16s/it]"
     ]
    },
    {
     "name": "stdout",
     "output_type": "stream",
     "text": [
      "武松在快活林醉打蒋门神后，被张青夫妇救助。孟州城内发生连环杀人案，武松被指控为凶手，知府下令全城搜捕。\n"
     ]
    },
    {
     "name": "stderr",
     "output_type": "stream",
     "text": [
      "Processing 水浒传:  27%|██▋       | 291/1081 [20:29<55:17,  4.20s/it]"
     ]
    },
    {
     "name": "stdout",
     "output_type": "stream",
     "text": [
      "武松在张青家避难，得知官府追捕紧急，决定前往二龙山投靠鲁智深。孙二娘担心武松被认出，建议他改变外貌以逃避追捕。\n"
     ]
    },
    {
     "name": "stderr",
     "output_type": "stream",
     "text": [
      "Processing 水浒传:  27%|██▋       | 292/1081 [20:33<54:27,  4.14s/it]"
     ]
    },
    {
     "name": "stdout",
     "output_type": "stream",
     "text": [
      "武松在孙二娘的建议下，剪发装扮成行者以逃避追捕，并接受了张青的建议留下酒器换取银两，随后带着度牒和戒刀离开。\n"
     ]
    },
    {
     "name": "stderr",
     "output_type": "stream",
     "text": [
      "Processing 水浒传:  27%|██▋       | 293/1081 [20:37<55:38,  4.24s/it]"
     ]
    },
    {
     "name": "stdout",
     "output_type": "stream",
     "text": [
      "武松在十字坡告别张青夫妇，夜晚行至一座高岭，发现一坟庵中道士与妇人戏笑，愤怒之下杀死道童并迎战道士，最终在月光下决斗，一人生死未卜。\n"
     ]
    },
    {
     "name": "stderr",
     "output_type": "stream",
     "text": [
      "Processing 水浒传:  27%|██▋       | 294/1081 [20:41<54:29,  4.15s/it]"
     ]
    },
    {
     "name": "stdout",
     "output_type": "stream",
     "text": [
      "武行者在蜈蚣岭杀死自称飞天蜈蚣的王道人，救出被其强占的张太公女儿，并放火烧庵，随后继续前往青州。\n"
     ]
    },
    {
     "name": "stderr",
     "output_type": "stream",
     "text": [
      "Processing 水浒传:  27%|██▋       | 295/1081 [20:45<55:16,  4.22s/it]"
     ]
    },
    {
     "name": "stdout",
     "output_type": "stream",
     "text": [
      "武行者在村酒店要求买酒和肉，但店主表示只有白酒无肉。后有一大汉带人进店，店主热情接待并提供熟鸡和精肉，武行者感到被忽视和欺负，情绪激动。\n"
     ]
    },
    {
     "name": "stderr",
     "output_type": "stream",
     "text": [
      "Processing 水浒传:  27%|██▋       | 296/1081 [20:50<55:05,  4.21s/it]"
     ]
    },
    {
     "name": "stdout",
     "output_type": "stream",
     "text": [
      "武行者因想吃店里的青花瓮酒和鸡肉，与店主发生争执并动手打人，后与一旁的大汉发生冲突，最终武行者以强力制服大汉，独自享用酒肉。\n"
     ]
    },
    {
     "name": "stderr",
     "output_type": "stream",
     "text": [
      "Processing 水浒传:  27%|██▋       | 297/1081 [20:53<51:21,  3.93s/it]"
     ]
    },
    {
     "name": "stdout",
     "output_type": "stream",
     "text": [
      "武松醉酒沿溪行走，被黄狗追赶，不慎落入溪中，后被一群人捉拿带至大庄院。\n"
     ]
    },
    {
     "name": "stderr",
     "output_type": "stream",
     "text": [
      "Processing 水浒传:  28%|██▊       | 298/1081 [20:56<49:56,  3.83s/it]"
     ]
    },
    {
     "name": "stdout",
     "output_type": "stream",
     "text": [
      "武松被误认为贼行者并遭受拷打，后被宋江认出，解救并相认，原来武松已成行者，两人重逢叙旧。\n"
     ]
    },
    {
     "name": "stderr",
     "output_type": "stream",
     "text": [
      "Processing 水浒传:  28%|██▊       | 299/1081 [21:01<52:17,  4.01s/it]"
     ]
    },
    {
     "name": "stdout",
     "output_type": "stream",
     "text": [
      "武松与宋江在孔太公庄上重逢，武松讲述了自己从柴大官人庄上离开后的经历，包括打虎、做都头、杀西门庆等事，孔明孔亮听后大惊并拜谢武松。\n"
     ]
    },
    {
     "name": "stderr",
     "output_type": "stream",
     "text": [
      "Processing 水浒传:  28%|██▊       | 300/1081 [21:04<50:28,  3.88s/it]"
     ]
    },
    {
     "name": "stdout",
     "output_type": "stream",
     "text": [
      "宋江与武松在孔太公庄上相聚，武松决定投奔二龙山，宋江则计划前往清风寨，两人分别后各自启程。\n"
     ]
    },
    {
     "name": "stderr",
     "output_type": "stream",
     "text": [
      "Processing 水浒传:  28%|██▊       | 301/1081 [21:09<52:20,  4.03s/it]"
     ]
    },
    {
     "name": "stdout",
     "output_type": "stream",
     "text": [
      "宋江与武松一同前往二龙山和清风镇，途中宋江劝武松戒酒并期待未来相见，两人在瑞龙镇三岔路口分别，武松投奔二龙山，宋江独自前往清风镇。\n"
     ]
    },
    {
     "name": "stderr",
     "output_type": "stream",
     "text": [
      "Processing 水浒传:  28%|██▊       | 302/1081 [21:13<52:11,  4.02s/it]"
     ]
    },
    {
     "name": "stdout",
     "output_type": "stream",
     "text": [
      "宋江因杀阎婆惜逃至花知寨处，花荣热情接待并询问宋江近况，宋江细述经历，花荣不满宋江救助刘知寨的恶妻。\n"
     ]
    },
    {
     "name": "stderr",
     "output_type": "stream",
     "text": [
      "Processing 水浒传:  28%|██▊       | 303/1081 [21:16<50:17,  3.88s/it]"
     ]
    },
    {
     "name": "stdout",
     "output_type": "stream",
     "text": [
      "宋江在花荣寨中受到热情款待，每日有人陪伴游览清风镇，元宵节前夕，宋江计划独自去看灯，花荣因职责在身无法陪同。\n"
     ]
    },
    {
     "name": "stderr",
     "output_type": "stream",
     "text": [
      "Processing 水浒传:  28%|██▊       | 304/1081 [21:21<54:36,  4.22s/it]"
     ]
    },
    {
     "name": "stdout",
     "output_type": "stream",
     "text": [
      "宋江在清风镇看灯时被误认为贼，被刘知寨捉拿并审问，尽管宋江辩解自己是无辜的，但刘知寨的老婆坚称宋江是贼，导致宋江被绑并面临严厉的审讯。\n"
     ]
    },
    {
     "name": "stderr",
     "output_type": "stream",
     "text": [
      "Processing 水浒传:  28%|██▊       | 305/1081 [21:28<1:04:59,  5.02s/it]"
     ]
    },
    {
     "name": "stdout",
     "output_type": "stream",
     "text": [
      "宋江被误认为贼，遭受酷刑并被囚禁，花荣得知后带人救出宋江，并与刘知寨发生冲突。\n"
     ]
    },
    {
     "name": "stderr",
     "output_type": "stream",
     "text": [
      "Processing 水浒传:  28%|██▊       | 306/1081 [21:32<58:11,  4.51s/it]  "
     ]
    },
    {
     "name": "stdout",
     "output_type": "stream",
     "text": [
      "花荣展示高超箭术威慑来犯的二百军士，成功保卫寨子，并与宋江讨论如何应对刘高的报复。\n"
     ]
    },
    {
     "name": "stderr",
     "output_type": "stream",
     "text": [
      "Processing 水浒传:  28%|██▊       | 307/1081 [21:35<53:13,  4.13s/it]"
     ]
    },
    {
     "name": "stdout",
     "output_type": "stream",
     "text": [
      "宋江受伤后前往清风山躲避，刘知寨计划捉拿宋江并秘密上报青州府，企图陷害花荣。\n"
     ]
    },
    {
     "name": "stderr",
     "output_type": "stream",
     "text": [
      "Processing 水浒传:  28%|██▊       | 308/1081 [21:38<50:20,  3.91s/it]"
     ]
    },
    {
     "name": "stdout",
     "output_type": "stream",
     "text": [
      "黄信计划利用酒宴诱捕花荣，以解决清风寨文武不和的问题，同时将宋江作为清风山贼首逮捕。\n"
     ]
    },
    {
     "name": "stderr",
     "output_type": "stream",
     "text": [
      "Processing 水浒传:  29%|██▊       | 309/1081 [21:43<53:05,  4.13s/it]"
     ]
    },
    {
     "name": "stdout",
     "output_type": "stream",
     "text": [
      "黄信设宴调解刘高与花荣的矛盾，实则设下陷阱，当场逮捕花荣，指控其勾结清风山贼，宋江作为证人被带出，花荣辩解无效，被押送上州。\n"
     ]
    },
    {
     "name": "stderr",
     "output_type": "stream",
     "text": [
      "Processing 水浒传:  29%|██▊       | 310/1081 [21:47<51:31,  4.01s/it]"
     ]
    },
    {
     "name": "stdout",
     "output_type": "stream",
     "text": [
      "黄信和刘高押解宋江和花荣前往青州，途中被林中埋伏的燕顺、王英和郑天寿带领的小喽罗围困。\n"
     ]
    },
    {
     "name": "stderr",
     "output_type": "stream",
     "text": [
      "Processing 水浒传:  29%|██▉       | 311/1081 [21:50<51:03,  3.98s/it]"
     ]
    },
    {
     "name": "stdout",
     "output_type": "stream",
     "text": [
      "三个好汉拦路索要买路钱，黄信未能战胜，独自逃回，刘高被捕，宋江和花荣被救出，众人押刘高回山寨。\n"
     ]
    },
    {
     "name": "stderr",
     "output_type": "stream",
     "text": [
      "Processing 水浒传:  29%|██▉       | 312/1081 [21:55<52:15,  4.08s/it]"
     ]
    },
    {
     "name": "stdout",
     "output_type": "stream",
     "text": [
      "花荣与宋江被三位壮士救出后，计划救回花荣的家人，并决定攻打清风寨。同时，黄信向知府报告花荣叛变，知府紧急召见秦明商议对策。\n"
     ]
    },
    {
     "name": "stderr",
     "output_type": "stream",
     "text": [
      "Processing 水浒传:  29%|██▉       | 313/1081 [22:00<55:38,  4.35s/it]"
     ]
    },
    {
     "name": "stdout",
     "output_type": "stream",
     "text": [
      "秦明受命率军攻打反叛的花荣，慕容知府为其送行并嘱咐早奏凯歌。花荣在清风山寨准备迎战，计划先力敌后智取。秦明领兵至山下，花荣率众下山迎战。\n"
     ]
    },
    {
     "name": "stderr",
     "output_type": "stream",
     "text": [
      "Processing 水浒传:  29%|██▉       | 314/1081 [22:04<55:17,  4.33s/it]"
     ]
    },
    {
     "name": "stdout",
     "output_type": "stream",
     "text": [
      "秦明指责花荣反叛朝廷，花荣辩解是被刘高逼迫，两人交战后花荣用箭射中秦明盔顶，秦明愤怒但未能追上花荣，最终花荣逃回山寨。\n"
     ]
    },
    {
     "name": "stderr",
     "output_type": "stream",
     "text": [
      "Processing 水浒传:  29%|██▉       | 315/1081 [22:08<54:29,  4.27s/it]"
     ]
    },
    {
     "name": "stdout",
     "output_type": "stream",
     "text": [
      "秦明在西山和东山遭遇伏击，怒气冲天，带领军队寻找上山之路，但多次受阻，最终在夜间被火炮、火箭攻击，军队被迫躲入深坑，遭遇水患。\n"
     ]
    },
    {
     "name": "stderr",
     "output_type": "stream",
     "text": [
      "Processing 水浒传:  29%|██▉       | 316/1081 [22:12<52:37,  4.13s/it]"
     ]
    },
    {
     "name": "stdout",
     "output_type": "stream",
     "text": [
      "秦明率军被花荣和宋江设计诱入陷阱，大部被淹死或俘虏，秦明本人也被活捉并受到礼遇，最终被劝留数日。\n"
     ]
    },
    {
     "name": "stderr",
     "output_type": "stream",
     "text": [
      "Processing 水浒传:  29%|██▉       | 317/1081 [22:16<51:55,  4.08s/it]"
     ]
    },
    {
     "name": "stdout",
     "output_type": "stream",
     "text": [
      "秦明被好汉们劝留，不愿落草为寇，最终被归还盔甲、马匹和军器，返回青州，却发现城外已被烧毁，城门紧闭。\n"
     ]
    },
    {
     "name": "stderr",
     "output_type": "stream",
     "text": [
      "Processing 水浒传:  29%|██▉       | 318/1081 [22:19<49:29,  3.89s/it]"
     ]
    },
    {
     "name": "stdout",
     "output_type": "stream",
     "text": [
      "秦明被误认为是反贼，其妻子被杀，愤怒之下寻求报复，后被宋江等人邀请到山寨解释误会。\n"
     ]
    },
    {
     "name": "stderr",
     "output_type": "stream",
     "text": [
      "Processing 水浒传:  30%|██▉       | 319/1081 [22:24<51:55,  4.09s/it]"
     ]
    },
    {
     "name": "stdout",
     "output_type": "stream",
     "text": [
      "宋江设计让小卒假扮秦明攻城，导致秦明家人被杀，后宋江提议为秦明娶花知寨之妹，秦明最终归顺并计划说服黄信加入。\n"
     ]
    },
    {
     "name": "stderr",
     "output_type": "stream",
     "text": [
      "Processing 水浒传:  30%|██▉       | 320/1081 [22:30<1:00:13,  4.75s/it]"
     ]
    },
    {
     "name": "stdout",
     "output_type": "stream",
     "text": [
      "黄信在得知宋江真实身份后，后悔未释放他，随后与秦明一起迎接宋江和花荣等两路军马，最终众人一同回到山寨，黄信加入，宋江下令不伤百姓和寨兵，只杀刘高一家老小，并分赏财物给小喽罗。\n"
     ]
    },
    {
     "name": "stderr",
     "output_type": "stream",
     "text": [
      "Processing 水浒传:  30%|██▉       | 321/1081 [22:35<58:35,  4.63s/it]  "
     ]
    },
    {
     "name": "stdout",
     "output_type": "stream",
     "text": [
      "宋江救下一名妇人，但她恩将仇报，燕顺因此将其杀死。随后，宋江提议众人前往梁山泊投靠晁天王，众人同意并开始准备迁移。\n"
     ]
    },
    {
     "name": "stderr",
     "output_type": "stream",
     "text": [
      "Processing 水浒传:  30%|██▉       | 322/1081 [22:39<56:40,  4.48s/it]"
     ]
    },
    {
     "name": "stdout",
     "output_type": "stream",
     "text": [
      "宋江带领梁山好汉分三队下山，伪装成官军前往梁山泊，途中遇到两位壮士比武，花荣一箭射断缠绕的戟尾，化解了比武。\n"
     ]
    },
    {
     "name": "stderr",
     "output_type": "stream",
     "text": [
      "Processing 水浒传:  30%|██▉       | 323/1081 [22:42<52:11,  4.13s/it]"
     ]
    },
    {
     "name": "stdout",
     "output_type": "stream",
     "text": [
      "宋江和花荣遇到两位壮士吕方和郭盛，劝和他们后，四人计划一同前往梁山泊投奔晁盖聚义。\n"
     ]
    },
    {
     "name": "stderr",
     "output_type": "stream",
     "text": [
      "Processing 水浒传:  30%|██▉       | 324/1081 [22:46<50:06,  3.97s/it]"
     ]
    },
    {
     "name": "stdout",
     "output_type": "stream",
     "text": [
      "宋江和燕顺在路上遇到一家酒店，想让随从休息并饮酒，但因座位问题与一名壮汉发生争执，宋江劝阻燕顺不要冲突。\n"
     ]
    },
    {
     "name": "stderr",
     "output_type": "stream",
     "text": [
      "Processing 水浒传:  30%|███       | 325/1081 [22:50<52:06,  4.14s/it]"
     ]
    },
    {
     "name": "stdout",
     "output_type": "stream",
     "text": [
      "宋江偶遇石勇，石勇提及柴进和宋江是自己尊敬的两人，并透露宋清让他带家书找宋江。宋江确认身份后，石勇表达了对宋江的敬仰，并希望加入梁山泊。\n"
     ]
    },
    {
     "name": "stderr",
     "output_type": "stream",
     "text": [
      "Processing 水浒传:  30%|███       | 326/1081 [22:54<49:42,  3.95s/it]"
     ]
    },
    {
     "name": "stdout",
     "output_type": "stream",
     "text": [
      "宋江接到家书得知父亲去世，悲痛欲绝，决定立即回家奔丧，不顾燕顺和石勇的劝阻，独自匆忙离开。\n"
     ]
    },
    {
     "name": "stderr",
     "output_type": "stream",
     "text": [
      "Processing 水浒传:  30%|███       | 327/1081 [22:58<49:57,  3.98s/it]"
     ]
    },
    {
     "name": "stdout",
     "output_type": "stream",
     "text": [
      "燕顺、石勇向众人解释宋江因父丧急归，花荣、秦明带领众人投奔梁山泊，林冲和刘唐接待并验证宋江书信，最终众人被接纳入伙。\n"
     ]
    },
    {
     "name": "stderr",
     "output_type": "stream",
     "text": [
      "Processing 水浒传:  30%|███       | 328/1081 [23:02<51:37,  4.11s/it]"
     ]
    },
    {
     "name": "stdout",
     "output_type": "stream",
     "text": [
      "九位好汉被吴用、朱贵邀请上船，到达金沙摊后，晁盖带领全副鼓乐迎接，并在聚义厅设宴，花荣展示箭术，射中雁行内第三只雁，赢得众人敬佩。\n"
     ]
    },
    {
     "name": "stderr",
     "output_type": "stream",
     "text": [
      "Processing 水浒传:  30%|███       | 329/1081 [23:06<51:07,  4.08s/it]"
     ]
    },
    {
     "name": "stdout",
     "output_type": "stream",
     "text": [
      "梁山泊众头领庆祝花荣的英勇，重新安排坐次，准备对抗官军。宋江回家途中得知父亲去世的消息，但到达家乡后发现父亲并未去世，而是与村中长者饮酒。\n"
     ]
    },
    {
     "name": "stderr",
     "output_type": "stream",
     "text": [
      "Processing 水浒传:  31%|███       | 330/1081 [23:11<54:01,  4.32s/it]"
     ]
    },
    {
     "name": "stdout",
     "output_type": "stream",
     "text": [
      "宋江因误会宋清不孝而大怒，后得知是宋太公想见他而设的计策。宋太公解释了原因并告知朝廷已赦免大罪，宋江安心。夜晚，宋家庄被官兵包围，宋江面临被捕的危机。\n"
     ]
    },
    {
     "name": "stderr",
     "output_type": "stream",
     "text": [
      "Processing 水浒传:  31%|███       | 331/1081 [23:15<51:26,  4.12s/it]"
     ]
    },
    {
     "name": "stdout",
     "output_type": "stream",
     "text": [
      "宋江被捕，宋太公担心，宋江安慰父亲并计划自首，最终被带到县里，知县考虑到宋江平日的好处，决定从轻处理。\n"
     ]
    },
    {
     "name": "stderr",
     "output_type": "stream",
     "text": [
      "Processing 水浒传:  31%|███       | 332/1081 [23:19<52:00,  4.17s/it]"
     ]
    },
    {
     "name": "stdout",
     "output_type": "stream",
     "text": [
      "宋江因罪被判刺配江州，途中其父宋太公和兄弟宋清送行并叮嘱，宋江与公人张千、李万上路，计划避开梁山泊。\n"
     ]
    },
    {
     "name": "stderr",
     "output_type": "stream",
     "text": [
      "Processing 水浒传:  31%|███       | 333/1081 [23:25<57:49,  4.64s/it]"
     ]
    },
    {
     "name": "stdout",
     "output_type": "stream",
     "text": [
      "宋江被刘唐截住，刘唐欲杀押送宋江的公人，宋江拒绝并试图自刎，后被劝阻，决定去江州牢城，刘唐请吴用和花荣商议，最终宋江被请到山寨短暂停留后继续前往江州。\n"
     ]
    },
    {
     "name": "stderr",
     "output_type": "stream",
     "text": [
      "Processing 水浒传:  31%|███       | 334/1081 [23:30<58:52,  4.73s/it]"
     ]
    },
    {
     "name": "stdout",
     "output_type": "stream",
     "text": [
      "宋江因杀妻逃亡江湖，后被父亲召回处理官司，现被发配江州，途中被晁盖邀请至梁山泊，宋江因忠孝之念拒绝留下，最终在梁山泊停留一日后坚持离开。\n"
     ]
    },
    {
     "name": "stderr",
     "output_type": "stream",
     "text": [
      "Processing 水浒传:  31%|███       | 335/1081 [23:33<55:42,  4.48s/it]"
     ]
    },
    {
     "name": "stdout",
     "output_type": "stream",
     "text": [
      "吴学究向宋江推荐江州的戴宗，并为他准备了介绍信。宋江带着金银和两个公人前往江州，途中在揭阳岭的酒店休息，遇到一个卖酒的大汉。\n"
     ]
    },
    {
     "name": "stderr",
     "output_type": "stream",
     "text": [
      "Processing 水浒传:  31%|███       | 336/1081 [23:37<51:59,  4.19s/it]"
     ]
    },
    {
     "name": "stdout",
     "output_type": "stream",
     "text": [
      "宋江和两个公人在酒店被下了蒙汗药，财物被劫，人被拖去做人肉馒头，后被三个来接宋江的人救下。\n"
     ]
    },
    {
     "name": "stderr",
     "output_type": "stream",
     "text": [
      "Processing 水浒传:  31%|███       | 337/1081 [23:41<51:06,  4.12s/it]"
     ]
    },
    {
     "name": "stdout",
     "output_type": "stream",
     "text": [
      "宋江被发配江州途中，在揭阳岭被李立捉住准备剥皮，幸得李俊及时赶到，认出宋江并救下他，随后李俊和李立向宋江介绍自己。\n"
     ]
    },
    {
     "name": "stderr",
     "output_type": "stream",
     "text": [
      "Processing 水浒传:  31%|███▏      | 338/1081 [23:46<52:40,  4.25s/it]"
     ]
    },
    {
     "name": "stdout",
     "output_type": "stream",
     "text": [
      "宋江因杀阎婆惜被发配江州，途中被李俊等人救下，得知宋江身份后，李俊和童威、童猛结拜宋江为兄，并留他数日，最终宋江继续前往江州。\n"
     ]
    },
    {
     "name": "stderr",
     "output_type": "stream",
     "text": [
      "Processing 水浒传:  31%|███▏      | 339/1081 [23:50<51:59,  4.20s/it]"
     ]
    },
    {
     "name": "stdout",
     "output_type": "stream",
     "text": [
      "宋江赏赐给一个卖艺的教师五两银子，引起当地一壮汉不满，认为宋江在镇上逞强，两人发生冲突，最终被另一使棒的教头制止。\n"
     ]
    },
    {
     "name": "stderr",
     "output_type": "stream",
     "text": [
      "Processing 水浒传:  31%|███▏      | 340/1081 [23:53<48:24,  3.92s/it]"
     ]
    },
    {
     "name": "stdout",
     "output_type": "stream",
     "text": [
      "宋江在揭阳镇遇到薛永，两人相谈甚欢，但因得罪当地恶霸，无法在当地酒肆用餐，最终寻找住宿。\n"
     ]
    },
    {
     "name": "stderr",
     "output_type": "stream",
     "text": [
      "Processing 水浒传:  32%|███▏      | 341/1081 [23:57<51:00,  4.14s/it]"
     ]
    },
    {
     "name": "stdout",
     "output_type": "stream",
     "text": [
      "宋江和两个公人错过宿头，请求一庄院借宿，庄主太公允许并提供食宿。夜间，宋江和公人去净手，注意到一条小路。后有外人来庄，太公询问原因，得知有人要来寻事。\n"
     ]
    },
    {
     "name": "stderr",
     "output_type": "stream",
     "text": [
      "Processing 水浒传:  32%|███▏      | 342/1081 [24:02<52:30,  4.26s/it]"
     ]
    },
    {
     "name": "stdout",
     "output_type": "stream",
     "text": [
      "小说中，一个汉子因不满卖药者在镇上表演未先拜见他而被打，后欲追捕宋江和两个公人，宋江和公人趁夜逃走，慌不择路来到浔阳江边，被追赶。\n"
     ]
    },
    {
     "name": "stderr",
     "output_type": "stream",
     "text": [
      "Processing 水浒传:  32%|███▏      | 343/1081 [24:06<52:31,  4.27s/it]"
     ]
    },
    {
     "name": "stdout",
     "output_type": "stream",
     "text": [
      "宋江和两个公人在逃亡中遭遇强盗，被一梢公救上船，梢公拒绝将船摇向岸边的强盗，并自称宋江等人为其亲眷，最终梢公将船驶离危险。\n"
     ]
    },
    {
     "name": "stderr",
     "output_type": "stream",
     "text": [
      "Processing 水浒传:  32%|███▏      | 344/1081 [24:10<51:09,  4.16s/it]"
     ]
    },
    {
     "name": "stdout",
     "output_type": "stream",
     "text": [
      "梢公救了宋江和两个公人，但随后威胁要他们选择被刀杀或跳江自尽，宋江求饶未果。\n"
     ]
    },
    {
     "name": "stderr",
     "output_type": "stream",
     "text": [
      "Processing 水浒传:  32%|███▏      | 345/1081 [24:14<48:04,  3.92s/it]"
     ]
    },
    {
     "name": "stdout",
     "output_type": "stream",
     "text": [
      "宋江和两个公人被梢公威胁跳江，危急时刻，混江龙李俊和童威、童猛及时出现，救下了宋江。\n"
     ]
    },
    {
     "name": "stderr",
     "output_type": "stream",
     "text": [
      "Processing 水浒传:  32%|███▏      | 346/1081 [24:17<47:32,  3.88s/it]"
     ]
    },
    {
     "name": "stdout",
     "output_type": "stream",
     "text": [
      "李俊在江中偶遇宋江，得知其受难，便救助并介绍其结义兄弟张横。张横讲述了自己与兄弟张顺在江上做私渡的往事。\n"
     ]
    },
    {
     "name": "stderr",
     "output_type": "stream",
     "text": [
      "Processing 水浒传:  32%|███▏      | 347/1081 [24:22<49:45,  4.07s/it]"
     ]
    },
    {
     "name": "stdout",
     "output_type": "stream",
     "text": [
      "张横与兄弟张顺曾靠私渡为生，后张顺改行卖鱼。宋江被穆家兄弟追赶，李俊介绍宋江为及时雨，穆家兄弟拜见宋江并释放薛永，邀请宋江到庄上做客。\n"
     ]
    },
    {
     "name": "stderr",
     "output_type": "stream",
     "text": [
      "Processing 水浒传:  32%|███▏      | 348/1081 [24:27<54:24,  4.45s/it]"
     ]
    },
    {
     "name": "stdout",
     "output_type": "stream",
     "text": [
      "李俊和穆弘邀请宋江及其同伴到庄上相聚，设宴款待，后宋江因公务需离开，穆弘赠送金银并安排送行，宋江与两公人前往江州，到达后被蔡九知府询问封皮问题，随后被送往牢城营。\n"
     ]
    },
    {
     "name": "stderr",
     "output_type": "stream",
     "text": [
      "Processing 水浒传:  32%|███▏      | 349/1081 [24:32<54:03,  4.43s/it]"
     ]
    },
    {
     "name": "stdout",
     "output_type": "stream",
     "text": [
      "宋江被押送至江州府，通过贿赂公人和管营，免受刑罚并被任命为抄事。他在狱中广结人缘，但拒绝向一个节级行贿，准备应对可能的冲突。\n"
     ]
    },
    {
     "name": "stderr",
     "output_type": "stream",
     "text": [
      "Processing 水浒传:  32%|███▏      | 350/1081 [24:35<50:54,  4.18s/it]"
     ]
    },
    {
     "name": "stdout",
     "output_type": "stream",
     "text": [
      "宋江因未送常例钱被节级责骂，后透露自己结识梁山泊吴学究，节级震惊并认出宋江，请求私下交谈。\n"
     ]
    },
    {
     "name": "stderr",
     "output_type": "stream",
     "text": [
      "Processing 水浒传:  32%|███▏      | 351/1081 [24:40<51:50,  4.26s/it]"
     ]
    },
    {
     "name": "stdout",
     "output_type": "stream",
     "text": [
      "宋江带着吴用的书信和银两，与戴宗在酒肆会面，戴宗读信后拜谢宋江，两人交谈甚欢，后因李逵在楼下闹事，戴宗前去处理。\n"
     ]
    },
    {
     "name": "stderr",
     "output_type": "stream",
     "text": [
      "Processing 水浒传:  33%|███▎      | 352/1081 [24:44<50:19,  4.14s/it]"
     ]
    },
    {
     "name": "stdout",
     "output_type": "stream",
     "text": [
      "戴宗引李逵见宋江，李逵初不识宋江，后得知其为及时雨宋江后立即拜服，宋江赠银助李逵赎回大银。\n"
     ]
    },
    {
     "name": "stderr",
     "output_type": "stream",
     "text": [
      "Processing 水浒传:  33%|███▎      | 353/1081 [24:47<48:33,  4.00s/it]"
     ]
    },
    {
     "name": "stdout",
     "output_type": "stream",
     "text": [
      "宋江借给李逵十两银子，李逵急忙去赌，但输掉了银子，宋江则不在意，认为李逵是忠直之人。\n"
     ]
    },
    {
     "name": "stderr",
     "output_type": "stream",
     "text": [
      "Processing 水浒传:  33%|███▎      | 354/1081 [24:50<45:42,  3.77s/it]"
     ]
    },
    {
     "name": "stdout",
     "output_type": "stream",
     "text": [
      "李逵赌博输掉银子，抢回并打伤多人，后被宋江劝阻，归还银子并赔偿受伤者。\n"
     ]
    },
    {
     "name": "stderr",
     "output_type": "stream",
     "text": [
      "Processing 水浒传:  33%|███▎      | 355/1081 [24:54<46:31,  3.84s/it]"
     ]
    },
    {
     "name": "stdout",
     "output_type": "stream",
     "text": [
      "宋江、戴宗和李逵三人前往琵琶亭酒馆饮酒观江景，宋江点鱼辣汤，李逵豪饮且不拘小节，直接用手捞鱼吃。\n"
     ]
    },
    {
     "name": "stderr",
     "output_type": "stream",
     "text": [
      "Processing 水浒传:  33%|███▎      | 356/1081 [24:59<48:59,  4.05s/it]"
     ]
    },
    {
     "name": "stdout",
     "output_type": "stream",
     "text": [
      "李逵在酒店因不满酒保不卖羊肉给他而发怒，后宋江点羊肉给他吃。之后，李逵去江边讨要活鱼，因渔人等待主人不来不敢开舱，李逵强行上船拔竹篾。\n"
     ]
    },
    {
     "name": "stderr",
     "output_type": "stream",
     "text": [
      "Processing 水浒传:  33%|███▎      | 357/1081 [25:02<46:43,  3.87s/it]"
     ]
    },
    {
     "name": "stdout",
     "output_type": "stream",
     "text": [
      "李逵不慎放走了渔船上的活鱼，与渔民发生冲突，抢夺竹篙并打斗，最终被宋江和戴宗制止。\n"
     ]
    },
    {
     "name": "stderr",
     "output_type": "stream",
     "text": [
      "Processing 水浒传:  33%|███▎      | 358/1081 [25:06<45:58,  3.82s/it]"
     ]
    },
    {
     "name": "stdout",
     "output_type": "stream",
     "text": [
      "李逵在江边与人打架，被张顺诱上船后翻船落水，两人在江中搏斗，最终宋江和戴宗请求张顺救起李逵。\n"
     ]
    },
    {
     "name": "stderr",
     "output_type": "stream",
     "text": [
      "Processing 水浒传:  33%|███▎      | 359/1081 [25:11<51:11,  4.25s/it]"
     ]
    },
    {
     "name": "stdout",
     "output_type": "stream",
     "text": [
      "宋江得知江中斗殴的黑大汉是张顺，便让戴宗叫停，出示张顺哥哥的家书，张顺遂救起李逵，并随众人上岸，最终四人在琵琶亭相聚，张顺与李逵结为好友，并初次见到宋江。\n"
     ]
    },
    {
     "name": "stderr",
     "output_type": "stream",
     "text": [
      "Processing 水浒传:  33%|███▎      | 360/1081 [25:17<55:03,  4.58s/it]"
     ]
    },
    {
     "name": "stdout",
     "output_type": "stream",
     "text": [
      "宋江与李俊、戴宗、张顺在琵琶亭饮酒，宋江想喝鲜鱼汤，张顺和李逵去江边讨鱼，带回金色鲤鱼。后在亭中继续饮酒时，一女娘唱歌打断李逵讲话，李逵生气推倒女娘，引发冲突。\n"
     ]
    },
    {
     "name": "stderr",
     "output_type": "stream",
     "text": [
      "Processing 水浒传:  33%|███▎      | 361/1081 [25:21<53:23,  4.45s/it]"
     ]
    },
    {
     "name": "stdout",
     "output_type": "stream",
     "text": [
      "宋江等四人在酒店中，李逵不小心伤了卖唱女子，宋江给予二十两银子帮助其家庭，并由张顺支付酒钱，众人随后离开酒店。\n"
     ]
    },
    {
     "name": "stderr",
     "output_type": "stream",
     "text": [
      "Processing 水浒传:  33%|███▎      | 362/1081 [25:25<53:20,  4.45s/it]"
     ]
    },
    {
     "name": "stdout",
     "output_type": "stream",
     "text": [
      "宋江因贪食鲜鱼导致腹泻，张顺送来鲤鱼并赎药治疗。宋江康复后，入城寻找戴宗、李逵和张顺，未果，独自游览浔阳楼。\n"
     ]
    },
    {
     "name": "stderr",
     "output_type": "stream",
     "text": [
      "Processing 水浒传:  34%|███▎      | 363/1081 [25:29<49:12,  4.11s/it]"
     ]
    },
    {
     "name": "stdout",
     "output_type": "stream",
     "text": [
      "宋江独自一人在江州浔阳楼饮酒，感叹景致美好却身陷囹圄，酒后题诗表达不满与壮志。\n"
     ]
    },
    {
     "name": "stderr",
     "output_type": "stream",
     "text": [
      "Processing 水浒传:  34%|███▎      | 364/1081 [25:32<46:40,  3.91s/it]"
     ]
    },
    {
     "name": "stdout",
     "output_type": "stream",
     "text": [
      "宋江在浔阳楼醉后题反诗，被黄文炳发现并报告给蔡九知府，黄文炳借此机会试图提升自己的官职。\n"
     ]
    },
    {
     "name": "stderr",
     "output_type": "stream",
     "text": [
      "Processing 水浒传:  34%|███▍      | 365/1081 [25:36<44:57,  3.77s/it]"
     ]
    },
    {
     "name": "stdout",
     "output_type": "stream",
     "text": [
      "黄文炳在浔阳楼发现反诗，抄录后向蔡九知府报告，指出诗作者宋江可能是谣言中的叛乱者。\n"
     ]
    },
    {
     "name": "stderr",
     "output_type": "stream",
     "text": [
      "Processing 水浒传:  34%|███▍      | 366/1081 [25:39<44:52,  3.77s/it]"
     ]
    },
    {
     "name": "stdout",
     "output_type": "stream",
     "text": [
      "黄文炳解读谣言，指出宋江是耗国之人，知府查证后确认宋江身份，急派戴宗捉拿宋江，戴宗先通知宋江准备逃跑。\n"
     ]
    },
    {
     "name": "stderr",
     "output_type": "stream",
     "text": [
      "Processing 水浒传:  34%|███▍      | 367/1081 [25:43<43:37,  3.67s/it]"
     ]
    },
    {
     "name": "stdout",
     "output_type": "stream",
     "text": [
      "宋江被指控犯罪，戴宗建议他装疯以逃避抓捕，但最终宋江被识破并被带到知府面前。\n"
     ]
    },
    {
     "name": "stderr",
     "output_type": "stream",
     "text": [
      "Processing 水浒传:  34%|███▍      | 368/1081 [25:48<49:14,  4.14s/it]"
     ]
    },
    {
     "name": "stdout",
     "output_type": "stream",
     "text": [
      "宋江因酒后误写反诗被捕，遭受严刑拷打后招认，被判死刑。戴宗设法照顾宋江，蔡九知府与黄文炳商议后决定将宋江押解上京，同时黄文炳建议蔡九知府写信给京城以显示其功绩。\n"
     ]
    },
    {
     "name": "stderr",
     "output_type": "stream",
     "text": [
      "Processing 水浒传:  34%|███▍      | 369/1081 [25:52<47:11,  3.98s/it]"
     ]
    },
    {
     "name": "stdout",
     "output_type": "stream",
     "text": [
      "蔡九知府委托戴宗送礼物和家书至东京太师府，戴宗领命并安排李逵照顾宋江，随后迅速前往东京。\n"
     ]
    },
    {
     "name": "stderr",
     "output_type": "stream",
     "text": [
      "Processing 水浒传:  34%|███▍      | 370/1081 [25:56<50:22,  4.25s/it]"
     ]
    },
    {
     "name": "stdout",
     "output_type": "stream",
     "text": [
      "戴宗在六月初旬的炎热天气中赶路，饥渴难耐时找到一家酒店，点餐后因食物中可能含有药物而晕倒。酒店主人朱贵发现戴宗身份，并从其身上搜出关于宋江的密信，随后决定救醒戴宗询问详情。\n"
     ]
    },
    {
     "name": "stderr",
     "output_type": "stream",
     "text": [
      "Processing 水浒传:  34%|███▍      | 371/1081 [26:00<48:55,  4.13s/it]"
     ]
    },
    {
     "name": "stdout",
     "output_type": "stream",
     "text": [
      "朱贵拆开太师府书信，戴宗发现后质问朱贵身份，得知朱贵是梁山泊好汉，随后戴宗被邀请至梁山商议救宋江之策。\n"
     ]
    },
    {
     "name": "stderr",
     "output_type": "stream",
     "text": [
      "Processing 水浒传:  34%|███▍      | 372/1081 [26:05<49:03,  4.15s/it]"
     ]
    },
    {
     "name": "stdout",
     "output_type": "stream",
     "text": [
      "晁盖和吴用计划伪造蔡京的回信，以救宋江，为此需要找到会写蔡京字体的萧让和擅长雕刻印章的金大坚，于是派戴宗去请他们上山入伙。\n"
     ]
    },
    {
     "name": "stderr",
     "output_type": "stream",
     "text": [
      "Processing 水浒传:  35%|███▍      | 373/1081 [26:09<49:11,  4.17s/it]"
     ]
    },
    {
     "name": "stdout",
     "output_type": "stream",
     "text": [
      "戴宗以五十两白银聘请萧让和金大坚分别为泰安州岳庙重修五岳楼刻碑文和刻石，途中遭遇清风山王矮虎拦路，萧让和金大坚与之交战。\n"
     ]
    },
    {
     "name": "stderr",
     "output_type": "stream",
     "text": [
      "Processing 水浒传:  35%|███▍      | 374/1081 [26:13<49:42,  4.22s/it]"
     ]
    },
    {
     "name": "stdout",
     "output_type": "stream",
     "text": [
      "晁盖派人将萧让和金大坚绑架至梁山，劝其入伙。两人担心家人安危，但发现家人已被接到山上，只得同意。后吴用请二人伪造蔡京书信以救宋江。\n"
     ]
    },
    {
     "name": "stderr",
     "output_type": "stream",
     "text": [
      "Processing 水浒传:  35%|███▍      | 375/1081 [26:17<48:47,  4.15s/it]"
     ]
    },
    {
     "name": "stdout",
     "output_type": "stream",
     "text": [
      "吴用发现给戴宗的回书中使用了蔡京的讳字图书，意识到可能导致戴宗和宋江被捕，于是晁盖和众好汉紧急下山前往江州救援。\n"
     ]
    },
    {
     "name": "stderr",
     "output_type": "stream",
     "text": [
      "Processing 水浒传:  35%|███▍      | 376/1081 [26:22<51:07,  4.35s/it]"
     ]
    },
    {
     "name": "stdout",
     "output_type": "stream",
     "text": [
      "蔡九知府接到家书，命令将妖人宋江解送京师，并赏赐戴宗。黄文炳来访，蔡九知府展示家书，黄文炳怀疑书信真伪，指出书中的图书不符合常规，建议蔡九知府核实。\n"
     ]
    },
    {
     "name": "stderr",
     "output_type": "stream",
     "text": [
      "Processing 水浒传:  35%|███▍      | 377/1081 [26:27<53:01,  4.52s/it]"
     ]
    },
    {
     "name": "stdout",
     "output_type": "stream",
     "text": [
      "蔡九知府怀疑戴宗的东京之行，通过详细询问揭露了戴宗的谎言，最终导致戴宗被捕。\n"
     ]
    },
    {
     "name": "stderr",
     "output_type": "stream",
     "text": [
      "Processing 水浒传:  35%|███▍      | 378/1081 [26:32<55:16,  4.72s/it]"
     ]
    },
    {
     "name": "stdout",
     "output_type": "stream",
     "text": [
      "戴宗被蔡九知府拷打，被迫承认信件是假的，但否认与梁山泊勾结。知府决定将戴宗和宋江斩首，黄孔目设法延迟行刑至第六日。\n"
     ]
    },
    {
     "name": "stderr",
     "output_type": "stream",
     "text": [
      "Processing 水浒传:  35%|███▌      | 379/1081 [26:36<54:00,  4.62s/it]"
     ]
    },
    {
     "name": "stdout",
     "output_type": "stream",
     "text": [
      "宋江和戴宗因谋反罪被判斩首，江州府知府亲自监斩，法场四周人群拥挤，有丐者、卖药者、脚夫和客商试图靠近，士兵试图驱赶。\n"
     ]
    },
    {
     "name": "stderr",
     "output_type": "stream",
     "text": [
      "Processing 水浒传:  35%|███▌      | 380/1081 [26:40<51:21,  4.40s/it]"
     ]
    },
    {
     "name": "stdout",
     "output_type": "stream",
     "text": [
      "一伙客人被士兵拦截，不肯放行，随后发生混乱，梁山泊好汉趁机救出宋江和戴宗，黑旋风李逵大闹法场。\n"
     ]
    },
    {
     "name": "stderr",
     "output_type": "stream",
     "text": [
      "Processing 水浒传:  35%|███▌      | 381/1081 [26:44<49:04,  4.21s/it]"
     ]
    },
    {
     "name": "stdout",
     "output_type": "stream",
     "text": [
      "晁盖与李逵等人在江州大闹，李逵挥斧杀伤无数，最终众人逃至白龙神庙避难，宋江与晁盖重逢。\n"
     ]
    },
    {
     "name": "stderr",
     "output_type": "stream",
     "text": [
      "Processing 水浒传:  35%|███▌      | 382/1081 [26:48<49:06,  4.22s/it]"
     ]
    },
    {
     "name": "stdout",
     "output_type": "stream",
     "text": [
      "宋江等人被官军追赶至江边，无路可逃，阮小七提议夺船渡江。此时，张顺带领的船队出现，成功救援宋江及其同伴，众人最终在白龙庙聚会。\n"
     ]
    },
    {
     "name": "stderr",
     "output_type": "stream",
     "text": [
      "Processing 水浒传:  35%|███▌      | 383/1081 [26:52<47:07,  4.05s/it]"
     ]
    },
    {
     "name": "stdout",
     "output_type": "stream",
     "text": [
      "梁山泊好汉在白龙庙劫法场救出宋江和戴宗，随后与江州军马激战，最终杀至江州城下，血战一场。\n"
     ]
    },
    {
     "name": "stderr",
     "output_type": "stream",
     "text": [
      "Processing 水浒传:  36%|███▌      | 384/1081 [26:57<51:54,  4.47s/it]"
     ]
    },
    {
     "name": "stdout",
     "output_type": "stream",
     "text": [
      "官军入城后，好汉们回到白龙庙下船，顺风前往穆太公庄。穆弘设宴款待，宋江提议攻打无为军报仇，晁盖建议回山寨再战，花荣提出需先探明敌情，薛永自愿前往探听。\n"
     ]
    },
    {
     "name": "stderr",
     "output_type": "stream",
     "text": [
      "Processing 水浒传:  36%|███▌      | 385/1081 [27:01<49:35,  4.28s/it]"
     ]
    },
    {
     "name": "stdout",
     "output_type": "stream",
     "text": [
      "宋江与众人商议攻打无为军，薛永带来侯健，侯健提供无为军内部情报，揭露黄文炳的恶行及其兄弟黄文烨的善行。\n"
     ]
    },
    {
     "name": "stderr",
     "output_type": "stream",
     "text": [
      "Processing 水浒传:  36%|███▌      | 386/1081 [27:05<48:29,  4.19s/it]"
     ]
    },
    {
     "name": "stdout",
     "output_type": "stream",
     "text": [
      "宋江计划报复黄文炳，与兄弟们商讨后，制定了详细的攻击计划，包括使用船只和各种策略，确保行动顺利且不伤害无辜百姓。\n"
     ]
    },
    {
     "name": "stderr",
     "output_type": "stream",
     "text": [
      "Processing 水浒传:  36%|███▌      | 387/1081 [27:10<50:23,  4.36s/it]"
     ]
    },
    {
     "name": "stdout",
     "output_type": "stream",
     "text": [
      "宋江带领好汉们在无为江岸集结，利用沙土布袋和芦苇干柴堆垛接近城墙，潜入黄文炳家，放火并趁乱杀入，将黄家大小尽数杀害，掠夺财物后撤离。\n"
     ]
    },
    {
     "name": "stderr",
     "output_type": "stream",
     "text": [
      "Processing 水浒传:  36%|███▌      | 388/1081 [27:14<49:15,  4.26s/it]"
     ]
    },
    {
     "name": "stdout",
     "output_type": "stream",
     "text": [
      "梁山泊好汉为报宋江、戴宗之仇，攻入黄文炳家并放火，黄文炳得知消息后乘船逃走，途中被梁山好汉拦截并跳江逃生。\n"
     ]
    },
    {
     "name": "stderr",
     "output_type": "stream",
     "text": [
      "Processing 水浒传:  36%|███▌      | 389/1081 [27:18<49:40,  4.31s/it]"
     ]
    },
    {
     "name": "stdout",
     "output_type": "stream",
     "text": [
      "梁山泊好汉李俊和张顺在江上捉拿黄文炳，将其带回庄上，宋江责骂黄文炳多次害他，最终李逵将其处死。\n"
     ]
    },
    {
     "name": "stderr",
     "output_type": "stream",
     "text": [
      "Processing 水浒传:  36%|███▌      | 390/1081 [27:24<53:58,  4.69s/it]"
     ]
    },
    {
     "name": "stdout",
     "output_type": "stream",
     "text": [
      "宋江在浔阳楼酒后题反诗，被黄文炳告发，梁山好汉劫法场救出宋江和戴宗。李逵割黄文炳心肝下酒，宋江提议上梁山，众好汉响应，分五批前往梁山泊。\n"
     ]
    },
    {
     "name": "stderr",
     "output_type": "stream",
     "text": [
      "Processing 水浒传:  36%|███▌      | 391/1081 [27:30<57:44,  5.02s/it]"
     ]
    },
    {
     "name": "stdout",
     "output_type": "stream",
     "text": [
      "宋江、晁盖等人在前往黄门山的路上遭遇四位好汉拦路，宋江挺身而出请求饶恕，四位好汉原来是仰慕宋江的江湖人士，误会解除后邀请宋江等人到寨中做客。\n"
     ]
    },
    {
     "name": "stderr",
     "output_type": "stream",
     "text": [
      "Processing 水浒传:  36%|███▋      | 392/1081 [27:34<53:56,  4.70s/it]"
     ]
    },
    {
     "name": "stdout",
     "output_type": "stream",
     "text": [
      "四位好汉与宋江相遇，宋江邀请他们一同上梁山泊聚义，四人同意并随宋江前往，最终在梁山泊聚义厅相会。\n"
     ]
    },
    {
     "name": "stderr",
     "output_type": "stream",
     "text": [
      "Processing 水浒传:  36%|███▋      | 393/1081 [27:38<51:58,  4.53s/it]"
     ]
    },
    {
     "name": "stdout",
     "output_type": "stream",
     "text": [
      "宋江被救后，坚持让晁盖做山寨之主，自己坐第二位，众头领按功绩和年齿排座次，庆祝后宋江提及被黄文炳陷害之事。\n"
     ]
    },
    {
     "name": "stderr",
     "output_type": "stream",
     "text": [
      "Processing 水浒传:  36%|███▋      | 394/1081 [27:43<53:02,  4.63s/it]"
     ]
    },
    {
     "name": "stdout",
     "output_type": "stream",
     "text": [
      "李逵提议造反，晁盖和宋江做皇帝，众好汉做将军，攻打东京夺权，戴宗警告李逵遵守规矩。宋江担心父亲，决定下山探望，众好汉庆祝新头领加入。\n"
     ]
    },
    {
     "name": "stderr",
     "output_type": "stream",
     "text": [
      "Processing 水浒传:  37%|███▋      | 395/1081 [27:46<49:42,  4.35s/it]"
     ]
    },
    {
     "name": "stdout",
     "output_type": "stream",
     "text": [
      "宋江担心父亲被追捕，决定独自回乡搬取父亲上山，途中得知家中已被监视，急忙返回梁山泊求救。\n"
     ]
    },
    {
     "name": "stderr",
     "output_type": "stream",
     "text": [
      "Processing 水浒传:  37%|███▋      | 396/1081 [27:50<47:16,  4.14s/it]"
     ]
    },
    {
     "name": "stdout",
     "output_type": "stream",
     "text": [
      "宋江在还道村被追捕，躲入古庙神厨中，赵能、赵得搜查未果后离开，宋江暂时逃过一劫。\n"
     ]
    },
    {
     "name": "stderr",
     "output_type": "stream",
     "text": [
      "Processing 水浒传:  37%|███▋      | 397/1081 [27:54<45:05,  3.96s/it]"
     ]
    },
    {
     "name": "stdout",
     "output_type": "stream",
     "text": [
      "赵能和士兵在庙里搜寻宋江，遭遇怪风和神明显灵，最终未能找到宋江，决定守住村口等待天明。\n"
     ]
    },
    {
     "name": "stderr",
     "output_type": "stream",
     "text": [
      "Processing 水浒传:  37%|███▋      | 398/1081 [27:57<42:42,  3.75s/it]"
     ]
    },
    {
     "name": "stdout",
     "output_type": "stream",
     "text": [
      "宋江被青衣女童引导至神秘宫殿，心中惊恐，最终到达大殿，面对未知的“娘娘”。\n"
     ]
    },
    {
     "name": "stderr",
     "output_type": "stream",
     "text": [
      "Processing 水浒传:  37%|███▋      | 399/1081 [28:01<43:45,  3.85s/it]"
     ]
    },
    {
     "name": "stdout",
     "output_type": "stream",
     "text": [
      "宋江被召至天庭，接受娘娘赐予的仙酒、仙枣及三卷天书，并受命替天行道，全忠仗义，辅国安民，去邪归正。\n"
     ]
    },
    {
     "name": "stderr",
     "output_type": "stream",
     "text": [
      "Processing 水浒传:  37%|███▋      | 400/1081 [28:05<45:42,  4.03s/it]"
     ]
    },
    {
     "name": "stdout",
     "output_type": "stream",
     "text": [
      "宋江梦见九天玄女赐予三卷天书，并告知天明后将脱离困境，醒来后果然发现天书和枣核，确认梦境为真，随后悄悄离开庙宇，途中遇到士兵和赵能慌张求救。\n"
     ]
    },
    {
     "name": "stderr",
     "output_type": "stream",
     "text": [
      "Processing 水浒传:  37%|███▋      | 401/1081 [28:09<43:24,  3.83s/it]"
     ]
    },
    {
     "name": "stdout",
     "output_type": "stream",
     "text": [
      "李逵在庙前击败赵能，宋江被救出，众多好汉相继赶来相助，最终宋江感谢众兄弟救命之恩。\n"
     ]
    },
    {
     "name": "stderr",
     "output_type": "stream",
     "text": [
      "Processing 水浒传:  37%|███▋      | 402/1081 [28:13<44:57,  3.97s/it]"
     ]
    },
    {
     "name": "stdout",
     "output_type": "stream",
     "text": [
      "宋江得知家人已被晁盖安全送到梁山，与父亲宋太公团聚，感激众兄弟帮助。公孙胜因思念母亲，决定暂时回乡探望，众头领虽不舍但理解，约定日后相见。\n"
     ]
    },
    {
     "name": "stderr",
     "output_type": "stream",
     "text": [
      "Processing 水浒传:  37%|███▋      | 403/1081 [28:18<46:38,  4.13s/it]"
     ]
    },
    {
     "name": "stdout",
     "output_type": "stream",
     "text": [
      "公孙胜离开山寨回家探母，众头领设宴送行，李逵因思念母亲而大哭，请求回家接母，但宋江担心其安全而劝阻。\n"
     ]
    },
    {
     "name": "stderr",
     "output_type": "stream",
     "text": [
      "Processing 水浒传:  37%|███▋      | 404/1081 [28:22<46:58,  4.16s/it]"
     ]
    },
    {
     "name": "stdout",
     "output_type": "stream",
     "text": [
      "宋江允许李逵去沂州搬母亲，但提出三项条件：不饮酒、独自行动、不带武器。李逵接受条件后出发，宋江担心其安全，派朱贵前去探听消息。\n"
     ]
    },
    {
     "name": "stderr",
     "output_type": "stream",
     "text": [
      "Processing 水浒传:  37%|███▋      | 405/1081 [28:29<58:58,  5.24s/it]"
     ]
    },
    {
     "name": "stdout",
     "output_type": "stream",
     "text": [
      "李逵离开梁山泊，途中不饮酒避免惹事，到达沂水县时被朱贵救下，后朱贵指引他前往百丈村救母。\n"
     ]
    },
    {
     "name": "stderr",
     "output_type": "stream",
     "text": [
      "Processing 水浒传:  38%|███▊      | 406/1081 [28:33<52:06,  4.63s/it]"
     ]
    },
    {
     "name": "stdout",
     "output_type": "stream",
     "text": [
      "李逵途中遇到冒充自己的李鬼劫道，得知李鬼家中老母无人养赡后，决定饶恕他。\n"
     ]
    },
    {
     "name": "stderr",
     "output_type": "stream",
     "text": [
      "Processing 水浒传:  38%|███▊      | 407/1081 [28:37<50:29,  4.49s/it]"
     ]
    },
    {
     "name": "stdout",
     "output_type": "stream",
     "text": [
      "李逵遇到冒充自己的李鬼，得知李鬼有孝顺之心后给予银子助其改业，后李逵饥饿找到一户人家求食，发现那家妇人的丈夫正是李鬼。\n"
     ]
    },
    {
     "name": "stderr",
     "output_type": "stream",
     "text": [
      "Processing 水浒传:  38%|███▊      | 408/1081 [28:41<49:16,  4.39s/it]"
     ]
    },
    {
     "name": "stdout",
     "output_type": "stream",
     "text": [
      "李逵发现李鬼夫妇企图谋害他以夺取金银，愤怒之下杀死李鬼，随后回家发现母亲已盲，谎称自己做了官来接母亲，但遭到哥哥李达的质疑和责骂。\n"
     ]
    },
    {
     "name": "stderr",
     "output_type": "stream",
     "text": [
      "Processing 水浒传:  38%|███▊      | 409/1081 [28:45<47:28,  4.24s/it]"
     ]
    },
    {
     "name": "stdout",
     "output_type": "stream",
     "text": [
      "李逵因与梁山泊贼人通同被追捕，其兄李达得知后欲报官，李逵留下银子并背母逃往梁山泊。\n"
     ]
    },
    {
     "name": "stderr",
     "output_type": "stream",
     "text": [
      "Processing 水浒传:  38%|███▊      | 410/1081 [28:49<45:49,  4.10s/it]"
     ]
    },
    {
     "name": "stdout",
     "output_type": "stream",
     "text": [
      "李逵为救渴极的母亲去寻水，回来时发现母亲被虎吃，愤怒之下杀死了两只小虎和母虎，为母报仇。\n"
     ]
    },
    {
     "name": "stderr",
     "output_type": "stream",
     "text": [
      "Processing 水浒传:  38%|███▊      | 411/1081 [28:53<45:19,  4.06s/it]"
     ]
    },
    {
     "name": "stdout",
     "output_type": "stream",
     "text": [
      "李逵在沂岭杀死了四只老虎，包括两只大虎和两只小虎，后在泗州大圣庙休息，次日向猎户们谎称自己独自杀死老虎，带领猎户上山确认。\n"
     ]
    },
    {
     "name": "stderr",
     "output_type": "stream",
     "text": [
      "Processing 水浒传:  38%|███▊      | 412/1081 [28:58<48:18,  4.33s/it]"
     ]
    },
    {
     "name": "stdout",
     "output_type": "stream",
     "text": [
      "李逵在沂岭杀死四只虎，被村民带到曹太公庄上请赏，曹太公设宴款待。李鬼的老婆认出李逵是梁山泊的黑旋风，告知里正，里正与曹太公商议如何处理李逵。\n"
     ]
    },
    {
     "name": "stderr",
     "output_type": "stream",
     "text": [
      "Processing 水浒传:  38%|███▊      | 413/1081 [29:01<45:57,  4.13s/it]"
     ]
    },
    {
     "name": "stdout",
     "output_type": "stream",
     "text": [
      "李逵被曹太公设宴灌醉并绑缚，计划送往县里请功，知县派都头李云秘密解送李逵。\n"
     ]
    },
    {
     "name": "stderr",
     "output_type": "stream",
     "text": [
      "Processing 水浒传:  38%|███▊      | 414/1081 [29:05<45:16,  4.07s/it]"
     ]
    },
    {
     "name": "stdout",
     "output_type": "stream",
     "text": [
      "朱贵和朱富得知李逵被捕，计划用蒙汗药麻翻押送李逵的士兵和李都头，救出李逵，并带家人一同上山入伙。\n"
     ]
    },
    {
     "name": "stderr",
     "output_type": "stream",
     "text": [
      "Processing 水浒传:  38%|███▊      | 415/1081 [29:10<47:26,  4.27s/it]"
     ]
    },
    {
     "name": "stdout",
     "output_type": "stream",
     "text": [
      "朱富和李云师徒相聚，朱富劝酒肉，李云勉强接受。朱贵和朱富用计使士兵和庄客醉倒，李逵趁机杀死曹太公等人，朱贵阻止李逵滥杀无辜，三人随后逃离现场。\n"
     ]
    },
    {
     "name": "stderr",
     "output_type": "stream",
     "text": [
      "Processing 水浒传:  38%|███▊      | 416/1081 [29:14<46:21,  4.18s/it]"
     ]
    },
    {
     "name": "stdout",
     "output_type": "stream",
     "text": [
      "朱富担心李云追赶，决定等他并邀请他一同上梁山入伙，以报答李云的恩义。李云最终同意加入，与朱富、李逵一同前往梁山。\n"
     ]
    },
    {
     "name": "stderr",
     "output_type": "stream",
     "text": [
      "Processing 水浒传:  39%|███▊      | 417/1081 [29:18<47:15,  4.27s/it]"
     ]
    },
    {
     "name": "stdout",
     "output_type": "stream",
     "text": [
      "四筹好汉与朱富家眷一同前往梁山泊，途中遇到马麟、郑大筹，后到达梁山泊并举行庆典，李逵讲述杀虎经历，晁盖和宋江安排山寨事务。\n"
     ]
    },
    {
     "name": "stderr",
     "output_type": "stream",
     "text": [
      "Processing 水浒传:  39%|███▊      | 418/1081 [29:22<45:14,  4.09s/it]"
     ]
    },
    {
     "name": "stdout",
     "output_type": "stream",
     "text": [
      "宋江派戴宗去探听公孙胜的消息，戴宗在路上偶遇杨林，杨林透露公孙胜曾推荐他加入梁山泊。\n"
     ]
    },
    {
     "name": "stderr",
     "output_type": "stream",
     "text": [
      "Processing 水浒传:  39%|███▉      | 419/1081 [29:27<47:23,  4.30s/it]"
     ]
    },
    {
     "name": "stdout",
     "output_type": "stream",
     "text": [
      "戴宗奉命寻找公孙胜，途中偶遇杨林，两人结伴同行。杨林熟悉地形，帮助戴宗寻找公孙胜，途中遭遇劫匪，杨林勇敢应对，最终发现劫匪中有人认识他。\n"
     ]
    },
    {
     "name": "stderr",
     "output_type": "stream",
     "text": [
      "Processing 水浒传:  39%|███▉      | 420/1081 [29:30<44:12,  4.01s/it]"
     ]
    },
    {
     "name": "stdout",
     "output_type": "stream",
     "text": [
      "杨林与戴宗介绍邓飞和孟康，四人相聚并前往山寨见裴宣，裴宣迎接并展示其人物风采。\n"
     ]
    },
    {
     "name": "stderr",
     "output_type": "stream",
     "text": [
      "Processing 水浒传:  39%|███▉      | 421/1081 [29:35<46:57,  4.27s/it]"
     ]
    },
    {
     "name": "stdout",
     "output_type": "stream",
     "text": [
      "戴宗在聚义厅与裴宣等五位好汉相聚，赞扬晁、宋的义气，裴宣表达加入意愿。戴宗提议前往苏州见公孙胜，众人同意。戴宗与杨林前往蓟州寻找公孙胜，但未果。\n"
     ]
    },
    {
     "name": "stderr",
     "output_type": "stream",
     "text": [
      "Processing 水浒传:  39%|███▉      | 422/1081 [29:40<48:20,  4.40s/it]"
     ]
    },
    {
     "name": "stdout",
     "output_type": "stream",
     "text": [
      "杨雄作为两院押狱兼刽子手，因武艺高强被称为病关索，执行刑罚后受到挂红贺喜，归途中被军汉张保及其同伙拦路索财并抢走礼物，杨雄被逼无法反抗。\n"
     ]
    },
    {
     "name": "stderr",
     "output_type": "stream",
     "text": [
      "Processing 水浒传:  39%|███▉      | 423/1081 [29:44<47:04,  4.29s/it]"
     ]
    },
    {
     "name": "stdout",
     "output_type": "stream",
     "text": [
      "大汉石秀路见不平，帮助杨雄打败张保及其同伙，后被戴宗和杨林邀请结义，得知石秀因叔父去世而流落卖柴。\n"
     ]
    },
    {
     "name": "stderr",
     "output_type": "stream",
     "text": [
      "Processing 水浒传:  39%|███▉      | 424/1081 [29:49<49:02,  4.48s/it]"
     ]
    },
    {
     "name": "stdout",
     "output_type": "stream",
     "text": [
      "石秀与戴宗、杨林在酒店相遇，戴宗邀请石秀加入梁山泊，但因公人闯入，戴宗和杨林匆忙离开。杨雄后来找到石秀，感谢其救助，并邀请石秀共饮，石秀透露自己的身份和经历。\n"
     ]
    },
    {
     "name": "stderr",
     "output_type": "stream",
     "text": [
      "Processing 水浒传:  39%|███▉      | 425/1081 [29:53<47:42,  4.36s/it]"
     ]
    },
    {
     "name": "stdout",
     "output_type": "stream",
     "text": [
      "杨雄与石秀结为兄弟，潘公见石秀英勇，亦表赞赏。三人饮酒后，杨雄介绍石秀给其妻巧云认识，石秀拜见嫂嫂并受邀安歇。\n"
     ]
    },
    {
     "name": "stderr",
     "output_type": "stream",
     "text": [
      "Processing 水浒传:  39%|███▉      | 426/1081 [29:57<47:26,  4.35s/it]"
     ]
    },
    {
     "name": "stdout",
     "output_type": "stream",
     "text": [
      "杨雄外出公干，家中安排石秀衣物，戴宗与杨林寻访公孙胜未果返回。石秀与潘公开设屠宰作坊，生意兴隆。石秀察觉家中异样，决定辞职回乡。\n"
     ]
    },
    {
     "name": "stderr",
     "output_type": "stream",
     "text": [
      "Processing 水浒传:  40%|███▉      | 427/1081 [30:02<48:36,  4.46s/it]"
     ]
    },
    {
     "name": "stdout",
     "output_type": "stream",
     "text": [
      "石秀欲回家探亲，潘公劝留，告知家中将举行亡婿王押司的二周年功德会，需要石秀帮忙。石秀同意留下，并与潘公一起接待报恩寺的和尚，准备斋食和仪式。\n"
     ]
    },
    {
     "name": "stderr",
     "output_type": "stream",
     "text": [
      "Processing 水浒传:  40%|███▉      | 428/1081 [30:05<44:38,  4.10s/it]"
     ]
    },
    {
     "name": "stdout",
     "output_type": "stream",
     "text": [
      "石秀发现妇人与和尚裴如海有暧昧关系，心中已有所察觉，决定揭露他们的不正当行为。\n"
     ]
    },
    {
     "name": "stderr",
     "output_type": "stream",
     "text": [
      "Processing 水浒传:  40%|███▉      | 429/1081 [30:09<44:15,  4.07s/it]"
     ]
    },
    {
     "name": "stdout",
     "output_type": "stream",
     "text": [
      "石秀目睹淫妇与贼秃在道场中眉来眼去，心生不快，而淫妇与贼秃私下交谈，计划次日处理事务，石秀暗中观察，感到更加不满。\n"
     ]
    },
    {
     "name": "stderr",
     "output_type": "stream",
     "text": [
      "Processing 水浒传:  40%|███▉      | 430/1081 [30:13<42:49,  3.95s/it]"
     ]
    },
    {
     "name": "stdout",
     "output_type": "stream",
     "text": [
      "石秀对杨雄的妻子与和尚的私情感到愤怒，但选择忍耐。杨雄的妻子计划与和尚一起去寺庙还愿，并安排石秀在家照看生意。\n"
     ]
    },
    {
     "name": "stderr",
     "output_type": "stream",
     "text": [
      "Processing 水浒传:  40%|███▉      | 431/1081 [30:17<42:15,  3.90s/it]"
     ]
    },
    {
     "name": "stdout",
     "output_type": "stream",
     "text": [
      "潘公和女儿迎儿去报恩寺还愿，与和尚海黎有私情，海黎安排他们在寺内相会，并设宴招待。\n"
     ]
    },
    {
     "name": "stderr",
     "output_type": "stream",
     "text": [
      "Processing 水浒传:  40%|███▉      | 432/1081 [30:22<47:48,  4.42s/it]"
     ]
    },
    {
     "name": "stdout",
     "output_type": "stream",
     "text": [
      "老儿和女儿在贼秃的寺庙中饮酒，贼秃趁机引诱女儿进入其卧房，企图不轨，女儿半推半就，最终贼秃跪求女儿可怜他。\n"
     ]
    },
    {
     "name": "stderr",
     "output_type": "stream",
     "text": [
      "Processing 水浒传:  40%|████      | 433/1081 [30:27<48:41,  4.51s/it]"
     ]
    },
    {
     "name": "stdout",
     "output_type": "stream",
     "text": [
      "淫妇与贼秃密谋，利用淫妇丈夫常不在家的机会，通过夜晚烧香为号，让贼秃趁机进入，并计划购买头陀在清晨敲木鱼报晓，以掩盖行踪。\n"
     ]
    },
    {
     "name": "stderr",
     "output_type": "stream",
     "text": [
      "Processing 水浒传:  40%|████      | 434/1081 [30:31<48:01,  4.45s/it]"
     ]
    },
    {
     "name": "stdout",
     "output_type": "stream",
     "text": [
      "胡道作为海师父的心腹，被派去探路并与淫妇密谋，夜晚与淫妇私会，约定通过后门的香桌儿作为信号，继续秘密幽会。\n"
     ]
    },
    {
     "name": "stderr",
     "output_type": "stream",
     "text": [
      "Processing 水浒传:  40%|████      | 435/1081 [30:34<43:42,  4.06s/it]"
     ]
    },
    {
     "name": "stdout",
     "output_type": "stream",
     "text": [
      "石秀发现杨雄的妻子与一和尚有染，决定告诉杨雄真相，两人在酒楼中商讨此事。\n"
     ]
    },
    {
     "name": "stderr",
     "output_type": "stream",
     "text": [
      "Processing 水浒传:  40%|████      | 436/1081 [30:38<42:59,  4.00s/it]"
     ]
    },
    {
     "name": "stdout",
     "output_type": "stream",
     "text": [
      "杨雄发现妻子与和尚有染，与石秀商量设陷阱捉奸，但杨雄被知府召去使棒，醉酒回家后怒骂妻子，次日醒来询问妻子夜间情况。\n"
     ]
    },
    {
     "name": "stderr",
     "output_type": "stream",
     "text": [
      "Processing 水浒传:  40%|████      | 437/1081 [30:41<40:07,  3.74s/it]"
     ]
    },
    {
     "name": "stdout",
     "output_type": "stream",
     "text": [
      "杨雄的妻子指责石秀对她有不轨行为，杨雄愤怒之下决定关闭肉店，石秀则选择离开，避免进一步冲突。\n"
     ]
    },
    {
     "name": "stderr",
     "output_type": "stream",
     "text": [
      "Processing 水浒传:  41%|████      | 438/1081 [30:45<39:43,  3.71s/it]"
     ]
    },
    {
     "name": "stdout",
     "output_type": "stream",
     "text": [
      "石秀为了查明杨雄妻子与和尚的奸情，潜伏在杨雄家后门，捕获并杀死头陀和和尚，以保护杨雄的名誉。\n"
     ]
    },
    {
     "name": "stderr",
     "output_type": "stream",
     "text": [
      "Processing 水浒传:  41%|████      | 439/1081 [30:49<41:22,  3.87s/it]"
     ]
    },
    {
     "name": "stdout",
     "output_type": "stream",
     "text": [
      "王公在卖糕粥时意外绊倒，发现两个死去的和尚和头陀，被邻舍拖至官府，最终查明是两僧因不公不法之事互相杀死，与王公无关。\n"
     ]
    },
    {
     "name": "stderr",
     "output_type": "stream",
     "text": [
      "Processing 水浒传:  41%|████      | 440/1081 [30:53<40:50,  3.82s/it]"
     ]
    },
    {
     "name": "stdout",
     "output_type": "stream",
     "text": [
      "石秀揭露了和尚和头陀的不端行为，杨雄误会石秀，后得知真相，计划在翠屏山与石秀对质，以澄清是非。\n"
     ]
    },
    {
     "name": "stderr",
     "output_type": "stream",
     "text": [
      "Processing 水浒传:  41%|████      | 441/1081 [30:56<37:28,  3.51s/it]"
     ]
    },
    {
     "name": "stdout",
     "output_type": "stream",
     "text": [
      "杨雄计划与石秀一起揭露妻子的不忠，骗她到翠屏山，准备在那里对质。\n"
     ]
    },
    {
     "name": "stderr",
     "output_type": "stream",
     "text": [
      "Processing 水浒传:  41%|████      | 442/1081 [30:59<36:38,  3.44s/it]"
     ]
    },
    {
     "name": "stdout",
     "output_type": "stream",
     "text": [
      "杨雄和石秀设计揭露妇人与和尚的奸情，通过丫头迎儿的供述，证实了妇人与和尚的私通行为。\n"
     ]
    },
    {
     "name": "stderr",
     "output_type": "stream",
     "text": [
      "Processing 水浒传:  41%|████      | 443/1081 [31:02<35:49,  3.37s/it]"
     ]
    },
    {
     "name": "stdout",
     "output_type": "stream",
     "text": [
      "杨雄发现妻子与和尚有染，石秀揭露真相，杨雄愤怒地将妻子和丫头处死，并剖出妻子的心肝。\n"
     ]
    },
    {
     "name": "stderr",
     "output_type": "stream",
     "text": [
      "Processing 水浒传:  41%|████      | 444/1081 [31:06<36:06,  3.40s/it]"
     ]
    },
    {
     "name": "stdout",
     "output_type": "stream",
     "text": [
      "杨雄和石秀杀了奸夫淫妇后，决定投奔梁山泊，途中遇到时迁，三人一同前往梁山泊寻求庇护。\n"
     ]
    },
    {
     "name": "stderr",
     "output_type": "stream",
     "text": [
      "Processing 水浒传:  41%|████      | 445/1081 [31:11<41:55,  3.95s/it]"
     ]
    },
    {
     "name": "stdout",
     "output_type": "stream",
     "text": [
      "石秀、杨雄和时迁决定投奔梁山泊，途中时迁引路，三人取小路前往。同时，潘巧云和迎儿被杀，轿夫发现后报告官府，官府追捕杨雄和石秀。三人逃至郓州，夜宿客店，准备继续前行。\n"
     ]
    },
    {
     "name": "stderr",
     "output_type": "stream",
     "text": [
      "Processing 水浒传:  41%|████▏     | 446/1081 [31:16<43:58,  4.16s/it]"
     ]
    },
    {
     "name": "stdout",
     "output_type": "stream",
     "text": [
      "杨雄、石秀和时迁在祝家店投宿，石秀询问店中朴刀的来历，得知祝家庄为防梁山泊贼人而准备。时迁偷杀店中鸡煮食，店小二发现后担心受罚。\n"
     ]
    },
    {
     "name": "stderr",
     "output_type": "stream",
     "text": [
      "Processing 水浒传:  41%|████▏     | 447/1081 [31:20<44:01,  4.17s/it]"
     ]
    },
    {
     "name": "stdout",
     "output_type": "stream",
     "text": [
      "时迁被误认为偷了店里的报晓鸡，石秀和杨雄与店小二发生争执，最终打斗中逃离，引来了更多追兵。\n"
     ]
    },
    {
     "name": "stderr",
     "output_type": "stream",
     "text": [
      "Processing 水浒传:  41%|████▏     | 448/1081 [31:24<43:42,  4.14s/it]"
     ]
    },
    {
     "name": "stdout",
     "output_type": "stream",
     "text": [
      "时迁被捉，杨雄、石秀逃走后遇到杜兴，得知时迁被押送祝家庄，杨雄计划救时迁并投奔梁山泊。\n"
     ]
    },
    {
     "name": "stderr",
     "output_type": "stream",
     "text": [
      "Processing 水浒传:  42%|████▏     | 449/1081 [31:29<46:14,  4.39s/it]"
     ]
    },
    {
     "name": "stdout",
     "output_type": "stream",
     "text": [
      "杨雄和石秀在乱草中被挠钩捉住时迁，后遇到杜兴，杜兴承诺帮助救出时迁，并介绍了三庄的情况，最后带杨雄和石秀去见李应求助。\n"
     ]
    },
    {
     "name": "stderr",
     "output_type": "stream",
     "text": [
      "Processing 水浒传:  42%|████▏     | 450/1081 [31:33<44:31,  4.23s/it]"
     ]
    },
    {
     "name": "stdout",
     "output_type": "stream",
     "text": [
      "李应帮助杨雄和石秀向祝家庄请求释放时迁，但祝家庄拒绝，李应亲自写信再次尝试，但杜兴独自返回，情况不明。\n"
     ]
    },
    {
     "name": "stderr",
     "output_type": "stream",
     "text": [
      "Processing 水浒传:  42%|████▏     | 451/1081 [31:36<42:15,  4.02s/it]"
     ]
    },
    {
     "name": "stdout",
     "output_type": "stream",
     "text": [
      "李应收到祝彪的侮辱后，愤怒地带领庄客和杨雄、石秀前往祝家庄挑战，祝彪则带领人马在庄前迎战。\n"
     ]
    },
    {
     "name": "stderr",
     "output_type": "stream",
     "text": [
      "Processing 水浒传:  42%|████▏     | 452/1081 [31:40<40:12,  3.84s/it]"
     ]
    },
    {
     "name": "stdout",
     "output_type": "stream",
     "text": [
      "李应因祝彪不合作而与其发生冲突，双方交战，李应受伤，后由杨雄、石秀救助，最终决定上梁山泊求助。\n"
     ]
    },
    {
     "name": "stderr",
     "output_type": "stream",
     "text": [
      "Processing 水浒传:  42%|████▏     | 453/1081 [31:45<46:23,  4.43s/it]"
     ]
    },
    {
     "name": "stdout",
     "output_type": "stream",
     "text": [
      "杨雄和石秀前往梁山泊，途中在石勇管理的酒店询问路线，被石勇认出并热情接待。两人随后被送到梁山泊，受到戴宗和杨林的迎接，并在大寨中受到众头领的欢迎。晁盖因时迁偷鸡事件大怒，欲斩杨雄和石秀，被宋江劝阻。\n"
     ]
    },
    {
     "name": "stderr",
     "output_type": "stream",
     "text": [
      "Processing 水浒传:  42%|████▏     | 454/1081 [31:49<43:03,  4.12s/it]"
     ]
    },
    {
     "name": "stdout",
     "output_type": "stream",
     "text": [
      "宋江决定带领山寨人马攻打祝家庄，以获取粮食并邀请李应入伙，同时为山寨报仇和避免耻辱。\n"
     ]
    },
    {
     "name": "stderr",
     "output_type": "stream",
     "text": [
      "Processing 水浒传:  42%|████▏     | 455/1081 [31:53<44:02,  4.22s/it]"
     ]
    },
    {
     "name": "stdout",
     "output_type": "stream",
     "text": [
      "宋江与众人计划攻打祝家庄，李逵欲先行，但宋江拒绝，决定派石秀和杨林扮作法师和卖柴人探路，两人进入复杂的路径后，发现祝家庄严密防备。\n"
     ]
    },
    {
     "name": "stderr",
     "output_type": "stream",
     "text": [
      "Processing 水浒传:  42%|████▏     | 456/1081 [31:57<41:20,  3.97s/it]"
     ]
    },
    {
     "name": "stdout",
     "output_type": "stream",
     "text": [
      "石秀询问祝家村风俗，得知因得罪梁山泊好汉，村中即将发生大战，老人告知石秀村中逃生之路。\n"
     ]
    },
    {
     "name": "stderr",
     "output_type": "stream",
     "text": [
      "Processing 水浒传:  42%|████▏     | 457/1081 [32:01<42:33,  4.09s/it]"
     ]
    },
    {
     "name": "stdout",
     "output_type": "stream",
     "text": [
      "石秀在祝家庄得知杨林因被误认为宋江的细作而被捕，后遇到祝彪，得知祝彪是祝朝奉第三子，石秀请求老人帮助逃离，老人让石秀留宿一晚，等待机会。\n"
     ]
    },
    {
     "name": "stderr",
     "output_type": "stream",
     "text": [
      "Processing 水浒传:  42%|████▏     | 458/1081 [32:06<45:51,  4.42s/it]"
     ]
    },
    {
     "name": "stdout",
     "output_type": "stream",
     "text": [
      "宋江军马在村口等待杨林、石秀回报，得知捉了细作后决定夜袭祝家庄救兄弟，李逵率先冲锋，但庄内无动静，宋江意识到可能有埋伏，决定撤退，此时祝家庄发动攻击，宋江军马陷入困境。\n"
     ]
    },
    {
     "name": "stderr",
     "output_type": "stream",
     "text": [
      "Processing 水浒传:  42%|████▏     | 459/1081 [32:11<45:49,  4.42s/it]"
     ]
    },
    {
     "name": "stdout",
     "output_type": "stream",
     "text": [
      "宋江和众头领在祝家庄遭遇重重埋伏，通过石秀的指引和花荣的箭术，成功破解敌军信号灯，最终在第二拨马军的接应下杀出重围，但发现黄信失踪。\n"
     ]
    },
    {
     "name": "stderr",
     "output_type": "stream",
     "text": [
      "Processing 水浒传:  43%|████▎     | 460/1081 [32:14<43:14,  4.18s/it]"
     ]
    },
    {
     "name": "stdout",
     "output_type": "stream",
     "text": [
      "宋江派黄头领探路被捉，后得知李大官人知地理，带礼物求见却被拒，李大官人因病无法相见。\n"
     ]
    },
    {
     "name": "stderr",
     "output_type": "stream",
     "text": [
      "Processing 水浒传:  43%|████▎     | 461/1081 [32:20<49:23,  4.78s/it]"
     ]
    },
    {
     "name": "stdout",
     "output_type": "stream",
     "text": [
      "宋江计划攻打祝家庄，得知需防备西村的扈三娘，且祝家庄有前后两门，需夹攻。石秀询问路径标记，杜兴指出白杨树为活路标志。宋江回寨后，决定亲自带兵攻打，分派各路头领，准备再次进攻祝家庄。\n"
     ]
    },
    {
     "name": "stderr",
     "output_type": "stream",
     "text": [
      "Processing 水浒传:  43%|████▎     | 462/1081 [32:26<51:25,  4.98s/it]"
     ]
    },
    {
     "name": "stdout",
     "output_type": "stream",
     "text": [
      "宋江怒于祝家庄的挑衅，誓言攻破祝家庄，后遭遇扈三娘的强力抵抗，王矮虎被俘，欧鹏与扈三娘交战不下，祝龙率军出击，马麟迎战祝龙，邓飞护卫宋江。\n"
     ]
    },
    {
     "name": "stderr",
     "output_type": "stream",
     "text": [
      "Processing 水浒传:  43%|████▎     | 463/1081 [32:31<52:45,  5.12s/it]"
     ]
    },
    {
     "name": "stdout",
     "output_type": "stream",
     "text": [
      "宋江在祝家庄遭遇围攻，秦明、马麟等与祝龙、栾廷玉等激战，秦明被伏击捉拿，宋江险些被俘，幸得穆弘、杨雄、石秀、花荣等援军及时赶到，展开混战。\n"
     ]
    },
    {
     "name": "stderr",
     "output_type": "stream",
     "text": [
      "Processing 水浒传:  43%|████▎     | 464/1081 [32:36<50:21,  4.90s/it]"
     ]
    },
    {
     "name": "stdout",
     "output_type": "stream",
     "text": [
      "宋江率众攻打祝家庄，遭遇伏击，李逵和林冲分别救援，林冲生擒一丈青，宋江命人将她送往梁山泊，自己则整夜忧虑。\n"
     ]
    },
    {
     "name": "stderr",
     "output_type": "stream",
     "text": [
      "Processing 水浒传:  43%|████▎     | 465/1081 [32:40<49:22,  4.81s/it]"
     ]
    },
    {
     "name": "stdout",
     "output_type": "stream",
     "text": [
      "吴用带领三阮头领等五百人马来助宋江攻打祝家庄，宋江因连番失利感到沮丧，吴用提出有计可破祝家庄，并透露有新成员石勇将带来关键信息。\n"
     ]
    },
    {
     "name": "stderr",
     "output_type": "stream",
     "text": [
      "Processing 水浒传:  43%|████▎     | 466/1081 [32:44<46:05,  4.50s/it]"
     ]
    },
    {
     "name": "stdout",
     "output_type": "stream",
     "text": [
      "两兄弟因官司受命捕虎，连续三日在山上设陷阱等待，最终捕获一只虎，滚落至毛太公庄园后，请求毛太公帮助取回虎。\n"
     ]
    },
    {
     "name": "stderr",
     "output_type": "stream",
     "text": [
      "Processing 水浒传:  43%|████▎     | 467/1081 [32:48<45:23,  4.44s/it]"
     ]
    },
    {
     "name": "stdout",
     "output_type": "stream",
     "text": [
      "解珍、解宝在毛太公庄上寻找丢失的大虫，发现线索但毛太公否认，双方争执后解珍、解宝被毛太公儿子毛仲义诱入庄内并被庄客围攻。\n"
     ]
    },
    {
     "name": "stderr",
     "output_type": "stream",
     "text": [
      "Processing 水浒传:  43%|████▎     | 468/1081 [32:52<42:02,  4.11s/it]"
     ]
    },
    {
     "name": "stdout",
     "output_type": "stream",
     "text": [
      "解珍、解宝被毛仲义陷害，被指控偷猎并抢夺财物，最终被捕并押入大牢，面临死刑威胁。\n"
     ]
    },
    {
     "name": "stderr",
     "output_type": "stream",
     "text": [
      "Processing 水浒传:  43%|████▎     | 469/1081 [32:55<40:20,  3.96s/it]"
     ]
    },
    {
     "name": "stdout",
     "output_type": "stream",
     "text": [
      "乐和因武艺高强和歌唱才能受人尊敬，得知解珍、解宝被陷害，秘密传递消息给他们的姐姐顾大嫂，希望她能救出二人。\n"
     ]
    },
    {
     "name": "stderr",
     "output_type": "stream",
     "text": [
      "Processing 水浒传:  43%|████▎     | 470/1081 [33:00<42:21,  4.16s/it]"
     ]
    },
    {
     "name": "stdout",
     "output_type": "stream",
     "text": [
      "顾大嫂得知兄弟因射得大虫被财主毛太公诬陷入狱，欲加害其性命。顾大嫂与丈夫孙新商议劫狱救人，计划请来好汉邹渊、邹闰相助。\n"
     ]
    },
    {
     "name": "stderr",
     "output_type": "stream",
     "text": [
      "Processing 水浒传:  44%|████▎     | 471/1081 [33:05<44:44,  4.40s/it]"
     ]
    },
    {
     "name": "stdout",
     "output_type": "stream",
     "text": [
      "孙新引荐两位好汉邹渊和邹闰给顾大嫂，商议劫牢救兄弟，并计划一同上梁山泊投奔宋公明。孙新计划请其兄孙提辖帮忙，以家中大嫂病重为由，引其前来商议。\n"
     ]
    },
    {
     "name": "stderr",
     "output_type": "stream",
     "text": [
      "Processing 水浒传:  44%|████▎     | 472/1081 [33:09<43:30,  4.29s/it]"
     ]
    },
    {
     "name": "stdout",
     "output_type": "stream",
     "text": [
      "顾大嫂假装生病，引孙立夫妇到家中，实为策划救解珍、解宝并投梁山泊，孙立犹豫，顾大嫂威胁若不从便与他死斗。\n"
     ]
    },
    {
     "name": "stderr",
     "output_type": "stream",
     "text": [
      "Processing 水浒传:  44%|████▍     | 473/1081 [33:13<42:55,  4.24s/it]"
     ]
    },
    {
     "name": "stdout",
     "output_type": "stream",
     "text": [
      "顾大嫂和孙立等人计划劫狱救解珍、解宝，顾大嫂扮作送饭妇人进入牢房，与乐和配合，最终在孙立的帮助下成功救出解珍、解宝。\n"
     ]
    },
    {
     "name": "stderr",
     "output_type": "stream",
     "text": [
      "Processing 水浒传:  44%|████▍     | 474/1081 [33:18<45:38,  4.51s/it]"
     ]
    },
    {
     "name": "stdout",
     "output_type": "stream",
     "text": [
      "解宝、顾大嫂等人在牢中救出孙立等人，随后前往毛太公庄上复仇，杀尽毛家老小，夺取财物后奔向梁山泊，途中商议利用孙立与栾廷玉的师兄弟关系，里应外合攻破祝家庄。\n"
     ]
    },
    {
     "name": "stderr",
     "output_type": "stream",
     "text": [
      "Processing 水浒传:  44%|████▍     | 475/1081 [33:24<48:14,  4.78s/it]"
     ]
    },
    {
     "name": "stdout",
     "output_type": "stream",
     "text": [
      "石勇向吴用报告孙立等八人欲投靠山寨并献计，吴用决定利用他们里应外合攻打祝家庄，随后安排戴宗回山寨取特定四人以备他用。\n"
     ]
    },
    {
     "name": "stderr",
     "output_type": "stream",
     "text": [
      "Processing 水浒传:  44%|████▍     | 476/1081 [33:31<56:38,  5.62s/it]"
     ]
    },
    {
     "name": "stdout",
     "output_type": "stream",
     "text": [
      "宋江因祝家庄捉了王矮虎而捉了扈成的妹妹作为报复，要求扈成交还王矮虎以换回其妹。扈成无法交出王矮虎，吴用提议扈成未来不救援祝家庄，并捉拿投奔者以换回其妹。同时，孙立伪装成登州兵马提辖进入祝家庄，与栾廷玉相见。\n"
     ]
    },
    {
     "name": "stderr",
     "output_type": "stream",
     "text": [
      "Processing 水浒传:  44%|████▍     | 477/1081 [33:37<56:55,  5.65s/it]"
     ]
    },
    {
     "name": "stdout",
     "output_type": "stream",
     "text": [
      "孙立被调至郓州镇守，与祝朝奉及三子相会，祝家设宴款待。后宋江军马来袭，祝彪与花荣交战未果，孙立表示次日将出战。第四日，宋江军再次来犯，祝家三子与孙立准备迎战。\n"
     ]
    },
    {
     "name": "stderr",
     "output_type": "stream",
     "text": [
      "Processing 水浒传:  44%|████▍     | 478/1081 [33:41<51:51,  5.16s/it]"
     ]
    },
    {
     "name": "stdout",
     "output_type": "stream",
     "text": [
      "林、穆弘、杨雄与祝家三子交战，孙立捉拿石秀，祝家庄共捉七名梁山好汉，孙立计划将他们囚禁并送往东京。\n"
     ]
    },
    {
     "name": "stderr",
     "output_type": "stream",
     "text": [
      "Processing 水浒传:  44%|████▍     | 479/1081 [33:45<47:50,  4.77s/it]"
     ]
    },
    {
     "name": "stdout",
     "output_type": "stream",
     "text": [
      "宋江分兵四路攻打祝家庄，孙立等人提前准备，利用内应成功攻破庄园，祝朝奉被杀，庄兵被击败。\n"
     ]
    },
    {
     "name": "stderr",
     "output_type": "stream",
     "text": [
      "Processing 水浒传:  44%|████▍     | 480/1081 [33:49<46:51,  4.68s/it]"
     ]
    },
    {
     "name": "stdout",
     "output_type": "stream",
     "text": [
      "四路人马攻打祝家庄，祝虎、祝龙、祝彪相继被杀，李逵烧毁扈家庄并杀尽扈家老小，宋江入祝家庄坐镇，众头领献功，收获颇丰。\n"
     ]
    },
    {
     "name": "stderr",
     "output_type": "stream",
     "text": [
      "Processing 水浒传:  44%|████▍     | 481/1081 [33:55<50:57,  5.10s/it]"
     ]
    },
    {
     "name": "stdout",
     "output_type": "stream",
     "text": [
      "宋江质问李逵为何杀扈太公一家，李逵承认杀了祝龙和祝彪，宋江责其违令，但未斩首，只拆过其功。后宋江决定不洗荡祝家庄，赏赐帮助的锺离老人，并分发粮米给村民，打破祝家庄后得粮五十万担，众将欢喜离去。\n"
     ]
    },
    {
     "name": "stderr",
     "output_type": "stream",
     "text": [
      "Processing 水浒传:  45%|████▍     | 482/1081 [34:00<50:18,  5.04s/it]"
     ]
    },
    {
     "name": "stdout",
     "output_type": "stream",
     "text": [
      "宋江等梁山好汉解救了孙立等七位好汉及家属，一同返回山寨，途中得知李应因祝家庄事件被知府捉拿，宋江带人马拦截救出李应和杜兴，并邀请他们上梁山避难。\n"
     ]
    },
    {
     "name": "stderr",
     "output_type": "stream",
     "text": [
      "Processing 水浒传:  45%|████▍     | 483/1081 [34:04<46:12,  4.64s/it]"
     ]
    },
    {
     "name": "stdout",
     "output_type": "stream",
     "text": [
      "宋江设计将李应及其家眷骗至梁山泊，告知其家已被烧毁，迫使李应加入梁山，随后庆祝新头领上山。\n"
     ]
    },
    {
     "name": "stderr",
     "output_type": "stream",
     "text": [
      "Processing 水浒传:  45%|████▍     | 484/1081 [34:08<44:56,  4.52s/it]"
     ]
    },
    {
     "name": "stdout",
     "output_type": "stream",
     "text": [
      "宋江安排一丈青扈三娘与王英成婚，众头领庆贺；同时，雷横来访，宋江热情接待，但雷横因母年高拒绝入伙，最终拜别下山。\n"
     ]
    },
    {
     "name": "stderr",
     "output_type": "stream",
     "text": [
      "Processing 水浒传:  45%|████▍     | 485/1081 [34:13<44:18,  4.46s/it]"
     ]
    },
    {
     "name": "stdout",
     "output_type": "stream",
     "text": [
      "雷棋带金银下山回家，晁盖、宋江回寨分配职务，安排各头领守卫和职责，雷棋回家后在县城偶遇李小二，得知新来艺人白秀英在勾栏表演。\n"
     ]
    },
    {
     "name": "stderr",
     "output_type": "stream",
     "text": [
      "Processing 水浒传:  45%|████▍     | 486/1081 [34:16<42:33,  4.29s/it]"
     ]
    },
    {
     "name": "stdout",
     "output_type": "stream",
     "text": [
      "雷横在李小二的邀请下到勾栏观看白秀英的表演，白秀英表演后向观众讨赏，雷横忘记带钱，尴尬地承诺次日补上。\n"
     ]
    },
    {
     "name": "stderr",
     "output_type": "stream",
     "text": [
      "Processing 水浒传:  45%|████▌     | 487/1081 [34:26<58:01,  5.86s/it]"
     ]
    },
    {
     "name": "stdout",
     "output_type": "stream",
     "text": [
      "雷横在勾栏因被辱骂而打伤白玉乔，白秀英向知县告状，雷横被捉拿并公开示众，其母见状痛哭，禁子们无奈执行命令。\n"
     ]
    },
    {
     "name": "stderr",
     "output_type": "stream",
     "text": [
      "Processing 水浒传:  45%|████▌     | 488/1081 [34:30<52:31,  5.31s/it]"
     ]
    },
    {
     "name": "stdout",
     "output_type": "stream",
     "text": [
      "雷横因母亲被白秀英侮辱而愤怒打死白秀英，后被捕入狱，其母求助于狱卒朱仝，朱仝答应帮忙救雷横。\n"
     ]
    },
    {
     "name": "stderr",
     "output_type": "stream",
     "text": [
      "Processing 水浒传:  45%|████▌     | 489/1081 [34:34<48:46,  4.94s/it]"
     ]
    },
    {
     "name": "stdout",
     "output_type": "stream",
     "text": [
      "朱仝因同情雷横，私自放走他并替其承担罪责，最终被判脊杖二十，刺配沧州，后被知府留在府中听候使唤。\n"
     ]
    },
    {
     "name": "stderr",
     "output_type": "stream",
     "text": [
      "Processing 水浒传:  45%|████▌     | 490/1081 [34:38<46:43,  4.74s/it]"
     ]
    },
    {
     "name": "stdout",
     "output_type": "stream",
     "text": [
      "朱仝因放走雷横而被配到沧州，受到知府赏识，并负责照顾知府的幼子，日久生情，常带小衙内外出玩耍。\n"
     ]
    },
    {
     "name": "stderr",
     "output_type": "stream",
     "text": [
      "Processing 水浒传:  45%|████▌     | 491/1081 [34:42<44:37,  4.54s/it]"
     ]
    },
    {
     "name": "stdout",
     "output_type": "stream",
     "text": [
      "朱仝带小衙内看河灯时偶遇雷横和吴用，被邀请上梁山，朱仝拒绝后发现小衙内失踪，怀疑是雷横的伴当所为。\n"
     ]
    },
    {
     "name": "stderr",
     "output_type": "stream",
     "text": [
      "Processing 水浒传:  46%|████▌     | 492/1081 [34:46<42:43,  4.35s/it]"
     ]
    },
    {
     "name": "stdout",
     "output_type": "stream",
     "text": [
      "朱仝、雷横和吴用寻找被李逵带走的小衙内，发现小衙内已死，朱仝愤怒追击李逵至柴进庄院。\n"
     ]
    },
    {
     "name": "stderr",
     "output_type": "stream",
     "text": [
      "Processing 水浒传:  46%|████▌     | 493/1081 [34:51<44:43,  4.56s/it]"
     ]
    },
    {
     "name": "stdout",
     "output_type": "stream",
     "text": [
      "朱仝因犯罪被刺配，请求柴进帮忙捉拿杀害小衙内的黑旋风。柴进透露黑旋风受宋江指使，目的是迫使朱仝加入梁山泊。朱仝愤怒，要求见到黑旋风才肯上山。\n"
     ]
    },
    {
     "name": "stderr",
     "output_type": "stream",
     "text": [
      "Processing 水浒传:  46%|████▌     | 494/1081 [34:58<49:42,  5.08s/it]"
     ]
    },
    {
     "name": "stdout",
     "output_type": "stream",
     "text": [
      "朱仝不愿上山，除非杀了李逵，柴进提议留下李逵，让朱仝等三人上山。朱仝担心家人被捉，吴用保证宋江已救出其家人。朱仝、吴用、雷横上梁山，宋江确认已救出朱仝家人。沧州知府发现朱仝失踪，次日得知小衙内被杀。\n"
     ]
    },
    {
     "name": "stderr",
     "output_type": "stream",
     "text": [
      "Processing 水浒传:  46%|████▌     | 495/1081 [35:02<46:46,  4.79s/it]"
     ]
    },
    {
     "name": "stdout",
     "output_type": "stream",
     "text": [
      "府尹追捕朱仝无果，得知其家逃亡；李逵随柴进前往高唐州，因柴皇城被殷天锡欺压病重，柴进决定前去处理。\n"
     ]
    },
    {
     "name": "stderr",
     "output_type": "stream",
     "text": [
      "Processing 水浒传:  46%|████▌     | 496/1081 [35:06<44:42,  4.59s/it]"
     ]
    },
    {
     "name": "stdout",
     "output_type": "stream",
     "text": [
      "朱仝因不满李逵，拒绝上山，柴进提议留下李逵，让朱仝等人先上山。宋江告知朱仝其家人已被接到山寨，朱仝安心加入梁山泊。\n"
     ]
    },
    {
     "name": "stderr",
     "output_type": "stream",
     "text": [
      "Processing 水浒传:  46%|████▌     | 497/1081 [35:11<45:45,  4.70s/it]"
     ]
    },
    {
     "name": "stdout",
     "output_type": "stream",
     "text": [
      "沧州知府因朱仝未归而寻找，发现小衙内被杀，通缉朱仝。同时，柴进因叔叔柴皇城被高廉的妻弟殷天锡欺压，决定前往高唐州处理此事，李逵随行。\n"
     ]
    },
    {
     "name": "stderr",
     "output_type": "stream",
     "text": [
      "Processing 水浒传:  46%|████▌     | 498/1081 [35:15<45:23,  4.67s/it]"
     ]
    },
    {
     "name": "stdout",
     "output_type": "stream",
     "text": [
      "柴进的叔叔被殷天锡殴打致重伤，柴进决定取丹书铁券与对方理论，李逵欲用武力解决，但柴进劝其冷静，最终叔叔去世，柴进安排后事并计划上京告状。\n"
     ]
    },
    {
     "name": "stderr",
     "output_type": "stream",
     "text": [
      "Processing 水浒传:  46%|████▌     | 499/1081 [35:21<46:28,  4.79s/it]"
     ]
    },
    {
     "name": "stdout",
     "output_type": "stream",
     "text": [
      "殷天锡限柴进三日内搬出柴皇城宅，柴进拒绝后，殷天锡欲打柴进，李逵出手将殷天锡打死，柴进让李逵逃回梁山泊，自己被捉至州衙。\n"
     ]
    },
    {
     "name": "stderr",
     "output_type": "stream",
     "text": [
      "Processing 水浒传:  46%|████▋     | 500/1081 [35:26<47:55,  4.95s/it]"
     ]
    },
    {
     "name": "stdout",
     "output_type": "stream",
     "text": [
      "柴进因叔叔柴皇城病故，被殷直阁带人赶出家，庄客李大救主误杀殷天锡，柴进被高廉严刑逼供后监禁。同时，李逵因之前杀小衙内事件，被迫向朱仝道歉和解。\n"
     ]
    },
    {
     "name": "stderr",
     "output_type": "stream",
     "text": [
      "Processing 水浒传:  46%|████▋     | 501/1081 [35:30<46:23,  4.80s/it]"
     ]
    },
    {
     "name": "stdout",
     "output_type": "stream",
     "text": [
      "李逵因保护柴进打死殷天锡，导致柴进被捕，宋江决定带兵救援柴进，梁山好汉分兵前往高唐州。\n"
     ]
    },
    {
     "name": "stderr",
     "output_type": "stream",
     "text": [
      "Processing 水浒传:  46%|████▋     | 502/1081 [35:35<46:32,  4.82s/it]"
     ]
    },
    {
     "name": "stdout",
     "output_type": "stream",
     "text": [
      "高知府率领精锐军士迎战林冲、花荣、秦明带领的五千人马，双方激战，高廉使用法术制造黑气和怪风，使林冲等众将无法相顾，最终三百神兵趁机杀出。\n"
     ]
    },
    {
     "name": "stderr",
     "output_type": "stream",
     "text": [
      "Processing 水浒传:  47%|████▋     | 503/1081 [35:39<44:53,  4.66s/it]"
     ]
    },
    {
     "name": "stdout",
     "output_type": "stream",
     "text": [
      "林冲等军马被高廉用妖法击败，宋江学习“回风返火破阵”之法后，率军反击，但再次被高廉的妖法击败，导致宋江军大败。\n"
     ]
    },
    {
     "name": "stderr",
     "output_type": "stream",
     "text": [
      "Processing 水浒传:  47%|████▋     | 504/1081 [35:44<44:36,  4.64s/it]"
     ]
    },
    {
     "name": "stdout",
     "output_type": "stream",
     "text": [
      "宋江连败两阵后，与吴用商议对策，设伏击败高廉的神兵，但未能捉拿高廉。宋江忧心忡忡，吴用提出需请高人来破高廉的妖法。\n"
     ]
    },
    {
     "name": "stderr",
     "output_type": "stream",
     "text": [
      "Processing 水浒传:  47%|████▋     | 505/1081 [35:48<43:54,  4.57s/it]"
     ]
    },
    {
     "name": "stdout",
     "output_type": "stream",
     "text": [
      "李逵和柴进讨论如何应对殷天锡的欺压，柴进建议依法理论，李逵则主张暴力解决。柴进随后得知皇城被殷天锡殴打致死，决定前往京师告状为叔叔报仇。\n"
     ]
    },
    {
     "name": "stderr",
     "output_type": "stream",
     "text": [
      "Processing 水浒传:  47%|████▋     | 506/1081 [35:54<45:07,  4.71s/it]"
     ]
    },
    {
     "name": "stdout",
     "output_type": "stream",
     "text": [
      "殷天锡逼迫柴进搬家，柴进出示丹书铁券以求保护，但殷天锡不惧，命令打柴进，李逵出手打死殷天锡，柴进让李逵逃回梁山泊，自己被捕并被带到州衙受审。\n"
     ]
    },
    {
     "name": "stderr",
     "output_type": "stream",
     "text": [
      "Processing 水浒传:  47%|████▋     | 507/1081 [35:58<44:16,  4.63s/it]"
     ]
    },
    {
     "name": "stdout",
     "output_type": "stream",
     "text": [
      "柴进因庄客李大误杀人被牵连，高廉不认太祖誓书，柴进被严刑拷打并监禁。同时，李逵因误会与朱仝冲突，后在宋江调解下和解。\n"
     ]
    },
    {
     "name": "stderr",
     "output_type": "stream",
     "text": [
      "Processing 水浒传:  47%|████▋     | 508/1081 [36:03<44:54,  4.70s/it]"
     ]
    },
    {
     "name": "stdout",
     "output_type": "stream",
     "text": [
      "李逵因在迤大官人庄上惹事，被戴宗召回，得知柴大官人因殷天锡争屋被打死而陷入牢狱，晁盖决定亲自下山救援，宋江代替前往，梁山泊众头领率军前往高唐州。\n"
     ]
    },
    {
     "name": "stderr",
     "output_type": "stream",
     "text": [
      "Processing 水浒传:  47%|████▋     | 509/1081 [36:07<42:36,  4.47s/it]"
     ]
    },
    {
     "name": "stdout",
     "output_type": "stream",
     "text": [
      "高廉率军迎战林冲、花荣、秦明带领的五千人马，双方激战，高廉使用法术制造黑气，导致林冲军败退，损失惨重。\n"
     ]
    },
    {
     "name": "stderr",
     "output_type": "stream",
     "text": [
      "Processing 水浒传:  47%|████▋     | 510/1081 [36:11<41:22,  4.35s/it]"
     ]
    },
    {
     "name": "stdout",
     "output_type": "stream",
     "text": [
      "宋江学习了“回风返火破阵”之法，率军攻打高廉，但高廉使用妖法召唤怪兽毒虫，宋江军大败，后商议对策以防高廉夜袭。\n"
     ]
    },
    {
     "name": "stderr",
     "output_type": "stream",
     "text": [
      "Processing 水浒传:  47%|████▋     | 511/1081 [36:15<39:44,  4.18s/it]"
     ]
    },
    {
     "name": "stdout",
     "output_type": "stream",
     "text": [
      "杨林、白胜设伏击退高廉的神兵，高廉中箭后回城养病，宋江忧虑高廉妖法，吴用建议请公孙胜来破法。\n"
     ]
    },
    {
     "name": "stderr",
     "output_type": "stream",
     "text": [
      "Processing 水浒传:  47%|████▋     | 512/1081 [36:20<41:51,  4.41s/it]"
     ]
    },
    {
     "name": "stdout",
     "output_type": "stream",
     "text": [
      "戴宗与李逵一同前往蓟州，戴宗要求李逵路上只吃素，但李逵私下吃肉喝酒。戴宗发现后，决定用“神行法”让李逵忍饿一日，两人继续前行。\n"
     ]
    },
    {
     "name": "stderr",
     "output_type": "stream",
     "text": [
      "Processing 水浒传:  47%|████▋     | 513/1081 [36:25<43:55,  4.64s/it]"
     ]
    },
    {
     "name": "stdout",
     "output_type": "stream",
     "text": [
      "李逵因吃了牛肉违反戴宗的禁令，导致无法控制自己的双腿不停奔跑，最终戴宗施法使其停下，并警告他以后不得再吃荤。\n"
     ]
    },
    {
     "name": "stderr",
     "output_type": "stream",
     "text": [
      "Processing 水浒传:  48%|████▊     | 514/1081 [36:29<44:10,  4.67s/it]"
     ]
    },
    {
     "name": "stdout",
     "output_type": "stream",
     "text": [
      "李逵请求戴宗再次救助，戴宗考验李逵是否真心依从，两人使用神行法前往蓟州寻找公孙胜，但未能找到，途中李逵因焦急而发怒，戴宗则劝诫他。\n"
     ]
    },
    {
     "name": "stderr",
     "output_type": "stream",
     "text": [
      "Processing 水浒传:  48%|████▊     | 515/1081 [36:34<44:35,  4.73s/it]"
     ]
    },
    {
     "name": "stdout",
     "output_type": "stream",
     "text": [
      "戴宗和李逵在面馆遇到一位老丈，得知老丈来自九宫县二仙山，正在听罗真人讲长生不老之法。戴宗询问得知公孙胜（清道人）也在那里，于是决定前往寻找。\n"
     ]
    },
    {
     "name": "stderr",
     "output_type": "stream",
     "text": [
      "Processing 水浒传:  48%|████▊     | 516/1081 [36:40<46:18,  4.92s/it]"
     ]
    },
    {
     "name": "stdout",
     "output_type": "stream",
     "text": [
      "戴宗和李逵寻找公孙胜，询问村姑得知其在家炼丹。戴宗让李逵躲藏，自己先行探访，但被婆婆告知公孙胜不在。戴宗指示李逵以武力逼迫公孙胜现身，李逵持斧威胁，最终砍倒墙壁，惊倒婆婆。\n"
     ]
    },
    {
     "name": "stderr",
     "output_type": "stream",
     "text": [
      "Processing 水浒传:  48%|████▊     | 517/1081 [36:43<42:52,  4.56s/it]"
     ]
    },
    {
     "name": "stdout",
     "output_type": "stream",
     "text": [
      "公孙胜被戴宗和李逵找到，请求他帮助宋江对抗高廉，公孙胜犹豫因需照顾母亲和师命，最终决定询问师傅罗真人后再做决定。\n"
     ]
    },
    {
     "name": "stderr",
     "output_type": "stream",
     "text": [
      "Processing 水浒传:  48%|████▊     | 518/1081 [36:48<42:28,  4.53s/it]"
     ]
    },
    {
     "name": "stdout",
     "output_type": "stream",
     "text": [
      "公孙胜带戴宗和李逵见罗真人，请求公孙胜下山助宋江破高廉，但罗真人拒绝。李逵愤怒，夜袭紫虚观欲杀罗真人，但只打中真人化身的葫芦。\n"
     ]
    },
    {
     "name": "stderr",
     "output_type": "stream",
     "text": [
      "Processing 水浒传:  48%|████▊     | 519/1081 [36:52<40:51,  4.36s/it]"
     ]
    },
    {
     "name": "stdout",
     "output_type": "stream",
     "text": [
      "李逵潜入松鹤轩，误以为罗真人是敌人，将其杀害，后发现罗真人未死，三人再次上山请求罗真人救助，罗真人最终同意帮助他们前往高唐州。\n"
     ]
    },
    {
     "name": "stderr",
     "output_type": "stream",
     "text": [
      "Processing 水浒传:  48%|████▊     | 520/1081 [36:57<41:49,  4.47s/it]"
     ]
    },
    {
     "name": "stdout",
     "output_type": "stream",
     "text": [
      "罗真人使用手帕化作云朵，让公孙胜、戴宗和李逵体验飞行，但李逵因恐惧而闹腾，最终被罗真人用恶风送至蓟州府，从空中坠落，被误认为妖人并受到惩罚。\n"
     ]
    },
    {
     "name": "stderr",
     "output_type": "stream",
     "text": [
      "Processing 水浒传:  48%|████▊     | 521/1081 [37:01<41:15,  4.42s/it]"
     ]
    },
    {
     "name": "stdout",
     "output_type": "stream",
     "text": [
      "李逵被误认为妖人，遭受严刑拷打，后自称是罗真人的随从，被关入大牢，牢中人因敬畏罗真人而善待他，罗真人最终决定不救李逵。\n"
     ]
    },
    {
     "name": "stderr",
     "output_type": "stream",
     "text": [
      "Processing 水浒传:  48%|████▊     | 522/1081 [37:05<39:09,  4.20s/it]"
     ]
    },
    {
     "name": "stdout",
     "output_type": "stream",
     "text": [
      "罗真人得知李逵是天杀星，决定不逆天意，派黄巾力士将他从蓟州牢中救回，并告诫他要忠诚于宋公明。\n"
     ]
    },
    {
     "name": "stderr",
     "output_type": "stream",
     "text": [
      "Processing 水浒传:  48%|████▊     | 523/1081 [37:09<40:51,  4.39s/it]"
     ]
    },
    {
     "name": "stdout",
     "output_type": "stream",
     "text": [
      "罗真人传授公孙胜“五雷天心正法”以救宋江，公孙胜与李逵下山，途中李逵小心侍奉公孙胜，两人在武冈镇休息时，李逵因见大汉展示力量而欲试其铁瓜。\n"
     ]
    },
    {
     "name": "stderr",
     "output_type": "stream",
     "text": [
      "Processing 水浒传:  48%|████▊     | 524/1081 [37:13<38:34,  4.15s/it]"
     ]
    },
    {
     "name": "stdout",
     "output_type": "stream",
     "text": [
      "李逵展示力量后，遇到打铁匠汤隆，两人结拜为兄弟，李逵邀请汤隆加入梁山泊，并一同前往见公孙胜。\n"
     ]
    },
    {
     "name": "stderr",
     "output_type": "stream",
     "text": [
      "Processing 水浒传:  49%|████▊     | 525/1081 [37:18<39:29,  4.26s/it]"
     ]
    },
    {
     "name": "stdout",
     "output_type": "stream",
     "text": [
      "李逵、汤隆与公孙胜前往高唐州支援，途中遇戴宗得知战况，到达后与宋江等商议对策，随后率军挑战高廉，花荣与薛元辉交战。\n"
     ]
    },
    {
     "name": "stderr",
     "output_type": "stream",
     "text": [
      "Processing 水浒传:  49%|████▊     | 526/1081 [37:23<43:28,  4.70s/it]"
     ]
    },
    {
     "name": "stdout",
     "output_type": "stream",
     "text": [
      "花荣射杀薛元辉，高廉使用妖法召唤怪兽，公孙胜以法术破解，宋江军大胜。次日，宋江分兵围城，公孙胜预料高廉夜间偷袭，设伏击败高廉的神兵。\n"
     ]
    },
    {
     "name": "stderr",
     "output_type": "stream",
     "text": [
      "Processing 水浒传:  49%|████▉     | 527/1081 [37:28<42:14,  4.57s/it]"
     ]
    },
    {
     "name": "stdout",
     "output_type": "stream",
     "text": [
      "高廉的军队被宋江和林冲击败，高廉逃回城后求救，宋江利用计策引高廉出城，最终在小路设伏将其擒获。\n"
     ]
    },
    {
     "name": "stderr",
     "output_type": "stream",
     "text": [
      "Processing 水浒传:  49%|████▉     | 528/1081 [37:33<44:19,  4.81s/it]"
     ]
    },
    {
     "name": "stdout",
     "output_type": "stream",
     "text": [
      "高廉被宋江军队围攻，使用法术逃至山顶，被公孙胜破解法术并被雷横斩杀。宋江军队进入高唐州，救出被囚禁的柴进，但柴进失踪，后发现被藏在枯井中，李逵自愿下井救出柴进。\n"
     ]
    },
    {
     "name": "stderr",
     "output_type": "stream",
     "text": [
      "Processing 水浒传:  49%|████▉     | 529/1081 [37:37<43:42,  4.75s/it]"
     ]
    },
    {
     "name": "stdout",
     "output_type": "stream",
     "text": [
      "李逵下井救柴进，柴进受伤，李逵抱怨未被及时救出。后柴进被救回梁山泊，高廉一家被处决，梁山泊众人胜利返回，柴进得到治疗和安置。\n"
     ]
    },
    {
     "name": "stderr",
     "output_type": "stream",
     "text": [
      "Processing 水浒传:  49%|████▉     | 530/1081 [37:43<45:44,  4.98s/it]"
     ]
    },
    {
     "name": "stdout",
     "output_type": "stream",
     "text": [
      "高唐州被梁山泊贼首晁盖、宋江攻陷，高太尉向皇帝奏报，请求派兵剿捕。皇帝命高太尉选将调兵，高太尉推荐呼延灼征剿梁山泊。皇帝批准，呼延灼被召至京师，准备出征。\n"
     ]
    },
    {
     "name": "stderr",
     "output_type": "stream",
     "text": [
      "Processing 水浒传:  49%|████▉     | 531/1081 [37:48<46:42,  5.10s/it]"
     ]
    },
    {
     "name": "stdout",
     "output_type": "stream",
     "text": [
      "呼延灼得到天子赏赐的踢雪乌骓马，并推荐韩滔和彭屺为先锋，高太尉同意并调取二人。随后，呼延灼与高太尉商议起军剿捕梁山泊，呼延灼选领衣甲盔刀，准备出征。\n"
     ]
    },
    {
     "name": "stderr",
     "output_type": "stream",
     "text": [
      "Processing 水浒传:  49%|████▉     | 532/1081 [37:53<44:39,  4.88s/it]"
     ]
    },
    {
     "name": "stdout",
     "output_type": "stream",
     "text": [
      "呼延灼、韩滔、彭圮三位将军领兵前往汝宁州会合，准备出兵攻打梁山泊。梁山泊方面，宋江部署多路兵马，准备迎战呼延灼的军队。\n"
     ]
    },
    {
     "name": "stderr",
     "output_type": "stream",
     "text": [
      "Processing 水浒传:  49%|████▉     | 533/1081 [37:57<41:44,  4.57s/it]"
     ]
    },
    {
     "name": "stdout",
     "output_type": "stream",
     "text": [
      "秦明与韩滔交战，呼延灼加入战斗对战林冲，花荣和扈三娘相继加入，扈三娘使用套索生擒彭圯。\n"
     ]
    },
    {
     "name": "stderr",
     "output_type": "stream",
     "text": [
      "Processing 水浒传:  49%|████▉     | 534/1081 [38:01<42:19,  4.64s/it]"
     ]
    },
    {
     "name": "stdout",
     "output_type": "stream",
     "text": [
      "呼延灼与一丈青交战，未能速胜，后与孙立激战三十余合不分胜负，官军与宋江军交锋，因呼延灼的连环马军装备精良，宋江军难以近前，最终双方各自收兵。\n"
     ]
    },
    {
     "name": "stderr",
     "output_type": "stream",
     "text": [
      "Processing 水浒传:  49%|████▉     | 535/1081 [38:06<41:23,  4.55s/it]"
     ]
    },
    {
     "name": "stdout",
     "output_type": "stream",
     "text": [
      "宋江与彭圯交流后将其留在寨中，随后与呼延灼交战，呼延灼使用连环马战术，宋江军败退，幸得伏兵救援，最终撤至水边由水军头领接应。\n"
     ]
    },
    {
     "name": "stderr",
     "output_type": "stream",
     "text": [
      "Processing 水浒传:  50%|████▉     | 536/1081 [38:10<39:20,  4.33s/it]"
     ]
    },
    {
     "name": "stdout",
     "output_type": "stream",
     "text": [
      "宋江带领的梁山泊众头领在水战中损失惨重，多人受伤，而呼延灼则大获全胜，向京师报捷，并计划进一步攻打梁山泊。\n"
     ]
    },
    {
     "name": "stderr",
     "output_type": "stream",
     "text": [
      "Processing 水浒传:  50%|████▉     | 537/1081 [38:14<38:10,  4.21s/it]"
     ]
    },
    {
     "name": "stdout",
     "output_type": "stream",
     "text": [
      "呼延灼请求高太尉派遣炮手凌支援攻打梁山泊，凌携带火炮前往，宋江与吴学究商议对策，决定诱捕凌以破解敌军炮火威胁。\n"
     ]
    },
    {
     "name": "stderr",
     "output_type": "stream",
     "text": [
      "Processing 水浒传:  50%|████▉     | 538/1081 [38:20<43:46,  4.84s/it]"
     ]
    },
    {
     "name": "stdout",
     "output_type": "stream",
     "text": [
      "李俊和张横在芦苇滩边设伏，成功利用水军和策略俘获凌，并将其带上山寨。宋江亲自解绑并邀请凌加入，凌担心家人安全，宋江承诺帮助解决。随后，众头领商讨破“连环马”之策，汤隆提出需特定军器和某人帮助，但详情留待下回分解。\n"
     ]
    },
    {
     "name": "stderr",
     "output_type": "stream",
     "text": [
      "Processing 水浒传:  50%|████▉     | 539/1081 [38:26<47:01,  5.21s/it]"
     ]
    },
    {
     "name": "stdout",
     "output_type": "stream",
     "text": [
      "汤隆提议用钩镰枪破解连环甲马阵，并指出只有徐宁会使用此枪法。计划通过盗取徐宁珍视的金甲来诱使他上山，同时安排人手去东京和颍州处理其他事务。\n"
     ]
    },
    {
     "name": "stderr",
     "output_type": "stream",
     "text": [
      "Processing 水浒传:  50%|████▉     | 540/1081 [38:29<41:42,  4.62s/it]"
     ]
    },
    {
     "name": "stdout",
     "output_type": "stream",
     "text": [
      "时迁潜入东京，寻找金枪班教师徐宁家，观察其行动规律，夜间潜伏于徐宁家附近，准备行动。\n"
     ]
    },
    {
     "name": "stderr",
     "output_type": "stream",
     "text": [
      "Processing 水浒传:  50%|█████     | 541/1081 [38:33<39:53,  4.43s/it]"
     ]
    },
    {
     "name": "stdout",
     "output_type": "stream",
     "text": [
      "时迁偷窃徐宁家中的宝甲，趁徐宁早起值班时，潜入家中，熄灭灯光，偷走宝甲，并在被发现时模仿老鼠叫声蒙混过关。\n"
     ]
    },
    {
     "name": "stderr",
     "output_type": "stream",
     "text": [
      "Processing 水浒传:  50%|█████     | 542/1081 [38:37<37:56,  4.22s/it]"
     ]
    },
    {
     "name": "stdout",
     "output_type": "stream",
     "text": [
      "时迁偷取皮匣，戴宗带走雁翎锁子甲，时迁按汤隆指示行动，徐宁家发现皮匣丢失，急寻徐宁。\n"
     ]
    },
    {
     "name": "stderr",
     "output_type": "stream",
     "text": [
      "Processing 水浒传:  50%|█████     | 543/1081 [38:41<36:22,  4.06s/it]"
     ]
    },
    {
     "name": "stdout",
     "output_type": "stream",
     "text": [
      "徐宁家中被盗，失去了珍贵的雁翎甲，整夜焦虑不安。次日，汤隆来访，带来金子作为遗念，徐宁感激并设宴款待。\n"
     ]
    },
    {
     "name": "stderr",
     "output_type": "stream",
     "text": [
      "Processing 水浒传:  50%|█████     | 544/1081 [38:44<34:08,  3.81s/it]"
     ]
    },
    {
     "name": "stdout",
     "output_type": "stream",
     "text": [
      "徐宁家被盗走了珍贵的雁翎锁子甲，汤隆发现线索后，两人急忙追赶盗贼。\n"
     ]
    },
    {
     "name": "stderr",
     "output_type": "stream",
     "text": [
      "Processing 水浒传:  50%|█████     | 545/1081 [38:48<34:34,  3.87s/it]"
     ]
    },
    {
     "name": "stdout",
     "output_type": "stream",
     "text": [
      "徐宁跟随汤隆追寻被盗的雁翎锁甲，途中发现时迁持有空匣，时迁称甲已被他人拿走，徐宁犹豫后决定与时迁一同去讨回甲。\n"
     ]
    },
    {
     "name": "stderr",
     "output_type": "stream",
     "text": [
      "Processing 水浒传:  51%|█████     | 546/1081 [38:53<38:09,  4.28s/it]"
     ]
    },
    {
     "name": "stdout",
     "output_type": "stream",
     "text": [
      "徐宁被汤隆和乐和设计诱骗至梁山泊，途中被下药昏迷，醒来后得知是为了破解呼延灼的“连环甲马”阵，宋江等人请求他加入并共同替天行道。\n"
     ]
    },
    {
     "name": "stderr",
     "output_type": "stream",
     "text": [
      "Processing 水浒传:  51%|█████     | 547/1081 [38:57<37:20,  4.20s/it]"
     ]
    },
    {
     "name": "stdout",
     "output_type": "stream",
     "text": [
      "晁盖、吴用等安排筵席庆祝徐宁加入，同时训练士兵使用钩镰枪法，徐宁教授众军钩镰枪法，准备对抗连环马军。\n"
     ]
    },
    {
     "name": "stderr",
     "output_type": "stream",
     "text": [
      "Processing 水浒传:  51%|█████     | 548/1081 [39:01<37:20,  4.20s/it]"
     ]
    },
    {
     "name": "stdout",
     "output_type": "stream",
     "text": [
      "徐宁教授钩镰枪法，宋江组织步军和水军，准备以钩镰枪和伏兵战术对抗呼延灼的马军。\n"
     ]
    },
    {
     "name": "stderr",
     "output_type": "stream",
     "text": [
      "Processing 水浒传:  51%|█████     | 549/1081 [39:05<37:22,  4.22s/it]"
     ]
    },
    {
     "name": "stdout",
     "output_type": "stream",
     "text": [
      "宋江利用钩镰枪和风火炮等战术，成功埋伏并击败了呼延灼率领的连环甲马军，呼延灼和韩滔的军队被梁山泊步军全面围捕。\n"
     ]
    },
    {
     "name": "stderr",
     "output_type": "stream",
     "text": [
      "Processing 水浒传:  51%|█████     | 550/1081 [39:11<40:06,  4.53s/it]"
     ]
    },
    {
     "name": "stdout",
     "output_type": "stream",
     "text": [
      "呼延灼被梁山泊设下的计策困住，多次遭遇伏击，最终大败，许多士兵和马匹被俘。宋江随后庆祝胜利，并安排俘虏和战利品的处理，同时加强防御，准备迎接可能的官兵进攻。\n"
     ]
    },
    {
     "name": "stderr",
     "output_type": "stream",
     "text": [
      "Processing 水浒传:  51%|█████     | 551/1081 [39:16<41:19,  4.68s/it]"
     ]
    },
    {
     "name": "stdout",
     "output_type": "stream",
     "text": [
      "呼延灼战败后，骑着御赐的踢雪乌骓马逃难，途中因无盘缠而卖掉金带换取食物和住宿，决定前往青州投奔慕容知府，并在一家村酒店过夜，得知附近桃花山有强人活动。\n"
     ]
    },
    {
     "name": "stderr",
     "output_type": "stream",
     "text": [
      "Processing 水浒传:  51%|█████     | 552/1081 [39:21<42:01,  4.77s/it]"
     ]
    },
    {
     "name": "stdout",
     "output_type": "stream",
     "text": [
      "呼延灼在客店中得知自己的马被桃花山小喽罗偷走，次日向慕容知府求助，知府派兵助其夺回马匹，呼延灼带领军队前往桃花山与小霸王周通交战。\n"
     ]
    },
    {
     "name": "stderr",
     "output_type": "stream",
     "text": [
      "Processing 水浒传:  51%|█████     | 553/1081 [39:26<43:01,  4.89s/it]"
     ]
    },
    {
     "name": "stdout",
     "output_type": "stream",
     "text": [
      "周通与呼延灼交战不敌，退回山上，李忠建议向二龙山鲁智深求救，鲁智深考虑后决定救援。\n"
     ]
    },
    {
     "name": "stderr",
     "output_type": "stream",
     "text": [
      "Processing 水浒传:  51%|█████     | 554/1081 [39:31<43:58,  5.01s/it]"
     ]
    },
    {
     "name": "stdout",
     "output_type": "stream",
     "text": [
      "慕容知府请求二龙山帮助扫荡桃花山、白虎山，以对抗梁山泊。杨志、鲁智深、李忠等头领决定下山救援，与呼延灼交战，双方各有胜负，最终各自收军。\n"
     ]
    },
    {
     "name": "stderr",
     "output_type": "stream",
     "text": [
      "Processing 水浒传:  51%|█████▏    | 555/1081 [39:36<43:49,  5.00s/it]"
     ]
    },
    {
     "name": "stdout",
     "output_type": "stream",
     "text": [
      "呼延灼在战斗中遇到强敌，正烦恼时被召回青州守城，因白虎山的孔明、孔亮攻打青州。呼延灼回城后活捉孔明，得知对手中有鲁智深和杨志，战斗未分胜负。\n"
     ]
    },
    {
     "name": "stderr",
     "output_type": "stream",
     "text": [
      "Processing 水浒传:  51%|█████▏    | 556/1081 [39:41<44:02,  5.03s/it]"
     ]
    },
    {
     "name": "stdout",
     "output_type": "stream",
     "text": [
      "杨志、武松和鲁智深占据二龙山，多次击败官军，呼延灼誓言要捉拿他们。孔亮向武松求助救其叔兄，武松提议联合三山人马攻打青州，鲁智深和杨志同意，计划攻城救人。\n"
     ]
    },
    {
     "name": "stderr",
     "output_type": "stream",
     "text": [
      "Processing 水浒传:  52%|█████▏    | 557/1081 [39:48<47:20,  5.42s/it]"
     ]
    },
    {
     "name": "stdout",
     "output_type": "stream",
     "text": [
      "武松、孔亮请求鲁智深和杨志帮助解救孔明和孔宾，鲁智深提议联合三山人马并请宋江支援攻打青州。孔亮前往梁山泊求援，鲁智深、杨志、武松则准备攻城。孔亮在梁山泊边酒店被李立接待，并得知宋江的名声。\n"
     ]
    },
    {
     "name": "stderr",
     "output_type": "stream",
     "text": [
      "Processing 水浒传:  52%|█████▏    | 558/1081 [39:51<41:45,  4.79s/it]"
     ]
    },
    {
     "name": "stdout",
     "output_type": "stream",
     "text": [
      "孔亮因兄长孔明被捕，求助宋江，宋江决定带领梁山好汉救援，众人纷纷表示愿意同行。\n"
     ]
    },
    {
     "name": "stderr",
     "output_type": "stream",
     "text": [
      "Processing 水浒传:  52%|█████▏    | 559/1081 [39:55<40:10,  4.62s/it]"
     ]
    },
    {
     "name": "stdout",
     "output_type": "stream",
     "text": [
      "宋江调遣梁山好汉分五军下山，途中与鲁智深等相会，商议攻打青州，计划智擒呼延灼。\n"
     ]
    },
    {
     "name": "stderr",
     "output_type": "stream",
     "text": [
      "Processing 水浒传:  52%|█████▏    | 560/1081 [40:00<39:31,  4.55s/it]"
     ]
    },
    {
     "name": "stdout",
     "output_type": "stream",
     "text": [
      "秦明因全家被诛，欲报仇对抗慕容知府，与呼延灼激战未分胜负。呼延灼计划捉拿秦明，却中了宋江和吴用的埋伏，被俘。\n"
     ]
    },
    {
     "name": "stderr",
     "output_type": "stream",
     "text": [
      "Processing 水浒传:  52%|█████▏    | 561/1081 [40:04<39:38,  4.57s/it]"
     ]
    },
    {
     "name": "stdout",
     "output_type": "stream",
     "text": [
      "宋江释放并礼遇被俘的呼延灼，劝其加入梁山，呼延灼被宋江的诚意感动，决定投靠，并协助梁山军诈取城池，救出孔明叔侄。\n"
     ]
    },
    {
     "name": "stderr",
     "output_type": "stream",
     "text": [
      "Processing 水浒传:  52%|█████▏    | 562/1081 [40:09<39:16,  4.54s/it]"
     ]
    },
    {
     "name": "stdout",
     "output_type": "stream",
     "text": [
      "呼延灼被俘后逃回，与宋江等人在青州城内发动突袭，成功救出孔明等人并占领城池，随后三山人马集结，班师回梁山泊，新旧头领共庆胜利。\n"
     ]
    },
    {
     "name": "stderr",
     "output_type": "stream",
     "text": [
      "Processing 水浒传:  52%|█████▏    | 563/1081 [40:13<39:12,  4.54s/it]"
     ]
    },
    {
     "name": "stdout",
     "output_type": "stream",
     "text": [
      "宋江为山寨增添人马和设施，鲁智深提议去请他在华州华阴县少华山上的相识九纹龙史进入伙，宋江同意并派武松陪同前往，戴宗随后跟踪探听消息。\n"
     ]
    },
    {
     "name": "stderr",
     "output_type": "stream",
     "text": [
      "Processing 水浒传:  52%|█████▏    | 564/1081 [40:18<40:15,  4.67s/it]"
     ]
    },
    {
     "name": "stdout",
     "output_type": "stream",
     "text": [
      "鲁智深和武松离开二龙山，投奔梁山泊，途中得知史大官人因救被贺太守强占女儿的王义而被捕，鲁智深欲立即行动救人，武松劝其回梁山泊求援。\n"
     ]
    },
    {
     "name": "stderr",
     "output_type": "stream",
     "text": [
      "Processing 水浒传:  52%|█████▏    | 565/1081 [40:23<39:53,  4.64s/it]"
     ]
    },
    {
     "name": "stdout",
     "output_type": "stream",
     "text": [
      "鲁智深因焦躁而独自前往华州寻仇，不慎被贺太守诱至府中捉拿，陷入困境。\n"
     ]
    },
    {
     "name": "stderr",
     "output_type": "stream",
     "text": [
      "Processing 水浒传:  52%|█████▏    | 566/1081 [40:27<37:43,  4.40s/it]"
     ]
    },
    {
     "name": "stdout",
     "output_type": "stream",
     "text": [
      "鲁智深因救史进和玉娇枝，怒斥贺太守并被囚，戴宗回梁山泊求救，晁盖决定亲自前去救援。\n"
     ]
    },
    {
     "name": "stderr",
     "output_type": "stream",
     "text": [
      "Processing 水浒传:  52%|█████▏    | 567/1081 [40:33<43:05,  5.03s/it]"
     ]
    },
    {
     "name": "stdout",
     "output_type": "stream",
     "text": [
      "宋江带领七千人马前往华州救援被监禁的头领，途中与少华山头领会合，商讨救援计划，但因华州城防守严密，无法轻易攻破。吴用提议利用朝廷派来的殿司太尉及其携带的“金铃吊挂”作为计策，以里应外合的方式进行救援。\n"
     ]
    },
    {
     "name": "stderr",
     "output_type": "stream",
     "text": [
      "Processing 水浒传:  53%|█████▎    | 568/1081 [40:37<39:39,  4.64s/it]"
     ]
    },
    {
     "name": "stdout",
     "output_type": "stream",
     "text": [
      "宋江带领梁山好汉在渭河渡口拦截宿太尉的官船，要求太尉上岸商议，最终以武力威胁迫使太尉出面。\n"
     ]
    },
    {
     "name": "stderr",
     "output_type": "stream",
     "text": [
      "Processing 水浒传:  53%|█████▎    | 569/1081 [40:41<38:28,  4.51s/it]"
     ]
    },
    {
     "name": "stdout",
     "output_type": "stream",
     "text": [
      "李俊和张顺将两名虞候丢入水中，宋江阻止并邀请宿太尉上岸，带至山寨，请求借用御香等物以救兄弟，承诺事后归还，宿太尉最终应允。\n"
     ]
    },
    {
     "name": "stderr",
     "output_type": "stream",
     "text": [
      "Processing 水浒传:  53%|█████▎    | 570/1081 [40:45<37:05,  4.35s/it]"
     ]
    },
    {
     "name": "stdout",
     "output_type": "stream",
     "text": [
      "朱武等人安排两队人马攻城，同时伪装太尉前往西岳庙，利用御赐金铃吊挂欺骗地方官员，准备发动攻击。\n"
     ]
    },
    {
     "name": "stderr",
     "output_type": "stream",
     "text": [
      "Processing 水浒传:  53%|█████▎    | 571/1081 [40:50<38:26,  4.52s/it]"
     ]
    },
    {
     "name": "stdout",
     "output_type": "stream",
     "text": [
      "宋江等人利用金铃吊挂和伪造的公文，诱骗贺太守及其随从至西岳庙，随后武松、石秀等发动突袭，成功斩杀贺太守并解救了史进、鲁智深，最终洗劫华州府库。\n"
     ]
    },
    {
     "name": "stderr",
     "output_type": "stream",
     "text": [
      "Processing 水浒传:  53%|█████▎    | 572/1081 [40:58<46:44,  5.51s/it]"
     ]
    },
    {
     "name": "stdout",
     "output_type": "stream",
     "text": [
      "鲁智深取戒刀禅杖，玉娇枝已死，众人返回少华山，归还御用物品并感谢宿太尉。宋江安排金银赠予太尉及随从，举行送别宴。后商议收拾山寨，放火烧寨，前往梁山泊。宿太尉回京报告宋江劫御香等事。宋江带人返回梁山泊，史进等设宴感谢，晁盖提及芒砀山新强人欲吞并梁山泊。\n"
     ]
    },
    {
     "name": "stderr",
     "output_type": "stream",
     "text": [
      "Processing 水浒传:  53%|█████▎    | 573/1081 [41:02<42:46,  5.05s/it]"
     ]
    },
    {
     "name": "stdout",
     "output_type": "stream",
     "text": [
      "史进带领少华山人马前往芒砀山，遭遇项充和李衮的强力攻击，损失惨重，后得梁山泊援军花荣和徐宁的支援，合兵一处。\n"
     ]
    },
    {
     "name": "stderr",
     "output_type": "stream",
     "text": [
      "Processing 水浒传:  53%|█████▎    | 574/1081 [41:06<40:34,  4.80s/it]"
     ]
    },
    {
     "name": "stdout",
     "output_type": "stream",
     "text": [
      "宋江带领军队遭遇项充、李衮的强力抵抗，损失惨重。公孙胜提议用特殊阵法捕捉对方，宋江采纳并部署阵法，准备迎战樊瑞及其部下。\n"
     ]
    },
    {
     "name": "stderr",
     "output_type": "stream",
     "text": [
      "Processing 水浒传:  53%|█████▎    | 575/1081 [41:11<40:00,  4.74s/it]"
     ]
    },
    {
     "name": "stdout",
     "output_type": "stream",
     "text": [
      "樊瑞施法使风沙大作，项充李衮趁机率军攻击宋江军，但被宋江巧妙布阵困住并俘获。宋江以礼相待，劝降二人，并请求他们说服樊瑞一同归顺。\n"
     ]
    },
    {
     "name": "stderr",
     "output_type": "stream",
     "text": [
      "Processing 水浒传:  53%|█████▎    | 576/1081 [41:16<42:50,  5.09s/it]"
     ]
    },
    {
     "name": "stdout",
     "output_type": "stream",
     "text": [
      "宋江接受项充和李衮的投降，并亲自送他们回寨，樊瑞听闻宋江的义气后决定投降。三人下山投拜宋江，樊瑞拜公孙胜为师。后段景住向宋江报告曾家五虎夺走其盗来的好马，宋江决定回山寨商议。\n"
     ]
    },
    {
     "name": "stderr",
     "output_type": "stream",
     "text": [
      "Processing 水浒传:  53%|█████▎    | 577/1081 [41:24<47:56,  5.71s/it]"
     ]
    },
    {
     "name": "stdout",
     "output_type": "stream",
     "text": [
      "段景住加入梁山泊，提到一匹好马，宋江派戴宗探查，得知曾头市曾家五虎与教师史文恭敌对梁山，晁盖愤怒决定亲自出征，宋江劝阻无效，晁盖率军下山，途中军旗被风吹折，吴用建议暂缓行动。\n"
     ]
    },
    {
     "name": "stderr",
     "output_type": "stream",
     "text": [
      "Processing 水浒传:  53%|█████▎    | 578/1081 [41:28<44:44,  5.34s/it]"
     ]
    },
    {
     "name": "stdout",
     "output_type": "stream",
     "text": [
      "晁盖带领梁山泊好汉攻打曾头市，与曾家军交战，双方各有损失，晁盖心忧，众将劝慰。\n"
     ]
    },
    {
     "name": "stderr",
     "output_type": "stream",
     "text": [
      "Processing 水浒传:  54%|█████▎    | 579/1081 [41:33<44:16,  5.29s/it]"
     ]
    },
    {
     "name": "stdout",
     "output_type": "stream",
     "text": [
      "晁盖听信两个自称法华寺僧人的话，决定夜袭曾头市，不听林冲劝阻，带十名头领和二千五百人马前往，结果在行动中失去僧人引导，陷入困境。\n"
     ]
    },
    {
     "name": "stderr",
     "output_type": "stream",
     "text": [
      "Processing 水浒传:  54%|█████▎    | 580/1081 [41:38<42:30,  5.09s/it]"
     ]
    },
    {
     "name": "stdout",
     "output_type": "stream",
     "text": [
      "晁盖在战斗中被史文恭的药箭射中，伤重不治，临终前嘱咐谁能捉得射死他的人便可做梁山泊主，宋江悲痛欲绝，众头领扶持宋江主持大局。\n"
     ]
    },
    {
     "name": "stderr",
     "output_type": "stream",
     "text": [
      "Processing 水浒传:  54%|█████▎    | 581/1081 [41:42<39:32,  4.74s/it]"
     ]
    },
    {
     "name": "stdout",
     "output_type": "stream",
     "text": [
      "晁盖去世后，宋江暂代梁山泊主，众头领商议正式立宋江为山寨之主，宋江接受并承诺日后报仇雪恨后再定主位。\n"
     ]
    },
    {
     "name": "stderr",
     "output_type": "stream",
     "text": [
      "Processing 水浒传:  54%|█████▍    | 582/1081 [41:45<36:11,  4.35s/it]"
     ]
    },
    {
     "name": "stdout",
     "output_type": "stream",
     "text": [
      "梁山泊调整军事布局，分为六寨，各设头领，忠义堂为指挥中心，分配各头领职责，确保各寨有序管理。\n"
     ]
    },
    {
     "name": "stderr",
     "output_type": "stream",
     "text": [
      "Processing 水浒传:  54%|█████▍    | 583/1081 [41:50<38:02,  4.58s/it]"
     ]
    },
    {
     "name": "stdout",
     "output_type": "stream",
     "text": [
      "宋江与梁山众头领计划攻打曾头市为晁盖报仇，期间请来大圆和尚做法事，得知河北玉麒麟卢俊义的武艺高强，吴用提出用计策诱使卢俊义上山，李逵自荐同行但被宋江劝阻。\n"
     ]
    },
    {
     "name": "stderr",
     "output_type": "stream",
     "text": [
      "Processing 水浒传:  54%|█████▍    | 584/1081 [41:54<36:37,  4.42s/it]"
     ]
    },
    {
     "name": "stdout",
     "output_type": "stream",
     "text": [
      "李逵答应吴用三项要求：断酒、扮道童、不说话，随吴用前往北京，途中因李逵行为粗暴引起麻烦，但最终两人成功入城。\n"
     ]
    },
    {
     "name": "stderr",
     "output_type": "stream",
     "text": [
      "Processing 水浒传:  54%|█████▍    | 585/1081 [41:58<34:41,  4.20s/it]"
     ]
    },
    {
     "name": "stdout",
     "output_type": "stream",
     "text": [
      "吴用和李逵伪装成算命先生和道童进入北京城，吴用在街上卖卦吸引人群，最终被卢俊义请去算命。\n"
     ]
    },
    {
     "name": "stderr",
     "output_type": "stream",
     "text": [
      "Processing 水浒传:  54%|█████▍    | 586/1081 [42:01<32:27,  3.93s/it]"
     ]
    },
    {
     "name": "stdout",
     "output_type": "stream",
     "text": [
      "卢俊义请吴用算命，吴用预言百日内有血光之灾，建议东南方避难，并留下四句卦歌。\n"
     ]
    },
    {
     "name": "stderr",
     "output_type": "stream",
     "text": [
      "Processing 水浒传:  54%|█████▍    | 587/1081 [42:05<32:31,  3.95s/it]"
     ]
    },
    {
     "name": "stdout",
     "output_type": "stream",
     "text": [
      "吴用和李逵离开卢俊义后急忙返回山寨准备迎接卢俊义，而卢俊义在家中感到不乐，召集管家李固和心腹燕青商议事务。\n"
     ]
    },
    {
     "name": "stderr",
     "output_type": "stream",
     "text": [
      "Processing 水浒传:  54%|█████▍    | 588/1081 [42:10<34:04,  4.15s/it]"
     ]
    },
    {
     "name": "stdout",
     "output_type": "stream",
     "text": [
      "卢俊义因算命得知有百日血光之灾，决定前往泰安州烧香避灾并做买卖，尽管李固和燕青劝阻，他仍坚持己见，准备带李固同行，留下燕青看家。\n"
     ]
    },
    {
     "name": "stderr",
     "output_type": "stream",
     "text": [
      "Processing 水浒传:  54%|█████▍    | 589/1081 [42:14<33:17,  4.06s/it]"
     ]
    },
    {
     "name": "stdout",
     "output_type": "stream",
     "text": [
      "卢俊义因不满家仆李固的推辞，决定亲自带领车队前往目的地，途中经过梁山泊，被告知需悄悄通过以避免惊动山上的未公明大王。\n"
     ]
    },
    {
     "name": "stderr",
     "output_type": "stream",
     "text": [
      "Processing 水浒传:  55%|█████▍    | 590/1081 [42:18<34:42,  4.24s/it]"
     ]
    },
    {
     "name": "stdout",
     "output_type": "stream",
     "text": [
      "北京财主卢俊义带着装备前往梁山泊捉拿宋江，途中展示旗帜表明决心，尽管随从们极力劝阻，他仍坚持前行，准备在遇到宋江时将其捉拿并送往京师请功。\n"
     ]
    },
    {
     "name": "stderr",
     "output_type": "stream",
     "text": [
      "Processing 水浒传:  55%|█████▍    | 591/1081 [42:25<40:49,  5.00s/it]"
     ]
    },
    {
     "name": "stdout",
     "output_type": "stream",
     "text": [
      "卢俊义被诱入林中，先后与李逵、鲁智深、武松、刘唐和穆弘交战，但每次战斗不久对方便撤退，卢俊义陷入困境。\n"
     ]
    },
    {
     "name": "stderr",
     "output_type": "stream",
     "text": [
      "Processing 水浒传:  55%|█████▍    | 592/1081 [42:31<43:41,  5.36s/it]"
     ]
    },
    {
     "name": "stdout",
     "output_type": "stream",
     "text": [
      "卢俊义在林中与李应、刘唐、穆弘战斗后，发现车仗人马被小喽罗劫走，追赶时遭遇朱仝、雷横，最终被宋江等人围困，花荣射中其毡笠红缨，卢俊义陷入绝境。\n"
     ]
    },
    {
     "name": "stderr",
     "output_type": "stream",
     "text": [
      "Processing 水浒传:  55%|█████▍    | 593/1081 [42:35<39:53,  4.91s/it]"
     ]
    },
    {
     "name": "stdout",
     "output_type": "stream",
     "text": [
      "卢俊义迷路至梁山泊附近，被渔人救起，但遭遇梁山好汉阮小二、阮小五、阮小七的拦截。\n"
     ]
    },
    {
     "name": "stderr",
     "output_type": "stream",
     "text": [
      "Processing 水浒传:  55%|█████▍    | 594/1081 [42:39<37:12,  4.58s/it]"
     ]
    },
    {
     "name": "stdout",
     "output_type": "stream",
     "text": [
      "卢俊义不识水性，被混江龙李俊和浪里白条张顺设计落水，后被宋江等人救起并邀请加入梁山泊。\n"
     ]
    },
    {
     "name": "stderr",
     "output_type": "stream",
     "text": [
      "Processing 水浒传:  55%|█████▌    | 595/1081 [42:43<35:46,  4.42s/it]"
     ]
    },
    {
     "name": "stdout",
     "output_type": "stream",
     "text": [
      "宋江和吴用试图说服卢俊义加入梁山，但卢俊义坚决拒绝，最终宋江安排李固先回家，自己则继续尝试说服卢俊义。\n"
     ]
    },
    {
     "name": "stderr",
     "output_type": "stream",
     "text": [
      "Processing 水浒传:  55%|█████▌    | 596/1081 [42:47<34:10,  4.23s/it]"
     ]
    },
    {
     "name": "stdout",
     "output_type": "stream",
     "text": [
      "卢俊义被梁山好汉邀请上山，虽被善待，但心系归家，多次尝试离开，最终在梁山泊停留了两个多月后，坚决要求回家。\n"
     ]
    },
    {
     "name": "stderr",
     "output_type": "stream",
     "text": [
      "Processing 水浒传:  55%|█████▌    | 597/1081 [42:51<33:17,  4.13s/it]"
     ]
    },
    {
     "name": "stdout",
     "output_type": "stream",
     "text": [
      "卢俊义被宋江送行后回到北京，发现家中变故，燕青告知其妻与李固私通并陷害他，卢俊义不信，愤怒回家欲查明真相。\n"
     ]
    },
    {
     "name": "stderr",
     "output_type": "stream",
     "text": [
      "Processing 水浒传:  55%|█████▌    | 598/1081 [42:55<32:50,  4.08s/it]"
     ]
    },
    {
     "name": "stdout",
     "output_type": "stream",
     "text": [
      "卢俊义被误认为与梁山泊勾结，被捕并遭受严刑拷打，尽管他坚称无辜，但李固和贾氏的指控使他陷入困境。\n"
     ]
    },
    {
     "name": "stderr",
     "output_type": "stream",
     "text": [
      "Processing 水浒传:  55%|█████▌    | 599/1081 [42:58<31:38,  3.94s/it]"
     ]
    },
    {
     "name": "stdout",
     "output_type": "stream",
     "text": [
      "卢俊义被屈招入狱，蔡福、蔡庆处理其案件，燕青送饭，李固贿赂蔡福欲害卢俊义。\n"
     ]
    },
    {
     "name": "stderr",
     "output_type": "stream",
     "text": [
      "Processing 水浒传:  56%|█████▌    | 600/1081 [43:02<29:45,  3.71s/it]"
     ]
    },
    {
     "name": "stdout",
     "output_type": "stream",
     "text": [
      "蔡福收受贿赂，面临柴进请求救卢俊义，决定用金子贿赂官员以保卢俊义性命。\n"
     ]
    },
    {
     "name": "stderr",
     "output_type": "stream",
     "text": [
      "Processing 水浒传:  56%|█████▌    | 601/1081 [43:05<29:05,  3.64s/it]"
     ]
    },
    {
     "name": "stdout",
     "output_type": "stream",
     "text": [
      "蔡福和蔡庆通过贿赂确保卢俊义的轻判，李固则试图贿赂董超和薛霸在押送途中杀害卢俊义。\n"
     ]
    },
    {
     "name": "stderr",
     "output_type": "stream",
     "text": [
      "Processing 水浒传:  56%|█████▌    | 602/1081 [43:09<29:34,  3.70s/it]"
     ]
    },
    {
     "name": "stdout",
     "output_type": "stream",
     "text": [
      "卢俊义因受刑伤痛请求延迟上路，但被董超、薛霸催促，途中受尽折磨，最终在秋雨中艰难前行至大林中请求休息。\n"
     ]
    },
    {
     "name": "stderr",
     "output_type": "stream",
     "text": [
      "Processing 水浒传:  56%|█████▌    | 603/1081 [43:13<30:13,  3.79s/it]"
     ]
    },
    {
     "name": "stdout",
     "output_type": "stream",
     "text": [
      "卢俊义被薛霸和董超绑在树上欲杀害，燕青及时出现射杀两人救下卢俊义，随后燕青背负卢俊义逃离，暂时在村店安歇。\n"
     ]
    },
    {
     "name": "stderr",
     "output_type": "stream",
     "text": [
      "Processing 水浒传:  56%|█████▌    | 604/1081 [43:16<28:55,  3.64s/it]"
     ]
    },
    {
     "name": "stdout",
     "output_type": "stream",
     "text": [
      "燕青误杀两公人，导致卢俊义被捕，燕青寻求救援，途中射下喜鹊充饥，偶遇两路人。\n"
     ]
    },
    {
     "name": "stderr",
     "output_type": "stream",
     "text": [
      "Processing 水浒传:  56%|█████▌    | 605/1081 [43:22<34:26,  4.34s/it]"
     ]
    },
    {
     "name": "stdout",
     "output_type": "stream",
     "text": [
      "燕青因缺盘缠欲打倒两人夺取包裹上梁山，却被对方打伤，后发现对方是梁山好汉杨雄和石秀，三人相认后，燕青告知卢员外被掳消息，石秀前往北京打听详情。\n"
     ]
    },
    {
     "name": "stderr",
     "output_type": "stream",
     "text": [
      "Processing 水浒传:  56%|█████▌    | 606/1081 [43:27<34:53,  4.41s/it]"
     ]
    },
    {
     "name": "stdout",
     "output_type": "stream",
     "text": [
      "石秀在酒楼喝酒时，发现卢俊义被押至法场，他跳下楼救出卢俊义并杀出重围，但最终两人因不熟悉路被捕，石秀在厅前大声斥责敌人。\n"
     ]
    },
    {
     "name": "stderr",
     "output_type": "stream",
     "text": [
      "Processing 水浒传:  56%|█████▌    | 607/1081 [43:31<33:56,  4.30s/it]"
     ]
    },
    {
     "name": "stdout",
     "output_type": "stream",
     "text": [
      "梁中书将二人监禁，蔡福善待二人以结识梁山泊好汉。梁中书面对梁山泊的威胁，决定保留二人性命，上报朝廷并加强防御。\n"
     ]
    },
    {
     "name": "stderr",
     "output_type": "stream",
     "text": [
      "Processing 水浒传:  56%|█████▌    | 608/1081 [43:36<35:37,  4.52s/it]"
     ]
    },
    {
     "name": "stdout",
     "output_type": "stream",
     "text": [
      "梁中书召集闻达和李成商议对抗梁山泊，李成自信能击败梁山军，随后李成和索超分别设寨备战。同时，吴用设计保护被擒的卢俊义和石秀，并计划攻打大名府。\n"
     ]
    },
    {
     "name": "stderr",
     "output_type": "stream",
     "text": [
      "Processing 水浒传:  56%|█████▋    | 609/1081 [43:40<35:15,  4.48s/it]"
     ]
    },
    {
     "name": "stdout",
     "output_type": "stream",
     "text": [
      "李逵请求带领五百小喽啰攻打大名府，救出卢员外和石二郎，宋江和吴用商议后同意，并安排了详细的军事部署，准备攻城。\n"
     ]
    },
    {
     "name": "stderr",
     "output_type": "stream",
     "text": [
      "Processing 水浒传:  56%|█████▋    | 610/1081 [43:45<35:43,  4.55s/it]"
     ]
    },
    {
     "name": "stdout",
     "output_type": "stream",
     "text": [
      "索超和李成在庾家村遭遇宋江军马，双方交战，宋江军中李逵、解珍、孔亮等好汉与女将一丈青等先后出战，李成军力不敌，四散奔逃。\n"
     ]
    },
    {
     "name": "stderr",
     "output_type": "stream",
     "text": [
      "Processing 水浒传:  57%|█████▋    | 611/1081 [43:49<35:12,  4.49s/it]"
     ]
    },
    {
     "name": "stdout",
     "output_type": "stream",
     "text": [
      "李逵拦住李成，索超突围，宋江军马未追，扎营。梁中书派闻达助战，闻达轻敌，战败，宋江乘胜追击，大败敌军。\n"
     ]
    },
    {
     "name": "stderr",
     "output_type": "stream",
     "text": [
      "Processing 水浒传:  57%|█████▋    | 612/1081 [43:53<34:03,  4.36s/it]"
     ]
    },
    {
     "name": "stdout",
     "output_type": "stream",
     "text": [
      "闻达在战斗中遭遇宋江军队的火攻和伏击，导致军队大乱，最终败退至城下，梁中书紧急修书求援，宋江则继续围攻大名府。\n"
     ]
    },
    {
     "name": "stderr",
     "output_type": "stream",
     "text": [
      "Processing 水浒传:  57%|█████▋    | 613/1081 [43:58<33:53,  4.35s/it]"
     ]
    },
    {
     "name": "stdout",
     "output_type": "stream",
     "text": [
      "王定向蔡太师报告卢俊义事及宋江围城危机，蔡京召集官员商议对策，宣赞推荐关胜，蔡京派宣赞前往蒲东请关胜赴京共商退敌之计。\n"
     ]
    },
    {
     "name": "stderr",
     "output_type": "stream",
     "text": [
      "Processing 水浒传:  57%|█████▋    | 614/1081 [44:01<30:54,  3.97s/it]"
     ]
    },
    {
     "name": "stdout",
     "output_type": "stream",
     "text": [
      "关胜被宣赞推荐给蔡太师，奉命带领精兵攻打梁山泊，以解大名之围。\n"
     ]
    },
    {
     "name": "stderr",
     "output_type": "stream",
     "text": [
      "Processing 水浒传:  57%|█████▋    | 615/1081 [44:05<31:50,  4.10s/it]"
     ]
    },
    {
     "name": "stdout",
     "output_type": "stream",
     "text": [
      "宋江军被困，吴用担心敌军围魏救赵，建议先退兵并设伏。宋江采纳，安排伏兵和退军策略，成功引诱并击败追兵，最终安全撤回梁山泊。\n"
     ]
    },
    {
     "name": "stderr",
     "output_type": "stream",
     "text": [
      "Processing 水浒传:  57%|█████▋    | 616/1081 [44:09<31:02,  4.00s/it]"
     ]
    },
    {
     "name": "stdout",
     "output_type": "stream",
     "text": [
      "张横与张顺计划夜袭关胜营寨以建功，但张顺担心无援军，张横不听劝阻独自行动，结果被关胜伏兵所擒。\n"
     ]
    },
    {
     "name": "stderr",
     "output_type": "stream",
     "text": [
      "Processing 水浒传:  57%|█████▋    | 617/1081 [44:13<30:46,  3.98s/it]"
     ]
    },
    {
     "name": "stdout",
     "output_type": "stream",
     "text": [
      "关胜设伏击败三阮和张顺，阮小七被俘；宋江与吴用商议对策，花荣与宣赞交战，关胜亲自出战，林冲愤怒挑战关胜。\n"
     ]
    },
    {
     "name": "stderr",
     "output_type": "stream",
     "text": [
      "Processing 水浒传:  57%|█████▋    | 618/1081 [44:19<35:17,  4.57s/it]"
     ]
    },
    {
     "name": "stdout",
     "output_type": "stream",
     "text": [
      "关胜质问宋江背叛朝廷，宋江辩解朝廷不明，自己替天行道。关胜与林冲、秦明激战后，宋江突然收兵，表示愿让位给关胜。关胜回寨后疑惑宋江的意图，夜晚有人求见关胜，关胜认出此人并询问其身份。\n"
     ]
    },
    {
     "name": "stderr",
     "output_type": "stream",
     "text": [
      "Processing 水浒传:  57%|█████▋    | 619/1081 [44:25<38:09,  4.96s/it]"
     ]
    },
    {
     "name": "stdout",
     "output_type": "stream",
     "text": [
      "呼延灼向关胜透露宋江有意归顺，并提议夜间突袭梁山泊，生擒林冲等人以赎罪。关胜同意，并计划夜间行动，但白天先在战场上击败宋江的将领黄信。\n"
     ]
    },
    {
     "name": "stderr",
     "output_type": "stream",
     "text": [
      "Processing 水浒传:  57%|█████▋    | 620/1081 [44:30<37:53,  4.93s/it]"
     ]
    },
    {
     "name": "stdout",
     "output_type": "stream",
     "text": [
      "呼延灼诱关胜入陷阱，关胜中计被擒，同时宣赞和郝思文也被捉，宋江亲自解绑并请求宽恕。\n"
     ]
    },
    {
     "name": "stderr",
     "output_type": "stream",
     "text": [
      "Processing 水浒传:  57%|█████▋    | 621/1081 [44:35<38:12,  4.98s/it]"
     ]
    },
    {
     "name": "stdout",
     "output_type": "stream",
     "text": [
      "关胜被宋江劝降后，加入梁山泊，成为宋江的部下。宋江随后组织军队攻打大名府，关胜在战斗中与索超交战，最终宋江军大胜，迫使敌军退守城内。\n"
     ]
    },
    {
     "name": "stderr",
     "output_type": "stream",
     "text": [
      "Processing 水浒传:  58%|█████▊    | 622/1081 [44:38<34:06,  4.46s/it]"
     ]
    },
    {
     "name": "stdout",
     "output_type": "stream",
     "text": [
      "索超在雪天中被宋江设陷坑擒获，宋江劝降索超，计划攻城但未果。\n"
     ]
    },
    {
     "name": "stderr",
     "output_type": "stream",
     "text": [
      "Processing 水浒传:  58%|█████▊    | 623/1081 [44:42<33:29,  4.39s/it]"
     ]
    },
    {
     "name": "stdout",
     "output_type": "stream",
     "text": [
      "宋江梦见已故的晁盖警告他背上的事情已暴露，建议他逃往江南。醒来后，宋江背上突发疾病，张顺建议请远方的名医安道全治疗。\n"
     ]
    },
    {
     "name": "stderr",
     "output_type": "stream",
     "text": [
      "Processing 水浒传:  58%|█████▊    | 624/1081 [44:46<31:49,  4.18s/it]"
     ]
    },
    {
     "name": "stdout",
     "output_type": "stream",
     "text": [
      "吴用派张顺去请江南地灵星救治宋江，张顺冒雪前往，途中遇一梢公渡江，梢公答应夜间渡他过江。\n"
     ]
    },
    {
     "name": "stderr",
     "output_type": "stream",
     "text": [
      "Processing 水浒传:  58%|█████▊    | 625/1081 [44:50<32:23,  4.26s/it]"
     ]
    },
    {
     "name": "stdout",
     "output_type": "stream",
     "text": [
      "张顺在船上被梢公和瘦后生抢劫并推入江中，幸好他会游泳逃脱，后被一位老丈救助，老丈询问他的来历，张顺提到自己曾经过梁山泊。\n"
     ]
    },
    {
     "name": "stderr",
     "output_type": "stream",
     "text": [
      "Processing 水浒传:  58%|█████▊    | 626/1081 [44:55<34:08,  4.50s/it]"
     ]
    },
    {
     "name": "stdout",
     "output_type": "stream",
     "text": [
      "张顺因宋江患背疮，携金请医安道全，途中被劫，逃至老丈家，遇王定六欲助其复仇。次日，张顺入城找到安道全，苦求其医治宋江，安道全最终应允。\n"
     ]
    },
    {
     "name": "stderr",
     "output_type": "stream",
     "text": [
      "Processing 水浒传:  58%|█████▊    | 627/1081 [45:00<34:49,  4.60s/it]"
     ]
    },
    {
     "name": "stdout",
     "output_type": "stream",
     "text": [
      "安道全与李巧奴饮酒，计划去山东旅行，但巧奴不愿他离开。夜晚，张顺目睹张旺与巧奴私会，愤怒之下杀了虔婆和巧奴，并在墙上留下“杀人者，我安道全也”的字样。\n"
     ]
    },
    {
     "name": "stderr",
     "output_type": "stream",
     "text": [
      "Processing 水浒传:  58%|█████▊    | 628/1081 [45:05<34:39,  4.59s/it]"
     ]
    },
    {
     "name": "stdout",
     "output_type": "stream",
     "text": [
      "安道全酒醒后发现家中死尸，张顺威胁他要么去梁山泊救人，要么自己逃走让他偿命。两人取药后遇到张旺，张顺设计让张旺上船，最终揭露并制服了张旺。\n"
     ]
    },
    {
     "name": "stderr",
     "output_type": "stream",
     "text": [
      "Processing 水浒传:  58%|█████▊    | 629/1081 [45:08<32:32,  4.32s/it]"
     ]
    },
    {
     "name": "stdout",
     "output_type": "stream",
     "text": [
      "张顺在江中遭遇背叛后成功逃生，报复并搜出财物，邀请王定六加入梁山泊，随后与安道全和戴宗前往救治宋江。\n"
     ]
    },
    {
     "name": "stderr",
     "output_type": "stream",
     "text": [
      "Processing 水浒传:  58%|█████▊    | 630/1081 [45:13<33:53,  4.51s/it]"
     ]
    },
    {
     "name": "stdout",
     "output_type": "stream",
     "text": [
      "戴宗带安道全赶到梁山泊救治宋江，安道全成功治疗宋江的病。张顺报告江中遭遇，宋江计划攻打大名救卢员外和石秀。吴用计划在元宵节利用城中灯火为信号，内外夹攻大名城。\n"
     ]
    },
    {
     "name": "stderr",
     "output_type": "stream",
     "text": [
      "Processing 水浒传:  58%|█████▊    | 631/1081 [45:18<33:34,  4.48s/it]"
     ]
    },
    {
     "name": "stdout",
     "output_type": "stream",
     "text": [
      "时迁计划在元宵夜潜入大名城翠云楼放火为号，吴用调遣各路好汉扮作不同身份入城，以火起为信号，执行各自任务，同时大名城官员商议放灯事宜。\n"
     ]
    },
    {
     "name": "stderr",
     "output_type": "stream",
     "text": [
      "Processing 水浒传:  58%|█████▊    | 632/1081 [45:24<36:47,  4.92s/it]"
     ]
    },
    {
     "name": "stdout",
     "output_type": "stream",
     "text": [
      "梁中书担心梁山泊贼人再次侵扰，决定照常举办灯会，加强防备，与民同乐。梁山泊探子得知消息后，吴用计划攻打大名府。\n"
     ]
    },
    {
     "name": "stderr",
     "output_type": "stream",
     "text": [
      "Processing 水浒传:  59%|█████▊    | 633/1081 [45:28<35:28,  4.75s/it]"
     ]
    },
    {
     "name": "stdout",
     "output_type": "stream",
     "text": [
      "小说描述了宋江指挥的八路军马分队部署，以及时迁在城中潜伏观察灯节准备情况，期间偶遇孔明、孔亮，后被杨雄、刘唐发现并警告的情节。\n"
     ]
    },
    {
     "name": "stderr",
     "output_type": "stream",
     "text": [
      "Processing 水浒传:  59%|█████▊    | 634/1081 [45:32<34:01,  4.57s/it]"
     ]
    },
    {
     "name": "stdout",
     "output_type": "stream",
     "text": [
      "梁山好汉们各自伪装，计划在元宵节夜晚行动，柴进和乐和伪装成公人进入大牢，其他好汉也分别在城中各处潜伏，等待时机。\n"
     ]
    },
    {
     "name": "stderr",
     "output_type": "stream",
     "text": [
      "Processing 水浒传:  59%|█████▊    | 635/1081 [45:37<34:01,  4.58s/it]"
     ]
    },
    {
     "name": "stdout",
     "output_type": "stream",
     "text": [
      "时迁携硫磺焰硝潜入翠云楼，与解珍解宝会合，梁山泊军马突袭城门，城中混乱，梁中书和王太守试图逃脱，但遭遇梁山好汉的阻击。\n"
     ]
    },
    {
     "name": "stderr",
     "output_type": "stream",
     "text": [
      "Processing 水浒传:  59%|█████▉    | 636/1081 [45:44<39:11,  5.28s/it]"
     ]
    },
    {
     "name": "stdout",
     "output_type": "stream",
     "text": [
      "小说描述了梁山好汉在城中四处放火、杀敌，梁中书和李成在城中四处逃窜，最终梁中书在李成的保护下冲出城去，而城中的好汉们则在不同地点执行任务，如宋万、刘唐、杨雄分别去杀梁中书和王太守的家人，孔明、孔亮潜入司狱司，邹渊、邹闰在司狱司前阻击敌人。\n"
     ]
    },
    {
     "name": "stderr",
     "output_type": "stream",
     "text": [
      "Processing 水浒传:  59%|█████▉    | 637/1081 [45:48<37:41,  5.09s/it]"
     ]
    },
    {
     "name": "stdout",
     "output_type": "stream",
     "text": [
      "柴进和乐和在大牢中救出卢俊义和石秀，随后带领众人捉拿李固和贾氏，最终将他们交给卢俊义处理。同时，柴进和蔡福保护家小上梁山，并试图减少城中损伤。\n"
     ]
    },
    {
     "name": "stderr",
     "output_type": "stream",
     "text": [
      "Processing 水浒传:  59%|█████▉    | 638/1081 [45:55<40:09,  5.44s/it]"
     ]
    },
    {
     "name": "stdout",
     "output_type": "stream",
     "text": [
      "梁中书一行在逃亡中遭遇樊瑞等人的伏击，最终梁中书和李成、闻达突围逃脱。吴用指挥梁山好汉攻占大名府，救济百姓并俘获李固、贾氏。宋江与卢俊义重逢，卢俊义拒绝坐第一把交椅，李逵不满宋江的让位行为。\n"
     ]
    },
    {
     "name": "stderr",
     "output_type": "stream",
     "text": [
      "Processing 水浒传:  59%|█████▉    | 639/1081 [45:58<35:43,  4.85s/it]"
     ]
    },
    {
     "name": "stdout",
     "output_type": "stream",
     "text": [
      "李逵不满现状，宋江安抚卢俊义，卢俊义处死背叛者，李逵下山寻食与韩伯龙发生冲突。\n"
     ]
    },
    {
     "name": "stderr",
     "output_type": "stream",
     "text": [
      "Processing 水浒传:  59%|█████▉    | 640/1081 [46:03<35:58,  4.89s/it]"
     ]
    },
    {
     "name": "stdout",
     "output_type": "stream",
     "text": [
      "李逵与宋江争气下山，欲杀敌立功，前往枯树山说服鲍旭一同攻打凌州，遭遇单廷和魏定国两位将军，关胜尝试劝降未果，段景住报告购买的马匹被劫，众人回山寨商议对策。\n"
     ]
    },
    {
     "name": "stderr",
     "output_type": "stream",
     "text": [
      "Processing 水浒传:  59%|█████▉    | 641/1081 [46:09<38:43,  5.28s/it]"
     ]
    },
    {
     "name": "stdout",
     "output_type": "stream",
     "text": [
      "关胜与单廷、魏定国加入宋江阵营，李逵报告凌州之战胜利。段景住提及夺马事件，宋江愤怒欲报仇。吴用提议智取，并派时迁探听消息。时迁回报曾头市设防情况，吴用计划分五路进攻。卢俊义请求参战，被安排在平川埋伏。\n"
     ]
    },
    {
     "name": "stderr",
     "output_type": "stream",
     "text": [
      "Processing 水浒传:  59%|█████▉    | 642/1081 [46:13<34:50,  4.76s/it]"
     ]
    },
    {
     "name": "stdout",
     "output_type": "stream",
     "text": [
      "宋江分五路军马攻打曾头市，吴用智谋应对曾头市的陷坑陷阱，最终通过精心策划的战术成功接近曾头市。\n"
     ]
    },
    {
     "name": "stderr",
     "output_type": "stream",
     "text": [
      "Processing 水浒传:  59%|█████▉    | 643/1081 [46:19<37:20,  5.12s/it]"
     ]
    },
    {
     "name": "stdout",
     "output_type": "stream",
     "text": [
      "杨志、史进虚张声势攻打曾头市北寨，吴用设陷阱诱敌，鲁智深、武松、朱仝、雷横等攻打其他寨门，最终利用火车和风势大败史文恭军，曾涂出阵挑战，与吕方、郭盛激战。\n"
     ]
    },
    {
     "name": "stderr",
     "output_type": "stream",
     "text": [
      "Processing 水浒传:  60%|█████▉    | 644/1081 [46:24<37:53,  5.20s/it]"
     ]
    },
    {
     "name": "stdout",
     "output_type": "stream",
     "text": [
      "吕方、郭盛与曾涂交战，花荣射中曾涂救下两人，曾涂被杀。曾升为报兄仇，不顾劝阻挑战宋江军，李逵被箭射中，宋江军救回李逵并退敌。\n"
     ]
    },
    {
     "name": "stderr",
     "output_type": "stream",
     "text": [
      "Processing 水浒传:  60%|█████▉    | 645/1081 [46:30<40:08,  5.52s/it]"
     ]
    },
    {
     "name": "stdout",
     "output_type": "stream",
     "text": [
      "宋江与史文恭交战，秦明败退，宋江调兵遣将加强防御。夜晚，史文恭趁机劫寨，被宋江设伏击败，曾索战死。曾头市请求投降，史文恭写信给宋江。\n"
     ]
    },
    {
     "name": "stderr",
     "output_type": "stream",
     "text": [
      "Processing 水浒传:  60%|█████▉    | 646/1081 [46:36<39:36,  5.46s/it]"
     ]
    },
    {
     "name": "stdout",
     "output_type": "stream",
     "text": [
      "宋江收到曾头市的请和书，要求归还马匹和交出凶徒郁保四，吴用劝宋江接受和谈，宋江派时迁等五人前去谈判，最终曾头市归还马匹并送来金帛，达成和解。\n"
     ]
    },
    {
     "name": "stderr",
     "output_type": "stream",
     "text": [
      "Processing 水浒传:  60%|█████▉    | 647/1081 [46:41<38:41,  5.35s/it]"
     ]
    },
    {
     "name": "stdout",
     "output_type": "stream",
     "text": [
      "宋江想要回段景住送的千里白龙驹“夜玉狮子马”，但史文恭不愿归还。宋江与吴用设计，通过郁保四向史文恭传达假消息，诱使曾头市军队劫寨，同时宋江安排伏兵应对。\n"
     ]
    },
    {
     "name": "stderr",
     "output_type": "stream",
     "text": [
      "Processing 水浒传:  60%|█████▉    | 648/1081 [46:46<37:35,  5.21s/it]"
     ]
    },
    {
     "name": "stdout",
     "output_type": "stream",
     "text": [
      "宋江使用“番犬伏窝之计”成功诱捕史文恭及其部下，史文恭在逃亡中被卢俊义和燕青捕获，曾头市被梁山泊攻陷，曾家被灭门，梁山泊军队取得胜利。\n"
     ]
    },
    {
     "name": "stderr",
     "output_type": "stream",
     "text": [
      "Processing 水浒传:  60%|██████    | 649/1081 [46:50<34:34,  4.80s/it]"
     ]
    },
    {
     "name": "stdout",
     "output_type": "stream",
     "text": [
      "卢俊义生擒史文恭，宋江提议其为梁山泊之主，但卢俊义拒绝，引发内部争议，最终宋江决定另寻解决之道。\n"
     ]
    },
    {
     "name": "stderr",
     "output_type": "stream",
     "text": [
      "Processing 水浒传:  60%|██████    | 650/1081 [46:54<33:16,  4.63s/it]"
     ]
    },
    {
     "name": "stdout",
     "output_type": "stream",
     "text": [
      "宋江提议与卢俊义通过抓阄决定攻打东平府或东昌府，先破城者为梁山泊主，随后宋江率部攻打东平府，卢俊义攻打东昌府。\n"
     ]
    },
    {
     "name": "stderr",
     "output_type": "stream",
     "text": [
      "Processing 水浒传:  60%|██████    | 651/1081 [46:59<33:35,  4.69s/it]"
     ]
    },
    {
     "name": "stdout",
     "output_type": "stream",
     "text": [
      "宋江派郁保四和王定六送战书至东平府，要求借粮，董平愤怒欲斩二人，被程太守阻止，改为打棍后放回。史进提议潜入城中与娼妓李睡兰联络，以便里应外合攻城。\n"
     ]
    },
    {
     "name": "stderr",
     "output_type": "stream",
     "text": [
      "Processing 水浒传:  60%|██████    | 652/1081 [47:03<32:11,  4.50s/it]"
     ]
    },
    {
     "name": "stdout",
     "output_type": "stream",
     "text": [
      "史进作为细作，给李睡兰家送金银以求保密并带其上山，但李家担心事发，决定首告史进，最终史进被捕并遭受严刑拷打。\n"
     ]
    },
    {
     "name": "stderr",
     "output_type": "stream",
     "text": [
      "Processing 水浒传:  60%|██████    | 653/1081 [47:08<32:50,  4.60s/it]"
     ]
    },
    {
     "name": "stdout",
     "output_type": "stream",
     "text": [
      "史进自愿去见旧日情人李行首，吴用担心其安危，派顾大嫂扮贫婆潜入城中，计划在月尽夜救出史进并攻打城池。顾大嫂成功进入牢中给史进送饭，并告知逃脱计划。\n"
     ]
    },
    {
     "name": "stderr",
     "output_type": "stream",
     "text": [
      "Processing 水浒传:  60%|██████    | 654/1081 [47:11<30:54,  4.34s/it]"
     ]
    },
    {
     "name": "stdout",
     "output_type": "stream",
     "text": [
      "史进在牢中得知月尽夜逃脱机会，成功脱逃并释放其他囚犯，引发城中混乱，董平趁机领兵攻打宋江，双方展开激烈战斗。\n"
     ]
    },
    {
     "name": "stderr",
     "output_type": "stream",
     "text": [
      "Processing 水浒传:  61%|██████    | 655/1081 [47:16<30:52,  4.35s/it]"
     ]
    },
    {
     "name": "stdout",
     "output_type": "stream",
     "text": [
      "宋江与董平交战，董平被困阵中后突围，宋江围城。董平求娶程太守女儿未果，后出战宋江，被诱入村镇陷阱，遭遇埋伏。\n"
     ]
    },
    {
     "name": "stderr",
     "output_type": "stream",
     "text": [
      "Processing 水浒传:  61%|██████    | 656/1081 [47:21<32:34,  4.60s/it]"
     ]
    },
    {
     "name": "stdout",
     "output_type": "stream",
     "text": [
      "董平被宋江设计捉拿，后被说服加入梁山，带领宋江军马攻入东平府，杀程太守一家，夺取钱粮，救出史进，最终宋江将财物分给百姓并撤军。\n"
     ]
    },
    {
     "name": "stderr",
     "output_type": "stream",
     "text": [
      "Processing 水浒传:  61%|██████    | 657/1081 [47:24<29:48,  4.22s/it]"
     ]
    },
    {
     "name": "stdout",
     "output_type": "stream",
     "text": [
      "宋江得知卢俊义在东昌府战败，决定率军救援，面对张清的挑战，徐宁出战迎敌。\n"
     ]
    },
    {
     "name": "stderr",
     "output_type": "stream",
     "text": [
      "Processing 水浒传:  61%|██████    | 658/1081 [47:28<29:11,  4.14s/it]"
     ]
    },
    {
     "name": "stdout",
     "output_type": "stream",
     "text": [
      "张清使用飞石技巧连续击败宋江的多位将领，包括徐宁、燕顺、韩滔、彭玘和宣赞，宋江愤怒并发誓要捉拿张清。\n"
     ]
    },
    {
     "name": "stderr",
     "output_type": "stream",
     "text": [
      "Processing 水浒传:  61%|██████    | 659/1081 [47:33<31:14,  4.44s/it]"
     ]
    },
    {
     "name": "stdout",
     "output_type": "stream",
     "text": [
      "呼延灼被张清的石子击中手腕，无法使用钢鞭。刘唐尝试捉拿张清，但被张清用石子击倒。杨志和关胜相继挑战张清，但均未能成功。董平出阵与张清交战，张清最终选择撤退。\n"
     ]
    },
    {
     "name": "stderr",
     "output_type": "stream",
     "text": [
      "Processing 水浒传:  61%|██████    | 660/1081 [47:37<30:41,  4.37s/it]"
     ]
    },
    {
     "name": "stdout",
     "output_type": "stream",
     "text": [
      "张清与董平交战，使用石子攻击但未成功，两人陷入纠缠。宋江派兵救援，张清最终撤退，但成功击伤索超并俘虏刘唐。\n"
     ]
    },
    {
     "name": "stderr",
     "output_type": "stream",
     "text": [
      "Processing 水浒传:  61%|██████    | 661/1081 [47:42<30:20,  4.34s/it]"
     ]
    },
    {
     "name": "stdout",
     "output_type": "stream",
     "text": [
      "宋江与卢俊义、吴用商议对付张清，吴用设计水陆并进引诱张清，张清夜袭截获粮车，击败鲁智深，成功夺粮回城，计划再夺河中米船。\n"
     ]
    },
    {
     "name": "stderr",
     "output_type": "stream",
     "text": [
      "Processing 水浒传:  61%|██████    | 662/1081 [47:47<33:07,  4.74s/it]"
     ]
    },
    {
     "name": "stdout",
     "output_type": "stream",
     "text": [
      "张清在战斗中被公孙胜的道法迷惑，被水军头领捉住并解送给宋江。宋江宽恕张清并接纳他，随后攻破城池，救出刘唐并分配钱粮。张清推荐兽医皇甫端加入梁山，宋江欣然接受，并带领众人返回山寨。\n"
     ]
    },
    {
     "name": "stderr",
     "output_type": "stream",
     "text": [
      "Processing 水浒传:  61%|██████▏   | 663/1081 [47:52<31:57,  4.59s/it]"
     ]
    },
    {
     "name": "stdout",
     "output_type": "stream",
     "text": [
      "宋江在梁山泊聚集一百单八位头领，决定举行罗天大醮以祈福报恩，超度亡灵，并计划在四月十五日开始，持续七天。\n"
     ]
    },
    {
     "name": "stderr",
     "output_type": "stream",
     "text": [
      "Processing 水浒传:  61%|██████▏   | 664/1081 [47:56<31:12,  4.49s/it]"
     ]
    },
    {
     "name": "stdout",
     "output_type": "stream",
     "text": [
      "宋江等人在虚皇坛举行斋事，祈求上天报应，最终发现一块刻有天书文字的石碣，何道士辨认出上面记载了众义士的星辰和尊号。\n"
     ]
    },
    {
     "name": "stderr",
     "output_type": "stream",
     "text": [
      "Processing 水浒传:  62%|██████▏   | 665/1081 [48:01<31:51,  4.60s/it]"
     ]
    },
    {
     "name": "stdout",
     "output_type": "stream",
     "text": [
      "宋江和众头领发现石碣上刻有天罡星和地煞星的名单，确认众人天命所归，决定建立忠义堂，并分配各头领的职责和守卫位置，同时设立八寨和水寨，重新制定旗帜和标志。\n"
     ]
    },
    {
     "name": "stderr",
     "output_type": "stream",
     "text": [
      "Processing 水浒传:  62%|██████▏   | 666/1081 [48:04<29:35,  4.28s/it]"
     ]
    },
    {
     "name": "stdout",
     "output_type": "stream",
     "text": [
      "宋江在梁山泊组织军队，设立各种旗帜和兵符印信，举行祭天仪式，颁布军令，并详细列出了各头领的职责和名单。\n"
     ]
    },
    {
     "name": "stderr",
     "output_type": "stream",
     "text": [
      "Processing 水浒传:  62%|██████▏   | 667/1081 [48:08<28:36,  4.15s/it]"
     ]
    },
    {
     "name": "stdout",
     "output_type": "stream",
     "text": [
      "梁山泊众头领在宣和二年四月吉旦举行大聚会，分调人员并各领兵符印信，宋江要求众人对天盟誓，生死相托，共同扶助。\n"
     ]
    },
    {
     "name": "stderr",
     "output_type": "stream",
     "text": [
      "Processing 水浒传:  62%|██████▏   | 668/1081 [48:13<30:56,  4.49s/it]"
     ]
    },
    {
     "name": "stdout",
     "output_type": "stream",
     "text": [
      "梁山泊一百零八位好汉聚义，共同发誓生死与共，忠诚不二。卢俊义梦见一自称嵇康的人，声称要捕捉贼人，卢俊义反抗无效，最终与其他一百零七位好汉一同被绑缚。\n"
     ]
    },
    {
     "name": "stderr",
     "output_type": "stream",
     "text": [
      "Processing 水浒传:  62%|██████▏   | 669/1081 [48:17<29:29,  4.29s/it]"
     ]
    },
    {
     "name": "stdout",
     "output_type": "stream",
     "text": [
      "卢俊义梦见自己和其他梁山好汉被朝廷处斩，梦中惊醒后，得知宋江为救他而愿归顺朝廷，但最终仍被处死。\n"
     ]
    },
    {
     "name": "stderr",
     "output_type": "stream",
     "text": [
      "Processing 水浒传:  62%|██████▏   | 670/1081 [48:23<31:22,  4.58s/it]"
     ]
    },
    {
     "name": "stdout",
     "output_type": "stream",
     "text": [
      "小说描述了梁山泊的组织结构和人员分配，包括忠义堂的布局、各关卡和寨子的守卫，以及旗帜和兵符的制作，最后宋江颁布号令，强调纪律和义气。\n"
     ]
    },
    {
     "name": "stderr",
     "output_type": "stream",
     "text": [
      "Processing 水浒传:  62%|██████▏   | 671/1081 [48:26<28:56,  4.24s/it]"
     ]
    },
    {
     "name": "stdout",
     "output_type": "stream",
     "text": [
      "小说描述了梁山泊一百单八将的职务分配，包括马军、步军、水军头领以及各类专业技术人员的职责。\n"
     ]
    },
    {
     "name": "stderr",
     "output_type": "stream",
     "text": [
      "Processing 水浒传:  62%|██████▏   | 672/1081 [48:30<29:02,  4.26s/it]"
     ]
    },
    {
     "name": "stdout",
     "output_type": "stream",
     "text": [
      "梁山泊宋江分调众头领，焚香盟誓，誓言保国安民，共一百八人聚义，愿忠义永存，功勋于国。\n"
     ]
    },
    {
     "name": "stderr",
     "output_type": "stream",
     "text": [
      "Processing 水浒传:  62%|██████▏   | 673/1081 [48:35<29:20,  4.32s/it]"
     ]
    },
    {
     "name": "stdout",
     "output_type": "stream",
     "text": [
      "小说描述了梁山好汉们的生活和行动，包括他们的劫富济贫、报仇雪恨的行为，以及宋江组织的一次重阳节宴会，宴会上因招安问题引发武松和李逵的不满，导致冲突。\n"
     ]
    },
    {
     "name": "stderr",
     "output_type": "stream",
     "text": [
      "Processing 水浒传:  62%|██████▏   | 674/1081 [48:40<31:08,  4.59s/it]"
     ]
    },
    {
     "name": "stdout",
     "output_type": "stream",
     "text": [
      "宋江因李逵醉酒冲撞而心生悲痛，决定招安改邪归正，但鲁智深反对招安。次日，李逵被众兄弟带去请罪，宋江警告后释放。随后，宋江接见莱州解灯上京的队伍，并赏赐酒食。\n"
     ]
    },
    {
     "name": "stderr",
     "output_type": "stream",
     "text": [
      "Processing 水浒传:  62%|██████▏   | 675/1081 [48:43<28:48,  4.26s/it]"
     ]
    },
    {
     "name": "stdout",
     "output_type": "stream",
     "text": [
      "宋江决定带几名兄弟私自前往东京看灯，尽管吴用等人劝阻，宋江坚持要去，并安排了各人的装扮和任务。\n"
     ]
    },
    {
     "name": "stderr",
     "output_type": "stream",
     "text": [
      "Processing 水浒传:  63%|██████▎   | 676/1081 [48:47<28:08,  4.17s/it]"
     ]
    },
    {
     "name": "stdout",
     "output_type": "stream",
     "text": [
      "李逵保证不惹事，宋江和柴进计划在元宵节潜入东京，柴进和燕青先行探路，成功混入城中并邀请一位班直官到酒楼，试图了解更多情报。\n"
     ]
    },
    {
     "name": "stderr",
     "output_type": "stream",
     "text": [
      "Processing 水浒传:  63%|██████▎   | 677/1081 [48:52<28:32,  4.24s/it]"
     ]
    },
    {
     "name": "stdout",
     "output_type": "stream",
     "text": [
      "柴进与王班直饮酒，趁机询问其翠花含义，得知是皇帝赐予的标识。柴进设计使王班直醉倒，换上其衣物潜入皇宫，发现皇帝记录的四大寇姓名。\n"
     ]
    },
    {
     "name": "stderr",
     "output_type": "stream",
     "text": [
      "Processing 水浒传:  63%|██████▎   | 678/1081 [48:55<26:56,  4.01s/it]"
     ]
    },
    {
     "name": "stdout",
     "output_type": "stream",
     "text": [
      "柴进潜入皇宫刻下“山东宋江”四字，后与宋江等人伪装进入东京，计划暗中与李师师会面以图谋大事。\n"
     ]
    },
    {
     "name": "stderr",
     "output_type": "stream",
     "text": [
      "Processing 水浒传:  63%|██████▎   | 679/1081 [48:59<26:15,  3.92s/it]"
     ]
    },
    {
     "name": "stdout",
     "output_type": "stream",
     "text": [
      "燕青假扮张闲，前往李师师家，谎称有山东财主要赏元宵并求见李师师，成功引出李师师并安排其与财主见面。\n"
     ]
    },
    {
     "name": "stderr",
     "output_type": "stream",
     "text": [
      "Processing 水浒传:  63%|██████▎   | 680/1081 [49:04<27:50,  4.17s/it]"
     ]
    },
    {
     "name": "stdout",
     "output_type": "stream",
     "text": [
      "宋江与柴进、戴宗、燕青拜访李师师，因皇帝突然到来而匆忙离开，后在樊楼偶遇醉酒的史进和穆弘，劝其离开避免麻烦。随后，宋江答应李逵次日带他入城观灯。\n"
     ]
    },
    {
     "name": "stderr",
     "output_type": "stream",
     "text": [
      "Processing 水浒传:  63%|██████▎   | 681/1081 [49:08<27:05,  4.06s/it]"
     ]
    },
    {
     "name": "stdout",
     "output_type": "stream",
     "text": [
      "元宵节夜晚，宋江与柴进等人扮作闲凉官，进入城中观赏灯会，并通过燕青与李师师家接触，送礼并邀请李师师共赏灯会。\n"
     ]
    },
    {
     "name": "stderr",
     "output_type": "stream",
     "text": [
      "Processing 水浒传:  63%|██████▎   | 682/1081 [49:13<29:49,  4.48s/it]"
     ]
    },
    {
     "name": "stdout",
     "output_type": "stream",
     "text": [
      "宋江、柴进与李师师饮酒，宋江酒后失态，李逵被引入见，李师师好奇询问，宋江形容李逵武艺高强。后宋江借酒兴作词表达心声，李师师不解其意，此时皇帝突然到来，李师师匆忙迎接。\n"
     ]
    },
    {
     "name": "stderr",
     "output_type": "stream",
     "text": [
      "Processing 水浒传:  63%|██████▎   | 683/1081 [49:18<31:11,  4.70s/it]"
     ]
    },
    {
     "name": "stdout",
     "output_type": "stream",
     "text": [
      "宋江、柴进、戴宗潜伏在李师师家，计划通过她向皇帝请求招安，但李逵因不满被留看门而引发混乱，导致李师师家起火，宋江等人逃离，城中爆发战斗，高太尉带军追赶。\n"
     ]
    },
    {
     "name": "stderr",
     "output_type": "stream",
     "text": [
      "Processing 水浒传:  63%|██████▎   | 684/1081 [49:22<29:37,  4.48s/it]"
     ]
    },
    {
     "name": "stdout",
     "output_type": "stream",
     "text": [
      "吴用策划大闹东京，宋江等梁山好汉趁夜袭击，李逵独自欲攻城被燕青阻止，两人避开追兵逃至四柳村。\n"
     ]
    },
    {
     "name": "stderr",
     "output_type": "stream",
     "text": [
      "Processing 水浒传:  63%|██████▎   | 685/1081 [49:25<26:32,  4.02s/it]"
     ]
    },
    {
     "name": "stdout",
     "output_type": "stream",
     "text": [
      "李逵假扮道士，被狄太公请去捉鬼，实际上只是吃喝一番，并未真正捉鬼。\n"
     ]
    },
    {
     "name": "stderr",
     "output_type": "stream",
     "text": [
      "Processing 水浒传:  63%|██████▎   | 686/1081 [49:30<27:44,  4.21s/it]"
     ]
    },
    {
     "name": "stdout",
     "output_type": "stream",
     "text": [
      "李逵手持板斧闯入房中，发现一后生与妇人私通，怒而杀之，后得知妇人为太公女儿，将其与奸夫一同斩首，太公悲痛欲绝。\n"
     ]
    },
    {
     "name": "stderr",
     "output_type": "stream",
     "text": [
      "Processing 水浒传:  64%|██████▎   | 687/1081 [49:34<27:08,  4.13s/it]"
     ]
    },
    {
     "name": "stdout",
     "output_type": "stream",
     "text": [
      "李逵和燕青在旅途中借宿一户人家，得知太公的女儿被宋江夺走，李逵决定帮助太公讨回女儿，并直接前往梁山泊。\n"
     ]
    },
    {
     "name": "stderr",
     "output_type": "stream",
     "text": [
      "Processing 水浒传:  64%|██████▎   | 688/1081 [49:37<25:56,  3.96s/it]"
     ]
    },
    {
     "name": "stdout",
     "output_type": "stream",
     "text": [
      "李逵误会宋江抢夺民女，愤怒地砍倒杏黄旗并试图攻击宋江，后经燕青解释误会，宋江澄清事实。\n"
     ]
    },
    {
     "name": "stderr",
     "output_type": "stream",
     "text": [
      "Processing 水浒传:  64%|██████▎   | 689/1081 [49:42<26:46,  4.10s/it]"
     ]
    },
    {
     "name": "stdout",
     "output_type": "stream",
     "text": [
      "李逵误会宋江抢夺刘太公女儿，与宋江打赌并带柴进、燕青到刘太公庄上对质，最终证实宋江无辜。\n"
     ]
    },
    {
     "name": "stderr",
     "output_type": "stream",
     "text": [
      "Processing 水浒传:  64%|██████▍   | 690/1081 [49:46<27:55,  4.29s/it]"
     ]
    },
    {
     "name": "stdout",
     "output_type": "stream",
     "text": [
      "宋江和柴进帮助刘太公寻找被假冒者骗走的女儿，李逵因误事负荆请罪，宋江要求他捉回假宋江以赎罪，李逵与燕青前往刘太公庄上调查并承诺救回女儿。\n"
     ]
    },
    {
     "name": "stderr",
     "output_type": "stream",
     "text": [
      "Processing 水浒传:  64%|██████▍   | 691/1081 [49:51<27:37,  4.25s/it]"
     ]
    },
    {
     "name": "stdout",
     "output_type": "stream",
     "text": [
      "李逵和燕青寻找刘太公女儿，历经多日无果，后在古庙附近捉到一名剪径汉子，得知可能被牛头山的强人抢走，于是决定前往牛头山寻找。\n"
     ]
    },
    {
     "name": "stderr",
     "output_type": "stream",
     "text": [
      "Processing 水浒传:  64%|██████▍   | 692/1081 [49:55<27:33,  4.25s/it]"
     ]
    },
    {
     "name": "stdout",
     "output_type": "stream",
     "text": [
      "李逵和燕青在山中救出被贼人掳走的刘太公女儿，杀死贼人并带回金银和两匹马，最后将女子安全送回刘太公庄上。\n"
     ]
    },
    {
     "name": "stderr",
     "output_type": "stream",
     "text": [
      "Processing 水浒传:  64%|██████▍   | 693/1081 [50:00<30:02,  4.65s/it]"
     ]
    },
    {
     "name": "stdout",
     "output_type": "stream",
     "text": [
      "燕青和李逵成功完成任务，带回金银和人头，受到宋江的赞赏和奖励。随后，一伙来自凤翔府的人被带到梁山泊，请求宋江允许他们去泰安州烧香并观看任原的相扑比赛。宋江同意并命令不得侵犯他们。\n"
     ]
    },
    {
     "name": "stderr",
     "output_type": "stream",
     "text": [
      "Processing 水浒传:  64%|██████▍   | 694/1081 [50:05<30:30,  4.73s/it]"
     ]
    },
    {
     "name": "stdout",
     "output_type": "stream",
     "text": [
      "燕青计划独自前往泰安州参加相扑比赛，宋江担心其安全，但燕青自信能胜。燕青扮作货郎出发，李逵私自跟随，燕青要求李逵遵守三件事后同意同行。\n"
     ]
    },
    {
     "name": "stderr",
     "output_type": "stream",
     "text": [
      "Processing 水浒传:  64%|██████▍   | 695/1081 [50:11<33:05,  5.14s/it]"
     ]
    },
    {
     "name": "stdout",
     "output_type": "stream",
     "text": [
      "燕青与李逵计划在庙会上行动，燕青指示李逵在客店中不要露面，庙会上装病不出声，看争交时不要大惊小怪。燕青在庙会上看到任原的招牌后，将其打碎，引起众人注意。两人在庙会附近的客店安顿，燕青用乡谈与店小二交涉，确保有地方休息。\n"
     ]
    },
    {
     "name": "stderr",
     "output_type": "stream",
     "text": [
      "Processing 水浒传:  64%|██████▍   | 696/1081 [50:16<32:19,  5.04s/it]"
     ]
    },
    {
     "name": "stdout",
     "output_type": "stream",
     "text": [
      "一群人寻找劈牌定对的好汉，误以为山东货郎是挑战者，实则是燕青。燕青与李逵在客店中，燕青准备挑战，而李逵装病。次日，燕青前往岱岳庙挑战。\n"
     ]
    },
    {
     "name": "stderr",
     "output_type": "stream",
     "text": [
      "Processing 水浒传:  64%|██████▍   | 697/1081 [50:21<31:10,  4.87s/it]"
     ]
    },
    {
     "name": "stdout",
     "output_type": "stream",
     "text": [
      "燕青在蒿里山下的庙宇中游览，得知相扑教师任原的所在，前去观察并准备挑战。夜晚，燕青和李逵准备参加庙会，燕青决心在相扑比赛中一展身手。\n"
     ]
    },
    {
     "name": "stderr",
     "output_type": "stream",
     "text": [
      "Processing 水浒传:  65%|██████▍   | 698/1081 [50:25<30:38,  4.80s/it]"
     ]
    },
    {
     "name": "stdout",
     "output_type": "stream",
     "text": [
      "在嘉宁殿的相扑比赛中，任原连续两年获胜，今年他再次挑战，声称不再上山。燕青突然出现，自称山东张货郎，挑战任原争夺利物。\n"
     ]
    },
    {
     "name": "stderr",
     "output_type": "stream",
     "text": [
      "Processing 水浒传:  65%|██████▍   | 699/1081 [50:29<28:47,  4.52s/it]"
     ]
    },
    {
     "name": "stdout",
     "output_type": "stream",
     "text": [
      "燕青挑战任原相扑，太守提供奖励，两人在献台上对决，燕青机智应对，任原试图踢燕青下台。\n"
     ]
    },
    {
     "name": "stderr",
     "output_type": "stream",
     "text": [
      "Processing 水浒传:  65%|██████▍   | 700/1081 [50:33<27:52,  4.39s/it]"
     ]
    },
    {
     "name": "stdout",
     "output_type": "stream",
     "text": [
      "燕青在擂台上巧妙制服任原，李逵因愤怒大闹庙会，最终与卢俊义等梁山好汉一同撤退。\n"
     ]
    },
    {
     "name": "stderr",
     "output_type": "stream",
     "text": [
      "Processing 水浒传:  65%|██████▍   | 701/1081 [50:38<28:24,  4.49s/it]"
     ]
    },
    {
     "name": "stdout",
     "output_type": "stream",
     "text": [
      "李逵假扮官员进入寿张县衙，吓得众人不敢动，他要求见知县，知县却逃走。李逵穿上官服，命令吏员参见，并让他们假装告状取乐，最后惩罚了被打的人。\n"
     ]
    },
    {
     "name": "stderr",
     "output_type": "stream",
     "text": [
      "Processing 水浒传:  65%|██████▍   | 702/1081 [50:43<28:22,  4.49s/it]"
     ]
    },
    {
     "name": "stdout",
     "output_type": "stream",
     "text": [
      "李逵在寿张县闹事，后被穆弘拖回梁山泊，宋江责骂后，梁山泊继续操练武艺。泰安州向东京报告宋江等人的乱事，皇帝担忧并考虑对策。\n"
     ]
    },
    {
     "name": "stderr",
     "output_type": "stream",
     "text": [
      "Processing 水浒传:  65%|██████▌   | 703/1081 [50:46<26:54,  4.27s/it]"
     ]
    },
    {
     "name": "stdout",
     "output_type": "stream",
     "text": [
      "陈宗善奉命前往梁山泊招安宋江等人，以对抗辽兵，途中受到太师蔡京和高太尉的指示和警告，强调遵守朝廷法度。\n"
     ]
    },
    {
     "name": "stderr",
     "output_type": "stream",
     "text": [
      "Processing 水浒传:  65%|██████▌   | 704/1081 [50:51<28:09,  4.48s/it]"
     ]
    },
    {
     "name": "stdout",
     "output_type": "stream",
     "text": [
      "陈太尉携带御酒和丹诏前往济州招安梁山泊，张叔夜提醒需和气对待，而张干办和李虞候自信能处理好，宋江得知消息后大喜，但吴用预感招安不会顺利。\n"
     ]
    },
    {
     "name": "stderr",
     "output_type": "stream",
     "text": [
      "Processing 水浒传:  65%|██████▌   | 705/1081 [50:56<28:31,  4.55s/it]"
     ]
    },
    {
     "name": "stdout",
     "output_type": "stream",
     "text": [
      "朝廷派陈太尉携带诏书和御酒前往梁山泊招安，宋江安排隆重接待，但张干办和李虞候态度傲慢，质疑宋江的接待态度，梁山泊众人恳请太尉息怒，希望成全招安之事。\n"
     ]
    },
    {
     "name": "stderr",
     "output_type": "stream",
     "text": [
      "Processing 水浒传:  65%|██████▌   | 706/1081 [51:00<27:51,  4.46s/it]"
     ]
    },
    {
     "name": "stdout",
     "output_type": "stream",
     "text": [
      "李虞候责骂水手无礼，用水手不惧并用计使船漏水，阮小七偷尝御酒并替换为村醪水白酒，宋江迎接陈太尉并表达歉意。\n"
     ]
    },
    {
     "name": "stderr",
     "output_type": "stream",
     "text": [
      "Processing 水浒传:  65%|██████▌   | 707/1081 [51:04<26:38,  4.27s/it]"
     ]
    },
    {
     "name": "stdout",
     "output_type": "stream",
     "text": [
      "朝廷派陈太尉招安宋江等梁山好汉，李逵不满诏书内容，撕毁诏书并试图攻击陈太尉，被宋江等人阻止。\n"
     ]
    },
    {
     "name": "stderr",
     "output_type": "stream",
     "text": [
      "Processing 水浒传:  65%|██████▌   | 708/1081 [51:08<26:31,  4.27s/it]"
     ]
    },
    {
     "name": "stdout",
     "output_type": "stream",
     "text": [
      "李逵不满朝廷招安，宋江试图安抚众人，但御酒被发现是劣质酒，引发众怒，宋江护送太尉下山并解释误会，事后宋江与吴用商讨备战。\n"
     ]
    },
    {
     "name": "stderr",
     "output_type": "stream",
     "text": [
      "Processing 水浒传:  66%|██████▌   | 709/1081 [51:14<28:28,  4.59s/it]"
     ]
    },
    {
     "name": "stdout",
     "output_type": "stream",
     "text": [
      "陈太尉、张干办、李虞候回京向蔡太师报告梁山泊贼寇扯诏毁谤，蔡太师大怒并召集童枢密、高杨二太尉商议对策，决定由童贯领兵剿灭梁山泊贼寇。\n"
     ]
    },
    {
     "name": "stderr",
     "output_type": "stream",
     "text": [
      "Processing 水浒传:  66%|██████▌   | 710/1081 [51:18<28:15,  4.57s/it]"
     ]
    },
    {
     "name": "stdout",
     "output_type": "stream",
     "text": [
      "童贯率领八路兵马都监及御营良将，接受朝廷命令，准备出师剿寇，高杨二太尉设宴送行，童贯誓言必建大功。\n"
     ]
    },
    {
     "name": "stderr",
     "output_type": "stream",
     "text": [
      "Processing 水浒传:  66%|██████▌   | 711/1081 [51:23<29:01,  4.71s/it]"
     ]
    },
    {
     "name": "stdout",
     "output_type": "stream",
     "text": [
      "童贯率领大军前往济州，意图剿灭梁山泊贼寇，张叔夜劝其谨慎，但童贯愤怒不听，宋江等人已做好准备等待大军到来。\n"
     ]
    },
    {
     "name": "stderr",
     "output_type": "stream",
     "text": [
      "Processing 水浒传:  66%|██████▌   | 712/1081 [51:27<28:05,  4.57s/it]"
     ]
    },
    {
     "name": "stdout",
     "output_type": "stream",
     "text": [
      "张清带领巡哨部队侦察童贯军情，童贯犹豫未追，后李逵等五百步军出现挑战，童贯列阵应对，双方在平川旷野对峙，阵势严整。\n"
     ]
    },
    {
     "name": "stderr",
     "output_type": "stream",
     "text": [
      "Processing 水浒传:  66%|██████▌   | 713/1081 [51:31<26:13,  4.28s/it]"
     ]
    },
    {
     "name": "stdout",
     "output_type": "stream",
     "text": [
      "小说描述了四队不同颜色旗帜和装备的军队，分别由秦明、关胜、林冲和呼延灼领导，各自站在阵前，准备战斗。\n"
     ]
    },
    {
     "name": "stderr",
     "output_type": "stream",
     "text": [
      "Processing 水浒传:  66%|██████▌   | 714/1081 [51:35<25:51,  4.23s/it]"
     ]
    },
    {
     "name": "stdout",
     "output_type": "stream",
     "text": [
      "小说描述了四位大将及其副将的英勇形象和装备，分别镇守东南、西南、东北和西北四个方位，展示了他们威武的军容和严整的队伍。\n"
     ]
    },
    {
     "name": "stderr",
     "output_type": "stream",
     "text": [
      "Processing 水浒传:  66%|██████▌   | 715/1081 [51:39<24:56,  4.09s/it]"
     ]
    },
    {
     "name": "stdout",
     "output_type": "stream",
     "text": [
      "小说描述了八阵中央的军事布局，包括杏黄旗、六十四卦旗、四门守将以及守旗壮士，展现了严密的军事阵势和各将领的英勇形象。\n"
     ]
    },
    {
     "name": "stderr",
     "output_type": "stream",
     "text": [
      "Processing 水浒传:  66%|██████▌   | 716/1081 [51:44<25:54,  4.26s/it]"
     ]
    },
    {
     "name": "stdout",
     "output_type": "stream",
     "text": [
      "描述了梁山泊众多英雄的装备和外貌，包括郭盛、解珍、解宝、萧让、裴宣、蔡福、蔡庆、徐宁和花荣等，各自手持不同武器，身着华丽战袍，展现了他们的英勇与风采。\n"
     ]
    },
    {
     "name": "stderr",
     "output_type": "stream",
     "text": [
      "Processing 水浒传:  66%|██████▋   | 717/1081 [51:47<24:54,  4.11s/it]"
     ]
    },
    {
     "name": "stdout",
     "output_type": "stream",
     "text": [
      "描述了梁山泊英雄们的壮观阵势和各自独特的装扮，包括戴宗、燕青、公孙胜和吴用等关键人物的详细服饰和装备。\n"
     ]
    },
    {
     "name": "stderr",
     "output_type": "stream",
     "text": [
      "Processing 水浒传:  66%|██████▋   | 718/1081 [51:51<23:40,  3.91s/it]"
     ]
    },
    {
     "name": "stdout",
     "output_type": "stream",
     "text": [
      "宋江作为梁山泊主，全副武装，指挥九宫八卦阵势，展现出强大的军事力量，令官军惊恐失措。\n"
     ]
    },
    {
     "name": "stderr",
     "output_type": "stream",
     "text": [
      "Processing 水浒传:  67%|██████▋   | 719/1081 [51:55<24:03,  3.99s/it]"
     ]
    },
    {
     "name": "stdout",
     "output_type": "stream",
     "text": [
      "陈翥与秦明在战场交锋，秦明击败陈翥并夺取头功，随后董平、索超加入战斗，童贯军队大败，损失惨重，退至三十里外扎营。\n"
     ]
    },
    {
     "name": "stderr",
     "output_type": "stream",
     "text": [
      "Processing 水浒传:  67%|██████▋   | 720/1081 [52:00<25:34,  4.25s/it]"
     ]
    },
    {
     "name": "stdout",
     "output_type": "stream",
     "text": [
      "童贯整练军队，摆成长蛇阵，进攻梁山泊，但战场上不见敌军。童贯疑虑，询问将领后决定继续前进。到达水泊边，只见一渔人钓鱼，童贯军射箭未能伤及渔人，派水军捉拿亦未成功。\n"
     ]
    },
    {
     "name": "stderr",
     "output_type": "stream",
     "text": [
      "Processing 水浒传:  67%|██████▋   | 721/1081 [52:04<24:45,  4.13s/it]"
     ]
    },
    {
     "name": "stdout",
     "output_type": "stream",
     "text": [
      "渔人张顺在水中巧妙击败追捕的五百军士，童贯见状大怒，但张顺最终安全逃脱，童贯则面对突如其来的敌军感到惊慌。\n"
     ]
    },
    {
     "name": "stderr",
     "output_type": "stream",
     "text": [
      "Processing 水浒传:  67%|██████▋   | 722/1081 [52:09<26:47,  4.48s/it]"
     ]
    },
    {
     "name": "stdout",
     "output_type": "stream",
     "text": [
      "童贯派遣酆美和毕胜迎战雷横和朱仝，双方激战后宋江设伏，童贯军队中伏，宋江军师吴用等好汉现身，童贯愤怒欲攻山，但被酆美劝阻，此时后军被袭击，秦明和关胜率军出现。\n"
     ]
    },
    {
     "name": "stderr",
     "output_type": "stream",
     "text": [
      "Processing 水浒传:  67%|██████▋   | 723/1081 [52:13<26:07,  4.38s/it]"
     ]
    },
    {
     "name": "stdout",
     "output_type": "stream",
     "text": [
      "童贯被秦明、关胜、呼延灼、林冲等将领围攻，后又被鲁智深、武松率领的步军冲击，最终在酆美、毕胜的保护下勉强突围逃走。\n"
     ]
    },
    {
     "name": "stderr",
     "output_type": "stream",
     "text": [
      "Processing 水浒传:  67%|██████▋   | 724/1081 [52:21<31:48,  5.35s/it]"
     ]
    },
    {
     "name": "stdout",
     "output_type": "stream",
     "text": [
      "解珍、解宝率领步军杀入童贯军阵，童贯突围逃走，被五面军马追击，酆美、毕胜等力保童贯，途中遭遇董平、索超拦截，王义、韩天麟战死，童贯继续逃命。随后，童贯军马被梁山泊大队军马包围，形势危急。同时，杨志、史进在山坡下截住吴秉彝、李明厮杀，童贯在山坡上观战。\n"
     ]
    },
    {
     "name": "stderr",
     "output_type": "stream",
     "text": [
      "Processing 水浒传:  67%|██████▋   | 725/1081 [52:26<31:46,  5.36s/it]"
     ]
    },
    {
     "name": "stdout",
     "output_type": "stream",
     "text": [
      "史进和杨志分别击杀吴秉彝和李明，童贯等人在山坡上被困，酆美冲出重围求援，最终与周信、段鹏举合兵一处，夜袭突围，试图逃离敌军包围。\n"
     ]
    },
    {
     "name": "stderr",
     "output_type": "stream",
     "text": [
      "Processing 水浒传:  67%|██████▋   | 726/1081 [52:31<30:20,  5.13s/it]"
     ]
    },
    {
     "name": "stdout",
     "output_type": "stream",
     "text": [
      "童贯在混战中逃脱，但被卢俊义、杨雄、石秀等梁山好汉拦截，酆美被俘，童贯败逃，途中又遭遇李逵等步军头领的袭击，段鹏举被杀。\n"
     ]
    },
    {
     "name": "stderr",
     "output_type": "stream",
     "text": [
      "Processing 水浒传:  67%|██████▋   | 727/1081 [52:36<30:04,  5.10s/it]"
     ]
    },
    {
     "name": "stdout",
     "output_type": "stream",
     "text": [
      "官军败退至济州，遭遇张清等英雄伏击，周信战死，童贯逃往东京。宋江仁德，未追杀童贯，反善待俘虏酆美，表达归顺朝廷意愿，并重赏三军后回山寨商议。\n"
     ]
    },
    {
     "name": "stderr",
     "output_type": "stream",
     "text": [
      "Processing 水浒传:  67%|██████▋   | 728/1081 [52:40<28:31,  4.85s/it]"
     ]
    },
    {
     "name": "stdout",
     "output_type": "stream",
     "text": [
      "吴用设计使童贯大军损失惨重，提议派人探听东京虚实以备再战，戴宗和刘唐被选中前往。童贯败归后与高俅、蔡京商议隐瞒败绩。\n"
     ]
    },
    {
     "name": "stderr",
     "output_type": "stream",
     "text": [
      "Processing 水浒传:  67%|██████▋   | 729/1081 [52:44<26:13,  4.47s/it]"
     ]
    },
    {
     "name": "stdout",
     "output_type": "stream",
     "text": [
      "高俅、童贯、蔡京讨论如何向皇帝报告征讨梁山泊失利的情况，决定由高俅再次领兵征讨，并请求皇帝支持。\n"
     ]
    },
    {
     "name": "stderr",
     "output_type": "stream",
     "text": [
      "Processing 水浒传:  68%|██████▊   | 730/1081 [52:48<26:06,  4.46s/it]"
     ]
    },
    {
     "name": "stdout",
     "output_type": "stream",
     "text": [
      "高俅请求皇帝允许他造船和征集军队以攻打梁山泊，皇帝同意并赐予他锦袍金甲。高俅随后调集十路精兵和一枝水军，准备进攻梁山泊。\n"
     ]
    },
    {
     "name": "stderr",
     "output_type": "stream",
     "text": [
      "Processing 水浒传:  68%|██████▊   | 731/1081 [52:54<28:26,  4.88s/it]"
     ]
    },
    {
     "name": "stdout",
     "output_type": "stream",
     "text": [
      "宋江得知高太尉率大军来犯，与吴用商议对策，决定先发制人，派张清和董平前去迎战，同时准备水军夺船。高太尉则带领大军出征，途中纵容军士掳掠，十路军马陆续到达济州，其中王文德的军队在凤尾坡遭遇伏击。\n"
     ]
    },
    {
     "name": "stderr",
     "output_type": "stream",
     "text": [
      "Processing 水浒传:  68%|██████▊   | 732/1081 [52:58<27:27,  4.72s/it]"
     ]
    },
    {
     "name": "stdout",
     "output_type": "stream",
     "text": [
      "董平与王文德交战三十回合不分胜负，后张清以石子击中王文德，杨温军马救援，双方撤退。高太尉大军到达，计划用水陆两路军马夹击梁山泊。\n"
     ]
    },
    {
     "name": "stderr",
     "output_type": "stream",
     "text": [
      "Processing 水浒传:  68%|██████▊   | 733/1081 [53:02<26:17,  4.53s/it]"
     ]
    },
    {
     "name": "stdout",
     "output_type": "stream",
     "text": [
      "高太尉检阅军队后，命令各路军马进发梁山泊。宋江率军迎战，林冲与王焕激战不分胜负，荆忠挑战被呼延灼击败并击杀。\n"
     ]
    },
    {
     "name": "stderr",
     "output_type": "stream",
     "text": [
      "Processing 水浒传:  68%|██████▊   | 734/1081 [53:07<26:58,  4.66s/it]"
     ]
    },
    {
     "name": "stdout",
     "output_type": "stream",
     "text": [
      "项元镇与董平交战，项元镇佯败后射伤董平，呼延灼和林冲救援董平。同时，刘梦龙和党世雄在水战中被梁山泊好汉伏击，最终被阮氏三雄和张横俘获。\n"
     ]
    },
    {
     "name": "stderr",
     "output_type": "stream",
     "text": [
      "Processing 水浒传:  68%|██████▊   | 735/1081 [53:13<29:31,  5.12s/it]"
     ]
    },
    {
     "name": "stdout",
     "output_type": "stream",
     "text": [
      "高太尉的水军在梁山泊遭遇重创，损失惨重，急忙收兵回济州。宋江军马趁机施放号炮，吓退高太尉，随后高太尉在济州会集诸将商议对策，并派人请闻焕章为军前参谋。\n"
     ]
    },
    {
     "name": "stderr",
     "output_type": "stream",
     "text": [
      "Processing 水浒传:  68%|██████▊   | 736/1081 [53:17<26:36,  4.63s/it]"
     ]
    },
    {
     "name": "stdout",
     "output_type": "stream",
     "text": [
      "呼延灼与韩存保在阵前激战，双方不分胜负，最终在溪边水中扭打成一团，两败俱伤。\n"
     ]
    },
    {
     "name": "stderr",
     "output_type": "stream",
     "text": [
      "Processing 水浒传:  68%|██████▊   | 737/1081 [53:22<26:56,  4.70s/it]"
     ]
    },
    {
     "name": "stdout",
     "output_type": "stream",
     "text": [
      "张清在战斗中活捉了韩存保，随后与梅展、张开等节度使交战，最终在秦明和关胜的帮助下夺回韩存保。宋江解绑韩存保，表达招安意愿。\n"
     ]
    },
    {
     "name": "stderr",
     "output_type": "stream",
     "text": [
      "Processing 水浒传:  68%|██████▊   | 738/1081 [53:29<30:30,  5.34s/it]"
     ]
    },
    {
     "name": "stdout",
     "output_type": "stream",
     "text": [
      "韩存保询问宋江为何不接受招安，宋江解释朝廷诏书不明及官员侮辱，导致不满。韩存保认为缺乏好人维持导致国家大事受阻。宋江释放两名官员，高太尉误以为被欺骗，欲斩二人，后被劝阻。韩存保通过关系寻求招安，蔡京最终同意再发招安诏书，并派遣闻焕章前去谈判。\n"
     ]
    },
    {
     "name": "stderr",
     "output_type": "stream",
     "text": [
      "Processing 水浒传:  68%|██████▊   | 739/1081 [53:32<27:35,  4.84s/it]"
     ]
    },
    {
     "name": "stdout",
     "output_type": "stream",
     "text": [
      "高太尉征集船只攻打梁山泊，吴用设伏，利用水路和陆路伏击，最终成功击退敌军。\n"
     ]
    },
    {
     "name": "stderr",
     "output_type": "stream",
     "text": [
      "Processing 水浒传:  68%|██████▊   | 740/1081 [53:38<29:02,  5.11s/it]"
     ]
    },
    {
     "name": "stdout",
     "output_type": "stream",
     "text": [
      "刘梦龙在狂风大浪中遭遇火攻，战船被烧，被迫跳水逃生，最终被李俊捉拿。同时，牛邦喜也被张横捉住，两人被就地处决。高太尉在水边策应，见军士逃命，得知船只被烧，心慌意乱，回撤时遭遇索超阻击。\n"
     ]
    },
    {
     "name": "stderr",
     "output_type": "stream",
     "text": [
      "Processing 水浒传:  69%|██████▊   | 741/1081 [53:44<30:07,  5.32s/it]"
     ]
    },
    {
     "name": "stdout",
     "output_type": "stream",
     "text": [
      "高太尉在战斗中连续被林冲、杨志、朱仝等人追击，损失惨重，后因吴用的计策导致军队大败。高俅在犹豫是否招安时，王瑾提出利用诏书中的文字游戏来诱捕宋江，高俅采纳并升王瑾为帅府长史。\n"
     ]
    },
    {
     "name": "stderr",
     "output_type": "stream",
     "text": [
      "Processing 水浒传:  69%|██████▊   | 742/1081 [53:48<28:21,  5.02s/it]"
     ]
    },
    {
     "name": "stdout",
     "output_type": "stream",
     "text": [
      "高太尉计划用诏书诱使宋江等梁山好汉下山接受招安，宋江虽有疑虑但决定前往，吴用则安排伏兵以防万一，准备在济州城下应对可能的变故。\n"
     ]
    },
    {
     "name": "stderr",
     "output_type": "stream",
     "text": [
      "Processing 水浒传:  69%|██████▊   | 743/1081 [53:53<28:37,  5.08s/it]"
     ]
    },
    {
     "name": "stdout",
     "output_type": "stream",
     "text": [
      "高太尉在济州城等待宋江军马到来接受招安，宋江等人披甲前来，高太尉要求百姓一同听诏，诏书中赦免众人罪行，但花荣因不满诏书中“除宋江”三字，射箭伤了使臣。\n"
     ]
    },
    {
     "name": "stderr",
     "output_type": "stream",
     "text": [
      "Processing 水浒传:  69%|██████▉   | 744/1081 [53:58<27:56,  4.97s/it]"
     ]
    },
    {
     "name": "stdout",
     "output_type": "stream",
     "text": [
      "宋江领导的梁山好汉在城下发动攻击，成功击败高太尉的军队后撤回梁山泊。高太尉向朝廷报告宋江的叛乱，朝廷派遣丘岳和周昂两位将军带领精兵前去剿捕宋江。\n"
     ]
    },
    {
     "name": "stderr",
     "output_type": "stream",
     "text": [
      "Processing 水浒传:  69%|██████▉   | 745/1081 [54:02<26:06,  4.66s/it]"
     ]
    },
    {
     "name": "stdout",
     "output_type": "stream",
     "text": [
      "小说描述了丘岳和周昂两位将军的英勇装扮和带领的军队，以及高太尉在济州准备伐木造船，招募水手军士，以图征讨梁山泊的情节。\n"
     ]
    },
    {
     "name": "stderr",
     "output_type": "stream",
     "text": [
      "Processing 水浒传:  69%|██████▉   | 746/1081 [54:07<25:48,  4.62s/it]"
     ]
    },
    {
     "name": "stdout",
     "output_type": "stream",
     "text": [
      "叶春建议高太尉造大船以攻梁山泊，高太尉采纳并命叶春监造，同时调集水军准备攻打，丘岳和周昂请战，高太尉决定待船造好后再行动。\n"
     ]
    },
    {
     "name": "stderr",
     "output_type": "stream",
     "text": [
      "Processing 水浒传:  69%|██████▉   | 747/1081 [54:10<24:24,  4.39s/it]"
     ]
    },
    {
     "name": "stdout",
     "output_type": "stream",
     "text": [
      "宋江与吴用商议对抗朝廷的策略，派遣时迁、段景住等潜入造船厂破坏，计划在船厂和城楼放火，以扰乱敌军。\n"
     ]
    },
    {
     "name": "stderr",
     "output_type": "stream",
     "text": [
      "Processing 水浒传:  69%|██████▉   | 748/1081 [54:14<23:09,  4.17s/it]"
     ]
    },
    {
     "name": "stdout",
     "output_type": "stream",
     "text": [
      "张青、孙新等人在船厂放火引发混乱，高太尉派兵救火，张清趁机伏击官军，丘岳被石子击中重伤。\n"
     ]
    },
    {
     "name": "stderr",
     "output_type": "stream",
     "text": [
      "Processing 水浒传:  69%|██████▉   | 749/1081 [54:19<24:25,  4.42s/it]"
     ]
    },
    {
     "name": "stdout",
     "output_type": "stream",
     "text": [
      "高太尉因丘岳重伤而恨梁山泊，命令叶春造船备战。张青、孙新等六人成功返回梁山泊，受到宋江的欢迎。叶春完成造船，高太尉检阅并演练水军，准备攻打梁山泊。\n"
     ]
    },
    {
     "name": "stderr",
     "output_type": "stream",
     "text": [
      "Processing 水浒传:  69%|██████▉   | 750/1081 [54:23<23:23,  4.24s/it]"
     ]
    },
    {
     "name": "stdout",
     "output_type": "stream",
     "text": [
      "高俅决定亲自监督水陆军马征讨梁山泊，调遣各路将领分头行动，自己则率领船队亲征，宋江和吴用已做好准备迎战。\n"
     ]
    },
    {
     "name": "stderr",
     "output_type": "stream",
     "text": [
      "Processing 水浒传:  69%|██████▉   | 751/1081 [54:26<22:13,  4.04s/it]"
     ]
    },
    {
     "name": "stdout",
     "output_type": "stream",
     "text": [
      "梁山泊好汉们以伪装和机智应对官军的攻击，最终通过号炮和小船的突袭，成功夺取了官军的船只。\n"
     ]
    },
    {
     "name": "stderr",
     "output_type": "stream",
     "text": [
      "Processing 水浒传:  70%|██████▉   | 752/1081 [54:32<24:18,  4.43s/it]"
     ]
    },
    {
     "name": "stdout",
     "output_type": "stream",
     "text": [
      "高太尉的船队在战斗中被张顺带领的水军凿穿船底，导致船只沉没，高太尉被张顺丢入水中，后被救起。同时，梁山泊的杨林、郑天寿等人在水上和陆上展开攻击，成功击败官军。\n"
     ]
    },
    {
     "name": "stderr",
     "output_type": "stream",
     "text": [
      "Processing 水浒传:  70%|██████▉   | 753/1081 [54:36<23:31,  4.30s/it]"
     ]
    },
    {
     "name": "stdout",
     "output_type": "stream",
     "text": [
      "梁山泊军马在山前伏击官军，成功俘获高太尉，宋江对其礼遇有加，请求高太尉救拔深陷之人。\n"
     ]
    },
    {
     "name": "stderr",
     "output_type": "stream",
     "text": [
      "Processing 水浒传:  70%|██████▉   | 754/1081 [54:41<24:18,  4.46s/it]"
     ]
    },
    {
     "name": "stdout",
     "output_type": "stream",
     "text": [
      "高俅在宋江等好汉面前承诺回朝请求宽赦并招安，酒后与燕青比试相扑失败，次日宋江设宴压惊，高俅再次承诺回京后保奏招安，最终宋江送别高俅。\n"
     ]
    },
    {
     "name": "stderr",
     "output_type": "stream",
     "text": [
      "Processing 水浒传:  70%|██████▉   | 755/1081 [54:45<24:11,  4.45s/it]"
     ]
    },
    {
     "name": "stdout",
     "output_type": "stream",
     "text": [
      "高太尉被迫接受宋江的招安请求，带萧让和乐和回京面见天子，宋江和吴用则等待招安消息，同时派人进京探听情况，以防高太尉不履行承诺。\n"
     ]
    },
    {
     "name": "stderr",
     "output_type": "stream",
     "text": [
      "Processing 水浒传:  70%|██████▉   | 756/1081 [54:49<23:03,  4.26s/it]"
     ]
    },
    {
     "name": "stdout",
     "output_type": "stream",
     "text": [
      "燕青和戴宗前往东京，计划通过李师师和宿太尉的关系，为梁山泊争取招安的机会，途中遭遇城门盘查，但成功进入东京。\n"
     ]
    },
    {
     "name": "stderr",
     "output_type": "stream",
     "text": [
      "Processing 水浒传:  70%|███████   | 757/1081 [54:52<21:29,  3.98s/it]"
     ]
    },
    {
     "name": "stdout",
     "output_type": "stream",
     "text": [
      "燕青和戴宗伪造公文进入开封府，燕青换装后前往李师师家，与李师师交谈并解释之前的误会。\n"
     ]
    },
    {
     "name": "stderr",
     "output_type": "stream",
     "text": [
      "Processing 水浒传:  70%|███████   | 758/1081 [54:56<20:56,  3.89s/it]"
     ]
    },
    {
     "name": "stdout",
     "output_type": "stream",
     "text": [
      "燕青向李师师坦白身份，解释梁山好汉来访目的，希望得到招安，避免百姓受苦，并赠送金珠宝贝以示诚意。\n"
     ]
    },
    {
     "name": "stderr",
     "output_type": "stream",
     "text": [
      "Processing 水浒传:  70%|███████   | 759/1081 [55:00<21:10,  3.94s/it]"
     ]
    },
    {
     "name": "stdout",
     "output_type": "stream",
     "text": [
      "燕青在李师师家中被迫饮酒，李师师对其产生好感，试图通过音乐和言语撩拨燕青，最终燕青展示纹身，李师师对其更加倾心。\n"
     ]
    },
    {
     "name": "stderr",
     "output_type": "stream",
     "text": [
      "Processing 水浒传:  70%|███████   | 760/1081 [55:04<21:37,  4.04s/it]"
     ]
    },
    {
     "name": "stdout",
     "output_type": "stream",
     "text": [
      "燕青为避免李师师的纠缠，提出拜她为姊姊，并拜李妈妈为干娘，以此保持距离。后燕青利用与李师师的关系，成功见到皇帝并请求赦免罪行。\n"
     ]
    },
    {
     "name": "stderr",
     "output_type": "stream",
     "text": [
      "Processing 水浒传:  70%|███████   | 761/1081 [55:09<21:57,  4.12s/it]"
     ]
    },
    {
     "name": "stdout",
     "output_type": "stream",
     "text": [
      "李师师向天子推荐其流落外方的表弟燕青，燕青在宴会上表演并请求天子赦免其因曾被梁山泊掳去的罪名，天子最终同意并亲书赦书。\n"
     ]
    },
    {
     "name": "stderr",
     "output_type": "stream",
     "text": [
      "Processing 水浒传:  70%|███████   | 762/1081 [55:12<21:24,  4.03s/it]"
     ]
    },
    {
     "name": "stdout",
     "output_type": "stream",
     "text": [
      "天子在李师师的劝说下，为燕青写下免罪御书，并询问梁山泊情况，燕青详细奏报，天子得知真相后感叹奸臣闭塞贤路。\n"
     ]
    },
    {
     "name": "stderr",
     "output_type": "stream",
     "text": [
      "Processing 水浒传:  71%|███████   | 763/1081 [55:16<20:26,  3.86s/it]"
     ]
    },
    {
     "name": "stdout",
     "output_type": "stream",
     "text": [
      "燕青向宿太尉呈递闻参谋的书信，请求天子招安梁山泊，宿太尉收下礼物并表示会考虑此事。\n"
     ]
    },
    {
     "name": "stderr",
     "output_type": "stream",
     "text": [
      "Processing 水浒传:  71%|███████   | 764/1081 [55:20<20:40,  3.91s/it]"
     ]
    },
    {
     "name": "stdout",
     "output_type": "stream",
     "text": [
      "燕青和戴宗伪装成山人，用金银贿赂高太尉府中的虞候，成功安排与被囚的乐和见面，并计划夜晚通过绳索帮助乐和逃出。\n"
     ]
    },
    {
     "name": "stderr",
     "output_type": "stream",
     "text": [
      "Processing 水浒传:  71%|███████   | 765/1081 [55:24<20:59,  3.99s/it]"
     ]
    },
    {
     "name": "stdout",
     "output_type": "stream",
     "text": [
      "燕青、戴宗、萧让、乐和四人设计逃离高太尉府，返回梁山泊报信，而高俅发现二人失踪后忧闷不已。\n"
     ]
    },
    {
     "name": "stderr",
     "output_type": "stream",
     "text": [
      "Processing 水浒传:  71%|███████   | 766/1081 [55:29<22:36,  4.31s/it]"
     ]
    },
    {
     "name": "stdout",
     "output_type": "stream",
     "text": [
      "天子因不满童贯和高俅的失败，决定招安宋江等人，派遣宿元景持御笔亲书丹诏及金银牌面等前往梁山泊招抚，宋江等人得知消息后准备迎接招安。\n"
     ]
    },
    {
     "name": "stderr",
     "output_type": "stream",
     "text": [
      "Processing 水浒传:  71%|███████   | 767/1081 [55:33<21:32,  4.12s/it]"
     ]
    },
    {
     "name": "stdout",
     "output_type": "stream",
     "text": [
      "朝廷派遣宿太尉携带诏书、金银牌面、锦段等礼物前往梁山泊招安宋江等人，宋江得知后大喜，积极准备迎接。\n"
     ]
    },
    {
     "name": "stderr",
     "output_type": "stream",
     "text": [
      "Processing 水浒传:  71%|███████   | 768/1081 [55:38<22:56,  4.40s/it]"
     ]
    },
    {
     "name": "stdout",
     "output_type": "stream",
     "text": [
      "宋江派吴用等四人随张叔夜前往济州参见宿太尉，宿太尉带来天子御笔亲书丹诏及金银牌面等招安礼物，宋江及众头领在梁山泊迎接宿太尉，表达感激之情。\n"
     ]
    },
    {
     "name": "stderr",
     "output_type": "stream",
     "text": [
      "Processing 水浒传:  71%|███████   | 769/1081 [55:42<23:08,  4.45s/it]"
     ]
    },
    {
     "name": "stdout",
     "output_type": "stream",
     "text": [
      "宋江、卢俊义等梁山好汉因忠义被皇帝赦免罪行，并赐予金银牌面和锦段，皇帝特使宿太尉亲自到梁山宣读诏书，并赐御酒以示恩典。\n"
     ]
    },
    {
     "name": "stderr",
     "output_type": "stream",
     "text": [
      "Processing 水浒传:  71%|███████   | 770/1081 [55:47<22:47,  4.40s/it]"
     ]
    },
    {
     "name": "stdout",
     "output_type": "stream",
     "text": [
      "天子责备童枢密和高太尉无功，亲书丹诏派遣宿太尉前往大寨邀请众头领朝京，宋江等热情接待宿太尉并最终送其回京。\n"
     ]
    },
    {
     "name": "stderr",
     "output_type": "stream",
     "text": [
      "Processing 水浒传:  71%|███████▏  | 771/1081 [55:51<22:48,  4.42s/it]"
     ]
    },
    {
     "name": "stdout",
     "output_type": "stream",
     "text": [
      "宋江决定接受朝廷招安，计划买市十日以准备朝京，同时宣布愿意跟随的部下可一同前往，不愿者可离队。随后，宋江发布告示，邀请四方百姓参与买市，以示感谢和告别。\n"
     ]
    },
    {
     "name": "stderr",
     "output_type": "stream",
     "text": [
      "Processing 水浒传:  71%|███████▏  | 772/1081 [55:55<21:54,  4.25s/it]"
     ]
    },
    {
     "name": "stdout",
     "output_type": "stream",
     "text": [
      "宋江在山寨分发财物并举行买市十日，随后带领众军马朝京，天子得知后大喜，安排宋江等人在京师展示军威，以示归降诚意。\n"
     ]
    },
    {
     "name": "stderr",
     "output_type": "stream",
     "text": [
      "Processing 水浒传:  72%|███████▏  | 773/1081 [55:59<21:35,  4.21s/it]"
     ]
    },
    {
     "name": "stdout",
     "output_type": "stream",
     "text": [
      "宋江等英雄好汉被赐锦袍，武装整齐，从东华门入城，受到百姓热烈欢迎，天子和百官在宣德楼上观看，场面壮观，展示了英雄们的威仪和军容。\n"
     ]
    },
    {
     "name": "stderr",
     "output_type": "stream",
     "text": [
      "Processing 水浒传:  72%|███████▏  | 774/1081 [56:03<20:26,  3.99s/it]"
     ]
    },
    {
     "name": "stdout",
     "output_type": "stream",
     "text": [
      "梁山泊好汉宋江等受到皇帝赏识，换上御赐锦袍，参加盛大宴会，皇帝亲自陪宴，赞扬他们是真英雄。\n"
     ]
    },
    {
     "name": "stderr",
     "output_type": "stream",
     "text": [
      "Processing 水浒传:  72%|███████▏  | 775/1081 [56:08<22:31,  4.42s/it]"
     ]
    },
    {
     "name": "stdout",
     "output_type": "stream",
     "text": [
      "描述了一场盛大的宴会，有五种角色引领众多舞者和乐工表演杂剧，包括“太平年万国来朝”和“玄宗梦游广寒殿”等剧目，歌舞吹弹，场面壮观，天子欲加官爵给宋江等人，但枢密院建议待其建功后再行封赏。\n"
     ]
    },
    {
     "name": "stderr",
     "output_type": "stream",
     "text": [
      "Processing 水浒传:  72%|███████▏  | 776/1081 [56:12<22:19,  4.39s/it]"
     ]
    },
    {
     "name": "stdout",
     "output_type": "stream",
     "text": [
      "宋江等投降朝廷后，天子欲分散其军马，众头领不愿分离，威胁重回梁山。朝廷内部有提议剿除宋江一伙，但被宿元景阻止，同时辽国入侵，朝廷内外交困。\n"
     ]
    },
    {
     "name": "stderr",
     "output_type": "stream",
     "text": [
      "Processing 水浒传:  72%|███████▏  | 777/1081 [56:18<24:01,  4.74s/it]"
     ]
    },
    {
     "name": "stdout",
     "output_type": "stream",
     "text": [
      "宿太尉建议天子派遣宋江及其部下征讨辽贼，天子同意并任命宋江为破辽都先锋，赐予金银彩段奖励。宋江请求宽限时间处理梁山泊事务后，率部分人马回山，处理完家眷和晁天王灵位后，准备全力报国。\n"
     ]
    },
    {
     "name": "stderr",
     "output_type": "stream",
     "text": [
      "Processing 水浒传:  72%|███████▏  | 778/1081 [56:25<27:10,  5.38s/it]"
     ]
    },
    {
     "name": "stdout",
     "output_type": "stream",
     "text": [
      "宋江等梁山好汉接受朝廷招安后，整理船只、拆除山寨，返回东京。天子赐酒并命令宋江征讨辽国，宋江感激并誓言尽忠。天子又赐予宋江宝刀、马匹和弓箭，宋江带回军营准备出征。天子命令官员在陈桥驿犒劳三军，但中书省派出的官员贪污酒肉，引起不满。\n"
     ]
    },
    {
     "name": "stderr",
     "output_type": "stream",
     "text": [
      "Processing 水浒传:  72%|███████▏  | 779/1081 [56:30<27:35,  5.48s/it]"
     ]
    },
    {
     "name": "stdout",
     "output_type": "stream",
     "text": [
      "军校因不满厢官克扣皇帝赐予的酒肉，愤怒之下将其杀死，宋江得知后与吴用商议对策，决定先斩军校并上报省院，同时派人向宿太尉求助以避免谗害。\n"
     ]
    },
    {
     "name": "stderr",
     "output_type": "stream",
     "text": [
      "Processing 水浒传:  72%|███████▏  | 780/1081 [56:35<26:25,  5.27s/it]"
     ]
    },
    {
     "name": "stdout",
     "output_type": "stream",
     "text": [
      "宋江处决了犯错的军校，并向天子报告，天子决定暂不追究宋江责任，催促其出征辽国。宋江与吴用商议战略后，率军向北进发，准备攻打辽国城池。\n"
     ]
    },
    {
     "name": "stderr",
     "output_type": "stream",
     "text": [
      "Processing 水浒传:  72%|███████▏  | 781/1081 [56:40<25:35,  5.12s/it]"
     ]
    },
    {
     "name": "stdout",
     "output_type": "stream",
     "text": [
      "宋江调集水陆军队，准备攻打檀州。檀州守将阿里奇和楚明玉出城迎战，关胜作为先锋进攻密云县。阿里奇轻视宋江，与徐宁交战，徐宁不敌撤退。\n"
     ]
    },
    {
     "name": "stderr",
     "output_type": "stream",
     "text": [
      "Processing 水浒传:  72%|███████▏  | 782/1081 [56:44<24:04,  4.83s/it]"
     ]
    },
    {
     "name": "stdout",
     "output_type": "stream",
     "text": [
      "张清用石子击中番将阿里奇的左眼，导致其落马被俘，宋江军趁机攻占密云县，并在后续战斗中继续围攻檀州，但未能立即攻破。\n"
     ]
    },
    {
     "name": "stderr",
     "output_type": "stream",
     "text": [
      "Processing 水浒传:  72%|███████▏  | 783/1081 [56:50<25:08,  5.06s/it]"
     ]
    },
    {
     "name": "stdout",
     "output_type": "stream",
     "text": [
      "宋江指挥梁山泊军队准备攻打檀州，计划利用伪装成运粮船的船只引诱城中守军开水门，以便伏兵夺取水门。同时，辽国派遣耶律国珍和国宝两位皇侄率军救援檀州，与宋江的将领董平等展开激战，双方战斗激烈，难分胜负。\n"
     ]
    },
    {
     "name": "stderr",
     "output_type": "stream",
     "text": [
      "Processing 水浒传:  73%|███████▎  | 784/1081 [56:54<23:33,  4.76s/it]"
     ]
    },
    {
     "name": "stdout",
     "output_type": "stream",
     "text": [
      "耶律国珍被董平击败，耶律国宝被张清用石子击落马下，宋军趁机大败辽兵，随后宋江部署多路军马准备攻取檀州。\n"
     ]
    },
    {
     "name": "stderr",
     "output_type": "stream",
     "text": [
      "Processing 水浒传:  73%|███████▎  | 785/1081 [56:58<22:12,  4.50s/it]"
     ]
    },
    {
     "name": "stdout",
     "output_type": "stream",
     "text": [
      "宋江军队利用夜袭和精心策划的战术，成功夺取了辽军的水门，并在城内放火，最终迫使辽军将领逃离，取得了战斗的胜利。\n"
     ]
    },
    {
     "name": "stderr",
     "output_type": "stream",
     "text": [
      "Processing 水浒传:  73%|███████▎  | 786/1081 [57:02<21:54,  4.46s/it]"
     ]
    },
    {
     "name": "stdout",
     "output_type": "stream",
     "text": [
      "宋江攻占檀州后，安抚百姓并赏赐三军，朝廷派赵安抚监督战事，宋江计划攻取辽国其他州郡，而洞仙侍郎等败将投奔蓟州寻求援助。\n"
     ]
    },
    {
     "name": "stderr",
     "output_type": "stream",
     "text": [
      "Processing 水浒传:  73%|███████▎  | 787/1081 [57:08<24:36,  5.02s/it]"
     ]
    },
    {
     "name": "stdout",
     "output_type": "stream",
     "text": [
      "宋江兵分两路攻打蓟州，一路至平峪县，一路至玉田县。辽国御弟大王耶律得重率军防守，亲自领兵前往玉田县迎战。卢俊义与朱武商议后，摆出长蛇阵应对辽兵。耶律得重在玉田县布下五虎靠山阵，朱武则摆出鲲化为鹏阵以应对。\n"
     ]
    },
    {
     "name": "stderr",
     "output_type": "stream",
     "text": [
      "Processing 水浒传:  73%|███████▎  | 788/1081 [57:13<23:40,  4.85s/it]"
     ]
    },
    {
     "name": "stdout",
     "output_type": "stream",
     "text": [
      "卢俊义与朱武讨论“鲲化为鹏”阵法，随后对阵敌军，关胜等将领与敌将激烈交战，张清尝试用飞石攻击但被天山勇射中咽喉，董平、史进等紧急救援。\n"
     ]
    },
    {
     "name": "stderr",
     "output_type": "stream",
     "text": [
      "Processing 水浒传:  73%|███████▎  | 789/1081 [57:16<21:50,  4.49s/it]"
     ]
    },
    {
     "name": "stdout",
     "output_type": "stream",
     "text": [
      "卢俊义在战斗中箭射张清，随后力战四将并杀一将，夜晚与呼延灼、关胜等宋军将领会合，共同商讨对策。\n"
     ]
    },
    {
     "name": "stderr",
     "output_type": "stream",
     "text": [
      "Processing 水浒传:  73%|███████▎  | 790/1081 [57:21<21:58,  4.53s/it]"
     ]
    },
    {
     "name": "stdout",
     "output_type": "stream",
     "text": [
      "卢俊义与宋江合兵，在玉田县遭遇辽兵围攻，经过激战后，宋江军马及时赶到，内外夹击，大败辽兵，最终两军会师，商讨攻打蓟州。\n"
     ]
    },
    {
     "name": "stderr",
     "output_type": "stream",
     "text": [
      "Processing 水浒传:  73%|███████▎  | 791/1081 [57:27<23:56,  4.95s/it]"
     ]
    },
    {
     "name": "stdout",
     "output_type": "stream",
     "text": [
      "宋江和卢俊义分兵两路攻打蓟州，宋江军取平峪县，卢俊义军取玉田县。同时，宋江关心军士健康，派人前往东京购买药物，并计划利用公孙胜、杨雄、石秀和时迁的本地关系，混入败军中潜入蓟州城内。\n"
     ]
    },
    {
     "name": "stderr",
     "output_type": "stream",
     "text": [
      "Processing 水浒传:  73%|███████▎  | 792/1081 [57:33<25:02,  5.20s/it]"
     ]
    },
    {
     "name": "stdout",
     "output_type": "stream",
     "text": [
      "时迁和石秀计划在蓟州城宝严寺塔顶放火为号，配合宋江军马攻城。宋江与卢俊义合兵攻打蓟州，林冲和徐宁分别击败番将宝密圣和天山勇，宋江军取得初步胜利。\n"
     ]
    },
    {
     "name": "stderr",
     "output_type": "stream",
     "text": [
      "Processing 水浒传:  73%|███████▎  | 793/1081 [57:38<24:20,  5.07s/it]"
     ]
    },
    {
     "name": "stdout",
     "output_type": "stream",
     "text": [
      "宋江军马击败辽兵，直抵蓟州城下，索超和史进分别击杀辽将，宋江命令四面攻城，石秀和时迁在城内放火配合攻城，最终迫使辽军紧闭城门求救。\n"
     ]
    },
    {
     "name": "stderr",
     "output_type": "stream",
     "text": [
      "Processing 水浒传:  73%|███████▎  | 794/1081 [57:42<23:43,  4.96s/it]"
     ]
    },
    {
     "name": "stdout",
     "output_type": "stream",
     "text": [
      "时迁和石秀在城中放火制造混乱，宋江趁机攻入蓟州，成功占领后安抚百姓并驻军。辽国御弟大王和洞仙侍郎逃回幽州，向辽国狼主报告战败情况。\n"
     ]
    },
    {
     "name": "stderr",
     "output_type": "stream",
     "text": [
      "Processing 水浒传:  74%|███████▎  | 795/1081 [57:46<21:58,  4.61s/it]"
     ]
    },
    {
     "name": "stdout",
     "output_type": "stream",
     "text": [
      "大辽国狼主得知宋江领导的梁山泊好汉攻陷蓟州，考虑通过封官赐爵的方式招安宋江，以利用其力量对抗宋朝。\n"
     ]
    },
    {
     "name": "stderr",
     "output_type": "stream",
     "text": [
      "Processing 水浒传:  74%|███████▎  | 796/1081 [57:51<22:05,  4.65s/it]"
     ]
    },
    {
     "name": "stdout",
     "output_type": "stream",
     "text": [
      "辽国第一员上将兀颜光劝谏辽主未果，欧阳侍郎携礼物至蓟州欲招安宋江，宋江与吴用商议后决定将计就计，接受招安，并计划进一步夺取辽国城池。\n"
     ]
    },
    {
     "name": "stderr",
     "output_type": "stream",
     "text": [
      "Processing 水浒传:  74%|███████▎  | 797/1081 [57:55<21:56,  4.64s/it]"
     ]
    },
    {
     "name": "stdout",
     "output_type": "stream",
     "text": [
      "辽国派遣欧阳侍郎劝说宋江投降并封其为辽邦镇国大将军，宋江犹豫未决，与吴用商议后，吴用认为投降辽国或许更有利，但担心违背宋江的忠义之心。\n"
     ]
    },
    {
     "name": "stderr",
     "output_type": "stream",
     "text": [
      "Processing 水浒传:  74%|███████▍  | 798/1081 [57:59<20:09,  4.27s/it]"
     ]
    },
    {
     "name": "stdout",
     "output_type": "stream",
     "text": [
      "宋江与吴用商议后决定暂停军事行动以避暑，后与公孙胜前往参拜其师罗真人，并探望公孙胜的母亲。\n"
     ]
    },
    {
     "name": "stderr",
     "output_type": "stream",
     "text": [
      "Processing 水浒传:  74%|███████▍  | 799/1081 [58:02<19:08,  4.07s/it]"
     ]
    },
    {
     "name": "stdout",
     "output_type": "stream",
     "text": [
      "宋江受招安后，率军前往蓟州参拜罗真人，请求指点前程。罗真人接待宋江，并留他宿夜，讨论忠诚与未来。\n"
     ]
    },
    {
     "name": "stderr",
     "output_type": "stream",
     "text": [
      "Processing 水浒传:  74%|███████▍  | 800/1081 [58:08<21:26,  4.58s/it]"
     ]
    },
    {
     "name": "stdout",
     "output_type": "stream",
     "text": [
      "宋江向罗真人求问命运，罗真人预言宋江虽能善终，但一生多磨难，应适时退步，并赠予八句法语。宋江不解其意，罗真人表示此乃天机，未来自会明了。次日，罗真人允许公孙胜随宋江出征，并嘱咐宋江保重。\n"
     ]
    },
    {
     "name": "stderr",
     "output_type": "stream",
     "text": [
      "Processing 水浒传:  74%|███████▍  | 800/1081 [58:09<20:25,  4.36s/it]\n"
     ]
    },
    {
     "ename": "KeyboardInterrupt",
     "evalue": "",
     "output_type": "error",
     "traceback": [
      "\u001b[1;31m---------------------------------------------------------------------------\u001b[0m",
      "\u001b[1;31mKeyboardInterrupt\u001b[0m                         Traceback (most recent call last)",
      "Cell \u001b[1;32mIn[22], line 34\u001b[0m\n\u001b[0;32m     32\u001b[0m \u001b[38;5;28mprint\u001b[39m(\u001b[38;5;28mlen\u001b[39m(paragraphs))\n\u001b[0;32m     33\u001b[0m \u001b[38;5;66;03m# 开始给段落打标签\u001b[39;00m\n\u001b[1;32m---> 34\u001b[0m dataset \u001b[38;5;241m=\u001b[39m \u001b[43mbuild_dataset\u001b[49m\u001b[43m(\u001b[49m\u001b[43mstory_name\u001b[49m\u001b[43m,\u001b[49m\u001b[43mparagraphs\u001b[49m\u001b[43m[\u001b[49m\u001b[43m:\u001b[49m\u001b[38;5;28;43mlen\u001b[39;49m\u001b[43m(\u001b[49m\u001b[43mparagraphs\u001b[49m\u001b[43m)\u001b[49m\u001b[43m]\u001b[49m\u001b[43m)\u001b[49m\n",
      "Cell \u001b[1;32mIn[14], line 8\u001b[0m, in \u001b[0;36mbuild_dataset\u001b[1;34m(novel, texts)\u001b[0m\n\u001b[0;32m      6\u001b[0m \u001b[38;5;28;01mfor\u001b[39;00m text \u001b[38;5;129;01min\u001b[39;00m tqdm(texts, desc\u001b[38;5;241m=\u001b[39m\u001b[38;5;124mf\u001b[39m\u001b[38;5;124m\"\u001b[39m\u001b[38;5;124mProcessing \u001b[39m\u001b[38;5;132;01m{\u001b[39;00mnovel\u001b[38;5;132;01m}\u001b[39;00m\u001b[38;5;124m\"\u001b[39m, total\u001b[38;5;241m=\u001b[39m\u001b[38;5;28mlen\u001b[39m(texts)):\n\u001b[0;32m      7\u001b[0m     \u001b[38;5;28;01mtry\u001b[39;00m:\n\u001b[1;32m----> 8\u001b[0m         summary \u001b[38;5;241m=\u001b[39m \u001b[43mget_summary_with_retry\u001b[49m\u001b[43m(\u001b[49m\u001b[43mtext\u001b[49m\u001b[43m)\u001b[49m\n\u001b[0;32m      9\u001b[0m         \u001b[38;5;28mprint\u001b[39m(summary)\n\u001b[0;32m     10\u001b[0m         dataset\u001b[38;5;241m.\u001b[39mappend({\n\u001b[0;32m     11\u001b[0m             \u001b[38;5;124m\"\u001b[39m\u001b[38;5;124minstruction\u001b[39m\u001b[38;5;124m\"\u001b[39m: instruction_prompt,\n\u001b[0;32m     12\u001b[0m             \u001b[38;5;124m\"\u001b[39m\u001b[38;5;124minput\u001b[39m\u001b[38;5;124m\"\u001b[39m: summary,\n\u001b[0;32m     13\u001b[0m             \u001b[38;5;124m\"\u001b[39m\u001b[38;5;124moutput\u001b[39m\u001b[38;5;124m\"\u001b[39m: text\n\u001b[0;32m     14\u001b[0m         })\n",
      "Cell \u001b[1;32mIn[12], line 8\u001b[0m, in \u001b[0;36mget_summary_with_retry\u001b[1;34m(text)\u001b[0m\n\u001b[0;32m      6\u001b[0m \u001b[38;5;28;01mwhile\u001b[39;00m attempts \u001b[38;5;241m<\u001b[39m max_retries:\n\u001b[0;32m      7\u001b[0m     \u001b[38;5;28;01mtry\u001b[39;00m:\n\u001b[1;32m----> 8\u001b[0m         \u001b[38;5;28;01mreturn\u001b[39;00m \u001b[43mget_response\u001b[49m\u001b[43m(\u001b[49m\u001b[43mtext\u001b[49m\u001b[43m)\u001b[49m\n\u001b[0;32m      9\u001b[0m     \u001b[38;5;28;01mexcept\u001b[39;00m \u001b[38;5;167;01mException\u001b[39;00m \u001b[38;5;28;01mas\u001b[39;00m e:\n\u001b[0;32m     10\u001b[0m         attempts \u001b[38;5;241m+\u001b[39m\u001b[38;5;241m=\u001b[39m \u001b[38;5;241m1\u001b[39m\n",
      "Cell \u001b[1;32mIn[11], line 3\u001b[0m, in \u001b[0;36mget_response\u001b[1;34m(text)\u001b[0m\n\u001b[0;32m      2\u001b[0m \u001b[38;5;28;01mdef\u001b[39;00m \u001b[38;5;21mget_response\u001b[39m(text):\n\u001b[1;32m----> 3\u001b[0m     client \u001b[38;5;241m=\u001b[39m \u001b[43mOpenAI\u001b[49m\u001b[43m(\u001b[49m\n\u001b[0;32m      4\u001b[0m \u001b[43m        \u001b[49m\u001b[43mapi_key\u001b[49m\u001b[38;5;241;43m=\u001b[39;49m\u001b[43mDEEPSEEK_API_KEY\u001b[49m\u001b[43m,\u001b[49m\u001b[43m  \u001b[49m\u001b[38;5;66;43;03m# 如果您没有配置环境变量，请在此处用您的API Key进行替换\u001b[39;49;00m\n\u001b[0;32m      5\u001b[0m \u001b[43m        \u001b[49m\u001b[43mbase_url\u001b[49m\u001b[38;5;241;43m=\u001b[39;49m\u001b[38;5;124;43m\"\u001b[39;49m\u001b[38;5;124;43mhttps://api.deepseek.com\u001b[39;49m\u001b[38;5;124;43m\"\u001b[39;49m\u001b[43m,\u001b[49m\u001b[43m  \u001b[49m\u001b[38;5;66;43;03m# 填写DashScope SDK的base_url\u001b[39;49;00m\n\u001b[0;32m      6\u001b[0m \u001b[43m    \u001b[49m\u001b[43m)\u001b[49m\n\u001b[0;32m      7\u001b[0m     completion \u001b[38;5;241m=\u001b[39m client\u001b[38;5;241m.\u001b[39mchat\u001b[38;5;241m.\u001b[39mcompletions\u001b[38;5;241m.\u001b[39mcreate(\n\u001b[0;32m      8\u001b[0m         model\u001b[38;5;241m=\u001b[39m\u001b[38;5;124m\"\u001b[39m\u001b[38;5;124mdeepseek-chat\u001b[39m\u001b[38;5;124m\"\u001b[39m,\n\u001b[0;32m      9\u001b[0m         messages\u001b[38;5;241m=\u001b[39m[\n\u001b[1;32m   (...)\u001b[0m\n\u001b[0;32m     17\u001b[0m             }\n\u001b[0;32m     18\u001b[0m         ])\n\u001b[0;32m     20\u001b[0m     \u001b[38;5;28;01mreturn\u001b[39;00m completion\u001b[38;5;241m.\u001b[39mchoices[\u001b[38;5;241m0\u001b[39m]\u001b[38;5;241m.\u001b[39mmessage\u001b[38;5;241m.\u001b[39mcontent\n",
      "File \u001b[1;32mc:\\Users\\Administrator\\anaconda3\\envs\\langchain\\lib\\site-packages\\openai\\_client.py:112\u001b[0m, in \u001b[0;36mOpenAI.__init__\u001b[1;34m(self, api_key, organization, base_url, timeout, max_retries, default_headers, default_query, http_client, _strict_response_validation)\u001b[0m\n\u001b[0;32m    109\u001b[0m \u001b[38;5;28;01mif\u001b[39;00m base_url \u001b[38;5;129;01mis\u001b[39;00m \u001b[38;5;28;01mNone\u001b[39;00m:\n\u001b[0;32m    110\u001b[0m     base_url \u001b[38;5;241m=\u001b[39m \u001b[38;5;124mf\u001b[39m\u001b[38;5;124m\"\u001b[39m\u001b[38;5;124mhttps://api.openai.com/v1\u001b[39m\u001b[38;5;124m\"\u001b[39m\n\u001b[1;32m--> 112\u001b[0m \u001b[38;5;28;43msuper\u001b[39;49m\u001b[43m(\u001b[49m\u001b[43m)\u001b[49m\u001b[38;5;241;43m.\u001b[39;49m\u001b[38;5;21;43m__init__\u001b[39;49m\u001b[43m(\u001b[49m\n\u001b[0;32m    113\u001b[0m \u001b[43m    \u001b[49m\u001b[43mversion\u001b[49m\u001b[38;5;241;43m=\u001b[39;49m\u001b[43m__version__\u001b[49m\u001b[43m,\u001b[49m\n\u001b[0;32m    114\u001b[0m \u001b[43m    \u001b[49m\u001b[43mbase_url\u001b[49m\u001b[38;5;241;43m=\u001b[39;49m\u001b[43mbase_url\u001b[49m\u001b[43m,\u001b[49m\n\u001b[0;32m    115\u001b[0m \u001b[43m    \u001b[49m\u001b[43mmax_retries\u001b[49m\u001b[38;5;241;43m=\u001b[39;49m\u001b[43mmax_retries\u001b[49m\u001b[43m,\u001b[49m\n\u001b[0;32m    116\u001b[0m \u001b[43m    \u001b[49m\u001b[43mtimeout\u001b[49m\u001b[38;5;241;43m=\u001b[39;49m\u001b[43mtimeout\u001b[49m\u001b[43m,\u001b[49m\n\u001b[0;32m    117\u001b[0m \u001b[43m    \u001b[49m\u001b[43mhttp_client\u001b[49m\u001b[38;5;241;43m=\u001b[39;49m\u001b[43mhttp_client\u001b[49m\u001b[43m,\u001b[49m\n\u001b[0;32m    118\u001b[0m \u001b[43m    \u001b[49m\u001b[43mcustom_headers\u001b[49m\u001b[38;5;241;43m=\u001b[39;49m\u001b[43mdefault_headers\u001b[49m\u001b[43m,\u001b[49m\n\u001b[0;32m    119\u001b[0m \u001b[43m    \u001b[49m\u001b[43mcustom_query\u001b[49m\u001b[38;5;241;43m=\u001b[39;49m\u001b[43mdefault_query\u001b[49m\u001b[43m,\u001b[49m\n\u001b[0;32m    120\u001b[0m \u001b[43m    \u001b[49m\u001b[43m_strict_response_validation\u001b[49m\u001b[38;5;241;43m=\u001b[39;49m\u001b[43m_strict_response_validation\u001b[49m\u001b[43m,\u001b[49m\n\u001b[0;32m    121\u001b[0m \u001b[43m\u001b[49m\u001b[43m)\u001b[49m\n\u001b[0;32m    123\u001b[0m \u001b[38;5;28mself\u001b[39m\u001b[38;5;241m.\u001b[39m_default_stream_cls \u001b[38;5;241m=\u001b[39m Stream\n\u001b[0;32m    125\u001b[0m \u001b[38;5;28mself\u001b[39m\u001b[38;5;241m.\u001b[39mcompletions \u001b[38;5;241m=\u001b[39m resources\u001b[38;5;241m.\u001b[39mCompletions(\u001b[38;5;28mself\u001b[39m)\n",
      "File \u001b[1;32mc:\\Users\\Administrator\\anaconda3\\envs\\langchain\\lib\\site-packages\\openai\\_base_client.py:793\u001b[0m, in \u001b[0;36mSyncAPIClient.__init__\u001b[1;34m(self, version, base_url, max_retries, timeout, transport, proxies, limits, http_client, custom_headers, custom_query, _strict_response_validation)\u001b[0m\n\u001b[0;32m    778\u001b[0m         timeout \u001b[38;5;241m=\u001b[39m DEFAULT_TIMEOUT\n\u001b[0;32m    780\u001b[0m \u001b[38;5;28msuper\u001b[39m()\u001b[38;5;241m.\u001b[39m\u001b[38;5;21m__init__\u001b[39m(\n\u001b[0;32m    781\u001b[0m     version\u001b[38;5;241m=\u001b[39mversion,\n\u001b[0;32m    782\u001b[0m     limits\u001b[38;5;241m=\u001b[39mlimits,\n\u001b[1;32m   (...)\u001b[0m\n\u001b[0;32m    791\u001b[0m     _strict_response_validation\u001b[38;5;241m=\u001b[39m_strict_response_validation,\n\u001b[0;32m    792\u001b[0m )\n\u001b[1;32m--> 793\u001b[0m \u001b[38;5;28mself\u001b[39m\u001b[38;5;241m.\u001b[39m_client \u001b[38;5;241m=\u001b[39m http_client \u001b[38;5;129;01mor\u001b[39;00m \u001b[43mSyncHttpxClientWrapper\u001b[49m\u001b[43m(\u001b[49m\n\u001b[0;32m    794\u001b[0m \u001b[43m    \u001b[49m\u001b[43mbase_url\u001b[49m\u001b[38;5;241;43m=\u001b[39;49m\u001b[43mbase_url\u001b[49m\u001b[43m,\u001b[49m\n\u001b[0;32m    795\u001b[0m \u001b[43m    \u001b[49m\u001b[38;5;66;43;03m# cast to a valid type because mypy doesn't understand our type narrowing\u001b[39;49;00m\n\u001b[0;32m    796\u001b[0m \u001b[43m    \u001b[49m\u001b[43mtimeout\u001b[49m\u001b[38;5;241;43m=\u001b[39;49m\u001b[43mcast\u001b[49m\u001b[43m(\u001b[49m\u001b[43mTimeout\u001b[49m\u001b[43m,\u001b[49m\u001b[43m \u001b[49m\u001b[43mtimeout\u001b[49m\u001b[43m)\u001b[49m\u001b[43m,\u001b[49m\n\u001b[0;32m    797\u001b[0m \u001b[43m    \u001b[49m\u001b[43mproxies\u001b[49m\u001b[38;5;241;43m=\u001b[39;49m\u001b[43mproxies\u001b[49m\u001b[43m,\u001b[49m\n\u001b[0;32m    798\u001b[0m \u001b[43m    \u001b[49m\u001b[43mtransport\u001b[49m\u001b[38;5;241;43m=\u001b[39;49m\u001b[43mtransport\u001b[49m\u001b[43m,\u001b[49m\n\u001b[0;32m    799\u001b[0m \u001b[43m    \u001b[49m\u001b[43mlimits\u001b[49m\u001b[38;5;241;43m=\u001b[39;49m\u001b[43mlimits\u001b[49m\u001b[43m,\u001b[49m\n\u001b[0;32m    800\u001b[0m \u001b[43m    \u001b[49m\u001b[43mfollow_redirects\u001b[49m\u001b[38;5;241;43m=\u001b[39;49m\u001b[38;5;28;43;01mTrue\u001b[39;49;00m\u001b[43m,\u001b[49m\n\u001b[0;32m    801\u001b[0m \u001b[43m\u001b[49m\u001b[43m)\u001b[49m\n",
      "File \u001b[1;32mc:\\Users\\Administrator\\anaconda3\\envs\\langchain\\lib\\site-packages\\httpx\\_client.py:685\u001b[0m, in \u001b[0;36mClient.__init__\u001b[1;34m(self, auth, params, headers, cookies, verify, cert, http1, http2, proxy, proxies, mounts, timeout, follow_redirects, limits, max_redirects, event_hooks, base_url, transport, app, trust_env, default_encoding)\u001b[0m\n\u001b[0;32m    682\u001b[0m allow_env_proxies \u001b[38;5;241m=\u001b[39m trust_env \u001b[38;5;129;01mand\u001b[39;00m app \u001b[38;5;129;01mis\u001b[39;00m \u001b[38;5;28;01mNone\u001b[39;00m \u001b[38;5;129;01mand\u001b[39;00m transport \u001b[38;5;129;01mis\u001b[39;00m \u001b[38;5;28;01mNone\u001b[39;00m\n\u001b[0;32m    683\u001b[0m proxy_map \u001b[38;5;241m=\u001b[39m \u001b[38;5;28mself\u001b[39m\u001b[38;5;241m.\u001b[39m_get_proxy_map(proxies \u001b[38;5;129;01mor\u001b[39;00m proxy, allow_env_proxies)\n\u001b[1;32m--> 685\u001b[0m \u001b[38;5;28mself\u001b[39m\u001b[38;5;241m.\u001b[39m_transport \u001b[38;5;241m=\u001b[39m \u001b[38;5;28;43mself\u001b[39;49m\u001b[38;5;241;43m.\u001b[39;49m\u001b[43m_init_transport\u001b[49m\u001b[43m(\u001b[49m\n\u001b[0;32m    686\u001b[0m \u001b[43m    \u001b[49m\u001b[43mverify\u001b[49m\u001b[38;5;241;43m=\u001b[39;49m\u001b[43mverify\u001b[49m\u001b[43m,\u001b[49m\n\u001b[0;32m    687\u001b[0m \u001b[43m    \u001b[49m\u001b[43mcert\u001b[49m\u001b[38;5;241;43m=\u001b[39;49m\u001b[43mcert\u001b[49m\u001b[43m,\u001b[49m\n\u001b[0;32m    688\u001b[0m \u001b[43m    \u001b[49m\u001b[43mhttp1\u001b[49m\u001b[38;5;241;43m=\u001b[39;49m\u001b[43mhttp1\u001b[49m\u001b[43m,\u001b[49m\n\u001b[0;32m    689\u001b[0m \u001b[43m    \u001b[49m\u001b[43mhttp2\u001b[49m\u001b[38;5;241;43m=\u001b[39;49m\u001b[43mhttp2\u001b[49m\u001b[43m,\u001b[49m\n\u001b[0;32m    690\u001b[0m \u001b[43m    \u001b[49m\u001b[43mlimits\u001b[49m\u001b[38;5;241;43m=\u001b[39;49m\u001b[43mlimits\u001b[49m\u001b[43m,\u001b[49m\n\u001b[0;32m    691\u001b[0m \u001b[43m    \u001b[49m\u001b[43mtransport\u001b[49m\u001b[38;5;241;43m=\u001b[39;49m\u001b[43mtransport\u001b[49m\u001b[43m,\u001b[49m\n\u001b[0;32m    692\u001b[0m \u001b[43m    \u001b[49m\u001b[43mapp\u001b[49m\u001b[38;5;241;43m=\u001b[39;49m\u001b[43mapp\u001b[49m\u001b[43m,\u001b[49m\n\u001b[0;32m    693\u001b[0m \u001b[43m    \u001b[49m\u001b[43mtrust_env\u001b[49m\u001b[38;5;241;43m=\u001b[39;49m\u001b[43mtrust_env\u001b[49m\u001b[43m,\u001b[49m\n\u001b[0;32m    694\u001b[0m \u001b[43m\u001b[49m\u001b[43m)\u001b[49m\n\u001b[0;32m    695\u001b[0m \u001b[38;5;28mself\u001b[39m\u001b[38;5;241m.\u001b[39m_mounts: \u001b[38;5;28mdict\u001b[39m[URLPattern, BaseTransport \u001b[38;5;241m|\u001b[39m \u001b[38;5;28;01mNone\u001b[39;00m] \u001b[38;5;241m=\u001b[39m {\n\u001b[0;32m    696\u001b[0m     URLPattern(key): \u001b[38;5;28;01mNone\u001b[39;00m\n\u001b[0;32m    697\u001b[0m     \u001b[38;5;28;01mif\u001b[39;00m proxy \u001b[38;5;129;01mis\u001b[39;00m \u001b[38;5;28;01mNone\u001b[39;00m\n\u001b[1;32m   (...)\u001b[0m\n\u001b[0;32m    707\u001b[0m     \u001b[38;5;28;01mfor\u001b[39;00m key, proxy \u001b[38;5;129;01min\u001b[39;00m proxy_map\u001b[38;5;241m.\u001b[39mitems()\n\u001b[0;32m    708\u001b[0m }\n\u001b[0;32m    709\u001b[0m \u001b[38;5;28;01mif\u001b[39;00m mounts \u001b[38;5;129;01mis\u001b[39;00m \u001b[38;5;129;01mnot\u001b[39;00m \u001b[38;5;28;01mNone\u001b[39;00m:\n",
      "File \u001b[1;32mc:\\Users\\Administrator\\anaconda3\\envs\\langchain\\lib\\site-packages\\httpx\\_client.py:733\u001b[0m, in \u001b[0;36mClient._init_transport\u001b[1;34m(self, verify, cert, http1, http2, limits, transport, app, trust_env)\u001b[0m\n\u001b[0;32m    730\u001b[0m \u001b[38;5;28;01mif\u001b[39;00m app \u001b[38;5;129;01mis\u001b[39;00m \u001b[38;5;129;01mnot\u001b[39;00m \u001b[38;5;28;01mNone\u001b[39;00m:\n\u001b[0;32m    731\u001b[0m     \u001b[38;5;28;01mreturn\u001b[39;00m WSGITransport(app\u001b[38;5;241m=\u001b[39mapp)\n\u001b[1;32m--> 733\u001b[0m \u001b[38;5;28;01mreturn\u001b[39;00m \u001b[43mHTTPTransport\u001b[49m\u001b[43m(\u001b[49m\n\u001b[0;32m    734\u001b[0m \u001b[43m    \u001b[49m\u001b[43mverify\u001b[49m\u001b[38;5;241;43m=\u001b[39;49m\u001b[43mverify\u001b[49m\u001b[43m,\u001b[49m\n\u001b[0;32m    735\u001b[0m \u001b[43m    \u001b[49m\u001b[43mcert\u001b[49m\u001b[38;5;241;43m=\u001b[39;49m\u001b[43mcert\u001b[49m\u001b[43m,\u001b[49m\n\u001b[0;32m    736\u001b[0m \u001b[43m    \u001b[49m\u001b[43mhttp1\u001b[49m\u001b[38;5;241;43m=\u001b[39;49m\u001b[43mhttp1\u001b[49m\u001b[43m,\u001b[49m\n\u001b[0;32m    737\u001b[0m \u001b[43m    \u001b[49m\u001b[43mhttp2\u001b[49m\u001b[38;5;241;43m=\u001b[39;49m\u001b[43mhttp2\u001b[49m\u001b[43m,\u001b[49m\n\u001b[0;32m    738\u001b[0m \u001b[43m    \u001b[49m\u001b[43mlimits\u001b[49m\u001b[38;5;241;43m=\u001b[39;49m\u001b[43mlimits\u001b[49m\u001b[43m,\u001b[49m\n\u001b[0;32m    739\u001b[0m \u001b[43m    \u001b[49m\u001b[43mtrust_env\u001b[49m\u001b[38;5;241;43m=\u001b[39;49m\u001b[43mtrust_env\u001b[49m\u001b[43m,\u001b[49m\n\u001b[0;32m    740\u001b[0m \u001b[43m\u001b[49m\u001b[43m)\u001b[49m\n",
      "File \u001b[1;32mc:\\Users\\Administrator\\anaconda3\\envs\\langchain\\lib\\site-packages\\httpx\\_transports\\default.py:136\u001b[0m, in \u001b[0;36mHTTPTransport.__init__\u001b[1;34m(self, verify, cert, http1, http2, limits, trust_env, proxy, uds, local_address, retries, socket_options)\u001b[0m\n\u001b[0;32m    122\u001b[0m \u001b[38;5;28;01mdef\u001b[39;00m \u001b[38;5;21m__init__\u001b[39m(\n\u001b[0;32m    123\u001b[0m     \u001b[38;5;28mself\u001b[39m,\n\u001b[0;32m    124\u001b[0m     verify: VerifyTypes \u001b[38;5;241m=\u001b[39m \u001b[38;5;28;01mTrue\u001b[39;00m,\n\u001b[1;32m   (...)\u001b[0m\n\u001b[0;32m    134\u001b[0m     socket_options: typing\u001b[38;5;241m.\u001b[39mIterable[SOCKET_OPTION] \u001b[38;5;241m|\u001b[39m \u001b[38;5;28;01mNone\u001b[39;00m \u001b[38;5;241m=\u001b[39m \u001b[38;5;28;01mNone\u001b[39;00m,\n\u001b[0;32m    135\u001b[0m ) \u001b[38;5;241m-\u001b[39m\u001b[38;5;241m>\u001b[39m \u001b[38;5;28;01mNone\u001b[39;00m:\n\u001b[1;32m--> 136\u001b[0m     ssl_context \u001b[38;5;241m=\u001b[39m \u001b[43mcreate_ssl_context\u001b[49m\u001b[43m(\u001b[49m\u001b[43mverify\u001b[49m\u001b[38;5;241;43m=\u001b[39;49m\u001b[43mverify\u001b[49m\u001b[43m,\u001b[49m\u001b[43m \u001b[49m\u001b[43mcert\u001b[49m\u001b[38;5;241;43m=\u001b[39;49m\u001b[43mcert\u001b[49m\u001b[43m,\u001b[49m\u001b[43m \u001b[49m\u001b[43mtrust_env\u001b[49m\u001b[38;5;241;43m=\u001b[39;49m\u001b[43mtrust_env\u001b[49m\u001b[43m)\u001b[49m\n\u001b[0;32m    137\u001b[0m     proxy \u001b[38;5;241m=\u001b[39m Proxy(url\u001b[38;5;241m=\u001b[39mproxy) \u001b[38;5;28;01mif\u001b[39;00m \u001b[38;5;28misinstance\u001b[39m(proxy, (\u001b[38;5;28mstr\u001b[39m, URL)) \u001b[38;5;28;01melse\u001b[39;00m proxy\n\u001b[0;32m    139\u001b[0m     \u001b[38;5;28;01mif\u001b[39;00m proxy \u001b[38;5;129;01mis\u001b[39;00m \u001b[38;5;28;01mNone\u001b[39;00m:\n",
      "File \u001b[1;32mc:\\Users\\Administrator\\anaconda3\\envs\\langchain\\lib\\site-packages\\httpx\\_config.py:53\u001b[0m, in \u001b[0;36mcreate_ssl_context\u001b[1;34m(cert, verify, trust_env, http2)\u001b[0m\n\u001b[0;32m     47\u001b[0m \u001b[38;5;28;01mdef\u001b[39;00m \u001b[38;5;21mcreate_ssl_context\u001b[39m(\n\u001b[0;32m     48\u001b[0m     cert: CertTypes \u001b[38;5;241m|\u001b[39m \u001b[38;5;28;01mNone\u001b[39;00m \u001b[38;5;241m=\u001b[39m \u001b[38;5;28;01mNone\u001b[39;00m,\n\u001b[0;32m     49\u001b[0m     verify: VerifyTypes \u001b[38;5;241m=\u001b[39m \u001b[38;5;28;01mTrue\u001b[39;00m,\n\u001b[0;32m     50\u001b[0m     trust_env: \u001b[38;5;28mbool\u001b[39m \u001b[38;5;241m=\u001b[39m \u001b[38;5;28;01mTrue\u001b[39;00m,\n\u001b[0;32m     51\u001b[0m     http2: \u001b[38;5;28mbool\u001b[39m \u001b[38;5;241m=\u001b[39m \u001b[38;5;28;01mFalse\u001b[39;00m,\n\u001b[0;32m     52\u001b[0m ) \u001b[38;5;241m-\u001b[39m\u001b[38;5;241m>\u001b[39m ssl\u001b[38;5;241m.\u001b[39mSSLContext:\n\u001b[1;32m---> 53\u001b[0m     \u001b[38;5;28;01mreturn\u001b[39;00m \u001b[43mSSLConfig\u001b[49m\u001b[43m(\u001b[49m\n\u001b[0;32m     54\u001b[0m \u001b[43m        \u001b[49m\u001b[43mcert\u001b[49m\u001b[38;5;241;43m=\u001b[39;49m\u001b[43mcert\u001b[49m\u001b[43m,\u001b[49m\u001b[43m \u001b[49m\u001b[43mverify\u001b[49m\u001b[38;5;241;43m=\u001b[39;49m\u001b[43mverify\u001b[49m\u001b[43m,\u001b[49m\u001b[43m \u001b[49m\u001b[43mtrust_env\u001b[49m\u001b[38;5;241;43m=\u001b[39;49m\u001b[43mtrust_env\u001b[49m\u001b[43m,\u001b[49m\u001b[43m \u001b[49m\u001b[43mhttp2\u001b[49m\u001b[38;5;241;43m=\u001b[39;49m\u001b[43mhttp2\u001b[49m\n\u001b[0;32m     55\u001b[0m \u001b[43m    \u001b[49m\u001b[43m)\u001b[49m\u001b[38;5;241m.\u001b[39mssl_context\n",
      "File \u001b[1;32mc:\\Users\\Administrator\\anaconda3\\envs\\langchain\\lib\\site-packages\\httpx\\_config.py:77\u001b[0m, in \u001b[0;36mSSLConfig.__init__\u001b[1;34m(self, cert, verify, trust_env, http2)\u001b[0m\n\u001b[0;32m     75\u001b[0m \u001b[38;5;28mself\u001b[39m\u001b[38;5;241m.\u001b[39mtrust_env \u001b[38;5;241m=\u001b[39m trust_env\n\u001b[0;32m     76\u001b[0m \u001b[38;5;28mself\u001b[39m\u001b[38;5;241m.\u001b[39mhttp2 \u001b[38;5;241m=\u001b[39m http2\n\u001b[1;32m---> 77\u001b[0m \u001b[38;5;28mself\u001b[39m\u001b[38;5;241m.\u001b[39mssl_context \u001b[38;5;241m=\u001b[39m \u001b[38;5;28;43mself\u001b[39;49m\u001b[38;5;241;43m.\u001b[39;49m\u001b[43mload_ssl_context\u001b[49m\u001b[43m(\u001b[49m\u001b[43m)\u001b[49m\n",
      "File \u001b[1;32mc:\\Users\\Administrator\\anaconda3\\envs\\langchain\\lib\\site-packages\\httpx\\_config.py:89\u001b[0m, in \u001b[0;36mSSLConfig.load_ssl_context\u001b[1;34m(self)\u001b[0m\n\u001b[0;32m     80\u001b[0m logger\u001b[38;5;241m.\u001b[39mdebug(\n\u001b[0;32m     81\u001b[0m     \u001b[38;5;124m\"\u001b[39m\u001b[38;5;124mload_ssl_context verify=\u001b[39m\u001b[38;5;132;01m%r\u001b[39;00m\u001b[38;5;124m cert=\u001b[39m\u001b[38;5;132;01m%r\u001b[39;00m\u001b[38;5;124m trust_env=\u001b[39m\u001b[38;5;132;01m%r\u001b[39;00m\u001b[38;5;124m http2=\u001b[39m\u001b[38;5;132;01m%r\u001b[39;00m\u001b[38;5;124m\"\u001b[39m,\n\u001b[0;32m     82\u001b[0m     \u001b[38;5;28mself\u001b[39m\u001b[38;5;241m.\u001b[39mverify,\n\u001b[1;32m   (...)\u001b[0m\n\u001b[0;32m     85\u001b[0m     \u001b[38;5;28mself\u001b[39m\u001b[38;5;241m.\u001b[39mhttp2,\n\u001b[0;32m     86\u001b[0m )\n\u001b[0;32m     88\u001b[0m \u001b[38;5;28;01mif\u001b[39;00m \u001b[38;5;28mself\u001b[39m\u001b[38;5;241m.\u001b[39mverify:\n\u001b[1;32m---> 89\u001b[0m     \u001b[38;5;28;01mreturn\u001b[39;00m \u001b[38;5;28;43mself\u001b[39;49m\u001b[38;5;241;43m.\u001b[39;49m\u001b[43mload_ssl_context_verify\u001b[49m\u001b[43m(\u001b[49m\u001b[43m)\u001b[49m\n\u001b[0;32m     90\u001b[0m \u001b[38;5;28;01mreturn\u001b[39;00m \u001b[38;5;28mself\u001b[39m\u001b[38;5;241m.\u001b[39mload_ssl_context_no_verify()\n",
      "File \u001b[1;32mc:\\Users\\Administrator\\anaconda3\\envs\\langchain\\lib\\site-packages\\httpx\\_config.py:147\u001b[0m, in \u001b[0;36mSSLConfig.load_ssl_context_verify\u001b[1;34m(self)\u001b[0m\n\u001b[0;32m    145\u001b[0m     cafile \u001b[38;5;241m=\u001b[39m \u001b[38;5;28mstr\u001b[39m(ca_bundle_path)\n\u001b[0;32m    146\u001b[0m     logger\u001b[38;5;241m.\u001b[39mdebug(\u001b[38;5;124m\"\u001b[39m\u001b[38;5;124mload_verify_locations cafile=\u001b[39m\u001b[38;5;132;01m%r\u001b[39;00m\u001b[38;5;124m\"\u001b[39m, cafile)\n\u001b[1;32m--> 147\u001b[0m     \u001b[43mcontext\u001b[49m\u001b[38;5;241;43m.\u001b[39;49m\u001b[43mload_verify_locations\u001b[49m\u001b[43m(\u001b[49m\u001b[43mcafile\u001b[49m\u001b[38;5;241;43m=\u001b[39;49m\u001b[43mcafile\u001b[49m\u001b[43m)\u001b[49m\n\u001b[0;32m    148\u001b[0m \u001b[38;5;28;01melif\u001b[39;00m ca_bundle_path\u001b[38;5;241m.\u001b[39mis_dir():\n\u001b[0;32m    149\u001b[0m     capath \u001b[38;5;241m=\u001b[39m \u001b[38;5;28mstr\u001b[39m(ca_bundle_path)\n",
      "\u001b[1;31mKeyboardInterrupt\u001b[0m: "
     ]
    }
   ],
   "source": [
    "# 拆分为 800 字一段的段落\n",
    "import jieba\n",
    "\n",
    "for i in range(len(novel_data)):\n",
    "    data = novel_data[i][\"text\"]\n",
    "    story_name = novel_data[i][\"name\"]\n",
    "    print(len(data))\n",
    "\n",
    "    # 利用jieba进行句子切分\n",
    "    sentences = []\n",
    "\n",
    "    for sentence in data.split('。'):  # 使用句号作为切分符\n",
    "        sentences.append(sentence)\n",
    "\n",
    "    # 将句子合并成800字一段的段落\n",
    "    paragraphs = []\n",
    "    current_paragraph = ''\n",
    "    for sentence in sentences:\n",
    "        if len(current_paragraph) + len(sentence) <= 800:\n",
    "            current_paragraph += sentence+'。'\n",
    "        else:\n",
    "            paragraphs.append(current_paragraph.strip())\n",
    "            current_paragraph = sentence\n",
    "\n",
    "    # 将最后一段加入到段落列表中\n",
    "    if current_paragraph:\n",
    "        paragraphs.append(current_paragraph.strip())\n",
    "\n",
    "    # 打印切分后的段落\n",
    "    # for idx, paragraph in enumerate(paragraphs):\n",
    "    #     print(f'段落 {idx + 1}: {paragraph}')\n",
    "    print(len(paragraphs))\n",
    "    # 开始给段落打标签\n",
    "    dataset = build_dataset(story_name,paragraphs[:len(paragraphs)])"
   ]
  },
  {
   "cell_type": "markdown",
   "metadata": {},
   "source": [
    "## 2.4 数据合并\n",
    "由于采用多个小说数据进行模型微调，所以将data下的所有json数据文件合并成dataset文件夹下的`merged_story.json`文件"
   ]
  },
  {
   "cell_type": "code",
   "execution_count": null,
   "metadata": {},
   "outputs": [],
   "source": [
    "import json\n",
    "import os\n",
    "\n",
    "# 设置文件夹路径\n",
    "directory_path = './data'\n",
    "\n",
    "# 初始化一个空列表，用于存储合并后的数据\n",
    "merged_data = []\n",
    "\n",
    "# 遍历文件夹下的所有文件\n",
    "for filename in os.listdir(directory_path):\n",
    "    # 检查文件扩展名是否为.json\n",
    "    if filename.endswith('.json'):\n",
    "        # 构建文件的完整路径\n",
    "        file_path = os.path.join(directory_path, filename)\n",
    "        # 打开并读取JSON文件\n",
    "        with open(file_path, 'r', encoding='utf-8') as file:\n",
    "            # 加载JSON内容到变量\n",
    "            data = json.load(file)\n",
    "            # 将当前文件的数据添加到合并列表中\n",
    "            merged_data.extend(data)\n",
    "\n",
    "# 将合并后的数据转换为JSON格式\n",
    "merged_json = json.dumps(merged_data, ensure_ascii=False, indent=4)\n",
    "\n",
    "# 可以选择将合并后的数据写入到一个新的JSON文件中\n",
    "output_file_path = './dataset/merged_story.json'\n",
    "with open(output_file_path, 'w', encoding='utf-8') as file:\n",
    "    file.write(merged_json)\n",
    "\n",
    "# 或者直接输出到控制台\n",
    "# print(merged_json)"
   ]
  },
  {
   "cell_type": "markdown",
   "metadata": {},
   "source": [
    "## 2.5 处理数据集"
   ]
  },
  {
   "cell_type": "code",
   "execution_count": null,
   "metadata": {},
   "outputs": [],
   "source": [
    "import pandas as pd\n",
    "from datasets import Dataset\n",
    "from transformers import AutoTokenizer, AutoModelForCausalLM, DataCollatorForSeq2Seq, TrainingArguments, Trainer, GenerationConfig"
   ]
  },
  {
   "cell_type": "code",
   "execution_count": null,
   "metadata": {},
   "outputs": [],
   "source": [
    "# 将JSON文件转换为CSV文件\n",
    "df = pd.read_json('./dataset/merged_story.json')\n",
    "# df = pd.read_json('./data/story/呼啸山庄.json')\n",
    "ds = Dataset.from_pandas(df)"
   ]
  },
  {
   "cell_type": "code",
   "execution_count": null,
   "metadata": {},
   "outputs": [],
   "source": [
    "print(ds[:3])  # 查看一条数据\n",
    "print(len(ds)) # 呼啸山庄.json, 总共84条微调指令数据, 如果采用merged_story.json，共9990条"
   ]
  },
  {
   "cell_type": "markdown",
   "metadata": {},
   "source": []
  }
 ],
 "metadata": {
  "kernelspec": {
   "display_name": "Python(langchain)",
   "language": "python",
   "name": "langchain"
  },
  "language_info": {
   "codemirror_mode": {
    "name": "ipython",
    "version": 3
   },
   "file_extension": ".py",
   "mimetype": "text/x-python",
   "name": "python",
   "nbconvert_exporter": "python",
   "pygments_lexer": "ipython3",
   "version": "3.10.13"
  }
 },
 "nbformat": 4,
 "nbformat_minor": 2
}
