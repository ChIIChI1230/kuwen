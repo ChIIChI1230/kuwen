{
 "cells": [
  {
   "cell_type": "code",
   "execution_count": 1,
   "id": "initial_id",
   "metadata": {
    "collapsed": true,
    "ExecuteTime": {
     "end_time": "2024-06-25T04:09:43.320903800Z",
     "start_time": "2024-06-25T04:09:43.312666700Z"
    }
   },
   "outputs": [],
   "source": [
    "import re"
   ]
  },
  {
   "cell_type": "code",
   "execution_count": 21,
   "outputs": [],
   "source": [
    "text = \"\"\"\n",
    "　　关键词：剪 彩\n",
    "\n",
    "　　炊事班士兵和头盔\n",
    "\n",
    "\n",
    "\"\"\""
   ],
   "metadata": {
    "collapsed": false,
    "ExecuteTime": {
     "end_time": "2024-06-25T04:30:01.469339700Z",
     "start_time": "2024-06-25T04:30:01.449355700Z"
    }
   },
   "id": "6a2e4f6a1b643e79"
  },
  {
   "cell_type": "code",
   "execution_count": 18,
   "outputs": [],
   "source": [
    "text = re.sub(r'20(.*?)本期责任编辑的信箱是', '', text, flags=re.DOTALL)"
   ],
   "metadata": {
    "collapsed": false,
    "ExecuteTime": {
     "end_time": "2024-06-25T04:22:26.616596Z",
     "start_time": "2024-06-25T04:22:26.609583600Z"
    }
   },
   "id": "1384e2ad0c516ef8"
  },
  {
   "cell_type": "code",
   "execution_count": 23,
   "outputs": [],
   "source": [
    "text = re.sub(r'关键词.*?\\n', '', text)"
   ],
   "metadata": {
    "collapsed": false,
    "ExecuteTime": {
     "end_time": "2024-06-25T04:31:04.246014600Z",
     "start_time": "2024-06-25T04:31:04.234003800Z"
    }
   },
   "id": "4ae4e1f9bb1971ac"
  },
  {
   "cell_type": "code",
   "execution_count": 22,
   "outputs": [
    {
     "data": {
      "text/plain": "'\\n\\u3000\\u3000关键词：剪 彩\\n\\n\\u3000\\u3000炊事班士兵和头盔\\n\\n\\n'"
     },
     "execution_count": 22,
     "metadata": {},
     "output_type": "execute_result"
    }
   ],
   "source": [
    "text"
   ],
   "metadata": {
    "collapsed": false,
    "ExecuteTime": {
     "end_time": "2024-06-25T04:30:02.893054Z",
     "start_time": "2024-06-25T04:30:02.729815Z"
    }
   },
   "id": "c6a1c78c788b5221"
  },
  {
   "cell_type": "code",
   "execution_count": 24,
   "outputs": [
    {
     "data": {
      "text/plain": "'\\n\\u3000\\u3000\\n\\u3000\\u3000炊事班士兵和头盔\\n\\n\\n'"
     },
     "execution_count": 24,
     "metadata": {},
     "output_type": "execute_result"
    }
   ],
   "source": [
    "text"
   ],
   "metadata": {
    "collapsed": false,
    "ExecuteTime": {
     "end_time": "2024-06-25T04:31:12.051246100Z",
     "start_time": "2024-06-25T04:31:12.034918200Z"
    }
   },
   "id": "dc3a0f9ee6e42fdd"
  },
  {
   "cell_type": "code",
   "execution_count": 9,
   "outputs": [],
   "source": [
    "cleaned_text = re.sub(r'[ \\t\\u3000]+', '', text)"
   ],
   "metadata": {
    "collapsed": false,
    "ExecuteTime": {
     "end_time": "2024-06-25T04:14:39.759715600Z",
     "start_time": "2024-06-25T04:14:39.723246900Z"
    }
   },
   "id": "d18a581033431569"
  },
  {
   "cell_type": "code",
   "execution_count": 10,
   "outputs": [
    {
     "data": {
      "text/plain": "'于是，曹鸿文带着胡世奎，往县城匆匆而去……\\n\\n\\n[1]\\n\\n[2]\\n\\n[3]4\\n\\n\\n\\n\\n一枚偶得的铜钱，改写了一个人的命运'"
     },
     "execution_count": 10,
     "metadata": {},
     "output_type": "execute_result"
    }
   ],
   "source": [
    "cleaned_text"
   ],
   "metadata": {
    "collapsed": false,
    "ExecuteTime": {
     "end_time": "2024-06-25T04:14:40.057345200Z",
     "start_time": "2024-06-25T04:14:40.052798Z"
    }
   },
   "id": "dedd009ff48ecb2a"
  },
  {
   "cell_type": "code",
   "execution_count": null,
   "outputs": [],
   "source": [],
   "metadata": {
    "collapsed": false
   },
   "id": "965e5abfc0aad7a9"
  }
 ],
 "metadata": {
  "kernelspec": {
   "display_name": "Python 3",
   "language": "python",
   "name": "python3"
  },
  "language_info": {
   "codemirror_mode": {
    "name": "ipython",
    "version": 2
   },
   "file_extension": ".py",
   "mimetype": "text/x-python",
   "name": "python",
   "nbconvert_exporter": "python",
   "pygments_lexer": "ipython2",
   "version": "2.7.6"
  }
 },
 "nbformat": 4,
 "nbformat_minor": 5
}
